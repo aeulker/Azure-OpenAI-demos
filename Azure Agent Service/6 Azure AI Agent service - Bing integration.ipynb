{
 "cells": [
  {
   "cell_type": "markdown",
   "id": "431cc026-279f-4105-8444-f1b93650da0d",
   "metadata": {},
   "source": [
    "# Azure AI Agent service - Bing integration\n",
    "\n",
    "<img src=\"https://learn.microsoft.com/en-us/azure/ai-services/agents/media/agent-service-the-glue.png\" width=800>\n",
    "\n",
    "> https://learn.microsoft.com/en-us/azure/ai-services/agents/"
   ]
  },
  {
   "cell_type": "code",
   "execution_count": 1,
   "id": "22eab459-0adb-42c1-86dd-ee4cdfb77c8a",
   "metadata": {},
   "outputs": [],
   "source": [
    "import datetime\n",
    "import os\n",
    "import sys\n",
    "import time\n",
    "\n",
    "from azure.ai.agents import AgentsClient\n",
    "from azure.ai.agents.models import BingGroundingTool, MessageRole, ListSortOrder\n",
    "from azure.identity import DefaultAzureCredential\n",
    "from dotenv import load_dotenv"
   ]
  },
  {
   "cell_type": "code",
   "execution_count": 2,
   "id": "65334de7-4005-401a-89c1-be24f75abbd9",
   "metadata": {},
   "outputs": [
    {
     "data": {
      "text/plain": [
       "True"
      ]
     },
     "execution_count": 2,
     "metadata": {},
     "output_type": "execute_result"
    }
   ],
   "source": [
    "load_dotenv(\"azure.env\")"
   ]
  },
  {
   "cell_type": "code",
   "execution_count": 3,
   "id": "92834c8e-8efd-40c9-b599-33e6fb95516e",
   "metadata": {},
   "outputs": [
    {
     "name": "stdout",
     "output_type": "stream",
     "text": [
      "Today is 16-Jun-2025 14:31:50\n"
     ]
    }
   ],
   "source": [
    "print(f\"Today is {datetime.datetime.today().strftime('%d-%b-%Y %H:%M:%S')}\")"
   ]
  },
  {
   "cell_type": "markdown",
   "id": "54fa0903-f907-4c7f-a51b-4893d15ff371",
   "metadata": {},
   "source": [
    "## Grounding Bing Search"
   ]
  },
  {
   "cell_type": "code",
   "execution_count": 4,
   "id": "76c7bbb7-0faa-4500-ba42-7c5b176f6196",
   "metadata": {},
   "outputs": [],
   "source": [
    "project_client = AgentsClient(\n",
    "    endpoint=os.getenv(\"PROJECT_ENDPOINT\"),\n",
    "    credential=DefaultAzureCredential(),\n",
    ")"
   ]
  },
  {
   "cell_type": "markdown",
   "id": "e31b2d3a",
   "metadata": {},
   "source": [
    "### Create connection to bing grounding service"
   ]
  },
  {
   "cell_type": "code",
   "execution_count": 5,
   "id": "4fd3e38c-22c7-4d57-9471-09a115f09477",
   "metadata": {},
   "outputs": [],
   "source": [
    "# Shoud be: /subscriptions/<subscription_id>/resourceGroups/<resource_group_name>/providers/Microsoft.CognitiveServices/accounts/<ai_service_name>/projects/<project_name>/con#nections/<connection_name>\n",
    "BING_CONN_ID = os.getenv(\"BING_CONN_ID\")"
   ]
  },
  {
   "cell_type": "code",
   "execution_count": 6,
   "id": "5c20b2ef-e913-4dc0-8bdf-116772d8fc9a",
   "metadata": {},
   "outputs": [
    {
     "data": {
      "text/plain": [
       "<azure.ai.agents.models._patch.BingGroundingTool at 0x7fbace5d4a60>"
      ]
     },
     "execution_count": 6,
     "metadata": {},
     "output_type": "execute_result"
    }
   ],
   "source": [
    "bing = BingGroundingTool(connection_id=BING_CONN_ID)\n",
    "bing"
   ]
  },
  {
   "cell_type": "markdown",
   "id": "1db5f5d1",
   "metadata": {},
   "source": [
    "### Create agent with Bing Grounding tool"
   ]
  },
  {
   "cell_type": "code",
   "execution_count": 7,
   "id": "f85e9d94-49a7-4d4e-a0ea-f64987951cb4",
   "metadata": {},
   "outputs": [
    {
     "name": "stdout",
     "output_type": "stream",
     "text": [
      "Created agent, ID: asst_6zJwGhgIjfV5eE2hKNLwZ3Dg\n"
     ]
    }
   ],
   "source": [
    "# Create the agent with the Bing grounding tool\n",
    "instructions = \"You are an AI Agent that can do some web search using Bing\"\n",
    "\n",
    "agent = project_client.create_agent(\n",
    "    model=\"gpt-4o\",\n",
    "    temperature=0.7,\n",
    "    name=\"Bing-grounding-agent-demo\",\n",
    "    instructions=instructions,\n",
    "    tools=bing.definitions,\n",
    "    headers={\"x-ms-enable-preview\": \"true\"},\n",
    "    description=\"Agent with Grounding Bing Search\",\n",
    "    )\n",
    "\n",
    "print(f\"Created agent, ID: {agent.id}\")"
   ]
  },
  {
   "cell_type": "markdown",
   "id": "e037d937",
   "metadata": {},
   "source": [
    "### Example 1"
   ]
  },
  {
   "cell_type": "code",
   "execution_count": 9,
   "id": "411697dc-ec6b-4d80-8871-6d10003084d6",
   "metadata": {},
   "outputs": [],
   "source": [
    "prompt = \"What is the current price of the MICROSOFT stock in USD?\""
   ]
  },
  {
   "cell_type": "code",
   "execution_count": 10,
   "id": "87d18c42-dbea-406f-bdd1-3382602bb375",
   "metadata": {},
   "outputs": [
    {
     "name": "stdout",
     "output_type": "stream",
     "text": [
      "🧵 [1] Created thread | ID: thread_RnfMvolLjdIgvXC4hhsDhJlR\n",
      "💬 [2] Created message | ID: msg_pamV8rMqhBlEAAzpyMQKWjLi\n",
      "🏃 [3] Created run | ID: run_CD6eu3S2SlJ4JBoP7PzBCtbo\n",
      "⏳ [4] Polling run status...\n",
      "🔄 Status: in_progress\n",
      "🔄 Status: completed\n",
      "\n",
      "🤖 [5] Agent responses:\n",
      "\u001b[1;34m\n",
      "💡 → What is the current price of the MICROSOFT stock in USD?\n",
      "\u001b[1;34m\n",
      "💡 → As of June 5, 2025, the closing stock price for Microsoft (MSFT) is $467.68 USD【3:0†source】【3:1†source】.\n",
      "\u001b[1;32m\n",
      "🔗 URL Citation: [Microsoft Corporation (MSFT) Stock Historical Prices & Data - Yahoo Finance](https://finance.yahoo.com/quote/MSFT/history/)\n",
      "🔗 URL Citation: [Microsoft (MSFT) Historical Stock Price Data - Stock Analysis](https://stockanalysis.com/stocks/msft/history/)\n",
      "\u001b[0m\n"
     ]
    }
   ],
   "source": [
    "# Step 1: Create a thread\n",
    "thread = project_client.threads.create()\n",
    "print(f\"🧵 [1] Created thread | ID: {thread.id}\")\n",
    "\n",
    "# Step 2: Send the user's message\n",
    "message = project_client.messages.create(thread_id=thread.id,\n",
    "                                         role=\"user\",\n",
    "                                         content=prompt)\n",
    "print(f\"💬 [2] Created message | ID: {message.id}\")\n",
    "\n",
    "# Step 3: Start a run\n",
    "run = project_client.runs.create(thread_id=thread.id,\n",
    "                                 agent_id=agent.id)\n",
    "print(f\"🏃 [3] Created run | ID: {run.id}\")\n",
    "\n",
    "# Step 4: Poll run status\n",
    "print(\"⏳ [4] Polling run status...\")\n",
    "while run.status in {\"queued\", \"in_progress\", \"requires_action\"}:\n",
    "    time.sleep(1)\n",
    "    run = project_client.runs.get(thread_id=thread.id, run_id=run.id)\n",
    "    print(f\"🔄 Status: {run.status}\")\n",
    "\n",
    "    if run.status == \"failed\":\n",
    "        print(f\"❌ Run failed | Error: {run.last_error}\")\n",
    "        break\n",
    "\n",
    "# Step 5: Display agent responses\n",
    "print(\"\\n🤖 [5] Agent responses:\")\n",
    "messages = project_client.messages.list(thread_id=thread.id,\n",
    "                                        order=ListSortOrder.ASCENDING)\n",
    "\n",
    "for msg in messages:\n",
    "    print(\"\\033[1;34m\")  # Blue text for agent messages\n",
    "    if msg.text_messages:\n",
    "        for text_message in msg.text_messages:\n",
    "            print(f\"💡 → {text_message.text.value}\")\n",
    "    if msg.url_citation_annotations:\n",
    "        print(\"\\033[1;32m\")  # Green text for citations\n",
    "        for annotation in msg.url_citation_annotations:\n",
    "            print(\n",
    "                f\"🔗 URL Citation: [{annotation.url_citation.title}]({annotation.url_citation.url})\"\n",
    "            )\n",
    "\n",
    "print(\"\\033[0m\")  # Reset color"
   ]
  },
  {
   "cell_type": "markdown",
   "id": "c7cf6b14",
   "metadata": {},
   "source": [
    "### Example 2"
   ]
  },
  {
   "cell_type": "code",
   "execution_count": 11,
   "id": "547a800a-7563-4a01-a846-c9953b31378a",
   "metadata": {},
   "outputs": [],
   "source": [
    "prompt = \"What are the latest news about the Apple WWDC event?\""
   ]
  },
  {
   "cell_type": "code",
   "execution_count": 12,
   "id": "82af2e46-786b-452a-ac39-cc2578eb0d22",
   "metadata": {},
   "outputs": [
    {
     "name": "stdout",
     "output_type": "stream",
     "text": [
      "🧵 [1] Created thread | ID: thread_JOAVaw3MttbJri2UCaHta7YA\n",
      "💬 [2] Created message | ID: msg_0bhGBm9Krzuk1Z1C3l0y0oY0\n",
      "🏃 [3] Created run | ID: run_O3EMmAXlARoCR6yLOhkgJQ2i\n",
      "⏳ [4] Polling run status...\n",
      "🔄 Status: in_progress\n",
      "🔄 Status: in_progress\n",
      "🔄 Status: completed\n",
      "\n",
      "🤖 [5] Agent responses:\n",
      "\u001b[1;34m\n",
      "💡 → What are the latest news about the Apple WWDC event?\n",
      "\u001b[1;34m\n",
      "💡 → The latest updates from Apple's WWDC (Worldwide Developers Conference) 2025 include several major announcements:\n",
      "\n",
      "1. **Software Updates**:\n",
      "   - Apple introduced iOS 26, featuring a redesigned interface, new Live Translation capabilities, and a Liquid Glass UI.\n",
      "   - VisionOS 26 for the Vision Pro headset focuses on \"spatial experiences\" with customizable widgets and an immersive media environment.\n",
      "   - iPadOS 26 now includes a proper windowing system for multitasking, resembling a lightweight laptop experience.\n",
      "\n",
      "2. **AI and Intelligence Features**:\n",
      "   - Updates to Apple Intelligence, including AI-powered features across its ecosystem such as Siri enhancements and a Workout Buddy feature on WatchOS.\n",
      "\n",
      "3. **Apple Maps and iMessage**:\n",
      "   - Apple Maps received a refresh, and iMessage gained several new features.\n",
      "\n",
      "4. **General Event Highlights**:\n",
      "   - The event primarily centers on software innovations with no significant hardware announcements【3:0†source】【3:1†source】【3:2†source】.\n",
      "\u001b[1;32m\n",
      "🔗 URL Citation: [Apple WWDC 2025: the 13 biggest announcements](https://www.theverge.com/news/682769/apple-wwdc-2025-biggest-announcements-ios-26)\n",
      "🔗 URL Citation: [Apple WWDC 2025 live updates: iOS 26 has arrived | Mashable](https://mashable.com/live/apple-wwdc-2025-keynote-announcements-live-blog)\n",
      "🔗 URL Citation: [Apple WWDC 2025 — everything to expect and latest news](https://www.tomsguide.com/phones/iphones/wwdc-2025-preview-these-are-the-6-rumored-announcements-that-excite-me-the-most)\n",
      "\u001b[0m\n"
     ]
    }
   ],
   "source": [
    "# Step 1: Create a thread\n",
    "thread = project_client.threads.create()\n",
    "print(f\"🧵 [1] Created thread | ID: {thread.id}\")\n",
    "\n",
    "# Step 2: Send the user's message\n",
    "message = project_client.messages.create(thread_id=thread.id,\n",
    "                                         role=\"user\",\n",
    "                                         content=prompt)\n",
    "print(f\"💬 [2] Created message | ID: {message.id}\")\n",
    "\n",
    "# Step 3: Start a run\n",
    "run = project_client.runs.create(thread_id=thread.id,\n",
    "                                 agent_id=agent.id)\n",
    "print(f\"🏃 [3] Created run | ID: {run.id}\")\n",
    "\n",
    "# Step 4: Poll run status\n",
    "print(\"⏳ [4] Polling run status...\")\n",
    "while run.status in {\"queued\", \"in_progress\", \"requires_action\"}:\n",
    "    time.sleep(1)\n",
    "    run = project_client.runs.get(thread_id=thread.id, run_id=run.id)\n",
    "    print(f\"🔄 Status: {run.status}\")\n",
    "\n",
    "    if run.status == \"failed\":\n",
    "        print(f\"❌ Run failed | Error: {run.last_error}\")\n",
    "        break\n",
    "\n",
    "# Step 5: Display agent responses\n",
    "print(\"\\n🤖 [5] Agent responses:\")\n",
    "messages = project_client.messages.list(thread_id=thread.id,\n",
    "                                        order=ListSortOrder.ASCENDING)\n",
    "\n",
    "for msg in messages:\n",
    "    print(\"\\033[1;34m\")  # Blue text for agent messages\n",
    "    if msg.text_messages:\n",
    "        for text_message in msg.text_messages:\n",
    "            print(f\"💡 → {text_message.text.value}\")\n",
    "    if msg.url_citation_annotations:\n",
    "        print(\"\\033[1;32m\")  # Green text for citations\n",
    "        for annotation in msg.url_citation_annotations:\n",
    "            print(\n",
    "                f\"🔗 URL Citation: [{annotation.url_citation.title}]({annotation.url_citation.url})\"\n",
    "            )\n",
    "\n",
    "print(\"\\033[0m\")  # Reset color"
   ]
  },
  {
   "cell_type": "markdown",
   "id": "8953bb8f",
   "metadata": {},
   "source": [
    "### Example 3"
   ]
  },
  {
   "cell_type": "code",
   "execution_count": 13,
   "id": "06f3df88-e34c-4e75-a765-8b72073517e1",
   "metadata": {},
   "outputs": [],
   "source": [
    "prompt = \"What are the weather informations for Paris? Show the report and use emojis and be funny\""
   ]
  },
  {
   "cell_type": "code",
   "execution_count": 14,
   "id": "309fc9a7-ab92-4bf8-a65a-5dcf650cd57a",
   "metadata": {},
   "outputs": [
    {
     "name": "stdout",
     "output_type": "stream",
     "text": [
      "🧵 [1] Created thread | ID: thread_vG9a1LAK2VzNdPnoYMBhSc5f\n",
      "💬 [2] Created message | ID: msg_iAgkDSnEpltgHZbcE4jL0T7x\n",
      "🏃 [3] Created run | ID: run_mAOH4lmDTQ9BQvt99lGqdB65\n",
      "⏳ [4] Polling run status...\n",
      "🔄 Status: in_progress\n",
      "🔄 Status: in_progress\n",
      "🔄 Status: in_progress\n",
      "🔄 Status: completed\n",
      "\n",
      "🤖 [5] Agent responses:\n",
      "\u001b[1;34m\n",
      "💡 → What are the weather informations for Paris? Show the report and use emojis and be funny\n",
      "\u001b[1;34m\n",
      "💡 → Bonjour from Paris! Here's your weather report for today, June 12, 2025, with a sprinkle of humor and emojis:\n",
      "\n",
      "🌡️ **Temperature**: A toasty 84°F (29°C) in the day and a cozy 68°F (20°C) at night. It's hot enough to melt your croissant! 🥐🔥  \n",
      "☀️ **Sky**: Clear and sunny—time to break out the berets and shades! 😎🧢  \n",
      "💧 **Rain**: Not a drop in sight, so your Eiffel Tower selfies are safe. 📸✨  \n",
      "🌬️ **Wind**: Gentle breezes caressing your face at around 6 mph, perfect for a stroll on the Seine. 🌬️🚶‍♂️  \n",
      "\n",
      "Enjoy the city of lights with the perfect weather to match! 🌟🇫🇷【3:0†source】\n",
      "\u001b[1;32m\n",
      "🔗 URL Citation: [Weather in Paris in June 2025 (Île-de-France) - Detailed Weather ...](https://world-weather.info/forecast/france/paris/june-2025/)\n",
      "\u001b[0m\n"
     ]
    }
   ],
   "source": [
    "# Step 1: Create a thread\n",
    "thread = project_client.threads.create()\n",
    "print(f\"🧵 [1] Created thread | ID: {thread.id}\")\n",
    "\n",
    "# Step 2: Send the user's message\n",
    "message = project_client.messages.create(thread_id=thread.id,\n",
    "                                         role=\"user\",\n",
    "                                         content=prompt)\n",
    "print(f\"💬 [2] Created message | ID: {message.id}\")\n",
    "\n",
    "# Step 3: Start a run\n",
    "run = project_client.runs.create(thread_id=thread.id,\n",
    "                                 agent_id=agent.id)\n",
    "print(f\"🏃 [3] Created run | ID: {run.id}\")\n",
    "\n",
    "# Step 4: Poll run status\n",
    "print(\"⏳ [4] Polling run status...\")\n",
    "while run.status in {\"queued\", \"in_progress\", \"requires_action\"}:\n",
    "    time.sleep(1)\n",
    "    run = project_client.runs.get(thread_id=thread.id, run_id=run.id)\n",
    "    print(f\"🔄 Status: {run.status}\")\n",
    "\n",
    "    if run.status == \"failed\":\n",
    "        print(f\"❌ Run failed | Error: {run.last_error}\")\n",
    "        break\n",
    "\n",
    "# Step 5: Display agent responses\n",
    "print(\"\\n🤖 [5] Agent responses:\")\n",
    "messages = project_client.messages.list(thread_id=thread.id,\n",
    "                                        order=ListSortOrder.ASCENDING)\n",
    "\n",
    "for msg in messages:\n",
    "    print(\"\\033[1;34m\")  # Blue text for agent messages\n",
    "    if msg.text_messages:\n",
    "        for text_message in msg.text_messages:\n",
    "            print(f\"💡 → {text_message.text.value}\")\n",
    "    if msg.url_citation_annotations:\n",
    "        print(\"\\033[1;32m\")  # Green text for citations\n",
    "        for annotation in msg.url_citation_annotations:\n",
    "            print(\n",
    "                f\"🔗 URL Citation: [{annotation.url_citation.title}]({annotation.url_citation.url})\"\n",
    "            )\n",
    "\n",
    "print(\"\\033[0m\")  # Reset color"
   ]
  },
  {
   "cell_type": "markdown",
   "id": "199e0a0f-6661-4edd-aecb-8e4cf29f9800",
   "metadata": {},
   "source": [
    "### Example 4"
   ]
  },
  {
   "cell_type": "code",
   "execution_count": 15,
   "id": "303ef011-813d-4f11-b313-8d0aa9c1b323",
   "metadata": {},
   "outputs": [],
   "source": [
    "prompt = \"What can you tell about Roland Garros 2025?\""
   ]
  },
  {
   "cell_type": "code",
   "execution_count": 16,
   "id": "626eed11-acf8-49e4-ae3c-b27058c90b5c",
   "metadata": {},
   "outputs": [
    {
     "name": "stdout",
     "output_type": "stream",
     "text": [
      "🧵 [1] Created thread | ID: thread_5igZ6KIJg5jVrdxorqNuQyS4\n",
      "💬 [2] Created message | ID: msg_2qFtcT5HGO6vCeT21xzWSi4N\n",
      "🏃 [3] Created run | ID: run_gaowKXZDPLc8aSJQ4kTm3V4E\n",
      "⏳ [4] Polling run status...\n",
      "🔄 Status: in_progress\n",
      "🔄 Status: in_progress\n",
      "🔄 Status: in_progress\n",
      "🔄 Status: completed\n",
      "\n",
      "🤖 [5] Agent responses:\n",
      "\u001b[1;34m\n",
      "💡 → What can you tell about Roland Garros 2025?\n",
      "\u001b[1;34m\n",
      "💡 → Roland Garros 2025, also known as the French Open, concluded on June 8, 2025. It featured top players from around the world on the iconic clay courts of Stade Roland Garros in Paris, France. Highlights include Carlos Alcaraz's victory in the men's final over Jannik Sinner, marking another milestone in his career. Coco Gauff claimed the women's singles title, securing her second Grand Slam win. Notable doubles performances included Alfie Hewett and Gordon Reid, who achieved their sixth consecutive men's wheelchair doubles title at Roland Garros【3:0†source】【3:1†source】【3:4†source】.\n",
      "\n",
      "Let me know if you'd like more detailed insights into specific matches or player performances!\n",
      "\u001b[1;32m\n",
      "🔗 URL Citation: [Latest news - Roland-Garros 2025 - The official site](https://www.rolandgarros.com/en-us/latest-news)\n",
      "🔗 URL Citation: [Roland Garros 2025 – French Open Schedule, Results & Predictions](https://rolandgarrosin.com/en/)\n",
      "🔗 URL Citation: [Roland Garros 2025: Results & updates | LTA](https://www.lta.org.uk/fan-zone/roland-garros/news/2025-results-updates/)\n",
      "\u001b[0m\n"
     ]
    }
   ],
   "source": [
    "# Step 1: Create a thread\n",
    "thread = project_client.threads.create()\n",
    "print(f\"🧵 [1] Created thread | ID: {thread.id}\")\n",
    "\n",
    "# Step 2: Send the user's message\n",
    "message = project_client.messages.create(thread_id=thread.id,\n",
    "                                         role=\"user\",\n",
    "                                         content=prompt)\n",
    "print(f\"💬 [2] Created message | ID: {message.id}\")\n",
    "\n",
    "# Step 3: Start a run\n",
    "run = project_client.runs.create(thread_id=thread.id,\n",
    "                                 agent_id=agent.id)\n",
    "print(f\"🏃 [3] Created run | ID: {run.id}\")\n",
    "\n",
    "# Step 4: Poll run status\n",
    "print(\"⏳ [4] Polling run status...\")\n",
    "while run.status in {\"queued\", \"in_progress\", \"requires_action\"}:\n",
    "    time.sleep(1)\n",
    "    run = project_client.runs.get(thread_id=thread.id, run_id=run.id)\n",
    "    print(f\"🔄 Status: {run.status}\")\n",
    "\n",
    "    if run.status == \"failed\":\n",
    "        print(f\"❌ Run failed | Error: {run.last_error}\")\n",
    "        break\n",
    "\n",
    "# Step 5: Display agent responses\n",
    "print(\"\\n🤖 [5] Agent responses:\")\n",
    "messages = project_client.messages.list(thread_id=thread.id,\n",
    "                                        order=ListSortOrder.ASCENDING)\n",
    "\n",
    "for msg in messages:\n",
    "    print(\"\\033[1;34m\")  # Blue text for agent messages\n",
    "    if msg.text_messages:\n",
    "        for text_message in msg.text_messages:\n",
    "            print(f\"💡 → {text_message.text.value}\")\n",
    "    if msg.url_citation_annotations:\n",
    "        print(\"\\033[1;32m\")  # Green text for citations\n",
    "        for annotation in msg.url_citation_annotations:\n",
    "            print(\n",
    "                f\"🔗 URL Citation: [{annotation.url_citation.title}]({annotation.url_citation.url})\"\n",
    "            )\n",
    "\n",
    "print(\"\\033[0m\")  # Reset color"
   ]
  },
  {
   "cell_type": "markdown",
   "id": "e193596e-a040-4119-a974-31c54d0536f5",
   "metadata": {},
   "source": [
    "## Example 5"
   ]
  },
  {
   "cell_type": "code",
   "execution_count": 17,
   "id": "89d6cbf6-51c2-4dcb-8926-9b88f8eafbf9",
   "metadata": {},
   "outputs": [],
   "source": [
    "prompt = \"Who won at the Cannes festival in 2025?\""
   ]
  },
  {
   "cell_type": "code",
   "execution_count": 18,
   "id": "99705835-6b5c-4cfc-a70d-052fa522eeb5",
   "metadata": {},
   "outputs": [
    {
     "name": "stdout",
     "output_type": "stream",
     "text": [
      "🧵 [1] Created thread | ID: thread_E3DbVcgt07RgLC3I2EuB4PQi\n",
      "💬 [2] Created message | ID: msg_V5sFqIpwaVajWgDMqAqzbVSM\n",
      "🏃 [3] Created run | ID: run_KdIj3zHxApzjNTjT3sP29VHE\n",
      "⏳ [4] Polling run status...\n",
      "🔄 Status: in_progress\n",
      "🔄 Status: in_progress\n",
      "🔄 Status: completed\n",
      "\n",
      "🤖 [5] Agent responses:\n",
      "\u001b[1;34m\n",
      "💡 → Who won at the Cannes festival in 2025?\n",
      "\u001b[1;34m\n",
      "💡 → The Palme d'Or, the top prize at the 2025 Cannes Film Festival, was awarded to Iranian filmmaker Jafar Panahi for his movie *\"It Was Just an Accident.\"* Other notable winners included:\n",
      "\n",
      "- **Grand Prix**: *Sentimental Value* by Joachim Trier.\n",
      "- **Joint Jury Prize**: *Sirât* by Oliver Laxe and *Sound of Falling* by Mascha Schilinski.\n",
      "- **Best Director**: Kleber Mendonça Filho for *The Secret Agent*.\n",
      "- **Best Actress**: Nadia Melliti for *The Little Sister*.\n",
      "- **Best Actor**: Wagner Moura for *The Secret Agent*【3:0†source】【3:2†source】.\n",
      "\u001b[1;32m\n",
      "🔗 URL Citation: [The 78th Festival de Cannes winners’ list](https://www.festival-cannes.com/en/press/press-releases/the-78th-festival-de-cannes-winners-list/)\n",
      "🔗 URL Citation: [2025 Cannes Film Festival: Full List of Winners - THR India](https://www.hollywoodreporterindia.com/features/insight/2025-cannes-film-festival-full-list-of-winners)\n",
      "\u001b[0m\n"
     ]
    }
   ],
   "source": [
    "# Step 1: Create a thread\n",
    "thread = project_client.threads.create()\n",
    "print(f\"🧵 [1] Created thread | ID: {thread.id}\")\n",
    "\n",
    "# Step 2: Send the user's message\n",
    "message = project_client.messages.create(thread_id=thread.id,\n",
    "                                         role=\"user\",\n",
    "                                         content=prompt)\n",
    "print(f\"💬 [2] Created message | ID: {message.id}\")\n",
    "\n",
    "# Step 3: Start a run\n",
    "run = project_client.runs.create(thread_id=thread.id,\n",
    "                                 agent_id=agent.id)\n",
    "print(f\"🏃 [3] Created run | ID: {run.id}\")\n",
    "\n",
    "# Step 4: Poll run status\n",
    "print(\"⏳ [4] Polling run status...\")\n",
    "while run.status in {\"queued\", \"in_progress\", \"requires_action\"}:\n",
    "    time.sleep(1)\n",
    "    run = project_client.runs.get(thread_id=thread.id, run_id=run.id)\n",
    "    print(f\"🔄 Status: {run.status}\")\n",
    "\n",
    "    if run.status == \"failed\":\n",
    "        print(f\"❌ Run failed | Error: {run.last_error}\")\n",
    "        break\n",
    "\n",
    "# Step 5: Display agent responses\n",
    "print(\"\\n🤖 [5] Agent responses:\")\n",
    "messages = project_client.messages.list(thread_id=thread.id,\n",
    "                                        order=ListSortOrder.ASCENDING)\n",
    "\n",
    "for msg in messages:\n",
    "    print(\"\\033[1;34m\")  # Blue text for agent messages\n",
    "    if msg.text_messages:\n",
    "        for text_message in msg.text_messages:\n",
    "            print(f\"💡 → {text_message.text.value}\")\n",
    "    if msg.url_citation_annotations:\n",
    "        print(\"\\033[1;32m\")  # Green text for citations\n",
    "        for annotation in msg.url_citation_annotations:\n",
    "            print(\n",
    "                f\"🔗 URL Citation: [{annotation.url_citation.title}]({annotation.url_citation.url})\"\n",
    "            )\n",
    "\n",
    "print(\"\\033[0m\")  # Reset color"
   ]
  },
  {
   "cell_type": "markdown",
   "id": "6d5f61ac-880e-4394-8e63-6feb8c740eb4",
   "metadata": {},
   "source": [
    "### Post processing"
   ]
  },
  {
   "cell_type": "code",
   "execution_count": 21,
   "id": "478c4dc5-67d4-4bb7-a2a2-fd2fc79ed8c9",
   "metadata": {},
   "outputs": [
    {
     "name": "stdout",
     "output_type": "stream",
     "text": [
      "Agent Details:\n",
      "🆔 ID          : asst_6zJwGhgIjfV5eE2hKNLwZ3Dg\n",
      "📛 Name        : Bing-grounding-agent-demo\n",
      "🧠 Model       : gpt-4o\n",
      "📜 Instructions:You are an AI Agent that can do some web search using Bing\n"
     ]
    }
   ],
   "source": [
    "print(\n",
    "    f\"Agent Details:\\n\"\n",
    "    f\"🆔 ID          : {agent.id}\\n\"\n",
    "    f\"📛 Name        : {agent.name}\\n\"\n",
    "    f\"🧠 Model       : {agent.model}\\n\"\n",
    "    f\"📜 Instructions:{agent.instructions}\"\n",
    ")"
   ]
  },
  {
   "cell_type": "code",
   "execution_count": null,
   "id": "a8d63337-ebde-48f3-b245-29e063a61347",
   "metadata": {},
   "outputs": [],
   "source": [
    "#print(\"Deleting the agent we have created...\")\n",
    "#project_client.delete_agent(agent.id)\n",
    "#print(f\"Deleted agent, agent ID: {agent.id}\")\n",
    "#print(\"Done\")"
   ]
  },
  {
   "cell_type": "code",
   "execution_count": null,
   "id": "81e5ea16-2032-4cb9-8fd3-de69713f4510",
   "metadata": {},
   "outputs": [],
   "source": []
  }
 ],
 "metadata": {
  "kernelspec": {
   "display_name": "Python 3.10 - SDK v2",
   "language": "python",
   "name": "python310-sdkv2"
  },
  "language_info": {
   "codemirror_mode": {
    "name": "ipython",
    "version": 3
   },
   "file_extension": ".py",
   "mimetype": "text/x-python",
   "name": "python",
   "nbconvert_exporter": "python",
   "pygments_lexer": "ipython3",
   "version": "3.10.14"
  },
  "varInspector": {
   "cols": {
    "lenName": 16,
    "lenType": 16,
    "lenVar": 40
   },
   "kernels_config": {
    "python": {
     "delete_cmd_postfix": "",
     "delete_cmd_prefix": "del ",
     "library": "var_list.py",
     "varRefreshCmd": "print(var_dic_list())"
    },
    "r": {
     "delete_cmd_postfix": ") ",
     "delete_cmd_prefix": "rm(",
     "library": "var_list.r",
     "varRefreshCmd": "cat(var_dic_list()) "
    }
   },
   "types_to_exclude": [
    "module",
    "function",
    "builtin_function_or_method",
    "instance",
    "_Feature"
   ],
   "window_display": false
  }
 },
 "nbformat": 4,
 "nbformat_minor": 5
}
