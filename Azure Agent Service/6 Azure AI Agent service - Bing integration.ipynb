{
 "cells": [
  {
   "cell_type": "markdown",
   "id": "431cc026-279f-4105-8444-f1b93650da0d",
   "metadata": {},
   "source": [
    "# Azure AI Agent service - Bing integration\n",
    "\n",
    "<img src=\"agent.jpg\" width=800>\n",
    "<img src=\"foundry.png\" width=800>\n",
    "\n",
    "> https://learn.microsoft.com/en-us/azure/ai-services/agents/"
   ]
  },
  {
   "cell_type": "code",
   "execution_count": 1,
   "id": "d75f0533-95e2-44fe-b8ed-d525b4c25b77",
   "metadata": {},
   "outputs": [],
   "source": [
    "#%pip install azure-ai-projects"
   ]
  },
  {
   "cell_type": "code",
   "execution_count": 2,
   "id": "22eab459-0adb-42c1-86dd-ee4cdfb77c8a",
   "metadata": {},
   "outputs": [],
   "source": [
    "import datetime\n",
    "import os\n",
    "import sys\n",
    "\n",
    "from azure.ai.projects import AIProjectClient\n",
    "from azure.identity import DefaultAzureCredential\n",
    "from azure.ai.projects.models import BingGroundingTool\n",
    "from dotenv import load_dotenv"
   ]
  },
  {
   "cell_type": "code",
   "execution_count": 3,
   "id": "65334de7-4005-401a-89c1-be24f75abbd9",
   "metadata": {},
   "outputs": [
    {
     "data": {
      "text/plain": [
       "True"
      ]
     },
     "execution_count": 3,
     "metadata": {},
     "output_type": "execute_result"
    }
   ],
   "source": [
    "load_dotenv(\"azure.env\")"
   ]
  },
  {
   "cell_type": "code",
   "execution_count": 4,
   "id": "8628712a-0d10-4351-8993-b4c3243f83be",
   "metadata": {},
   "outputs": [
    {
     "data": {
      "text/plain": [
       "'3.10.14 (main, May  6 2024, 19:42:50) [GCC 11.2.0]'"
      ]
     },
     "execution_count": 4,
     "metadata": {},
     "output_type": "execute_result"
    }
   ],
   "source": [
    "sys.version"
   ]
  },
  {
   "cell_type": "code",
   "execution_count": 5,
   "id": "92834c8e-8efd-40c9-b599-33e6fb95516e",
   "metadata": {},
   "outputs": [
    {
     "name": "stdout",
     "output_type": "stream",
     "text": [
      "Today is 12-May-2025 11:35:04\n"
     ]
    }
   ],
   "source": [
    "print(f\"Today is {datetime.datetime.today().strftime('%d-%b-%Y %H:%M:%S')}\")"
   ]
  },
  {
   "cell_type": "markdown",
   "id": "54fa0903-f907-4c7f-a51b-4893d15ff371",
   "metadata": {},
   "source": [
    "## 1. Grounding Bing Search"
   ]
  },
  {
   "cell_type": "code",
   "execution_count": 6,
   "id": "e31e6a61-000f-4d01-9208-df3d491b342a",
   "metadata": {},
   "outputs": [],
   "source": [
    "name = \"Web search agent\"\n",
    "model = \"gpt-4o\"\n",
    "\n",
    "instructions = \"You are an AI Agent that can do some web search using Bing\"\n",
    "connection_name = \"groundingbingsearch\""
   ]
  },
  {
   "cell_type": "markdown",
   "id": "3ac0a60b-b688-4970-ba23-781f2196b75c",
   "metadata": {},
   "source": [
    "### Project client"
   ]
  },
  {
   "cell_type": "code",
   "execution_count": 7,
   "id": "44bdcf24-d563-43a1-9669-06f4cc79bc05",
   "metadata": {},
   "outputs": [],
   "source": [
    "# Create an Azure AI Client from a connection string, copied from your Azure AI Foundry project.\n",
    "# It should be in the format \"<HostName>;<AzureSubscriptionId>;<ResourceGroup>;<HubName>\"\n",
    "# Customers need to login to Azure subscription via Azure CLI and set the environment variables"
   ]
  },
  {
   "cell_type": "code",
   "execution_count": 8,
   "id": "76c7bbb7-0faa-4500-ba42-7c5b176f6196",
   "metadata": {},
   "outputs": [],
   "source": [
    "project_client = AIProjectClient.from_connection_string(\n",
    "    credential=DefaultAzureCredential(),\n",
    "    conn_str=os.getenv(\"PROJECT_CONNECTION_STRING\"),\n",
    ")"
   ]
  },
  {
   "cell_type": "code",
   "execution_count": 25,
   "id": "5c20b2ef-e913-4dc0-8bdf-116772d8fc9a",
   "metadata": {},
   "outputs": [],
   "source": [
    "bing_connection = project_client.connections.get(connection_name=connection_name)\n",
    "conn_id = bing_connection.id\n",
    "\n",
    "# Initialize agent bing tool and add the connection id\n",
    "bing = BingGroundingTool(connection_id=conn_id)"
   ]
  },
  {
   "cell_type": "code",
   "execution_count": 10,
   "id": "f85e9d94-49a7-4d4e-a0ea-f64987951cb4",
   "metadata": {},
   "outputs": [
    {
     "name": "stdout",
     "output_type": "stream",
     "text": [
      "Created agent, ID: asst_XVbiMbDKlrhdCi0XmX2LbXlF\n"
     ]
    }
   ],
   "source": [
    "# Create agent with the bing tool and process assistant run\n",
    "agent = project_client.agents.create_agent(\n",
    "    model=model,\n",
    "    name=name,\n",
    "    instructions=instructions,\n",
    "    tools=bing.definitions,\n",
    "    headers={\"x-ms-enable-preview\": \"true\"}\n",
    ")\n",
    "\n",
    "print(f\"Created agent, ID: {agent.id}\")"
   ]
  },
  {
   "cell_type": "code",
   "execution_count": 11,
   "id": "dd35b8d1-10ce-44a3-8d47-dea2854e73b8",
   "metadata": {},
   "outputs": [
    {
     "name": "stdout",
     "output_type": "stream",
     "text": [
      "Created thread, ID: thread_Nz9H3pXdPN1saN8o4M6W9cZP\n"
     ]
    }
   ],
   "source": [
    "# Create thread for communication\n",
    "thread = project_client.agents.create_thread()\n",
    "print(f\"Created thread, ID: {thread.id}\")"
   ]
  },
  {
   "cell_type": "code",
   "execution_count": 12,
   "id": "411697dc-ec6b-4d80-8871-6d10003084d6",
   "metadata": {},
   "outputs": [],
   "source": [
    "query = \"What are the latest models of OpenAI?\""
   ]
  },
  {
   "cell_type": "code",
   "execution_count": 13,
   "id": "03490def-7224-4253-813f-405f609d33b3",
   "metadata": {},
   "outputs": [
    {
     "name": "stdout",
     "output_type": "stream",
     "text": [
      "Created message, ID: msg_mqGgOdEPYFQEHATcnxFqS4Wx\n"
     ]
    }
   ],
   "source": [
    "# Create message to thread\n",
    "message = project_client.agents.create_message(\n",
    "    thread_id=thread.id,\n",
    "    role=\"user\",\n",
    "    content=query,\n",
    ")\n",
    "\n",
    "print(f\"Created message, ID: {message.id}\")"
   ]
  },
  {
   "cell_type": "code",
   "execution_count": 14,
   "id": "2253f711-afd0-4dc7-8a4b-a90d56ce2e69",
   "metadata": {},
   "outputs": [
    {
     "name": "stdout",
     "output_type": "stream",
     "text": [
      "Run finished with status: completed\n",
      "Last run step detail: [{'id': 'step_FGA2CutJiWncw464RuNbFMuo', 'object': 'thread.run.step', 'created_at': 1747049712, 'run_id': 'run_xoY0UmCiJUIxf2LNSKmFXv2U', 'assistant_id': 'asst_XVbiMbDKlrhdCi0XmX2LbXlF', 'thread_id': 'thread_Nz9H3pXdPN1saN8o4M6W9cZP', 'type': 'message_creation', 'status': 'completed', 'cancelled_at': None, 'completed_at': 1747049713, 'expires_at': None, 'failed_at': None, 'last_error': None, 'step_details': {'type': 'message_creation', 'message_creation': {'message_id': 'msg_uSgFtH6Mhy800ypusbMvXHel'}}, 'usage': {'prompt_tokens': 1460, 'completion_tokens': 75, 'total_tokens': 1535, 'prompt_token_details': {'cached_tokens': 0}}}, {'id': 'step_B31uZA85MCVNZSZZF4OEpc7S', 'object': 'thread.run.step', 'created_at': 1747049711, 'run_id': 'run_xoY0UmCiJUIxf2LNSKmFXv2U', 'assistant_id': 'asst_XVbiMbDKlrhdCi0XmX2LbXlF', 'thread_id': 'thread_Nz9H3pXdPN1saN8o4M6W9cZP', 'type': 'tool_calls', 'status': 'completed', 'cancelled_at': None, 'completed_at': 1747049712, 'expires_at': None, 'failed_at': None, 'last_error': None, 'step_details': {'type': 'tool_calls', 'tool_calls': [{'id': 'call_Yht9RhrgGwdMxERG1xrsZMhK', 'type': 'bing_grounding', 'bing_grounding': {'requesturl': 'https://api.bing.microsoft.com/v7.0/search?q=\"latest models of OpenAI May 2025\"', 'response_metadata': None}}]}, 'usage': {'prompt_tokens': 462, 'completion_tokens': 18, 'total_tokens': 480, 'prompt_token_details': {'cached_tokens': 0}}}]\n",
      "Messages: {'object': 'list', 'data': [{'id': 'msg_uSgFtH6Mhy800ypusbMvXHel', 'object': 'thread.message', 'created_at': 1747049712, 'assistant_id': 'asst_XVbiMbDKlrhdCi0XmX2LbXlF', 'thread_id': 'thread_Nz9H3pXdPN1saN8o4M6W9cZP', 'run_id': 'run_xoY0UmCiJUIxf2LNSKmFXv2U', 'role': 'assistant', 'content': [{'type': 'text', 'text': {'value': 'The latest models from OpenAI include o3 and o4-mini. The o4-mini is designed for cost-efficient reasoning, excelling in tasks such as math, coding, and visual analysis, while o3 is a highly advanced reasoning model that handles web browsing, image generation, and visual understanding【3:0†source】【3:11†source】.', 'annotations': [{'type': 'url_citation', 'text': '【3:0†source】', 'start_index': 285, 'end_index': 297, 'url_citation': {'url': 'https://openai.com/index/introducing-o3-and-o4-mini/', 'title': 'Introducing OpenAI o3 and o4-mini'}}, {'type': 'url_citation', 'text': '【3:11†source】', 'start_index': 297, 'end_index': 310, 'url_citation': {'url': 'https://www.axios.com/2025/04/16/openai-o3-o4-mini-advanced-ai-tools', 'title': 'OpenAI launches o3 and o4-mini - Axios'}}]}}], 'attachments': [], 'metadata': {}}, {'id': 'msg_mqGgOdEPYFQEHATcnxFqS4Wx', 'object': 'thread.message', 'created_at': 1747049709, 'assistant_id': None, 'thread_id': 'thread_Nz9H3pXdPN1saN8o4M6W9cZP', 'run_id': None, 'role': 'user', 'content': [{'type': 'text', 'text': {'value': 'What are the latest models of OpenAI?', 'annotations': []}}], 'attachments': [], 'metadata': {}}], 'first_id': 'msg_uSgFtH6Mhy800ypusbMvXHel', 'last_id': 'msg_mqGgOdEPYFQEHATcnxFqS4Wx', 'has_more': False}\n"
     ]
    }
   ],
   "source": [
    "# Create and process agent run in thread with tools\n",
    "run = project_client.agents.create_and_process_run(thread_id=thread.id, agent_id=agent.id)\n",
    "print(f\"Run finished with status: {run.status}\")\n",
    "\n",
    "run_steps = project_client.agents.list_run_steps(run_id=run.id, thread_id=thread.id)\n",
    "run_steps_data = run_steps['data']\n",
    "print(f\"Last run step detail: {run_steps_data}\")\n",
    "\n",
    "# Fetch and log all messages\n",
    "messages = project_client.agents.list_messages(thread_id=thread.id)\n",
    "print(f\"Messages: {messages}\")"
   ]
  },
  {
   "cell_type": "code",
   "execution_count": 15,
   "id": "e818a0ae-d2ea-4cd6-a17e-d43a44b11e7a",
   "metadata": {},
   "outputs": [
    {
     "name": "stdout",
     "output_type": "stream",
     "text": [
      "\u001b[1;31;34m\n",
      "The latest models from OpenAI include o3 and o4-mini. The o4-mini is designed for cost-efficient reasoning, excelling in tasks such as math, coding, and visual analysis, while o3 is a highly advanced reasoning model that handles web browsing, image generation, and visual understanding【3:0†source】【3:11†source】.\n"
     ]
    }
   ],
   "source": [
    "print(\"\\033[1;31;34m\")\n",
    "print(messages.data[0].content[0].text.value)"
   ]
  },
  {
   "cell_type": "code",
   "execution_count": 16,
   "id": "547a800a-7563-4a01-a846-c9953b31378a",
   "metadata": {},
   "outputs": [],
   "source": [
    "query = \"What is the current stock value for Microsoft?\""
   ]
  },
  {
   "cell_type": "code",
   "execution_count": 17,
   "id": "a7928c14-172d-4ce9-92c2-856de8ecad2b",
   "metadata": {},
   "outputs": [
    {
     "name": "stdout",
     "output_type": "stream",
     "text": [
      "Created message, ID: msg_5uqzowj9AInuMOtjqkmrsqIP\n"
     ]
    }
   ],
   "source": [
    "# Create message to thread\n",
    "message = project_client.agents.create_message(\n",
    "    thread_id=thread.id,\n",
    "    role=\"user\",\n",
    "    content=query,\n",
    ")\n",
    "print(f\"Created message, ID: {message.id}\")"
   ]
  },
  {
   "cell_type": "code",
   "execution_count": 18,
   "id": "5df74015-32bb-42ab-8764-2a72a4b92bc6",
   "metadata": {},
   "outputs": [
    {
     "name": "stdout",
     "output_type": "stream",
     "text": [
      "Run finished with status: completed\n",
      "Last run step detail: [{'id': 'step_o5c9fYetbJOChHEOsGZvqbgs', 'object': 'thread.run.step', 'created_at': 1747049721, 'run_id': 'run_mc1CzsMbnotVJrZem2CTOLFy', 'assistant_id': 'asst_XVbiMbDKlrhdCi0XmX2LbXlF', 'thread_id': 'thread_Nz9H3pXdPN1saN8o4M6W9cZP', 'type': 'message_creation', 'status': 'completed', 'cancelled_at': None, 'completed_at': 1747049722, 'expires_at': None, 'failed_at': None, 'last_error': None, 'step_details': {'type': 'message_creation', 'message_creation': {'message_id': 'msg_A81leUKZZn44Z1c5DJkss50I'}}, 'usage': {'prompt_tokens': 1479, 'completion_tokens': 62, 'total_tokens': 1541, 'prompt_token_details': {'cached_tokens': 0}}}, {'id': 'step_yYaGjXaCU3d7POKkjxyd0noR', 'object': 'thread.run.step', 'created_at': 1747049720, 'run_id': 'run_mc1CzsMbnotVJrZem2CTOLFy', 'assistant_id': 'asst_XVbiMbDKlrhdCi0XmX2LbXlF', 'thread_id': 'thread_Nz9H3pXdPN1saN8o4M6W9cZP', 'type': 'tool_calls', 'status': 'completed', 'cancelled_at': None, 'completed_at': 1747049721, 'expires_at': None, 'failed_at': None, 'last_error': None, 'step_details': {'type': 'tool_calls', 'tool_calls': [{'id': 'call_o2hz1whji4MYnVKw7tOp0soW', 'type': 'bing_grounding', 'bing_grounding': {'requesturl': 'https://api.bing.microsoft.com/v7.0/search?q=\"current stock price Microsoft May 12 2025\"', 'response_metadata': None}}]}, 'usage': {'prompt_tokens': 586, 'completion_tokens': 19, 'total_tokens': 605, 'prompt_token_details': {'cached_tokens': 0}}}]\n"
     ]
    }
   ],
   "source": [
    "# Create and process agent run in thread with tools\n",
    "run = project_client.agents.create_and_process_run(thread_id=thread.id, agent_id=agent.id)\n",
    "print(f\"Run finished with status: {run.status}\")\n",
    "\n",
    "run_steps = project_client.agents.list_run_steps(run_id=run.id, thread_id=thread.id)\n",
    "run_steps_data = run_steps['data']\n",
    "print(f\"Last run step detail: {run_steps_data}\")"
   ]
  },
  {
   "cell_type": "code",
   "execution_count": 19,
   "id": "66e012c3-104e-4a76-9c3b-1ac77f9206d9",
   "metadata": {},
   "outputs": [
    {
     "name": "stdout",
     "output_type": "stream",
     "text": [
      "\u001b[1;31;34m\n",
      "The most recent available closing price for Microsoft's stock (MSFT) is $438.73 as of May 9, 2025, reflecting a slight increase from previous trading【7:2†source】【7:9†source】. Please note that stock values may have changed since then.\n"
     ]
    }
   ],
   "source": [
    "print(\"\\033[1;31;34m\")\n",
    "messages = project_client.agents.list_messages(thread_id=thread.id)\n",
    "print(messages.data[0].content[0].text.value)"
   ]
  },
  {
   "cell_type": "code",
   "execution_count": 20,
   "id": "06f3df88-e34c-4e75-a765-8b72073517e1",
   "metadata": {},
   "outputs": [],
   "source": [
    "query = \"What are the weather informations for Paris? Use emojis and be funny\""
   ]
  },
  {
   "cell_type": "code",
   "execution_count": 21,
   "id": "4e9c4aa0-eb02-4393-a59f-d21b2212b4cb",
   "metadata": {},
   "outputs": [
    {
     "name": "stdout",
     "output_type": "stream",
     "text": [
      "Created message, ID: msg_EANGwMDl3NVJl1tt4b64cHkn\n"
     ]
    }
   ],
   "source": [
    "# Create message to thread\n",
    "message = project_client.agents.create_message(\n",
    "    thread_id=thread.id,\n",
    "    role=\"user\",\n",
    "    content=query,\n",
    ")\n",
    "print(f\"Created message, ID: {message.id}\")"
   ]
  },
  {
   "cell_type": "code",
   "execution_count": 22,
   "id": "1031b659-96e9-4299-a32d-1d891f02120b",
   "metadata": {},
   "outputs": [
    {
     "name": "stdout",
     "output_type": "stream",
     "text": [
      "Run finished with status: completed\n",
      "Last run step detail: [{'id': 'step_yf7eaODCqFhiqRhOxjqCRhzB', 'object': 'thread.run.step', 'created_at': 1747049728, 'run_id': 'run_COmGoN7zAEJBLwdwTCH9Mh3x', 'assistant_id': 'asst_XVbiMbDKlrhdCi0XmX2LbXlF', 'thread_id': 'thread_Nz9H3pXdPN1saN8o4M6W9cZP', 'type': 'message_creation', 'status': 'completed', 'cancelled_at': None, 'completed_at': 1747049729, 'expires_at': None, 'failed_at': None, 'last_error': None, 'step_details': {'type': 'message_creation', 'message_creation': {'message_id': 'msg_izpJlirswRtNKyQlrMLQTFWL'}}, 'usage': {'prompt_tokens': 1424, 'completion_tokens': 93, 'total_tokens': 1517, 'prompt_token_details': {'cached_tokens': 0}}}, {'id': 'step_6UmehEDjkDjXHYYsGnmosmUT', 'object': 'thread.run.step', 'created_at': 1747049726, 'run_id': 'run_COmGoN7zAEJBLwdwTCH9Mh3x', 'assistant_id': 'asst_XVbiMbDKlrhdCi0XmX2LbXlF', 'thread_id': 'thread_Nz9H3pXdPN1saN8o4M6W9cZP', 'type': 'tool_calls', 'status': 'completed', 'cancelled_at': None, 'completed_at': 1747049728, 'expires_at': None, 'failed_at': None, 'last_error': None, 'step_details': {'type': 'tool_calls', 'tool_calls': [{'id': 'call_YxV2veKKUij3gduYIh0bwXoS', 'type': 'bing_grounding', 'bing_grounding': {'requesturl': 'https://api.bing.microsoft.com/v7.0/search?q=\"current weather Paris May 12 2025\"', 'response_metadata': None}}]}, 'usage': {'prompt_tokens': 702, 'completion_tokens': 18, 'total_tokens': 720, 'prompt_token_details': {'cached_tokens': 0}}}]\n"
     ]
    }
   ],
   "source": [
    "# Create and process agent run in thread with tools\n",
    "run = project_client.agents.create_and_process_run(thread_id=thread.id, agent_id=agent.id)\n",
    "print(f\"Run finished with status: {run.status}\")\n",
    "\n",
    "run_steps = project_client.agents.list_run_steps(run_id=run.id, thread_id=thread.id)\n",
    "run_steps_data = run_steps['data']\n",
    "print(f\"Last run step detail: {run_steps_data}\")"
   ]
  },
  {
   "cell_type": "code",
   "execution_count": 23,
   "id": "bf19724f-ba22-4204-a3ac-c20cc81584eb",
   "metadata": {},
   "outputs": [
    {
     "name": "stdout",
     "output_type": "stream",
     "text": [
      "\u001b[1;31;34m\n",
      "Paris today is feeling a bit dramatic! 🌥️ It's throwing a cloud parade during the day (12°C to 19°C), with some surprise sprinkles of rain 🌧️ to keep things cool. But don't worry—tonight promises a clear sky for stargazing 🌌! So, pack a raincoat and your good mood, Parisian style 🇫🇷【11:0†source】【11:1†source】!\n"
     ]
    }
   ],
   "source": [
    "print(\"\\033[1;31;34m\")\n",
    "messages = project_client.agents.list_messages(thread_id=thread.id)\n",
    "print(messages.data[0].content[0].text.value)"
   ]
  },
  {
   "cell_type": "markdown",
   "id": "6d5f61ac-880e-4394-8e63-6feb8c740eb4",
   "metadata": {},
   "source": [
    "### Post processing"
   ]
  },
  {
   "cell_type": "code",
   "execution_count": 24,
   "id": "09813548-20f2-45da-a196-9de60edc18c7",
   "metadata": {},
   "outputs": [
    {
     "name": "stdout",
     "output_type": "stream",
     "text": [
      "Deleting agent asst_XVbiMbDKlrhdCi0XmX2LbXlF\n"
     ]
    }
   ],
   "source": [
    "agents = project_client.agents.list_agents()\n",
    "\n",
    "for i in range(len(agents.data)):\n",
    "    if agents.data[i].name == name:\n",
    "        print(f\"Deleting agent {agents.data[i].id}\")\n",
    "        project_client.agents.delete_agent(agents.data[i].id)"
   ]
  },
  {
   "cell_type": "code",
   "execution_count": null,
   "id": "62ca0e0a-8b50-44b5-819d-a7c202c01314",
   "metadata": {},
   "outputs": [],
   "source": []
  }
 ],
 "metadata": {
  "kernelspec": {
   "display_name": "Python 3.10 - SDK v2",
   "language": "python",
   "name": "python310-sdkv2"
  },
  "language_info": {
   "codemirror_mode": {
    "name": "ipython",
    "version": 3
   },
   "file_extension": ".py",
   "mimetype": "text/x-python",
   "name": "python",
   "nbconvert_exporter": "python",
   "pygments_lexer": "ipython3",
   "version": "3.10.14"
  },
  "varInspector": {
   "cols": {
    "lenName": 16,
    "lenType": 16,
    "lenVar": 40
   },
   "kernels_config": {
    "python": {
     "delete_cmd_postfix": "",
     "delete_cmd_prefix": "del ",
     "library": "var_list.py",
     "varRefreshCmd": "print(var_dic_list())"
    },
    "r": {
     "delete_cmd_postfix": ") ",
     "delete_cmd_prefix": "rm(",
     "library": "var_list.r",
     "varRefreshCmd": "cat(var_dic_list()) "
    }
   },
   "types_to_exclude": [
    "module",
    "function",
    "builtin_function_or_method",
    "instance",
    "_Feature"
   ],
   "window_display": false
  }
 },
 "nbformat": 4,
 "nbformat_minor": 5
}
