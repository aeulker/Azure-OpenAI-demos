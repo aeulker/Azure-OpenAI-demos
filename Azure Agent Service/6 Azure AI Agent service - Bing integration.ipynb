{
 "cells": [
  {
   "cell_type": "markdown",
   "id": "431cc026-279f-4105-8444-f1b93650da0d",
   "metadata": {},
   "source": [
    "# Azure AI Agent service - Bing integration\n",
    "\n",
    "<img src=\"https://learn.microsoft.com/en-us/azure/ai-services/agents/media/agent-service-the-glue.png\" width=800>\n",
    "\n",
    "> https://learn.microsoft.com/en-us/azure/ai-services/agents/"
   ]
  },
  {
   "cell_type": "code",
   "execution_count": 1,
   "id": "22eab459-0adb-42c1-86dd-ee4cdfb77c8a",
   "metadata": {},
   "outputs": [],
   "source": [
    "import datetime\n",
    "import os\n",
    "import sys\n",
    "import time\n",
    "\n",
    "from azure.ai.agents import AgentsClient\n",
    "from azure.ai.agents.models import BingGroundingTool, ListSortOrder, MessageRole\n",
    "from azure.identity import DefaultAzureCredential\n",
    "from dotenv import load_dotenv"
   ]
  },
  {
   "cell_type": "code",
   "execution_count": 2,
   "id": "65334de7-4005-401a-89c1-be24f75abbd9",
   "metadata": {},
   "outputs": [
    {
     "data": {
      "text/plain": [
       "True"
      ]
     },
     "execution_count": 2,
     "metadata": {},
     "output_type": "execute_result"
    }
   ],
   "source": [
    "load_dotenv(\"azure.env\")"
   ]
  },
  {
   "cell_type": "code",
   "execution_count": 3,
   "id": "92834c8e-8efd-40c9-b599-33e6fb95516e",
   "metadata": {},
   "outputs": [
    {
     "name": "stdout",
     "output_type": "stream",
     "text": [
      "Today is 17-Jun-2025 08:54:56\n"
     ]
    }
   ],
   "source": [
    "print(f\"Today is {datetime.datetime.today().strftime('%d-%b-%Y %H:%M:%S')}\")"
   ]
  },
  {
   "cell_type": "markdown",
   "id": "54fa0903-f907-4c7f-a51b-4893d15ff371",
   "metadata": {},
   "source": [
    "## Grounding Bing Search"
   ]
  },
  {
   "cell_type": "code",
   "execution_count": 4,
   "id": "76c7bbb7-0faa-4500-ba42-7c5b176f6196",
   "metadata": {},
   "outputs": [],
   "source": [
    "project_client = AgentsClient(\n",
    "    endpoint=os.getenv(\"PROJECT_ENDPOINT\"),\n",
    "    credential=DefaultAzureCredential(),\n",
    ")"
   ]
  },
  {
   "cell_type": "markdown",
   "id": "e31b2d3a",
   "metadata": {},
   "source": [
    "### Create connection to bing grounding service"
   ]
  },
  {
   "cell_type": "code",
   "execution_count": 5,
   "id": "4fd3e38c-22c7-4d57-9471-09a115f09477",
   "metadata": {},
   "outputs": [],
   "source": [
    "# Shoud be: /subscriptions/<subscription_id>/resourceGroups/<resource_group_name>/providers/Microsoft.CognitiveServices/accounts/<ai_service_name>/projects/<project_name>/con#nections/<connection_name>\n",
    "BING_CONN_ID = os.getenv(\"BING_CONN_ID\")"
   ]
  },
  {
   "cell_type": "code",
   "execution_count": 7,
   "id": "5c20b2ef-e913-4dc0-8bdf-116772d8fc9a",
   "metadata": {},
   "outputs": [
    {
     "data": {
      "text/plain": [
       "<azure.ai.agents.models._patch.BingGroundingTool at 0x7fef51878940>"
      ]
     },
     "execution_count": 7,
     "metadata": {},
     "output_type": "execute_result"
    }
   ],
   "source": [
    "bing = BingGroundingTool(connection_id=BING_CONN_ID)\n",
    "bing"
   ]
  },
  {
   "cell_type": "markdown",
   "id": "1db5f5d1",
   "metadata": {},
   "source": [
    "### Create agent with Bing Grounding tool"
   ]
  },
  {
   "cell_type": "code",
   "execution_count": 8,
   "id": "f85e9d94-49a7-4d4e-a0ea-f64987951cb4",
   "metadata": {},
   "outputs": [
    {
     "name": "stdout",
     "output_type": "stream",
     "text": [
      "Created agent, ID: asst_xOhaLTsvIGe3LnPI1ZIFkWuh\n"
     ]
    }
   ],
   "source": [
    "# Create the agent with the Bing grounding tool\n",
    "agent = project_client.create_agent(\n",
    "    model=\"gpt-4o\",\n",
    "    temperature=0.7,\n",
    "    name=\"Bing-grounding-agent-demo\",\n",
    "    instructions=\"You are an AI Agent that can do some web search using Bing\",\n",
    "    tools=bing.definitions,\n",
    "    headers={\"x-ms-enable-preview\": \"true\"},\n",
    "    description=\"Agent with Grounding Bing Search\",\n",
    "    )\n",
    "\n",
    "print(f\"Created agent, ID: {agent.id}\")"
   ]
  },
  {
   "cell_type": "markdown",
   "id": "e037d937",
   "metadata": {},
   "source": [
    "### Example 1"
   ]
  },
  {
   "cell_type": "code",
   "execution_count": 9,
   "id": "411697dc-ec6b-4d80-8871-6d10003084d6",
   "metadata": {},
   "outputs": [],
   "source": [
    "prompt = \"What is the current price of the MICROSOFT share in USD?\""
   ]
  },
  {
   "cell_type": "code",
   "execution_count": 10,
   "id": "87d18c42-dbea-406f-bdd1-3382602bb375",
   "metadata": {},
   "outputs": [
    {
     "name": "stdout",
     "output_type": "stream",
     "text": [
      "🧵 [1] Created thread  | ID: thread_3b1LW2BDRBsImACOpdXzUdxY\n",
      "💬 [2] Created message | ID: msg_5QhcVatR7RwTRBT8QUfIVHDH\n",
      "🏃 [3] Created run     | ID: run_fkpTIU0httNZay1eutIGMGwX\n",
      "⏳ [4] Polling run status...\n",
      "🔄 Status: in_progress\n",
      "🔄 Status: in_progress\n",
      "🔄 Status: completed\n",
      "\n",
      "🔍 Step ID details: step_QRU9MjRrNuiPM4vMc5TKI4Zs, Type: message_creation\n",
      "Details step: {'id': 'step_QRU9MjRrNuiPM4vMc5TKI4Zs', 'object': 'thread.run.step', 'created_at': 1750150530, 'run_id': 'run_fkpTIU0httNZay1eutIGMGwX', 'assistant_id': 'asst_xOhaLTsvIGe3LnPI1ZIFkWuh', 'thread_id': 'thread_3b1LW2BDRBsImACOpdXzUdxY', 'type': 'message_creation', 'status': 'completed', 'cancelled_at': None, 'completed_at': 1750150530, 'expires_at': None, 'failed_at': None, 'last_error': None, 'step_details': {'type': 'message_creation', 'message_creation': {'message_id': 'msg_aK4jT1UibTqJGnCGIYjmmW3u'}}, 'usage': {'prompt_tokens': 5432, 'completion_tokens': 42, 'total_tokens': 5474, 'prompt_token_details': {'cached_tokens': 0}}}\n",
      "\n",
      "🔍 Step ID details: step_zkpuL0JQ79cMEB0HGwA37t0r, Type: tool_calls\n",
      "Details step: {'id': 'step_zkpuL0JQ79cMEB0HGwA37t0r', 'object': 'thread.run.step', 'created_at': 1750150529, 'run_id': 'run_fkpTIU0httNZay1eutIGMGwX', 'assistant_id': 'asst_xOhaLTsvIGe3LnPI1ZIFkWuh', 'thread_id': 'thread_3b1LW2BDRBsImACOpdXzUdxY', 'type': 'tool_calls', 'status': 'completed', 'cancelled_at': None, 'completed_at': 1750150530, 'expires_at': None, 'failed_at': None, 'last_error': None, 'step_details': {'type': 'tool_calls', 'tool_calls': [{'id': 'call_JHeQCaz74ljq6TJpAeQ4FOxA', 'type': 'bing_grounding', 'bing_grounding': {'requesturl': 'https://api.bing.microsoft.com/v7.0/search?q=current price of Microsoft share in USD June 2025', 'response_metadata': \"{'market': 'sv-SE', 'num_docs_retrieved': 5, 'num_docs_actually_used': 5}\"}}]}, 'usage': {'prompt_tokens': 471, 'completion_tokens': 23, 'total_tokens': 494, 'prompt_token_details': {'cached_tokens': 0}}}\n",
      "\n",
      "🤖 [5] Agent responses:\n",
      "\u001b[1;34m\n",
      "💡 → user: What is the current price of the MICROSOFT share in USD?\n",
      "\u001b[1;34m\n",
      "💡 → assistant: As of June 13, 2025, the current price of a Microsoft (MSFT) share is $474.96【3:1†source】【3:3†source】.\n",
      "\u001b[1;32m\n",
      "🔗 Source 1: [Microsoft (MSFT) Stock Price History & Chart Since 1986](https://wallstreetnumbers.com/stocks/msft/price)\n",
      "🔗 Source 2: [Microsoft - 39 Year Stock Price History | MSFT - Macrotrends](https://www.macrotrends.net/stocks/charts/MSFT/microsoft/stock-price-history)\n",
      "\u001b[0m\n"
     ]
    }
   ],
   "source": [
    "# Step 1: Create a thread\n",
    "thread = project_client.threads.create()\n",
    "print(f\"🧵 [1] Created thread  | ID: {thread.id}\")\n",
    "\n",
    "# Step 2: Send the user's message\n",
    "message = project_client.messages.create(thread_id=thread.id,\n",
    "                                         role=\"user\",\n",
    "                                         content=prompt)\n",
    "print(f\"💬 [2] Created message | ID: {message.id}\")\n",
    "\n",
    "# Step 3: Start a run\n",
    "run = project_client.runs.create(thread_id=thread.id, agent_id=agent.id)\n",
    "print(f\"🏃 [3] Created run     | ID: {run.id}\")\n",
    "\n",
    "# Step 4: Poll run status\n",
    "print(\"⏳ [4] Polling run status...\")\n",
    "while run.status in {\"queued\", \"in_progress\", \"requires_action\"}:\n",
    "    time.sleep(1)\n",
    "    run = project_client.runs.get(thread_id=thread.id, run_id=run.id)\n",
    "    print(f\"🔄 Status: {run.status}\")\n",
    "\n",
    "    if run.status == \"failed\":\n",
    "        print(f\"❌ Run failed | Error: {run.last_error}\")\n",
    "        break\n",
    "\n",
    "run_steps = project_client.run_steps.list(thread_id=thread.id, run_id=run.id)\n",
    "for step in run_steps:\n",
    "    print(f\"\\n🔍 Step ID details: {step.id}, Type: {step.type}\")\n",
    "    print(f\"Details step: {step}\")\n",
    "\n",
    "# Step 5: Display agent responses\n",
    "print(\"\\n🤖 [5] Agent responses:\")\n",
    "messages = project_client.messages.list(thread_id=thread.id, order=ListSortOrder.ASCENDING)\n",
    "\n",
    "for msg in messages:\n",
    "    print(\"\\033[1;34m\")  # Blue text for agent messages\n",
    "    if msg.text_messages:\n",
    "        last_text = msg.text_messages[-1]\n",
    "        print(f\"💡 → {msg.role}: {last_text.text.value}\")\n",
    "    if msg.url_citation_annotations:\n",
    "        print(\"\\033[1;32m\")  # Green text for citations\n",
    "        idx = 1\n",
    "        for annotation in msg.url_citation_annotations:\n",
    "            print(f\"🔗 Source {idx}: [{annotation.url_citation.title}]({annotation.url_citation.url})\")\n",
    "            idx += 1\n",
    "\n",
    "print(\"\\033[0m\")  # Reset color"
   ]
  },
  {
   "cell_type": "markdown",
   "id": "c7cf6b14",
   "metadata": {},
   "source": [
    "### Example 2"
   ]
  },
  {
   "cell_type": "code",
   "execution_count": 13,
   "id": "547a800a-7563-4a01-a846-c9953b31378a",
   "metadata": {},
   "outputs": [],
   "source": [
    "prompt = \"What are the news about the 2025 WWDC event?\""
   ]
  },
  {
   "cell_type": "code",
   "execution_count": 14,
   "id": "ca888091-2b29-4797-b515-973cd3a6a2a8",
   "metadata": {},
   "outputs": [
    {
     "name": "stdout",
     "output_type": "stream",
     "text": [
      "🧵 [1] Created thread  | ID: thread_iaRtGVhm42ZoQa5Mkz1kUkTm\n",
      "💬 [2] Created message | ID: msg_Ydx6RO3qQpH0LIBVKf1MdZ0n\n",
      "🏃 [3] Created run     | ID: run_aVdQf0cgJScCwl3eGO08hMPa\n",
      "⏳ [4] Polling run status...\n",
      "🔄 Status: in_progress\n",
      "🔄 Status: in_progress\n",
      "🔄 Status: in_progress\n",
      "🔄 Status: in_progress\n",
      "🔄 Status: completed\n",
      "\n",
      "🔍 Step ID details: step_yywG3zNt8rVFVUJtxLWBq5XT, Type: message_creation\n",
      "Details step: {'id': 'step_yywG3zNt8rVFVUJtxLWBq5XT', 'object': 'thread.run.step', 'created_at': 1750150571, 'run_id': 'run_aVdQf0cgJScCwl3eGO08hMPa', 'assistant_id': 'asst_xOhaLTsvIGe3LnPI1ZIFkWuh', 'thread_id': 'thread_iaRtGVhm42ZoQa5Mkz1kUkTm', 'type': 'message_creation', 'status': 'completed', 'cancelled_at': None, 'completed_at': 1750150574, 'expires_at': None, 'failed_at': None, 'last_error': None, 'step_details': {'type': 'message_creation', 'message_creation': {'message_id': 'msg_S3f9j5OewXBM0eIuaIGz05O6'}}, 'usage': {'prompt_tokens': 3730, 'completion_tokens': 355, 'total_tokens': 4085, 'prompt_token_details': {'cached_tokens': 0}}}\n",
      "\n",
      "🔍 Step ID details: step_8q9m9lKCHXJ5uXE2H53zPiuY, Type: tool_calls\n",
      "Details step: {'id': 'step_8q9m9lKCHXJ5uXE2H53zPiuY', 'object': 'thread.run.step', 'created_at': 1750150570, 'run_id': 'run_aVdQf0cgJScCwl3eGO08hMPa', 'assistant_id': 'asst_xOhaLTsvIGe3LnPI1ZIFkWuh', 'thread_id': 'thread_iaRtGVhm42ZoQa5Mkz1kUkTm', 'type': 'tool_calls', 'status': 'completed', 'cancelled_at': None, 'completed_at': 1750150571, 'expires_at': None, 'failed_at': None, 'last_error': None, 'step_details': {'type': 'tool_calls', 'tool_calls': [{'id': 'call_b3fthjC0K5DojI3u6biJKNt2', 'type': 'bing_grounding', 'bing_grounding': {'requesturl': 'https://api.bing.microsoft.com/v7.0/search?q=WWDC 2025 news', 'response_metadata': \"{'market': 'sv-SE', 'num_docs_retrieved': 5, 'num_docs_actually_used': 5}\"}}]}, 'usage': {'prompt_tokens': 470, 'completion_tokens': 18, 'total_tokens': 488, 'prompt_token_details': {'cached_tokens': 0}}}\n",
      "\n",
      "🤖 [5] Agent responses:\n",
      "\u001b[1;34m\n",
      "💡 → user: What are the news about the 2025 WWDC event?\n",
      "\u001b[1;34m\n",
      "💡 → assistant: At the 2025 Worldwide Developers Conference (WWDC), Apple introduced several significant updates across its operating systems and devices:\n",
      "\n",
      "1. **\"Liquid Glass\" Redesign**: A new visual overhaul impacting apps and menus, inspired by visionOS on the Vision Pro headset, offering a transparent and dynamic look【3:0†source】【3:1†source】.\n",
      "   \n",
      "2. **Unified OS Naming**: Apple is synchronizing OS version names (e.g., iOS 26, macOS Tahoe 26) for alignment across platforms【3:0†source】【3:1†source】.\n",
      "\n",
      "3. **iOS 26 Updates**: Features include unified Messages inbox, live translation, enhanced CarPlay, and a new \"Clear Look\" mode for user interfaces【3:1†source】【3:3†source】.\n",
      "\n",
      "4. **macOS Tahoe**: Improved Spotlight search with intelligent filters, and iPhone app integration for handling calls on Macs【3:0†source】【3:1†source】.\n",
      "\n",
      "5. **AI Enhancements**: Integration of Apple's Intelligence LLM for advanced Shortcuts functionality, and ChatGPT support in Xcode for developers【3:4†source】.\n",
      "\n",
      "6. **iPadOS 26**: Features like local audio/video recording and multitasking improvements to make iPads more Mac-like【3:1†source】【3:4†source】.\n",
      "\n",
      "7. **watchOS and tvOS Enhancements**: Incorporation of the \"Liquid Glass\" design and updates catering to workouts and streaming【3:1†source】【3:3†source】.\n",
      "\n",
      "These updates highlight Apple's focus on AI integration, design evolution, and platform unification for a more seamless user experience.\n",
      "\u001b[1;32m\n",
      "🔗 Source 1: [Missed the Keynote? Here's Everything Apple Announced at WWDC 2025](https://www.pcmag.com/news/wwdc-2025-everything-apple-announced-you-missed-liquid-glass-ios-26)\n",
      "🔗 Source 2: [Everything Apple Announced at WWDC 2025 in 10 Minutes](https://www.macrumors.com/2025/06/09/everything-apple-announced-wwdc-2025/)\n",
      "🔗 Source 3: [Missed the Keynote? Here's Everything Apple Announced at WWDC 2025](https://www.pcmag.com/news/wwdc-2025-everything-apple-announced-you-missed-liquid-glass-ios-26)\n",
      "🔗 Source 4: [Everything Apple Announced at WWDC 2025 in 10 Minutes](https://www.macrumors.com/2025/06/09/everything-apple-announced-wwdc-2025/)\n",
      "🔗 Source 5: [Everything Apple Announced at WWDC 2025 in 10 Minutes](https://www.macrumors.com/2025/06/09/everything-apple-announced-wwdc-2025/)\n",
      "🔗 Source 6: [Everything Announced at Apple WWDC 2025: Unified OS Redesign](https://www.cnet.com/tech/services-and-software/everything-announced-at-apple-wwdc-2025-new-ios-ipados-macos-visionos-tvos-watchos-updates/)\n",
      "🔗 Source 7: [Missed the Keynote? Here's Everything Apple Announced at WWDC 2025](https://www.pcmag.com/news/wwdc-2025-everything-apple-announced-you-missed-liquid-glass-ios-26)\n",
      "🔗 Source 8: [Everything Apple Announced at WWDC 2025 in 10 Minutes](https://www.macrumors.com/2025/06/09/everything-apple-announced-wwdc-2025/)\n",
      "🔗 Source 9: [WWDC 2025 live updates: iOS 26, Liquid Glass, Apple Intelligence ...](https://techcrunch.com/storyline/wwdc-2025-live-updates-a-fresh-look-for-ios-a-dedicated-gaming-app-and-more/)\n",
      "🔗 Source 10: [Everything Apple Announced at WWDC 2025 in 10 Minutes](https://www.macrumors.com/2025/06/09/everything-apple-announced-wwdc-2025/)\n",
      "🔗 Source 11: [WWDC 2025 live updates: iOS 26, Liquid Glass, Apple Intelligence ...](https://techcrunch.com/storyline/wwdc-2025-live-updates-a-fresh-look-for-ios-a-dedicated-gaming-app-and-more/)\n",
      "🔗 Source 12: [Everything Apple Announced at WWDC 2025 in 10 Minutes](https://www.macrumors.com/2025/06/09/everything-apple-announced-wwdc-2025/)\n",
      "🔗 Source 13: [Everything Announced at Apple WWDC 2025: Unified OS Redesign](https://www.cnet.com/tech/services-and-software/everything-announced-at-apple-wwdc-2025-new-ios-ipados-macos-visionos-tvos-watchos-updates/)\n",
      "\u001b[0m\n"
     ]
    }
   ],
   "source": [
    "# Step 1: Create a thread\n",
    "thread = project_client.threads.create()\n",
    "print(f\"🧵 [1] Created thread  | ID: {thread.id}\")\n",
    "\n",
    "# Step 2: Send the user's message\n",
    "message = project_client.messages.create(thread_id=thread.id,\n",
    "                                         role=\"user\",\n",
    "                                         content=prompt)\n",
    "print(f\"💬 [2] Created message | ID: {message.id}\")\n",
    "\n",
    "# Step 3: Start a run\n",
    "run = project_client.runs.create(thread_id=thread.id, agent_id=agent.id)\n",
    "print(f\"🏃 [3] Created run     | ID: {run.id}\")\n",
    "\n",
    "# Step 4: Poll run status\n",
    "print(\"⏳ [4] Polling run status...\")\n",
    "while run.status in {\"queued\", \"in_progress\", \"requires_action\"}:\n",
    "    time.sleep(1)\n",
    "    run = project_client.runs.get(thread_id=thread.id, run_id=run.id)\n",
    "    print(f\"🔄 Status: {run.status}\")\n",
    "\n",
    "    if run.status == \"failed\":\n",
    "        print(f\"❌ Run failed | Error: {run.last_error}\")\n",
    "        break\n",
    "\n",
    "run_steps = project_client.run_steps.list(thread_id=thread.id, run_id=run.id)\n",
    "for step in run_steps:\n",
    "    print(f\"\\n🔍 Step ID details: {step.id}, Type: {step.type}\")\n",
    "    print(f\"Details step: {step}\")\n",
    "    \n",
    "# Step 5: Display agent responses\n",
    "print(\"\\n🤖 [5] Agent responses:\")\n",
    "messages = project_client.messages.list(thread_id=thread.id, order=ListSortOrder.ASCENDING)\n",
    "\n",
    "for msg in messages:\n",
    "    print(\"\\033[1;34m\")  # Blue text for agent messages\n",
    "    if msg.text_messages:\n",
    "        last_text = msg.text_messages[-1]\n",
    "        print(f\"💡 → {msg.role}: {last_text.text.value}\")\n",
    "    if msg.url_citation_annotations:\n",
    "        print(\"\\033[1;32m\")  # Green text for citations\n",
    "        idx = 1\n",
    "        for annotation in msg.url_citation_annotations:\n",
    "            print(f\"🔗 Source {idx}: [{annotation.url_citation.title}]({annotation.url_citation.url})\")\n",
    "            idx += 1\n",
    "\n",
    "print(\"\\033[0m\")  # Reset color"
   ]
  },
  {
   "cell_type": "markdown",
   "id": "8953bb8f",
   "metadata": {},
   "source": [
    "### Example 3"
   ]
  },
  {
   "cell_type": "code",
   "execution_count": 15,
   "id": "06f3df88-e34c-4e75-a765-8b72073517e1",
   "metadata": {},
   "outputs": [],
   "source": [
    "prompt = \"What are the weather informations for Paris? Show the report and use emojis and be funny\""
   ]
  },
  {
   "cell_type": "code",
   "execution_count": 16,
   "id": "6eaaf6fb-4dab-4045-80d0-9b3d02efb581",
   "metadata": {},
   "outputs": [
    {
     "name": "stdout",
     "output_type": "stream",
     "text": [
      "🧵 [1] Created thread  | ID: thread_bYFks3XD13r5eGEXSgU2l8LS\n",
      "💬 [2] Created message | ID: msg_K98KeCwXv5juLo8XhfHLZuRb\n",
      "🏃 [3] Created run     | ID: run_t8LsjcUFOAWZGxB8wk9avwnD\n",
      "⏳ [4] Polling run status...\n",
      "🔄 Status: in_progress\n",
      "🔄 Status: in_progress\n",
      "🔄 Status: completed\n",
      "\n",
      "🔍 Step ID details: step_TOdbqDwH1PeaeQ7WH5lJAwjR, Type: message_creation\n",
      "Details step: {'id': 'step_TOdbqDwH1PeaeQ7WH5lJAwjR', 'object': 'thread.run.step', 'created_at': 1750150580, 'run_id': 'run_t8LsjcUFOAWZGxB8wk9avwnD', 'assistant_id': 'asst_xOhaLTsvIGe3LnPI1ZIFkWuh', 'thread_id': 'thread_bYFks3XD13r5eGEXSgU2l8LS', 'type': 'message_creation', 'status': 'completed', 'cancelled_at': None, 'completed_at': 1750150582, 'expires_at': None, 'failed_at': None, 'last_error': None, 'step_details': {'type': 'message_creation', 'message_creation': {'message_id': 'msg_LZqy2AfuhmUBSFd9t8iO2NWo'}}, 'usage': {'prompt_tokens': 3857, 'completion_tokens': 136, 'total_tokens': 3993, 'prompt_token_details': {'cached_tokens': 0}}}\n",
      "\n",
      "🔍 Step ID details: step_z101GJohXvc8I7k1XvgoccV4, Type: tool_calls\n",
      "Details step: {'id': 'step_z101GJohXvc8I7k1XvgoccV4', 'object': 'thread.run.step', 'created_at': 1750150579, 'run_id': 'run_t8LsjcUFOAWZGxB8wk9avwnD', 'assistant_id': 'asst_xOhaLTsvIGe3LnPI1ZIFkWuh', 'thread_id': 'thread_bYFks3XD13r5eGEXSgU2l8LS', 'type': 'tool_calls', 'status': 'completed', 'cancelled_at': None, 'completed_at': 1750150580, 'expires_at': None, 'failed_at': None, 'last_error': None, 'step_details': {'type': 'tool_calls', 'tool_calls': [{'id': 'call_ZLIDDrZnK8vsVAEufVFpKsER', 'type': 'bing_grounding', 'bing_grounding': {'requesturl': 'https://api.bing.microsoft.com/v7.0/search?q=current weather Paris June 17 2025', 'response_metadata': \"{'market': 'sv-SE', 'num_docs_retrieved': 5, 'num_docs_actually_used': 5}\"}}]}, 'usage': {'prompt_tokens': 474, 'completion_tokens': 21, 'total_tokens': 495, 'prompt_token_details': {'cached_tokens': 0}}}\n",
      "\n",
      "🤖 [5] Agent responses:\n",
      "\u001b[1;34m\n",
      "💡 → user: What are the weather informations for Paris? Show the report and use emojis and be funny\n",
      "\u001b[1;34m\n",
      "💡 → assistant: 🌞 Bonjour, Paris weather report for today, June 17, 2025! \n",
      "\n",
      "- ⏰ Morning vibes? It's a comfy **23°C** (73°F)—perfect for sipping a café au lait ☕ under the sun! \n",
      "- 🌡️ Afternoon adventure? Things heat up to **29°C** (84°F)—don't forget your sunscreen 🕶️.\n",
      "- 🌬️ Bonus: A gentle *northeast breeze* to keep things fresh 🍃.\n",
      "\n",
      "Get ready for **sunshine galore**, no rain drama today! Happy baguette munching! 🥖🇫🇷【3:4†source】\n",
      "\u001b[1;32m\n",
      "🔗 Source 1: [Météo Paris: prévisions du mardi 17 juin 2025 - 20 Minutes](https://www.20minutes.fr/paris/4158852-20250617-meteo-paris-previsions-mardi-17-juin-2025)\n",
      "\u001b[0m\n"
     ]
    }
   ],
   "source": [
    "# Step 1: Create a thread\n",
    "thread = project_client.threads.create()\n",
    "print(f\"🧵 [1] Created thread  | ID: {thread.id}\")\n",
    "\n",
    "# Step 2: Send the user's message\n",
    "message = project_client.messages.create(thread_id=thread.id,\n",
    "                                         role=\"user\",\n",
    "                                         content=prompt)\n",
    "print(f\"💬 [2] Created message | ID: {message.id}\")\n",
    "\n",
    "# Step 3: Start a run\n",
    "run = project_client.runs.create(thread_id=thread.id, agent_id=agent.id)\n",
    "print(f\"🏃 [3] Created run     | ID: {run.id}\")\n",
    "\n",
    "# Step 4: Poll run status\n",
    "print(\"⏳ [4] Polling run status...\")\n",
    "while run.status in {\"queued\", \"in_progress\", \"requires_action\"}:\n",
    "    time.sleep(1)\n",
    "    run = project_client.runs.get(thread_id=thread.id, run_id=run.id)\n",
    "    print(f\"🔄 Status: {run.status}\")\n",
    "\n",
    "    if run.status == \"failed\":\n",
    "        print(f\"❌ Run failed | Error: {run.last_error}\")\n",
    "        break\n",
    "        \n",
    "run_steps = project_client.run_steps.list(thread_id=thread.id, run_id=run.id)\n",
    "for step in run_steps:\n",
    "    print(f\"\\n🔍 Step ID details: {step.id}, Type: {step.type}\")\n",
    "    print(f\"Details step: {step}\")\n",
    "\n",
    "# Step 5: Display agent responses\n",
    "print(\"\\n🤖 [5] Agent responses:\")\n",
    "messages = project_client.messages.list(thread_id=thread.id, order=ListSortOrder.ASCENDING)\n",
    "\n",
    "for msg in messages:\n",
    "    print(\"\\033[1;34m\")  # Blue text for agent messages\n",
    "    if msg.text_messages:\n",
    "        last_text = msg.text_messages[-1]\n",
    "        print(f\"💡 → {msg.role}: {last_text.text.value}\")\n",
    "    if msg.url_citation_annotations:\n",
    "        print(\"\\033[1;32m\")  # Green text for citations\n",
    "        idx = 1\n",
    "        for annotation in msg.url_citation_annotations:\n",
    "            print(f\"🔗 Source {idx}: [{annotation.url_citation.title}]({annotation.url_citation.url})\")\n",
    "            idx += 1\n",
    "\n",
    "print(\"\\033[0m\")  # Reset color"
   ]
  },
  {
   "cell_type": "markdown",
   "id": "199e0a0f-6661-4edd-aecb-8e4cf29f9800",
   "metadata": {},
   "source": [
    "### Example 4"
   ]
  },
  {
   "cell_type": "code",
   "execution_count": 17,
   "id": "303ef011-813d-4f11-b313-8d0aa9c1b323",
   "metadata": {},
   "outputs": [],
   "source": [
    "prompt = \"What can you tell about Roland Garros 2025?\""
   ]
  },
  {
   "cell_type": "code",
   "execution_count": 18,
   "id": "084855fd-da35-4824-b265-f7dbb0312feb",
   "metadata": {},
   "outputs": [
    {
     "name": "stdout",
     "output_type": "stream",
     "text": [
      "🧵 [1] Created thread  | ID: thread_qaNTHsSqEiXOxl8Lw2qrQuPs\n",
      "💬 [2] Created message | ID: msg_T2HYFcOE2qgpK2yTLAtOoNCm\n",
      "🏃 [3] Created run     | ID: run_6S3unP2jmUHLaOQlW8p0VYqd\n",
      "⏳ [4] Polling run status...\n",
      "🔄 Status: queued\n",
      "🔄 Status: queued\n",
      "🔄 Status: in_progress\n",
      "🔄 Status: in_progress\n",
      "🔄 Status: in_progress\n",
      "🔄 Status: completed\n",
      "\n",
      "🔍 Step ID details: step_LQAuD354FKnw3zTuTAnhEROe, Type: message_creation\n",
      "Details step: {'id': 'step_LQAuD354FKnw3zTuTAnhEROe', 'object': 'thread.run.step', 'created_at': 1750150590, 'run_id': 'run_6S3unP2jmUHLaOQlW8p0VYqd', 'assistant_id': 'asst_xOhaLTsvIGe3LnPI1ZIFkWuh', 'thread_id': 'thread_qaNTHsSqEiXOxl8Lw2qrQuPs', 'type': 'message_creation', 'status': 'completed', 'cancelled_at': None, 'completed_at': 1750150592, 'expires_at': None, 'failed_at': None, 'last_error': None, 'step_details': {'type': 'message_creation', 'message_creation': {'message_id': 'msg_8zbqADQZl38yp46wyeWRlw7E'}}, 'usage': {'prompt_tokens': 3268, 'completion_tokens': 130, 'total_tokens': 3398, 'prompt_token_details': {'cached_tokens': 0}}}\n",
      "\n",
      "🔍 Step ID details: step_kpIrISKVL4jrvhRCqY987g8I, Type: tool_calls\n",
      "Details step: {'id': 'step_kpIrISKVL4jrvhRCqY987g8I', 'object': 'thread.run.step', 'created_at': 1750150589, 'run_id': 'run_6S3unP2jmUHLaOQlW8p0VYqd', 'assistant_id': 'asst_xOhaLTsvIGe3LnPI1ZIFkWuh', 'thread_id': 'thread_qaNTHsSqEiXOxl8Lw2qrQuPs', 'type': 'tool_calls', 'status': 'completed', 'cancelled_at': None, 'completed_at': 1750150590, 'expires_at': None, 'failed_at': None, 'last_error': None, 'step_details': {'type': 'tool_calls', 'tool_calls': [{'id': 'call_nZrPqfbIwP4p6ORXbemZXA0i', 'type': 'bing_grounding', 'bing_grounding': {'requesturl': 'https://api.bing.microsoft.com/v7.0/search?q=Roland Garros 2025 updates', 'response_metadata': \"{'market': 'sv-SE', 'num_docs_retrieved': 5, 'num_docs_actually_used': 5}\"}}]}, 'usage': {'prompt_tokens': 469, 'completion_tokens': 20, 'total_tokens': 489, 'prompt_token_details': {'cached_tokens': 0}}}\n",
      "\n",
      "🤖 [5] Agent responses:\n",
      "\u001b[1;34m\n",
      "💡 → user: What can you tell about Roland Garros 2025?\n",
      "\u001b[1;34m\n",
      "💡 → assistant: The Roland Garros 2025, also known as the French Open, was held from May 25 to June 8, 2025, at the Stade Roland Garros in Paris. Carlos Alcaraz won the men's singles title, defeating Jannik Sinner in the final. Coco Gauff claimed the women's singles title, marking her second Grand Slam victory. The doubles competitions saw victories for Marcel Granollers and Horacio Zeballos in men's doubles, while Alfie Hewett and Gordon Reid secured their sixth consecutive wheelchair doubles title【3:0†source】【3:1†source】【3:4†source】.\n",
      "\u001b[1;32m\n",
      "🔗 Source 1: [Latest news - Roland-Garros 2025 - The official site](https://www.rolandgarros.com/en-us/latest-news)\n",
      "🔗 Source 2: [Roland Garros 2025 – French Open Schedule, Results & Predictions](https://rolandgarrosin.com/en/)\n",
      "🔗 Source 3: [Roland Garros 2025: Results & updates | LTA](https://www.lta.org.uk/fan-zone/roland-garros/news/2025-results-updates/)\n",
      "\u001b[0m\n"
     ]
    }
   ],
   "source": [
    "# Step 1: Create a thread\n",
    "thread = project_client.threads.create()\n",
    "print(f\"🧵 [1] Created thread  | ID: {thread.id}\")\n",
    "\n",
    "# Step 2: Send the user's message\n",
    "message = project_client.messages.create(thread_id=thread.id,\n",
    "                                         role=\"user\",\n",
    "                                         content=prompt)\n",
    "print(f\"💬 [2] Created message | ID: {message.id}\")\n",
    "\n",
    "# Step 3: Start a run\n",
    "run = project_client.runs.create(thread_id=thread.id, agent_id=agent.id)\n",
    "print(f\"🏃 [3] Created run     | ID: {run.id}\")\n",
    "\n",
    "# Step 4: Poll run status\n",
    "print(\"⏳ [4] Polling run status...\")\n",
    "while run.status in {\"queued\", \"in_progress\", \"requires_action\"}:\n",
    "    time.sleep(1)\n",
    "    run = project_client.runs.get(thread_id=thread.id, run_id=run.id)\n",
    "    print(f\"🔄 Status: {run.status}\")\n",
    "\n",
    "    if run.status == \"failed\":\n",
    "        print(f\"❌ Run failed | Error: {run.last_error}\")\n",
    "        break\n",
    "\n",
    "run_steps = project_client.run_steps.list(thread_id=thread.id, run_id=run.id)\n",
    "for step in run_steps:\n",
    "    print(f\"\\n🔍 Step ID details: {step.id}, Type: {step.type}\")\n",
    "    print(f\"Details step: {step}\")\n",
    "\n",
    "# Step 5: Display agent responses\n",
    "print(\"\\n🤖 [5] Agent responses:\")\n",
    "messages = project_client.messages.list(thread_id=thread.id, order=ListSortOrder.ASCENDING)\n",
    "\n",
    "for msg in messages:\n",
    "    print(\"\\033[1;34m\")  # Blue text for agent messages\n",
    "    if msg.text_messages:\n",
    "        last_text = msg.text_messages[-1]\n",
    "        print(f\"💡 → {msg.role}: {last_text.text.value}\")\n",
    "    if msg.url_citation_annotations:\n",
    "        print(\"\\033[1;32m\")  # Green text for citations\n",
    "        idx = 1\n",
    "        for annotation in msg.url_citation_annotations:\n",
    "            print(f\"🔗 Source {idx}: [{annotation.url_citation.title}]({annotation.url_citation.url})\")\n",
    "            idx += 1\n",
    "\n",
    "print(\"\\033[0m\")  # Reset color"
   ]
  },
  {
   "cell_type": "markdown",
   "id": "e193596e-a040-4119-a974-31c54d0536f5",
   "metadata": {},
   "source": [
    "## Example 5"
   ]
  },
  {
   "cell_type": "code",
   "execution_count": 19,
   "id": "89d6cbf6-51c2-4dcb-8926-9b88f8eafbf9",
   "metadata": {},
   "outputs": [],
   "source": [
    "prompt = \"Who won at the Cannes festival in 2025?\""
   ]
  },
  {
   "cell_type": "code",
   "execution_count": 20,
   "id": "30201816-d816-4604-8e09-98fec59bf06d",
   "metadata": {},
   "outputs": [
    {
     "name": "stdout",
     "output_type": "stream",
     "text": [
      "🧵 [1] Created thread  | ID: thread_sHjrcVEv6YXo1F8EplATG6Jb\n",
      "💬 [2] Created message | ID: msg_L2FmLbplpGKhV5kx4hqlqkHx\n",
      "🏃 [3] Created run     | ID: run_EtAmOfSF60jOJlETS5AXtylA\n",
      "⏳ [4] Polling run status...\n",
      "🔄 Status: in_progress\n",
      "🔄 Status: in_progress\n",
      "🔄 Status: completed\n",
      "\n",
      "🔍 Step ID details: step_UWH6sr1p9BEfyap7SS67AdZi, Type: message_creation\n",
      "Details step: {'id': 'step_UWH6sr1p9BEfyap7SS67AdZi', 'object': 'thread.run.step', 'created_at': 1750150597, 'run_id': 'run_EtAmOfSF60jOJlETS5AXtylA', 'assistant_id': 'asst_xOhaLTsvIGe3LnPI1ZIFkWuh', 'thread_id': 'thread_sHjrcVEv6YXo1F8EplATG6Jb', 'type': 'message_creation', 'status': 'completed', 'cancelled_at': None, 'completed_at': 1750150598, 'expires_at': None, 'failed_at': None, 'last_error': None, 'step_details': {'type': 'message_creation', 'message_creation': {'message_id': 'msg_jjZLztXGDL25phuErauB7jU2'}}, 'usage': {'prompt_tokens': 3282, 'completion_tokens': 155, 'total_tokens': 3437, 'prompt_token_details': {'cached_tokens': 0}}}\n",
      "\n",
      "🔍 Step ID details: step_TOxTy2WvR2nvv61x2xpu3cOn, Type: tool_calls\n",
      "Details step: {'id': 'step_TOxTy2WvR2nvv61x2xpu3cOn', 'object': 'thread.run.step', 'created_at': 1750150596, 'run_id': 'run_EtAmOfSF60jOJlETS5AXtylA', 'assistant_id': 'asst_xOhaLTsvIGe3LnPI1ZIFkWuh', 'thread_id': 'thread_sHjrcVEv6YXo1F8EplATG6Jb', 'type': 'tool_calls', 'status': 'completed', 'cancelled_at': None, 'completed_at': 1750150597, 'expires_at': None, 'failed_at': None, 'last_error': None, 'step_details': {'type': 'tool_calls', 'tool_calls': [{'id': 'call_wJcR1NEriKTocFMQDa9UPlHa', 'type': 'bing_grounding', 'bing_grounding': {'requesturl': 'https://api.bing.microsoft.com/v7.0/search?q=Cannes festival 2025 winners', 'response_metadata': \"{'market': 'sv-SE', 'num_docs_retrieved': 5, 'num_docs_actually_used': 5}\"}}]}, 'usage': {'prompt_tokens': 468, 'completion_tokens': 19, 'total_tokens': 487, 'prompt_token_details': {'cached_tokens': 0}}}\n",
      "\n",
      "🤖 [5] Agent responses:\n",
      "\u001b[1;34m\n",
      "💡 → user: Who won at the Cannes festival in 2025?\n",
      "\u001b[1;34m\n",
      "💡 → assistant: The top honors at the 2025 Cannes Film Festival include:\n",
      "\n",
      "- **Palme d'Or**: \"Un Simple Accident\" by Jafar Panahi.\n",
      "- **Grand Prix**: \"Sentimental Value\" by Joachim Trier.\n",
      "- **Best Director**: Kleber Mendonça Filho for \"O Agente Secreto\" (The Secret Agent).\n",
      "- **Best Actress**: Nadia Melliti for her role in \"La Petite Dernière.\"\n",
      "- **Best Actor**: Wagner Moura for \"O Agente Secreto.\"\n",
      "- **Best Screenplay**: Jean-Pierre and Luc Dardenne for \"Jeunes Mères\" (Young Mothers)【3:0†source】【3:1†source】【3:2†source】.\n",
      "\u001b[1;32m\n",
      "🔗 Source 1: [The 78th Festival de Cannes winners’ list](https://www.festival-cannes.com/en/press/press-releases/the-78th-festival-de-cannes-winners-list/)\n",
      "🔗 Source 2: [Cannes 2025: Full List of Winners from the 78th Festival de Cannes](https://www.cannesfilmfestival.fr/post/cannes-2025-full-list-of-winners-from-the-78th-festival-de-cannes)\n",
      "🔗 Source 3: [Meet the 78th Festival de Cannes winners](https://www.festival-cannes.com/en/2025/meet-the-78th-festival-de-cannes-winners/)\n",
      "\u001b[0m\n"
     ]
    }
   ],
   "source": [
    "# Step 1: Create a thread\n",
    "thread = project_client.threads.create()\n",
    "print(f\"🧵 [1] Created thread  | ID: {thread.id}\")\n",
    "\n",
    "# Step 2: Send the user's message\n",
    "message = project_client.messages.create(thread_id=thread.id,\n",
    "                                         role=\"user\",\n",
    "                                         content=prompt)\n",
    "print(f\"💬 [2] Created message | ID: {message.id}\")\n",
    "\n",
    "# Step 3: Start a run\n",
    "run = project_client.runs.create(thread_id=thread.id, agent_id=agent.id)\n",
    "print(f\"🏃 [3] Created run     | ID: {run.id}\")\n",
    "\n",
    "# Step 4: Poll run status\n",
    "print(\"⏳ [4] Polling run status...\")\n",
    "while run.status in {\"queued\", \"in_progress\", \"requires_action\"}:\n",
    "    time.sleep(1)\n",
    "    run = project_client.runs.get(thread_id=thread.id, run_id=run.id)\n",
    "    print(f\"🔄 Status: {run.status}\")\n",
    "\n",
    "    if run.status == \"failed\":\n",
    "        print(f\"❌ Run failed | Error: {run.last_error}\")\n",
    "        break\n",
    "\n",
    "run_steps = project_client.run_steps.list(thread_id=thread.id, run_id=run.id)\n",
    "for step in run_steps:\n",
    "    print(f\"\\n🔍 Step ID details: {step.id}, Type: {step.type}\")\n",
    "    print(f\"Details step: {step}\")\n",
    "\n",
    "# Step 5: Display agent responses\n",
    "print(\"\\n🤖 [5] Agent responses:\")\n",
    "messages = project_client.messages.list(thread_id=thread.id, order=ListSortOrder.ASCENDING)\n",
    "\n",
    "for msg in messages:\n",
    "    print(\"\\033[1;34m\")  # Blue text for agent messages\n",
    "    if msg.text_messages:\n",
    "        last_text = msg.text_messages[-1]\n",
    "        print(f\"💡 → {msg.role}: {last_text.text.value}\")\n",
    "    if msg.url_citation_annotations:\n",
    "        print(\"\\033[1;32m\")  # Green text for citations\n",
    "        idx = 1\n",
    "        for annotation in msg.url_citation_annotations:\n",
    "            print(f\"🔗 Source {idx}: [{annotation.url_citation.title}]({annotation.url_citation.url})\")\n",
    "            idx += 1\n",
    "\n",
    "print(\"\\033[0m\")  # Reset color"
   ]
  },
  {
   "cell_type": "markdown",
   "id": "6d5f61ac-880e-4394-8e63-6feb8c740eb4",
   "metadata": {},
   "source": [
    "### Post processing"
   ]
  },
  {
   "cell_type": "code",
   "execution_count": 21,
   "id": "d27001cb-6d8a-4f86-af3f-9e2186187788",
   "metadata": {},
   "outputs": [
    {
     "name": "stdout",
     "output_type": "stream",
     "text": [
      "Agent Details:\n",
      "📛 Name        : Bing-grounding-agent-demo\n",
      "🆔 ID          : asst_xOhaLTsvIGe3LnPI1ZIFkWuh\n",
      "🧠 Model       : gpt-4o\n",
      "📜 Instructions: You are an AI Agent that can do some web search using Bing\n"
     ]
    }
   ],
   "source": [
    "print(\n",
    "    f\"Agent Details:\\n\"\n",
    "    f\"📛 Name        : {agent.name}\\n\"\n",
    "    f\"🆔 ID          : {agent.id}\\n\"\n",
    "    f\"🧠 Model       : {agent.model}\\n\"\n",
    "    f\"📜 Instructions: {agent.instructions}\"\n",
    ")"
   ]
  },
  {
   "cell_type": "code",
   "execution_count": null,
   "id": "a8d63337-ebde-48f3-b245-29e063a61347",
   "metadata": {},
   "outputs": [],
   "source": [
    "project_client.delete_agent(agent.id)\n",
    "print(f\"Deleted agent, agent ID: {agent.id}\")"
   ]
  },
  {
   "cell_type": "code",
   "execution_count": null,
   "id": "81e5ea16-2032-4cb9-8fd3-de69713f4510",
   "metadata": {},
   "outputs": [],
   "source": []
  }
 ],
 "metadata": {
  "kernelspec": {
   "display_name": "Python 3.10 - SDK v2",
   "language": "python",
   "name": "python310-sdkv2"
  },
  "language_info": {
   "codemirror_mode": {
    "name": "ipython",
    "version": 3
   },
   "file_extension": ".py",
   "mimetype": "text/x-python",
   "name": "python",
   "nbconvert_exporter": "python",
   "pygments_lexer": "ipython3",
   "version": "3.10.14"
  },
  "varInspector": {
   "cols": {
    "lenName": 16,
    "lenType": 16,
    "lenVar": 40
   },
   "kernels_config": {
    "python": {
     "delete_cmd_postfix": "",
     "delete_cmd_prefix": "del ",
     "library": "var_list.py",
     "varRefreshCmd": "print(var_dic_list())"
    },
    "r": {
     "delete_cmd_postfix": ") ",
     "delete_cmd_prefix": "rm(",
     "library": "var_list.r",
     "varRefreshCmd": "cat(var_dic_list()) "
    }
   },
   "types_to_exclude": [
    "module",
    "function",
    "builtin_function_or_method",
    "instance",
    "_Feature"
   ],
   "window_display": false
  }
 },
 "nbformat": 4,
 "nbformat_minor": 5
}
