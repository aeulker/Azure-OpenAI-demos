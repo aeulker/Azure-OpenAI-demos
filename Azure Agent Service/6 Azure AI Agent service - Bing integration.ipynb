{
 "cells": [
  {
   "cell_type": "markdown",
   "id": "431cc026-279f-4105-8444-f1b93650da0d",
   "metadata": {},
   "source": [
    "# Azure AI Agent service - Bing integration\n",
    "\n",
    "<img src=\"https://learn.microsoft.com/en-us/azure/ai-services/agents/media/agent-service-the-glue.png\" width=800>\n",
    "\n",
    "> https://learn.microsoft.com/en-us/azure/ai-services/agents/"
   ]
  },
  {
   "cell_type": "code",
   "execution_count": 1,
   "id": "d75f0533-95e2-44fe-b8ed-d525b4c25b77",
   "metadata": {},
   "outputs": [],
   "source": [
    "#%pip install azure-ai-projects"
   ]
  },
  {
   "cell_type": "code",
   "execution_count": 2,
   "id": "22eab459-0adb-42c1-86dd-ee4cdfb77c8a",
   "metadata": {},
   "outputs": [],
   "source": [
    "import datetime\n",
    "import os\n",
    "import sys\n",
    "\n",
    "from azure.ai.projects import AIProjectClient\n",
    "from azure.identity import DefaultAzureCredential\n",
    "from azure.ai.projects.models import BingGroundingTool\n",
    "from dotenv import load_dotenv"
   ]
  },
  {
   "cell_type": "code",
   "execution_count": 3,
   "id": "65334de7-4005-401a-89c1-be24f75abbd9",
   "metadata": {},
   "outputs": [
    {
     "data": {
      "text/plain": [
       "True"
      ]
     },
     "execution_count": 3,
     "metadata": {},
     "output_type": "execute_result"
    }
   ],
   "source": [
    "load_dotenv(\"azure.env\")"
   ]
  },
  {
   "cell_type": "code",
   "execution_count": 4,
   "id": "8628712a-0d10-4351-8993-b4c3243f83be",
   "metadata": {},
   "outputs": [
    {
     "data": {
      "text/plain": [
       "'3.10.14 (main, May  6 2024, 19:42:50) [GCC 11.2.0]'"
      ]
     },
     "execution_count": 4,
     "metadata": {},
     "output_type": "execute_result"
    }
   ],
   "source": [
    "sys.version"
   ]
  },
  {
   "cell_type": "code",
   "execution_count": 5,
   "id": "92834c8e-8efd-40c9-b599-33e6fb95516e",
   "metadata": {},
   "outputs": [
    {
     "name": "stdout",
     "output_type": "stream",
     "text": [
      "Today is 20-May-2025 13:06:27\n"
     ]
    }
   ],
   "source": [
    "print(f\"Today is {datetime.datetime.today().strftime('%d-%b-%Y %H:%M:%S')}\")"
   ]
  },
  {
   "cell_type": "markdown",
   "id": "54fa0903-f907-4c7f-a51b-4893d15ff371",
   "metadata": {},
   "source": [
    "## 1. Grounding Bing Search"
   ]
  },
  {
   "cell_type": "code",
   "execution_count": 6,
   "id": "e31e6a61-000f-4d01-9208-df3d491b342a",
   "metadata": {},
   "outputs": [],
   "source": [
    "name = \"Web search agent\"\n",
    "model = \"gpt-4o\"\n",
    "\n",
    "instructions = \"You are an AI Agent that can do some web search using Bing\"\n",
    "connection_name = \"groundingbingsearch\""
   ]
  },
  {
   "cell_type": "markdown",
   "id": "3ac0a60b-b688-4970-ba23-781f2196b75c",
   "metadata": {},
   "source": [
    "### Project client"
   ]
  },
  {
   "cell_type": "code",
   "execution_count": 7,
   "id": "44bdcf24-d563-43a1-9669-06f4cc79bc05",
   "metadata": {},
   "outputs": [],
   "source": [
    "# Create an Azure AI Client from a connection string, copied from your Azure AI Foundry project.\n",
    "# It should be in the format \"<HostName>;<AzureSubscriptionId>;<ResourceGroup>;<HubName>\"\n",
    "# Customers need to login to Azure subscription via Azure CLI and set the environment variables"
   ]
  },
  {
   "cell_type": "code",
   "execution_count": 8,
   "id": "76c7bbb7-0faa-4500-ba42-7c5b176f6196",
   "metadata": {},
   "outputs": [],
   "source": [
    "project_client = AIProjectClient.from_connection_string(\n",
    "    credential=DefaultAzureCredential(),\n",
    "    conn_str=os.getenv(\"PROJECT_CONNECTION_STRING\"),\n",
    ")"
   ]
  },
  {
   "cell_type": "code",
   "execution_count": 9,
   "id": "5c20b2ef-e913-4dc0-8bdf-116772d8fc9a",
   "metadata": {},
   "outputs": [],
   "source": [
    "bing_connection = project_client.connections.get(connection_name=connection_name)\n",
    "conn_id = bing_connection.id\n",
    "\n",
    "# Initialize agent bing tool and add the connection id\n",
    "bing = BingGroundingTool(connection_id=conn_id)"
   ]
  },
  {
   "cell_type": "code",
   "execution_count": 10,
   "id": "f85e9d94-49a7-4d4e-a0ea-f64987951cb4",
   "metadata": {},
   "outputs": [
    {
     "name": "stdout",
     "output_type": "stream",
     "text": [
      "Created agent, ID: asst_nWbdIExnQumrKa5nsuDeteib\n"
     ]
    }
   ],
   "source": [
    "# Create agent with the bing tool and process assistant run\n",
    "agent = project_client.agents.create_agent(\n",
    "    model=model,\n",
    "    name=name,\n",
    "    instructions=instructions,\n",
    "    tools=bing.definitions,\n",
    "    headers={\"x-ms-enable-preview\": \"true\"}\n",
    ")\n",
    "\n",
    "print(f\"Created agent, ID: {agent.id}\")"
   ]
  },
  {
   "cell_type": "code",
   "execution_count": 11,
   "id": "dd35b8d1-10ce-44a3-8d47-dea2854e73b8",
   "metadata": {},
   "outputs": [
    {
     "name": "stdout",
     "output_type": "stream",
     "text": [
      "Created thread, ID: thread_360vcZDfpbRCIhCpKTRpN2KQ\n"
     ]
    }
   ],
   "source": [
    "# Create thread for communication\n",
    "thread = project_client.agents.create_thread()\n",
    "print(f\"Created thread, ID: {thread.id}\")"
   ]
  },
  {
   "cell_type": "code",
   "execution_count": 12,
   "id": "411697dc-ec6b-4d80-8871-6d10003084d6",
   "metadata": {},
   "outputs": [],
   "source": [
    "query = \"What are the latest annoucements of Microsoft Build 2025?\""
   ]
  },
  {
   "cell_type": "code",
   "execution_count": 13,
   "id": "03490def-7224-4253-813f-405f609d33b3",
   "metadata": {},
   "outputs": [
    {
     "name": "stdout",
     "output_type": "stream",
     "text": [
      "Created message, ID: msg_14SYbMS4HgRfqYtjlbGuKvf5\n"
     ]
    }
   ],
   "source": [
    "# Create message to thread\n",
    "message = project_client.agents.create_message(\n",
    "    thread_id=thread.id,\n",
    "    role=\"user\",\n",
    "    content=query,\n",
    ")\n",
    "\n",
    "print(f\"Created message, ID: {message.id}\")"
   ]
  },
  {
   "cell_type": "code",
   "execution_count": 14,
   "id": "2253f711-afd0-4dc7-8a4b-a90d56ce2e69",
   "metadata": {},
   "outputs": [
    {
     "name": "stdout",
     "output_type": "stream",
     "text": [
      "Run finished with status: completed\n",
      "Last run step detail: [{'id': 'step_202bEP0Lvko37iFx7xMdTTTx', 'object': 'thread.run.step', 'created_at': 1747746397, 'run_id': 'run_J18Pr0YmfhfRBKcfFr1nuy6h', 'assistant_id': 'asst_nWbdIExnQumrKa5nsuDeteib', 'thread_id': 'thread_360vcZDfpbRCIhCpKTRpN2KQ', 'type': 'message_creation', 'status': 'completed', 'cancelled_at': None, 'completed_at': 1747746398, 'expires_at': None, 'failed_at': None, 'last_error': None, 'step_details': {'type': 'message_creation', 'message_creation': {'message_id': 'msg_w7rEVKEisIe852xLpmgPRS2i'}}, 'usage': {'prompt_tokens': 1677, 'completion_tokens': 85, 'total_tokens': 1762, 'prompt_token_details': {'cached_tokens': 0}}}, {'id': 'step_Y2T4v3Pn3ejKGYijWTyZ7Pgv', 'object': 'thread.run.step', 'created_at': 1747746395, 'run_id': 'run_J18Pr0YmfhfRBKcfFr1nuy6h', 'assistant_id': 'asst_nWbdIExnQumrKa5nsuDeteib', 'thread_id': 'thread_360vcZDfpbRCIhCpKTRpN2KQ', 'type': 'tool_calls', 'status': 'completed', 'cancelled_at': None, 'completed_at': 1747746397, 'expires_at': None, 'failed_at': None, 'last_error': None, 'step_details': {'type': 'tool_calls', 'tool_calls': [{'id': 'call_01lfY14XAswX84zyrCY0FaWi', 'type': 'bing_grounding', 'bing_grounding': {'requesturl': 'https://api.bing.microsoft.com/v7.0/search?q=Microsoft Build 2025 announcements', 'response_metadata': None}}]}, 'usage': {'prompt_tokens': 467, 'completion_tokens': 15, 'total_tokens': 482, 'prompt_token_details': {'cached_tokens': 0}}}]\n",
      "Messages: {'object': 'list', 'data': [{'id': 'msg_w7rEVKEisIe852xLpmgPRS2i', 'object': 'thread.message', 'created_at': 1747746397, 'assistant_id': 'asst_nWbdIExnQumrKa5nsuDeteib', 'thread_id': 'thread_360vcZDfpbRCIhCpKTRpN2KQ', 'run_id': 'run_J18Pr0YmfhfRBKcfFr1nuy6h', 'role': 'assistant', 'content': [{'type': 'text', 'text': {'value': \"Microsoft Build 2025 highlighted advancements in AI, including “agentic AI” tools designed to revolutionize productivity across apps and platforms. Major announcements included enhancements to GitHub Copilot's autonomous coding capabilities, Windows AI features, updated Azure development tools, and the debut of AI-based discovery platforms for business and scientific innovation【3:0†source】【3:7†source】【3:11†source】.\", 'annotations': [{'type': 'url_citation', 'text': '【3:0†source】', 'start_index': 380, 'end_index': 392, 'url_citation': {'url': 'https://news.microsoft.com/build-2025-book-of-news/', 'title': 'Microsoft Build 2025 Book of News'}}, {'type': 'url_citation', 'text': '【3:7†source】', 'start_index': 392, 'end_index': 404, 'url_citation': {'url': 'https://geekflare.com/news/microsoft-build-2025-recap-13-big-announcements/', 'title': 'Microsoft Build 2025 Recap: 13 Big Announcements - Geekflare'}}, {'type': 'url_citation', 'text': '【3:11†source】', 'start_index': 404, 'end_index': 417, 'url_citation': {'url': 'https://www.croma.com/unboxed/build-2025-microsoft-announcements', 'title': 'All announcements at Microsoft Build 2025 so far | Croma Unboxed'}}]}}], 'attachments': [], 'metadata': {}}, {'id': 'msg_14SYbMS4HgRfqYtjlbGuKvf5', 'object': 'thread.message', 'created_at': 1747746392, 'assistant_id': None, 'thread_id': 'thread_360vcZDfpbRCIhCpKTRpN2KQ', 'run_id': None, 'role': 'user', 'content': [{'type': 'text', 'text': {'value': 'What are the latest annoucements of Microsoft Build 2025?', 'annotations': []}}], 'attachments': [], 'metadata': {}}], 'first_id': 'msg_w7rEVKEisIe852xLpmgPRS2i', 'last_id': 'msg_14SYbMS4HgRfqYtjlbGuKvf5', 'has_more': False}\n"
     ]
    }
   ],
   "source": [
    "# Create and process agent run in thread with tools\n",
    "run = project_client.agents.create_and_process_run(thread_id=thread.id, agent_id=agent.id)\n",
    "print(f\"Run finished with status: {run.status}\")\n",
    "\n",
    "run_steps = project_client.agents.list_run_steps(run_id=run.id, thread_id=thread.id)\n",
    "run_steps_data = run_steps['data']\n",
    "print(f\"Last run step detail: {run_steps_data}\")\n",
    "\n",
    "# Fetch and log all messages\n",
    "messages = project_client.agents.list_messages(thread_id=thread.id)\n",
    "print(f\"Messages: {messages}\")"
   ]
  },
  {
   "cell_type": "code",
   "execution_count": 15,
   "id": "e818a0ae-d2ea-4cd6-a17e-d43a44b11e7a",
   "metadata": {},
   "outputs": [
    {
     "name": "stdout",
     "output_type": "stream",
     "text": [
      "\u001b[1;31;34m\n",
      "Microsoft Build 2025 highlighted advancements in AI, including “agentic AI” tools designed to revolutionize productivity across apps and platforms. Major announcements included enhancements to GitHub Copilot's autonomous coding capabilities, Windows AI features, updated Azure development tools, and the debut of AI-based discovery platforms for business and scientific innovation【3:0†source】【3:7†source】【3:11†source】.\n"
     ]
    }
   ],
   "source": [
    "print(\"\\033[1;31;34m\")\n",
    "print(messages.data[0].content[0].text.value)"
   ]
  },
  {
   "cell_type": "code",
   "execution_count": 16,
   "id": "547a800a-7563-4a01-a846-c9953b31378a",
   "metadata": {},
   "outputs": [],
   "source": [
    "query = \"What is the current stock value for Microsoft?\""
   ]
  },
  {
   "cell_type": "code",
   "execution_count": 17,
   "id": "a7928c14-172d-4ce9-92c2-856de8ecad2b",
   "metadata": {},
   "outputs": [
    {
     "name": "stdout",
     "output_type": "stream",
     "text": [
      "Created message, ID: msg_NpBXvE0Gq8TDzuq3dHfgzDtH\n"
     ]
    }
   ],
   "source": [
    "# Create message to thread\n",
    "message = project_client.agents.create_message(\n",
    "    thread_id=thread.id,\n",
    "    role=\"user\",\n",
    "    content=query,\n",
    ")\n",
    "print(f\"Created message, ID: {message.id}\")"
   ]
  },
  {
   "cell_type": "code",
   "execution_count": 18,
   "id": "5df74015-32bb-42ab-8764-2a72a4b92bc6",
   "metadata": {},
   "outputs": [
    {
     "name": "stdout",
     "output_type": "stream",
     "text": [
      "Run finished with status: completed\n",
      "Last run step detail: [{'id': 'step_OfVPTptjkOu9AJkYPqSElS1s', 'object': 'thread.run.step', 'created_at': 1747746406, 'run_id': 'run_ayur8jmpbqFKUy7D4XNj9X6F', 'assistant_id': 'asst_nWbdIExnQumrKa5nsuDeteib', 'thread_id': 'thread_360vcZDfpbRCIhCpKTRpN2KQ', 'type': 'message_creation', 'status': 'completed', 'cancelled_at': None, 'completed_at': 1747746407, 'expires_at': None, 'failed_at': None, 'last_error': None, 'step_details': {'type': 'message_creation', 'message_creation': {'message_id': 'msg_1xfA6iPvWth7qvXrhBYZVWul'}}, 'usage': {'prompt_tokens': 1408, 'completion_tokens': 42, 'total_tokens': 1450, 'prompt_token_details': {'cached_tokens': 0}}}, {'id': 'step_VN5Xdf2Yca0zDNENkNkB3o1u', 'object': 'thread.run.step', 'created_at': 1747746404, 'run_id': 'run_ayur8jmpbqFKUy7D4XNj9X6F', 'assistant_id': 'asst_nWbdIExnQumrKa5nsuDeteib', 'thread_id': 'thread_360vcZDfpbRCIhCpKTRpN2KQ', 'type': 'tool_calls', 'status': 'completed', 'cancelled_at': None, 'completed_at': 1747746406, 'expires_at': None, 'failed_at': None, 'last_error': None, 'step_details': {'type': 'tool_calls', 'tool_calls': [{'id': 'call_qtTu9Iqrhw5ICDWwqR8d1NUy', 'type': 'bing_grounding', 'bing_grounding': {'requesturl': 'https://api.bing.microsoft.com/v7.0/search?q=Microsoft current stock value May 20 2025', 'response_metadata': None}}]}, 'usage': {'prompt_tokens': 598, 'completion_tokens': 19, 'total_tokens': 617, 'prompt_token_details': {'cached_tokens': 0}}}]\n"
     ]
    }
   ],
   "source": [
    "# Create and process agent run in thread with tools\n",
    "run = project_client.agents.create_and_process_run(thread_id=thread.id, agent_id=agent.id)\n",
    "print(f\"Run finished with status: {run.status}\")\n",
    "\n",
    "run_steps = project_client.agents.list_run_steps(run_id=run.id, thread_id=thread.id)\n",
    "run_steps_data = run_steps['data']\n",
    "print(f\"Last run step detail: {run_steps_data}\")"
   ]
  },
  {
   "cell_type": "code",
   "execution_count": 19,
   "id": "66e012c3-104e-4a76-9c3b-1ac77f9206d9",
   "metadata": {},
   "outputs": [
    {
     "name": "stdout",
     "output_type": "stream",
     "text": [
      "\u001b[1;31;34m\n",
      "The current stock value for Microsoft (MSFT) is $458.87 as of the latest closing session. Please note that stock prices can fluctuate during trading hours【7:9†source】.\n"
     ]
    }
   ],
   "source": [
    "print(\"\\033[1;31;34m\")\n",
    "messages = project_client.agents.list_messages(thread_id=thread.id)\n",
    "print(messages.data[0].content[0].text.value)"
   ]
  },
  {
   "cell_type": "code",
   "execution_count": 20,
   "id": "06f3df88-e34c-4e75-a765-8b72073517e1",
   "metadata": {},
   "outputs": [],
   "source": [
    "query = \"What are the weather informations for Paris? Use emojis and be funny\""
   ]
  },
  {
   "cell_type": "code",
   "execution_count": 21,
   "id": "4e9c4aa0-eb02-4393-a59f-d21b2212b4cb",
   "metadata": {},
   "outputs": [
    {
     "name": "stdout",
     "output_type": "stream",
     "text": [
      "Created message, ID: msg_TMBC71nXdjROxFFuAbasg4f0\n"
     ]
    }
   ],
   "source": [
    "# Create message to thread\n",
    "message = project_client.agents.create_message(\n",
    "    thread_id=thread.id,\n",
    "    role=\"user\",\n",
    "    content=query,\n",
    ")\n",
    "print(f\"Created message, ID: {message.id}\")"
   ]
  },
  {
   "cell_type": "code",
   "execution_count": 22,
   "id": "1031b659-96e9-4299-a32d-1d891f02120b",
   "metadata": {},
   "outputs": [
    {
     "name": "stdout",
     "output_type": "stream",
     "text": [
      "Run finished with status: completed\n",
      "Last run step detail: [{'id': 'step_WQjWl8lc6ZD8wqPvrMTARaFv', 'object': 'thread.run.step', 'created_at': 1747746414, 'run_id': 'run_n7Yu7kJXlUu2hoKmyBzyor9h', 'assistant_id': 'asst_nWbdIExnQumrKa5nsuDeteib', 'thread_id': 'thread_360vcZDfpbRCIhCpKTRpN2KQ', 'type': 'message_creation', 'status': 'completed', 'cancelled_at': None, 'completed_at': 1747746416, 'expires_at': None, 'failed_at': None, 'last_error': None, 'step_details': {'type': 'message_creation', 'message_creation': {'message_id': 'msg_q4YjDar8IdvauqNGrAZXbeA8'}}, 'usage': {'prompt_tokens': 1552, 'completion_tokens': 79, 'total_tokens': 1631, 'prompt_token_details': {'cached_tokens': 0}}}, {'id': 'step_vysZHTk5SrHNPy7WuCMKqkdD', 'object': 'thread.run.step', 'created_at': 1747746412, 'run_id': 'run_n7Yu7kJXlUu2hoKmyBzyor9h', 'assistant_id': 'asst_nWbdIExnQumrKa5nsuDeteib', 'thread_id': 'thread_360vcZDfpbRCIhCpKTRpN2KQ', 'type': 'tool_calls', 'status': 'completed', 'cancelled_at': None, 'completed_at': 1747746414, 'expires_at': None, 'failed_at': None, 'last_error': None, 'step_details': {'type': 'tool_calls', 'tool_calls': [{'id': 'call_yjLP8qdpLTaQ7ryA5dwTy3ez', 'type': 'bing_grounding', 'bing_grounding': {'requesturl': 'https://api.bing.microsoft.com/v7.0/search?q=Paris weather May 20 2025', 'response_metadata': None}}]}, 'usage': {'prompt_tokens': 694, 'completion_tokens': 17, 'total_tokens': 711, 'prompt_token_details': {'cached_tokens': 0}}}]\n"
     ]
    }
   ],
   "source": [
    "# Create and process agent run in thread with tools\n",
    "run = project_client.agents.create_and_process_run(thread_id=thread.id, agent_id=agent.id)\n",
    "print(f\"Run finished with status: {run.status}\")\n",
    "\n",
    "run_steps = project_client.agents.list_run_steps(run_id=run.id, thread_id=thread.id)\n",
    "run_steps_data = run_steps['data']\n",
    "print(f\"Last run step detail: {run_steps_data}\")"
   ]
  },
  {
   "cell_type": "code",
   "execution_count": 23,
   "id": "bf19724f-ba22-4204-a3ac-c20cc81584eb",
   "metadata": {},
   "outputs": [
    {
     "name": "stdout",
     "output_type": "stream",
     "text": [
      "\u001b[1;31;34m\n",
      "Today in Paris, it's 🌞 sunny with scattered clouds ☁️. Temperatures range from 12°C 🍂 in the morning to a comfy 24°C 🌷 in the afternoon—perfect for café-hopping! No rain ☔, but keep your sunglasses 😎 handy. Paris is glowing like the Eiffel Tower at night 🌟! 【11:2†source】\n"
     ]
    }
   ],
   "source": [
    "print(\"\\033[1;31;34m\")\n",
    "messages = project_client.agents.list_messages(thread_id=thread.id)\n",
    "print(messages.data[0].content[0].text.value)"
   ]
  },
  {
   "cell_type": "markdown",
   "id": "6d5f61ac-880e-4394-8e63-6feb8c740eb4",
   "metadata": {},
   "source": [
    "### Post processing"
   ]
  },
  {
   "cell_type": "code",
   "execution_count": 24,
   "id": "09813548-20f2-45da-a196-9de60edc18c7",
   "metadata": {},
   "outputs": [
    {
     "name": "stdout",
     "output_type": "stream",
     "text": [
      "Deleting agent asst_nWbdIExnQumrKa5nsuDeteib\n"
     ]
    }
   ],
   "source": [
    "agents = project_client.agents.list_agents()\n",
    "\n",
    "for i in range(len(agents.data)):\n",
    "    if agents.data[i].name == name:\n",
    "        print(f\"Deleting agent {agents.data[i].id}\")\n",
    "        project_client.agents.delete_agent(agents.data[i].id)"
   ]
  },
  {
   "cell_type": "code",
   "execution_count": null,
   "id": "62ca0e0a-8b50-44b5-819d-a7c202c01314",
   "metadata": {},
   "outputs": [],
   "source": []
  }
 ],
 "metadata": {
  "kernelspec": {
   "display_name": "Python 3.10 - SDK v2",
   "language": "python",
   "name": "python310-sdkv2"
  },
  "language_info": {
   "codemirror_mode": {
    "name": "ipython",
    "version": 3
   },
   "file_extension": ".py",
   "mimetype": "text/x-python",
   "name": "python",
   "nbconvert_exporter": "python",
   "pygments_lexer": "ipython3",
   "version": "3.10.14"
  },
  "varInspector": {
   "cols": {
    "lenName": 16,
    "lenType": 16,
    "lenVar": 40
   },
   "kernels_config": {
    "python": {
     "delete_cmd_postfix": "",
     "delete_cmd_prefix": "del ",
     "library": "var_list.py",
     "varRefreshCmd": "print(var_dic_list())"
    },
    "r": {
     "delete_cmd_postfix": ") ",
     "delete_cmd_prefix": "rm(",
     "library": "var_list.r",
     "varRefreshCmd": "cat(var_dic_list()) "
    }
   },
   "types_to_exclude": [
    "module",
    "function",
    "builtin_function_or_method",
    "instance",
    "_Feature"
   ],
   "window_display": false
  }
 },
 "nbformat": 4,
 "nbformat_minor": 5
}
