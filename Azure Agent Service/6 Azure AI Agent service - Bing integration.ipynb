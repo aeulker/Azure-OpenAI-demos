{
 "cells": [
  {
   "cell_type": "markdown",
   "id": "431cc026-279f-4105-8444-f1b93650da0d",
   "metadata": {},
   "source": [
    "# Azure AI Agent service - Bing integration\n",
    "\n",
    "<img src=\"https://learn.microsoft.com/en-us/azure/ai-services/agents/media/agent-service-the-glue.png\" width=800>\n",
    "\n",
    "> https://learn.microsoft.com/en-us/azure/ai-services/agents/"
   ]
  },
  {
   "cell_type": "code",
   "execution_count": 1,
   "id": "22eab459-0adb-42c1-86dd-ee4cdfb77c8a",
   "metadata": {},
   "outputs": [],
   "source": [
    "import datetime\n",
    "import os\n",
    "import sys\n",
    "\n",
    "from azure.ai.agents import AgentsClient\n",
    "from azure.ai.agents.models import BingGroundingTool, MessageRole, ListSortOrder\n",
    "from azure.identity import DefaultAzureCredential\n",
    "from dotenv import load_dotenv"
   ]
  },
  {
   "cell_type": "code",
   "execution_count": 2,
   "id": "65334de7-4005-401a-89c1-be24f75abbd9",
   "metadata": {},
   "outputs": [
    {
     "data": {
      "text/plain": [
       "True"
      ]
     },
     "execution_count": 2,
     "metadata": {},
     "output_type": "execute_result"
    }
   ],
   "source": [
    "load_dotenv(\"azure.env\")"
   ]
  },
  {
   "cell_type": "code",
   "execution_count": 3,
   "id": "92834c8e-8efd-40c9-b599-33e6fb95516e",
   "metadata": {},
   "outputs": [
    {
     "name": "stdout",
     "output_type": "stream",
     "text": [
      "Today is 10-Jun-2025 10:23:52\n"
     ]
    }
   ],
   "source": [
    "print(f\"Today is {datetime.datetime.today().strftime('%d-%b-%Y %H:%M:%S')}\")"
   ]
  },
  {
   "cell_type": "markdown",
   "id": "54fa0903-f907-4c7f-a51b-4893d15ff371",
   "metadata": {},
   "source": [
    "## Grounding Bing Search"
   ]
  },
  {
   "cell_type": "code",
   "execution_count": 4,
   "id": "76c7bbb7-0faa-4500-ba42-7c5b176f6196",
   "metadata": {},
   "outputs": [],
   "source": [
    "project_client = AgentsClient(\n",
    "    endpoint=os.getenv(\"PROJECT_ENDPOINT\"),\n",
    "    credential=DefaultAzureCredential(),\n",
    ")"
   ]
  },
  {
   "cell_type": "markdown",
   "id": "e31b2d3a",
   "metadata": {},
   "source": [
    "### Create connection to bing grounding service"
   ]
  },
  {
   "cell_type": "code",
   "execution_count": 5,
   "id": "4fd3e38c-22c7-4d57-9471-09a115f09477",
   "metadata": {},
   "outputs": [],
   "source": [
    "# Shoud be: /subscriptions/<subscription_id>/resourceGroups/<resource_group_name>/providers/Microsoft.CognitiveServices/accounts/<ai_service_name>/projects/<project_name>/con#nections/<connection_name>\n",
    "BING_CONN_ID = os.getenv(\"BING_CONN_ID\")"
   ]
  },
  {
   "cell_type": "code",
   "execution_count": 6,
   "id": "5c20b2ef-e913-4dc0-8bdf-116772d8fc9a",
   "metadata": {},
   "outputs": [
    {
     "data": {
      "text/plain": [
       "<azure.ai.agents.models._patch.BingGroundingTool at 0x7ff1a1590af0>"
      ]
     },
     "execution_count": 6,
     "metadata": {},
     "output_type": "execute_result"
    }
   ],
   "source": [
    "bing = BingGroundingTool(connection_id=BING_CONN_ID)\n",
    "bing"
   ]
  },
  {
   "cell_type": "markdown",
   "id": "1db5f5d1",
   "metadata": {},
   "source": [
    "### Create agent with Bing Grounding tool"
   ]
  },
  {
   "cell_type": "code",
   "execution_count": 7,
   "id": "f85e9d94-49a7-4d4e-a0ea-f64987951cb4",
   "metadata": {},
   "outputs": [
    {
     "name": "stdout",
     "output_type": "stream",
     "text": [
      "Created agent, ID: asst_jqrarwftZh6Yq5Pg8HNEuowv\n"
     ]
    }
   ],
   "source": [
    "# Create the agent with the Bing grounding tool\n",
    "instructions = \"You are an AI Agent that can do some web search using Bing\"\n",
    "\n",
    "agent = project_client.create_agent(\n",
    "    model=\"gpt-4o\",\n",
    "    name=\"Bing-grounding-agent\",\n",
    "    instructions=instructions,\n",
    "    tools=bing.definitions,\n",
    "    headers={\"x-ms-enable-preview\": \"true\"},\n",
    "    description=\"Agent with Grounding Bing Search\",\n",
    "    )\n",
    "\n",
    "print(f\"Created agent, ID: {agent.id}\")"
   ]
  },
  {
   "cell_type": "code",
   "execution_count": 8,
   "id": "44134d83-0c30-43e0-9acd-ef0465e24487",
   "metadata": {},
   "outputs": [],
   "source": [
    "id1 = agent.id"
   ]
  },
  {
   "cell_type": "code",
   "execution_count": 9,
   "id": "dd35b8d1-10ce-44a3-8d47-dea2854e73b8",
   "metadata": {},
   "outputs": [
    {
     "name": "stdout",
     "output_type": "stream",
     "text": [
      "Created thread, ID: thread_k5K7ix2iPJbzy2WRcgNpjQnz\n"
     ]
    }
   ],
   "source": [
    "# Create thread for communication\n",
    "thread = project_client.threads.create()\n",
    "print(f\"Created thread, ID: {thread.id}\")"
   ]
  },
  {
   "cell_type": "markdown",
   "id": "e037d937",
   "metadata": {},
   "source": [
    "### Example 1"
   ]
  },
  {
   "cell_type": "code",
   "execution_count": 10,
   "id": "411697dc-ec6b-4d80-8871-6d10003084d6",
   "metadata": {},
   "outputs": [],
   "source": [
    "query = \"What is the current price of MICROSOFT stock?\""
   ]
  },
  {
   "cell_type": "code",
   "execution_count": 11,
   "id": "03490def-7224-4253-813f-405f609d33b3",
   "metadata": {},
   "outputs": [
    {
     "name": "stdout",
     "output_type": "stream",
     "text": [
      "Created message, ID: msg_eTKaipnuISwUaQsL7w50JbkO\n"
     ]
    }
   ],
   "source": [
    "# Create message to thread\n",
    "message = project_client.messages.create(\n",
    "    thread_id=thread.id,\n",
    "    role=\"user\",\n",
    "    content=query,\n",
    ")\n",
    "\n",
    "print(f\"Created message, ID: {message.id}\")"
   ]
  },
  {
   "cell_type": "code",
   "execution_count": 12,
   "id": "dba66684",
   "metadata": {},
   "outputs": [
    {
     "name": "stdout",
     "output_type": "stream",
     "text": [
      "Run finished with status: completed\n"
     ]
    }
   ],
   "source": [
    "# Create and process agent run in thread with tools\n",
    "run = project_client.runs.create_and_process(thread_id=thread.id, agent_id=agent.id)\n",
    "print(f\"Run finished with status: {run.status}\")\n",
    "\n",
    "if run.status == \"failed\":\n",
    "    print(f\"Run failed: {run.last_error}\")"
   ]
  },
  {
   "cell_type": "code",
   "execution_count": 13,
   "id": "74bba1db-ecda-442a-a6c9-eb497ea3aae8",
   "metadata": {},
   "outputs": [
    {
     "name": "stdout",
     "output_type": "stream",
     "text": [
      "Step step_MAUNUCSN7aa6liIAVdqL8fpF status: completed\n",
      "Step step_ZcYPiTmenoW3OW8VG9YUEhr9 status: completed\n",
      "    Tool Call ID: call_G6yGcG1DqtP56n6RFiAICysP\n",
      "    Type: bing_grounding\n",
      "    Bing Grounding ID: https://api.bing.microsoft.com/v7.0/search?q=current price of Microsoft stock June 6 2025\n",
      "\n",
      "Run usage: {'prompt_tokens': 1625, 'completion_tokens': 83, 'total_tokens': 1708, 'prompt_token_details': {'cached_tokens': 0}}\n"
     ]
    }
   ],
   "source": [
    "# Fetch run steps to get the details of the agent run\n",
    "try:\n",
    "    run_steps = project_client.run_steps.list(thread_id=thread.id, run_id=run.id)\n",
    "    for step in run_steps:\n",
    "        print(f\"Step {step['id']} status: {step['status']}\")\n",
    "        step_details = step.get(\"step_details\", {})\n",
    "        tool_calls = step_details.get(\"tool_calls\", [])\n",
    "\n",
    "        if tool_calls:\n",
    "            for call in tool_calls:\n",
    "                print(f\"    Tool Call ID: {call.get('id')}\")\n",
    "                print(f\"    Type: {call.get('type')}\")\n",
    "\n",
    "                bing_grounding_details = call.get(\"bing_grounding\", {})\n",
    "                if bing_grounding_details:\n",
    "                    print(f\"    Bing Grounding ID: {bing_grounding_details.get('requesturl')}\")\n",
    "except Exception as e:\n",
    "    print(f\"Error fetching run steps: {e}\")\n",
    "\n",
    "try:\n",
    "    usage = run.usage\n",
    "    print(f\"\\nRun usage: {usage}\")\n",
    "except AttributeError:\n",
    "    print(\"Run object has no attribute 'usage'\")\n",
    "except Exception as e:\n",
    "    print(f\"Error accessing run usage: {e}\")"
   ]
  },
  {
   "cell_type": "code",
   "execution_count": 15,
   "id": "ca0e63af",
   "metadata": {},
   "outputs": [
    {
     "name": "stdout",
     "output_type": "stream",
     "text": [
      "Agent response:\n",
      "The current price of Microsoft (MSFT) stock as of June 6, 2025, is $470.38, marking a rise of $2.70 (+0.58%) from the previous trading day【3:1†source】【3:2†source】.\n",
      "\n",
      "URL Citation: [Microsoft (MSFT) Stock Price History & Chart Since 1986](https://wallstreetnumbers.com/stocks/msft/price)\n",
      "URL Citation: [Microsoft - 39 Year Stock Price History | MSFT - Macrotrends](https://www.macrotrends.net/stocks/charts/MSFT/microsoft/stock-price-history)\n"
     ]
    }
   ],
   "source": [
    "# Print the Agent's response message with optional citation\n",
    "response_message = project_client.messages.get_last_message_by_role(thread_id=thread.id, role=MessageRole.AGENT)\n",
    "\n",
    "if response_message:\n",
    "    for text_message in response_message.text_messages:\n",
    "        print(f\"Agent response:\\n{text_message.text.value}\\n\")\n",
    "    for annotation in response_message.url_citation_annotations:\n",
    "        print(f\"URL Citation: [{annotation.url_citation.title}]({annotation.url_citation.url})\")"
   ]
  },
  {
   "cell_type": "markdown",
   "id": "c7cf6b14",
   "metadata": {},
   "source": [
    "### Example 2"
   ]
  },
  {
   "cell_type": "code",
   "execution_count": 16,
   "id": "547a800a-7563-4a01-a846-c9953b31378a",
   "metadata": {},
   "outputs": [],
   "source": [
    "query = \"What are the news about the Apple WWDC event?\""
   ]
  },
  {
   "cell_type": "code",
   "execution_count": 17,
   "id": "e8877602",
   "metadata": {},
   "outputs": [
    {
     "name": "stdout",
     "output_type": "stream",
     "text": [
      "Created message, ID: msg_ahDcUs5puUCdnGxR8dyj5hSp\n"
     ]
    }
   ],
   "source": [
    "# Create message to thread\n",
    "message = project_client.messages.create(\n",
    "    thread_id=thread.id,\n",
    "    role=\"user\",\n",
    "    content=query,\n",
    ")\n",
    "\n",
    "print(f\"Created message, ID: {message.id}\")"
   ]
  },
  {
   "cell_type": "code",
   "execution_count": 18,
   "id": "cbb3202b",
   "metadata": {},
   "outputs": [
    {
     "name": "stdout",
     "output_type": "stream",
     "text": [
      "Run finished with status: completed\n"
     ]
    }
   ],
   "source": [
    "# Create and process agent run in thread with tools\n",
    "run = project_client.runs.create_and_process(thread_id=thread.id, agent_id=agent.id)\n",
    "print(f\"Run finished with status: {run.status}\")\n",
    "\n",
    "if run.status == \"failed\":\n",
    "    print(f\"Run failed: {run.last_error}\")"
   ]
  },
  {
   "cell_type": "code",
   "execution_count": 19,
   "id": "8f099ab3",
   "metadata": {},
   "outputs": [
    {
     "name": "stdout",
     "output_type": "stream",
     "text": [
      "Step step_GHvPF6dLfZUsCbprhEs6f254 status: completed\n",
      "Step step_12xlhoJy9vLVhy7KSVXloYjE status: completed\n",
      "    Tool Call ID: call_z6RxjH7TraZIsgf2Sxfp3GI5\n",
      "    Type: bing_grounding\n",
      "    Bing Grounding ID: https://api.bing.microsoft.com/v7.0/search?q=Apple WWDC 2025 news updates June 5 2025\n",
      "\n",
      "Run usage: {'prompt_tokens': 1550, 'completion_tokens': 92, 'total_tokens': 1642, 'prompt_token_details': {'cached_tokens': 0}}\n"
     ]
    }
   ],
   "source": [
    "# Fetch run steps to get the details of the agent run\n",
    "try:\n",
    "    run_steps = project_client.run_steps.list(thread_id=thread.id, run_id=run.id)\n",
    "    for step in run_steps:\n",
    "        print(f\"Step {step['id']} status: {step['status']}\")\n",
    "        step_details = step.get(\"step_details\", {})\n",
    "        tool_calls = step_details.get(\"tool_calls\", [])\n",
    "\n",
    "        if tool_calls:\n",
    "            for call in tool_calls:\n",
    "                print(f\"    Tool Call ID: {call.get('id')}\")\n",
    "                print(f\"    Type: {call.get('type')}\")\n",
    "\n",
    "                bing_grounding_details = call.get(\"bing_grounding\", {})\n",
    "                if bing_grounding_details:\n",
    "                    print(f\"    Bing Grounding ID: {bing_grounding_details.get('requesturl')}\")\n",
    "except Exception as e:\n",
    "    print(f\"Error fetching run steps: {e}\")\n",
    "\n",
    "try:\n",
    "    usage = run.usage\n",
    "    print(f\"\\nRun usage: {usage}\")\n",
    "except AttributeError:\n",
    "    print(\"Run object has no attribute 'usage'\")\n",
    "except Exception as e:\n",
    "    print(f\"Error accessing run usage: {e}\")"
   ]
  },
  {
   "cell_type": "code",
   "execution_count": 22,
   "id": "6ff39030",
   "metadata": {},
   "outputs": [
    {
     "name": "stdout",
     "output_type": "stream",
     "text": [
      "Agent response:\n",
      "Apple's WWDC 2025 event has revealed several key updates, including the introduction of iOS 26, advancements in macOS, and the unveiling of a new feature named Liquid Glass. The event continues throughout the week, showcasing Apple's latest innovations【3:0†source】【3:1†source】.\n",
      "\n"
     ]
    }
   ],
   "source": [
    "response_message = project_client.messages.get_last_message_by_role(thread_id=thread.id, role=MessageRole.AGENT)\n",
    "\n",
    "if response_message:\n",
    "    for text_message in response_message.text_messages:\n",
    "        print(f\"Agent response:\\n{text_message.text.value}\\n\")"
   ]
  },
  {
   "cell_type": "markdown",
   "id": "8953bb8f",
   "metadata": {},
   "source": [
    "### Example 3"
   ]
  },
  {
   "cell_type": "code",
   "execution_count": 23,
   "id": "06f3df88-e34c-4e75-a765-8b72073517e1",
   "metadata": {},
   "outputs": [],
   "source": [
    "query = \"What are the weather informations for Mexico city? Show the report and use emojis and be funny\""
   ]
  },
  {
   "cell_type": "code",
   "execution_count": 24,
   "id": "543d4b7b",
   "metadata": {},
   "outputs": [
    {
     "name": "stdout",
     "output_type": "stream",
     "text": [
      "Created message, ID: msg_tYxXi2wyEBowBjCaNXnd85sh\n"
     ]
    }
   ],
   "source": [
    "# Create message to thread\n",
    "message = project_client.messages.create(\n",
    "    thread_id=thread.id,\n",
    "    role=\"user\",\n",
    "    content=query,\n",
    ")\n",
    "\n",
    "print(f\"Created message, ID: {message.id}\")"
   ]
  },
  {
   "cell_type": "code",
   "execution_count": 25,
   "id": "2ea5faeb",
   "metadata": {},
   "outputs": [
    {
     "name": "stdout",
     "output_type": "stream",
     "text": [
      "Run finished with status: completed\n"
     ]
    }
   ],
   "source": [
    "# Create and process agent run in thread with tools\n",
    "run = project_client.runs.create_and_process(thread_id=thread.id, agent_id=agent.id)\n",
    "print(f\"Run finished with status: {run.status}\")\n",
    "\n",
    "if run.status == \"failed\":\n",
    "    print(f\"Run failed: {run.last_error}\")"
   ]
  },
  {
   "cell_type": "code",
   "execution_count": 26,
   "id": "8395971f",
   "metadata": {},
   "outputs": [
    {
     "name": "stdout",
     "output_type": "stream",
     "text": [
      "Step step_mIKbfFpaYszjSIlqevab0ZUy status: completed\n",
      "Step step_RivOswRfIYSNcUZITZdOHewl status: completed\n",
      "    Tool Call ID: call_Rjzcjv5pflGB9EBrdkS9htAM\n",
      "    Type: bing_grounding\n",
      "    Bing Grounding ID: https://api.bing.microsoft.com/v7.0/search?q=current weather in Mexico City June 5 2025\n",
      "\n",
      "Run usage: {'prompt_tokens': 1794, 'completion_tokens': 126, 'total_tokens': 1920, 'prompt_token_details': {'cached_tokens': 0}}\n"
     ]
    }
   ],
   "source": [
    "# Fetch run steps to get the details of the agent run\n",
    "try:\n",
    "    run_steps = project_client.run_steps.list(thread_id=thread.id, run_id=run.id)\n",
    "    for step in run_steps:\n",
    "        print(f\"Step {step['id']} status: {step['status']}\")\n",
    "        step_details = step.get(\"step_details\", {})\n",
    "        tool_calls = step_details.get(\"tool_calls\", [])\n",
    "\n",
    "        if tool_calls:\n",
    "            for call in tool_calls:\n",
    "                print(f\"    Tool Call ID: {call.get('id')}\")\n",
    "                print(f\"    Type: {call.get('type')}\")\n",
    "\n",
    "                bing_grounding_details = call.get(\"bing_grounding\", {})\n",
    "                if bing_grounding_details:\n",
    "                    print(f\"    Bing Grounding ID: {bing_grounding_details.get('requesturl')}\")\n",
    "except Exception as e:\n",
    "    print(f\"Error fetching run steps: {e}\")\n",
    "\n",
    "try:\n",
    "    usage = run.usage\n",
    "    print(f\"\\nRun usage: {usage}\")\n",
    "except AttributeError:\n",
    "    print(\"Run object has no attribute 'usage'\")\n",
    "except Exception as e:\n",
    "    print(f\"Error accessing run usage: {e}\")"
   ]
  },
  {
   "cell_type": "code",
   "execution_count": 27,
   "id": "7b3f4698",
   "metadata": {},
   "outputs": [
    {
     "name": "stdout",
     "output_type": "stream",
     "text": [
      "Agent response:\n",
      "🌤️ Hola from Mexico City! Here's your weather report:\n",
      "\n",
      "- Today's temperature: Breezy at 23°C (73°F) 🥳.\n",
      "- 🌬️ Snuggly nights at 11°C (52°F). Bring a jacket, or maybe warmth from some tacos 🌮 😋?\n",
      "- Rain? Chance at 20% – so pack an umbrella ☂️, or live your \"singin’-in-the-rain\" fantasy.\n",
      "\n",
      "Stay cool, stay spicy! 🔥\n",
      "\n"
     ]
    }
   ],
   "source": [
    "response_message = project_client.messages.get_last_message_by_role(thread_id=thread.id, role=MessageRole.AGENT)\n",
    "\n",
    "if response_message:\n",
    "    for text_message in response_message.text_messages:\n",
    "        print(f\"Agent response:\\n{text_message.text.value}\\n\")"
   ]
  },
  {
   "cell_type": "markdown",
   "id": "199e0a0f-6661-4edd-aecb-8e4cf29f9800",
   "metadata": {},
   "source": [
    "### Example 4"
   ]
  },
  {
   "cell_type": "code",
   "execution_count": 40,
   "id": "303ef011-813d-4f11-b313-8d0aa9c1b323",
   "metadata": {},
   "outputs": [],
   "source": [
    "query = \"List the top-10 movies of Spielberg by release date\""
   ]
  },
  {
   "cell_type": "code",
   "execution_count": 41,
   "id": "5026c02e-139c-4dcc-8554-ed60bada8471",
   "metadata": {},
   "outputs": [
    {
     "name": "stdout",
     "output_type": "stream",
     "text": [
      "Created message, ID: msg_4DbRCMoncww3M9hQ6WIoYqDm\n"
     ]
    }
   ],
   "source": [
    "# Create message to thread\n",
    "message = project_client.messages.create(\n",
    "    thread_id=thread.id,\n",
    "    role=\"user\",\n",
    "    content=query,\n",
    ")\n",
    "\n",
    "print(f\"Created message, ID: {message.id}\")"
   ]
  },
  {
   "cell_type": "code",
   "execution_count": 42,
   "id": "96d0ec9d-ba4f-4a42-8123-dd86cb03370e",
   "metadata": {},
   "outputs": [
    {
     "name": "stdout",
     "output_type": "stream",
     "text": [
      "Run finished with status: completed\n"
     ]
    }
   ],
   "source": [
    "# Create and process agent run in thread with tools\n",
    "run = project_client.runs.create_and_process(thread_id=thread.id, agent_id=agent.id)\n",
    "print(f\"Run finished with status: {run.status}\")\n",
    "\n",
    "if run.status == \"failed\":\n",
    "    print(f\"Run failed: {run.last_error}\")"
   ]
  },
  {
   "cell_type": "code",
   "execution_count": 43,
   "id": "7e56571c-86f2-442d-bb76-513cd13c8e4b",
   "metadata": {},
   "outputs": [
    {
     "name": "stdout",
     "output_type": "stream",
     "text": [
      "Step step_HnWOgivD6La8YecWthDRXVV2 status: completed\n",
      "\n",
      "Run usage: {'prompt_tokens': 1158, 'completion_tokens': 251, 'total_tokens': 1409, 'prompt_token_details': {'cached_tokens': 0}}\n"
     ]
    }
   ],
   "source": [
    "# Fetch run steps to get the details of the agent run\n",
    "try:\n",
    "    run_steps = project_client.run_steps.list(thread_id=thread.id, run_id=run.id)\n",
    "    for step in run_steps:\n",
    "        print(f\"Step {step['id']} status: {step['status']}\")\n",
    "        step_details = step.get(\"step_details\", {})\n",
    "        tool_calls = step_details.get(\"tool_calls\", [])\n",
    "\n",
    "        if tool_calls:\n",
    "            for call in tool_calls:\n",
    "                print(f\"    Tool Call ID: {call.get('id')}\")\n",
    "                print(f\"    Type: {call.get('type')}\")\n",
    "\n",
    "                bing_grounding_details = call.get(\"bing_grounding\", {})\n",
    "                if bing_grounding_details:\n",
    "                    print(f\"    Bing Grounding ID: {bing_grounding_details.get('requesturl')}\")\n",
    "except Exception as e:\n",
    "    print(f\"Error fetching run steps: {e}\")\n",
    "\n",
    "try:\n",
    "    usage = run.usage\n",
    "    print(f\"\\nRun usage: {usage}\")\n",
    "except AttributeError:\n",
    "    print(\"Run object has no attribute 'usage'\")\n",
    "except Exception as e:\n",
    "    print(f\"Error accessing run usage: {e}\")"
   ]
  },
  {
   "cell_type": "code",
   "execution_count": 44,
   "id": "115da3ef-ffdd-4a3a-a4ce-8402efada546",
   "metadata": {},
   "outputs": [
    {
     "name": "stdout",
     "output_type": "stream",
     "text": [
      "Agent response:\n",
      "Here are Spielberg's **top 10 movies** (by release dates):\n",
      "\n",
      "1. **Duel** (1971) 🚗🔥\n",
      "2. **The Sugarland Express** (1974) 🚓\n",
      "3. **Jaws** (1975) 🦈 - *The one that made you afraid of beaches!*\n",
      "4. **Close Encounters of the Third Kind** (1977) 👽\n",
      "5. **1941** (1979) 🚨 *- chaotic comedy time!*\n",
      "6. **Raiders of the Lost Ark** (1981) 🏺 *Adventurer's dream begins!*\n",
      "7. **E.T. the Extra-Terrestrial** (1982) 🌌👾 - *Phone home, E.T.!*\n",
      "8. **Indiana Jones and the Temple of Doom** (1984) 🕶️ - *More Indie action!*\n",
      "9. **The Color Purple** (1985) 💜 – An emotional rollercoaster.\n",
      "10. **Empire of the Sun** (1987) ✈️🔥 – WWII with young Bale! \n",
      "\n",
      "Spielberg's oldies are pure gold—catch up on them if you haven't! ✨\n",
      "\n"
     ]
    }
   ],
   "source": [
    "response_message = project_client.messages.get_last_message_by_role(thread_id=thread.id, role=MessageRole.AGENT)\n",
    "\n",
    "if response_message:\n",
    "    for text_message in response_message.text_messages:\n",
    "        print(f\"Agent response:\\n{text_message.text.value}\\n\")"
   ]
  },
  {
   "cell_type": "markdown",
   "id": "6d5f61ac-880e-4394-8e63-6feb8c740eb4",
   "metadata": {},
   "source": [
    "### Post processing"
   ]
  },
  {
   "cell_type": "code",
   "execution_count": 38,
   "id": "c2e0842b",
   "metadata": {},
   "outputs": [
    {
     "name": "stdout",
     "output_type": "stream",
     "text": [
      "Listing all agents in the project:\n",
      "\n",
      "Agent ID: asst_jqrarwftZh6Yq5Pg8HNEuowv, Name: Bing-grounding-agent, Model: gpt-4o, Instructions: You are an AI Agent that can do some web search using Bing\n",
      "Agent ID: asst_GCSPuojnFZT7jgOu93Dtx9ES, Name: Bing-grounding-agent, Model: gpt-4o, Instructions: You are an AI Agent that can do some web search using Bing\n",
      "Agent ID: asst_AtWIKCQ5eNmeipBttg6b5oQa, Name: gpt-4o-mini-weather-agent, Model: gpt-4o, Instructions: You are a weather bot. Use the provided functions to help answer questions.\n"
     ]
    }
   ],
   "source": [
    "# List all agents in the project\n",
    "print(\"Listing all agents in the project:\\n\")\n",
    "\n",
    "agents = project_client.list_agents()\n",
    "for agent in agents:\n",
    "    print(f\"Agent ID: {agent.id}, Name: {agent.name}, Model: {agent.model}, Instructions: {agent.instructions}\")"
   ]
  },
  {
   "cell_type": "code",
   "execution_count": 39,
   "id": "478c4dc5-67d4-4bb7-a2a2-fd2fc79ed8c9",
   "metadata": {},
   "outputs": [],
   "source": [
    "#project_client.delete_agent(id1)\n",
    "#print(f\"Deleted agent, agent ID: {id1}\")"
   ]
  },
  {
   "cell_type": "code",
   "execution_count": null,
   "id": "539bcc6f-ed90-4093-8c8d-1836296a010f",
   "metadata": {},
   "outputs": [],
   "source": []
  }
 ],
 "metadata": {
  "kernelspec": {
   "display_name": "Python 3.10 - SDK v2",
   "language": "python",
   "name": "python310-sdkv2"
  },
  "language_info": {
   "codemirror_mode": {
    "name": "ipython",
    "version": 3
   },
   "file_extension": ".py",
   "mimetype": "text/x-python",
   "name": "python",
   "nbconvert_exporter": "python",
   "pygments_lexer": "ipython3",
   "version": "3.10.14"
  },
  "varInspector": {
   "cols": {
    "lenName": 16,
    "lenType": 16,
    "lenVar": 40
   },
   "kernels_config": {
    "python": {
     "delete_cmd_postfix": "",
     "delete_cmd_prefix": "del ",
     "library": "var_list.py",
     "varRefreshCmd": "print(var_dic_list())"
    },
    "r": {
     "delete_cmd_postfix": ") ",
     "delete_cmd_prefix": "rm(",
     "library": "var_list.r",
     "varRefreshCmd": "cat(var_dic_list()) "
    }
   },
   "types_to_exclude": [
    "module",
    "function",
    "builtin_function_or_method",
    "instance",
    "_Feature"
   ],
   "window_display": false
  }
 },
 "nbformat": 4,
 "nbformat_minor": 5
}
