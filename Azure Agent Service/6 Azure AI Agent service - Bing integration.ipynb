{
 "cells": [
  {
   "cell_type": "markdown",
   "id": "431cc026-279f-4105-8444-f1b93650da0d",
   "metadata": {},
   "source": [
    "# Azure AI Agent service - Bing integration\n",
    "\n",
    "<img src=\"https://learn.microsoft.com/en-us/azure/ai-services/agents/media/agent-service-the-glue.png\" width=800>\n",
    "\n",
    "> https://learn.microsoft.com/en-us/azure/ai-services/agents/"
   ]
  },
  {
   "cell_type": "code",
   "execution_count": 1,
   "id": "22eab459-0adb-42c1-86dd-ee4cdfb77c8a",
   "metadata": {},
   "outputs": [],
   "source": [
    "import datetime\n",
    "import os\n",
    "import sys\n",
    "import time\n",
    "\n",
    "from azure.ai.agents import AgentsClient\n",
    "from azure.ai.agents.models import BingGroundingTool, MessageRole, ListSortOrder\n",
    "from azure.identity import DefaultAzureCredential\n",
    "from dotenv import load_dotenv"
   ]
  },
  {
   "cell_type": "code",
   "execution_count": 2,
   "id": "65334de7-4005-401a-89c1-be24f75abbd9",
   "metadata": {},
   "outputs": [
    {
     "data": {
      "text/plain": [
       "True"
      ]
     },
     "execution_count": 2,
     "metadata": {},
     "output_type": "execute_result"
    }
   ],
   "source": [
    "load_dotenv(\"azure.env\")"
   ]
  },
  {
   "cell_type": "code",
   "execution_count": 3,
   "id": "92834c8e-8efd-40c9-b599-33e6fb95516e",
   "metadata": {},
   "outputs": [
    {
     "name": "stdout",
     "output_type": "stream",
     "text": [
      "Today is 16-Jun-2025 15:04:40\n"
     ]
    }
   ],
   "source": [
    "print(f\"Today is {datetime.datetime.today().strftime('%d-%b-%Y %H:%M:%S')}\")"
   ]
  },
  {
   "cell_type": "markdown",
   "id": "54fa0903-f907-4c7f-a51b-4893d15ff371",
   "metadata": {},
   "source": [
    "## Grounding Bing Search"
   ]
  },
  {
   "cell_type": "code",
   "execution_count": 4,
   "id": "76c7bbb7-0faa-4500-ba42-7c5b176f6196",
   "metadata": {},
   "outputs": [],
   "source": [
    "project_client = AgentsClient(\n",
    "    endpoint=os.getenv(\"PROJECT_ENDPOINT\"),\n",
    "    credential=DefaultAzureCredential(),\n",
    ")"
   ]
  },
  {
   "cell_type": "markdown",
   "id": "e31b2d3a",
   "metadata": {},
   "source": [
    "### Create connection to bing grounding service"
   ]
  },
  {
   "cell_type": "code",
   "execution_count": 5,
   "id": "4fd3e38c-22c7-4d57-9471-09a115f09477",
   "metadata": {},
   "outputs": [],
   "source": [
    "# Shoud be: /subscriptions/<subscription_id>/resourceGroups/<resource_group_name>/providers/Microsoft.CognitiveServices/accounts/<ai_service_name>/projects/<project_name>/con#nections/<connection_name>\n",
    "BING_CONN_ID = os.getenv(\"BING_CONN_ID\")"
   ]
  },
  {
   "cell_type": "code",
   "execution_count": 6,
   "id": "5c20b2ef-e913-4dc0-8bdf-116772d8fc9a",
   "metadata": {},
   "outputs": [
    {
     "data": {
      "text/plain": [
       "<azure.ai.agents.models._patch.BingGroundingTool at 0x7f22ded8f1c0>"
      ]
     },
     "execution_count": 6,
     "metadata": {},
     "output_type": "execute_result"
    }
   ],
   "source": [
    "bing = BingGroundingTool(connection_id=BING_CONN_ID)\n",
    "bing"
   ]
  },
  {
   "cell_type": "markdown",
   "id": "1db5f5d1",
   "metadata": {},
   "source": [
    "### Create agent with Bing Grounding tool"
   ]
  },
  {
   "cell_type": "code",
   "execution_count": 7,
   "id": "f85e9d94-49a7-4d4e-a0ea-f64987951cb4",
   "metadata": {},
   "outputs": [
    {
     "name": "stdout",
     "output_type": "stream",
     "text": [
      "Created agent, ID: asst_Bec0Qgf94V0aViRqtLNvfT6F\n"
     ]
    }
   ],
   "source": [
    "# Create the agent with the Bing grounding tool\n",
    "agent = project_client.create_agent(\n",
    "    model=\"gpt-4o\",\n",
    "    temperature=0.7,\n",
    "    name=\"Bing-grounding-agent-demo\",\n",
    "    instructions=\"You are an AI Agent that can do some web search using Bing\",\n",
    "    tools=bing.definitions,\n",
    "    headers={\"x-ms-enable-preview\": \"true\"},\n",
    "    description=\"Agent with Grounding Bing Search\",\n",
    "    )\n",
    "\n",
    "print(f\"Created agent, ID: {agent.id}\")"
   ]
  },
  {
   "cell_type": "markdown",
   "id": "e037d937",
   "metadata": {},
   "source": [
    "### Example 1"
   ]
  },
  {
   "cell_type": "code",
   "execution_count": 8,
   "id": "411697dc-ec6b-4d80-8871-6d10003084d6",
   "metadata": {},
   "outputs": [],
   "source": [
    "prompt = \"What is the current price of the MICROSOFT stock in USD?\""
   ]
  },
  {
   "cell_type": "code",
   "execution_count": 9,
   "id": "87d18c42-dbea-406f-bdd1-3382602bb375",
   "metadata": {},
   "outputs": [
    {
     "name": "stdout",
     "output_type": "stream",
     "text": [
      "🧵 [1] Created thread | ID: thread_o14Kw5RCKTo3xkowztwm481J\n",
      "💬 [2] Created message | ID: msg_gp2m9khkamUrKz7ikhUjwhJY\n",
      "🏃 [3] Created run | ID: run_CndzWjTbm3JCKsllb4yOodUx\n",
      "⏳ [4] Polling run status...\n",
      "🔄 Status: in_progress\n",
      "🔄 Status: completed\n",
      "\n",
      "🤖 [5] Agent responses:\n",
      "\u001b[1;34m\n",
      "💡 → What is the current price of the MICROSOFT stock in USD?\n",
      "\u001b[1;34m\n",
      "💡 → The current price of Microsoft (MSFT) stock is $474.96 USD, as of the latest market close on June 13, 2025【3:1†source】【3:3†source】.\n",
      "\u001b[1;32m\n",
      "🔗 URL Citation: [Microsoft (MSFT) Stock Price History & Chart Since 1986](https://wallstreetnumbers.com/stocks/msft/price)\n",
      "🔗 URL Citation: [Microsoft (MSFT) Stock Price & Overview - Stock Analysis](https://stockanalysis.com/stocks/msft/)\n",
      "\u001b[0m\n"
     ]
    }
   ],
   "source": [
    "# Step 1: Create a thread\n",
    "thread = project_client.threads.create()\n",
    "print(f\"🧵 [1] Created thread | ID: {thread.id}\")\n",
    "\n",
    "# Step 2: Send the user's message\n",
    "message = project_client.messages.create(thread_id=thread.id,\n",
    "                                         role=\"user\",\n",
    "                                         content=prompt)\n",
    "print(f\"💬 [2] Created message | ID: {message.id}\")\n",
    "\n",
    "# Step 3: Start a run\n",
    "run = project_client.runs.create(thread_id=thread.id,\n",
    "                                 agent_id=agent.id)\n",
    "print(f\"🏃 [3] Created run | ID: {run.id}\")\n",
    "\n",
    "# Step 4: Poll run status\n",
    "print(\"⏳ [4] Polling run status...\")\n",
    "while run.status in {\"queued\", \"in_progress\", \"requires_action\"}:\n",
    "    time.sleep(1)\n",
    "    run = project_client.runs.get(thread_id=thread.id, run_id=run.id)\n",
    "    print(f\"🔄 Status: {run.status}\")\n",
    "\n",
    "    if run.status == \"failed\":\n",
    "        print(f\"❌ Run failed | Error: {run.last_error}\")\n",
    "        break\n",
    "\n",
    "# Step 5: Display agent responses\n",
    "print(\"\\n🤖 [5] Agent responses:\")\n",
    "messages = project_client.messages.list(thread_id=thread.id,\n",
    "                                        order=ListSortOrder.ASCENDING)\n",
    "\n",
    "for msg in messages:\n",
    "    print(\"\\033[1;34m\")  # Blue text for agent messages\n",
    "    if msg.text_messages:\n",
    "        for text_message in msg.text_messages:\n",
    "            print(f\"💡 → {text_message.text.value}\")\n",
    "    if msg.url_citation_annotations:\n",
    "        print(\"\\033[1;32m\")  # Green text for citations\n",
    "        for annotation in msg.url_citation_annotations:\n",
    "            print(\n",
    "                f\"🔗 URL Citation: [{annotation.url_citation.title}]({annotation.url_citation.url})\"\n",
    "            )\n",
    "\n",
    "print(\"\\033[0m\")  # Reset color"
   ]
  },
  {
   "cell_type": "markdown",
   "id": "c7cf6b14",
   "metadata": {},
   "source": [
    "### Example 2"
   ]
  },
  {
   "cell_type": "code",
   "execution_count": 11,
   "id": "547a800a-7563-4a01-a846-c9953b31378a",
   "metadata": {},
   "outputs": [],
   "source": [
    "prompt = \"What are the news about the 2025 WWDC event?\""
   ]
  },
  {
   "cell_type": "code",
   "execution_count": 12,
   "id": "82af2e46-786b-452a-ac39-cc2578eb0d22",
   "metadata": {},
   "outputs": [
    {
     "name": "stdout",
     "output_type": "stream",
     "text": [
      "🧵 [1] Created thread | ID: thread_o6ntZWn8HmEvHUo7Hxn4qE2r\n",
      "💬 [2] Created message | ID: msg_XzrAw4pwT1knpVLhnNMrom5H\n",
      "🏃 [3] Created run | ID: run_zB0HBO8VMdp3MZCFGhjLl5j5\n",
      "⏳ [4] Polling run status...\n",
      "🔄 Status: in_progress\n",
      "🔄 Status: in_progress\n",
      "🔄 Status: in_progress\n",
      "🔄 Status: completed\n",
      "\n",
      "🤖 [5] Agent responses:\n",
      "\u001b[1;34m\n",
      "💡 → What are the news about the 2025 WWDC event?\n",
      "\u001b[1;34m\n",
      "💡 → The 2025 Apple Worldwide Developers Conference (WWDC) has unveiled significant updates, including:\n",
      "\n",
      "1. **iOS 26 and Liquid Glass UI**: Apple introduced a major visual overhaul, \"Liquid Glass,\" for iOS 26, featuring shiny, transparent, and responsive design elements. This marks Apple’s most dramatic design change in over a decade【3:1†source】【3:2†source】.\n",
      "\n",
      "2. **Unified Naming Scheme**: All Apple platforms, such as macOS, iPadOS, and watchOS, are now adopting year-based names (e.g., iOS 26), aligning with the calendar year【3:1†source】.\n",
      "\n",
      "3. **Gaming and AI Enhancements**: A dedicated Games app centralizes gaming experiences, while \"Apple Intelligence\" introduces AI-powered features like live translations integrated into core apps【3:2†source】【3:3†source】.\n",
      "\n",
      "4. **Other Updates**: WatchOS 26 includes a redesigned interface and new fitness features, and macOS and iPadOS receive incremental upgrades【3:1†source】.\n",
      "\n",
      "No major hardware announcements were made during this event.\n",
      "\u001b[1;32m\n",
      "🔗 URL Citation: [WWDC 2025: Everything announced, including Liquid Glass, Apple ...](https://techcrunch.com/2025/06/09/wwdc-2025-everything-announced-including-liquid-glass-apple-intelligence-updates-and-more/)\n",
      "🔗 URL Citation: [Everything announced during Apple's WWDC 2025 keynote event - Mashable](https://mashable.com/article/apple-wwdc-2025-news)\n",
      "🔗 URL Citation: [WWDC 2025: Everything announced, including Liquid Glass, Apple ...](https://techcrunch.com/2025/06/09/wwdc-2025-everything-announced-including-liquid-glass-apple-intelligence-updates-and-more/)\n",
      "🔗 URL Citation: [Everything announced during Apple's WWDC 2025 keynote event - Mashable](https://mashable.com/article/apple-wwdc-2025-news)\n",
      "🔗 URL Citation: [WWDC 2025 live: Updates from Apple's keynote including new ... - Engadget](https://www.engadget.com/big-tech/wwdc-2025-live-updates-from-apples-keynote-including-new-ios-ipados-apple-intelligence-and-more-141640595.html)\n",
      "🔗 URL Citation: [WWDC 2025: Everything announced, including Liquid Glass, Apple ...](https://techcrunch.com/2025/06/09/wwdc-2025-everything-announced-including-liquid-glass-apple-intelligence-updates-and-more/)\n",
      "\u001b[0m\n"
     ]
    }
   ],
   "source": [
    "# Step 1: Create a thread\n",
    "thread = project_client.threads.create()\n",
    "print(f\"🧵 [1] Created thread | ID: {thread.id}\")\n",
    "\n",
    "# Step 2: Send the user's message\n",
    "message = project_client.messages.create(thread_id=thread.id,\n",
    "                                         role=\"user\",\n",
    "                                         content=prompt)\n",
    "print(f\"💬 [2] Created message | ID: {message.id}\")\n",
    "\n",
    "# Step 3: Start a run\n",
    "run = project_client.runs.create(thread_id=thread.id,\n",
    "                                 agent_id=agent.id)\n",
    "print(f\"🏃 [3] Created run | ID: {run.id}\")\n",
    "\n",
    "# Step 4: Poll run status\n",
    "print(\"⏳ [4] Polling run status...\")\n",
    "while run.status in {\"queued\", \"in_progress\", \"requires_action\"}:\n",
    "    time.sleep(1)\n",
    "    run = project_client.runs.get(thread_id=thread.id, run_id=run.id)\n",
    "    print(f\"🔄 Status: {run.status}\")\n",
    "\n",
    "    if run.status == \"failed\":\n",
    "        print(f\"❌ Run failed | Error: {run.last_error}\")\n",
    "        break\n",
    "\n",
    "# Step 5: Display agent responses\n",
    "print(\"\\n🤖 [5] Agent responses:\")\n",
    "messages = project_client.messages.list(thread_id=thread.id,\n",
    "                                        order=ListSortOrder.ASCENDING)\n",
    "\n",
    "for msg in messages:\n",
    "    print(\"\\033[1;34m\")  # Blue text for agent messages\n",
    "    if msg.text_messages:\n",
    "        for text_message in msg.text_messages:\n",
    "            print(f\"💡 → {text_message.text.value}\")\n",
    "    if msg.url_citation_annotations:\n",
    "        print(\"\\033[1;32m\")  # Green text for citations\n",
    "        for annotation in msg.url_citation_annotations:\n",
    "            print(\n",
    "                f\"🔗 URL Citation: [{annotation.url_citation.title}]({annotation.url_citation.url})\"\n",
    "            )\n",
    "\n",
    "print(\"\\033[0m\")  # Reset color"
   ]
  },
  {
   "cell_type": "markdown",
   "id": "8953bb8f",
   "metadata": {},
   "source": [
    "### Example 3"
   ]
  },
  {
   "cell_type": "code",
   "execution_count": 13,
   "id": "06f3df88-e34c-4e75-a765-8b72073517e1",
   "metadata": {},
   "outputs": [],
   "source": [
    "prompt = \"What are the weather informations for Paris? Show the report and use emojis and be funny\""
   ]
  },
  {
   "cell_type": "code",
   "execution_count": 14,
   "id": "309fc9a7-ab92-4bf8-a65a-5dcf650cd57a",
   "metadata": {},
   "outputs": [
    {
     "name": "stdout",
     "output_type": "stream",
     "text": [
      "🧵 [1] Created thread | ID: thread_jZJbWzoUMYMSYouJzXj2AvSs\n",
      "💬 [2] Created message | ID: msg_BpRfVtPjwz50UmX2ihMalHDk\n",
      "🏃 [3] Created run | ID: run_pbbIC2n6EDwKnJfY3YcQvNKq\n",
      "⏳ [4] Polling run status...\n",
      "🔄 Status: in_progress\n",
      "🔄 Status: in_progress\n",
      "🔄 Status: completed\n",
      "\n",
      "🤖 [5] Agent responses:\n",
      "\u001b[1;34m\n",
      "💡 → What are the weather informations for Paris? Show the report and use emojis and be funny\n",
      "\u001b[1;34m\n",
      "💡 → Today in Paris, it's a mixed bag of weather tricks! 🎩✨ The temperature is a mild 66°F (19°C) with a low of 59°F (15°C). Expect some clouds, maybe rain, and definitely a sprinkle of Parisian flair. 🌥️☔\n",
      "\n",
      "Don't forget your umbrella! It might rain, but hey, more reason to cozy up in a café with a croissant! 🥐☕ And if the clouds clear, you'll enjoy those charming cobblestone streets under perfect walking weather. 🌈\n",
      "\n",
      "Stay dry and Eiffel-tastic! 🗼【3:1†source】\n",
      "\u001b[1;32m\n",
      "🔗 URL Citation: [Paris weather in June 2025 | Paris 14 day weather](https://www.weather25.com/europe/france/ile-de-france/paris?page=month&month=June)\n",
      "\u001b[0m\n"
     ]
    }
   ],
   "source": [
    "# Step 1: Create a thread\n",
    "thread = project_client.threads.create()\n",
    "print(f\"🧵 [1] Created thread | ID: {thread.id}\")\n",
    "\n",
    "# Step 2: Send the user's message\n",
    "message = project_client.messages.create(thread_id=thread.id,\n",
    "                                         role=\"user\",\n",
    "                                         content=prompt)\n",
    "print(f\"💬 [2] Created message | ID: {message.id}\")\n",
    "\n",
    "# Step 3: Start a run\n",
    "run = project_client.runs.create(thread_id=thread.id,\n",
    "                                 agent_id=agent.id)\n",
    "print(f\"🏃 [3] Created run | ID: {run.id}\")\n",
    "\n",
    "# Step 4: Poll run status\n",
    "print(\"⏳ [4] Polling run status...\")\n",
    "while run.status in {\"queued\", \"in_progress\", \"requires_action\"}:\n",
    "    time.sleep(1)\n",
    "    run = project_client.runs.get(thread_id=thread.id, run_id=run.id)\n",
    "    print(f\"🔄 Status: {run.status}\")\n",
    "\n",
    "    if run.status == \"failed\":\n",
    "        print(f\"❌ Run failed | Error: {run.last_error}\")\n",
    "        break\n",
    "\n",
    "# Step 5: Display agent responses\n",
    "print(\"\\n🤖 [5] Agent responses:\")\n",
    "messages = project_client.messages.list(thread_id=thread.id,\n",
    "                                        order=ListSortOrder.ASCENDING)\n",
    "\n",
    "for msg in messages:\n",
    "    print(\"\\033[1;34m\")  # Blue text for agent messages\n",
    "    if msg.text_messages:\n",
    "        for text_message in msg.text_messages:\n",
    "            print(f\"💡 → {text_message.text.value}\")\n",
    "    if msg.url_citation_annotations:\n",
    "        print(\"\\033[1;32m\")  # Green text for citations\n",
    "        for annotation in msg.url_citation_annotations:\n",
    "            print(\n",
    "                f\"🔗 URL Citation: [{annotation.url_citation.title}]({annotation.url_citation.url})\"\n",
    "            )\n",
    "\n",
    "print(\"\\033[0m\")  # Reset color"
   ]
  },
  {
   "cell_type": "markdown",
   "id": "199e0a0f-6661-4edd-aecb-8e4cf29f9800",
   "metadata": {},
   "source": [
    "### Example 4"
   ]
  },
  {
   "cell_type": "code",
   "execution_count": 15,
   "id": "303ef011-813d-4f11-b313-8d0aa9c1b323",
   "metadata": {},
   "outputs": [],
   "source": [
    "prompt = \"What can you tell about Roland Garros 2025?\""
   ]
  },
  {
   "cell_type": "code",
   "execution_count": 16,
   "id": "626eed11-acf8-49e4-ae3c-b27058c90b5c",
   "metadata": {},
   "outputs": [
    {
     "name": "stdout",
     "output_type": "stream",
     "text": [
      "🧵 [1] Created thread | ID: thread_YzBFOqlRaKiUa9GyuGogLxhK\n",
      "💬 [2] Created message | ID: msg_rjoeEsQ3izMcqAMCHku8gy6q\n",
      "🏃 [3] Created run | ID: run_aIylYJCc7UjzUsfFdu0tegTo\n",
      "⏳ [4] Polling run status...\n",
      "🔄 Status: in_progress\n",
      "🔄 Status: in_progress\n",
      "🔄 Status: completed\n",
      "\n",
      "🤖 [5] Agent responses:\n",
      "\u001b[1;34m\n",
      "💡 → What can you tell about Roland Garros 2025?\n",
      "\u001b[1;34m\n",
      "💡 → Roland Garros 2025, also known as the French Open, concluded on June 8, 2025. The tournament featured intense matches on the iconic clay courts of Stade Roland Garros in Paris. Key highlights include:\n",
      "\n",
      "- **Carlos Alcaraz** claimed the men's singles title with a victory over Jannik Sinner in the final, marking a significant moment in his career.\n",
      "- **Coco Gauff** won her second Grand Slam title in the women's singles after defeating Aryna Sabalenka.\n",
      "- In doubles, **Marcel Granollers** and **Horacio Zeballos** triumphed in the men's category, while British duo **Alfie Hewett** and **Gordon Reid** secured their sixth consecutive wheelchair doubles title【3:0†source】【3:3†source】.\n",
      "\u001b[1;32m\n",
      "🔗 URL Citation: [Latest news - Roland-Garros 2025 - The official site](https://www.rolandgarros.com/en-us/latest-news)\n",
      "🔗 URL Citation: [Roland Garros 2025: Results & updates | LTA](https://www.lta.org.uk/fan-zone/roland-garros/news/2025-results-updates/)\n",
      "\u001b[0m\n"
     ]
    }
   ],
   "source": [
    "# Step 1: Create a thread\n",
    "thread = project_client.threads.create()\n",
    "print(f\"🧵 [1] Created thread | ID: {thread.id}\")\n",
    "\n",
    "# Step 2: Send the user's message\n",
    "message = project_client.messages.create(thread_id=thread.id,\n",
    "                                         role=\"user\",\n",
    "                                         content=prompt)\n",
    "print(f\"💬 [2] Created message | ID: {message.id}\")\n",
    "\n",
    "# Step 3: Start a run\n",
    "run = project_client.runs.create(thread_id=thread.id,\n",
    "                                 agent_id=agent.id)\n",
    "print(f\"🏃 [3] Created run | ID: {run.id}\")\n",
    "\n",
    "# Step 4: Poll run status\n",
    "print(\"⏳ [4] Polling run status...\")\n",
    "while run.status in {\"queued\", \"in_progress\", \"requires_action\"}:\n",
    "    time.sleep(1)\n",
    "    run = project_client.runs.get(thread_id=thread.id, run_id=run.id)\n",
    "    print(f\"🔄 Status: {run.status}\")\n",
    "\n",
    "    if run.status == \"failed\":\n",
    "        print(f\"❌ Run failed | Error: {run.last_error}\")\n",
    "        break\n",
    "\n",
    "# Step 5: Display agent responses\n",
    "print(\"\\n🤖 [5] Agent responses:\")\n",
    "messages = project_client.messages.list(thread_id=thread.id,\n",
    "                                        order=ListSortOrder.ASCENDING)\n",
    "\n",
    "for msg in messages:\n",
    "    print(\"\\033[1;34m\")  # Blue text for agent messages\n",
    "    if msg.text_messages:\n",
    "        for text_message in msg.text_messages:\n",
    "            print(f\"💡 → {text_message.text.value}\")\n",
    "    if msg.url_citation_annotations:\n",
    "        print(\"\\033[1;32m\")  # Green text for citations\n",
    "        for annotation in msg.url_citation_annotations:\n",
    "            print(\n",
    "                f\"🔗 URL Citation: [{annotation.url_citation.title}]({annotation.url_citation.url})\"\n",
    "            )\n",
    "\n",
    "print(\"\\033[0m\")  # Reset color"
   ]
  },
  {
   "cell_type": "markdown",
   "id": "e193596e-a040-4119-a974-31c54d0536f5",
   "metadata": {},
   "source": [
    "## Example 5"
   ]
  },
  {
   "cell_type": "code",
   "execution_count": 17,
   "id": "89d6cbf6-51c2-4dcb-8926-9b88f8eafbf9",
   "metadata": {},
   "outputs": [],
   "source": [
    "prompt = \"Who won at the Cannes festival in 2025?\""
   ]
  },
  {
   "cell_type": "code",
   "execution_count": 18,
   "id": "99705835-6b5c-4cfc-a70d-052fa522eeb5",
   "metadata": {},
   "outputs": [
    {
     "name": "stdout",
     "output_type": "stream",
     "text": [
      "🧵 [1] Created thread | ID: thread_mAXXryQA7R7WrXmmRAZ0NgAP\n",
      "💬 [2] Created message | ID: msg_xC6imzgGEq02bqpq21ezsiUo\n",
      "🏃 [3] Created run | ID: run_C41uqbQ96OgrGpCLteCFgYXz\n",
      "⏳ [4] Polling run status...\n",
      "🔄 Status: in_progress\n",
      "🔄 Status: in_progress\n",
      "🔄 Status: completed\n",
      "\n",
      "🤖 [5] Agent responses:\n",
      "\u001b[1;34m\n",
      "💡 → Who won at the Cannes festival in 2025?\n",
      "\u001b[1;34m\n",
      "💡 → At the 2025 Cannes Film Festival, the Palme d'Or was awarded to Iranian filmmaker Jafar Panahi for his movie *It Was Just an Accident*. Other notable wins included:\n",
      "\n",
      "- Grand Prix: Joachim Trier's *Sentimental Value*\n",
      "- Jury Prize (tied): Mascha Schilinski's *Sound of Falling* and Oliver Laxe's *Sirât*\n",
      "- Best Director: Kleber Mendonça Filho for *The Secret Agent*\n",
      "- Best Actress: Nadia Melliti in *The Little Sister*\n",
      "- Best Actor: Wagner Moura in *The Secret Agent*【3:0†source】【3:3†source】.\n",
      "\u001b[1;32m\n",
      "🔗 URL Citation: [The 78th Festival de Cannes winners' list - Festival de Cannes](https://www.festival-cannes.com/en/press/press-releases/the-78th-festival-de-cannes-winners-list/)\n",
      "🔗 URL Citation: [2025 Cannes Film Festival Awards Winners List (Updating Live)](https://www.indiewire.com/awards/results/2025-cannes-film-festival-awards-winners-list-1235126355/)\n",
      "\u001b[0m\n"
     ]
    }
   ],
   "source": [
    "# Step 1: Create a thread\n",
    "thread = project_client.threads.create()\n",
    "print(f\"🧵 [1] Created thread | ID: {thread.id}\")\n",
    "\n",
    "# Step 2: Send the user's message\n",
    "message = project_client.messages.create(thread_id=thread.id,\n",
    "                                         role=\"user\",\n",
    "                                         content=prompt)\n",
    "print(f\"💬 [2] Created message | ID: {message.id}\")\n",
    "\n",
    "# Step 3: Start a run\n",
    "run = project_client.runs.create(thread_id=thread.id,\n",
    "                                 agent_id=agent.id)\n",
    "print(f\"🏃 [3] Created run | ID: {run.id}\")\n",
    "\n",
    "# Step 4: Poll run status\n",
    "print(\"⏳ [4] Polling run status...\")\n",
    "while run.status in {\"queued\", \"in_progress\", \"requires_action\"}:\n",
    "    time.sleep(1)\n",
    "    run = project_client.runs.get(thread_id=thread.id, run_id=run.id)\n",
    "    print(f\"🔄 Status: {run.status}\")\n",
    "\n",
    "    if run.status == \"failed\":\n",
    "        print(f\"❌ Run failed | Error: {run.last_error}\")\n",
    "        break\n",
    "\n",
    "# Step 5: Display agent responses\n",
    "print(\"\\n🤖 [5] Agent responses:\")\n",
    "messages = project_client.messages.list(thread_id=thread.id,\n",
    "                                        order=ListSortOrder.ASCENDING)\n",
    "\n",
    "for msg in messages:\n",
    "    print(\"\\033[1;34m\")  # Blue text for agent messages\n",
    "    if msg.text_messages:\n",
    "        for text_message in msg.text_messages:\n",
    "            print(f\"💡 → {text_message.text.value}\")\n",
    "    if msg.url_citation_annotations:\n",
    "        print(\"\\033[1;32m\")  # Green text for citations\n",
    "        for annotation in msg.url_citation_annotations:\n",
    "            print(\n",
    "                f\"🔗 URL Citation: [{annotation.url_citation.title}]({annotation.url_citation.url})\"\n",
    "            )\n",
    "\n",
    "print(\"\\033[0m\")  # Reset color"
   ]
  },
  {
   "cell_type": "markdown",
   "id": "6d5f61ac-880e-4394-8e63-6feb8c740eb4",
   "metadata": {},
   "source": [
    "### Post processing"
   ]
  },
  {
   "cell_type": "code",
   "execution_count": 19,
   "id": "d27001cb-6d8a-4f86-af3f-9e2186187788",
   "metadata": {},
   "outputs": [
    {
     "name": "stdout",
     "output_type": "stream",
     "text": [
      "Agent Details:\n",
      "📛 Name        : Bing-grounding-agent-demo\n",
      "🆔 ID          : asst_Bec0Qgf94V0aViRqtLNvfT6F\n",
      "🧠 Model       : gpt-4o\n",
      "📜 Instructions: You are an AI Agent that can do some web search using Bing\n",
      "\n"
     ]
    }
   ],
   "source": [
    "agents_list = [agent]\n",
    "\n",
    "for agent in agents_list:\n",
    "    print(\n",
    "        f\"Agent Details:\\n\"\n",
    "        f\"📛 Name        : {agent.name}\\n\"\n",
    "        f\"🆔 ID          : {agent.id}\\n\"\n",
    "        f\"🧠 Model       : {agent.model}\\n\"\n",
    "        f\"📜 Instructions: {agent.instructions}\\n\"\n",
    "    )"
   ]
  },
  {
   "cell_type": "code",
   "execution_count": 20,
   "id": "a8d63337-ebde-48f3-b245-29e063a61347",
   "metadata": {},
   "outputs": [],
   "source": [
    "#print(\"Deleting the agents we have created...\")\n",
    "#for agent in agents_list:\n",
    "    #project_client.delete_agent(agent.id)\n",
    "    #print(f\"Deleted agent, agent ID: {agent.id}\")\n",
    "#print(\"Done\")"
   ]
  },
  {
   "cell_type": "code",
   "execution_count": null,
   "id": "81e5ea16-2032-4cb9-8fd3-de69713f4510",
   "metadata": {},
   "outputs": [],
   "source": []
  }
 ],
 "metadata": {
  "kernelspec": {
   "display_name": "Python 3.10 - SDK v2",
   "language": "python",
   "name": "python310-sdkv2"
  },
  "language_info": {
   "codemirror_mode": {
    "name": "ipython",
    "version": 3
   },
   "file_extension": ".py",
   "mimetype": "text/x-python",
   "name": "python",
   "nbconvert_exporter": "python",
   "pygments_lexer": "ipython3",
   "version": "3.10.14"
  },
  "varInspector": {
   "cols": {
    "lenName": 16,
    "lenType": 16,
    "lenVar": 40
   },
   "kernels_config": {
    "python": {
     "delete_cmd_postfix": "",
     "delete_cmd_prefix": "del ",
     "library": "var_list.py",
     "varRefreshCmd": "print(var_dic_list())"
    },
    "r": {
     "delete_cmd_postfix": ") ",
     "delete_cmd_prefix": "rm(",
     "library": "var_list.r",
     "varRefreshCmd": "cat(var_dic_list()) "
    }
   },
   "types_to_exclude": [
    "module",
    "function",
    "builtin_function_or_method",
    "instance",
    "_Feature"
   ],
   "window_display": false
  }
 },
 "nbformat": 4,
 "nbformat_minor": 5
}
