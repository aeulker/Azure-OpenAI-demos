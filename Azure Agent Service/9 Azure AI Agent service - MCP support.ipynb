{
 "cells": [
  {
   "cell_type": "markdown",
   "id": "f7a7e3a2-9ec0-4ec1-b10d-21dcfcbb39ef",
   "metadata": {},
   "source": [
    "# Azure AI Agent service - MCP support\n",
    "\n",
    "<img src=\"https://learn.microsoft.com/en-us/azure/ai-services/agents/media/agent-service-the-glue.png\" width=800>\n",
    "\n",
    "> https://learn.microsoft.com/en-us/azure/ai-foundry/agents/how-to/tools/model-context-protocol\n",
    "\n",
    "Supported regions: westus, westus2, uaenorth, southindia and switzerlandnorth\n",
    "\n",
    "Install required packages:\n",
    "\n",
    "`pip install gradio python-dotenv azure-identity azure-ai-projects>=1.0.0b12 azure-ai-agents>=1.1.0b4 --pre`"
   ]
  },
  {
   "cell_type": "code",
   "execution_count": 3,
   "id": "41b6b0e0-d284-4cb9-a892-9b1de8e6191f",
   "metadata": {},
   "outputs": [],
   "source": [
    "import os\n",
    "import gradio as gr\n",
    "import json\n",
    "import re\n",
    "import sys\n",
    "import time\n",
    "\n",
    "from azure.ai.agents.models import ListSortOrder, MessageTextContent, McpTool, RequiredMcpToolCall, SubmitToolApprovalAction, ToolApproval\n",
    "from azure.ai.projects import AIProjectClient\n",
    "from azure.identity import DefaultAzureCredential\n",
    "from dotenv import load_dotenv"
   ]
  },
  {
   "cell_type": "code",
   "execution_count": 4,
   "id": "19924af3-4504-4350-bb2f-07c78d11d7c1",
   "metadata": {},
   "outputs": [
    {
     "data": {
      "text/plain": [
       "'3.13.5 (tags/v3.13.5:6cb20a2, Jun 11 2025, 16:15:46) [MSC v.1943 64 bit (AMD64)]'"
      ]
     },
     "execution_count": 4,
     "metadata": {},
     "output_type": "execute_result"
    }
   ],
   "source": [
    "sys.version"
   ]
  },
  {
   "cell_type": "markdown",
   "id": "13d7c989-2d77-4082-9029-21efb7bd4c66",
   "metadata": {},
   "source": [
    "## 1. Settings"
   ]
  },
  {
   "cell_type": "code",
   "execution_count": null,
   "id": "fbbb0a6a-9cf3-41da-b95a-027e6b38d09c",
   "metadata": {},
   "outputs": [],
   "source": [
    "load_dotenv(\"azure.env\")\n",
    "\n",
    "PROJECT_ENDPOINT = os.getenv(\"PROJECT_ENDPOINT2\")"
   ]
  },
  {
   "cell_type": "code",
   "execution_count": 6,
   "id": "e35f7a9f-1667-4502-b1f9-8cdaea6f88cb",
   "metadata": {},
   "outputs": [],
   "source": [
    "project_client = AIProjectClient(endpoint=PROJECT_ENDPOINT,\n",
    "                                 credential=DefaultAzureCredential())\n",
    "\n",
    "# Convenience handle for the Agents sub‑client\n",
    "agents_client = project_client.agents"
   ]
  },
  {
   "cell_type": "code",
   "execution_count": null,
   "id": "44c4687f-1e0a-4793-b6e9-5fab95532f66",
   "metadata": {},
   "outputs": [],
   "source": [
    "model = \"gpt-4o\""
   ]
  },
  {
   "cell_type": "markdown",
   "id": "c7e89364-7a0b-4891-aa99-88ec56ff9b97",
   "metadata": {},
   "source": [
    "## 2. Example"
   ]
  },
  {
   "cell_type": "code",
   "execution_count": 8,
   "id": "4dc5d1a4-708a-421c-aeb1-d125792388a5",
   "metadata": {},
   "outputs": [
    {
     "data": {
      "text/plain": [
       "'https://gitmcp.io/Azure-Samples/ai-foundry-agents-samples'"
      ]
     },
     "execution_count": 8,
     "metadata": {},
     "output_type": "execute_result"
    }
   ],
   "source": [
    "# With this prefix 'https://gitmcp.io/' you can instantly create a remote RCP server from any GitHub repo\n",
    "github_url = \"https://github.com/Azure-Samples/ai-foundry-agents-samples\"\n",
    "\n",
    "get_substr = re.search(r'\\.com/(.*)', github_url)\n",
    "substr = get_substr.group(1)\n",
    "mcp_server_url = f\"https://gitmcp.io/{substr}\"\n",
    "\n",
    "mcp_server_url"
   ]
  },
  {
   "cell_type": "code",
   "execution_count": 9,
   "id": "802203cd-c53b-475d-beca-6658adb06a44",
   "metadata": {},
   "outputs": [],
   "source": [
    "prompt = \"Any python code for a mcp server with Azure AI Agent?\""
   ]
  },
  {
   "cell_type": "code",
   "execution_count": 10,
   "id": "d479ffd8-14d8-4f97-85dd-b084bda54e90",
   "metadata": {},
   "outputs": [
    {
     "name": "stdout",
     "output_type": "stream",
     "text": [
      "🎉 Created agent, agent ID: asst_VBtLPkeDbb5q6EQFHYbVgiqU\n",
      "✨ MCP Server: github at https://gitmcp.io/Azure-Samples/ai-foundry-agents-samples\n",
      "🧵 Created thread, thread ID: thread_nxwDB3f0Mynf680AQCddzoYr\n",
      "💬 Created message, message ID: msg_c61cRR2cqoI0SvBYnFv6mISA\n",
      "⏳ Run status: RunStatus.IN_PROGRESS\n",
      "⏳ Run status: RunStatus.IN_PROGRESS\n",
      "⏳ Run status: RunStatus.IN_PROGRESS\n",
      "⏳ Run status: RunStatus.IN_PROGRESS\n",
      "⏳ Run status: RunStatus.IN_PROGRESS\n",
      "⏳ Run status: RunStatus.IN_PROGRESS\n",
      "⏳ Run status: RunStatus.IN_PROGRESS\n",
      "⏳ Run status: RunStatus.IN_PROGRESS\n",
      "⏳ Run status: RunStatus.IN_PROGRESS\n",
      "⏳ Run status: RunStatus.IN_PROGRESS\n",
      "⏳ Run status: RunStatus.IN_PROGRESS\n",
      "⏳ Run status: RunStatus.IN_PROGRESS\n",
      "⏳ Run status: RunStatus.IN_PROGRESS\n",
      "⏳ Run status: RunStatus.IN_PROGRESS\n",
      "⏳ Run status: RunStatus.IN_PROGRESS\n",
      "⏳ Run status: RunStatus.IN_PROGRESS\n",
      "⏳ Run status: RunStatus.IN_PROGRESS\n",
      "⏳ Run status: RunStatus.COMPLETED\n",
      "\n",
      "🔄 Run step: step_troq6NJjKe8jkkFJZDvFhgPS, status: RunStepStatus.COMPLETED, type: RunStepType.MESSAGE_CREATION\n",
      "🔄 Run step: step_ZTVqSPFaskweaIFyju7kJTJp, status: RunStepStatus.COMPLETED, type: RunStepType.TOOL_CALLS\n",
      "🛠️ Tool call details:\n",
      "{\n",
      "     \"id\": \"call_H9MGrVWUvwwxRNu9EJEN9TjN\",\n",
      "     \"type\": \"mcp\",\n",
      "     \"arguments\": \"{\\\"url\\\":\\\"https://github.com/Azure-Samples/ai-foundry-agents-samples/blob/main/examples/mcp/streamable-http/mcp-server/weather.py\\\"}\",\n",
      "     \"name\": \"fetch_generic_url_content\",\n",
      "     \"server_label\": \"github\",\n",
      "     \"output\": \"[Skip to content](#start-of-content)     <link /> <link />     ## Navigation Menu\\n<button>Toggle navigation</button>\\n\\n[Sign in](/login?return_to=https%3A%2F%2Fgithub.com%2FAzure-Samples%2Fai-foundry-agents-samples%2Fblob%2Fmain%2Fexamples%2Fmcp%2Fstreamable-http%2Fmcp-server%2Fweather.py) \\n<react-partial-anchor><tool-tip>Appearance settings</tool-tip> <template><link /> <link /></template></react-partial-anchor>\\n\\n* <button>Product</button>\\n\\n  * [GitHub Copilot\\nWrite better code with AI](https://github.com/features/copilot)\\n  * [GitHub Models New\\nManage and compare prompts](https://github.com/features/models)\\n  * [GitHub Advanced Security\\nFind and fix vulnerabilities](https://github.com/security/advanced-security)\\n  * [Actions\\nAutomate any workflow](https://github.com/features/actions)\\n  * [Codespaces\\nInstant dev environments](https://github.com/features/codespaces)\\n\\n  * [Issues\\nPlan and track work](https://github.com/features/issues)\\n  * [Code Review\\nManage code changes](https://github.com/features/code-review)\\n  * [Discussions\\nCollaborate outside of code](https://github.com/features/discussions)\\n  * [Code Search\\nFind more, search less](https://github.com/features/code-search)\\n\\nExplore\\n\\n  * [Why GitHub](https://github.com/why-github)\\n  * [All features](https://github.com/features)\\n  * [Documentation](https://docs.github.com)\\n  * [GitHub Skills](https://skills.github.com)\\n  * [Blog](https://github.blog)\\n* <button>Solutions</button>\\n\\nBy company size\\n\\n  * [Enterprises](https://github.com/enterprise)\\n  * [Small and medium teams](https://github.com/team)\\n  * [Startups](https://github.com/enterprise/startups)\\n  * [Nonprofits](/solutions/industry/nonprofits)\\n\\nBy use case\\n\\n  * [DevSecOps](/solutions/use-case/devsecops)\\n  * [DevOps](/solutions/use-case/devops)\\n  * [CI/CD](/solutions/use-case/ci-cd)\\n  * [View all use cases](/solutions/use-case)\\n\\nBy industry\\n\\n  * [Healthcare](/solutions/industry/healthcare)\\n  * [Financial services](/solutions/industry/financial-services)\\n  * [Manufacturing](/solutions/industry/manufacturing)\\n  * [Government](/solutions/industry/government)\\n  * [View all industries](/solutions/industry)\\n\\n[View all solutions](/solutions)\\n* <button>Resources</button>\\n\\nTopics\\n\\n  * [AI](/resources/articles/ai)\\n  * [DevOps](/resources/articles/devops)\\n  * [Security](/resources/articles/security)\\n  * [Software Development](/resources/articles/software-development)\\n  * [View all](/resources/articles)\\n\\nExplore\\n\\n  * [Learning Pathways](https://resources.github.com/learn/pathways)\\n  * [Events & Webinars](https://resources.github.com)\\n  * [Ebooks & Whitepapers](https://github.com/resources/whitepapers)\\n  * [Customer Stories](https://github.com/customer-stories)\\n  * [Partners](https://partner.github.com)\\n  * [Executive Insights](https://github.com/solutions/executive-insights)\\n* <button>Open Source</button>\\n\\n  * [GitHub Sponsors\\nFund open source developers](/sponsors)\\n\\n  * [The ReadME Project\\nGitHub community articles](https://github.com/readme)\\n\\nRepositories\\n\\n  * [Topics](https://github.com/topics)\\n  * [Trending](https://github.com/trending)\\n  * [Collections](https://github.com/collections)\\n* <button>Enterprise</button>\\n\\n  * [Enterprise platform\\nAI-powered developer platform](/enterprise)\\n\\nAvailable add-ons\\n\\n  * [GitHub Advanced Security\\nEnterprise-grade security features](https://github.com/security/advanced-security)\\n  * [Copilot for business\\nEnterprise-grade AI features](/features/copilot/copilot-business)\\n  * [Premium Support\\nEnterprise-grade 24/7 support](/premium-support)\\n* [Pricing](https://github.com/pricing)\\n\\n<qbsearch-input><button>Search or jump to...</button> \\n\\n<modal-dialog># Search code, repositories, users, issues, pull requests...\\n\\n[Search syntax tips](https://docs.github.com/search-github/github-code-search/understanding-github-code-search-syntax)</modal-dialog>\\n\\n<dialog-helper><dialog># Provide feedback\\n\\n\\n<button>Cancel</button> <button>Submit feedback</button></dialog></dialog-helper> <custom-scopes><dialog-helper><dialog># Saved searches\\n\\n## Use saved searches to filter your results more quickly\\n\\n\\n<button>Cancel</button> <button>Create saved search</button></dialog></dialog-helper></custom-scopes></qbsearch-input>\\n\\n[Sign in](/login?return_to=https%3A%2F%2Fgithub.com%2FAzure-Samples%2Fai-foundry-agents-samples%2Fblob%2Fmain%2Fexamples%2Fmcp%2Fstreamable-http%2Fmcp-server%2Fweather.py)\\n[Sign up](/signup?ref_cta=Sign+up&ref_loc=header+logged+out&ref_page=%2F%3Cuser-name%3E%2F%3Crepo-name%3E%2Fblob%2Fshow&source=header-repo&source_repo=Azure-Samples%2Fai-foundry-agents-samples) \\n<react-partial-anchor><tool-tip>Appearance settings</tool-tip> <template><link /> <link /></template></react-partial-anchor>\\n<button>Resetting focus</button>\\n\\nYou signed in with another tab or window. [Reload]() to refresh your session. You signed out in another tab or window. [Reload]() to refresh your session. You switched accounts on another tab or window. [Reload]() to refresh your session. <tool-tip>Dismiss alert</tool-tip>\\n\\n<template>{{ message }}</template>\\n\\n[Azure-Samples](/Azure-Samples) / **[ai-foundry-agents-samples](/Azure-Samples/ai-foundry-agents-samples)** Public\\n\\n* [Notifications](/login?return_to=%2FAzure-Samples%2Fai-foundry-agents-samples)<tool-tip>You must be signed in to change notification settings</tool-tip>\\n* [Fork 8](/login?return_to=%2FAzure-Samples%2Fai-foundry-agents-samples)\\n* [Star 15](/login?return_to=%2FAzure-Samples%2Fai-foundry-agents-samples)\\n* [Code](/Azure-Samples/ai-foundry-agents-samples)\\n* [Issues 2](/Azure-Samples/ai-foundry-agents-samples/issues)\\n* [Pull requests 0](/Azure-Samples/ai-foundry-agents-samples/pulls)\\n* [Actions](/Azure-Samples/ai-foundry-agents-samples/actions)\\n* [Projects 0](/Azure-Samples/ai-foundry-agents-samples/projects)\\n* [Security<include-fragment>### Uh oh!\\n\\nThere was an error while loading. [Please reload this page]().</include-fragment>](/Azure-Samples/ai-foundry-agents-samples/security)\\n* [Insights](/Azure-Samples/ai-foundry-agents-samples/pulse)\\n\\n<action-menu><focus-group><tool-tip>Additional navigation options</tool-tip> <anchored-position><action-list>* [Code](/Azure-Samples/ai-foundry-agents-samples)\\n* [Issues](/Azure-Samples/ai-foundry-agents-samples/issues)\\n* [Pull requests](/Azure-Samples/ai-foundry-agents-samples/pulls)\\n* [Actions](/Azure-Samples/ai-foundry-agents-samples/actions)\\n* [Projects](/Azure-Samples/ai-foundry-agents-samples/projects)\\n* [Security](/Azure-Samples/ai-foundry-agents-samples/security)\\n* [Insights](/Azure-Samples/ai-foundry-agents-samples/pulse)</action-list></anchored-position></focus-group></action-menu>\\n<turbo-frame><div id=\\\"repo-content-pjax-container\\\" class=\\\"repository-content \\\" > <react-app app-name=\\\"react-code-view\\\" initial-path=\\\"/Azure-Samples/ai-foundry-agents-samples/blob/main/examples/mcp/streamable-http/mcp-server/weather.py\\\" style=\\\"display: block; min-height: calc(100vh - 64px);\\\" data-attempted-ssr=\\\"false\\\" data-ssr=\\\"false\\\" data-lazy=\\\"false\\\" data-alternate=\\\"false\\\" data-data-router-enabled=\\\"false\\\" data-react-profiling=\\\"false\\\" > <script type=\\\"application/json\\\" data-target=\\\"react-app.embeddedData\\\">{\\\"payload\\\":{\\\"allShortcutsEnabled\\\":false,\\\"fileTree\\\":{\\\"examples/mcp/streamable-http/mcp-server\\\":{\\\"items\\\":\\\\[{\\\"name\\\":\\\".python-version\\\",\\\"path\\\":\\\"examples/mcp/streamable-http/mcp-server/.python-version\\\",\\\"contentType\\\":\\\"file\\\"},{\\\"name\\\":\\\"Dockerfile\\\",\\\"path\\\":\\\"examples/mcp/streamable-http/mcp-server/Dockerfile\\\",\\\"contentType\\\":\\\"file\\\"},{\\\"name\\\":\\\"README.md\\\",\\\"path\\\":\\\"examples/mcp/streamable-http/mcp-server/README.md\\\",\\\"contentType\\\":\\\"file\\\"},{\\\"name\\\":\\\"main.py\\\",\\\"path\\\":\\\"examples/mcp/streamable-http/mcp-server/main.py\\\",\\\"contentType\\\":\\\"file\\\"},{\\\"name\\\":\\\"pyproject.toml\\\",\\\"path\\\":\\\"examples/mcp/streamable-http/mcp-server/pyproject.toml\\\",\\\"contentType\\\":\\\"file\\\"},{\\\"name\\\":\\\"uv.lock\\\",\\\"path\\\":\\\"examples/mcp/streamable-http/mcp-server/uv.lock\\\",\\\"contentType\\\":\\\"file\\\"},{\\\"name\\\":\\\"weather.py\\\",\\\"path\\\":\\\"examples/mcp/streamable-http/mcp-server/weather.py\\\",\\\"contentType\\\":\\\"file\\\"}\\\\],\\\"totalCount\\\":7},\\\"examples/mcp/streamable-http\\\":{\\\"items\\\":\\\\[{\\\"name\\\":\\\"ai-foundry-agent\\\",\\\"path\\\":\\\"examples/mcp/streamable-http/ai-foundry-agent\\\",\\\"contentType\\\":\\\"directory\\\"},{\\\"name\\\":\\\"mcp-client\\\",\\\"path\\\":\\\"examples/mcp/streamable-http/mcp-client\\\",\\\"contentType\\\":\\\"directory\\\"},{\\\"name\\\":\\\"mcp-server\\\",\\\"path\\\":\\\"examples/mcp/streamable-http/mcp-server\\\",\\\"contentType\\\":\\\"directory\\\"},{\\\"name\\\":\\\"README.md\\\",\\\"path\\\":\\\"examples/mcp/streamable-http/README.md\\\",\\\"contentType\\\":\\\"file\\\"}\\\\],\\\"totalCount\\\":4},\\\"examples/mcp\\\":{\\\"items\\\":\\\\[{\\\"name\\\":\\\"filesystem\\\\_example\\\",\\\"path\\\":\\\"examples/mcp/filesystem\\\\_example\\\",\\\"contentType\\\":\\\"directory\\\"},{\\\"name\\\":\\\"streamable-http\\\",\\\"path\\\":\\\"examples/mcp/streamable-http\\\",\\\"contentType\\\":\\\"directory\\\"}\\\\],\\\"totalCount\\\":2},\\\"examples\\\":{\\\"items\\\":\\\\[{\\\"name\\\":\\\"mcp\\\",\\\"path\\\":\\\"examples/mcp\\\",\\\"contentType\\\":\\\"directory\\\"}\\\\],\\\"totalCount\\\":1},\\\"\\\":{\\\"items\\\":\\\\[{\\\"name\\\":\\\".github\\\",\\\"path\\\":\\\".github\\\",\\\"contentType\\\":\\\"directory\\\"},{\\\"name\\\":\\\"examples\\\",\\\"path\\\":\\\"examples\\\",\\\"contentType\\\":\\\"directory\\\"},{\\\"name\\\":\\\".gitignore\\\",\\\"path\\\":\\\".gitignore\\\",\\\"contentType\\\":\\\"file\\\"},{\\\"name\\\":\\\"CHANGELOG.md\\\",\\\"path\\\":\\\"CHANGELOG.md\\\",\\\"contentType\\\":\\\"file\\\"},{\\\"name\\\":\\\"CONTRIBUTING.md\\\",\\\"path\\\":\\\"CONTRIBUTING.md\\\",\\\"contentType\\\":\\\"file\\\"},{\\\"name\\\":\\\"LICENSE.md\\\",\\\"path\\\":\\\"LICENSE.md\\\",\\\"contentType\\\":\\\"file\\\"},{\\\"name\\\":\\\"README.md\\\",\\\"path\\\":\\\"README.md\\\",\\\"contentType\\\":\\\"file\\\"}\\\\],\\\"totalCount\\\":7}},\\\"fileTreeProcessingTime\\\":9.38842,\\\"foldersToFetch\\\":\\\\[\\\\],\\\"incompleteFileTree\\\":false,\\\"repo\\\":{\\\"id\\\":969602866,\\\"defaultBranch\\\":\\\"main\\\",\\\"name\\\":\\\"ai-foundry-agents-samples\\\",\\\"ownerLogin\\\":\\\"Azure-Samples\\\",\\\"currentUserCanPush\\\":false,\\\"isFork\\\":false,\\\"isEmpty\\\":false,\\\"createdAt\\\":\\\"2025-04-20T14:26:25.000Z\\\",\\\"ownerAvatar\\\":\\\"https://avatars.githubusercontent.com/u/1844662?v=4\\\",\\\"public\\\":true,\\\"private\\\":false,\\\"isOrgOwned\\\":true},\\\"codeLineWrapEnabled\\\":false,\\\"symbolsExpanded\\\":false,\\\"treeExpanded\\\":true,\\\"refInfo\\\":{\\\"name\\\":\\\"main\\\",\\\"listCacheKey\\\":\\\"v0:1745159186.0\\\",\\\"canEdit\\\":false,\\\"refType\\\":\\\"branch\\\",\\\"currentOid\\\":\\\"f567768c79735eabc067c01243a2797e4cdd5115\\\"},\\\"path\\\":\\\"examples/mcp/streamable-http/mcp-server/weather.py\\\",\\\"currentUser\\\":null,\\\"blob\\\":{\\\"rawLines\\\":\\\\[\\\"from typing import Any\\\",\\\"import httpx\\\",\\\"from mcp.server.fastmcp import FastMCP\\\",\\\"\\\",\\\"# Initialize FastMCP server\\\",\\\"mcp = FastMCP(\\\\\\\\\\\"weather\\\\\\\\\\\", port=8001, host=\\\\\\\\\\\"0.0.0.0\\\\\\\\\\\", stateless\\\\_http=True)\\\",\\\"\\\",\\\"# Constants\\\",\\\"NWS\\\\_API\\\\_BASE = \\\\\\\\\\\"https://api.weather.gov\\\\\\\\\\\"\\\",\\\"USER\\\\_AGENT = \\\\\\\\\\\"weather-app/1.0\\\\\\\\\\\"\\\",\\\"\\\",\\\"async def make\\\\_nws\\\\_request(url: str) -\\\\\\\\u003e dict\\\\[str, Any\\\\] | None:\\\",\\\" \\\\\\\\\\\"\\\\\\\\\\\"\\\\\\\\\\\"Make a request to the NWS API with proper error handling.\\\\\\\\\\\"\\\\\\\\\\\"\\\\\\\\\\\"\\\",\\\" headers = {\\\",\\\" \\\\\\\\\\\"User-Agent\\\\\\\\\\\": USER\\\\_AGENT,\\\",\\\" \\\\\\\\\\\"Accept\\\\\\\\\\\": \\\\\\\\\\\"application/geo+json\\\\\\\\\\\"\\\",\\\" }\\\",\\\" async with httpx.AsyncClient() as client:\\\",\\\" try:\\\",\\\" response = await client.get(url, headers=headers, timeout=30.0)\\\",\\\" response.raise\\\\_for\\\\_status()\\\",\\\" return response.json()\\\",\\\" except Exception:\\\",\\\" return None\\\",\\\"\\\",\\\"def format\\\\_alert(feature: dict) -\\\\\\\\u003e str:\\\",\\\" \\\\\\\\\\\"\\\\\\\\\\\"\\\\\\\\\\\"Format an alert feature into a readable string.\\\\\\\\\\\"\\\\\\\\\\\"\\\\\\\\\\\"\\\",\\\" props = feature\\\\[\\\\\\\\\\\"properties\\\\\\\\\\\"\\\\]\\\",\\\" return f\\\\\\\\\\\"\\\\\\\\\\\"\\\\\\\\\\\"\\\",\\\" Event: {props.get('event', 'Unknown')}\\\",\\\" Area: {props.get('areaDesc', 'Unknown')}\\\",\\\" Severity: {props.get('severity', 'Unknown')}\\\",\\\" Description: {props.get('description', 'No description available')}\\\",\\\" Instructions: {props.get('instruction', 'No specific instructions provided')}\\\",\\\" \\\\\\\\\\\"\\\\\\\\\\\"\\\\\\\\\\\"\\\",\\\"\\\",\\\"@mcp.tool()\\\",\\\"async def get\\\\_alerts(state: str) -\\\\\\\\u003e str:\\\",\\\" \\\\\\\\\\\"\\\\\\\\\\\"\\\\\\\\\\\"Get weather alerts for a US state.\\\",\\\"\\\",\\\" Args:\\\",\\\" state: Two-letter US state code (e.g. CA, NY)\\\",\\\" \\\\\\\\\\\"\\\\\\\\\\\"\\\\\\\\\\\"\\\",\\\" url = f\\\\\\\\\\\"{NWS\\\\_API\\\\_BASE}/alerts/active/area/{state}\\\\\\\\\\\"\\\",\\\" data = await make\\\\_nws\\\\_request(url)\\\",\\\"\\\",\\\" if not data or \\\\\\\\\\\"features\\\\\\\\\\\" not in data:\\\",\\\" return \\\\\\\\\\\"Unable to fetch alerts or no alerts found.\\\\\\\\\\\"\\\",\\\"\\\",\\\" if not data\\\\[\\\\\\\\\\\"features\\\\\\\\\\\"\\\\]:\\\",\\\" return \\\\\\\\\\\"No active alerts for this state.\\\\\\\\\\\"\\\",\\\"\\\",\\\" alerts = \\\\[format\\\\_alert(feature) for feature in data\\\\[\\\\\\\\\\\"features\\\\\\\\\\\"\\\\]\\\\]\\\",\\\" return \\\\\\\\\\\"\\\\\\\\\\\\\\\\n---\\\\\\\\\\\\\\\\n\\\\\\\\\\\".join(alerts)\\\",\\\"\\\",\\\"@mcp.tool()\\\",\\\"async def get\\\\_forecast(latitude: float, longitude: float) -\\\\\\\\u003e str:\\\",\\\" \\\\\\\\\\\"\\\\\\\\\\\"\\\\\\\\\\\"Get weather forecast for a location.\\\",\\\"\\\",\\\" Args:\\\",\\\" latitude: Latitude of the location\\\",\\\" longitude: Longitude of the location\\\",\\\" \\\\\\\\\\\"\\\\\\\\\\\"\\\\\\\\\\\"\\\",\\\" # First get the forecast grid endpoint\\\",\\\" points\\\\_url = f\\\\\\\\\\\"{NWS\\\\_API\\\\_BASE}/points/{latitude},{longitude}\\\\\\\\\\\"\\\",\\\" points\\\\_data = await make\\\\_nws\\\\_request(points\\\\_url)\\\",\\\"\\\",\\\" if not points\\\\_data:\\\",\\\" return \\\\\\\\\\\"Unable to fetch forecast data for this location.\\\\\\\\\\\"\\\",\\\"\\\",\\\" # Get the forecast URL from the points response\\\",\\\" forecast\\\\_url = points\\\\_data\\\\[\\\\\\\\\\\"properties\\\\\\\\\\\"\\\\]\\\\[\\\\\\\\\\\"forecast\\\\\\\\\\\"\\\\]\\\",\\\" forecast\\\\_data = await make\\\\_nws\\\\_request(forecast\\\\_url)\\\",\\\"\\\",\\\" if not forecast\\\\_data:\\\",\\\" return \\\\\\\\\\\"Unable to fetch detailed forecast.\\\\\\\\\\\"\\\",\\\"\\\",\\\" # Format the periods into a readable forecast\\\",\\\" periods = forecast\\\\_data\\\\[\\\\\\\\\\\"properties\\\\\\\\\\\"\\\\]\\\\[\\\\\\\\\\\"periods\\\\\\\\\\\"\\\\]\\\",\\\" forecasts = \\\\[\\\\]\\\",\\\" for period in periods\\\\[:5\\\\]: # Only show next 5 periods\\\",\\\" forecast = f\\\\\\\\\\\"\\\\\\\\\\\"\\\\\\\\\\\"\\\",\\\" {period\\\\['name'\\\\]}:\\\",\\\" Temperature: {period\\\\['temperature'\\\\]}\\u00b0{period\\\\['temperatureUnit'\\\\]}\\\",\\\" Wind: {period\\\\['windSpeed'\\\\]} {period\\\\['windDirection'\\\\]}\\\",\\\" Forecast: {period\\\\['detailedForecast'\\\\]}\\\",\\\" \\\\\\\\\\\"\\\\\\\\\\\"\\\\\\\\\\\"\\\",\\\" forecasts.append(forecast)\\\",\\\"\\\",\\\" return \\\\\\\\\\\"\\\\\\\\\\\\\\\\n---\\\\\\\\\\\\\\\\n\\\\\\\\\\\".join(forecasts)\\\",\\\"\\\",\\\"\\\",\\\"if \\\\_\\\\_name\\\\_\\\\_ == \\\\\\\\\\\"\\\\_\\\\_main\\\\_\\\\_\\\\\\\\\\\":\\\",\\\" # Initialize and run the server\\\",\\\" mcp.run(transport=\\\\\\\\\\\"streamable-http\\\\\\\\\\\")\\\"\\\\],\\\"stylingDirectives\\\":\\\\[\\\\[\\\\[0,4,\\\"pl-k\\\"\\\\],\\\\[5,11,\\\"pl-s1\\\"\\\\],\\\\[12,18,\\\"pl-k\\\"\\\\],\\\\[19,22,\\\"pl-v\\\"\\\\]\\\\],\\\\[\\\\[0,6,\\\"pl-k\\\"\\\\],\\\\[7,12,\\\"pl-s1\\\"\\\\]\\\\],\\\\[\\\\[0,4,\\\"pl-k\\\"\\\\],\\\\[5,8,\\\"pl-s1\\\"\\\\],\\\\[9,15,\\\"pl-s1\\\"\\\\],\\\\[16,23,\\\"pl-s1\\\"\\\\],\\\\[24,30,\\\"pl-k\\\"\\\\],\\\\[31,38,\\\"pl-v\\\"\\\\]\\\\],\\\\[\\\\],\\\\[\\\\[0,27,\\\"pl-c\\\"\\\\]\\\\],\\\\[\\\\[0,3,\\\"pl-s1\\\"\\\\],\\\\[4,5,\\\"pl-c1\\\"\\\\],\\\\[6,13,\\\"pl-en\\\"\\\\],\\\\[14,23,\\\"pl-s\\\"\\\\],\\\\[25,29,\\\"pl-s1\\\"\\\\],\\\\[29,30,\\\"pl-c1\\\"\\\\],\\\\[30,34,\\\"pl-c1\\\"\\\\],\\\\[36,40,\\\"pl-s1\\\"\\\\],\\\\[40,41,\\\"pl-c1\\\"\\\\],\\\\[41,50,\\\"pl-s\\\"\\\\],\\\\[52,66,\\\"pl-s1\\\"\\\\],\\\\[66,67,\\\"pl-c1\\\"\\\\],\\\\[67,71,\\\"pl-c1\\\"\\\\]\\\\],\\\\[\\\\],\\\\[\\\\[0,11,\\\"pl-c\\\"\\\\]\\\\],\\\\[\\\\[0,12,\\\"pl-c1\\\"\\\\],\\\\[13,14,\\\"pl-c1\\\"\\\\],\\\\[15,40,\\\"pl-s\\\"\\\\]\\\\],\\\\[\\\\[0,10,\\\"pl-c1\\\"\\\\],\\\\[11,12,\\\"pl-c1\\\"\\\\],\\\\[13,30,\\\"pl-s\\\"\\\\]\\\\],\\\\[\\\\],\\\\[\\\\[0,5,\\\"pl-k\\\"\\\\],\\\\[6,9,\\\"pl-k\\\"\\\\],\\\\[10,26,\\\"pl-en\\\"\\\\],\\\\[27,30,\\\"pl-s1\\\"\\\\],\\\\[32,35,\\\"pl-smi\\\"\\\\],\\\\[37,39,\\\"pl-c1\\\"\\\\],\\\\[40,44,\\\"pl-s1\\\"\\\\],\\\\[45,48,\\\"pl-smi\\\"\\\\],\\\\[50,53,\\\"pl-smi\\\"\\\\],\\\\[55,56,\\\"pl-c1\\\"\\\\],\\\\[57,61,\\\"pl-c1\\\"\\\\]\\\\],\\\\[\\\\[4,67,\\\"pl-s\\\"\\\\]\\\\],\\\\[\\\\[4,11,\\\"pl-s1\\\"\\\\],\\\\[12,13,\\\"pl-c1\\\"\\\\]\\\\],\\\\[\\\\[8,20,\\\"pl-s\\\"\\\\],\\\\[22,32,\\\"pl-c1\\\"\\\\]\\\\],\\\\[\\\\[8,16,\\\"pl-s\\\"\\\\],\\\\[18,40,\\\"pl-s\\\"\\\\]\\\\],\\\\[\\\\],\\\\[\\\\[4,9,\\\"pl-k\\\"\\\\],\\\\[10,14,\\\"pl-k\\\"\\\\],\\\\[15,20,\\\"pl-s1\\\"\\\\],\\\\[21,32,\\\"pl-c1\\\"\\\\],\\\\[35,37,\\\"pl-k\\\"\\\\],\\\\[38,44,\\\"pl-s1\\\"\\\\]\\\\],\\\\[\\\\[8,11,\\\"pl-k\\\"\\\\]\\\\],\\\\[\\\\[12,20,\\\"pl-s1\\\"\\\\],\\\\[21,22,\\\"pl-c1\\\"\\\\],\\\\[23,28,\\\"pl-k\\\"\\\\],\\\\[29,35,\\\"pl-s1\\\"\\\\],\\\\[36,39,\\\"pl-c1\\\"\\\\],\\\\[40,43,\\\"pl-s1\\\"\\\\],\\\\[45,52,\\\"pl-s1\\\"\\\\],\\\\[52,53,\\\"pl-c1\\\"\\\\],\\\\[53,60,\\\"pl-s1\\\"\\\\],\\\\[62,69,\\\"pl-s1\\\"\\\\],\\\\[69,70,\\\"pl-c1\\\"\\\\],\\\\[70,74,\\\"pl-c1\\\"\\\\]\\\\],\\\\[\\\\[12,20,\\\"pl-s1\\\"\\\\],\\\\[21,37,\\\"pl-c1\\\"\\\\]\\\\],\\\\[\\\\[12,18,\\\"pl-k\\\"\\\\],\\\\[19,27,\\\"pl-s1\\\"\\\\],\\\\[28,32,\\\"pl-c1\\\"\\\\]\\\\],\\\\[\\\\[8,14,\\\"pl-k\\\"\\\\],\\\\[15,24,\\\"pl-v\\\"\\\\]\\\\],\\\\[\\\\[12,18,\\\"pl-k\\\"\\\\],\\\\[19,23,\\\"pl-c1\\\"\\\\]\\\\],\\\\[\\\\],\\\\[\\\\[0,3,\\\"pl-k\\\"\\\\],\\\\[4,16,\\\"pl-en\\\"\\\\],\\\\[17,24,\\\"pl-s1\\\"\\\\],\\\\[26,30,\\\"pl-smi\\\"\\\\],\\\\[32,34,\\\"pl-c1\\\"\\\\],\\\\[35,38,\\\"pl-smi\\\"\\\\]\\\\],\\\\[\\\\[4,57,\\\"pl-s\\\"\\\\]\\\\],\\\\[\\\\[4,9,\\\"pl-s1\\\"\\\\],\\\\[10,11,\\\"pl-c1\\\"\\\\],\\\\[12,19,\\\"pl-s1\\\"\\\\],\\\\[20,32,\\\"pl-s\\\"\\\\]\\\\],\\\\[\\\\[4,10,\\\"pl-k\\\"\\\\],\\\\[11,15,\\\"pl-s\\\"\\\\]\\\\],\\\\[\\\\[0,46,\\\"pl-s\\\"\\\\],\\\\[15,46,\\\"pl-s1\\\"\\\\],\\\\[15,16,\\\"pl-kos\\\"\\\\],\\\\[16,21,\\\"pl-s1\\\"\\\\],\\\\[22,25,\\\"pl-c1\\\"\\\\],\\\\[26,33,\\\"pl-s\\\"\\\\],\\\\[35,44,\\\"pl-s\\\"\\\\],\\\\[45,46,\\\"pl-kos\\\"\\\\]\\\\],\\\\[\\\\[0,48,\\\"pl-s\\\"\\\\],\\\\[14,48,\\\"pl-s1\\\"\\\\],\\\\[14,15,\\\"pl-kos\\\"\\\\],\\\\[15,20,\\\"pl-s1\\\"\\\\],\\\\[21,24,\\\"pl-c1\\\"\\\\],\\\\[25,35,\\\"pl-s\\\"\\\\],\\\\[37,46,\\\"pl-s\\\"\\\\],\\\\[47,48,\\\"pl-kos\\\"\\\\]\\\\],\\\\[\\\\[0,52,\\\"pl-s\\\"\\\\],\\\\[18,52,\\\"pl-s1\\\"\\\\],\\\\[18,19,\\\"pl-kos\\\"\\\\],\\\\[19,24,\\\"pl-s1\\\"\\\\],\\\\[25,28,\\\"pl-c1\\\"\\\\],\\\\[29,39,\\\"pl-s\\\"\\\\],\\\\[41,50,\\\"pl-s\\\"\\\\],\\\\[51,52,\\\"pl-kos\\\"\\\\]\\\\],\\\\[\\\\[0,75,\\\"pl-s\\\"\\\\],\\\\[21,75,\\\"pl-s1\\\"\\\\],\\\\[21,22,\\\"pl-kos\\\"\\\\],\\\\[22,27,\\\"pl-s1\\\"\\\\],\\\\[28,31,\\\"pl-c1\\\"\\\\],\\\\[32,45,\\\"pl-s\\\"\\\\],\\\\[47,73,\\\"pl-s\\\"\\\\],\\\\[74,75,\\\"pl-kos\\\"\\\\]\\\\],\\\\[\\\\[0,85,\\\"pl-s\\\"\\\\],\\\\[22,85,\\\"pl-s1\\\"\\\\],\\\\[22,23,\\\"pl-kos\\\"\\\\],\\\\[23,28,\\\"pl-s1\\\"\\\\],\\\\[29,32,\\\"pl-c1\\\"\\\\],\\\\[33,46,\\\"pl-s\\\"\\\\],\\\\[48,83,\\\"pl-s\\\"\\\\],\\\\[84,85,\\\"pl-kos\\\"\\\\]\\\\],\\\\[\\\\[0,11,\\\"pl-s\\\"\\\\]\\\\],\\\\[\\\\],\\\\[\\\\[0,11,\\\"pl-en\\\"\\\\],\\\\[1,4,\\\"pl-s1\\\"\\\\],\\\\[5,9,\\\"pl-c1\\\"\\\\]\\\\],\\\\[\\\\[0,5,\\\"pl-k\\\"\\\\],\\\\[6,9,\\\"pl-k\\\"\\\\],\\\\[10,20,\\\"pl-en\\\"\\\\],\\\\[21,26,\\\"pl-s1\\\"\\\\],\\\\[28,31,\\\"pl-smi\\\"\\\\],\\\\[33,35,\\\"pl-c1\\\"\\\\],\\\\[36,39,\\\"pl-smi\\\"\\\\]\\\\],\\\\[\\\\[4,41,\\\"pl-s\\\"\\\\]\\\\],\\\\[\\\\[0,0,\\\"pl-s\\\"\\\\]\\\\],\\\\[\\\\[0,9,\\\"pl-s\\\"\\\\]\\\\],\\\\[\\\\[0,53,\\\"pl-s\\\"\\\\]\\\\],\\\\[\\\\[0,7,\\\"pl-s\\\"\\\\]\\\\],\\\\[\\\\[4,7,\\\"pl-s1\\\"\\\\],\\\\[8,9,\\\"pl-c1\\\"\\\\],\\\\[10,54,\\\"pl-s\\\"\\\\],\\\\[12,26,\\\"pl-s1\\\"\\\\],\\\\[12,13,\\\"pl-kos\\\"\\\\],\\\\[13,25,\\\"pl-c1\\\"\\\\],\\\\[25,26,\\\"pl-kos\\\"\\\\],\\\\[46,53,\\\"pl-s1\\\"\\\\],\\\\[46,47,\\\"pl-kos\\\"\\\\],\\\\[47,52,\\\"pl-s1\\\"\\\\],\\\\[52,53,\\\"pl-kos\\\"\\\\]\\\\],\\\\[\\\\[4,8,\\\"pl-s1\\\"\\\\],\\\\[9,10,\\\"pl-c1\\\"\\\\],\\\\[11,16,\\\"pl-k\\\"\\\\],\\\\[17,33,\\\"pl-en\\\"\\\\],\\\\[34,37,\\\"pl-s1\\\"\\\\]\\\\],\\\\[\\\\],\\\\[\\\\[4,6,\\\"pl-k\\\"\\\\],\\\\[7,10,\\\"pl-c1\\\"\\\\],\\\\[11,15,\\\"pl-s1\\\"\\\\],\\\\[16,18,\\\"pl-c1\\\"\\\\],\\\\[19,29,\\\"pl-s\\\"\\\\],\\\\[30,36,\\\"pl-c1\\\"\\\\],\\\\[30,33,\\\"pl-c1\\\"\\\\],\\\\[34,36,\\\"pl-c1\\\"\\\\],\\\\[37,41,\\\"pl-s1\\\"\\\\]\\\\],\\\\[\\\\[8,14,\\\"pl-k\\\"\\\\],\\\\[15,59,\\\"pl-s\\\"\\\\]\\\\],\\\\[\\\\],\\\\[\\\\[4,6,\\\"pl-k\\\"\\\\],\\\\[7,10,\\\"pl-c1\\\"\\\\],\\\\[11,15,\\\"pl-s1\\\"\\\\],\\\\[16,26,\\\"pl-s\\\"\\\\]\\\\],\\\\[\\\\[8,14,\\\"pl-k\\\"\\\\],\\\\[15,49,\\\"pl-s\\\"\\\\]\\\\],\\\\[\\\\],\\\\[\\\\[4,10,\\\"pl-s1\\\"\\\\],\\\\[11,12,\\\"pl-c1\\\"\\\\],\\\\[14,26,\\\"pl-en\\\"\\\\],\\\\[27,34,\\\"pl-s1\\\"\\\\],\\\\[36,39,\\\"pl-k\\\"\\\\],\\\\[40,47,\\\"pl-s1\\\"\\\\],\\\\[48,50,\\\"pl-c1\\\"\\\\],\\\\[51,55,\\\"pl-s1\\\"\\\\],\\\\[56,66,\\\"pl-s\\\"\\\\]\\\\],\\\\[\\\\[4,10,\\\"pl-k\\\"\\\\],\\\\[11,20,\\\"pl-s\\\"\\\\],\\\\[12,14,\\\"pl-cce\\\"\\\\],\\\\[17,19,\\\"pl-cce\\\"\\\\],\\\\[21,25,\\\"pl-c1\\\"\\\\],\\\\[26,32,\\\"pl-s1\\\"\\\\]\\\\],\\\\[\\\\],\\\\[\\\\[0,11,\\\"pl-en\\\"\\\\],\\\\[1,4,\\\"pl-s1\\\"\\\\],\\\\[5,9,\\\"pl-c1\\\"\\\\]\\\\],\\\\[\\\\[0,5,\\\"pl-k\\\"\\\\],\\\\[6,9,\\\"pl-k\\\"\\\\],\\\\[10,22,\\\"pl-en\\\"\\\\],\\\\[23,31,\\\"pl-s1\\\"\\\\],\\\\[33,38,\\\"pl-smi\\\"\\\\],\\\\[40,49,\\\"pl-s1\\\"\\\\],\\\\[51,56,\\\"pl-smi\\\"\\\\],\\\\[58,60,\\\"pl-c1\\\"\\\\],\\\\[61,64,\\\"pl-smi\\\"\\\\]\\\\],\\\\[\\\\[4,43,\\\"pl-s\\\"\\\\]\\\\],\\\\[\\\\[0,0,\\\"pl-s\\\"\\\\]\\\\],\\\\[\\\\[0,9,\\\"pl-s\\\"\\\\]\\\\],\\\\[\\\\[0,42,\\\"pl-s\\\"\\\\]\\\\],\\\\[\\\\[0,44,\\\"pl-s\\\"\\\\]\\\\],\\\\[\\\\[0,7,\\\"pl-s\\\"\\\\]\\\\],\\\\[\\\\[4,42,\\\"pl-c\\\"\\\\]\\\\],\\\\[\\\\[4,14,\\\"pl-s1\\\"\\\\],\\\\[15,16,\\\"pl-c1\\\"\\\\],\\\\[17,64,\\\"pl-s\\\"\\\\],\\\\[19,33,\\\"pl-s1\\\"\\\\],\\\\[19,20,\\\"pl-kos\\\"\\\\],\\\\[20,32,\\\"pl-c1\\\"\\\\],\\\\[32,33,\\\"pl-kos\\\"\\\\],\\\\[41,51,\\\"pl-s1\\\"\\\\],\\\\[41,42,\\\"pl-kos\\\"\\\\],\\\\[42,50,\\\"pl-s1\\\"\\\\],\\\\[50,51,\\\"pl-kos\\\"\\\\],\\\\[52,63,\\\"pl-s1\\\"\\\\],\\\\[52,53,\\\"pl-kos\\\"\\\\],\\\\[53,62,\\\"pl-s1\\\"\\\\],\\\\[62,63,\\\"pl-kos\\\"\\\\]\\\\],\\\\[\\\\[4,15,\\\"pl-s1\\\"\\\\],\\\\[16,17,\\\"pl-c1\\\"\\\\],\\\\[18,23,\\\"pl-k\\\"\\\\],\\\\[24,40,\\\"pl-en\\\"\\\\],\\\\[41,51,\\\"pl-s1\\\"\\\\]\\\\],\\\\[\\\\],\\\\[\\\\[4,6,\\\"pl-k\\\"\\\\],\\\\[7,10,\\\"pl-c1\\\"\\\\],\\\\[11,22,\\\"pl-s1\\\"\\\\]\\\\],\\\\[\\\\[8,14,\\\"pl-k\\\"\\\\],\\\\[15,65,\\\"pl-s\\\"\\\\]\\\\],\\\\[\\\\],\\\\[\\\\[4,51,\\\"pl-c\\\"\\\\]\\\\],\\\\[\\\\[4,16,\\\"pl-s1\\\"\\\\],\\\\[17,18,\\\"pl-c1\\\"\\\\],\\\\[19,30,\\\"pl-s1\\\"\\\\],\\\\[31,43,\\\"pl-s\\\"\\\\],\\\\[45,55,\\\"pl-s\\\"\\\\]\\\\],\\\\[\\\\[4,17,\\\"pl-s1\\\"\\\\],\\\\[18,19,\\\"pl-c1\\\"\\\\],\\\\[20,25,\\\"pl-k\\\"\\\\],\\\\[26,42,\\\"pl-en\\\"\\\\],\\\\[43,55,\\\"pl-s1\\\"\\\\]\\\\],\\\\[\\\\],\\\\[\\\\[4,6,\\\"pl-k\\\"\\\\],\\\\[7,10,\\\"pl-c1\\\"\\\\],\\\\[11,24,\\\"pl-s1\\\"\\\\]\\\\],\\\\[\\\\[8,14,\\\"pl-k\\\"\\\\],\\\\[15,51,\\\"pl-s\\\"\\\\]\\\\],\\\\[\\\\],\\\\[\\\\[4,49,\\\"pl-c\\\"\\\\]\\\\],\\\\[\\\\[4,11,\\\"pl-s1\\\"\\\\],\\\\[12,13,\\\"pl-c1\\\"\\\\],\\\\[14,27,\\\"pl-s1\\\"\\\\],\\\\[28,40,\\\"pl-s\\\"\\\\],\\\\[42,51,\\\"pl-s\\\"\\\\]\\\\],\\\\[\\\\[4,13,\\\"pl-s1\\\"\\\\],\\\\[14,15,\\\"pl-c1\\\"\\\\]\\\\],\\\\[\\\\[4,7,\\\"pl-k\\\"\\\\],\\\\[8,14,\\\"pl-s1\\\"\\\\],\\\\[15,17,\\\"pl-c1\\\"\\\\],\\\\[18,25,\\\"pl-s1\\\"\\\\],\\\\[27,28,\\\"pl-c1\\\"\\\\],\\\\[32,58,\\\"pl-c\\\"\\\\]\\\\],\\\\[\\\\[8,16,\\\"pl-s1\\\"\\\\],\\\\[17,18,\\\"pl-c1\\\"\\\\],\\\\[19,23,\\\"pl-s\\\"\\\\]\\\\],\\\\[\\\\[0,29,\\\"pl-s\\\"\\\\],\\\\[12,28,\\\"pl-s1\\\"\\\\],\\\\[12,13,\\\"pl-kos\\\"\\\\],\\\\[13,19,\\\"pl-s1\\\"\\\\],\\\\[20,26,\\\"pl-s\\\"\\\\],\\\\[27,28,\\\"pl-kos\\\"\\\\]\\\\],\\\\[\\\\[0,76,\\\"pl-s\\\"\\\\],\\\\[25,48,\\\"pl-s1\\\"\\\\],\\\\[25,26,\\\"pl-kos\\\"\\\\],\\\\[26,32,\\\"pl-s1\\\"\\\\],\\\\[33,46,\\\"pl-s\\\"\\\\],\\\\[47,48,\\\"pl-kos\\\"\\\\],\\\\[49,76,\\\"pl-s1\\\"\\\\],\\\\[49,50,\\\"pl-kos\\\"\\\\],\\\\[50,56,\\\"pl-s1\\\"\\\\],\\\\[57,74,\\\"pl-s\\\"\\\\],\\\\[75,76,\\\"pl-kos\\\"\\\\]\\\\],\\\\[\\\\[0,65,\\\"pl-s\\\"\\\\],\\\\[18,39,\\\"pl-s1\\\"\\\\],\\\\[18,19,\\\"pl-kos\\\"\\\\],\\\\[19,25,\\\"pl-s1\\\"\\\\],\\\\[26,37,\\\"pl-s\\\"\\\\],\\\\[38,39,\\\"pl-kos\\\"\\\\],\\\\[40,65,\\\"pl-s1\\\"\\\\],\\\\[40,41,\\\"pl-kos\\\"\\\\],\\\\[41,47,\\\"pl-s1\\\"\\\\],\\\\[48,63,\\\"pl-s\\\"\\\\],\\\\[64,65,\\\"pl-kos\\\"\\\\]\\\\],\\\\[\\\\[0,50,\\\"pl-s\\\"\\\\],\\\\[22,50,\\\"pl-s1\\\"\\\\],\\\\[22,23,\\\"pl-kos\\\"\\\\],\\\\[23,29,\\\"pl-s1\\\"\\\\],\\\\[30,48,\\\"pl-s\\\"\\\\],\\\\[49,50,\\\"pl-kos\\\"\\\\]\\\\],\\\\[\\\\[0,15,\\\"pl-s\\\"\\\\]\\\\],\\\\[\\\\[8,17,\\\"pl-s1\\\"\\\\],\\\\[18,24,\\\"pl-c1\\\"\\\\],\\\\[25,33,\\\"pl-s1\\\"\\\\]\\\\],\\\\[\\\\],\\\\[\\\\[4,10,\\\"pl-k\\\"\\\\],\\\\[11,20,\\\"pl-s\\\"\\\\],\\\\[12,14,\\\"pl-cce\\\"\\\\],\\\\[17,19,\\\"pl-cce\\\"\\\\],\\\\[21,25,\\\"pl-c1\\\"\\\\],\\\\[26,35,\\\"pl-s1\\\"\\\\]\\\\],\\\\[\\\\],\\\\[\\\\],\\\\[\\\\[0,2,\\\"pl-k\\\"\\\\],\\\\[3,11,\\\"pl-s1\\\"\\\\],\\\\[12,14,\\\"pl-c1\\\"\\\\],\\\\[15,25,\\\"pl-s\\\"\\\\]\\\\],\\\\[\\\\[4,35,\\\"pl-c\\\"\\\\]\\\\],\\\\[\\\\[4,7,\\\"pl-s1\\\"\\\\],\\\\[8,11,\\\"pl-c1\\\"\\\\],\\\\[12,21,\\\"pl-s1\\\"\\\\],\\\\[21,22,\\\"pl-c1\\\"\\\\],\\\\[22,39,\\\"pl-s\\\"\\\\]\\\\]\\\\],\\\"colorizedLines\\\":null,\\\"csv\\\":null,\\\"csvError\\\":null,\\\"dependabotInfo\\\":{\\\"showConfigurationBanner\\\":false,\\\"configFilePath\\\":null,\\\"networkDependabotPath\\\":\\\"/Azure-Samples/ai-foundry-agents-samples/network/updates\\\",\\\"dismissConfigurationNoticePath\\\":\\\"/settings/dismiss-notice/dependabot\\\\_configuration\\\\_notice\\\",\\\"configurationNoticeDismissed\\\":null},\\\"displayName\\\":\\\"weather.py\\\",\\\"displayUrl\\\":\\\"https://github.com/Azure-Samples/ai-foundry-agents-samples/blob/main/examples/mcp/streamable-http/mcp-server/weather.py?raw=true\\\",\\\"headerInfo\\\":{\\\"blobSize\\\":\\\"3.05 KB\\\",\\\"deleteTooltip\\\":\\\"You must be signed in to make or propose changes\\\",\\\"editTooltip\\\":\\\"You must be signed in to make or propose changes\\\",\\\"ghDesktopPath\\\":\\\"https://desktop.github.com\\\",\\\"isGitLfs\\\":false,\\\"onBranch\\\":true,\\\"shortPath\\\":\\\"f2a02e4\\\",\\\"siteNavLoginPath\\\":\\\"/login?return\\\\_to=https%3A%2F%2Fgithub.com%2FAzure-Samples%2Fai-foundry-agents-samples%2Fblob%2Fmain%2Fexamples%2Fmcp%2Fstreamable-http%2Fmcp-server%2Fweather.py\\\",\\\"isCSV\\\":false,\\\"isRichtext\\\":false,\\\"toc\\\":null,\\\"lineInfo\\\":{\\\"truncatedLoc\\\":\\\"95\\\",\\\"truncatedSloc\\\":\\\"77\\\"},\\\"mode\\\":\\\"file\\\"},\\\"image\\\":false,\\\"isCodeownersFile\\\":null,\\\"isPlain\\\":false,\\\"isValidLegacyIssueTemplate\\\":false,\\\"issueTemplate\\\":null,\\\"discussionTemplate\\\":null,\\\"language\\\":\\\"Python\\\",\\\"languageID\\\":303,\\\"large\\\":false,\\\"planSupportInfo\\\":{\\\"repoIsFork\\\":null,\\\"repoOwnedByCurrentUser\\\":null,\\\"requestFullPath\\\":\\\"/Azure-Samples/ai-foundry-agents-samples/blob/main/examples/mcp/streamable-http/mcp-server/weather.py\\\",\\\"showFreeOrgGatedFeatureMessage\\\":null,\\\"showPlanSupportBanner\\\":null,\\\"upgradeDataAttributes\\\":null,\\\"upgradePath\\\":null},\\\"publishBannersInfo\\\":{\\\"dismissActionNoticePath\\\":\\\"/settings/dismiss-notice/publish\\\\_action\\\\_from\\\\_dockerfile\\\",\\\"releasePath\\\":\\\"/Azure-Samples/ai-foundry-agents-samples/releases/new?marketplace=true\\\",\\\"showPublishActionBanner\\\":false},\\\"rawBlobUrl\\\":\\\"https://github.com/Azure-Samples/ai-foundry-agents-samples/raw/refs/heads/main/examples/mcp/streamable-http/mcp-server/weather.py\\\",\\\"renderImageOrRaw\\\":false,\\\"richText\\\":null,\\\"renderedFileInfo\\\":null,\\\"shortPath\\\":null,\\\"symbolsEnabled\\\":true,\\\"tabSize\\\":8,\\\"topBannersInfo\\\":{\\\"overridingGlobalFundingFile\\\":false,\\\"globalPreferredFundingPath\\\":null,\\\"showInvalidCitationWarning\\\":false,\\\"citationHelpUrl\\\":\\\"https://docs.github.com/github/creating-cloning-and-archiving-repositories/creating-a-repository-on-github/about-citation-files\\\",\\\"actionsOnboardingTip\\\":null},\\\"truncated\\\":false,\\\"viewable\\\":true,\\\"workflowRedirectUrl\\\":null,\\\"symbols\\\":{\\\"timed\\\\_out\\\":false,\\\"not\\\\_analyzed\\\":false,\\\"symbols\\\":\\\\[{\\\"name\\\":\\\"mcp\\\",\\\"kind\\\":\\\"constant\\\",\\\"ident\\\\_start\\\":104,\\\"ident\\\\_end\\\":107,\\\"extent\\\\_start\\\":104,\\\"extent\\\\_end\\\":176,\\\"fully\\\\_qualified\\\\_name\\\":\\\"mcp\\\",\\\"ident\\\\_utf16\\\":{\\\"start\\\":{\\\"line\\\\_number\\\":5,\\\"utf16\\\\_col\\\":0},\\\"end\\\":{\\\"line\\\\_number\\\":5,\\\"utf16\\\\_col\\\":3}},\\\"extent\\\\_utf16\\\":{\\\"start\\\":{\\\"line\\\\_number\\\":5,\\\"utf16\\\\_col\\\":0},\\\"end\\\":{\\\"line\\\\_number\\\":5,\\\"utf16\\\\_col\\\":72}}},{\\\"name\\\":\\\"NWS\\\\_API\\\\_BASE\\\",\\\"kind\\\":\\\"constant\\\",\\\"ident\\\\_start\\\":190,\\\"ident\\\\_end\\\":202,\\\"extent\\\\_start\\\":190,\\\"extent\\\\_end\\\":230,\\\"fully\\\\_qualified\\\\_name\\\":\\\"NWS\\\\_API\\\\_BASE\\\",\\\"ident\\\\_utf16\\\":{\\\"start\\\":{\\\"line\\\\_number\\\":8,\\\"utf16\\\\_col\\\":0},\\\"end\\\":{\\\"line\\\\_number\\\":8,\\\"utf16\\\\_col\\\":12}},\\\"extent\\\\_utf16\\\":{\\\"start\\\":{\\\"line\\\\_number\\\":8,\\\"utf16\\\\_col\\\":0},\\\"end\\\":{\\\"line\\\\_number\\\":8,\\\"utf16\\\\_col\\\":40}}},{\\\"name\\\":\\\"USER\\\\_AGENT\\\",\\\"kind\\\":\\\"constant\\\",\\\"ident\\\\_start\\\":231,\\\"ident\\\\_end\\\":241,\\\"extent\\\\_start\\\":231,\\\"extent\\\\_end\\\":261,\\\"fully\\\\_qualified\\\\_name\\\":\\\"USER\\\\_AGENT\\\",\\\"ident\\\\_utf16\\\":{\\\"start\\\":{\\\"line\\\\_number\\\":9,\\\"utf16\\\\_col\\\":0},\\\"end\\\":{\\\"line\\\\_number\\\":9,\\\"utf16\\\\_col\\\":10}},\\\"extent\\\\_utf16\\\":{\\\"start\\\":{\\\"line\\\\_number\\\":9,\\\"utf16\\\\_col\\\":0},\\\"end\\\":{\\\"line\\\\_number\\\":9,\\\"utf16\\\\_col\\\":30}}},{\\\"name\\\":\\\"make\\\\_nws\\\\_request\\\",\\\"kind\\\":\\\"function\\\",\\\"ident\\\\_start\\\":273,\\\"ident\\\\_end\\\":289,\\\"extent\\\\_start\\\":263,\\\"extent\\\\_end\\\":750,\\\"fully\\\\_qualified\\\\_name\\\":\\\"make\\\\_nws\\\\_request\\\",\\\"ident\\\\_utf16\\\":{\\\"start\\\":{\\\"line\\\\_number\\\":11,\\\"utf16\\\\_col\\\":10},\\\"end\\\":{\\\"line\\\\_number\\\":11,\\\"utf16\\\\_col\\\":26}},\\\"extent\\\\_utf16\\\":{\\\"start\\\":{\\\"line\\\\_number\\\":11,\\\"utf16\\\\_col\\\":0},\\\"end\\\":{\\\"line\\\\_number\\\":23,\\\"utf16\\\\_col\\\":23}}},{\\\"name\\\":\\\"format\\\\_alert\\\",\\\"kind\\\":\\\"function\\\",\\\"ident\\\\_start\\\":756,\\\"ident\\\\_end\\\":768,\\\"extent\\\\_start\\\":752,\\\"extent\\\\_end\\\":1222,\\\"fully\\\\_qualified\\\\_name\\\":\\\"format\\\\_alert\\\",\\\"ident\\\\_utf16\\\":{\\\"start\\\":{\\\"line\\\\_number\\\":25,\\\"utf16\\\\_col\\\":4},\\\"end\\\":{\\\"line\\\\_number\\\":25,\\\"utf16\\\\_col\\\":16}},\\\"extent\\\\_utf16\\\":{\\\"start\\\":{\\\"line\\\\_number\\\":25,\\\"utf16\\\\_col\\\":0},\\\"end\\\":{\\\"line\\\\_number\\\":34,\\\"utf16\\\\_col\\\":11}}},{\\\"name\\\":\\\"get\\\\_alerts\\\",\\\"kind\\\":\\\"function\\\",\\\"ident\\\\_start\\\":1246,\\\"ident\\\\_end\\\":1256,\\\"extent\\\\_start\\\":1236,\\\"extent\\\\_end\\\":1773,\\\"fully\\\\_qualified\\\\_name\\\":\\\"get\\\\_alerts\\\",\\\"ident\\\\_utf16\\\":{\\\"start\\\":{\\\"line\\\\_number\\\":37,\\\"utf16\\\\_col\\\":10},\\\"end\\\":{\\\"line\\\\_number\\\":37,\\\"utf16\\\\_col\\\":20}},\\\"extent\\\\_utf16\\\":{\\\"start\\\":{\\\"line\\\\_number\\\":37,\\\"utf16\\\\_col\\\":0},\\\"end\\\":{\\\"line\\\\_number\\\":53,\\\"utf16\\\\_col\\\":33}}},{\\\"name\\\":\\\"get\\\\_forecast\\\",\\\"kind\\\":\\\"function\\\",\\\"ident\\\\_start\\\":1797,\\\"ident\\\\_end\\\":1809,\\\"extent\\\\_start\\\":1787,\\\"extent\\\\_end\\\":3021,\\\"fully\\\\_qualified\\\\_name\\\":\\\"get\\\\_forecast\\\",\\\"ident\\\\_utf16\\\":{\\\"start\\\":{\\\"line\\\\_number\\\":56,\\\"utf16\\\\_col\\\":10},\\\"end\\\":{\\\"line\\\\_number\\\":56,\\\"utf16\\\\_col\\\":22}},\\\"extent\\\\_utf16\\\":{\\\"start\\\":{\\\"line\\\\_number\\\":56,\\\"utf16\\\\_col\\\":0},\\\"end\\\":{\\\"line\\\\_number\\\":89,\\\"utf16\\\\_col\\\":36}}}\\\\]}},\\\"copilotInfo\\\":null,\\\"copilotAccessAllowed\\\":false,\\\"modelsAccessAllowed\\\":false,\\\"modelsRepoIntegrationEnabled\\\":false,\\\"isMarketplaceEnabled\\\":true,\\\"csrf\\\\_tokens\\\":{\\\"/Azure-Samples/ai-foundry-agents-samples/branches\\\":{\\\"post\\\":\\\"j\\\\_WKSyzZ-5zbSO6RBIIt5MBHPH0bvT7hBu9Eo5QvOdWKvp2NizzGDVrR4ESzSIzCjLD6LoN8XQvdjImce6dsYA\\\"},\\\"/repos/preferences\\\":{\\\"post\\\":\\\"HbQau\\\\_cf2hvFdUQbLP5Uxsnm5Pbyfw3CuQpViXNc0X\\\\_siPQbO7awpAeSVnHU9qiMQ9oGbMiQ\\\\_1374oAopAOgAA\\\"}}},\\\"title\\\":\\\"ai-foundry-agents-samples/examples/mcp/streamable-http/mcp-server/weather.py at main \\u00b7 Azure-Samples/ai-foundry-agents-samples\\\",\\\"appPayload\\\":{\\\"helpUrl\\\":\\\"https://docs.github.com\\\",\\\"findFileWorkerPath\\\":\\\"/assets-cdn/worker/find-file-worker-263cab1760dd.js\\\",\\\"findInFileWorkerPath\\\":\\\"/assets-cdn/worker/find-in-file-worker-98e6e9db3609.js\\\",\\\"githubDevUrl\\\":null,\\\"enabled\\\\_features\\\":{\\\"code\\\\_nav\\\\_ui\\\\_events\\\":false,\\\"react\\\\_blob\\\\_overlay\\\":false,\\\"accessible\\\\_code\\\\_button\\\":true}}}</script> <div data-target=\\\"react-app.reactRoot\\\"></div></turbo-frame>\\n## Footer\\n\\n&copy; 2025 GitHub, Inc.\\n### Footer navigation\\n\\n* [Terms](https://docs.github.com/site-policy/github-terms/github-terms-of-service)\\n* [Privacy](https://docs.github.com/site-policy/privacy-policies/github-privacy-statement)\\n* [Security](https://github.com/security)\\n* [Status](https://www.githubstatus.com/)\\n* [Docs](https://docs.github.com/)\\n* [Contact](https://support.github.com?tags=dotcom-footer)\\n* <cookie-consent-link><button>Manage cookies</button></cookie-consent-link>\\n* <cookie-consent-link><button>Do not share my personal information</button></cookie-consent-link> \\n\\nYou can\\u2019t perform that action at this time.\"\n",
      "}\n",
      "🔄 Run step: step_6sef7P9XILJrk6VXjsda1hjc, status: RunStepStatus.COMPLETED, type: RunStepType.TOOL_CALLS\n",
      "🛠️ Tool call details:\n",
      "{\n",
      "     \"id\": \"call_9mJFsvrNtbTIqlPHjVd6Stno\",\n",
      "     \"type\": \"mcp\",\n",
      "     \"arguments\": \"{\\\"url\\\":\\\"https://github.com/Azure-Samples/ai-foundry-agents-samples/blob/main/examples/mcp/streamable-http/mcp-server/README.md\\\"}\",\n",
      "     \"name\": \"fetch_generic_url_content\",\n",
      "     \"server_label\": \"github\",\n",
      "     \"output\": \"[Skip to content](#start-of-content)     <link /> <link />     ## Navigation Menu\\n<button>Toggle navigation</button>\\n\\n[Sign in](/login?return_to=https%3A%2F%2Fgithub.com%2FAzure-Samples%2Fai-foundry-agents-samples%2Fblob%2Fmain%2Fexamples%2Fmcp%2Fstreamable-http%2Fmcp-server%2FREADME.md) \\n<react-partial-anchor><tool-tip>Appearance settings</tool-tip> <template><link /> <link /></template></react-partial-anchor>\\n\\n* <button>Product</button>\\n\\n  * [GitHub Copilot\\nWrite better code with AI](https://github.com/features/copilot)\\n  * [GitHub Models New\\nManage and compare prompts](https://github.com/features/models)\\n  * [GitHub Advanced Security\\nFind and fix vulnerabilities](https://github.com/security/advanced-security)\\n  * [Actions\\nAutomate any workflow](https://github.com/features/actions)\\n  * [Codespaces\\nInstant dev environments](https://github.com/features/codespaces)\\n\\n  * [Issues\\nPlan and track work](https://github.com/features/issues)\\n  * [Code Review\\nManage code changes](https://github.com/features/code-review)\\n  * [Discussions\\nCollaborate outside of code](https://github.com/features/discussions)\\n  * [Code Search\\nFind more, search less](https://github.com/features/code-search)\\n\\nExplore\\n\\n  * [Why GitHub](https://github.com/why-github)\\n  * [All features](https://github.com/features)\\n  * [Documentation](https://docs.github.com)\\n  * [GitHub Skills](https://skills.github.com)\\n  * [Blog](https://github.blog)\\n* <button>Solutions</button>\\n\\nBy company size\\n\\n  * [Enterprises](https://github.com/enterprise)\\n  * [Small and medium teams](https://github.com/team)\\n  * [Startups](https://github.com/enterprise/startups)\\n  * [Nonprofits](/solutions/industry/nonprofits)\\n\\nBy use case\\n\\n  * [DevSecOps](/solutions/use-case/devsecops)\\n  * [DevOps](/solutions/use-case/devops)\\n  * [CI/CD](/solutions/use-case/ci-cd)\\n  * [View all use cases](/solutions/use-case)\\n\\nBy industry\\n\\n  * [Healthcare](/solutions/industry/healthcare)\\n  * [Financial services](/solutions/industry/financial-services)\\n  * [Manufacturing](/solutions/industry/manufacturing)\\n  * [Government](/solutions/industry/government)\\n  * [View all industries](/solutions/industry)\\n\\n[View all solutions](/solutions)\\n* <button>Resources</button>\\n\\nTopics\\n\\n  * [AI](/resources/articles/ai)\\n  * [DevOps](/resources/articles/devops)\\n  * [Security](/resources/articles/security)\\n  * [Software Development](/resources/articles/software-development)\\n  * [View all](/resources/articles)\\n\\nExplore\\n\\n  * [Learning Pathways](https://resources.github.com/learn/pathways)\\n  * [Events & Webinars](https://resources.github.com)\\n  * [Ebooks & Whitepapers](https://github.com/resources/whitepapers)\\n  * [Customer Stories](https://github.com/customer-stories)\\n  * [Partners](https://partner.github.com)\\n  * [Executive Insights](https://github.com/solutions/executive-insights)\\n* <button>Open Source</button>\\n\\n  * [GitHub Sponsors\\nFund open source developers](/sponsors)\\n\\n  * [The ReadME Project\\nGitHub community articles](https://github.com/readme)\\n\\nRepositories\\n\\n  * [Topics](https://github.com/topics)\\n  * [Trending](https://github.com/trending)\\n  * [Collections](https://github.com/collections)\\n* <button>Enterprise</button>\\n\\n  * [Enterprise platform\\nAI-powered developer platform](/enterprise)\\n\\nAvailable add-ons\\n\\n  * [GitHub Advanced Security\\nEnterprise-grade security features](https://github.com/security/advanced-security)\\n  * [Copilot for business\\nEnterprise-grade AI features](/features/copilot/copilot-business)\\n  * [Premium Support\\nEnterprise-grade 24/7 support](/premium-support)\\n* [Pricing](https://github.com/pricing)\\n\\n<qbsearch-input><button>Search or jump to...</button> \\n\\n<modal-dialog># Search code, repositories, users, issues, pull requests...\\n\\n[Search syntax tips](https://docs.github.com/search-github/github-code-search/understanding-github-code-search-syntax)</modal-dialog>\\n\\n<dialog-helper><dialog># Provide feedback\\n\\n\\n<button>Cancel</button> <button>Submit feedback</button></dialog></dialog-helper> <custom-scopes><dialog-helper><dialog># Saved searches\\n\\n## Use saved searches to filter your results more quickly\\n\\n\\n<button>Cancel</button> <button>Create saved search</button></dialog></dialog-helper></custom-scopes></qbsearch-input>\\n\\n[Sign in](/login?return_to=https%3A%2F%2Fgithub.com%2FAzure-Samples%2Fai-foundry-agents-samples%2Fblob%2Fmain%2Fexamples%2Fmcp%2Fstreamable-http%2Fmcp-server%2FREADME.md)\\n[Sign up](/signup?ref_cta=Sign+up&ref_loc=header+logged+out&ref_page=%2F%3Cuser-name%3E%2F%3Crepo-name%3E%2Fblob%2Fshow&source=header-repo&source_repo=Azure-Samples%2Fai-foundry-agents-samples) \\n<react-partial-anchor><tool-tip>Appearance settings</tool-tip> <template><link /> <link /></template></react-partial-anchor>\\n<button>Resetting focus</button>\\n\\nYou signed in with another tab or window. [Reload]() to refresh your session. You signed out in another tab or window. [Reload]() to refresh your session. You switched accounts on another tab or window. [Reload]() to refresh your session. <tool-tip>Dismiss alert</tool-tip>\\n\\n<template>{{ message }}</template>\\n\\n[Azure-Samples](/Azure-Samples) / **[ai-foundry-agents-samples](/Azure-Samples/ai-foundry-agents-samples)** Public\\n\\n* [Notifications](/login?return_to=%2FAzure-Samples%2Fai-foundry-agents-samples)<tool-tip>You must be signed in to change notification settings</tool-tip>\\n* [Fork 8](/login?return_to=%2FAzure-Samples%2Fai-foundry-agents-samples)\\n* [Star 15](/login?return_to=%2FAzure-Samples%2Fai-foundry-agents-samples)\\n* [Code](/Azure-Samples/ai-foundry-agents-samples)\\n* [Issues 2](/Azure-Samples/ai-foundry-agents-samples/issues)\\n* [Pull requests 0](/Azure-Samples/ai-foundry-agents-samples/pulls)\\n* [Actions](/Azure-Samples/ai-foundry-agents-samples/actions)\\n* [Projects 0](/Azure-Samples/ai-foundry-agents-samples/projects)\\n* [Security<include-fragment>### Uh oh!\\n\\nThere was an error while loading. [Please reload this page]().</include-fragment>](/Azure-Samples/ai-foundry-agents-samples/security)\\n* [Insights](/Azure-Samples/ai-foundry-agents-samples/pulse)\\n\\n<action-menu><focus-group><tool-tip>Additional navigation options</tool-tip> <anchored-position><action-list>* [Code](/Azure-Samples/ai-foundry-agents-samples)\\n* [Issues](/Azure-Samples/ai-foundry-agents-samples/issues)\\n* [Pull requests](/Azure-Samples/ai-foundry-agents-samples/pulls)\\n* [Actions](/Azure-Samples/ai-foundry-agents-samples/actions)\\n* [Projects](/Azure-Samples/ai-foundry-agents-samples/projects)\\n* [Security](/Azure-Samples/ai-foundry-agents-samples/security)\\n* [Insights](/Azure-Samples/ai-foundry-agents-samples/pulse)</action-list></anchored-position></focus-group></action-menu>\\n<turbo-frame><div id=\\\"repo-content-pjax-container\\\" class=\\\"repository-content \\\" > <react-app app-name=\\\"react-code-view\\\" initial-path=\\\"/Azure-Samples/ai-foundry-agents-samples/blob/main/examples/mcp/streamable-http/mcp-server/README.md\\\" style=\\\"display: block; min-height: calc(100vh - 64px);\\\" data-attempted-ssr=\\\"false\\\" data-ssr=\\\"false\\\" data-lazy=\\\"false\\\" data-alternate=\\\"false\\\" data-data-router-enabled=\\\"false\\\" data-react-profiling=\\\"false\\\" > <script type=\\\"application/json\\\" data-target=\\\"react-app.embeddedData\\\">{\\\"payload\\\":{\\\"allShortcutsEnabled\\\":false,\\\"fileTree\\\":{\\\"examples/mcp/streamable-http/mcp-server\\\":{\\\"items\\\":\\\\[{\\\"name\\\":\\\".python-version\\\",\\\"path\\\":\\\"examples/mcp/streamable-http/mcp-server/.python-version\\\",\\\"contentType\\\":\\\"file\\\"},{\\\"name\\\":\\\"Dockerfile\\\",\\\"path\\\":\\\"examples/mcp/streamable-http/mcp-server/Dockerfile\\\",\\\"contentType\\\":\\\"file\\\"},{\\\"name\\\":\\\"README.md\\\",\\\"path\\\":\\\"examples/mcp/streamable-http/mcp-server/README.md\\\",\\\"contentType\\\":\\\"file\\\"},{\\\"name\\\":\\\"main.py\\\",\\\"path\\\":\\\"examples/mcp/streamable-http/mcp-server/main.py\\\",\\\"contentType\\\":\\\"file\\\"},{\\\"name\\\":\\\"pyproject.toml\\\",\\\"path\\\":\\\"examples/mcp/streamable-http/mcp-server/pyproject.toml\\\",\\\"contentType\\\":\\\"file\\\"},{\\\"name\\\":\\\"uv.lock\\\",\\\"path\\\":\\\"examples/mcp/streamable-http/mcp-server/uv.lock\\\",\\\"contentType\\\":\\\"file\\\"},{\\\"name\\\":\\\"weather.py\\\",\\\"path\\\":\\\"examples/mcp/streamable-http/mcp-server/weather.py\\\",\\\"contentType\\\":\\\"file\\\"}\\\\],\\\"totalCount\\\":7},\\\"examples/mcp/streamable-http\\\":{\\\"items\\\":\\\\[{\\\"name\\\":\\\"ai-foundry-agent\\\",\\\"path\\\":\\\"examples/mcp/streamable-http/ai-foundry-agent\\\",\\\"contentType\\\":\\\"directory\\\"},{\\\"name\\\":\\\"mcp-client\\\",\\\"path\\\":\\\"examples/mcp/streamable-http/mcp-client\\\",\\\"contentType\\\":\\\"directory\\\"},{\\\"name\\\":\\\"mcp-server\\\",\\\"path\\\":\\\"examples/mcp/streamable-http/mcp-server\\\",\\\"contentType\\\":\\\"directory\\\"},{\\\"name\\\":\\\"README.md\\\",\\\"path\\\":\\\"examples/mcp/streamable-http/README.md\\\",\\\"contentType\\\":\\\"file\\\"}\\\\],\\\"totalCount\\\":4},\\\"examples/mcp\\\":{\\\"items\\\":\\\\[{\\\"name\\\":\\\"filesystem\\\\_example\\\",\\\"path\\\":\\\"examples/mcp/filesystem\\\\_example\\\",\\\"contentType\\\":\\\"directory\\\"},{\\\"name\\\":\\\"streamable-http\\\",\\\"path\\\":\\\"examples/mcp/streamable-http\\\",\\\"contentType\\\":\\\"directory\\\"}\\\\],\\\"totalCount\\\":2},\\\"examples\\\":{\\\"items\\\":\\\\[{\\\"name\\\":\\\"mcp\\\",\\\"path\\\":\\\"examples/mcp\\\",\\\"contentType\\\":\\\"directory\\\"}\\\\],\\\"totalCount\\\":1},\\\"\\\":{\\\"items\\\":\\\\[{\\\"name\\\":\\\".github\\\",\\\"path\\\":\\\".github\\\",\\\"contentType\\\":\\\"directory\\\"},{\\\"name\\\":\\\"examples\\\",\\\"path\\\":\\\"examples\\\",\\\"contentType\\\":\\\"directory\\\"},{\\\"name\\\":\\\".gitignore\\\",\\\"path\\\":\\\".gitignore\\\",\\\"contentType\\\":\\\"file\\\"},{\\\"name\\\":\\\"CHANGELOG.md\\\",\\\"path\\\":\\\"CHANGELOG.md\\\",\\\"contentType\\\":\\\"file\\\"},{\\\"name\\\":\\\"CONTRIBUTING.md\\\",\\\"path\\\":\\\"CONTRIBUTING.md\\\",\\\"contentType\\\":\\\"file\\\"},{\\\"name\\\":\\\"LICENSE.md\\\",\\\"path\\\":\\\"LICENSE.md\\\",\\\"contentType\\\":\\\"file\\\"},{\\\"name\\\":\\\"README.md\\\",\\\"path\\\":\\\"README.md\\\",\\\"contentType\\\":\\\"file\\\"}\\\\],\\\"totalCount\\\":7}},\\\"fileTreeProcessingTime\\\":9.739418,\\\"foldersToFetch\\\":\\\\[\\\\],\\\"incompleteFileTree\\\":false,\\\"repo\\\":{\\\"id\\\":969602866,\\\"defaultBranch\\\":\\\"main\\\",\\\"name\\\":\\\"ai-foundry-agents-samples\\\",\\\"ownerLogin\\\":\\\"Azure-Samples\\\",\\\"currentUserCanPush\\\":false,\\\"isFork\\\":false,\\\"isEmpty\\\":false,\\\"createdAt\\\":\\\"2025-04-20T14:26:25.000Z\\\",\\\"ownerAvatar\\\":\\\"https://avatars.githubusercontent.com/u/1844662?v=4\\\",\\\"public\\\":true,\\\"private\\\":false,\\\"isOrgOwned\\\":true},\\\"codeLineWrapEnabled\\\":false,\\\"symbolsExpanded\\\":false,\\\"treeExpanded\\\":true,\\\"refInfo\\\":{\\\"name\\\":\\\"main\\\",\\\"listCacheKey\\\":\\\"v0:1745159186.0\\\",\\\"canEdit\\\":false,\\\"refType\\\":\\\"branch\\\",\\\"currentOid\\\":\\\"f567768c79735eabc067c01243a2797e4cdd5115\\\"},\\\"path\\\":\\\"examples/mcp/streamable-http/mcp-server/README.md\\\",\\\"currentUser\\\":null,\\\"blob\\\":{\\\"rawLines\\\":null,\\\"stylingDirectives\\\":null,\\\"colorizedLines\\\":null,\\\"csv\\\":null,\\\"csvError\\\":null,\\\"dependabotInfo\\\":{\\\"showConfigurationBanner\\\":false,\\\"configFilePath\\\":null,\\\"networkDependabotPath\\\":\\\"/Azure-Samples/ai-foundry-agents-samples/network/updates\\\",\\\"dismissConfigurationNoticePath\\\":\\\"/settings/dismiss-notice/dependabot\\\\_configuration\\\\_notice\\\",\\\"configurationNoticeDismissed\\\":null},\\\"displayName\\\":\\\"README.md\\\",\\\"displayUrl\\\":\\\"https://github.com/Azure-Samples/ai-foundry-agents-samples/blob/main/examples/mcp/streamable-http/mcp-server/README.md?raw=true\\\",\\\"headerInfo\\\":{\\\"blobSize\\\":\\\"694 Bytes\\\",\\\"deleteTooltip\\\":\\\"You must be signed in to make or propose changes\\\",\\\"editTooltip\\\":\\\"You must be signed in to make or propose changes\\\",\\\"ghDesktopPath\\\":\\\"https://desktop.github.com\\\",\\\"isGitLfs\\\":false,\\\"onBranch\\\":true,\\\"shortPath\\\":\\\"4e31c42\\\",\\\"siteNavLoginPath\\\":\\\"/login?return\\\\_to=https%3A%2F%2Fgithub.com%2FAzure-Samples%2Fai-foundry-agents-samples%2Fblob%2Fmain%2Fexamples%2Fmcp%2Fstreamable-http%2Fmcp-server%2FREADME.md\\\",\\\"isCSV\\\":false,\\\"isRichtext\\\":true,\\\"toc\\\":\\\\[{\\\"level\\\":1,\\\"text\\\":\\\"Streamable HTTP MCP Server\\\",\\\"anchor\\\":\\\"streamable-http-mcp-server\\\",\\\"htmlText\\\":\\\"Streamable HTTP MCP Server\\\"},{\\\"level\\\":2,\\\"text\\\":\\\"Running the MCP Server locally\\\",\\\"anchor\\\":\\\"running-the-mcp-server-locally\\\",\\\"htmlText\\\":\\\"Running the MCP Server locally\\\"},{\\\"level\\\":2,\\\"text\\\":\\\"Run MCP Inspector to test and debug MCP Server\\\",\\\"anchor\\\":\\\"run-mcp-inspector-to-test-and-debug-mcp-server\\\",\\\"htmlText\\\":\\\"Run MCP Inspector to test and debug MCP Server\\\"},{\\\"level\\\":2,\\\"text\\\":\\\"Deploy to Azure Container Apps\\\",\\\"anchor\\\":\\\"deploy-to-azure-container-apps\\\",\\\"htmlText\\\":\\\"Deploy to Azure Container Apps\\\"}\\\\],\\\"lineInfo\\\":{\\\"truncatedLoc\\\":\\\"35\\\",\\\"truncatedSloc\\\":\\\"26\\\"},\\\"mode\\\":\\\"file\\\"},\\\"image\\\":false,\\\"isCodeownersFile\\\":null,\\\"isPlain\\\":false,\\\"isValidLegacyIssueTemplate\\\":false,\\\"issueTemplate\\\":null,\\\"discussionTemplate\\\":null,\\\"language\\\":\\\"Markdown\\\",\\\"languageID\\\":222,\\\"large\\\":false,\\\"planSupportInfo\\\":{\\\"repoIsFork\\\":null,\\\"repoOwnedByCurrentUser\\\":null,\\\"requestFullPath\\\":\\\"/Azure-Samples/ai-foundry-agents-samples/blob/main/examples/mcp/streamable-http/mcp-server/README.md\\\",\\\"showFreeOrgGatedFeatureMessage\\\":null,\\\"showPlanSupportBanner\\\":null,\\\"upgradeDataAttributes\\\":null,\\\"upgradePath\\\":null},\\\"publishBannersInfo\\\":{\\\"dismissActionNoticePath\\\":\\\"/settings/dismiss-notice/publish\\\\_action\\\\_from\\\\_dockerfile\\\",\\\"releasePath\\\":\\\"/Azure-Samples/ai-foundry-agents-samples/releases/new?marketplace=true\\\",\\\"showPublishActionBanner\\\":false},\\\"rawBlobUrl\\\":\\\"https://github.com/Azure-Samples/ai-foundry-agents-samples/raw/refs/heads/main/examples/mcp/streamable-http/mcp-server/README.md\\\",\\\"renderImageOrRaw\\\":false,\\\"richText\\\":\\\"\\\\\\\\u003carticle class=\\\\\\\\\\\"markdown-body entry-content container-lg\\\\\\\\\\\" itemprop=\\\\\\\\\\\"text\\\\\\\\\\\"\\\\\\\\u003e\\\\\\\\u003cdiv class=\\\\\\\\\\\"markdown-heading\\\\\\\\\\\" dir=\\\\\\\\\\\"auto\\\\\\\\\\\"\\\\\\\\u003e\\\\\\\\u003ch1 tabindex=\\\\\\\\\\\"-1\\\\\\\\\\\" class=\\\\\\\\\\\"heading-element\\\\\\\\\\\" dir=\\\\\\\\\\\"auto\\\\\\\\\\\"\\\\\\\\u003eStreamable HTTP MCP Server\\\\\\\\u003c/h1\\\\\\\\u003e\\\\\\\\u003ca id=\\\\\\\\\\\"user-content-streamable-http-mcp-server\\\\\\\\\\\" class=\\\\\\\\\\\"anchor\\\\\\\\\\\" aria-label=\\\\\\\\\\\"Permalink: Streamable HTTP MCP Server\\\\\\\\\\\" href=\\\\\\\\\\\"#streamable-http-mcp-server\\\\\\\\\\\"\\\\\\\\u003e\\\\\\\\u003csvg class=\\\\\\\\\\\"octicon octicon-link\\\\\\\\\\\" viewBox=\\\\\\\\\\\"0 0 16 16\\\\\\\\\\\" version=\\\\\\\\\\\"1.1\\\\\\\\\\\" width=\\\\\\\\\\\"16\\\\\\\\\\\" height=\\\\\\\\\\\"16\\\\\\\\\\\" aria-hidden=\\\\\\\\\\\"true\\\\\\\\\\\"\\\\\\\\u003e\\\\\\\\u003cpath d=\\\\\\\\\\\"m7.775 3.275 1.25-1.25a3.5 3.5 0 1 1 4.95 4.95l-2.5 2.5a3.5 3.5 0 0 1-4.95 0 .751.751 0 0 1 .018-1.042.751.751 0 0 1 1.042-.018 1.998 1.998 0 0 0 2.83 0l2.5-2.5a2.002 2.002 0 0 0-2.83-2.83l-1.25 1.25a.751.751 0 0 1-1.042-.018.751.751 0 0 1-.018-1.042Zm-4.69 9.64a1.998 1.998 0 0 0 2.83 0l1.25-1.25a.751.751 0 0 1 1.042.018.751.751 0 0 1 .018 1.042l-1.25 1.25a3.5 3.5 0 1 1-4.95-4.95l2.5-2.5a3.5 3.5 0 0 1 4.95 0 .751.751 0 0 1-.018 1.042.751.751 0 0 1-1.042.018 1.998 1.998 0 0 0-2.83 0l-2.5 2.5a1.998 1.998 0 0 0 0 2.83Z\\\\\\\\\\\"\\\\\\\\u003e\\\\\\\\u003c/path\\\\\\\\u003e\\\\\\\\u003c/svg\\\\\\\\u003e\\\\\\\\u003c/a\\\\\\\\u003e\\\\\\\\u003c/div\\\\\\\\u003e\\\\\\\\n\\\\\\\\u003cdiv class=\\\\\\\\\\\"markdown-heading\\\\\\\\\\\" dir=\\\\\\\\\\\"auto\\\\\\\\\\\"\\\\\\\\u003e\\\\\\\\u003ch2 tabindex=\\\\\\\\\\\"-1\\\\\\\\\\\" class=\\\\\\\\\\\"heading-element\\\\\\\\\\\" dir=\\\\\\\\\\\"auto\\\\\\\\\\\"\\\\\\\\u003eRunning the MCP Server locally\\\\\\\\u003c/h2\\\\\\\\u003e\\\\\\\\u003ca id=\\\\\\\\\\\"user-content-running-the-mcp-server-locally\\\\\\\\\\\" class=\\\\\\\\\\\"anchor\\\\\\\\\\\" aria-label=\\\\\\\\\\\"Permalink: Running the MCP Server locally\\\\\\\\\\\" href=\\\\\\\\\\\"#running-the-mcp-server-locally\\\\\\\\\\\"\\\\\\\\u003e\\\\\\\\u003csvg class=\\\\\\\\\\\"octicon octicon-link\\\\\\\\\\\" viewBox=\\\\\\\\\\\"0 0 16 16\\\\\\\\\\\" version=\\\\\\\\\\\"1.1\\\\\\\\\\\" width=\\\\\\\\\\\"16\\\\\\\\\\\" height=\\\\\\\\\\\"16\\\\\\\\\\\" aria-hidden=\\\\\\\\\\\"true\\\\\\\\\\\"\\\\\\\\u003e\\\\\\\\u003cpath d=\\\\\\\\\\\"m7.775 3.275 1.25-1.25a3.5 3.5 0 1 1 4.95 4.95l-2.5 2.5a3.5 3.5 0 0 1-4.95 0 .751.751 0 0 1 .018-1.042.751.751 0 0 1 1.042-.018 1.998 1.998 0 0 0 2.83 0l2.5-2.5a2.002 2.002 0 0 0-2.83-2.83l-1.25 1.25a.751.751 0 0 1-1.042-.018.751.751 0 0 1-.018-1.042Zm-4.69 9.64a1.998 1.998 0 0 0 2.83 0l1.25-1.25a.751.751 0 0 1 1.042.018.751.751 0 0 1 .018 1.042l-1.25 1.25a3.5 3.5 0 1 1-4.95-4.95l2.5-2.5a3.5 3.5 0 0 1 4.95 0 .751.751 0 0 1-.018 1.042.751.751 0 0 1-1.042.018 1.998 1.998 0 0 0-2.83 0l-2.5 2.5a1.998 1.998 0 0 0 0 2.83Z\\\\\\\\\\\"\\\\\\\\u003e\\\\\\\\u003c/path\\\\\\\\u003e\\\\\\\\u003c/svg\\\\\\\\u003e\\\\\\\\u003c/a\\\\\\\\u003e\\\\\\\\u003c/div\\\\\\\\u003e\\\\\\\\n\\\\\\\\u003cp dir=\\\\\\\\\\\"auto\\\\\\\\\\\"\\\\\\\\u003eRun the following commands\\\\\\\\u003c/p\\\\\\\\u003e\\\\\\\\n\\\\\\\\u003cdiv class=\\\\\\\\\\\"snippet-clipboard-content notranslate position-relative overflow-auto\\\\\\\\\\\" data-snippet-clipboard-copy-content=\\\\\\\\\\\"cd examples/mcp/streamable-http/mcp-server \\\\\\\\nuv venv\\\\\\\\nuv sync\\\\\\\\nuv run weather.py\\\\\\\\\\\"\\\\\\\\u003e\\\\\\\\u003cpre class=\\\\\\\\\\\"notranslate\\\\\\\\\\\"\\\\\\\\u003e\\\\\\\\u003ccode\\\\\\\\u003ecd examples/mcp/streamable-http/mcp-server \\\\\\\\nuv venv\\\\\\\\nuv sync\\\\\\\\nuv run weather.py\\\\\\\\n\\\\\\\\u003c/code\\\\\\\\u003e\\\\\\\\u003c/pre\\\\\\\\u003e\\\\\\\\u003c/div\\\\\\\\u003e\\\\\\\\n\\\\\\\\u003cdiv class=\\\\\\\\\\\"markdown-heading\\\\\\\\\\\" dir=\\\\\\\\\\\"auto\\\\\\\\\\\"\\\\\\\\u003e\\\\\\\\u003ch2 tabindex=\\\\\\\\\\\"-1\\\\\\\\\\\" class=\\\\\\\\\\\"heading-element\\\\\\\\\\\" dir=\\\\\\\\\\\"auto\\\\\\\\\\\"\\\\\\\\u003eRun MCP Inspector to test and debug MCP Server\\\\\\\\u003c/h2\\\\\\\\u003e\\\\\\\\u003ca id=\\\\\\\\\\\"user-content-run-mcp-inspector-to-test-and-debug-mcp-server\\\\\\\\\\\" class=\\\\\\\\\\\"anchor\\\\\\\\\\\" aria-label=\\\\\\\\\\\"Permalink: Run MCP Inspector to test and debug MCP Server\\\\\\\\\\\" href=\\\\\\\\\\\"#run-mcp-inspector-to-test-and-debug-mcp-server\\\\\\\\\\\"\\\\\\\\u003e\\\\\\\\u003csvg class=\\\\\\\\\\\"octicon octicon-link\\\\\\\\\\\" viewBox=\\\\\\\\\\\"0 0 16 16\\\\\\\\\\\" version=\\\\\\\\\\\"1.1\\\\\\\\\\\" width=\\\\\\\\\\\"16\\\\\\\\\\\" height=\\\\\\\\\\\"16\\\\\\\\\\\" aria-hidden=\\\\\\\\\\\"true\\\\\\\\\\\"\\\\\\\\u003e\\\\\\\\u003cpath d=\\\\\\\\\\\"m7.775 3.275 1.25-1.25a3.5 3.5 0 1 1 4.95 4.95l-2.5 2.5a3.5 3.5 0 0 1-4.95 0 .751.751 0 0 1 .018-1.042.751.751 0 0 1 1.042-.018 1.998 1.998 0 0 0 2.83 0l2.5-2.5a2.002 2.002 0 0 0-2.83-2.83l-1.25 1.25a.751.751 0 0 1-1.042-.018.751.751 0 0 1-.018-1.042Zm-4.69 9.64a1.998 1.998 0 0 0 2.83 0l1.25-1.25a.751.751 0 0 1 1.042.018.751.751 0 0 1 .018 1.042l-1.25 1.25a3.5 3.5 0 1 1-4.95-4.95l2.5-2.5a3.5 3.5 0 0 1 4.95 0 .751.751 0 0 1-.018 1.042.751.751 0 0 1-1.042.018 1.998 1.998 0 0 0-2.83 0l-2.5 2.5a1.998 1.998 0 0 0 0 2.83Z\\\\\\\\\\\"\\\\\\\\u003e\\\\\\\\u003c/path\\\\\\\\u003e\\\\\\\\u003c/svg\\\\\\\\u003e\\\\\\\\u003c/a\\\\\\\\u003e\\\\\\\\u003c/div\\\\\\\\u003e\\\\\\\\n\\\\\\\\u003cp dir=\\\\\\\\\\\"auto\\\\\\\\\\\"\\\\\\\\u003eOpen a new terminal window and run the following commands\\\\\\\\u003c/p\\\\\\\\u003e\\\\\\\\n\\\\\\\\u003cdiv class=\\\\\\\\\\\"snippet-clipboard-content notranslate position-relative overflow-auto\\\\\\\\\\\" data-snippet-clipboard-copy-content=\\\\\\\\\\\"npx @modelcontextprotocol/inspector\\\\\\\\\\\"\\\\\\\\u003e\\\\\\\\u003cpre class=\\\\\\\\\\\"notranslate\\\\\\\\\\\"\\\\\\\\u003e\\\\\\\\u003ccode\\\\\\\\u003enpx @modelcontextprotocol/inspector\\\\\\\\n\\\\\\\\u003c/code\\\\\\\\u003e\\\\\\\\u003c/pre\\\\\\\\u003e\\\\\\\\u003c/div\\\\\\\\u003e\\\\\\\\n\\\\\\\\u003cp dir=\\\\\\\\\\\"auto\\\\\\\\\\\"\\\\\\\\u003eOpen a browser and navigate to \\\\\\\\u003ca href=\\\\\\\\\\\"http://127.0.0.1:6274\\\\\\\\\\\" rel=\\\\\\\\\\\"nofollow\\\\\\\\\\\"\\\\\\\\u003ehttp://127.0.0.1:6274\\\\\\\\u003c/a\\\\\\\\u003e\\\\\\\\u003c/p\\\\\\\\u003e\\\\\\\\n\\\\\\\\u003cp dir=\\\\\\\\\\\"auto\\\\\\\\\\\"\\\\\\\\u003eIn the URL enter: \\\\\\\\u003ca href=\\\\\\\\\\\"http://localhost:8001/mcp\\\\\\\\\\\" rel=\\\\\\\\\\\"nofollow\\\\\\\\\\\"\\\\\\\\u003ehttp://localhost:8001/mcp\\\\\\\\u003c/a\\\\\\\\u003e and click Connect.\\\\\\\\u003c/p\\\\\\\\u003e\\\\\\\\n\\\\\\\\u003cdiv class=\\\\\\\\\\\"markdown-heading\\\\\\\\\\\" dir=\\\\\\\\\\\"auto\\\\\\\\\\\"\\\\\\\\u003e\\\\\\\\u003ch2 tabindex=\\\\\\\\\\\"-1\\\\\\\\\\\" class=\\\\\\\\\\\"heading-element\\\\\\\\\\\" dir=\\\\\\\\\\\"auto\\\\\\\\\\\"\\\\\\\\u003eDeploy to Azure Container Apps\\\\\\\\u003c/h2\\\\\\\\u003e\\\\\\\\u003ca id=\\\\\\\\\\\"user-content-deploy-to-azure-container-apps\\\\\\\\\\\" class=\\\\\\\\\\\"anchor\\\\\\\\\\\" aria-label=\\\\\\\\\\\"Permalink: Deploy to Azure Container Apps\\\\\\\\\\\" href=\\\\\\\\\\\"#deploy-to-azure-container-apps\\\\\\\\\\\"\\\\\\\\u003e\\\\\\\\u003csvg class=\\\\\\\\\\\"octicon octicon-link\\\\\\\\\\\" viewBox=\\\\\\\\\\\"0 0 16 16\\\\\\\\\\\" version=\\\\\\\\\\\"1.1\\\\\\\\\\\" width=\\\\\\\\\\\"16\\\\\\\\\\\" height=\\\\\\\\\\\"16\\\\\\\\\\\" aria-hidden=\\\\\\\\\\\"true\\\\\\\\\\\"\\\\\\\\u003e\\\\\\\\u003cpath d=\\\\\\\\\\\"m7.775 3.275 1.25-1.25a3.5 3.5 0 1 1 4.95 4.95l-2.5 2.5a3.5 3.5 0 0 1-4.95 0 .751.751 0 0 1 .018-1.042.751.751 0 0 1 1.042-.018 1.998 1.998 0 0 0 2.83 0l2.5-2.5a2.002 2.002 0 0 0-2.83-2.83l-1.25 1.25a.751.751 0 0 1-1.042-.018.751.751 0 0 1-.018-1.042Zm-4.69 9.64a1.998 1.998 0 0 0 2.83 0l1.25-1.25a.751.751 0 0 1 1.042.018.751.751 0 0 1 .018 1.042l-1.25 1.25a3.5 3.5 0 1 1-4.95-4.95l2.5-2.5a3.5 3.5 0 0 1 4.95 0 .751.751 0 0 1-.018 1.042.751.751 0 0 1-1.042.018 1.998 1.998 0 0 0-2.83 0l-2.5 2.5a1.998 1.998 0 0 0 0 2.83Z\\\\\\\\\\\"\\\\\\\\u003e\\\\\\\\u003c/path\\\\\\\\u003e\\\\\\\\u003c/svg\\\\\\\\u003e\\\\\\\\u003c/a\\\\\\\\u003e\\\\\\\\u003c/div\\\\\\\\u003e\\\\\\\\n\\\\\\\\u003cp dir=\\\\\\\\\\\"auto\\\\\\\\\\\"\\\\\\\\u003eRun the following commands\\\\\\\\u003c/p\\\\\\\\u003e\\\\\\\\n\\\\\\\\u003cdiv class=\\\\\\\\\\\"snippet-clipboard-content notranslate position-relative overflow-auto\\\\\\\\\\\" data-snippet-clipboard-copy-content=\\\\\\\\\\\"az containerapp up \\\\\\\\\\\\\\\\\\\\\\\\n --resource-group \\\\\\\\u0026lt;RESOURCE\\\\_GROUP\\\\_NAME\\\\\\\\u0026gt; \\\\\\\\\\\\\\\\\\\\\\\\n --name streamable-weather-mcp \\\\\\\\\\\\\\\\\\\\\\\\n --environment mcp \\\\\\\\\\\\\\\\\\\\\\\\n --location \\\\\\\\u0026lt;REGION\\\\\\\\u0026gt; \\\\\\\\\\\\\\\\\\\\\\\\n --source .\\\\\\\\\\\"\\\\\\\\u003e\\\\\\\\u003cpre class=\\\\\\\\\\\"notranslate\\\\\\\\\\\"\\\\\\\\u003e\\\\\\\\u003ccode\\\\\\\\u003eaz containerapp up \\\\\\\\\\\\\\\\\\\\\\\\n --resource-group \\\\\\\\u0026lt;RESOURCE\\\\_GROUP\\\\_NAME\\\\\\\\u0026gt; \\\\\\\\\\\\\\\\\\\\\\\\n --name streamable-weather-mcp \\\\\\\\\\\\\\\\\\\\\\\\n --environment mcp \\\\\\\\\\\\\\\\\\\\\\\\n --location \\\\\\\\u0026lt;REGION\\\\\\\\u0026gt; \\\\\\\\\\\\\\\\\\\\\\\\n --source .\\\\\\\\n\\\\\\\\u003c/code\\\\\\\\u003e\\\\\\\\u003c/pre\\\\\\\\u003e\\\\\\\\u003c/div\\\\\\\\u003e\\\\\\\\n\\\\\\\\u003c/article\\\\\\\\u003e\\\",\\\"renderedFileInfo\\\":null,\\\"shortPath\\\":null,\\\"symbolsEnabled\\\":true,\\\"tabSize\\\":8,\\\"topBannersInfo\\\":{\\\"overridingGlobalFundingFile\\\":false,\\\"globalPreferredFundingPath\\\":null,\\\"showInvalidCitationWarning\\\":false,\\\"citationHelpUrl\\\":\\\"https://docs.github.com/github/creating-cloning-and-archiving-repositories/creating-a-repository-on-github/about-citation-files\\\",\\\"actionsOnboardingTip\\\":null},\\\"truncated\\\":false,\\\"viewable\\\":true,\\\"workflowRedirectUrl\\\":null,\\\"symbols\\\":{\\\"timed\\\\_out\\\":false,\\\"not\\\\_analyzed\\\":false,\\\"symbols\\\":\\\\[{\\\"name\\\":\\\"Streamable HTTP MCP Server\\\",\\\"kind\\\":\\\"section\\\\_1\\\",\\\"ident\\\\_start\\\":2,\\\"ident\\\\_end\\\":28,\\\"extent\\\\_start\\\":0,\\\"extent\\\\_end\\\":694,\\\"fully\\\\_qualified\\\\_name\\\":\\\"Streamable HTTP MCP Server\\\",\\\"ident\\\\_utf16\\\":{\\\"start\\\":{\\\"line\\\\_number\\\":0,\\\"utf16\\\\_col\\\":2},\\\"end\\\":{\\\"line\\\\_number\\\":0,\\\"utf16\\\\_col\\\":28}},\\\"extent\\\\_utf16\\\":{\\\"start\\\":{\\\"line\\\\_number\\\":0,\\\"utf16\\\\_col\\\":0},\\\"end\\\":{\\\"line\\\\_number\\\":35,\\\"utf16\\\\_col\\\":0}}},{\\\"name\\\":\\\"Running the MCP Server locally\\\",\\\"kind\\\":\\\"section\\\\_2\\\",\\\"ident\\\\_start\\\":33,\\\"ident\\\\_end\\\":63,\\\"extent\\\\_start\\\":30,\\\"extent\\\\_end\\\":179,\\\"fully\\\\_qualified\\\\_name\\\":\\\"Running the MCP Server locally\\\",\\\"ident\\\\_utf16\\\":{\\\"start\\\":{\\\"line\\\\_number\\\":2,\\\"utf16\\\\_col\\\":3},\\\"end\\\":{\\\"line\\\\_number\\\":2,\\\"utf16\\\\_col\\\":33}},\\\"extent\\\\_utf16\\\":{\\\"start\\\":{\\\"line\\\\_number\\\":2,\\\"utf16\\\\_col\\\":0},\\\"end\\\":{\\\"line\\\\_number\\\":11,\\\"utf16\\\\_col\\\":0}}},{\\\"name\\\":\\\"Run MCP Inspector to test and debug MCP Server\\\",\\\"kind\\\":\\\"section\\\\_2\\\",\\\"ident\\\\_start\\\":182,\\\"ident\\\\_end\\\":228,\\\"extent\\\\_start\\\":179,\\\"extent\\\\_end\\\":452,\\\"fully\\\\_qualified\\\\_name\\\":\\\"Run MCP Inspector to test and debug MCP Server\\\",\\\"ident\\\\_utf16\\\":{\\\"start\\\":{\\\"line\\\\_number\\\":11,\\\"utf16\\\\_col\\\":3},\\\"end\\\":{\\\"line\\\\_number\\\":11,\\\"utf16\\\\_col\\\":49}},\\\"extent\\\\_utf16\\\":{\\\"start\\\":{\\\"line\\\\_number\\\":11,\\\"utf16\\\\_col\\\":0},\\\"end\\\":{\\\"line\\\\_number\\\":22,\\\"utf16\\\\_col\\\":0}}},{\\\"name\\\":\\\"Deploy to Azure Container Apps\\\",\\\"kind\\\":\\\"section\\\\_2\\\",\\\"ident\\\\_start\\\":455,\\\"ident\\\\_end\\\":485,\\\"extent\\\\_start\\\":452,\\\"extent\\\\_end\\\":694,\\\"fully\\\\_qualified\\\\_name\\\":\\\"Deploy to Azure Container Apps\\\",\\\"ident\\\\_utf16\\\":{\\\"start\\\":{\\\"line\\\\_number\\\":22,\\\"utf16\\\\_col\\\":3},\\\"end\\\":{\\\"line\\\\_number\\\":22,\\\"utf16\\\\_col\\\":33}},\\\"extent\\\\_utf16\\\":{\\\"start\\\":{\\\"line\\\\_number\\\":22,\\\"utf16\\\\_col\\\":0},\\\"end\\\":{\\\"line\\\\_number\\\":35,\\\"utf16\\\\_col\\\":0}}}\\\\]}},\\\"copilotInfo\\\":null,\\\"copilotAccessAllowed\\\":false,\\\"modelsAccessAllowed\\\":false,\\\"modelsRepoIntegrationEnabled\\\":false,\\\"isMarketplaceEnabled\\\":true,\\\"csrf\\\\_tokens\\\":{\\\"/Azure-Samples/ai-foundry-agents-samples/branches\\\":{\\\"post\\\":\\\"o3Q-8DyysPGWurw06S4Lyfl8Y\\\\_lQT9K6zbKV2UtlXbxo0xgV0x-RgwMAYG4\\\\_qarVE7d3ftzrMm1ezRYxJzHVKA\\\"},\\\"/repos/preferences\\\":{\\\"post\\\":\\\"Go3zg4khg0jFolbhoy6dTOGfVggE-E7pPJaXzfK04asE23khKgIysl-XR\\\\_S-MIuyWzBzowYGIjAmrW-5XU1fzw\\\"}}},\\\"title\\\":\\\"ai-foundry-agents-samples/examples/mcp/streamable-http/mcp-server/README.md at main \\u00b7 Azure-Samples/ai-foundry-agents-samples\\\",\\\"appPayload\\\":{\\\"helpUrl\\\":\\\"https://docs.github.com\\\",\\\"findFileWorkerPath\\\":\\\"/assets-cdn/worker/find-file-worker-263cab1760dd.js\\\",\\\"findInFileWorkerPath\\\":\\\"/assets-cdn/worker/find-in-file-worker-98e6e9db3609.js\\\",\\\"githubDevUrl\\\":null,\\\"enabled\\\\_features\\\":{\\\"code\\\\_nav\\\\_ui\\\\_events\\\":false,\\\"react\\\\_blob\\\\_overlay\\\":false,\\\"accessible\\\\_code\\\\_button\\\":true}}}</script> <div data-target=\\\"react-app.reactRoot\\\"></div></turbo-frame>\\n## Footer\\n\\n&copy; 2025 GitHub, Inc.\\n### Footer navigation\\n\\n* [Terms](https://docs.github.com/site-policy/github-terms/github-terms-of-service)\\n* [Privacy](https://docs.github.com/site-policy/privacy-policies/github-privacy-statement)\\n* [Security](https://github.com/security)\\n* [Status](https://www.githubstatus.com/)\\n* [Docs](https://docs.github.com/)\\n* [Contact](https://support.github.com?tags=dotcom-footer)\\n* <cookie-consent-link><button>Manage cookies</button></cookie-consent-link>\\n* <cookie-consent-link><button>Do not share my personal information</button></cookie-consent-link> \\n\\nYou can\\u2019t perform that action at this time.\"\n",
      "}\n",
      "🔄 Run step: step_54PsqbDZRRQIrIGS7YIq59vg, status: RunStepStatus.COMPLETED, type: RunStepType.TOOL_CALLS\n",
      "🛠️ Tool call details:\n",
      "{\n",
      "     \"id\": \"call_WNFhVkgAuuguHY2hg7V0mnE8\",\n",
      "     \"type\": \"mcp\",\n",
      "     \"arguments\": \"{}\",\n",
      "     \"name\": \"fetch_ai_foundry_docs\",\n",
      "     \"server_label\": \"github\",\n",
      "     \"output\": \"# Azure AI Foundry Agents Samples\\n\\nWelcome to the **Azure AI Foundry Agents Samples** repository! This collection showcases sample implementations, templates, and demos for building intelligent agents using **Azure AI Foundry**. Whether you're just getting started or looking to deepen your skills, these examples will help you harness the power of AI in your applications.\\n\\n## \\ud83d\\udd0d What is Azure AI Foundry?\\n\\nAzure AI Foundry is a trusted, integrated platform for Developers and IT Administrators to design, customize, and manage AI applications and agents.\\n\\nFor more details, please refer to [Azure AI Foundry documentation](https://learn.microsoft.com/en-us/azure/ai-foundry/what-is-azure-ai-foundry).\\n\\n## \\ud83d\\udee0\\ufe0f Requirements\\n\\n- An active Azure subscription\\n- Access to Azure AI Foundry\\n- Python 3.10+\\n- NPM and Node.js to run the MCP Server\\n- VS Code with Azure extensions recommended\\n\\n## \\ud83d\\ude80 Getting Started\\n\\n1. Clone the repo:\\n```\\ngit clone https://github.com/Azure-Samples/ai-foundry-agents-samples.git\\n```\\n\\n2. Navigate to the folder of interest:\\n```\\ncd examples/<examples-name>\\n```\\n\\n3. Follow the instructions in the `README.md` file within each sample directory to run the example.\\n\\n## \\ud83d\\udcc4 License\\n\\nThis project is licensed under the MIT License. See `LICENSE.txt` for more information.\\n\\n## \\ud83d\\ude4c Contributing\\n\\nHave a cool agent or MCP integration to share?  \\nPull requests are welcome! Please open an issue first to discuss what you would like to add.\\n\"\n",
      "}\n",
      "🔄 Run step: step_rloMC9oBeGNEeJ0JVs1x8f3p, status: RunStepStatus.COMPLETED, type: RunStepType.TOOL_CALLS\n",
      "🛠️ Tool call details:\n",
      "{\n",
      "     \"id\": \"call_ueTMuwzDFCEhT7wSI5dkEGec\",\n",
      "     \"type\": \"mcp\",\n",
      "     \"arguments\": \"{\\\"url\\\":\\\"https://github.com/Azure-Samples/ai-foundry-agents-samples/blob/f567768c79735eabc067c01243a2797e4cdd5115/examples/mcp/streamable-http/mcp-server/main.py\\\"}\",\n",
      "     \"name\": \"fetch_generic_url_content\",\n",
      "     \"server_label\": \"github\",\n",
      "     \"output\": \"[Skip to content](#start-of-content)     <link /> <link />     ## Navigation Menu\\n<button>Toggle navigation</button>\\n\\n[Sign in](/login?return_to=https%3A%2F%2Fgithub.com%2FAzure-Samples%2Fai-foundry-agents-samples%2Fblob%2Ff567768c79735eabc067c01243a2797e4cdd5115%2Fexamples%2Fmcp%2Fstreamable-http%2Fmcp-server%2Fmain.py) \\n<react-partial-anchor><tool-tip>Appearance settings</tool-tip> <template><link /> <link /></template></react-partial-anchor>\\n\\n* <button>Product</button>\\n\\n  * [GitHub Copilot\\nWrite better code with AI](https://github.com/features/copilot)\\n  * [GitHub Models New\\nManage and compare prompts](https://github.com/features/models)\\n  * [GitHub Advanced Security\\nFind and fix vulnerabilities](https://github.com/security/advanced-security)\\n  * [Actions\\nAutomate any workflow](https://github.com/features/actions)\\n  * [Codespaces\\nInstant dev environments](https://github.com/features/codespaces)\\n\\n  * [Issues\\nPlan and track work](https://github.com/features/issues)\\n  * [Code Review\\nManage code changes](https://github.com/features/code-review)\\n  * [Discussions\\nCollaborate outside of code](https://github.com/features/discussions)\\n  * [Code Search\\nFind more, search less](https://github.com/features/code-search)\\n\\nExplore\\n\\n  * [Why GitHub](https://github.com/why-github)\\n  * [All features](https://github.com/features)\\n  * [Documentation](https://docs.github.com)\\n  * [GitHub Skills](https://skills.github.com)\\n  * [Blog](https://github.blog)\\n* <button>Solutions</button>\\n\\nBy company size\\n\\n  * [Enterprises](https://github.com/enterprise)\\n  * [Small and medium teams](https://github.com/team)\\n  * [Startups](https://github.com/enterprise/startups)\\n  * [Nonprofits](/solutions/industry/nonprofits)\\n\\nBy use case\\n\\n  * [DevSecOps](/solutions/use-case/devsecops)\\n  * [DevOps](/solutions/use-case/devops)\\n  * [CI/CD](/solutions/use-case/ci-cd)\\n  * [View all use cases](/solutions/use-case)\\n\\nBy industry\\n\\n  * [Healthcare](/solutions/industry/healthcare)\\n  * [Financial services](/solutions/industry/financial-services)\\n  * [Manufacturing](/solutions/industry/manufacturing)\\n  * [Government](/solutions/industry/government)\\n  * [View all industries](/solutions/industry)\\n\\n[View all solutions](/solutions)\\n* <button>Resources</button>\\n\\nTopics\\n\\n  * [AI](/resources/articles/ai)\\n  * [DevOps](/resources/articles/devops)\\n  * [Security](/resources/articles/security)\\n  * [Software Development](/resources/articles/software-development)\\n  * [View all](/resources/articles)\\n\\nExplore\\n\\n  * [Learning Pathways](https://resources.github.com/learn/pathways)\\n  * [Events & Webinars](https://resources.github.com)\\n  * [Ebooks & Whitepapers](https://github.com/resources/whitepapers)\\n  * [Customer Stories](https://github.com/customer-stories)\\n  * [Partners](https://partner.github.com)\\n  * [Executive Insights](https://github.com/solutions/executive-insights)\\n* <button>Open Source</button>\\n\\n  * [GitHub Sponsors\\nFund open source developers](/sponsors)\\n\\n  * [The ReadME Project\\nGitHub community articles](https://github.com/readme)\\n\\nRepositories\\n\\n  * [Topics](https://github.com/topics)\\n  * [Trending](https://github.com/trending)\\n  * [Collections](https://github.com/collections)\\n* <button>Enterprise</button>\\n\\n  * [Enterprise platform\\nAI-powered developer platform](/enterprise)\\n\\nAvailable add-ons\\n\\n  * [GitHub Advanced Security\\nEnterprise-grade security features](https://github.com/security/advanced-security)\\n  * [Copilot for business\\nEnterprise-grade AI features](/features/copilot/copilot-business)\\n  * [Premium Support\\nEnterprise-grade 24/7 support](/premium-support)\\n* [Pricing](https://github.com/pricing)\\n\\n<qbsearch-input><button>Search or jump to...</button> \\n\\n<modal-dialog># Search code, repositories, users, issues, pull requests...\\n\\n[Search syntax tips](https://docs.github.com/search-github/github-code-search/understanding-github-code-search-syntax)</modal-dialog>\\n\\n<dialog-helper><dialog># Provide feedback\\n\\n\\n<button>Cancel</button> <button>Submit feedback</button></dialog></dialog-helper> <custom-scopes><dialog-helper><dialog># Saved searches\\n\\n## Use saved searches to filter your results more quickly\\n\\n\\n<button>Cancel</button> <button>Create saved search</button></dialog></dialog-helper></custom-scopes></qbsearch-input>\\n\\n[Sign in](/login?return_to=https%3A%2F%2Fgithub.com%2FAzure-Samples%2Fai-foundry-agents-samples%2Fblob%2Ff567768c79735eabc067c01243a2797e4cdd5115%2Fexamples%2Fmcp%2Fstreamable-http%2Fmcp-server%2Fmain.py)\\n[Sign up](/signup?ref_cta=Sign+up&ref_loc=header+logged+out&ref_page=%2F%3Cuser-name%3E%2F%3Crepo-name%3E%2Fblob%2Fshow&source=header-repo&source_repo=Azure-Samples%2Fai-foundry-agents-samples) \\n<react-partial-anchor><tool-tip>Appearance settings</tool-tip> <template><link /> <link /></template></react-partial-anchor>\\n<button>Resetting focus</button>\\n\\nYou signed in with another tab or window. [Reload]() to refresh your session. You signed out in another tab or window. [Reload]() to refresh your session. You switched accounts on another tab or window. [Reload]() to refresh your session. <tool-tip>Dismiss alert</tool-tip>\\n\\n<template>{{ message }}</template>\\n\\n[Azure-Samples](/Azure-Samples) / **[ai-foundry-agents-samples](/Azure-Samples/ai-foundry-agents-samples)** Public\\n\\n* [Notifications](/login?return_to=%2FAzure-Samples%2Fai-foundry-agents-samples)<tool-tip>You must be signed in to change notification settings</tool-tip>\\n* [Fork 8](/login?return_to=%2FAzure-Samples%2Fai-foundry-agents-samples)\\n* [Star 15](/login?return_to=%2FAzure-Samples%2Fai-foundry-agents-samples)\\n* [Code](/Azure-Samples/ai-foundry-agents-samples)\\n* [Issues 2](/Azure-Samples/ai-foundry-agents-samples/issues)\\n* [Pull requests 0](/Azure-Samples/ai-foundry-agents-samples/pulls)\\n* [Actions](/Azure-Samples/ai-foundry-agents-samples/actions)\\n* [Projects 0](/Azure-Samples/ai-foundry-agents-samples/projects)\\n* [Security<include-fragment>### Uh oh!\\n\\nThere was an error while loading. [Please reload this page]().</include-fragment>](/Azure-Samples/ai-foundry-agents-samples/security)\\n* [Insights](/Azure-Samples/ai-foundry-agents-samples/pulse)\\n\\n<action-menu><focus-group><tool-tip>Additional navigation options</tool-tip> <anchored-position><action-list>* [Code](/Azure-Samples/ai-foundry-agents-samples)\\n* [Issues](/Azure-Samples/ai-foundry-agents-samples/issues)\\n* [Pull requests](/Azure-Samples/ai-foundry-agents-samples/pulls)\\n* [Actions](/Azure-Samples/ai-foundry-agents-samples/actions)\\n* [Projects](/Azure-Samples/ai-foundry-agents-samples/projects)\\n* [Security](/Azure-Samples/ai-foundry-agents-samples/security)\\n* [Insights](/Azure-Samples/ai-foundry-agents-samples/pulse)</action-list></anchored-position></focus-group></action-menu>\\n<turbo-frame><div id=\\\"repo-content-pjax-container\\\" class=\\\"repository-content \\\" > <react-app app-name=\\\"react-code-view\\\" initial-path=\\\"/Azure-Samples/ai-foundry-agents-samples/blob/f567768c79735eabc067c01243a2797e4cdd5115/examples/mcp/streamable-http/mcp-server/main.py\\\" style=\\\"display: block; min-height: calc(100vh - 64px);\\\" data-attempted-ssr=\\\"false\\\" data-ssr=\\\"false\\\" data-lazy=\\\"false\\\" data-alternate=\\\"false\\\" data-data-router-enabled=\\\"false\\\" data-react-profiling=\\\"false\\\" > <script type=\\\"application/json\\\" data-target=\\\"react-app.embeddedData\\\">{\\\"payload\\\":{\\\"allShortcutsEnabled\\\":false,\\\"fileTree\\\":{\\\"examples/mcp/streamable-http/mcp-server\\\":{\\\"items\\\":\\\\[{\\\"name\\\":\\\".python-version\\\",\\\"path\\\":\\\"examples/mcp/streamable-http/mcp-server/.python-version\\\",\\\"contentType\\\":\\\"file\\\"},{\\\"name\\\":\\\"Dockerfile\\\",\\\"path\\\":\\\"examples/mcp/streamable-http/mcp-server/Dockerfile\\\",\\\"contentType\\\":\\\"file\\\"},{\\\"name\\\":\\\"README.md\\\",\\\"path\\\":\\\"examples/mcp/streamable-http/mcp-server/README.md\\\",\\\"contentType\\\":\\\"file\\\"},{\\\"name\\\":\\\"main.py\\\",\\\"path\\\":\\\"examples/mcp/streamable-http/mcp-server/main.py\\\",\\\"contentType\\\":\\\"file\\\"},{\\\"name\\\":\\\"pyproject.toml\\\",\\\"path\\\":\\\"examples/mcp/streamable-http/mcp-server/pyproject.toml\\\",\\\"contentType\\\":\\\"file\\\"},{\\\"name\\\":\\\"uv.lock\\\",\\\"path\\\":\\\"examples/mcp/streamable-http/mcp-server/uv.lock\\\",\\\"contentType\\\":\\\"file\\\"},{\\\"name\\\":\\\"weather.py\\\",\\\"path\\\":\\\"examples/mcp/streamable-http/mcp-server/weather.py\\\",\\\"contentType\\\":\\\"file\\\"}\\\\],\\\"totalCount\\\":7},\\\"examples/mcp/streamable-http\\\":{\\\"items\\\":\\\\[{\\\"name\\\":\\\"ai-foundry-agent\\\",\\\"path\\\":\\\"examples/mcp/streamable-http/ai-foundry-agent\\\",\\\"contentType\\\":\\\"directory\\\"},{\\\"name\\\":\\\"mcp-client\\\",\\\"path\\\":\\\"examples/mcp/streamable-http/mcp-client\\\",\\\"contentType\\\":\\\"directory\\\"},{\\\"name\\\":\\\"mcp-server\\\",\\\"path\\\":\\\"examples/mcp/streamable-http/mcp-server\\\",\\\"contentType\\\":\\\"directory\\\"},{\\\"name\\\":\\\"README.md\\\",\\\"path\\\":\\\"examples/mcp/streamable-http/README.md\\\",\\\"contentType\\\":\\\"file\\\"}\\\\],\\\"totalCount\\\":4},\\\"examples/mcp\\\":{\\\"items\\\":\\\\[{\\\"name\\\":\\\"filesystem\\\\_example\\\",\\\"path\\\":\\\"examples/mcp/filesystem\\\\_example\\\",\\\"contentType\\\":\\\"directory\\\"},{\\\"name\\\":\\\"streamable-http\\\",\\\"path\\\":\\\"examples/mcp/streamable-http\\\",\\\"contentType\\\":\\\"directory\\\"}\\\\],\\\"totalCount\\\":2},\\\"examples\\\":{\\\"items\\\":\\\\[{\\\"name\\\":\\\"mcp\\\",\\\"path\\\":\\\"examples/mcp\\\",\\\"contentType\\\":\\\"directory\\\"}\\\\],\\\"totalCount\\\":1},\\\"\\\":{\\\"items\\\":\\\\[{\\\"name\\\":\\\".github\\\",\\\"path\\\":\\\".github\\\",\\\"contentType\\\":\\\"directory\\\"},{\\\"name\\\":\\\"examples\\\",\\\"path\\\":\\\"examples\\\",\\\"contentType\\\":\\\"directory\\\"},{\\\"name\\\":\\\".gitignore\\\",\\\"path\\\":\\\".gitignore\\\",\\\"contentType\\\":\\\"file\\\"},{\\\"name\\\":\\\"CHANGELOG.md\\\",\\\"path\\\":\\\"CHANGELOG.md\\\",\\\"contentType\\\":\\\"file\\\"},{\\\"name\\\":\\\"CONTRIBUTING.md\\\",\\\"path\\\":\\\"CONTRIBUTING.md\\\",\\\"contentType\\\":\\\"file\\\"},{\\\"name\\\":\\\"LICENSE.md\\\",\\\"path\\\":\\\"LICENSE.md\\\",\\\"contentType\\\":\\\"file\\\"},{\\\"name\\\":\\\"README.md\\\",\\\"path\\\":\\\"README.md\\\",\\\"contentType\\\":\\\"file\\\"}\\\\],\\\"totalCount\\\":7}},\\\"fileTreeProcessingTime\\\":10.855418,\\\"foldersToFetch\\\":\\\\[\\\\],\\\"incompleteFileTree\\\":false,\\\"repo\\\":{\\\"id\\\":969602866,\\\"defaultBranch\\\":\\\"main\\\",\\\"name\\\":\\\"ai-foundry-agents-samples\\\",\\\"ownerLogin\\\":\\\"Azure-Samples\\\",\\\"currentUserCanPush\\\":false,\\\"isFork\\\":false,\\\"isEmpty\\\":false,\\\"createdAt\\\":\\\"2025-04-20T14:26:25.000Z\\\",\\\"ownerAvatar\\\":\\\"https://avatars.githubusercontent.com/u/1844662?v=4\\\",\\\"public\\\":true,\\\"private\\\":false,\\\"isOrgOwned\\\":true},\\\"codeLineWrapEnabled\\\":false,\\\"symbolsExpanded\\\":false,\\\"treeExpanded\\\":true,\\\"refInfo\\\":{\\\"name\\\":\\\"f567768c79735eabc067c01243a2797e4cdd5115\\\",\\\"listCacheKey\\\":\\\"v0:1745159186.0\\\",\\\"canEdit\\\":false,\\\"refType\\\":\\\"tree\\\",\\\"currentOid\\\":\\\"f567768c79735eabc067c01243a2797e4cdd5115\\\"},\\\"path\\\":\\\"examples/mcp/streamable-http/mcp-server/main.py\\\",\\\"currentUser\\\":null,\\\"blob\\\":{\\\"rawLines\\\":\\\\[\\\"def main():\\\",\\\" print(\\\\\\\\\\\"Hello from mcp-server!\\\\\\\\\\\")\\\",\\\"\\\",\\\"\\\",\\\"if \\\\_\\\\_name\\\\_\\\\_ == \\\\\\\\\\\"\\\\_\\\\_main\\\\_\\\\_\\\\\\\\\\\":\\\",\\\" main()\\\"\\\\],\\\"stylingDirectives\\\":\\\\[\\\\[\\\\[0,3,\\\"pl-k\\\"\\\\],\\\\[4,8,\\\"pl-en\\\"\\\\]\\\\],\\\\[\\\\[4,9,\\\"pl-en\\\"\\\\],\\\\[10,34,\\\"pl-s\\\"\\\\]\\\\],\\\\[\\\\],\\\\[\\\\],\\\\[\\\\[0,2,\\\"pl-k\\\"\\\\],\\\\[3,11,\\\"pl-s1\\\"\\\\],\\\\[12,14,\\\"pl-c1\\\"\\\\],\\\\[15,25,\\\"pl-s\\\"\\\\]\\\\],\\\\[\\\\[4,8,\\\"pl-en\\\"\\\\]\\\\]\\\\],\\\"colorizedLines\\\":null,\\\"csv\\\":null,\\\"csvError\\\":null,\\\"dependabotInfo\\\":{\\\"showConfigurationBanner\\\":false,\\\"configFilePath\\\":null,\\\"networkDependabotPath\\\":\\\"/Azure-Samples/ai-foundry-agents-samples/network/updates\\\",\\\"dismissConfigurationNoticePath\\\":\\\"/settings/dismiss-notice/dependabot\\\\_configuration\\\\_notice\\\",\\\"configurationNoticeDismissed\\\":null},\\\"displayName\\\":\\\"main.py\\\",\\\"displayUrl\\\":\\\"https://github.com/Azure-Samples/ai-foundry-agents-samples/blob/f567768c79735eabc067c01243a2797e4cdd5115/examples/mcp/streamable-http/mcp-server/main.py?raw=true\\\",\\\"headerInfo\\\":{\\\"blobSize\\\":\\\"88 Bytes\\\",\\\"deleteTooltip\\\":\\\"You must be signed in to make or propose changes\\\",\\\"editTooltip\\\":\\\"You must be signed in to make or propose changes\\\",\\\"ghDesktopPath\\\":null,\\\"isGitLfs\\\":false,\\\"onBranch\\\":false,\\\"shortPath\\\":\\\"3543ba8\\\",\\\"siteNavLoginPath\\\":\\\"/login?return\\\\_to=https%3A%2F%2Fgithub.com%2FAzure-Samples%2Fai-foundry-agents-samples%2Fblob%2Ff567768c79735eabc067c01243a2797e4cdd5115%2Fexamples%2Fmcp%2Fstreamable-http%2Fmcp-server%2Fmain.py\\\",\\\"isCSV\\\":false,\\\"isRichtext\\\":false,\\\"toc\\\":null,\\\"lineInfo\\\":{\\\"truncatedLoc\\\":\\\"6\\\",\\\"truncatedSloc\\\":\\\"4\\\"},\\\"mode\\\":\\\"file\\\"},\\\"image\\\":false,\\\"isCodeownersFile\\\":null,\\\"isPlain\\\":false,\\\"isValidLegacyIssueTemplate\\\":false,\\\"issueTemplate\\\":null,\\\"discussionTemplate\\\":null,\\\"language\\\":\\\"Python\\\",\\\"languageID\\\":303,\\\"large\\\":false,\\\"planSupportInfo\\\":{\\\"repoIsFork\\\":null,\\\"repoOwnedByCurrentUser\\\":null,\\\"requestFullPath\\\":\\\"/Azure-Samples/ai-foundry-agents-samples/blob/f567768c79735eabc067c01243a2797e4cdd5115/examples/mcp/streamable-http/mcp-server/main.py\\\",\\\"showFreeOrgGatedFeatureMessage\\\":null,\\\"showPlanSupportBanner\\\":null,\\\"upgradeDataAttributes\\\":null,\\\"upgradePath\\\":null},\\\"publishBannersInfo\\\":{\\\"dismissActionNoticePath\\\":\\\"/settings/dismiss-notice/publish\\\\_action\\\\_from\\\\_dockerfile\\\",\\\"releasePath\\\":\\\"/Azure-Samples/ai-foundry-agents-samples/releases/new?marketplace=true\\\",\\\"showPublishActionBanner\\\":false},\\\"rawBlobUrl\\\":\\\"https://github.com/Azure-Samples/ai-foundry-agents-samples/raw/f567768c79735eabc067c01243a2797e4cdd5115/examples/mcp/streamable-http/mcp-server/main.py\\\",\\\"renderImageOrRaw\\\":false,\\\"richText\\\":null,\\\"renderedFileInfo\\\":null,\\\"shortPath\\\":null,\\\"symbolsEnabled\\\":true,\\\"tabSize\\\":8,\\\"topBannersInfo\\\":{\\\"overridingGlobalFundingFile\\\":false,\\\"globalPreferredFundingPath\\\":null,\\\"showInvalidCitationWarning\\\":false,\\\"citationHelpUrl\\\":\\\"https://docs.github.com/github/creating-cloning-and-archiving-repositories/creating-a-repository-on-github/about-citation-files\\\",\\\"actionsOnboardingTip\\\":null},\\\"truncated\\\":false,\\\"viewable\\\":true,\\\"workflowRedirectUrl\\\":null,\\\"symbols\\\":{\\\"timed\\\\_out\\\":false,\\\"not\\\\_analyzed\\\":false,\\\"symbols\\\":\\\\[{\\\"name\\\":\\\"main\\\",\\\"kind\\\":\\\"function\\\",\\\"ident\\\\_start\\\":4,\\\"ident\\\\_end\\\":8,\\\"extent\\\\_start\\\":0,\\\"extent\\\\_end\\\":47,\\\"fully\\\\_qualified\\\\_name\\\":\\\"main\\\",\\\"ident\\\\_utf16\\\":{\\\"start\\\":{\\\"line\\\\_number\\\":0,\\\"utf16\\\\_col\\\":4},\\\"end\\\":{\\\"line\\\\_number\\\":0,\\\"utf16\\\\_col\\\":8}},\\\"extent\\\\_utf16\\\":{\\\"start\\\":{\\\"line\\\\_number\\\":0,\\\"utf16\\\\_col\\\":0},\\\"end\\\":{\\\"line\\\\_number\\\":1,\\\"utf16\\\\_col\\\":35}}}\\\\]}},\\\"copilotInfo\\\":null,\\\"copilotAccessAllowed\\\":false,\\\"modelsAccessAllowed\\\":false,\\\"modelsRepoIntegrationEnabled\\\":false,\\\"isMarketplaceEnabled\\\":true,\\\"csrf\\\\_tokens\\\":{\\\"/Azure-Samples/ai-foundry-agents-samples/branches\\\":{\\\"post\\\":\\\"TF6nC8IDgjhd07Pa8fnTe8gtTvDLVW3joeBGTgrFAb6kAUG8rnpb2v1bK011WdDBbPLaNSjENabG8uzwhMq9yw\\\"},\\\"/repos/preferences\\\":{\\\"post\\\":\\\"bcPYvcrxNucd3IbJDtgMqm\\\\_5CCzubPS\\\\_yGWRlaqC45gsyrCSANe9cMFKXi6zyPq-2ws\\\\_6LNXHMtkOqSqpjccUg\\\"}}},\\\"title\\\":\\\"ai-foundry-agents-samples/examples/mcp/streamable-http/mcp-server/main.py at f567768c79735eabc067c01243a2797e4cdd5115 \\u00b7 Azure-Samples/ai-foundry-agents-samples\\\",\\\"appPayload\\\":{\\\"helpUrl\\\":\\\"https://docs.github.com\\\",\\\"findFileWorkerPath\\\":\\\"/assets-cdn/worker/find-file-worker-263cab1760dd.js\\\",\\\"findInFileWorkerPath\\\":\\\"/assets-cdn/worker/find-in-file-worker-98e6e9db3609.js\\\",\\\"githubDevUrl\\\":null,\\\"enabled\\\\_features\\\":{\\\"code\\\\_nav\\\\_ui\\\\_events\\\":false,\\\"react\\\\_blob\\\\_overlay\\\":false,\\\"accessible\\\\_code\\\\_button\\\":true}}}</script> <div data-target=\\\"react-app.reactRoot\\\"></div></turbo-frame>\\n## Footer\\n\\n&copy; 2025 GitHub, Inc.\\n### Footer navigation\\n\\n* [Terms](https://docs.github.com/site-policy/github-terms/github-terms-of-service)\\n* [Privacy](https://docs.github.com/site-policy/privacy-policies/github-privacy-statement)\\n* [Security](https://github.com/security)\\n* [Status](https://www.githubstatus.com/)\\n* [Docs](https://docs.github.com/)\\n* [Contact](https://support.github.com?tags=dotcom-footer)\\n* <cookie-consent-link><button>Manage cookies</button></cookie-consent-link>\\n* <cookie-consent-link><button>Do not share my personal information</button></cookie-consent-link> \\n\\nYou can\\u2019t perform that action at this time.\"\n",
      "}\n",
      "🔄 Run step: step_e31g8XTpaQU6GMiFQMsVXTv9, status: RunStepStatus.COMPLETED, type: RunStepType.TOOL_CALLS\n",
      "🛠️ Tool call details:\n",
      "{\n",
      "     \"id\": \"call_EKeGPY5Yw4mRV3edq7U25Oko\",\n",
      "     \"type\": \"mcp\",\n",
      "     \"arguments\": \"{\\\"query\\\":\\\"mcp server\\\",\\\"page\\\":1}\",\n",
      "     \"name\": \"search_ai_code\",\n",
      "     \"server_label\": \"github\",\n",
      "     \"output\": \"### Code Search Results for: \\\"mcp server\\\"\\n\\nFound 13 matches in Azure-Samples/ai-foundry-agents-samples.\\nPage 1 of 1.\\n\\n#### README.md\\n- **Path**: examples/mcp/streamable-http/mcp-server/README.md\\n- **URL**: https://github.com/Azure-Samples/ai-foundry-agents-samples/blob/f567768c79735eabc067c01243a2797e4cdd5115/examples/mcp/streamable-http/mcp-server/README.md\\n- **Git URL**: https://api.github.com/repositories/969602866/git/blobs/4e31c420930c9d6a12417430d6f93f43f54860ab\\n- **Score**: 1\\n\\n#### weather.py\\n- **Path**: examples/mcp/streamable-http/mcp-server/weather.py\\n- **URL**: https://github.com/Azure-Samples/ai-foundry-agents-samples/blob/f567768c79735eabc067c01243a2797e4cdd5115/examples/mcp/streamable-http/mcp-server/weather.py\\n- **Git URL**: https://api.github.com/repositories/969602866/git/blobs/f2a02e4e4b6b72cbb744adbc7e947a2cf0981c69\\n- **Score**: 1\\n\\n#### sample_agents_mcp.py\\n- **Path**: examples/mcp/streamable-http/ai-foundry-agent/sample_agents_mcp.py\\n- **URL**: https://github.com/Azure-Samples/ai-foundry-agents-samples/blob/f567768c79735eabc067c01243a2797e4cdd5115/examples/mcp/streamable-http/ai-foundry-agent/sample_agents_mcp.py\\n- **Git URL**: https://api.github.com/repositories/969602866/git/blobs/67f14aa354547681c3d90236b2629a8f2d489cf9\\n- **Score**: 1\\n\\n#### mcp_as_streamable_plugin.py\\n- **Path**: examples/mcp/streamable-http/mcp-client/mcp_as_streamable_plugin.py\\n- **URL**: https://github.com/Azure-Samples/ai-foundry-agents-samples/blob/f567768c79735eabc067c01243a2797e4cdd5115/examples/mcp/streamable-http/mcp-client/mcp_as_streamable_plugin.py\\n- **Git URL**: https://api.github.com/repositories/969602866/git/blobs/b5dacb4ddd41b7b436b9fa693c97f02110ba8d69\\n- **Score**: 1\\n\\n#### uv.lock\\n- **Path**: examples/mcp/streamable-http/mcp-server/uv.lock\\n- **URL**: https://github.com/Azure-Samples/ai-foundry-agents-samples/blob/f567768c79735eabc067c01243a2797e4cdd5115/examples/mcp/streamable-http/mcp-server/uv.lock\\n- **Git URL**: https://api.github.com/repositories/969602866/git/blobs/e9812391f6fd5786b0bb63cb022b48eba0b77643\\n- **Score**: 1\\n\\n#### main.py\\n- **Path**: examples/mcp/streamable-http/mcp-server/main.py\\n- **URL**: https://github.com/Azure-Samples/ai-foundry-agents-samples/blob/f567768c79735eabc067c01243a2797e4cdd5115/examples/mcp/streamable-http/mcp-server/main.py\\n- **Git URL**: https://api.github.com/repositories/969602866/git/blobs/3543ba8418a395f31febdb37604a825e4ec81f17\\n- **Score**: 1\\n\\n#### pyproject.toml\\n- **Path**: examples/mcp/streamable-http/mcp-server/pyproject.toml\\n- **URL**: https://github.com/Azure-Samples/ai-foundry-agents-samples/blob/f567768c79735eabc067c01243a2797e4cdd5115/examples/mcp/streamable-http/mcp-server/pyproject.toml\\n- **Git URL**: https://api.github.com/repositories/969602866/git/blobs/1229647fd7af89fc2f9bb6f58c2ad33322d92c7a\\n- **Score**: 1\\n\\n#### main_azure_ai_foundry.py\\n- **Path**: examples/mcp/filesystem_example/main_azure_ai_foundry.py\\n- **URL**: https://github.com/Azure-Samples/ai-foundry-agents-samples/blob/f567768c79735eabc067c01243a2797e4cdd5115/examples/mcp/filesystem_example/main_azure_ai_foundry.py\\n- **Git URL**: https://api.github.com/repositories/969602866/git/blobs/230f99095f8a4ff970eac41c750a3ced4427fcd0\\n- **Score**: 1\\n\\n#### README.md\\n- **Path**: examples/mcp/streamable-http/README.md\\n- **URL**: https://github.com/Azure-Samples/ai-foundry-agents-samples/blob/f567768c79735eabc067c01243a2797e4cdd5115/examples/mcp/streamable-http/README.md\\n- **Git URL**: https://api.github.com/repositories/969602866/git/blobs/efb8b03d1e80dfec205123525a9c4a6e3847e647\\n- **Score**: 1\\n\\n#### .env_sample\\n- **Path**: examples/mcp/streamable-http/mcp-client/.env_sample\\n- **URL**: https://github.com/Azure-Samples/ai-foundry-agents-samples/blob/f567768c79735eabc067c01243a2797e4cdd5115/examples/mcp/streamable-http/mcp-client/.env_sample\\n- **Git URL**: https://api.github.com/repositories/969602866/git/blobs/e9f9874c4c49fc996b5cea3adb2d2cadebd9e976\\n- **Score**: 1\\n\\n#### README.md\\n- **Path**: README.md\\n- **URL**: https://github.com/Azure-Samples/ai-foundry-agents-samples/blob/f567768c79735eabc067c01243a2797e4cdd5115/README.md\\n- **Git URL**: https://api.github.com/repositories/969602866/git/blobs/8385eea00723b76fda504265b011e4259b90e002\\n- **Score**: 1\\n\\n#### .env_sample\\n- **Path**: examples/mcp/streamable-http/ai-foundry-agent/.env_sample\\n- **URL**: https://github.com/Azure-Samples/ai-foundry-agents-samples/blob/f567768c79735eabc067c01243a2797e4cdd5115/examples/mcp/streamable-http/ai-foundry-agent/.env_sample\\n- **Git URL**: https://api.github.com/repositories/969602866/git/blobs/9c72d15be14c4340c2c185b14e9ff8045c27548f\\n- **Score**: 1\\n\\n#### README.md\\n- **Path**: examples/mcp/filesystem_example/README.md\\n- **URL**: https://github.com/Azure-Samples/ai-foundry-agents-samples/blob/f567768c79735eabc067c01243a2797e4cdd5115/examples/mcp/filesystem_example/README.md\\n- **Git URL**: https://api.github.com/repositories/969602866/git/blobs/411af882292f5a86c3e86dca8cd2680cf9dcc7f0\\n- **Score**: 1\\n\\n\"\n",
      "}\n"
     ]
    }
   ],
   "source": [
    "project_client = AIProjectClient(endpoint=PROJECT_ENDPOINT,\n",
    "                                 credential=DefaultAzureCredential())\n",
    "\n",
    "# MCP tool definition\n",
    "mcp_tool = McpTool(\n",
    "    server_label=\"github\",\n",
    "    server_url=mcp_server_url\n",
    "    #allowed_tools=[],          # Optional initial allow‑list\n",
    ")\n",
    "\n",
    "# Agent creation\n",
    "agent = agents_client.create_agent(\n",
    "    model=model,\n",
    "    name=\"agent-mcp\",\n",
    "    instructions=\"You are an AI agent. Use the tools provided to answer the user's questions. Be sure to cite your sources and answer in details.\",\n",
    "    tools=mcp_tool.definitions\n",
    ")\n",
    "print(f\"🎉 Created agent, agent ID: {agent.id}\")\n",
    "print(f\"✨ MCP Server: {mcp_tool.server_label} at {mcp_tool.server_url}\")\n",
    "\n",
    "# Thread creation\n",
    "thread = agents_client.threads.create()\n",
    "print(f\"🧵 Created thread, thread ID: {thread.id}\")\n",
    "\n",
    "# Message creation\n",
    "message = agents_client.messages.create(\n",
    "    thread_id=thread.id,\n",
    "    role=\"user\",\n",
    "    content=prompt,\n",
    ")\n",
    "print(f\"💬 Created message, message ID: {message.id}\")\n",
    "\n",
    "mcp_tool.set_approval_mode(\"never\")          # Disable human approval\n",
    "\n",
    "# Run\n",
    "run = agents_client.runs.create(thread_id=thread.id, agent_id=agent.id, tool_resources=mcp_tool.resources)\n",
    "while run.status in [\"queued\", \"in_progress\", \"requires_action\"]:\n",
    "    time.sleep(2)\n",
    "    run = agents_client.runs.get(thread_id=thread.id, run_id=run.id)\n",
    "    print(f\"⏳ Run status: {run.status}\")\n",
    "if run.status == \"failed\":\n",
    "    print(f\"❌ Run error: {run.last_error}\")\n",
    "\n",
    "# Run steps\n",
    "run_steps = agents_client.run_steps.list(thread_id=thread.id, run_id=run.id)\n",
    "print()\n",
    "\n",
    "for step in run_steps:\n",
    "    print(f\"🔄 Run step: {step.id}, status: {step.status}, type: {step.type}\")\n",
    "    if step.type == \"tool_calls\":\n",
    "        print(f\"🛠️ Tool call details:\")\n",
    "        for tool_call in step.step_details.tool_calls:\n",
    "            print(json.dumps(tool_call.as_dict(), indent=5))\n"
   ]
  },
  {
   "cell_type": "code",
   "execution_count": 11,
   "id": "93a99bc0-fc2b-4a7f-80c7-dbd4c97db8ee",
   "metadata": {},
   "outputs": [
    {
     "name": "stdout",
     "output_type": "stream",
     "text": [
      "MessageRole.USER: Any python code for a mcp server with Azure AI Agent?\n",
      "MessageRole.AGENT: Yes, there are working Python examples for an MCP (Model Context Protocol) server that integrates with an Azure AI Agent in the [Azure-Samples/ai-foundry-agents-samples](https://github.com/Azure-Samples/ai-foundry-agents-samples) repository.\n",
      "\n",
      "### Example: Streamable HTTP MCP Server (Weather Agent)\n",
      "\n",
      "**Code location:**  \n",
      "`examples/mcp/streamable-http/mcp-server/weather.py` ([view on GitHub](https://github.com/Azure-Samples/ai-foundry-agents-samples/blob/main/examples/mcp/streamable-http/mcp-server/weather.py))\n",
      "\n",
      "This file implements an MCP server using [FastMCP](https://pypi.org/project/mcp/) and provides weather querying tools as MCP agent tools.\n",
      "\n",
      "#### Main parts of the `weather.py` MCP Server\n",
      "\n",
      "```python\n",
      "from typing import Any\n",
      "import httpx\n",
      "from mcp.server.fastmcp import FastMCP\n",
      "\n",
      "# Initialize FastMCP server\n",
      "mcp = FastMCP(\"weather\", port=8001, host=\"0.0.0.0\", stateless_http=True)\n",
      "\n",
      "# Tool implementation using @mcp.tool\n",
      "@mcp.tool()\n",
      "async def get_alerts(state: str) -> str:\n",
      "    \"\"\"\n",
      "    Get weather alerts for a US state.\n",
      "    Args:\n",
      "        state: Two-letter US state code (e.g. CA, NY)\n",
      "    \"\"\"\n",
      "    url = f\"https://api.weather.gov/alerts/active/area/{state}\"\n",
      "    # ... call and format results\n",
      "\n",
      "@mcp.tool()\n",
      "async def get_forecast(latitude: float, longitude: float) -> str:\n",
      "    \"\"\"\n",
      "    Get weather forecast for a location.\n",
      "    \"\"\"\n",
      "    # ... call weather API and format results\n",
      "\n",
      "if __name__ == \"__main__\":\n",
      "    # Initialize and run the server\n",
      "    mcp.run(transport=\"streamable-http\")\n",
      "```\n",
      "This code registers agent tools using the `@mcp.tool()` decorator and exposes them via the MCP protocol for downstream agent orchestration.\n",
      "\n",
      "### How to Run This Example Locally\n",
      "\n",
      "According to [the README](https://github.com/Azure-Samples/ai-foundry-agents-samples/blob/main/examples/mcp/streamable-http/mcp-server/README.md):\n",
      "\n",
      "```sh\n",
      "cd examples/mcp/streamable-http/mcp-server\n",
      "uv venv\n",
      "uv sync\n",
      "uv run weather.py\n",
      "```\n",
      "\n",
      "- This will start the server at `http://localhost:8001/mcp`.\n",
      "\n",
      "### Additional Info\n",
      "\n",
      "- You may use [MCP Inspector](https://www.npmjs.com/package/@modelcontextprotocol/inspector) to test and debug:  \n",
      "  ```sh\n",
      "  npx @modelcontextprotocol/inspector\n",
      "  ```\n",
      "  Then connect to `http://localhost:8001/mcp`.\n",
      "\n",
      "- You can deploy the same solution to Azure Container Apps as described in the repo.\n",
      "\n",
      "---\n",
      "\n",
      "**References:**\n",
      "- [weather.py example MCP server](https://github.com/Azure-Samples/ai-foundry-agents-samples/blob/main/examples/mcp/streamable-http/mcp-server/weather.py)\n",
      "- [README for MCP server](https://github.com/Azure-Samples/ai-foundry-agents-samples/blob/main/examples/mcp/streamable-http/mcp-server/README.md)\n",
      "- [Azure AI Foundry documentation](https://learn.microsoft.com/en-us/azure/ai-foundry/what-is-azure-ai-foundry)\n",
      "  \n",
      "Let me know if you want a more detailed code walkthrough!\n"
     ]
    }
   ],
   "source": [
    "messages = agents_client.messages.list(thread_id=thread.id,\n",
    "                                               order=ListSortOrder.ASCENDING)\n",
    "\n",
    "for item in messages:\n",
    "    last_message_content = item.content[-1]\n",
    "    if isinstance(last_message_content, MessageTextContent):\n",
    "        print(f\"{item.role}: {last_message_content.text.value}\")"
   ]
  },
  {
   "cell_type": "markdown",
   "id": "82d9a99e-1359-4f84-a6af-711cd166b40c",
   "metadata": {},
   "source": [
    "## Another example"
   ]
  },
  {
   "cell_type": "code",
   "execution_count": 12,
   "id": "eddddb52-3486-41fd-b98d-ad5fb61b2afd",
   "metadata": {},
   "outputs": [
    {
     "data": {
      "text/plain": [
       "'https://gitmcp.io/openai/openai-python'"
      ]
     },
     "execution_count": 12,
     "metadata": {},
     "output_type": "execute_result"
    }
   ],
   "source": [
    "# With this prefix 'https://gitmcp.io/' you can instantly create a remote RCP server from any GitHub repo\n",
    "github_url = \"https://github.com/openai/openai-python\"\n",
    "\n",
    "get_substr = re.search(r'\\.com/(.*)', github_url)\n",
    "substr = get_substr.group(1)\n",
    "mcp_server_url = f\"https://gitmcp.io/{substr}\"\n",
    "\n",
    "mcp_server_url"
   ]
  },
  {
   "cell_type": "code",
   "execution_count": 13,
   "id": "21621f8e-1ec3-45e0-8a99-7942f3891e0c",
   "metadata": {},
   "outputs": [],
   "source": [
    "prompt = \"Show me some python code to use whisper\""
   ]
  },
  {
   "cell_type": "code",
   "execution_count": 14,
   "id": "fa8648c8-4821-47ae-8155-a157636cad94",
   "metadata": {},
   "outputs": [
    {
     "name": "stdout",
     "output_type": "stream",
     "text": [
      "🎉 Created agent, agent ID: asst_T3ZyQoulo1muwcRwE5KVp4xT\n",
      "✨ MCP Server: github at https://gitmcp.io/Azure-Samples/ai-foundry-agents-samples\n",
      "🧵 Created thread, thread ID: thread_ItCjtzvfu3mVkvPXDUanxHRX\n",
      "💬 Created message, message ID: msg_lagFQkV60EsgxFCBoVTSvSjf\n",
      "⏳ Run status: RunStatus.IN_PROGRESS\n",
      "⏳ Run status: RunStatus.IN_PROGRESS\n",
      "⏳ Run status: RunStatus.IN_PROGRESS\n",
      "⏳ Run status: RunStatus.IN_PROGRESS\n",
      "⏳ Run status: RunStatus.IN_PROGRESS\n",
      "⏳ Run status: RunStatus.IN_PROGRESS\n",
      "⏳ Run status: RunStatus.IN_PROGRESS\n",
      "⏳ Run status: RunStatus.IN_PROGRESS\n",
      "⏳ Run status: RunStatus.COMPLETED\n",
      "\n",
      "🔄 Run step: step_0wkDolp9rwqZZvI1fJXxNhI6, status: RunStepStatus.COMPLETED, type: RunStepType.MESSAGE_CREATION\n"
     ]
    }
   ],
   "source": [
    "# Agent creation\n",
    "agent = agents_client.create_agent(\n",
    "    model=model,\n",
    "    name=\"agent-mcp\",\n",
    "    instructions=\"You are an AI agent. Use the tools provided to answer the user's questions. Be sure to cite your sources and answer in details.\",\n",
    "    tools=mcp_tool.definitions\n",
    ")\n",
    "print(f\"🎉 Created agent, agent ID: {agent.id}\")\n",
    "print(f\"✨ MCP Server: {mcp_tool.server_label} at {mcp_tool.server_url}\")\n",
    "\n",
    "# Thread creation\n",
    "thread = agents_client.threads.create()\n",
    "print(f\"🧵 Created thread, thread ID: {thread.id}\")\n",
    "\n",
    "# Message creation\n",
    "message = agents_client.messages.create(\n",
    "    thread_id=thread.id,\n",
    "    role=\"user\",\n",
    "    content=prompt,\n",
    ")\n",
    "print(f\"💬 Created message, message ID: {message.id}\")\n",
    "\n",
    "mcp_tool.set_approval_mode(\"never\")          # Disable human approval\n",
    "\n",
    "# Run\n",
    "run = agents_client.runs.create(thread_id=thread.id, agent_id=agent.id, tool_resources=mcp_tool.resources)\n",
    "while run.status in [\"queued\", \"in_progress\", \"requires_action\"]:\n",
    "    time.sleep(2)\n",
    "    run = agents_client.runs.get(thread_id=thread.id, run_id=run.id)\n",
    "    print(f\"⏳ Run status: {run.status}\")\n",
    "if run.status == \"failed\":\n",
    "    print(f\"❌ Run error: {run.last_error}\")\n",
    "\n",
    "# Run steps\n",
    "run_steps = agents_client.run_steps.list(thread_id=thread.id, run_id=run.id)\n",
    "print()\n",
    "\n",
    "for step in run_steps:\n",
    "    print(f\"🔄 Run step: {step.id}, status: {step.status}, type: {step.type}\")\n",
    "    if step.type == \"tool_calls\":\n",
    "        print(f\"🛠️ Tool call details:\")\n",
    "        for tool_call in step.step_details.tool_calls:\n",
    "            print(json.dumps(tool_call.as_dict(), indent=5))\n"
   ]
  },
  {
   "cell_type": "code",
   "execution_count": 15,
   "id": "51e7e89c-67ff-4e28-8ec5-cfd09e1557b6",
   "metadata": {},
   "outputs": [
    {
     "name": "stdout",
     "output_type": "stream",
     "text": [
      "MessageRole.USER: Show me some python code to use whisper\n",
      "MessageRole.AGENT: Sure! Here’s a basic Python example to use OpenAI’s Whisper model for speech-to-text transcription. This uses the official [openai/whisper](https://github.com/openai/whisper) Python library, which you can install via pip.\n",
      "\n",
      "### Step 1: Install Whisper\n",
      "\n",
      "First, install the package:\n",
      "\n",
      "```bash\n",
      "pip install -U openai-whisper\n",
      "```\n",
      "\n",
      "Make sure you also have ffmpeg installed, since Whisper uses it for audio processing:\n",
      "\n",
      "```bash\n",
      "# For Ubuntu/Debian\n",
      "sudo apt-get install ffmpeg\n",
      "\n",
      "# For MacOS (with Homebrew)\n",
      "brew install ffmpeg\n",
      "```\n",
      "\n",
      "### Step 2: Basic Usage Example\n",
      "\n",
      "Save the following script as, for example, `transcribe.py`:\n",
      "\n",
      "```python\n",
      "import whisper\n",
      "\n",
      "# Load the pre-trained Whisper model (base, tiny, small, medium, large)\n",
      "model = whisper.load_model(\"base\")\n",
      "\n",
      "# Transcribe an audio file\n",
      "result = model.transcribe(\"your-audio-file.mp3\")\n",
      "\n",
      "print(\"Transcribed text:\")\n",
      "print(result[\"text\"])\n",
      "```\n",
      "\n",
      "Replace `\"your-audio-file.mp3\"` with the path to your audio file.\n",
      "\n",
      "### Notes\n",
      "\n",
      "- Supported audio formats: mp3, wav, m4a, ogg, and many others (anything ffmpeg can handle).\n",
      "- Models: `\"tiny\"`, `\"base\"`, `\"small\"`, `\"medium\"`, and `\"large\"` (larger models are slower but more accurate).\n",
      "\n",
      "### Extra: Language Selection\n",
      "\n",
      "Whisper usually auto-detects language, but you can specify one:\n",
      "\n",
      "```python\n",
      "result = model.transcribe(\"your-audio-file.mp3\", language=\"en\")\n",
      "```\n",
      "\n",
      "---\n",
      "\n",
      "Let me know if you want code for batch processing, different input types, or more advanced options!\n"
     ]
    }
   ],
   "source": [
    "messages = agents_client.messages.list(thread_id=thread.id,\n",
    "                                               order=ListSortOrder.ASCENDING)\n",
    "\n",
    "for item in messages:\n",
    "    last_message_content = item.content[-1]\n",
    "    if isinstance(last_message_content, MessageTextContent):\n",
    "        print(f\"{item.role}: {last_message_content.text.value}\")"
   ]
  },
  {
   "cell_type": "markdown",
   "id": "0d0dcad1-34b1-4d84-95e5-a2c0e82c4a90",
   "metadata": {},
   "source": [
    "## 3. Webapp"
   ]
  },
  {
   "cell_type": "code",
   "execution_count": 16,
   "id": "e82e1612-2beb-47ee-8262-e1b56d231c57",
   "metadata": {},
   "outputs": [],
   "source": [
    "def agent_mcp_fn(github_url, prompt):\n",
    "    \"\"\"\n",
    "    Creates an AI agent to interact with a specified GitHub repository and processes a given prompt.\n",
    "\n",
    "    Args:\n",
    "        github_url (str): The URL of the GitHub repository.\n",
    "        prompt (str): The prompt to be processed by the agent.\n",
    "\n",
    "    Returns:\n",
    "        tuple: A tuple containing:\n",
    "            - str: The concatenated responses from the agent.\n",
    "            - str: The URLs extracted from the agent's responses.\n",
    "\n",
    "    Raises:\n",
    "        ValueError: If the GitHub URL format is invalid.\n",
    "        RuntimeError: If the agent's run fails.\n",
    "        Exception: For any other errors that occur during execution.\n",
    "    \"\"\"\n",
    "    try:\n",
    "        get_substr = re.search(r'\\.com/(.*)', github_url)\n",
    "\n",
    "        if get_substr:\n",
    "            substr = get_substr.group(1)\n",
    "        else:\n",
    "            raise ValueError(\"Invalid URL format.\")\n",
    "        \n",
    "        mcp_server_url = f\"https://gitmcp.io/{substr}\"\n",
    "\n",
    "        # Agent creation\n",
    "        agent = agents_client.create_agent(\n",
    "            model=model,\n",
    "            name=\"agent-mcp\",\n",
    "            instructions=\"You are an AI agent. Use the tools provided to answer the user's questions. Be sure to cite your sources and answer in details.\",\n",
    "            tools=mcp_tool.definitions\n",
    "        )\n",
    "        print(f\"🎉 Created agent, agent ID: {agent.id}\")\n",
    "        print(f\"✨ MCP Server: {mcp_tool.server_label} at {mcp_tool.server_url}\")\n",
    "\n",
    "        # Thread creation\n",
    "        thread = agents_client.threads.create()\n",
    "        print(f\"🧵 Created thread, thread ID: {thread.id}\")\n",
    "\n",
    "        # Message creation\n",
    "        message = agents_client.messages.create(\n",
    "            thread_id=thread.id,\n",
    "            role=\"user\",\n",
    "            content=prompt,\n",
    "        )\n",
    "        print(f\"💬 Created message, message ID: {message.id}\")\n",
    "\n",
    "        mcp_tool.set_approval_mode(\"never\")  # Disable human approval\n",
    "\n",
    "        # Run\n",
    "        run = agents_client.runs.create(thread_id=thread.id, agent_id=agent.id, tool_resources=mcp_tool.resources)\n",
    "        while run.status in [\"queued\", \"in_progress\", \"requires_action\"]:\n",
    "            time.sleep(2)\n",
    "            run = agents_client.runs.get(thread_id=thread.id, run_id=run.id)\n",
    "            print(f\"⏳ Run status: {run.status}\")\n",
    "        if run.status == \"failed\":\n",
    "            raise RuntimeError(f\"❌ Run error: {run.last_error}\")\n",
    "\n",
    "        # Run steps\n",
    "        run_steps = agents_client.run_steps.list(thread_id=thread.id, run_id=run.id)\n",
    "        \n",
    "        for step in run_steps:\n",
    "            print(f\"🔄 Run step: {step.id}, status: {step.status}, type: {step.type}\")\n",
    "            if step.type == \"tool_calls\":\n",
    "                print(f\"🛠️ Tool call details:\")\n",
    "                for tool_call in step.step_details.tool_calls:\n",
    "                    print(json.dumps(tool_call.as_dict(), indent=5))\n",
    "\n",
    "        messages = agents_client.messages.list(thread_id=thread.id, order=ListSortOrder.ASCENDING)\n",
    "\n",
    "        answers = []\n",
    "        for item in messages:\n",
    "            last_message_content = item.content[-1]\n",
    "            if isinstance(last_message_content, MessageTextContent):\n",
    "                answers.append(f\"{item.role}: {last_message_content.text.value}\")\n",
    "        \n",
    "        url_template = r'(https?://[^\\s]+|www\\.[^\\s]+)'\n",
    "        urls = re.findall(url_template, \"\\n\".join(answers))\n",
    "        url_links = ' '.join(urls).replace(')', '').replace(' ', '\\n')\n",
    "\n",
    "        return \"\\n\".join(answers), url_links\n",
    "        \n",
    "    except Exception as e:\n",
    "        return f\"An error occurred: {str(e)}\"\n"
   ]
  },
  {
   "cell_type": "code",
   "execution_count": 17,
   "id": "89902714-f199-4cd8-8fc5-edf708e6e828",
   "metadata": {},
   "outputs": [
    {
     "name": "stdout",
     "output_type": "stream",
     "text": [
      "* Running on local URL:  http://127.0.0.1:7860\n",
      "\n",
      "Could not create share link. Please check your internet connection or our status page: https://status.gradio.app.\n"
     ]
    },
    {
     "data": {
      "text/html": [
       "<div><iframe src=\"http://127.0.0.1:7860/\" width=\"100%\" height=\"500\" allow=\"autoplay; camera; microphone; clipboard-read; clipboard-write;\" frameborder=\"0\" allowfullscreen></iframe></div>"
      ],
      "text/plain": [
       "<IPython.core.display.HTML object>"
      ]
     },
     "metadata": {},
     "output_type": "display_data"
    },
    {
     "data": {
      "text/plain": []
     },
     "execution_count": 17,
     "metadata": {},
     "output_type": "execute_result"
    },
    {
     "name": "stdout",
     "output_type": "stream",
     "text": [
      "🎉 Created agent, agent ID: asst_PTiz61qxSQXpphxdOYJSnR6Y\n",
      "✨ MCP Server: github at https://gitmcp.io/Azure-Samples/ai-foundry-agents-samples\n",
      "🧵 Created thread, thread ID: thread_wEtZanI86shs5XwU6B0TNimo\n",
      "💬 Created message, message ID: msg_vghPyhrUOmvg78mVysEdahXY\n",
      "⏳ Run status: RunStatus.IN_PROGRESS\n",
      "⏳ Run status: RunStatus.IN_PROGRESS\n",
      "⏳ Run status: RunStatus.IN_PROGRESS\n",
      "⏳ Run status: RunStatus.IN_PROGRESS\n",
      "⏳ Run status: RunStatus.IN_PROGRESS\n",
      "⏳ Run status: RunStatus.IN_PROGRESS\n",
      "⏳ Run status: RunStatus.IN_PROGRESS\n",
      "⏳ Run status: RunStatus.IN_PROGRESS\n",
      "⏳ Run status: RunStatus.COMPLETED\n",
      "🔄 Run step: step_2cpREXqO2f8IyIB3x90sPWzK, status: RunStepStatus.COMPLETED, type: RunStepType.MESSAGE_CREATION\n",
      "🔄 Run step: step_4Li8qJaLhNjTgp3EMdFBN177, status: RunStepStatus.COMPLETED, type: RunStepType.TOOL_CALLS\n",
      "🛠️ Tool call details:\n",
      "{\n",
      "     \"id\": \"call_884S2maLr3zb0e3dIXJoYm6a\",\n",
      "     \"type\": \"mcp\",\n",
      "     \"arguments\": \"{}\",\n",
      "     \"name\": \"fetch_ai_foundry_docs\",\n",
      "     \"server_label\": \"github\",\n",
      "     \"output\": \"# Azure AI Foundry Agents Samples\\n\\nWelcome to the **Azure AI Foundry Agents Samples** repository! This collection showcases sample implementations, templates, and demos for building intelligent agents using **Azure AI Foundry**. Whether you're just getting started or looking to deepen your skills, these examples will help you harness the power of AI in your applications.\\n\\n## \\ud83d\\udd0d What is Azure AI Foundry?\\n\\nAzure AI Foundry is a trusted, integrated platform for Developers and IT Administrators to design, customize, and manage AI applications and agents.\\n\\nFor more details, please refer to [Azure AI Foundry documentation](https://learn.microsoft.com/en-us/azure/ai-foundry/what-is-azure-ai-foundry).\\n\\n## \\ud83d\\udee0\\ufe0f Requirements\\n\\n- An active Azure subscription\\n- Access to Azure AI Foundry\\n- Python 3.10+\\n- NPM and Node.js to run the MCP Server\\n- VS Code with Azure extensions recommended\\n\\n## \\ud83d\\ude80 Getting Started\\n\\n1. Clone the repo:\\n```\\ngit clone https://github.com/Azure-Samples/ai-foundry-agents-samples.git\\n```\\n\\n2. Navigate to the folder of interest:\\n```\\ncd examples/<examples-name>\\n```\\n\\n3. Follow the instructions in the `README.md` file within each sample directory to run the example.\\n\\n## \\ud83d\\udcc4 License\\n\\nThis project is licensed under the MIT License. See `LICENSE.txt` for more information.\\n\\n## \\ud83d\\ude4c Contributing\\n\\nHave a cool agent or MCP integration to share?  \\nPull requests are welcome! Please open an issue first to discuss what you would like to add.\\n\"\n",
      "}\n"
     ]
    }
   ],
   "source": [
    "def build_webapp():\n",
    "    with gr.Blocks(title=\"Azure AI Foundry Agent\") as demo:\n",
    "        gr.Markdown(\"# 🤖 Azure AI Foundry Agent\")\n",
    "        gr.Markdown(\"## Enter a GitHub repository URL and your prompt to interact with the MCP server using Azure AI agent.\")\n",
    "\n",
    "        with gr.Row():\n",
    "            github_url = gr.Textbox(label=\"🔗 GitHub Repository URL\", placeholder=\"e.g. https://github.com/org/repo\")\n",
    "            prompt = gr.Textbox(label=\"📝 Prompt\", placeholder=\"What does this GitHub repo do?\", lines=2)\n",
    "\n",
    "        with gr.Row():\n",
    "            results_output = gr.Textbox(label=\"📄 Agent response\", lines=25, interactive=False)\n",
    "            links_output = gr.Textbox(label=\"🔍 Links\", lines=5, interactive=False)\n",
    "\n",
    "        run_button = gr.Button(\"🚀 Run Agent\")\n",
    "        run_button.click(fn=agent_mcp_fn, inputs=[github_url, prompt], outputs=[results_output, links_output])\n",
    "\n",
    "    return demo\n",
    "\n",
    "\n",
    "webapp = build_webapp()\n",
    "webapp.launch(share=True)\n"
   ]
  },
  {
   "cell_type": "code",
   "execution_count": null,
   "id": "5df32956-dc16-4aea-af56-6cb71096039f",
   "metadata": {},
   "outputs": [],
   "source": []
  }
 ],
 "metadata": {
  "kernelspec": {
   "display_name": "Python 3",
   "language": "python",
   "name": "python3"
  },
  "language_info": {
   "codemirror_mode": {
    "name": "ipython",
    "version": 3
   },
   "file_extension": ".py",
   "mimetype": "text/x-python",
   "name": "python",
   "nbconvert_exporter": "python",
   "pygments_lexer": "ipython3",
   "version": "3.13.5"
  },
  "varInspector": {
   "cols": {
    "lenName": 16,
    "lenType": 16,
    "lenVar": 40
   },
   "kernels_config": {
    "python": {
     "delete_cmd_postfix": "",
     "delete_cmd_prefix": "del ",
     "library": "var_list.py",
     "varRefreshCmd": "print(var_dic_list())"
    },
    "r": {
     "delete_cmd_postfix": ") ",
     "delete_cmd_prefix": "rm(",
     "library": "var_list.r",
     "varRefreshCmd": "cat(var_dic_list()) "
    }
   },
   "types_to_exclude": [
    "module",
    "function",
    "builtin_function_or_method",
    "instance",
    "_Feature"
   ],
   "window_display": false
  }
 },
 "nbformat": 4,
 "nbformat_minor": 5
}
