{
 "cells": [
  {
   "cell_type": "markdown",
   "id": "431cc026-279f-4105-8444-f1b93650da0d",
   "metadata": {},
   "source": [
    "# Azure AI Agent service - Function calling\n",
    "\n",
    "<img src=\"agent.jpg\" width=800>\n",
    "<img src=\"foundry.png\" width=800>\n",
    "\n",
    "> https://learn.microsoft.com/en-us/azure/ai-services/agents/"
   ]
  },
  {
   "cell_type": "code",
   "execution_count": 1,
   "id": "d75f0533-95e2-44fe-b8ed-d525b4c25b77",
   "metadata": {},
   "outputs": [],
   "source": [
    "#%pip install azure-ai-projects"
   ]
  },
  {
   "cell_type": "code",
   "execution_count": 2,
   "id": "7a3e72d0-7521-438c-928d-5fa293b0f419",
   "metadata": {},
   "outputs": [],
   "source": [
    "import json\n",
    "import os\n",
    "import requests\n",
    "import sys\n",
    "import time\n",
    "import yfinance as yf\n",
    "\n",
    "from azure.ai.projects import AIProjectClient\n",
    "from azure.identity import DefaultAzureCredential\n",
    "from azure.ai.projects.models import FunctionTool, ToolSet, CodeInterpreterTool\n",
    "from datetime import datetime, timezone, timedelta\n",
    "from dotenv import load_dotenv\n",
    "from openai import AzureOpenAI\n",
    "from typing import Any, Callable, Set, Dict, List, Optional\n",
    "\n",
    "from user_functions import user_functions, azuremaps_weather"
   ]
  },
  {
   "cell_type": "code",
   "execution_count": 3,
   "id": "65334de7-4005-401a-89c1-be24f75abbd9",
   "metadata": {},
   "outputs": [
    {
     "data": {
      "text/plain": [
       "True"
      ]
     },
     "execution_count": 3,
     "metadata": {},
     "output_type": "execute_result"
    }
   ],
   "source": [
    "load_dotenv(\"azure.env\")"
   ]
  },
  {
   "cell_type": "code",
   "execution_count": 4,
   "id": "8628712a-0d10-4351-8993-b4c3243f83be",
   "metadata": {},
   "outputs": [
    {
     "data": {
      "text/plain": [
       "'3.10.14 (main, May  6 2024, 19:42:50) [GCC 11.2.0]'"
      ]
     },
     "execution_count": 4,
     "metadata": {},
     "output_type": "execute_result"
    }
   ],
   "source": [
    "sys.version"
   ]
  },
  {
   "cell_type": "markdown",
   "id": "54fa0903-f907-4c7f-a51b-4893d15ff371",
   "metadata": {},
   "source": [
    "## 1. Agent definition - Weather forecasts"
   ]
  },
  {
   "cell_type": "markdown",
   "id": "3ac0a60b-b688-4970-ba23-781f2196b75c",
   "metadata": {},
   "source": [
    "### Project client"
   ]
  },
  {
   "cell_type": "code",
   "execution_count": 5,
   "id": "44bdcf24-d563-43a1-9669-06f4cc79bc05",
   "metadata": {},
   "outputs": [],
   "source": [
    "# Create an Azure AI Client from a connection string, copied from your Azure AI Foundry project.\n",
    "# It should be in the format \"<HostName>;<AzureSubscriptionId>;<ResourceGroup>;<HubName>\"\n",
    "# Customers need to login to Azure subscription via Azure CLI and set the environment variables"
   ]
  },
  {
   "cell_type": "code",
   "execution_count": 6,
   "id": "76c7bbb7-0faa-4500-ba42-7c5b176f6196",
   "metadata": {},
   "outputs": [],
   "source": [
    "project_client = AIProjectClient.from_connection_string(\n",
    "    credential=DefaultAzureCredential(),\n",
    "    conn_str=os.getenv(\"PROJECT_CONNECTION_STRING\"),\n",
    ")"
   ]
  },
  {
   "cell_type": "markdown",
   "id": "6bb91b19-444f-4f46-88fa-a76106434ef3",
   "metadata": {},
   "source": [
    "### Testing the Azure Maps Weather function"
   ]
  },
  {
   "cell_type": "markdown",
   "id": "e2934437-5b6f-424c-9fef-95647758d3ec",
   "metadata": {},
   "source": [
    "We will the Azure Maps service to provide weather information."
   ]
  },
  {
   "cell_type": "code",
   "execution_count": 7,
   "id": "ab94cb4c-311f-429b-8d3d-1c49a73880b7",
   "metadata": {},
   "outputs": [
    {
     "data": {
      "text/plain": [
       "{'weather_data': {'results': [{'dateTime': '2025-04-30T01:32:00-07:00',\n",
       "    'phrase': 'Cloudy',\n",
       "    'iconCode': 7,\n",
       "    'hasPrecipitation': False,\n",
       "    'isDayTime': False,\n",
       "    'temperature': {'value': 9.3, 'unit': 'C', 'unitType': 17},\n",
       "    'realFeelTemperature': {'value': 9.5, 'unit': 'C', 'unitType': 17},\n",
       "    'realFeelTemperatureShade': {'value': 9.5, 'unit': 'C', 'unitType': 17},\n",
       "    'relativeHumidity': 82,\n",
       "    'dewPoint': {'value': 6.4, 'unit': 'C', 'unitType': 17},\n",
       "    'wind': {'direction': {'degrees': 135.0, 'localizedDescription': 'SE'},\n",
       "     'speed': {'value': 1.8, 'unit': 'km/h', 'unitType': 7}},\n",
       "    'windGust': {'speed': {'value': 5.6, 'unit': 'km/h', 'unitType': 7}},\n",
       "    'uvIndex': 0,\n",
       "    'uvIndexPhrase': 'Low',\n",
       "    'visibility': {'value': 9.7, 'unit': 'km', 'unitType': 6},\n",
       "    'obstructionsToVisibility': '',\n",
       "    'cloudCover': 100,\n",
       "    'ceiling': {'value': 3048.0, 'unit': 'm', 'unitType': 5},\n",
       "    'pressure': {'value': 1024.4, 'unit': 'mb', 'unitType': 14},\n",
       "    'pressureTendency': {'localizedDescription': 'Steady', 'code': 'S'},\n",
       "    'past24HourTemperatureDeparture': {'value': 0.1,\n",
       "     'unit': 'C',\n",
       "     'unitType': 17},\n",
       "    'apparentTemperature': {'value': 11.1, 'unit': 'C', 'unitType': 17},\n",
       "    'windChillTemperature': {'value': 9.4, 'unit': 'C', 'unitType': 17},\n",
       "    'wetBulbTemperature': {'value': 7.9, 'unit': 'C', 'unitType': 17},\n",
       "    'precipitationSummary': {'pastHour': {'value': 0.2,\n",
       "      'unit': 'mm',\n",
       "      'unitType': 3},\n",
       "     'past3Hours': {'value': 0.2, 'unit': 'mm', 'unitType': 3},\n",
       "     'past6Hours': {'value': 0.2, 'unit': 'mm', 'unitType': 3},\n",
       "     'past9Hours': {'value': 0.2, 'unit': 'mm', 'unitType': 3},\n",
       "     'past12Hours': {'value': 0.4, 'unit': 'mm', 'unitType': 3},\n",
       "     'past18Hours': {'value': 0.5, 'unit': 'mm', 'unitType': 3},\n",
       "     'past24Hours': {'value': 2.1, 'unit': 'mm', 'unitType': 3}},\n",
       "    'temperatureSummary': {'past6Hours': {'minimum': {'value': 9.3,\n",
       "       'unit': 'C',\n",
       "       'unitType': 17},\n",
       "      'maximum': {'value': 10.9, 'unit': 'C', 'unitType': 17}},\n",
       "     'past12Hours': {'minimum': {'value': 9.3, 'unit': 'C', 'unitType': 17},\n",
       "      'maximum': {'value': 12.5, 'unit': 'C', 'unitType': 17}},\n",
       "     'past24Hours': {'minimum': {'value': 9.3, 'unit': 'C', 'unitType': 17},\n",
       "      'maximum': {'value': 12.5, 'unit': 'C', 'unitType': 17}}}}]}}"
      ]
     },
     "execution_count": 7,
     "metadata": {},
     "output_type": "execute_result"
    }
   ],
   "source": [
    "weather = azuremaps_weather(\"Seattle\")\n",
    "json.loads(weather)"
   ]
  },
  {
   "cell_type": "markdown",
   "id": "efdd8dbd-3b95-4923-aaae-305c9d8ac991",
   "metadata": {},
   "source": [
    "### Agent"
   ]
  },
  {
   "cell_type": "code",
   "execution_count": 8,
   "id": "61c53506-9f26-4994-92ca-568f1bd8e07d",
   "metadata": {},
   "outputs": [
    {
     "name": "stdout",
     "output_type": "stream",
     "text": [
      "Created agent with ID = asst_rxjxPAouxWUmGwXTDcyM6kT7\n"
     ]
    }
   ],
   "source": [
    "model = \"gpt-4o-mini\"\n",
    "name = \"gpt4o-weather-agent\"\n",
    "instructions = \"You are a weather bot. Use the provided functions to help answer questions.\"\n",
    "\n",
    "# user functions to use\n",
    "user_functions: Set[Callable[..., Any]] = {\n",
    "    azuremaps_weather,\n",
    "}\n",
    "\n",
    "functions = FunctionTool(user_functions)\n",
    "toolset = ToolSet()\n",
    "toolset.add(functions)\n",
    "\n",
    "# We need to define this option to the project (not in the documentation ?)\n",
    "project_client.agents.enable_auto_function_calls(toolset=toolset)\n",
    "\n",
    "# Agent creation\n",
    "agent = project_client.agents.create_agent(\n",
    "    model=model,\n",
    "    name=name,\n",
    "    instructions=instructions,\n",
    "    toolset=toolset,\n",
    ")\n",
    "\n",
    "print(f\"Created agent with ID = {agent.id}\")"
   ]
  },
  {
   "cell_type": "markdown",
   "id": "a39cf0b6-ba76-4f9c-a2d2-9833d0a569e0",
   "metadata": {},
   "source": [
    "### Tests"
   ]
  },
  {
   "cell_type": "code",
   "execution_count": 9,
   "id": "5e16fc7c-c08b-445a-b78d-fde55c77d125",
   "metadata": {},
   "outputs": [
    {
     "name": "stdout",
     "output_type": "stream",
     "text": [
      "Created thread ID = thread_eawWAheM6cmVucETN2srlYFL\n",
      "Created message ID = msg_1yHP1WPGSdUOhsWJjgwvHJAF\n"
     ]
    }
   ],
   "source": [
    "prompt = \"Hello, generate a full report for the weather in Paris today\"\n",
    "\n",
    "# Create thread for communication\n",
    "thread = project_client.agents.create_thread()\n",
    "print(f\"Created thread ID = {thread.id}\")\n",
    "\n",
    "# Create message to thread\n",
    "message = project_client.agents.create_message(\n",
    "    thread_id=thread.id,\n",
    "    role=\"user\",\n",
    "    content=prompt,\n",
    ")\n",
    "\n",
    "print(f\"Created message ID = {message.id}\")"
   ]
  },
  {
   "cell_type": "code",
   "execution_count": 10,
   "id": "06fe464c-8709-4bfe-b210-c01e4e69bc2a",
   "metadata": {},
   "outputs": [
    {
     "name": "stdout",
     "output_type": "stream",
     "text": [
      "Created run, run ID: run_6WFuYielwDK6jXwP1jV84hQF\n"
     ]
    }
   ],
   "source": [
    "run = project_client.agents.create_and_process_run(thread_id=thread.id, agent_id=agent.id)\n",
    "print(f\"Created run, run ID: {run.id}\")"
   ]
  },
  {
   "cell_type": "code",
   "execution_count": 11,
   "id": "c77600b7-3007-43f4-bc2a-f9c66df03cdf",
   "metadata": {},
   "outputs": [
    {
     "name": "stdout",
     "output_type": "stream",
     "text": [
      "Start   : 2025-04-30 08:46:28+0000\n",
      "End     : 2025-04-30 08:46:31+0000\n",
      "Elapsed : 0:00:03  (3.00 seconds)\n"
     ]
    }
   ],
   "source": [
    "start   = run.started_at       \n",
    "end     = run.completed_at\n",
    "elapsed = end - start\n",
    "\n",
    "iso_fmt = \"%Y-%m-%d %H:%M:%S%z\"\n",
    "print(f\"Start   : {start.strftime(iso_fmt)}\")\n",
    "print(f\"End     : {end.strftime(iso_fmt)}\")\n",
    "print(f\"Elapsed : {elapsed}  \"\n",
    "      f\"({elapsed.total_seconds():.2f} seconds)\")"
   ]
  },
  {
   "cell_type": "code",
   "execution_count": 12,
   "id": "2f799ae2-4880-48e9-9e65-0363ac6b3862",
   "metadata": {},
   "outputs": [
    {
     "data": {
      "text/plain": [
       "{'prompt_tokens': 1496, 'completion_tokens': 392, 'total_tokens': 1888, 'prompt_token_details': {'cached_tokens': 0}}"
      ]
     },
     "execution_count": 12,
     "metadata": {},
     "output_type": "execute_result"
    }
   ],
   "source": [
    "run.usage"
   ]
  },
  {
   "cell_type": "code",
   "execution_count": 13,
   "id": "ffe4f0e8-cf75-4e64-8382-db0ce6b70177",
   "metadata": {},
   "outputs": [
    {
     "name": "stdout",
     "output_type": "stream",
     "text": [
      "\u001b[1;31;34m\n",
      "### Weather Report for Paris, France (April 30, 2025)\n",
      "\n",
      "#### General Conditions\n",
      "- **Date and Time**: April 30, 2025, 10:26 AM (Local Time)\n",
      "- **Weather**: Sunny\n",
      "- **Icon**: ☀️ (Clear/Sunny)\n",
      "\n",
      "#### Temperature\n",
      "- **Current Temperature**: 20.1°C\n",
      "- **Feels Like**: 23.0°C\n",
      "- **Real Feel Temperature Shade**: 18.7°C\n",
      "\n",
      "#### Humidity and Dew Point\n",
      "- **Relative Humidity**: 48%\n",
      "- **Dew Point**: 8.7°C\n",
      "\n",
      "#### Wind\n",
      "- **Direction**: Northeast (NE) at 45°\n",
      "- **Speed**: 9.6 km/h\n",
      "- **Wind Gusts**: 15.6 km/h\n",
      "\n",
      "#### Visibility and Air Pressure\n",
      "- **Visibility**: 24.1 km\n",
      "- **Pressure**: 1022 mb (Steady)\n",
      "\n",
      "#### Cloud Cover and Ceiling\n",
      "- **Cloud Cover**: 0% (Clear)\n",
      "- **Ceiling**: 12192 meters\n",
      "\n",
      "#### UV Index\n",
      "- **UV Index**: 5 (Moderate)\n",
      "\n",
      "#### Precipitation\n",
      "- **Precipitation Summary**: No precipitation recorded in the past 24 hours.\n",
      "\n",
      "#### Temperature Summary (Last 24 Hours)\n",
      "- **Minimum Temperature**: 12.3°C\n",
      "- **Maximum Temperature**: 25.4°C\n",
      "\n",
      "#### Additional Conditions\n",
      "- **Apparent Temperature**: 19.4°C\n",
      "- **Wind Chill Temperature**: 20.0°C\n",
      "- **Wet Bulb Temperature**: 13.6°C\n",
      "\n",
      "Overall, it is a beautiful sunny day in Paris with pleasant temperatures and clear skies. Enjoy!\n"
     ]
    }
   ],
   "source": [
    "messages = project_client.agents.list_messages(thread_id=thread.id)\n",
    "print(\"\\033[1;31;34m\")\n",
    "print(messages.data[0].content[0].text.value)"
   ]
  },
  {
   "cell_type": "markdown",
   "id": "ea4df8d0-4680-4bbc-a9c2-6f42214615da",
   "metadata": {},
   "source": [
    "### Other examples"
   ]
  },
  {
   "cell_type": "code",
   "execution_count": 14,
   "id": "b1eff256-208c-440a-ac5d-cbbe54f212d7",
   "metadata": {},
   "outputs": [
    {
     "name": "stdout",
     "output_type": "stream",
     "text": [
      "Created thread ID = thread_YMeiEvtymOk9mm0FUDtjJmtn\n",
      "Created message ID = msg_0270gf7nD2B19j1gQwf9zFPl\n"
     ]
    }
   ],
   "source": [
    "prompt = \"Hello, generate a full report for the weather in London today. Print the results in English and French.\"\n",
    "\n",
    "# Create thread for communication\n",
    "thread = project_client.agents.create_thread()\n",
    "print(f\"Created thread ID = {thread.id}\")\n",
    "\n",
    "# Create message to thread\n",
    "message = project_client.agents.create_message(\n",
    "    thread_id=thread.id,\n",
    "    role=\"user\",\n",
    "    content=prompt,\n",
    ")\n",
    "\n",
    "print(f\"Created message ID = {message.id}\")"
   ]
  },
  {
   "cell_type": "code",
   "execution_count": 15,
   "id": "24c7c245-a106-4cc9-b75c-19e5f3ab80bd",
   "metadata": {},
   "outputs": [
    {
     "name": "stdout",
     "output_type": "stream",
     "text": [
      "\u001b[1;31;34m\n",
      "### Weather Report for London Today\n",
      "\n",
      "**English Version:**\n",
      "\n",
      "- **Date:** April 30, 2025\n",
      "- **Condition:** Sunny\n",
      "- **Temperature:** 16.6°C\n",
      "- **Real Feel Temperature:** 20.2°C\n",
      "- **Humidity:** 67%\n",
      "- **Dew Point:** 10.4°C\n",
      "- **Wind:** ENE at 7.7 km/h\n",
      "- **Wind Gusts:** 17.5 km/h\n",
      "- **UV Index:** Moderate (4)\n",
      "- **Visibility:** 16.1 km\n",
      "- **Cloud Cover:** 0%\n",
      "- **Pressure:** 1023 mb (Falling)\n",
      "- **Apparent Temperature:** 18.3°C\n",
      "- **Wind Chill Temperature:** 16.7°C\n",
      "- **Wet Bulb Temperature:** 13.2°C\n",
      "- **Precipitation:** None in the past 24 hours\n",
      "- **Temperature Summary:** Maximum of 21.6°C and Minimum of 9.0°C in the past 24 hours\n",
      "\n",
      "---\n",
      "\n",
      "**Version Française :**\n",
      "\n",
      "- **Date :** 30 avril 2025\n",
      "- **Condition :** Ensoleillé\n",
      "- **Température :** 16,6°C\n",
      "- **Température ressentie :** 20,2°C\n",
      "- **Humidité :** 67%\n",
      "- **Point de rosée :** 10,4°C\n",
      "- **Vent :** ENE à 7,7 km/h\n",
      "- **Rafales de vent :** 17,5 km/h\n",
      "- **Indice UV :** Modéré (4)\n",
      "- **Visibilité :** 16,1 km\n",
      "- **Couverture nuageuse :** 0%\n",
      "- **Pression :** 1023 mb (en baisse)\n",
      "- **Température apparente :** 18,3°C\n",
      "- **Température ressentie par le vent :** 16,7°C\n",
      "- **Température de bulbe humide :** 13,2°C\n",
      "- **Précipitation :** Aucune au cours des dernières 24 heures\n",
      "- **Résumé des températures :** Maximum de 21,6°C et minimum de 9,0°C au cours des dernières 24 heures\n"
     ]
    }
   ],
   "source": [
    "run = project_client.agents.create_and_process_run(thread_id=thread.id, agent_id=agent.id)\n",
    "\n",
    "messages = project_client.agents.list_messages(thread_id=thread.id)\n",
    "print(\"\\033[1;31;34m\")\n",
    "print(messages.data[0].content[0].text.value)"
   ]
  },
  {
   "cell_type": "code",
   "execution_count": 16,
   "id": "0d2509cb-2ebc-4f4e-9cc9-ffc8c75a3da7",
   "metadata": {},
   "outputs": [
    {
     "name": "stdout",
     "output_type": "stream",
     "text": [
      "Created thread ID = thread_OUImF2PjeYAPHnneEgCas1Yy\n",
      "Created message ID = msg_hCkBzMqbl2Ocw50BtJBgo6ih\n"
     ]
    }
   ],
   "source": [
    "prompt = \"Hello, print the UV informations for London today. Print the date as well of the weather data.\"\n",
    "\n",
    "# Create thread for communication\n",
    "thread = project_client.agents.create_thread()\n",
    "print(f\"Created thread ID = {thread.id}\")\n",
    "\n",
    "# Create message to thread\n",
    "message = project_client.agents.create_message(\n",
    "    thread_id=thread.id,\n",
    "    role=\"user\",\n",
    "    content=prompt,\n",
    ")\n",
    "\n",
    "print(f\"Created message ID = {message.id}\")"
   ]
  },
  {
   "cell_type": "code",
   "execution_count": 17,
   "id": "9f224136-66ba-47e2-85d0-295272b2e3a7",
   "metadata": {},
   "outputs": [
    {
     "name": "stdout",
     "output_type": "stream",
     "text": [
      "\u001b[1;31;34m\n",
      "The UV information for London today is as follows:\n",
      "\n",
      "- **Date**: April 30, 2025\n",
      "- **UV Index**: 4\n",
      "- **UV Index Phrase**: Moderate\n",
      "\n",
      "The weather is currently sunny with a temperature of 16.6°C.\n"
     ]
    }
   ],
   "source": [
    "run = project_client.agents.create_and_process_run(thread_id=thread.id, agent_id=agent.id)\n",
    "\n",
    "messages = project_client.agents.list_messages(thread_id=thread.id)\n",
    "print(\"\\033[1;31;34m\")\n",
    "print(messages.data[0].content[0].text.value)"
   ]
  },
  {
   "cell_type": "code",
   "execution_count": 18,
   "id": "3ff7f6fe-e4ab-4ba0-baba-12dfdebb6bf4",
   "metadata": {},
   "outputs": [
    {
     "name": "stdout",
     "output_type": "stream",
     "text": [
      "Created thread ID = thread_TE9lhmahtszL6u8PF5oXk22b\n",
      "Created message ID = msg_SqhIoVDvLt5u5i7LVYcrKa3r\n"
     ]
    }
   ],
   "source": [
    "prompt = \"Hello, What is the temperature in Paris? Display the time of the forecast\"\n",
    "\n",
    "# Create thread for communication\n",
    "thread = project_client.agents.create_thread()\n",
    "print(f\"Created thread ID = {thread.id}\")\n",
    "\n",
    "# Create message to thread\n",
    "message = project_client.agents.create_message(\n",
    "    thread_id=thread.id,\n",
    "    role=\"user\",\n",
    "    content=prompt,\n",
    ")\n",
    "\n",
    "print(f\"Created message ID = {message.id}\")"
   ]
  },
  {
   "cell_type": "code",
   "execution_count": 19,
   "id": "c199b990-b637-4597-acff-40e10285ec23",
   "metadata": {},
   "outputs": [
    {
     "name": "stdout",
     "output_type": "stream",
     "text": [
      "\u001b[1;31;34m\n",
      "The current temperature in Paris is **20.1°C**. The forecast was last updated on **April 30, 2025, at 10:26 AM (local time)**. The weather is currently sunny with a moderate UV index.\n"
     ]
    }
   ],
   "source": [
    "run = project_client.agents.create_and_process_run(thread_id=thread.id, agent_id=agent.id)\n",
    "\n",
    "messages = project_client.agents.list_messages(thread_id=thread.id)\n",
    "print(\"\\033[1;31;34m\")\n",
    "print(messages.data[0].content[0].text.value)"
   ]
  },
  {
   "cell_type": "code",
   "execution_count": 20,
   "id": "d5ce1ce5-babb-49d4-96a7-aeb4c3e75bc0",
   "metadata": {},
   "outputs": [
    {
     "name": "stdout",
     "output_type": "stream",
     "text": [
      "Created thread ID = thread_HddVdwxA4cCB2wWXLDWSlx6G\n",
      "Created message ID = msg_XNkHJMh27knG0SDt6THyLIVc\n"
     ]
    }
   ],
   "source": [
    "prompt = \"Hello, What is the temperature and UV information for Marseille? Display the time of the forecast for the UTC zone\"\n",
    "\n",
    "# Create thread for communication\n",
    "thread = project_client.agents.create_thread()\n",
    "print(f\"Created thread ID = {thread.id}\")\n",
    "\n",
    "# Create message to thread\n",
    "message = project_client.agents.create_message(\n",
    "    thread_id=thread.id,\n",
    "    role=\"user\",\n",
    "    content=prompt,\n",
    ")\n",
    "\n",
    "print(f\"Created message ID = {message.id}\")"
   ]
  },
  {
   "cell_type": "code",
   "execution_count": 21,
   "id": "592166d2-504b-4756-bc17-0920f91df218",
   "metadata": {},
   "outputs": [
    {
     "name": "stdout",
     "output_type": "stream",
     "text": [
      "\u001b[1;31;34m\n",
      "The current weather conditions for Marseille are as follows:\n",
      "\n",
      "- **Temperature**: 20.0°C\n",
      "- **UV Index**: 5 (Moderate)\n",
      "\n",
      "The forecast time is **2025-04-30 at 08:36 UTC**.\n"
     ]
    }
   ],
   "source": [
    "run = project_client.agents.create_and_process_run(thread_id=thread.id, agent_id=agent.id)\n",
    "\n",
    "messages = project_client.agents.list_messages(thread_id=thread.id)\n",
    "print(\"\\033[1;31;34m\")\n",
    "print(messages.data[0].content[0].text.value)"
   ]
  },
  {
   "cell_type": "code",
   "execution_count": 22,
   "id": "b918f5f9-07b3-47e1-a259-79093f10ed7e",
   "metadata": {},
   "outputs": [
    {
     "name": "stdout",
     "output_type": "stream",
     "text": [
      "Created thread ID = thread_Y7JsqA8hsFuZquGx1r1aMpO2\n",
      "Created message ID = msg_eS2uTTXed8mtSbb83V9fX893\n"
     ]
    }
   ],
   "source": [
    "prompt = \"Generate a weather report for Paris. This report is for a blog publication. Add emojis and adopt a fun style.\"\n",
    "\n",
    "# Create thread for communication\n",
    "thread = project_client.agents.create_thread()\n",
    "print(f\"Created thread ID = {thread.id}\")\n",
    "\n",
    "# Create message to thread\n",
    "message = project_client.agents.create_message(\n",
    "    thread_id=thread.id,\n",
    "    role=\"user\",\n",
    "    content=prompt,\n",
    ")\n",
    "\n",
    "print(f\"Created message ID = {message.id}\")"
   ]
  },
  {
   "cell_type": "code",
   "execution_count": 23,
   "id": "9442b9f7-21ac-4612-b6c9-8e4b5cc7c9d6",
   "metadata": {},
   "outputs": [
    {
     "name": "stdout",
     "output_type": "stream",
     "text": [
      "\u001b[1;31;34m\n",
      "🌞 **Bonjour, Paris Enthusiasts!** 🌞\n",
      "\n",
      "Get ready to bask in the glow of the City of Lights because today is absolutely **sunny** (iconic, right? ☀️)! \n",
      "\n",
      "🍃 **Current Vibes:**\n",
      "- **Temperature**: A delightful **20.6°C** – perfect for strolling along the Seine or sipping a café au lait! ☕️\n",
      "- **Real Feel**: Thanks to the sunshine, it feels like a warm **23.5°C**! So, don't forget to slap on some sunscreen. 🧴\n",
      "- **Humidity**: A comfy **46%** means it’s not too sticky.\n",
      "- **Wind**: A gentle whisper from the **northeast** at **9.6 km/h** – just enough to rustle your stylish beret! 🎩\n",
      "\n",
      "🌤️ **Today's Highlights**:\n",
      "- **UV Index**: Moderate (5). So while you're soaking up the sun, keep it safe! 😎\n",
      "- **Visibility**: A fantastic **24.1 km**, ensuring you can see every beautiful moment unfold around you.\n",
      "- **Precipitation**: Zero! 🌈 You won't need that umbrella unless you're planning to dodge the occasional pigeon.\n",
      "\n",
      "💨 **A Glimpse Ahead**: The temperature has been a steady companion, with the past 24 hours showing a cozy high of **25.4°C**. It's been a lovely day to be outside!\n",
      "\n",
      "So whether you're wandering through **Montmartre**, enjoying a delicious pastry, or perhaps having a picnic in **Luxembourg Gardens**, make the most of this spectacular day! Just remember to hydrate! 💧\n",
      "\n",
      "À bientôt, Paris lovers! 🥖✨\n"
     ]
    }
   ],
   "source": [
    "run = project_client.agents.create_and_process_run(thread_id=thread.id, agent_id=agent.id)\n",
    "\n",
    "messages = project_client.agents.list_messages(thread_id=thread.id)\n",
    "print(\"\\033[1;31;34m\")\n",
    "print(messages.data[0].content[0].text.value)"
   ]
  },
  {
   "cell_type": "markdown",
   "id": "6d5f61ac-880e-4394-8e63-6feb8c740eb4",
   "metadata": {},
   "source": [
    "### Post processing"
   ]
  },
  {
   "cell_type": "code",
   "execution_count": 24,
   "id": "09813548-20f2-45da-a196-9de60edc18c7",
   "metadata": {},
   "outputs": [
    {
     "name": "stdout",
     "output_type": "stream",
     "text": [
      "Deleting agent asst_rxjxPAouxWUmGwXTDcyM6kT7\n"
     ]
    }
   ],
   "source": [
    "agents = project_client.agents.list_agents()\n",
    "\n",
    "for i in range(len(agents.data)):\n",
    "    if agents.data[i].name == name:\n",
    "        print(f\"Deleting agent {agents.data[i].id}\")\n",
    "        project_client.agents.delete_agent(agents.data[i].id)"
   ]
  },
  {
   "cell_type": "code",
   "execution_count": null,
   "id": "62ca0e0a-8b50-44b5-819d-a7c202c01314",
   "metadata": {},
   "outputs": [],
   "source": []
  }
 ],
 "metadata": {
  "kernelspec": {
   "display_name": "Python 3.10 - SDK v2",
   "language": "python",
   "name": "python310-sdkv2"
  },
  "language_info": {
   "codemirror_mode": {
    "name": "ipython",
    "version": 3
   },
   "file_extension": ".py",
   "mimetype": "text/x-python",
   "name": "python",
   "nbconvert_exporter": "python",
   "pygments_lexer": "ipython3",
   "version": "3.10.14"
  },
  "varInspector": {
   "cols": {
    "lenName": 16,
    "lenType": 16,
    "lenVar": 40
   },
   "kernels_config": {
    "python": {
     "delete_cmd_postfix": "",
     "delete_cmd_prefix": "del ",
     "library": "var_list.py",
     "varRefreshCmd": "print(var_dic_list())"
    },
    "r": {
     "delete_cmd_postfix": ") ",
     "delete_cmd_prefix": "rm(",
     "library": "var_list.r",
     "varRefreshCmd": "cat(var_dic_list()) "
    }
   },
   "types_to_exclude": [
    "module",
    "function",
    "builtin_function_or_method",
    "instance",
    "_Feature"
   ],
   "window_display": false
  }
 },
 "nbformat": 4,
 "nbformat_minor": 5
}
