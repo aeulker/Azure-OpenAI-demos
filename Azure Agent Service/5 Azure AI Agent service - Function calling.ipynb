{
 "cells": [
  {
   "cell_type": "markdown",
   "id": "431cc026-279f-4105-8444-f1b93650da0d",
   "metadata": {},
   "source": [
    "# Azure AI Agent service - Function calling\n",
    "\n",
    "<img src=\"https://learn.microsoft.com/en-us/azure/ai-services/agents/media/agent-service-the-glue.png\" width=800>\n",
    "\n",
    "> https://learn.microsoft.com/en-us/azure/ai-services/agents/"
   ]
  },
  {
   "cell_type": "code",
   "execution_count": 1,
   "id": "d75f0533-95e2-44fe-b8ed-d525b4c25b77",
   "metadata": {},
   "outputs": [],
   "source": [
    "#%pip install azure-ai-projects"
   ]
  },
  {
   "cell_type": "code",
   "execution_count": 2,
   "id": "7a3e72d0-7521-438c-928d-5fa293b0f419",
   "metadata": {},
   "outputs": [],
   "source": [
    "import json\n",
    "import os\n",
    "import requests\n",
    "import sys\n",
    "import time\n",
    "import yfinance as yf\n",
    "\n",
    "from azure.ai.projects import AIProjectClient\n",
    "from azure.identity import DefaultAzureCredential\n",
    "from azure.ai.projects.models import FunctionTool, ToolSet, CodeInterpreterTool\n",
    "from datetime import datetime, timezone, timedelta\n",
    "from dotenv import load_dotenv\n",
    "from openai import AzureOpenAI\n",
    "from typing import Any, Callable, Set, Dict, List, Optional\n",
    "\n",
    "from user_functions import user_functions, azuremaps_weather"
   ]
  },
  {
   "cell_type": "code",
   "execution_count": 3,
   "id": "65334de7-4005-401a-89c1-be24f75abbd9",
   "metadata": {},
   "outputs": [
    {
     "data": {
      "text/plain": [
       "True"
      ]
     },
     "execution_count": 3,
     "metadata": {},
     "output_type": "execute_result"
    }
   ],
   "source": [
    "load_dotenv(\"azure.env\")"
   ]
  },
  {
   "cell_type": "code",
   "execution_count": 4,
   "id": "8628712a-0d10-4351-8993-b4c3243f83be",
   "metadata": {},
   "outputs": [
    {
     "data": {
      "text/plain": [
       "'3.10.14 (main, May  6 2024, 19:42:50) [GCC 11.2.0]'"
      ]
     },
     "execution_count": 4,
     "metadata": {},
     "output_type": "execute_result"
    }
   ],
   "source": [
    "sys.version"
   ]
  },
  {
   "cell_type": "markdown",
   "id": "54fa0903-f907-4c7f-a51b-4893d15ff371",
   "metadata": {},
   "source": [
    "## 1. Agent definition - Weather forecasts"
   ]
  },
  {
   "cell_type": "markdown",
   "id": "3ac0a60b-b688-4970-ba23-781f2196b75c",
   "metadata": {},
   "source": [
    "### Project client"
   ]
  },
  {
   "cell_type": "code",
   "execution_count": 5,
   "id": "44bdcf24-d563-43a1-9669-06f4cc79bc05",
   "metadata": {},
   "outputs": [],
   "source": [
    "# Create an Azure AI Client from a connection string, copied from your Azure AI Foundry project.\n",
    "# It should be in the format \"<HostName>;<AzureSubscriptionId>;<ResourceGroup>;<HubName>\"\n",
    "# Customers need to login to Azure subscription via Azure CLI and set the environment variables"
   ]
  },
  {
   "cell_type": "code",
   "execution_count": 6,
   "id": "76c7bbb7-0faa-4500-ba42-7c5b176f6196",
   "metadata": {},
   "outputs": [],
   "source": [
    "project_client = AIProjectClient.from_connection_string(\n",
    "    credential=DefaultAzureCredential(),\n",
    "    conn_str=os.getenv(\"PROJECT_CONNECTION_STRING\"),\n",
    ")"
   ]
  },
  {
   "cell_type": "markdown",
   "id": "6bb91b19-444f-4f46-88fa-a76106434ef3",
   "metadata": {},
   "source": [
    "### Testing the Azure Maps Weather function"
   ]
  },
  {
   "cell_type": "markdown",
   "id": "e2934437-5b6f-424c-9fef-95647758d3ec",
   "metadata": {},
   "source": [
    "We will the Azure Maps service to provide weather information."
   ]
  },
  {
   "cell_type": "code",
   "execution_count": 7,
   "id": "ab94cb4c-311f-429b-8d3d-1c49a73880b7",
   "metadata": {},
   "outputs": [
    {
     "data": {
      "text/plain": [
       "{'weather_data': {'results': [{'dateTime': '2025-05-20T05:52:00-07:00',\n",
       "    'phrase': 'Partly sunny',\n",
       "    'iconCode': 3,\n",
       "    'hasPrecipitation': False,\n",
       "    'isDayTime': True,\n",
       "    'temperature': {'value': 10.0, 'unit': 'C', 'unitType': 17},\n",
       "    'realFeelTemperature': {'value': 10.5, 'unit': 'C', 'unitType': 17},\n",
       "    'realFeelTemperatureShade': {'value': 10.5, 'unit': 'C', 'unitType': 17},\n",
       "    'relativeHumidity': 90,\n",
       "    'dewPoint': {'value': 8.4, 'unit': 'C', 'unitType': 17},\n",
       "    'wind': {'direction': {'degrees': 180.0, 'localizedDescription': 'S'},\n",
       "     'speed': {'value': 4.7, 'unit': 'km/h', 'unitType': 7}},\n",
       "    'windGust': {'speed': {'value': 13.4, 'unit': 'km/h', 'unitType': 7}},\n",
       "    'uvIndex': 0,\n",
       "    'uvIndexPhrase': 'Low',\n",
       "    'visibility': {'value': 9.7, 'unit': 'km', 'unitType': 6},\n",
       "    'obstructionsToVisibility': '',\n",
       "    'cloudCover': 35,\n",
       "    'ceiling': {'value': 12192.0, 'unit': 'm', 'unitType': 5},\n",
       "    'pressure': {'value': 1020.7, 'unit': 'mb', 'unitType': 14},\n",
       "    'pressureTendency': {'localizedDescription': 'Rising', 'code': 'R'},\n",
       "    'past24HourTemperatureDeparture': {'value': 0.0,\n",
       "     'unit': 'C',\n",
       "     'unitType': 17},\n",
       "    'apparentTemperature': {'value': 13.3, 'unit': 'C', 'unitType': 17},\n",
       "    'windChillTemperature': {'value': 10.0, 'unit': 'C', 'unitType': 17},\n",
       "    'wetBulbTemperature': {'value': 9.2, 'unit': 'C', 'unitType': 17},\n",
       "    'precipitationSummary': {'pastHour': {'value': 0.0,\n",
       "      'unit': 'mm',\n",
       "      'unitType': 3},\n",
       "     'past3Hours': {'value': 0.0, 'unit': 'mm', 'unitType': 3},\n",
       "     'past6Hours': {'value': 0.1, 'unit': 'mm', 'unitType': 3},\n",
       "     'past9Hours': {'value': 0.1, 'unit': 'mm', 'unitType': 3},\n",
       "     'past12Hours': {'value': 0.1, 'unit': 'mm', 'unitType': 3},\n",
       "     'past18Hours': {'value': 1.5, 'unit': 'mm', 'unitType': 3},\n",
       "     'past24Hours': {'value': 5.7, 'unit': 'mm', 'unitType': 3}},\n",
       "    'temperatureSummary': {'past6Hours': {'minimum': {'value': 9.9,\n",
       "       'unit': 'C',\n",
       "       'unitType': 17},\n",
       "      'maximum': {'value': 10.5, 'unit': 'C', 'unitType': 17}},\n",
       "     'past12Hours': {'minimum': {'value': 9.9, 'unit': 'C', 'unitType': 17},\n",
       "      'maximum': {'value': 13.9, 'unit': 'C', 'unitType': 17}},\n",
       "     'past24Hours': {'minimum': {'value': 9.0, 'unit': 'C', 'unitType': 17},\n",
       "      'maximum': {'value': 15.5, 'unit': 'C', 'unitType': 17}}}}]}}"
      ]
     },
     "execution_count": 7,
     "metadata": {},
     "output_type": "execute_result"
    }
   ],
   "source": [
    "weather = azuremaps_weather(\"Seattle\")\n",
    "json.loads(weather)"
   ]
  },
  {
   "cell_type": "markdown",
   "id": "efdd8dbd-3b95-4923-aaae-305c9d8ac991",
   "metadata": {},
   "source": [
    "### Agent"
   ]
  },
  {
   "cell_type": "code",
   "execution_count": 8,
   "id": "61c53506-9f26-4994-92ca-568f1bd8e07d",
   "metadata": {},
   "outputs": [
    {
     "name": "stdout",
     "output_type": "stream",
     "text": [
      "Created agent with ID = asst_6RjTsIQvw7hACHCXHdL7mHs6\n"
     ]
    }
   ],
   "source": [
    "model = \"gpt-4o-mini\"\n",
    "name = \"gpt4o-weather-agent\"\n",
    "instructions = \"You are a weather bot. Use the provided functions to help answer questions.\"\n",
    "\n",
    "# user functions to use\n",
    "user_functions: Set[Callable[..., Any]] = {\n",
    "    azuremaps_weather,\n",
    "}\n",
    "\n",
    "functions = FunctionTool(user_functions)\n",
    "toolset = ToolSet()\n",
    "toolset.add(functions)\n",
    "\n",
    "# We need to define this option to the project (not in the documentation ?)\n",
    "project_client.agents.enable_auto_function_calls(toolset=toolset)\n",
    "\n",
    "# Agent creation\n",
    "agent = project_client.agents.create_agent(\n",
    "    model=model,\n",
    "    name=name,\n",
    "    instructions=instructions,\n",
    "    toolset=toolset,\n",
    ")\n",
    "\n",
    "print(f\"Created agent with ID = {agent.id}\")"
   ]
  },
  {
   "cell_type": "markdown",
   "id": "a39cf0b6-ba76-4f9c-a2d2-9833d0a569e0",
   "metadata": {},
   "source": [
    "### Tests"
   ]
  },
  {
   "cell_type": "code",
   "execution_count": 9,
   "id": "5e16fc7c-c08b-445a-b78d-fde55c77d125",
   "metadata": {},
   "outputs": [
    {
     "name": "stdout",
     "output_type": "stream",
     "text": [
      "Created thread ID = thread_ztYX1P79BvXCR5i9dtG03Rzc\n",
      "Created message ID = msg_F2mtYsKozOKzrKQrXxOhrqUH\n"
     ]
    }
   ],
   "source": [
    "prompt = \"Hello, generate a full report for the weather in Paris today\"\n",
    "\n",
    "# Create thread for communication\n",
    "thread = project_client.agents.create_thread()\n",
    "print(f\"Created thread ID = {thread.id}\")\n",
    "\n",
    "# Create message to thread\n",
    "message = project_client.agents.create_message(\n",
    "    thread_id=thread.id,\n",
    "    role=\"user\",\n",
    "    content=prompt,\n",
    ")\n",
    "\n",
    "print(f\"Created message ID = {message.id}\")"
   ]
  },
  {
   "cell_type": "code",
   "execution_count": 10,
   "id": "06fe464c-8709-4bfe-b210-c01e4e69bc2a",
   "metadata": {},
   "outputs": [
    {
     "name": "stdout",
     "output_type": "stream",
     "text": [
      "Created run, run ID: run_JSlG2ZHNs77bLzbE3SEJGw9x\n"
     ]
    }
   ],
   "source": [
    "run = project_client.agents.create_and_process_run(thread_id=thread.id, agent_id=agent.id)\n",
    "print(f\"Created run, run ID: {run.id}\")"
   ]
  },
  {
   "cell_type": "code",
   "execution_count": 11,
   "id": "c77600b7-3007-43f4-bc2a-f9c66df03cdf",
   "metadata": {},
   "outputs": [
    {
     "name": "stdout",
     "output_type": "stream",
     "text": [
      "Start   : 2025-05-20 13:05:05+0000\n",
      "End     : 2025-05-20 13:05:10+0000\n",
      "Elapsed : 0:00:05  (5.00 seconds)\n"
     ]
    }
   ],
   "source": [
    "start   = run.started_at       \n",
    "end     = run.completed_at\n",
    "elapsed = end - start\n",
    "\n",
    "iso_fmt = \"%Y-%m-%d %H:%M:%S%z\"\n",
    "print(f\"Start   : {start.strftime(iso_fmt)}\")\n",
    "print(f\"End     : {end.strftime(iso_fmt)}\")\n",
    "print(f\"Elapsed : {elapsed}  \"\n",
    "      f\"({elapsed.total_seconds():.2f} seconds)\")"
   ]
  },
  {
   "cell_type": "code",
   "execution_count": 12,
   "id": "2f799ae2-4880-48e9-9e65-0363ac6b3862",
   "metadata": {},
   "outputs": [
    {
     "data": {
      "text/plain": [
       "{'prompt_tokens': 1494, 'completion_tokens': 394, 'total_tokens': 1888, 'prompt_token_details': {'cached_tokens': 0}}"
      ]
     },
     "execution_count": 12,
     "metadata": {},
     "output_type": "execute_result"
    }
   ],
   "source": [
    "run.usage"
   ]
  },
  {
   "cell_type": "code",
   "execution_count": 13,
   "id": "ffe4f0e8-cf75-4e64-8382-db0ce6b70177",
   "metadata": {},
   "outputs": [
    {
     "name": "stdout",
     "output_type": "stream",
     "text": [
      "\u001b[1;31;34m\n",
      "### Weather Report for Paris\n",
      "\n",
      "**Date:** May 20, 2025  \n",
      "**Time:** 14:56 (GMT+2)\n",
      "\n",
      "#### General Weather Conditions\n",
      "- **Condition:** Sunny\n",
      "- **Icon:** ☀️\n",
      "- **Day/Night:** Daytime\n",
      "\n",
      "#### Temperature Information\n",
      "- **Current Temperature:** 24.0°C\n",
      "- **Real Feel Temperature:** 25.7°C\n",
      "- **Apparent Temperature:** 22.8°C\n",
      "- **Relative Humidity:** 31%\n",
      "- **Dew Point:** 5.8°C\n",
      "- **Wind Chill Temperature:** 23.9°C\n",
      "\n",
      "#### Wind Conditions\n",
      "- **Wind Speed:** 17.1 km/h\n",
      "- **Wind Direction:** NNE (23 degrees)\n",
      "- **Wind Gust Speed:** 35.4 km/h\n",
      "\n",
      "#### Visibility\n",
      "- **Visibility:** 24.1 km\n",
      "\n",
      "#### Precipitation\n",
      "- **Precipitation in the past hour:** 0.0 mm\n",
      "- **Precipitation in the past 24 hours:** 0.0 mm\n",
      "\n",
      "#### Cloud Cover\n",
      "- **Cloud Cover:** 0% (Clear skies)\n",
      "- **Ceiling Height:** 12,192 m\n",
      "\n",
      "#### Atmospheric Pressure\n",
      "- **Pressure:** 1017.0 mb\n",
      "- **Pressure Tendency:** Falling\n",
      "\n",
      "#### Temperature Summary (Past 24 Hours)\n",
      "- **Minimum Temperature:** 11.3 °C\n",
      "- **Maximum Temperature:** 24.0 °C\n",
      "\n",
      "#### UV Index\n",
      "- **UV Index:** 6 (High)\n",
      "\n",
      "### Summary\n",
      "Today in Paris, the weather is characterized by sunny skies with a comfortable temperature around 24°C and a slight breeze from the north-northeast. The humidity is low, and there has been no precipitation in the last 24 hours. Enjoy your sunny day!\n"
     ]
    }
   ],
   "source": [
    "messages = project_client.agents.list_messages(thread_id=thread.id)\n",
    "print(\"\\033[1;31;34m\")\n",
    "print(messages.data[0].content[0].text.value)"
   ]
  },
  {
   "cell_type": "markdown",
   "id": "ea4df8d0-4680-4bbc-a9c2-6f42214615da",
   "metadata": {},
   "source": [
    "### Other examples"
   ]
  },
  {
   "cell_type": "code",
   "execution_count": 14,
   "id": "b1eff256-208c-440a-ac5d-cbbe54f212d7",
   "metadata": {},
   "outputs": [
    {
     "name": "stdout",
     "output_type": "stream",
     "text": [
      "Created thread ID = thread_gpqSHIDokvOPA0hxuNETWppW\n",
      "Created message ID = msg_xXeEJJ2CRv5elCaxTjRT54Cx\n"
     ]
    }
   ],
   "source": [
    "prompt = \"Hello, generate a full report for the weather in London today. Print the results in English and French.\"\n",
    "\n",
    "# Create thread for communication\n",
    "thread = project_client.agents.create_thread()\n",
    "print(f\"Created thread ID = {thread.id}\")\n",
    "\n",
    "# Create message to thread\n",
    "message = project_client.agents.create_message(\n",
    "    thread_id=thread.id,\n",
    "    role=\"user\",\n",
    "    content=prompt,\n",
    ")\n",
    "\n",
    "print(f\"Created message ID = {message.id}\")"
   ]
  },
  {
   "cell_type": "code",
   "execution_count": 15,
   "id": "24c7c245-a106-4cc9-b75c-19e5f3ab80bd",
   "metadata": {},
   "outputs": [
    {
     "name": "stdout",
     "output_type": "stream",
     "text": [
      "\u001b[1;31;34m\n",
      "### Weather Report for London Today\n",
      "\n",
      "**Date and Time:** 20th May 2025, 14:01 UTC+1\n",
      "\n",
      "**Conditions:**\n",
      "- **Weather Phrase:** Sunny\n",
      "- **Precipitation:** No\n",
      "- **Cloud Cover:** 10%\n",
      "- **Visibility:** 59.5 km\n",
      "- **UV Index:** Moderate (5)\n",
      "\n",
      "**Temperature:**\n",
      "- **Current Temperature:** 21.3 °C\n",
      "- **Real Feel Temperature:** 24.3 °C\n",
      "- **Wind Chill Temperature:** 21.1 °C\n",
      "- **Past 24 Hours Max Temperature:** 21.3 °C\n",
      "- **Past 24 Hours Min Temperature:** 9.1 °C\n",
      "\n",
      "**Humidity and Dew Point:**\n",
      "- **Relative Humidity:** 39%\n",
      "- **Dew Point:** 6.7 °C\n",
      "\n",
      "**Wind:**\n",
      "- **Direction:** North-Northeast (23°)\n",
      "- **Speed:** 10 km/h\n",
      "- **Wind Gusts:** 25.6 km/h\n",
      "\n",
      "**Pressure:**\n",
      "- **Pressure:** 1020 mb\n",
      "- **Pressure Tendency:** Falling\n",
      "\n",
      "---\n",
      "\n",
      "### Rapport Météorologique pour Londres Aujourd'hui\n",
      "\n",
      "**Date et Heure :** 20 mai 2025, 14h01 UTC+1\n",
      "\n",
      "**Conditions :**\n",
      "- **Phrase Météo :** Ensoleillé\n",
      "- **Précipitations :** Non\n",
      "- **Couverture Nuageuse :** 10%\n",
      "- **Visibilité :** 59,5 km\n",
      "- **Indice UV :** Modéré (5)\n",
      "\n",
      "**Température :**\n",
      "- **Température Actuelle :** 21,3 °C\n",
      "- **Température Ressentie :** 24,3 °C\n",
      "- **Température de Vent Froid :** 21,1 °C\n",
      "- **Température Maximum des 24 Dernières Heures :** 21,3 °C\n",
      "- **Température Minimum des 24 Dernières Heures :** 9,1 °C\n",
      "\n",
      "**Humidité et Point de Rosée :**\n",
      "- **Humidité Relative :** 39%\n",
      "- **Point de Rosée :** 6,7 °C\n",
      "\n",
      "**Vent :**\n",
      "- **Direction :** Nord-Est (23°)\n",
      "- **Vitesse :** 10 km/h\n",
      "- **Rafales de Vent :** 25,6 km/h\n",
      "\n",
      "**Pression :**\n",
      "- **Pression :** 1020 mb\n",
      "- **Tendance de Pression :** En baisse\n"
     ]
    }
   ],
   "source": [
    "run = project_client.agents.create_and_process_run(thread_id=thread.id, agent_id=agent.id)\n",
    "\n",
    "messages = project_client.agents.list_messages(thread_id=thread.id)\n",
    "print(\"\\033[1;31;34m\")\n",
    "print(messages.data[0].content[0].text.value)"
   ]
  },
  {
   "cell_type": "code",
   "execution_count": 16,
   "id": "0d2509cb-2ebc-4f4e-9cc9-ffc8c75a3da7",
   "metadata": {},
   "outputs": [
    {
     "name": "stdout",
     "output_type": "stream",
     "text": [
      "Created thread ID = thread_Rq7m04t1l4SNoc0QLFE7g2sv\n",
      "Created message ID = msg_QhzNFW7EitJxLMS6PQFbw59y\n"
     ]
    }
   ],
   "source": [
    "prompt = \"Hello, print the UV informations for London today. Print the date as well of the weather data.\"\n",
    "\n",
    "# Create thread for communication\n",
    "thread = project_client.agents.create_thread()\n",
    "print(f\"Created thread ID = {thread.id}\")\n",
    "\n",
    "# Create message to thread\n",
    "message = project_client.agents.create_message(\n",
    "    thread_id=thread.id,\n",
    "    role=\"user\",\n",
    "    content=prompt,\n",
    ")\n",
    "\n",
    "print(f\"Created message ID = {message.id}\")"
   ]
  },
  {
   "cell_type": "code",
   "execution_count": 17,
   "id": "9f224136-66ba-47e2-85d0-295272b2e3a7",
   "metadata": {},
   "outputs": [
    {
     "name": "stdout",
     "output_type": "stream",
     "text": [
      "\u001b[1;31;34m\n",
      "The UV information for London today, along with the date, is as follows:\n",
      "\n",
      "- **Date**: May 20, 2025\n",
      "- **UV Index**: 5\n",
      "- **UV Index Phrase**: Moderate\n",
      "\n",
      "The weather conditions for today are also sunny with a temperature of 21.3°C.\n"
     ]
    }
   ],
   "source": [
    "run = project_client.agents.create_and_process_run(thread_id=thread.id, agent_id=agent.id)\n",
    "\n",
    "messages = project_client.agents.list_messages(thread_id=thread.id)\n",
    "print(\"\\033[1;31;34m\")\n",
    "print(messages.data[0].content[0].text.value)"
   ]
  },
  {
   "cell_type": "code",
   "execution_count": 18,
   "id": "3ff7f6fe-e4ab-4ba0-baba-12dfdebb6bf4",
   "metadata": {},
   "outputs": [
    {
     "name": "stdout",
     "output_type": "stream",
     "text": [
      "Created thread ID = thread_fafK6aiCEXMgmwSqEvMVTpcS\n",
      "Created message ID = msg_H9xzGV4hOdewviBdMb4I4qrw\n"
     ]
    }
   ],
   "source": [
    "prompt = \"Hello, What is the temperature in Paris? Display the time of the forecast\"\n",
    "\n",
    "# Create thread for communication\n",
    "thread = project_client.agents.create_thread()\n",
    "print(f\"Created thread ID = {thread.id}\")\n",
    "\n",
    "# Create message to thread\n",
    "message = project_client.agents.create_message(\n",
    "    thread_id=thread.id,\n",
    "    role=\"user\",\n",
    "    content=prompt,\n",
    ")\n",
    "\n",
    "print(f\"Created message ID = {message.id}\")"
   ]
  },
  {
   "cell_type": "code",
   "execution_count": 19,
   "id": "c199b990-b637-4597-acff-40e10285ec23",
   "metadata": {},
   "outputs": [
    {
     "name": "stdout",
     "output_type": "stream",
     "text": [
      "\u001b[1;31;34m\n",
      "The current temperature in Paris is **24.0°C**. The weather is sunny, and this forecast was recorded at **14:56** local time.\n"
     ]
    }
   ],
   "source": [
    "run = project_client.agents.create_and_process_run(thread_id=thread.id, agent_id=agent.id)\n",
    "\n",
    "messages = project_client.agents.list_messages(thread_id=thread.id)\n",
    "print(\"\\033[1;31;34m\")\n",
    "print(messages.data[0].content[0].text.value)"
   ]
  },
  {
   "cell_type": "code",
   "execution_count": 20,
   "id": "d5ce1ce5-babb-49d4-96a7-aeb4c3e75bc0",
   "metadata": {},
   "outputs": [
    {
     "name": "stdout",
     "output_type": "stream",
     "text": [
      "Created thread ID = thread_XwX8JMWtshYKaDfKL7sZ9mJf\n",
      "Created message ID = msg_BGdw2atDhO166KY2SkFU6hRd\n"
     ]
    }
   ],
   "source": [
    "prompt = \"Hello, What is the temperature and UV information for Marseille? Display the time of the forecast for the UTC zone\"\n",
    "\n",
    "# Create thread for communication\n",
    "thread = project_client.agents.create_thread()\n",
    "print(f\"Created thread ID = {thread.id}\")\n",
    "\n",
    "# Create message to thread\n",
    "message = project_client.agents.create_message(\n",
    "    thread_id=thread.id,\n",
    "    role=\"user\",\n",
    "    content=prompt,\n",
    ")\n",
    "\n",
    "print(f\"Created message ID = {message.id}\")"
   ]
  },
  {
   "cell_type": "code",
   "execution_count": 21,
   "id": "592166d2-504b-4756-bc17-0920f91df218",
   "metadata": {},
   "outputs": [
    {
     "name": "stdout",
     "output_type": "stream",
     "text": [
      "\u001b[1;31;34m\n",
      "The current weather information for Marseille is as follows:\n",
      "\n",
      "- **Temperature:** 19.5°C\n",
      "- **UV Index:** 6 (High)\n",
      "- **Forecast Time (UTC):** The forecast is for **2025-05-20 at 12:56 PM UTC**.\n",
      "\n",
      "If you need further information, feel free to ask!\n"
     ]
    }
   ],
   "source": [
    "run = project_client.agents.create_and_process_run(thread_id=thread.id, agent_id=agent.id)\n",
    "\n",
    "messages = project_client.agents.list_messages(thread_id=thread.id)\n",
    "print(\"\\033[1;31;34m\")\n",
    "print(messages.data[0].content[0].text.value)"
   ]
  },
  {
   "cell_type": "code",
   "execution_count": 22,
   "id": "b918f5f9-07b3-47e1-a259-79093f10ed7e",
   "metadata": {},
   "outputs": [
    {
     "name": "stdout",
     "output_type": "stream",
     "text": [
      "Created thread ID = thread_N9gR4I1zbB2hFvbOgUmJDR6Z\n",
      "Created message ID = msg_5XBLD8WTAIGbfHsNeioytyY0\n"
     ]
    }
   ],
   "source": [
    "prompt = \"Generate a weather report for Paris. This report is for a blog publication. Add emojis and adopt a fun style.\"\n",
    "\n",
    "# Create thread for communication\n",
    "thread = project_client.agents.create_thread()\n",
    "print(f\"Created thread ID = {thread.id}\")\n",
    "\n",
    "# Create message to thread\n",
    "message = project_client.agents.create_message(\n",
    "    thread_id=thread.id,\n",
    "    role=\"user\",\n",
    "    content=prompt,\n",
    ")\n",
    "\n",
    "print(f\"Created message ID = {message.id}\")"
   ]
  },
  {
   "cell_type": "code",
   "execution_count": 23,
   "id": "9442b9f7-21ac-4612-b6c9-8e4b5cc7c9d6",
   "metadata": {},
   "outputs": [
    {
     "name": "stdout",
     "output_type": "stream",
     "text": [
      "\u001b[1;31;34m\n",
      "🌞 **Bonjour Paris!** 🌞\n",
      "\n",
      "Today's weather report for the City of Light is *perfectly magnifique*! The sun is shining bright, and it’s **a stunningly sunny day** with the temperature hovering around a glorious **24°C**! 🏖️\n",
      "\n",
      "### Here’s what you can expect:\n",
      "- **🌤 Sky:** Clear blue skies with absolutely no clouds to spoil your view. \n",
      "- **💨 Wind:** A pleasant breeze coming in from the NNE at **17.1 km/h**, with occasional gusts hitting **35.4 km/h**. Perfect for a leisurely stroll along the Seine! \n",
      "- **☀️ Real Feel:** It seems even warmer, with a real feel of **25.7°C**—so don’t forget your sunny glasses! 😎\n",
      "- **🌡 Humidity:** A comfy **31%**, meaning it’s just the right amount of crisp in the air!\n",
      "- **🌈 UV Index:** High at **6**—make sure to slap on some sunscreen before you head out! 🧴\n",
      "\n",
      "### Wrap-Up:\n",
      "Feeling warm? You should! With temperatures reaching a delightful **24°C** and lovely conditions to boot, it’s a day made for exploring. Whether you’re picnicking in a park or enjoying a café on a terrace, don’t miss out! So grab your beret and set out—it’s a beautiful day in Paris! 🥖🥂\n",
      "\n",
      "Stay stylish and safe! 🕶️✨\n"
     ]
    }
   ],
   "source": [
    "run = project_client.agents.create_and_process_run(thread_id=thread.id, agent_id=agent.id)\n",
    "\n",
    "messages = project_client.agents.list_messages(thread_id=thread.id)\n",
    "print(\"\\033[1;31;34m\")\n",
    "print(messages.data[0].content[0].text.value)"
   ]
  },
  {
   "cell_type": "markdown",
   "id": "6d5f61ac-880e-4394-8e63-6feb8c740eb4",
   "metadata": {},
   "source": [
    "### Post processing"
   ]
  },
  {
   "cell_type": "code",
   "execution_count": 24,
   "id": "09813548-20f2-45da-a196-9de60edc18c7",
   "metadata": {},
   "outputs": [
    {
     "name": "stdout",
     "output_type": "stream",
     "text": [
      "Deleting agent asst_6RjTsIQvw7hACHCXHdL7mHs6\n"
     ]
    }
   ],
   "source": [
    "agents = project_client.agents.list_agents()\n",
    "\n",
    "for i in range(len(agents.data)):\n",
    "    if agents.data[i].name == name:\n",
    "        print(f\"Deleting agent {agents.data[i].id}\")\n",
    "        project_client.agents.delete_agent(agents.data[i].id)"
   ]
  },
  {
   "cell_type": "code",
   "execution_count": null,
   "id": "62ca0e0a-8b50-44b5-819d-a7c202c01314",
   "metadata": {},
   "outputs": [],
   "source": []
  }
 ],
 "metadata": {
  "kernelspec": {
   "display_name": "Python 3.10 - SDK v2",
   "language": "python",
   "name": "python310-sdkv2"
  },
  "language_info": {
   "codemirror_mode": {
    "name": "ipython",
    "version": 3
   },
   "file_extension": ".py",
   "mimetype": "text/x-python",
   "name": "python",
   "nbconvert_exporter": "python",
   "pygments_lexer": "ipython3",
   "version": "3.10.14"
  },
  "varInspector": {
   "cols": {
    "lenName": 16,
    "lenType": 16,
    "lenVar": 40
   },
   "kernels_config": {
    "python": {
     "delete_cmd_postfix": "",
     "delete_cmd_prefix": "del ",
     "library": "var_list.py",
     "varRefreshCmd": "print(var_dic_list())"
    },
    "r": {
     "delete_cmd_postfix": ") ",
     "delete_cmd_prefix": "rm(",
     "library": "var_list.r",
     "varRefreshCmd": "cat(var_dic_list()) "
    }
   },
   "types_to_exclude": [
    "module",
    "function",
    "builtin_function_or_method",
    "instance",
    "_Feature"
   ],
   "window_display": false
  }
 },
 "nbformat": 4,
 "nbformat_minor": 5
}
