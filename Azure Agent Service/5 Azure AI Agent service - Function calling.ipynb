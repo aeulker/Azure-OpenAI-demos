{
 "cells": [
  {
   "cell_type": "markdown",
   "id": "431cc026-279f-4105-8444-f1b93650da0d",
   "metadata": {},
   "source": [
    "# Azure AI Agent service - Function calling\n",
    "\n",
    "<img src=\"https://learn.microsoft.com/en-us/azure/ai-services/agents/media/agent-service-the-glue.png\" width=800>\n",
    "\n",
    "> https://learn.microsoft.com/en-us/azure/ai-services/agents/"
   ]
  },
  {
   "cell_type": "code",
   "execution_count": 1,
   "id": "7a3e72d0-7521-438c-928d-5fa293b0f419",
   "metadata": {},
   "outputs": [],
   "source": [
    "import glob\n",
    "import json\n",
    "import ipyplot\n",
    "import matplotlib.pyplot as plt\n",
    "import os\n",
    "import requests\n",
    "import sys\n",
    "import time\n",
    "import yfinance as yf\n",
    "\n",
    "from azure.ai.agents import AgentsClient \n",
    "from azure.ai.agents.models import (\n",
    "    FunctionTool,\n",
    "    ListSortOrder,\n",
    "    RequiredFunctionToolCall,\n",
    "    SubmitToolOutputsAction,\n",
    "    ToolOutput,\n",
    ")\n",
    "from azure.identity import DefaultAzureCredential\n",
    "from datetime import datetime, timezone, timedelta\n",
    "from dotenv import load_dotenv\n",
    "from openai import AzureOpenAI\n",
    "from PIL import Image\n",
    "from typing import Any, Callable, Set, Dict, List, Optional\n",
    "from user_functions import user_functions, azuremaps_weather"
   ]
  },
  {
   "cell_type": "code",
   "execution_count": 2,
   "id": "65334de7-4005-401a-89c1-be24f75abbd9",
   "metadata": {},
   "outputs": [
    {
     "data": {
      "text/plain": [
       "True"
      ]
     },
     "execution_count": 2,
     "metadata": {},
     "output_type": "execute_result"
    }
   ],
   "source": [
    "load_dotenv(\"azure.env\")"
   ]
  },
  {
   "cell_type": "markdown",
   "id": "54fa0903-f907-4c7f-a51b-4893d15ff371",
   "metadata": {},
   "source": [
    "## 1. Agent definition - Weather forecasts"
   ]
  },
  {
   "cell_type": "code",
   "execution_count": 3,
   "id": "76c7bbb7-0faa-4500-ba42-7c5b176f6196",
   "metadata": {},
   "outputs": [],
   "source": [
    "endpoint = os.getenv(\"PROJECT_ENDPOINT\")\n",
    "credential = DefaultAzureCredential()\n",
    "\n",
    "project_client = AgentsClient(endpoint=endpoint, credential=credential)"
   ]
  },
  {
   "cell_type": "markdown",
   "id": "6bb91b19-444f-4f46-88fa-a76106434ef3",
   "metadata": {},
   "source": [
    "### Testing the Azure Maps Weather function"
   ]
  },
  {
   "cell_type": "markdown",
   "id": "e2934437-5b6f-424c-9fef-95647758d3ec",
   "metadata": {},
   "source": [
    "We will use the Azure Maps service to provide weather information."
   ]
  },
  {
   "cell_type": "code",
   "execution_count": 4,
   "id": "ab94cb4c-311f-429b-8d3d-1c49a73880b7",
   "metadata": {},
   "outputs": [
    {
     "data": {
      "text/plain": [
       "{'weather_data': {'results': [{'dateTime': '2025-06-10T05:17:00-04:00',\n",
       "    'phrase': 'Mostly clear',\n",
       "    'iconCode': 34,\n",
       "    'hasPrecipitation': False,\n",
       "    'isDayTime': False,\n",
       "    'temperature': {'value': 12.8, 'unit': 'C', 'unitType': 17},\n",
       "    'realFeelTemperature': {'value': 12.3, 'unit': 'C', 'unitType': 17},\n",
       "    'realFeelTemperatureShade': {'value': 12.3, 'unit': 'C', 'unitType': 17},\n",
       "    'relativeHumidity': 100,\n",
       "    'dewPoint': {'value': 12.8, 'unit': 'C', 'unitType': 17},\n",
       "    'wind': {'direction': {'degrees': 248.0, 'localizedDescription': 'WSW'},\n",
       "     'speed': {'value': 9.3, 'unit': 'km/h', 'unitType': 7}},\n",
       "    'windGust': {'speed': {'value': 9.3, 'unit': 'km/h', 'unitType': 7}},\n",
       "    'uvIndex': 0,\n",
       "    'uvIndexPhrase': 'Low',\n",
       "    'visibility': {'value': 9.7, 'unit': 'km', 'unitType': 6},\n",
       "    'obstructionsToVisibility': 'F',\n",
       "    'cloudCover': 11,\n",
       "    'ceiling': {'value': 12192.0, 'unit': 'm', 'unitType': 5},\n",
       "    'pressure': {'value': 1006.4, 'unit': 'mb', 'unitType': 14},\n",
       "    'pressureTendency': {'localizedDescription': 'Steady', 'code': 'S'},\n",
       "    'past24HourTemperatureDeparture': {'value': -2.2,\n",
       "     'unit': 'C',\n",
       "     'unitType': 17},\n",
       "    'apparentTemperature': {'value': 16.7, 'unit': 'C', 'unitType': 17},\n",
       "    'windChillTemperature': {'value': 12.8, 'unit': 'C', 'unitType': 17},\n",
       "    'wetBulbTemperature': {'value': 12.8, 'unit': 'C', 'unitType': 17},\n",
       "    'precipitationSummary': {'pastHour': {'value': 0.0,\n",
       "      'unit': 'mm',\n",
       "      'unitType': 3},\n",
       "     'past3Hours': {'value': 0.0, 'unit': 'mm', 'unitType': 3},\n",
       "     'past6Hours': {'value': 0.0, 'unit': 'mm', 'unitType': 3},\n",
       "     'past9Hours': {'value': 0.0, 'unit': 'mm', 'unitType': 3},\n",
       "     'past12Hours': {'value': 0.0, 'unit': 'mm', 'unitType': 3},\n",
       "     'past18Hours': {'value': 3.0, 'unit': 'mm', 'unitType': 3},\n",
       "     'past24Hours': {'value': 3.1, 'unit': 'mm', 'unitType': 3}},\n",
       "    'temperatureSummary': {'past6Hours': {'minimum': {'value': 12.8,\n",
       "       'unit': 'C',\n",
       "       'unitType': 17},\n",
       "      'maximum': {'value': 16.0, 'unit': 'C', 'unitType': 17}},\n",
       "     'past12Hours': {'minimum': {'value': 12.8, 'unit': 'C', 'unitType': 17},\n",
       "      'maximum': {'value': 19.4, 'unit': 'C', 'unitType': 17}},\n",
       "     'past24Hours': {'minimum': {'value': 12.8, 'unit': 'C', 'unitType': 17},\n",
       "      'maximum': {'value': 19.5, 'unit': 'C', 'unitType': 17}}}}]}}"
      ]
     },
     "execution_count": 4,
     "metadata": {},
     "output_type": "execute_result"
    }
   ],
   "source": [
    "weather = azuremaps_weather(\"Toronto\")\n",
    "json.loads(weather)"
   ]
  },
  {
   "cell_type": "markdown",
   "id": "efdd8dbd-3b95-4923-aaae-305c9d8ac991",
   "metadata": {},
   "source": [
    "### Agent"
   ]
  },
  {
   "cell_type": "code",
   "execution_count": 5,
   "id": "61c53506-9f26-4994-92ca-568f1bd8e07d",
   "metadata": {},
   "outputs": [
    {
     "name": "stdout",
     "output_type": "stream",
     "text": [
      "Created agent, ID: asst_AtWIKCQ5eNmeipBttg6b5oQa\n"
     ]
    }
   ],
   "source": [
    "model = \"gpt-4o-mini\"\n",
    "name = \"gpt-4o-mini-weather-agent\"\n",
    "instructions = \"You are a weather bot. Use the provided functions to help answer questions.\"\n",
    "\n",
    "functions = FunctionTool(user_functions)\n",
    "\n",
    "# Create an agent and run user's request with function calls\n",
    "agent = project_client.create_agent(\n",
    "    model=\"gpt-4o\",\n",
    "    name=name,\n",
    "    instructions=instructions,\n",
    "    tools=functions.definitions,\n",
    "    description=\"Weather agent using Azure Maps\",\n",
    ")\n",
    "\n",
    "print(f\"Created agent, ID: {agent.id}\")"
   ]
  },
  {
   "cell_type": "code",
   "execution_count": 6,
   "id": "7bd686d9-f7ca-4d73-bd32-a470501162e1",
   "metadata": {},
   "outputs": [],
   "source": [
    "id1 = agent.id"
   ]
  },
  {
   "cell_type": "markdown",
   "id": "a39cf0b6-ba76-4f9c-a2d2-9833d0a569e0",
   "metadata": {},
   "source": [
    "### Tests"
   ]
  },
  {
   "cell_type": "code",
   "execution_count": 7,
   "id": "5e16fc7c-c08b-445a-b78d-fde55c77d125",
   "metadata": {},
   "outputs": [
    {
     "name": "stdout",
     "output_type": "stream",
     "text": [
      "Created thread ID = thread_ZRTUsFudJZ5nq5i7JCjgAVJJ\n",
      "Created message ID = msg_IzyEiABQ7inz4ttITuBgZGEz\n"
     ]
    }
   ],
   "source": [
    "prompt = \"Hello, generate a full report for the weather in Paris today\"\n",
    "\n",
    "# Create thread for communication\n",
    "thread = project_client.threads.create()\n",
    "print(f\"Created thread ID = {thread.id}\")\n",
    "\n",
    "# Create message to thread\n",
    "message = project_client.messages.create(\n",
    "    thread_id=thread.id,\n",
    "    role=\"user\",\n",
    "    content=prompt,\n",
    ")\n",
    "\n",
    "print(f\"Created message ID = {message.id}\")"
   ]
  },
  {
   "cell_type": "code",
   "execution_count": 8,
   "id": "06fe464c-8709-4bfe-b210-c01e4e69bc2a",
   "metadata": {},
   "outputs": [
    {
     "name": "stdout",
     "output_type": "stream",
     "text": [
      "Created run, run ID: run_zF7hxjarfSxhPIn8G8NEwn76\n"
     ]
    }
   ],
   "source": [
    "run = project_client.runs.create(thread_id=thread.id, agent_id=agent.id)\n",
    "print(f\"Created run, run ID: {run.id}\")"
   ]
  },
  {
   "cell_type": "code",
   "execution_count": 9,
   "id": "36962486-6184-4641-b8e3-86aa01a4f018",
   "metadata": {},
   "outputs": [
    {
     "name": "stdout",
     "output_type": "stream",
     "text": [
      "Executing tool call: {'id': 'call_HJz5F6o1mccMoVABO4P0QG0U', 'type': 'function', 'function': {'name': 'azuremaps_weather', 'arguments': '{\"query\":\"Paris\"}'}}\n"
     ]
    }
   ],
   "source": [
    "while run.status in [\"queued\", \"in_progress\", \"requires_action\"]:\n",
    "    time.sleep(1)\n",
    "    run = project_client.runs.get(thread_id=thread.id, run_id=run.id)\n",
    "\n",
    "    if run.status == \"requires_action\" and isinstance(run.required_action, SubmitToolOutputsAction):\n",
    "        tool_calls = run.required_action.submit_tool_outputs.tool_calls\n",
    "        if not tool_calls:\n",
    "            print(\"No tool calls provided - cancelling run\")\n",
    "            agents_client.runs.cancel(thread_id=thread.id, run_id=run.id)\n",
    "            break\n",
    "\n",
    "        tool_outputs = []\n",
    "        for tool_call in tool_calls:\n",
    "            if isinstance(tool_call, RequiredFunctionToolCall):\n",
    "                try:\n",
    "                    print(f\"Executing tool call: {tool_call}\")\n",
    "                    output = functions.execute(tool_call)\n",
    "                    tool_outputs.append(\n",
    "                        ToolOutput(\n",
    "                            tool_call_id=tool_call.id,\n",
    "                            output=output,\n",
    "                        )\n",
    "                    )\n",
    "                except Exception as e:\n",
    "                    print(f\"Error executing tool_call {tool_call.id}: {e}\")\n",
    "\n",
    "        if tool_outputs:\n",
    "            project_client.runs.submit_tool_outputs(thread_id=thread.id, run_id=run.id, tool_outputs=tool_outputs)"
   ]
  },
  {
   "cell_type": "code",
   "execution_count": 10,
   "id": "c77600b7-3007-43f4-bc2a-f9c66df03cdf",
   "metadata": {},
   "outputs": [
    {
     "name": "stdout",
     "output_type": "stream",
     "text": [
      "Start   : 2025-06-10 09:26:42+0000\n",
      "End     : 2025-06-10 09:26:47+0000\n",
      "Elapsed : 0:00:05  (5.00 seconds)\n"
     ]
    },
    {
     "data": {
      "text/plain": [
       "{'prompt_tokens': 1494, 'completion_tokens': 399, 'total_tokens': 1893, 'prompt_token_details': {'cached_tokens': 0}}"
      ]
     },
     "execution_count": 10,
     "metadata": {},
     "output_type": "execute_result"
    }
   ],
   "source": [
    "start   = run.started_at       \n",
    "end     = run.completed_at\n",
    "elapsed = end - start\n",
    "\n",
    "iso_fmt = \"%Y-%m-%d %H:%M:%S%z\"\n",
    "print(f\"Start   : {start.strftime(iso_fmt)}\")\n",
    "print(f\"End     : {end.strftime(iso_fmt)}\")\n",
    "print(f\"Elapsed : {elapsed}  \"\n",
    "      f\"({elapsed.total_seconds():.2f} seconds)\")\n",
    "\n",
    "run.usage"
   ]
  },
  {
   "cell_type": "code",
   "execution_count": 11,
   "id": "ffe4f0e8-cf75-4e64-8382-db0ce6b70177",
   "metadata": {},
   "outputs": [
    {
     "name": "stdout",
     "output_type": "stream",
     "text": [
      "user: Hello, generate a full report for the weather in Paris today\n",
      "assistant: Here is the detailed weather report for Paris today:\n",
      "\n",
      "- **Date & Time:** June 10, 2025 (current observation at 11:16 AM)\n",
      "- **General Description:** Sunny\n",
      "- **Temperature:** 20.0°C\n",
      "  - **Feels Like:** 24.1°C\n",
      "  - **Feels Like in Shade:** 18.5°C\n",
      "  - **Apparent Temperature:** 19.4°C\n",
      "  - **Wind Chill:** 20.0°C\n",
      "  - **Wet Bulb Temperature:** 14.9°C\n",
      "\n",
      "### Wind\n",
      "- **Direction:** Northwest (NW), 315°\n",
      "- **Speed:** 12.0 km/h\n",
      "- **Wind Gusts:** Up to 18.4 km/h\n",
      "\n",
      "### UV Index\n",
      "- **Level:** 8 (Very High)\n",
      "  - Caution: Protection against the sun is highly recommended.\n",
      "\n",
      "### Humidity\n",
      "- **Relative Humidity:** 58%\n",
      "- **Dew Point:** 11.5°C\n",
      "\n",
      "### Visibility\n",
      "- **Distance:** 24.1 km\n",
      "- **Obstructions:** None observed\n",
      "\n",
      "### Cloud Cover\n",
      "- **Cloud Coverage:** 10%\n",
      "- **Ceiling (Cloud Base):** 12,192 meters\n",
      "\n",
      "### Pressure\n",
      "- **Atmospheric Pressure:** 1019 mb\n",
      "- **Tendency:** Steady\n",
      "\n",
      "### Precipitation\n",
      "- **Rainfall Summary:**\n",
      "  - Past Hour: 0.0 mm\n",
      "  - Past 24 Hours: 0.0 mm\n",
      "- **Maximum Temperature (Past 24 hours):** 22.6°C\n",
      "- **Minimum Temperature (Past 24 hours):** 11.6°C\n",
      "\n",
      "This sunny weather day in Paris provides comfortable temperatures and excellent visibility. UV protection is, however, important due to the very high UV index. Enjoy the beautiful weather!\n"
     ]
    }
   ],
   "source": [
    "# Fetch and log all messages\n",
    "messages = project_client.messages.list(thread_id=thread.id, order=ListSortOrder.ASCENDING)\n",
    "for msg in messages:\n",
    "    if msg.text_messages:\n",
    "        last_text = msg.text_messages[-1]\n",
    "        print(f\"{msg.role}: {last_text.text.value}\")"
   ]
  },
  {
   "cell_type": "markdown",
   "id": "ea4df8d0-4680-4bbc-a9c2-6f42214615da",
   "metadata": {},
   "source": [
    "### Other examples"
   ]
  },
  {
   "cell_type": "code",
   "execution_count": 12,
   "id": "b1eff256-208c-440a-ac5d-cbbe54f212d7",
   "metadata": {},
   "outputs": [
    {
     "name": "stdout",
     "output_type": "stream",
     "text": [
      "Created thread ID = thread_Lx6tXOUlXHhafoMBAmNkBazQ\n",
      "Created message ID = msg_8j3DkuSqLnAc41YjcJN84Okl\n"
     ]
    }
   ],
   "source": [
    "prompt = \"Hello, generate a full report for the weather in Mexico City today. Print the results in English, Spanish and French.\"\n",
    "\n",
    "# Create thread for communication\n",
    "thread = project_client.threads.create()\n",
    "print(f\"Created thread ID = {thread.id}\")\n",
    "\n",
    "# Create message to thread\n",
    "message = project_client.messages.create(\n",
    "    thread_id=thread.id,\n",
    "    role=\"user\",\n",
    "    content=prompt,\n",
    ")\n",
    "\n",
    "print(f\"Created message ID = {message.id}\")"
   ]
  },
  {
   "cell_type": "code",
   "execution_count": 13,
   "id": "79b1f691",
   "metadata": {},
   "outputs": [
    {
     "name": "stdout",
     "output_type": "stream",
     "text": [
      "Created run, run ID: run_5ERWjISUJS3HNa0xvfyI8qHJ\n"
     ]
    }
   ],
   "source": [
    "run = project_client.runs.create(thread_id=thread.id, agent_id=agent.id)\n",
    "print(f\"Created run, run ID: {run.id}\")"
   ]
  },
  {
   "cell_type": "code",
   "execution_count": 14,
   "id": "e37a288d",
   "metadata": {},
   "outputs": [
    {
     "name": "stdout",
     "output_type": "stream",
     "text": [
      "Executing tool call: {'id': 'call_XqXsWOauKZ55ecDmwlFRgSfn', 'type': 'function', 'function': {'name': 'azuremaps_weather', 'arguments': '{\"query\":\"Mexico City\"}'}}\n"
     ]
    }
   ],
   "source": [
    "while run.status in [\"queued\", \"in_progress\", \"requires_action\"]:\n",
    "    time.sleep(1)\n",
    "    run = project_client.runs.get(thread_id=thread.id, run_id=run.id)\n",
    "\n",
    "    if run.status == \"requires_action\" and isinstance(run.required_action, SubmitToolOutputsAction):\n",
    "        tool_calls = run.required_action.submit_tool_outputs.tool_calls\n",
    "        if not tool_calls:\n",
    "            print(\"No tool calls provided - cancelling run\")\n",
    "            agents_client.runs.cancel(thread_id=thread.id, run_id=run.id)\n",
    "            break\n",
    "\n",
    "        tool_outputs = []\n",
    "        for tool_call in tool_calls:\n",
    "            if isinstance(tool_call, RequiredFunctionToolCall):\n",
    "                try:\n",
    "                    print(f\"Executing tool call: {tool_call}\")\n",
    "                    output = functions.execute(tool_call)\n",
    "                    tool_outputs.append(\n",
    "                        ToolOutput(\n",
    "                            tool_call_id=tool_call.id,\n",
    "                            output=output,\n",
    "                        )\n",
    "                    )\n",
    "                except Exception as e:\n",
    "                    print(f\"Error executing tool_call {tool_call.id}: {e}\")\n",
    "\n",
    "        if tool_outputs:\n",
    "            project_client.runs.submit_tool_outputs(thread_id=thread.id, run_id=run.id, tool_outputs=tool_outputs)"
   ]
  },
  {
   "cell_type": "code",
   "execution_count": 15,
   "id": "655a6627",
   "metadata": {},
   "outputs": [
    {
     "name": "stdout",
     "output_type": "stream",
     "text": [
      "Start   : 2025-06-10 09:26:53+0000\n",
      "End     : 2025-06-10 09:26:59+0000\n",
      "Elapsed : 0:00:06  (6.00 seconds)\n"
     ]
    },
    {
     "data": {
      "text/plain": [
       "{'prompt_tokens': 1519, 'completion_tokens': 472, 'total_tokens': 1991, 'prompt_token_details': {'cached_tokens': 0}}"
      ]
     },
     "execution_count": 15,
     "metadata": {},
     "output_type": "execute_result"
    }
   ],
   "source": [
    "start   = run.started_at       \n",
    "end     = run.completed_at\n",
    "elapsed = end - start\n",
    "\n",
    "iso_fmt = \"%Y-%m-%d %H:%M:%S%z\"\n",
    "print(f\"Start   : {start.strftime(iso_fmt)}\")\n",
    "print(f\"End     : {end.strftime(iso_fmt)}\")\n",
    "print(f\"Elapsed : {elapsed}  \"\n",
    "      f\"({elapsed.total_seconds():.2f} seconds)\")\n",
    "\n",
    "run.usage"
   ]
  },
  {
   "cell_type": "code",
   "execution_count": 16,
   "id": "a29c6922",
   "metadata": {},
   "outputs": [
    {
     "name": "stdout",
     "output_type": "stream",
     "text": [
      "user: Hello, generate a full report for the weather in Mexico City today. Print the results in English, Spanish and French.\n",
      "assistant: ### Weather Report for Mexico City Today\n",
      "\n",
      "**In English:**\n",
      "The current weather in Mexico City is: Partially cloudy with 60% cloud cover and no precipitation. The temperature is 17.8°C, with a RealFeel of 17.9°C. The humidity is at 67% and the wind is coming from the west at a speed of 5.6 km/h. Visibility is excellent with 9.7 km, and the UV index is low (0). Atmospheric pressure remains steady at 1026.4 mb. In the past 24 hours, there was 3 mm of rainfall, with a high of 28.9°C and a low of 14.9°C.\n",
      "\n",
      "**En Español:**\n",
      "El clima actual en Ciudad de México es: Parcialmente nublado con un 60% de cobertura de nubes y sin precipitación. La temperatura es de 17.8°C, con una Sensación Térmica de 17.9°C. La humedad es del 67% y el viento proviene del oeste a una velocidad de 5.6 km/h. La visibilidad es excelente con 9.7 km, y el índice UV es bajo (0). La presión atmosférica se mantiene estable en 1026.4 mb. En las últimas 24 horas, hubo 3 mm de lluvia, con un máximo de 28.9°C y un mínimo de 14.9°C.\n",
      "\n",
      "**En Français:**\n",
      "Le temps actuel à Mexico est : Partiellement nuageux avec 60% de couverture nuageuse et pas de précipitation. La température est de 17.8°C, avec une température ressentie de 17.9°C. L'humidité est de 67% et le vent vient de l'ouest à une vitesse de 5.6 km/h. La visibilité est excellente avec 9.7 km, et l'indice UV est faible (0). La pression atmosphérique reste stable à 1026.4 mb. Au cours des dernières 24 heures, il y a eu 3 mm de pluie, avec un maximum de 28.9°C et un minimum de 14.9°C.\n"
     ]
    }
   ],
   "source": [
    "# Fetch and log all messages\n",
    "messages = project_client.messages.list(thread_id=thread.id, order=ListSortOrder.ASCENDING)\n",
    "for msg in messages:\n",
    "    if msg.text_messages:\n",
    "        last_text = msg.text_messages[-1]\n",
    "        print(f\"{msg.role}: {last_text.text.value}\")"
   ]
  },
  {
   "cell_type": "code",
   "execution_count": 17,
   "id": "0d2509cb-2ebc-4f4e-9cc9-ffc8c75a3da7",
   "metadata": {},
   "outputs": [
    {
     "name": "stdout",
     "output_type": "stream",
     "text": [
      "Created thread ID = thread_05XlzCFC5gxcvOkyGSNHXa7W\n",
      "Created message ID = msg_zRKY5Ux9C0X95YQxXVxssUPU\n"
     ]
    }
   ],
   "source": [
    "prompt = \"Hello, print the UV informations for Miami (Florida) today. Print the date as well of the weather data.\"\n",
    "\n",
    "# Create thread for communication\n",
    "thread = project_client.threads.create()\n",
    "print(f\"Created thread ID = {thread.id}\")\n",
    "\n",
    "# Create message to thread\n",
    "message = project_client.messages.create(\n",
    "    thread_id=thread.id,\n",
    "    role=\"user\",\n",
    "    content=prompt,\n",
    ")\n",
    "\n",
    "print(f\"Created message ID = {message.id}\")"
   ]
  },
  {
   "cell_type": "code",
   "execution_count": 18,
   "id": "67a1a562",
   "metadata": {},
   "outputs": [
    {
     "name": "stdout",
     "output_type": "stream",
     "text": [
      "Created run, run ID: run_NdRXZfzZzXqmLTprWlB77CIS\n"
     ]
    }
   ],
   "source": [
    "run = project_client.runs.create(thread_id=thread.id, agent_id=agent.id)\n",
    "print(f\"Created run, run ID: {run.id}\")"
   ]
  },
  {
   "cell_type": "code",
   "execution_count": 19,
   "id": "01ce339f",
   "metadata": {},
   "outputs": [
    {
     "name": "stdout",
     "output_type": "stream",
     "text": [
      "Executing tool call: {'id': 'call_tGQkCeqDzAFMHuLzTv2d5Y2Q', 'type': 'function', 'function': {'name': 'azuremaps_weather', 'arguments': '{\"query\":\"Miami, Florida\"}'}}\n"
     ]
    }
   ],
   "source": [
    "while run.status in [\"queued\", \"in_progress\", \"requires_action\"]:\n",
    "    time.sleep(1)\n",
    "    run = project_client.runs.get(thread_id=thread.id, run_id=run.id)\n",
    "\n",
    "    if run.status == \"requires_action\" and isinstance(run.required_action, SubmitToolOutputsAction):\n",
    "        tool_calls = run.required_action.submit_tool_outputs.tool_calls\n",
    "        if not tool_calls:\n",
    "            print(\"No tool calls provided - cancelling run\")\n",
    "            agents_client.runs.cancel(thread_id=thread.id, run_id=run.id)\n",
    "            break\n",
    "\n",
    "        tool_outputs = []\n",
    "        for tool_call in tool_calls:\n",
    "            if isinstance(tool_call, RequiredFunctionToolCall):\n",
    "                try:\n",
    "                    print(f\"Executing tool call: {tool_call}\")\n",
    "                    output = functions.execute(tool_call)\n",
    "                    tool_outputs.append(\n",
    "                        ToolOutput(\n",
    "                            tool_call_id=tool_call.id,\n",
    "                            output=output,\n",
    "                        )\n",
    "                    )\n",
    "                except Exception as e:\n",
    "                    print(f\"Error executing tool_call {tool_call.id}: {e}\")\n",
    "\n",
    "        if tool_outputs:\n",
    "            project_client.runs.submit_tool_outputs(thread_id=thread.id, run_id=run.id, tool_outputs=tool_outputs)"
   ]
  },
  {
   "cell_type": "code",
   "execution_count": 20,
   "id": "8e76fc44",
   "metadata": {},
   "outputs": [
    {
     "name": "stdout",
     "output_type": "stream",
     "text": [
      "Start   : 2025-06-10 09:27:07+0000\n",
      "End     : 2025-06-10 09:27:08+0000\n",
      "Elapsed : 0:00:01  (1.00 seconds)\n"
     ]
    },
    {
     "data": {
      "text/plain": [
       "{'prompt_tokens': 1519, 'completion_tokens': 73, 'total_tokens': 1592, 'prompt_token_details': {'cached_tokens': 0}}"
      ]
     },
     "execution_count": 20,
     "metadata": {},
     "output_type": "execute_result"
    }
   ],
   "source": [
    "start   = run.started_at       \n",
    "end     = run.completed_at\n",
    "elapsed = end - start\n",
    "\n",
    "iso_fmt = \"%Y-%m-%d %H:%M:%S%z\"\n",
    "print(f\"Start   : {start.strftime(iso_fmt)}\")\n",
    "print(f\"End     : {end.strftime(iso_fmt)}\")\n",
    "print(f\"Elapsed : {elapsed}  \"\n",
    "      f\"({elapsed.total_seconds():.2f} seconds)\")\n",
    "\n",
    "run.usage"
   ]
  },
  {
   "cell_type": "code",
   "execution_count": 21,
   "id": "d8a9d6d5",
   "metadata": {},
   "outputs": [
    {
     "name": "stdout",
     "output_type": "stream",
     "text": [
      "user: Hello, print the UV informations for Miami (Florida) today. Print the date as well of the weather data.\n",
      "assistant: The UV information for Miami, Florida is as follows:\n",
      "\n",
      "- **Date and Time of Weather Data**: June 10, 2025 (05:12 AM local time)\n",
      "- **UV Index**: 0\n",
      "- **UV Index Phrase**: Low\n"
     ]
    }
   ],
   "source": [
    "# Fetch and log all messages\n",
    "messages = project_client.messages.list(thread_id=thread.id, order=ListSortOrder.ASCENDING)\n",
    "for msg in messages:\n",
    "    if msg.text_messages:\n",
    "        last_text = msg.text_messages[-1]\n",
    "        print(f\"{msg.role}: {last_text.text.value}\")"
   ]
  },
  {
   "cell_type": "code",
   "execution_count": 22,
   "id": "b918f5f9-07b3-47e1-a259-79093f10ed7e",
   "metadata": {},
   "outputs": [
    {
     "name": "stdout",
     "output_type": "stream",
     "text": [
      "Created thread ID = thread_78iET8OawmvYyfxOeaB4wgqF\n",
      "Created message ID = msg_OSTVnuAh4pRo79ejCwmOS2KV\n"
     ]
    }
   ],
   "source": [
    "prompt = \"Generate a weather report for Rome. This report is for a blog publication. Add emojis and adopt a fun style.\"\n",
    "\n",
    "# Create thread for communication\n",
    "thread = project_client.threads.create()\n",
    "print(f\"Created thread ID = {thread.id}\")\n",
    "\n",
    "# Create message to thread\n",
    "message = project_client.messages.create(\n",
    "    thread_id=thread.id,\n",
    "    role=\"user\",\n",
    "    content=prompt,\n",
    ")\n",
    "\n",
    "print(f\"Created message ID = {message.id}\")"
   ]
  },
  {
   "cell_type": "code",
   "execution_count": 23,
   "id": "5279d9b6",
   "metadata": {},
   "outputs": [
    {
     "name": "stdout",
     "output_type": "stream",
     "text": [
      "Created run, run ID: run_UxGyzm4q1MKKYpsIsmAlrlSy\n"
     ]
    }
   ],
   "source": [
    "run = project_client.runs.create(thread_id=thread.id, agent_id=agent.id)\n",
    "print(f\"Created run, run ID: {run.id}\")"
   ]
  },
  {
   "cell_type": "code",
   "execution_count": 24,
   "id": "f567bedc",
   "metadata": {},
   "outputs": [
    {
     "name": "stdout",
     "output_type": "stream",
     "text": [
      "Executing tool call: {'id': 'call_mlyEB74lJlinxUdfBN2suFjS', 'type': 'function', 'function': {'name': 'azuremaps_weather', 'arguments': '{\"query\":\"Rome\"}'}}\n"
     ]
    }
   ],
   "source": [
    "while run.status in [\"queued\", \"in_progress\", \"requires_action\"]:\n",
    "    time.sleep(1)\n",
    "    run = project_client.runs.get(thread_id=thread.id, run_id=run.id)\n",
    "\n",
    "    if run.status == \"requires_action\" and isinstance(run.required_action, SubmitToolOutputsAction):\n",
    "        tool_calls = run.required_action.submit_tool_outputs.tool_calls\n",
    "        if not tool_calls:\n",
    "            print(\"No tool calls provided - cancelling run\")\n",
    "            agents_client.runs.cancel(thread_id=thread.id, run_id=run.id)\n",
    "            break\n",
    "\n",
    "        tool_outputs = []\n",
    "        for tool_call in tool_calls:\n",
    "            if isinstance(tool_call, RequiredFunctionToolCall):\n",
    "                try:\n",
    "                    print(f\"Executing tool call: {tool_call}\")\n",
    "                    output = functions.execute(tool_call)\n",
    "                    tool_outputs.append(\n",
    "                        ToolOutput(\n",
    "                            tool_call_id=tool_call.id,\n",
    "                            output=output,\n",
    "                        )\n",
    "                    )\n",
    "                except Exception as e:\n",
    "                    print(f\"Error executing tool_call {tool_call.id}: {e}\")\n",
    "\n",
    "        if tool_outputs:\n",
    "            project_client.runs.submit_tool_outputs(thread_id=thread.id, run_id=run.id, tool_outputs=tool_outputs)"
   ]
  },
  {
   "cell_type": "code",
   "execution_count": 25,
   "id": "4072cd69",
   "metadata": {},
   "outputs": [
    {
     "name": "stdout",
     "output_type": "stream",
     "text": [
      "Start   : 2025-06-10 09:27:13+0000\n",
      "End     : 2025-06-10 09:27:18+0000\n",
      "Elapsed : 0:00:05  (5.00 seconds)\n"
     ]
    },
    {
     "data": {
      "text/plain": [
       "{'prompt_tokens': 1517, 'completion_tokens': 394, 'total_tokens': 1911, 'prompt_token_details': {'cached_tokens': 0}}"
      ]
     },
     "execution_count": 25,
     "metadata": {},
     "output_type": "execute_result"
    }
   ],
   "source": [
    "start   = run.started_at       \n",
    "end     = run.completed_at\n",
    "elapsed = end - start\n",
    "\n",
    "iso_fmt = \"%Y-%m-%d %H:%M:%S%z\"\n",
    "print(f\"Start   : {start.strftime(iso_fmt)}\")\n",
    "print(f\"End     : {end.strftime(iso_fmt)}\")\n",
    "print(f\"Elapsed : {elapsed}  \"\n",
    "      f\"({elapsed.total_seconds():.2f} seconds)\")\n",
    "\n",
    "run.usage"
   ]
  },
  {
   "cell_type": "code",
   "execution_count": 26,
   "id": "9dea493a",
   "metadata": {},
   "outputs": [
    {
     "name": "stdout",
     "output_type": "stream",
     "text": [
      "user: Generate a weather report for Rome. This report is for a blog publication. Add emojis and adopt a fun style.\n",
      "assistant: 🌞 Buongiorno, Rome lovers! Here's your weather dose from the Eternal City! 🇮🇹\n",
      "\n",
      "Today, Rome is basking in golden sunshine without a single cloud in sight ☀️ (yes, *0% cloud cover* folks, pure sky perfection!). With temperatures sitting at a delightful **27°C (80.6°F)** but feeling like a toasty **31.6°C (88.9°F)**, you're looking at classic summery Rome vibes. 🔥\n",
      "\n",
      "The West-Southwest breeze is keeping things relaxed at **10.7 km/h (6.6 mph)**, with a few cheeky gusts hitting **20.3 km/h (12.6 mph)**. Perfect to cool you off as you stroll past the Colosseum or indulge in some gelato! 🍦🍃\n",
      "\n",
      "**UV Index?** A sizzling 9 (!!)—that's \"Very High\"! 🕶️🧴 Don't forget your sunglasses and sunscreen to stay sun-safe while enjoying Rome’s cobblestone streets and iconic piazzas. \n",
      "\n",
      "**Humidity?** Moderate, at **55%**, so it's warm but not sticky—ideal for outdoor adventures, whether you're tossing coins at the Trevi Fountain or climbing the Spanish Steps. ⛲✨ \n",
      "\n",
      "**No rain here in the past 24 hours,** so leave those umbrellas at home. The air pressure is steady at **1018 mb**, promising stable and tranquil weather for the day. \n",
      "\n",
      "📍**Summary:** Rome's vibe today is sun-kissed and breezy, a perfect day to soak up all its charm! Go ahead and sip an espresso, catch the shadows of history at the Pantheon, or simply soak in the Italian dolce vita. 🇮🇹✨ \n",
      "\n",
      "Enjoy your sunny Roman adventure! ☀️🍝🍷\n"
     ]
    }
   ],
   "source": [
    "# Fetch and log all messages\n",
    "messages = project_client.messages.list(thread_id=thread.id, order=ListSortOrder.ASCENDING)\n",
    "for msg in messages:\n",
    "    if msg.text_messages:\n",
    "        last_text = msg.text_messages[-1]\n",
    "        print(f\"{msg.role}: {last_text.text.value}\")"
   ]
  },
  {
   "cell_type": "markdown",
   "id": "6d5f61ac-880e-4394-8e63-6feb8c740eb4",
   "metadata": {},
   "source": [
    "### Post processing"
   ]
  },
  {
   "cell_type": "code",
   "execution_count": 27,
   "id": "62ca0e0a-8b50-44b5-819d-a7c202c01314",
   "metadata": {},
   "outputs": [
    {
     "name": "stdout",
     "output_type": "stream",
     "text": [
      "Listing all agents in the project:\n",
      "Agent ID: asst_AtWIKCQ5eNmeipBttg6b5oQa, Name: gpt-4o-mini-weather-agent, Model: gpt-4o, Instructions: You are a weather bot. Use the provided functions to help answer questions.\n"
     ]
    }
   ],
   "source": [
    "# List all agents in the project\n",
    "print(\"Listing all agents in the project:\")\n",
    "agents = project_client.list_agents()\n",
    "\n",
    "for agent in agents:\n",
    "    print(f\"Agent ID: {agent.id}, Name: {agent.name}, Model: {agent.model}, Instructions: {agent.instructions}\")"
   ]
  },
  {
   "cell_type": "code",
   "execution_count": 28,
   "id": "d5166ae0-d017-4144-b3b6-8a5b9b8f484f",
   "metadata": {},
   "outputs": [],
   "source": [
    "#project_client.delete_agent(id1)\n",
    "#print(f\"Deleted agent, agent ID: {id1}\")"
   ]
  },
  {
   "cell_type": "code",
   "execution_count": null,
   "id": "17940e96-fccd-4b67-b165-d633f4201315",
   "metadata": {},
   "outputs": [],
   "source": []
  }
 ],
 "metadata": {
  "kernelspec": {
   "display_name": "Python 3.10 - SDK v2",
   "language": "python",
   "name": "python310-sdkv2"
  },
  "language_info": {
   "codemirror_mode": {
    "name": "ipython",
    "version": 3
   },
   "file_extension": ".py",
   "mimetype": "text/x-python",
   "name": "python",
   "nbconvert_exporter": "python",
   "pygments_lexer": "ipython3",
   "version": "3.10.14"
  },
  "varInspector": {
   "cols": {
    "lenName": 16,
    "lenType": 16,
    "lenVar": 40
   },
   "kernels_config": {
    "python": {
     "delete_cmd_postfix": "",
     "delete_cmd_prefix": "del ",
     "library": "var_list.py",
     "varRefreshCmd": "print(var_dic_list())"
    },
    "r": {
     "delete_cmd_postfix": ") ",
     "delete_cmd_prefix": "rm(",
     "library": "var_list.r",
     "varRefreshCmd": "cat(var_dic_list()) "
    }
   },
   "types_to_exclude": [
    "module",
    "function",
    "builtin_function_or_method",
    "instance",
    "_Feature"
   ],
   "window_display": false
  }
 },
 "nbformat": 4,
 "nbformat_minor": 5
}
