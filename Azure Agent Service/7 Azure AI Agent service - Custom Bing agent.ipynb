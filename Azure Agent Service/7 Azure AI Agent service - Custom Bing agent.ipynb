{
 "cells": [
  {
   "cell_type": "markdown",
   "id": "7c381577-53f4-40a8-b8fb-204825d67435",
   "metadata": {},
   "source": [
    "# Azure AI Agent service - Custom Bing integration\n",
    "\n",
    "<img src=\"https://learn.microsoft.com/en-us/azure/ai-services/agents/media/agent-service-the-glue.png\" width=800>\n",
    "\n",
    "> https://learn.microsoft.com/en-us/azure/ai-services/agents/"
   ]
  },
  {
   "cell_type": "code",
   "execution_count": 1,
   "id": "3eb3ce0f-8b69-4ede-accc-1d5e5442e1b4",
   "metadata": {},
   "outputs": [],
   "source": [
    "import datetime\n",
    "import os\n",
    "import sys\n",
    "import time\n",
    "\n",
    "from azure.ai.agents import AgentsClient\n",
    "from azure.identity import DefaultAzureCredential\n",
    "from azure.ai.agents.models import BingCustomSearchTool\n",
    "from azure.ai.agents.models import ListSortOrder\n",
    "from dotenv import load_dotenv"
   ]
  },
  {
   "cell_type": "code",
   "execution_count": 2,
   "id": "87c575a7-b64a-4737-a143-fa49b3d412df",
   "metadata": {},
   "outputs": [
    {
     "data": {
      "text/plain": [
       "'3.10.14 (main, May  6 2024, 19:42:50) [GCC 11.2.0]'"
      ]
     },
     "execution_count": 2,
     "metadata": {},
     "output_type": "execute_result"
    }
   ],
   "source": [
    "sys.version"
   ]
  },
  {
   "cell_type": "code",
   "execution_count": 3,
   "id": "c4f03689-58e5-446a-bdad-4ecb9c13e9d9",
   "metadata": {},
   "outputs": [
    {
     "name": "stdout",
     "output_type": "stream",
     "text": [
      "Today is 16-Jun-2025 14:07:19\n"
     ]
    }
   ],
   "source": [
    "print(f\"Today is {datetime.datetime.today().strftime('%d-%b-%Y %H:%M:%S')}\")"
   ]
  },
  {
   "cell_type": "markdown",
   "id": "c5c6a672-244f-4286-a175-55d379a5b461",
   "metadata": {},
   "source": [
    "## Settings"
   ]
  },
  {
   "cell_type": "code",
   "execution_count": 4,
   "id": "badf732f-fca3-4de3-9499-fe1a78b05c4c",
   "metadata": {},
   "outputs": [
    {
     "data": {
      "text/plain": [
       "True"
      ]
     },
     "execution_count": 4,
     "metadata": {},
     "output_type": "execute_result"
    }
   ],
   "source": [
    "load_dotenv(\"azure.env\")"
   ]
  },
  {
   "cell_type": "code",
   "execution_count": 5,
   "id": "09b731c3-fa6b-41bf-9b9f-e37d533d2a50",
   "metadata": {},
   "outputs": [],
   "source": [
    "BING_CUSTOM_CONN_ID = os.environ[\"BING_CUSTOM_CONN_ID\"]"
   ]
  },
  {
   "cell_type": "code",
   "execution_count": 6,
   "id": "cab2dc66-4874-4cd3-ad8e-9382cc65e00d",
   "metadata": {},
   "outputs": [],
   "source": [
    "project_client = AgentsClient(\n",
    "    endpoint=os.getenv(\"PROJECT_ENDPOINT\"),\n",
    "    credential=DefaultAzureCredential(),\n",
    ")"
   ]
  },
  {
   "cell_type": "markdown",
   "id": "e458c501-db52-447f-9a9f-21b60a540149",
   "metadata": {},
   "source": [
    "## Initialize Bing Custom Search tool with connection id and instance name"
   ]
  },
  {
   "cell_type": "code",
   "execution_count": 7,
   "id": "e3d109bc-caab-403a-8a8f-4dc48e5f6364",
   "metadata": {},
   "outputs": [],
   "source": [
    "instance_name = \"travel\"\n",
    "\n",
    "# Initialize Bing Custom Search tool with connection id and instance name\n",
    "bing_custom_tool = BingCustomSearchTool(connection_id=BING_CUSTOM_CONN_ID,\n",
    "                                        instance_name=instance_name)"
   ]
  },
  {
   "cell_type": "markdown",
   "id": "fdab6bdc-36bb-47ac-8a44-74049f44b728",
   "metadata": {},
   "source": [
    "Exemple of instance definition:"
   ]
  },
  {
   "cell_type": "markdown",
   "id": "ac1302ec-7e08-4803-ae20-7eb8978a3191",
   "metadata": {},
   "source": [
    "<img src=\"custom.jpg\">"
   ]
  },
  {
   "cell_type": "markdown",
   "id": "d0826a95-e3fb-4622-878c-d6f721a19398",
   "metadata": {},
   "source": [
    "## Agent creation"
   ]
  },
  {
   "cell_type": "code",
   "execution_count": 8,
   "id": "1e926762-c14d-41bc-8245-8fff16e0f56c",
   "metadata": {},
   "outputs": [
    {
     "name": "stdout",
     "output_type": "stream",
     "text": [
      "Created agent, ID: asst_oNmjwUSIbTIvrXMrdmFdkHPu\n"
     ]
    }
   ],
   "source": [
    "agent = project_client.create_agent(\n",
    "    model='gpt-4o',\n",
    "    name=\"travelplanneragent\",\n",
    "    instructions=\"You are a travel planner\",\n",
    "    tools=bing_custom_tool.definitions,\n",
    ")\n",
    "print(f\"Created agent, ID: {agent.id}\")"
   ]
  },
  {
   "cell_type": "markdown",
   "id": "7b847129-87b5-4231-b581-3902c30c7b10",
   "metadata": {},
   "source": [
    "## Examples"
   ]
  },
  {
   "cell_type": "code",
   "execution_count": 12,
   "id": "fc9dfb69-83c4-48f8-80ca-dda686e610d1",
   "metadata": {},
   "outputs": [],
   "source": [
    "prompt=\"List me the top 10 things to visit in Paris according to tripadvisor\""
   ]
  },
  {
   "cell_type": "code",
   "execution_count": 13,
   "id": "c759daa0-dd41-4485-a122-b4a47ae059e2",
   "metadata": {},
   "outputs": [
    {
     "name": "stdout",
     "output_type": "stream",
     "text": [
      "🧵 [1] Created thread | ID: thread_JHyOnZrbJCqP94fasf7qOMvv\n",
      "💬 [2] Created message | ID: msg_XD180rxvL1daNAZ5hLT2l8l2\n",
      "🏃 [3] Created run | ID: run_Qvupyefx5fvzrRGz9VYT9yaM\n",
      "⏳ [4] Polling run status...\n",
      "🔄 Status: in_progress\n",
      "🔄 Status: in_progress\n",
      "🔄 Status: in_progress\n",
      "🔄 Status: in_progress\n",
      "🔄 Status: completed\n",
      "\n",
      "🤖 [5] Agent responses:\n",
      "\u001b[1;34m\n",
      "💡 → List me the top 10 things to visit in Paris according to tripadvisor\n",
      "\u001b[1;34m\n",
      "💡 → According to TripAdvisor, the following are the top attractions to visit in Paris:\n",
      "\n",
      "1. **Eiffel Tower** - The iconic symbol of Paris offering stunning city views.\n",
      "2. **Louvre Museum** - The world-renowned museum, home of the Mona Lisa.\n",
      "3. **Cathédrale Notre-Dame de Paris** - A masterpiece of Gothic architecture, currently undergoing restoration.\n",
      "4. **Sacré-Cœur Basilica** - Located on Montmartre Hill, it provides panoramic views of Paris.\n",
      "5. **Musée d'Orsay** - Renowned for its collection of Impressionist masterpieces.\n",
      "6. **Arc de Triomphe** - A historic monument offering a beautiful vantage point of the city.\n",
      "7. **Palace of Versailles** - A UNESCO World Heritage Site known for its opulent palace and gardens.\n",
      "8. **Champs-Élysées & Arc de Triomphe** - The famous boulevard and surrounding sites.\n",
      "9. **Seine River Cruises** - A relaxing way to see many of Paris’s landmarks by boat.\n",
      "10. **Montmartre** - A vibrant district with artistic history, including stops like Sacré-Cœur and charming cafes.\n",
      "\n",
      "Make sure to check crowd and ticketing advice for a smoother visit【3:0†source】【3:2†source】【3:4†source】.\n",
      "\u001b[1;32m\n",
      "🔗 URL Citation: [THE 15 BEST Things to Do in Paris (2025) - Must-See Attractions](https://www.tripadvisor.com/Attractions-g187147-Activities-Paris_Ile_de_France.html)\n",
      "🔗 URL Citation: [Paris bucket list: 14 must-do experiences - Tripadvisor](https://www.tripadvisor.com/Articles-lQ6eVxEctwT8-Paris_bucket_list.html)\n",
      "🔗 URL Citation: [12 famous places in Paris to visit - Tripadvisor](https://www.tripadvisor.com/Articles-lEmq8iVSHsj8-Famous_places_in_paris.html)\n",
      "\u001b[0m\n"
     ]
    }
   ],
   "source": [
    "# Step 1: Create a thread\n",
    "thread = project_client.threads.create()\n",
    "print(f\"🧵 [1] Created thread | ID: {thread.id}\")\n",
    "\n",
    "# Step 2: Send the user's message\n",
    "message = project_client.messages.create(thread_id=thread.id,\n",
    "                                         role=\"user\",\n",
    "                                         content=prompt)\n",
    "print(f\"💬 [2] Created message | ID: {message.id}\")\n",
    "\n",
    "# Step 3: Start a run\n",
    "run = project_client.runs.create(thread_id=thread.id,\n",
    "                                 agent_id=agent.id)\n",
    "print(f\"🏃 [3] Created run | ID: {run.id}\")\n",
    "\n",
    "# Step 4: Poll run status\n",
    "print(\"⏳ [4] Polling run status...\")\n",
    "while run.status in {\"queued\", \"in_progress\", \"requires_action\"}:\n",
    "    time.sleep(1)\n",
    "    run = project_client.runs.get(thread_id=thread.id, run_id=run.id)\n",
    "    print(f\"🔄 Status: {run.status}\")\n",
    "\n",
    "    if run.status == \"failed\":\n",
    "        print(f\"❌ Run failed | Error: {run.last_error}\")\n",
    "        break\n",
    "\n",
    "# Step 5: Display agent responses\n",
    "print(\"\\n🤖 [5] Agent responses:\")\n",
    "messages = project_client.messages.list(thread_id=thread.id,\n",
    "                                        order=ListSortOrder.ASCENDING)\n",
    "\n",
    "for msg in messages:\n",
    "    print(\"\\033[1;34m\")  # Blue text for agent messages\n",
    "    if msg.text_messages:\n",
    "        for text_message in msg.text_messages:\n",
    "            print(f\"💡 → {text_message.text.value}\")\n",
    "    if msg.url_citation_annotations:\n",
    "        print(\"\\033[1;32m\")  # Green text for citations\n",
    "        for annotation in msg.url_citation_annotations:\n",
    "            print(\n",
    "                f\"🔗 URL Citation: [{annotation.url_citation.title}]({annotation.url_citation.url})\"\n",
    "            )\n",
    "\n",
    "print(\"\\033[0m\")  # Reset color"
   ]
  },
  {
   "cell_type": "code",
   "execution_count": 14,
   "id": "d427e625-06b2-4c8c-bc65-bbee5b10b485",
   "metadata": {},
   "outputs": [],
   "source": [
    "prompt=\"What are the best hotels in Paris according to social networks?\""
   ]
  },
  {
   "cell_type": "code",
   "execution_count": 15,
   "id": "9e4ede49-ffc9-42ac-b192-e2aa649f1d29",
   "metadata": {},
   "outputs": [
    {
     "name": "stdout",
     "output_type": "stream",
     "text": [
      "🧵 [1] Created thread | ID: thread_0SPnknFshjzr0UYox30XtFQf\n",
      "💬 [2] Created message | ID: msg_K81Lm4q6mpCojljs1WNuEhIb\n",
      "🏃 [3] Created run | ID: run_w7DX4CbP9ZgoEDOUHF5A6ifc\n",
      "⏳ [4] Polling run status...\n",
      "🔄 Status: in_progress\n",
      "🔄 Status: in_progress\n",
      "🔄 Status: in_progress\n",
      "🔄 Status: in_progress\n",
      "🔄 Status: completed\n",
      "\n",
      "🤖 [5] Agent responses:\n",
      "\u001b[1;34m\n",
      "💡 → What are the best hotels in Paris according to social networks?\n",
      "\u001b[1;34m\n",
      "💡 → Some of the best and highly recommended hotels in Paris, often praised on social media and review platforms in 2025, include:\n",
      "\n",
      "1. Hotel Le Bristol Paris - Known for combining Parisian elegance with modern luxury, it is a favorite for its dining and exceptional service.\n",
      "2. Hôtel Plaza Athénée - A legendary spot famous for its glamorous location and design.\n",
      "3. Shangri-La Hotel, Paris - Loved for its views of the Eiffel Tower and superior hospitality.\n",
      "4. La Réserve Paris - Hotel and Spa - Valued by travelers for its intimate, luxurious setting.\n",
      "5. Les Jardins Du Marais - Popular due to its charm and location in the Marais district.\n",
      "6. Hotel Keppler - Acclaimed for its boutique styling and proximity to Champs-Élysées【3:1†source】【3:2†source】.\n",
      "\n",
      "For more tailored options or availability, booking platforms or social media reviews can be insightful.\n",
      "\u001b[1;32m\n",
      "🔗 URL Citation: [THE 10 BEST Preferred Hotels & Resorts in Paris, France 2025 - Tripadvisor](https://www.tripadvisor.com/Hotels-g187147-zfb9645-Paris_Ile_de_France-Hotels.html)\n",
      "🔗 URL Citation: [THE 10 BEST Downtown Paris Hotels 2025 (with Prices) - Tripadvisor](https://www.tripadvisor.com/HotelsList-Paris-Downtown-Hotels-zfp706844.html)\n",
      "\u001b[0m\n"
     ]
    }
   ],
   "source": [
    "# Step 1: Create a thread\n",
    "thread = project_client.threads.create()\n",
    "print(f\"🧵 [1] Created thread | ID: {thread.id}\")\n",
    "\n",
    "# Step 2: Send the user's message\n",
    "message = project_client.messages.create(thread_id=thread.id,\n",
    "                                         role=\"user\",\n",
    "                                         content=prompt)\n",
    "print(f\"💬 [2] Created message | ID: {message.id}\")\n",
    "\n",
    "# Step 3: Start a run\n",
    "run = project_client.runs.create(thread_id=thread.id,\n",
    "                                 agent_id=agent.id)\n",
    "print(f\"🏃 [3] Created run | ID: {run.id}\")\n",
    "\n",
    "# Step 4: Poll run status\n",
    "print(\"⏳ [4] Polling run status...\")\n",
    "while run.status in {\"queued\", \"in_progress\", \"requires_action\"}:\n",
    "    time.sleep(1)\n",
    "    run = project_client.runs.get(thread_id=thread.id, run_id=run.id)\n",
    "    print(f\"🔄 Status: {run.status}\")\n",
    "\n",
    "    if run.status == \"failed\":\n",
    "        print(f\"❌ Run failed | Error: {run.last_error}\")\n",
    "        break\n",
    "\n",
    "# Step 5: Display agent responses\n",
    "print(\"\\n🤖 [5] Agent responses:\")\n",
    "messages = project_client.messages.list(thread_id=thread.id,\n",
    "                                        order=ListSortOrder.ASCENDING)\n",
    "\n",
    "for msg in messages:\n",
    "    print(\"\\033[1;34m\")  # Blue text for agent messages\n",
    "    if msg.text_messages:\n",
    "        for text_message in msg.text_messages:\n",
    "            print(f\"💡 → {text_message.text.value}\")\n",
    "    if msg.url_citation_annotations:\n",
    "        print(\"\\033[1;32m\")  # Green text for citations\n",
    "        for annotation in msg.url_citation_annotations:\n",
    "            print(\n",
    "                f\"🔗 URL Citation: [{annotation.url_citation.title}]({annotation.url_citation.url})\"\n",
    "            )\n",
    "\n",
    "print(\"\\033[0m\")  # Reset color"
   ]
  },
  {
   "cell_type": "code",
   "execution_count": 16,
   "id": "8ae7eb1b-0f27-49ba-b77a-81a12758f47c",
   "metadata": {},
   "outputs": [],
   "source": [
    "prompt = \"Find some flights from Nice to Paris\""
   ]
  },
  {
   "cell_type": "code",
   "execution_count": 17,
   "id": "8c1cb5a0-8f23-406b-990f-5e39c4b7b178",
   "metadata": {},
   "outputs": [
    {
     "name": "stdout",
     "output_type": "stream",
     "text": [
      "🧵 [1] Created thread | ID: thread_ptgYUWkoXylTnFzx39L3lvaE\n",
      "💬 [2] Created message | ID: msg_c8Jo3CAU559BR81dzmjm28k8\n",
      "🏃 [3] Created run | ID: run_aEZ8wH85w44S44FMWt7nm9OM\n",
      "⏳ [4] Polling run status...\n",
      "🔄 Status: in_progress\n",
      "🔄 Status: in_progress\n",
      "🔄 Status: in_progress\n",
      "🔄 Status: completed\n",
      "\n",
      "🤖 [5] Agent responses:\n",
      "\u001b[1;34m\n",
      "💡 → Find some flights from Nice to Paris\n",
      "\u001b[1;34m\n",
      "💡 → Several airlines operate flights from Nice to Paris, including Air France and easyJet. Direct flights from Nice Côte d'Azur Airport (NCE) to Paris are typically around 1.5 hours.\n",
      "\n",
      "**Airfare Examples**: \n",
      "- EasyJet offers fares starting at €85 for a direct round trip.\n",
      "- Air France provides flights starting from €129 with checked luggage【3:0†source】【3:2†source】.\n",
      "\n",
      "For booking, consider platforms like KAYAK or directly with airlines to find competitive rates suited to your preferred travel dates.\n",
      "\u001b[1;32m\n",
      "🔗 URL Citation: [CHEAP FLIGHTS FROM Nice, France to Paris, France (with Prices) [NCE ...](https://www.tripadvisor.com/Flights-g187147-o187234-Nice_to_Paris.html)\n",
      "🔗 URL Citation: [85€ Vols pas chers de Nice pour Paris (NCE - PAR) - KAYAK](https://www.kayak.fr/vols/Nice-Cote-d-Azur-NCE/Paris-PAR)\n",
      "\u001b[0m\n"
     ]
    }
   ],
   "source": [
    "# Step 1: Create a thread\n",
    "thread = project_client.threads.create()\n",
    "print(f\"🧵 [1] Created thread | ID: {thread.id}\")\n",
    "\n",
    "# Step 2: Send the user's message\n",
    "message = project_client.messages.create(thread_id=thread.id,\n",
    "                                         role=\"user\",\n",
    "                                         content=prompt)\n",
    "print(f\"💬 [2] Created message | ID: {message.id}\")\n",
    "\n",
    "# Step 3: Start a run\n",
    "run = project_client.runs.create(thread_id=thread.id,\n",
    "                                 agent_id=agent.id)\n",
    "print(f\"🏃 [3] Created run | ID: {run.id}\")\n",
    "\n",
    "# Step 4: Poll run status\n",
    "print(\"⏳ [4] Polling run status...\")\n",
    "while run.status in {\"queued\", \"in_progress\", \"requires_action\"}:\n",
    "    time.sleep(1)\n",
    "    run = project_client.runs.get(thread_id=thread.id, run_id=run.id)\n",
    "    print(f\"🔄 Status: {run.status}\")\n",
    "\n",
    "    if run.status == \"failed\":\n",
    "        print(f\"❌ Run failed | Error: {run.last_error}\")\n",
    "        break\n",
    "\n",
    "# Step 5: Display agent responses\n",
    "print(\"\\n🤖 [5] Agent responses:\")\n",
    "messages = project_client.messages.list(thread_id=thread.id,\n",
    "                                        order=ListSortOrder.ASCENDING)\n",
    "\n",
    "for msg in messages:\n",
    "    print(\"\\033[1;34m\")  # Blue text for agent messages\n",
    "    if msg.text_messages:\n",
    "        for text_message in msg.text_messages:\n",
    "            print(f\"💡 → {text_message.text.value}\")\n",
    "    if msg.url_citation_annotations:\n",
    "        print(\"\\033[1;32m\")  # Green text for citations\n",
    "        for annotation in msg.url_citation_annotations:\n",
    "            print(\n",
    "                f\"🔗 URL Citation: [{annotation.url_citation.title}]({annotation.url_citation.url})\"\n",
    "            )\n",
    "\n",
    "print(\"\\033[0m\")  # Reset color"
   ]
  },
  {
   "cell_type": "code",
   "execution_count": 20,
   "id": "fa820d10-6bff-44db-b93d-e471a3dec863",
   "metadata": {},
   "outputs": [],
   "source": [
    "prompt = \"Find some Air France flights from Nice to Paris\""
   ]
  },
  {
   "cell_type": "code",
   "execution_count": 21,
   "id": "e5495b26-93dc-4237-9aa3-1682ac4fe767",
   "metadata": {},
   "outputs": [
    {
     "name": "stdout",
     "output_type": "stream",
     "text": [
      "🧵 [1] Created thread | ID: thread_v6ZgLfuNcKzxfyZsV49jIHsj\n",
      "💬 [2] Created message | ID: msg_NyKOpGeamPUYOxCcb3twrVix\n",
      "🏃 [3] Created run | ID: run_5UjBh1Hl9EPTE1HKOuhNlXRY\n",
      "⏳ [4] Polling run status...\n",
      "🔄 Status: in_progress\n",
      "🔄 Status: in_progress\n",
      "🔄 Status: in_progress\n",
      "🔄 Status: in_progress\n",
      "🔄 Status: in_progress\n",
      "🔄 Status: in_progress\n",
      "🔄 Status: completed\n",
      "\n",
      "🤖 [5] Agent responses:\n",
      "\u001b[1;34m\n",
      "💡 → Find some Air France flights from Nice to Paris\n",
      "\u001b[1;34m\n",
      "💡 → You can book Air France flights from Nice to Paris with fares starting at approximately €132 for a round trip. Tickets are available on the Air France website, and flights are frequent between these destinations【3:0†source】. Let me know if you want assistance with specific dates or more details!\n",
      "\u001b[1;32m\n",
      "🔗 URL Citation: [Vol pas cher Nice Paris (NCE - PAR) | Air France - France](https://wwws.airfrance.fr/fr-fr/vols-de-nice-a-paris)\n",
      "\u001b[0m\n"
     ]
    }
   ],
   "source": [
    "# Step 1: Create a thread\n",
    "thread = project_client.threads.create()\n",
    "print(f\"🧵 [1] Created thread | ID: {thread.id}\")\n",
    "\n",
    "# Step 2: Send the user's message\n",
    "message = project_client.messages.create(thread_id=thread.id,\n",
    "                                         role=\"user\",\n",
    "                                         content=prompt)\n",
    "print(f\"💬 [2] Created message | ID: {message.id}\")\n",
    "\n",
    "# Step 3: Start a run\n",
    "run = project_client.runs.create(thread_id=thread.id,\n",
    "                                 agent_id=agent.id)\n",
    "print(f\"🏃 [3] Created run | ID: {run.id}\")\n",
    "\n",
    "# Step 4: Poll run status\n",
    "print(\"⏳ [4] Polling run status...\")\n",
    "while run.status in {\"queued\", \"in_progress\", \"requires_action\"}:\n",
    "    time.sleep(1)\n",
    "    run = project_client.runs.get(thread_id=thread.id, run_id=run.id)\n",
    "    print(f\"🔄 Status: {run.status}\")\n",
    "\n",
    "    if run.status == \"failed\":\n",
    "        print(f\"❌ Run failed | Error: {run.last_error}\")\n",
    "        break\n",
    "\n",
    "# Step 5: Display agent responses\n",
    "print(\"\\n🤖 [5] Agent responses:\")\n",
    "messages = project_client.messages.list(thread_id=thread.id,\n",
    "                                        order=ListSortOrder.ASCENDING)\n",
    "\n",
    "for msg in messages:\n",
    "    print(\"\\033[1;34m\")  # Blue text for agent messages\n",
    "    if msg.text_messages:\n",
    "        for text_message in msg.text_messages:\n",
    "            print(f\"💡 → {text_message.text.value}\")\n",
    "    if msg.url_citation_annotations:\n",
    "        print(\"\\033[1;32m\")  # Green text for citations\n",
    "        for annotation in msg.url_citation_annotations:\n",
    "            print(\n",
    "                f\"🔗 URL Citation: [{annotation.url_citation.title}]({annotation.url_citation.url})\"\n",
    "            )\n",
    "\n",
    "print(\"\\033[0m\")  # Reset color"
   ]
  },
  {
   "cell_type": "code",
   "execution_count": 22,
   "id": "c6cf898e-ace3-4d40-98ee-1ca12a05a3e6",
   "metadata": {},
   "outputs": [],
   "source": [
    "prompt = \"How to book a visit to the Eiffel tower?\""
   ]
  },
  {
   "cell_type": "code",
   "execution_count": 23,
   "id": "b53daf3e-fe30-4a8a-8d0f-2b77334f9dff",
   "metadata": {},
   "outputs": [
    {
     "name": "stdout",
     "output_type": "stream",
     "text": [
      "🧵 [1] Created thread | ID: thread_bThOXvQdgS8zsvYxPVswH08u\n",
      "💬 [2] Created message | ID: msg_WlWEYaXlMMHnG8KdpWfl1Lx9\n",
      "🏃 [3] Created run | ID: run_c9Q6zbmzlzazgjBaxYcF41hU\n",
      "⏳ [4] Polling run status...\n",
      "🔄 Status: in_progress\n",
      "🔄 Status: in_progress\n",
      "🔄 Status: in_progress\n",
      "🔄 Status: in_progress\n",
      "🔄 Status: completed\n",
      "\n",
      "🤖 [5] Agent responses:\n",
      "\u001b[1;34m\n",
      "💡 → How to book a visit to the Eiffel tower?\n",
      "\u001b[1;34m\n",
      "💡 → To book a visit to the Eiffel Tower, follow these steps:\n",
      "\n",
      "1. **Online Reservation**: Visit the Eiffel Tower's official website or third-party websites like GetYourGuide or TripAdvisor. Search for available tickets, as direct pre-reserved tickets avoid long queues.\n",
      "   \n",
      "2. **Choose Your Ticket Type**: Options include access to the second floor, summit, or guided tours. You can also find packages including complimentary activities like Seine river cruises.\n",
      "\n",
      "3. **Payment and Confirmation**: Complete your payment online. You’ll receive an email confirmation with your ticket.\n",
      "\n",
      "4. **Visit**: Bring your ticket for access (digital or printed) and arrive at the designated time. Note that security checks are conducted before entry.\n",
      "\n",
      "Booking in advance is recommended, especially during peak seasons, as tickets can sell out【3:0†source】【3:1†source】【3:4†source】.\n",
      "\u001b[1;32m\n",
      "🔗 URL Citation: [Eiffel Tower: Ticket to Summit or 2nd Floor by Elevator](https://www.getyourguide.com/paris-l16/eiffel-tower-ticket-to-summit-or-2nd-floor-by-elevator-t889406/)\n",
      "🔗 URL Citation: [Eiffel Tower Visit - Paris Forum - Tripadvisor](https://www.tripadvisor.com/ShowTopic-g187147-i14-k15348251-Eiffel_Tower_Visit-Paris_Ile_de_France.html)\n",
      "🔗 URL Citation: [Eiffel Tower Summit Direct Entry Ticket & Guidebook - Tripadvisor](https://www.tripadvisor.com/AttractionProductReview-g187147-d32714275-Eiffel_Tower_Summit_Direct_Entry_Ticket_Guidebook-Paris_Ile_de_France.html)\n",
      "\u001b[0m\n"
     ]
    }
   ],
   "source": [
    "# Step 1: Create a thread\n",
    "thread = project_client.threads.create()\n",
    "print(f\"🧵 [1] Created thread | ID: {thread.id}\")\n",
    "\n",
    "# Step 2: Send the user's message\n",
    "message = project_client.messages.create(thread_id=thread.id,\n",
    "                                         role=\"user\",\n",
    "                                         content=prompt)\n",
    "print(f\"💬 [2] Created message | ID: {message.id}\")\n",
    "\n",
    "# Step 3: Start a run\n",
    "run = project_client.runs.create(thread_id=thread.id,\n",
    "                                 agent_id=agent.id)\n",
    "print(f\"🏃 [3] Created run | ID: {run.id}\")\n",
    "\n",
    "# Step 4: Poll run status\n",
    "print(\"⏳ [4] Polling run status...\")\n",
    "while run.status in {\"queued\", \"in_progress\", \"requires_action\"}:\n",
    "    time.sleep(1)\n",
    "    run = project_client.runs.get(thread_id=thread.id, run_id=run.id)\n",
    "    print(f\"🔄 Status: {run.status}\")\n",
    "\n",
    "    if run.status == \"failed\":\n",
    "        print(f\"❌ Run failed | Error: {run.last_error}\")\n",
    "        break\n",
    "\n",
    "# Step 5: Display agent responses\n",
    "print(\"\\n🤖 [5] Agent responses:\")\n",
    "messages = project_client.messages.list(thread_id=thread.id,\n",
    "                                        order=ListSortOrder.ASCENDING)\n",
    "\n",
    "for msg in messages:\n",
    "    print(\"\\033[1;34m\")  # Blue text for agent messages\n",
    "    if msg.text_messages:\n",
    "        for text_message in msg.text_messages:\n",
    "            print(f\"💡 → {text_message.text.value}\")\n",
    "    if msg.url_citation_annotations:\n",
    "        print(\"\\033[1;32m\")  # Green text for citations\n",
    "        for annotation in msg.url_citation_annotations:\n",
    "            print(\n",
    "                f\"🔗 URL Citation: [{annotation.url_citation.title}]({annotation.url_citation.url})\"\n",
    "            )\n",
    "\n",
    "print(\"\\033[0m\")  # Reset color"
   ]
  },
  {
   "cell_type": "markdown",
   "id": "0d0e22a3-45d0-474c-b9d5-ec60a54c5323",
   "metadata": {},
   "source": [
    "## Post processing"
   ]
  },
  {
   "cell_type": "code",
   "execution_count": 24,
   "id": "32d52e44-2120-4926-9e35-3d4732cf93ef",
   "metadata": {},
   "outputs": [
    {
     "name": "stdout",
     "output_type": "stream",
     "text": [
      "Agent ID: asst_oNmjwUSIbTIvrXMrdmFdkHPu, Name: travelplanneragent, Model: gpt-4o, \n",
      "Instructions: You are a travel planner\n"
     ]
    }
   ],
   "source": [
    "print(f\"Agent ID: {agent.id}, Name: {agent.name}, Model: {agent.model}, \\nInstructions: {agent.instructions}\")"
   ]
  },
  {
   "cell_type": "code",
   "execution_count": 25,
   "id": "80bdf657-06c7-4317-994d-f148d9427003",
   "metadata": {},
   "outputs": [
    {
     "name": "stdout",
     "output_type": "stream",
     "text": [
      "Deleting the agent we have created...\n",
      "Deleted agent, agent ID: asst_oNmjwUSIbTIvrXMrdmFdkHPu\n",
      "Done\n"
     ]
    }
   ],
   "source": [
    "print(\"Deleting the agent we have created...\")\n",
    "project_client.delete_agent(agent.id)\n",
    "print(f\"Deleted agent, agent ID: {agent.id}\")\n",
    "print(\"Done\")"
   ]
  },
  {
   "cell_type": "code",
   "execution_count": null,
   "id": "0bf92abb-da70-4d98-a0c5-8379b4235594",
   "metadata": {},
   "outputs": [],
   "source": []
  }
 ],
 "metadata": {
  "kernelspec": {
   "display_name": "Python 3.10 - SDK v2",
   "language": "python",
   "name": "python310-sdkv2"
  },
  "language_info": {
   "codemirror_mode": {
    "name": "ipython",
    "version": 3
   },
   "file_extension": ".py",
   "mimetype": "text/x-python",
   "name": "python",
   "nbconvert_exporter": "python",
   "pygments_lexer": "ipython3",
   "version": "3.10.14"
  },
  "varInspector": {
   "cols": {
    "lenName": 16,
    "lenType": 16,
    "lenVar": 40
   },
   "kernels_config": {
    "python": {
     "delete_cmd_postfix": "",
     "delete_cmd_prefix": "del ",
     "library": "var_list.py",
     "varRefreshCmd": "print(var_dic_list())"
    },
    "r": {
     "delete_cmd_postfix": ") ",
     "delete_cmd_prefix": "rm(",
     "library": "var_list.r",
     "varRefreshCmd": "cat(var_dic_list()) "
    }
   },
   "types_to_exclude": [
    "module",
    "function",
    "builtin_function_or_method",
    "instance",
    "_Feature"
   ],
   "window_display": false
  }
 },
 "nbformat": 4,
 "nbformat_minor": 5
}
