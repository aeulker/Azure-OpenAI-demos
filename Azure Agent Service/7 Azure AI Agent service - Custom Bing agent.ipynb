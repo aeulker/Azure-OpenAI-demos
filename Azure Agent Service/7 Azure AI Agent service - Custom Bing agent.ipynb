{
 "cells": [
  {
   "cell_type": "markdown",
   "id": "7c381577-53f4-40a8-b8fb-204825d67435",
   "metadata": {},
   "source": [
    "# Azure AI Agent service - Custom Bing integration\n",
    "\n",
    "<img src=\"https://learn.microsoft.com/en-us/azure/ai-services/agents/media/agent-service-the-glue.png\" width=800>\n",
    "\n",
    "> https://learn.microsoft.com/en-us/azure/ai-services/agents/"
   ]
  },
  {
   "cell_type": "code",
   "execution_count": 1,
   "id": "3eb3ce0f-8b69-4ede-accc-1d5e5442e1b4",
   "metadata": {},
   "outputs": [],
   "source": [
    "import datetime\n",
    "import os\n",
    "import sys\n",
    "import time\n",
    "\n",
    "from azure.ai.agents import AgentsClient\n",
    "from azure.identity import DefaultAzureCredential\n",
    "from azure.ai.agents.models import BingCustomSearchTool\n",
    "from azure.ai.agents.models import ListSortOrder\n",
    "from dotenv import load_dotenv"
   ]
  },
  {
   "cell_type": "code",
   "execution_count": 2,
   "id": "87c575a7-b64a-4737-a143-fa49b3d412df",
   "metadata": {},
   "outputs": [
    {
     "data": {
      "text/plain": [
       "'3.10.14 (main, May  6 2024, 19:42:50) [GCC 11.2.0]'"
      ]
     },
     "execution_count": 2,
     "metadata": {},
     "output_type": "execute_result"
    }
   ],
   "source": [
    "sys.version"
   ]
  },
  {
   "cell_type": "code",
   "execution_count": 3,
   "id": "c4f03689-58e5-446a-bdad-4ecb9c13e9d9",
   "metadata": {},
   "outputs": [
    {
     "name": "stdout",
     "output_type": "stream",
     "text": [
      "Today is 16-Jun-2025 15:07:57\n"
     ]
    }
   ],
   "source": [
    "print(f\"Today is {datetime.datetime.today().strftime('%d-%b-%Y %H:%M:%S')}\")"
   ]
  },
  {
   "cell_type": "markdown",
   "id": "c5c6a672-244f-4286-a175-55d379a5b461",
   "metadata": {},
   "source": [
    "## Settings"
   ]
  },
  {
   "cell_type": "code",
   "execution_count": 4,
   "id": "badf732f-fca3-4de3-9499-fe1a78b05c4c",
   "metadata": {},
   "outputs": [
    {
     "data": {
      "text/plain": [
       "True"
      ]
     },
     "execution_count": 4,
     "metadata": {},
     "output_type": "execute_result"
    }
   ],
   "source": [
    "load_dotenv(\"azure.env\")"
   ]
  },
  {
   "cell_type": "code",
   "execution_count": 5,
   "id": "09b731c3-fa6b-41bf-9b9f-e37d533d2a50",
   "metadata": {},
   "outputs": [],
   "source": [
    "BING_CUSTOM_CONN_ID = os.environ[\"BING_CUSTOM_CONN_ID\"]"
   ]
  },
  {
   "cell_type": "code",
   "execution_count": 6,
   "id": "cab2dc66-4874-4cd3-ad8e-9382cc65e00d",
   "metadata": {},
   "outputs": [],
   "source": [
    "project_client = AgentsClient(\n",
    "    endpoint=os.getenv(\"PROJECT_ENDPOINT\"),\n",
    "    credential=DefaultAzureCredential(),\n",
    ")"
   ]
  },
  {
   "cell_type": "markdown",
   "id": "e458c501-db52-447f-9a9f-21b60a540149",
   "metadata": {},
   "source": [
    "## Initialize Bing Custom Search tool with connection id and instance name"
   ]
  },
  {
   "cell_type": "code",
   "execution_count": 7,
   "id": "e3d109bc-caab-403a-8a8f-4dc48e5f6364",
   "metadata": {},
   "outputs": [],
   "source": [
    "instance_name = \"travel\"\n",
    "\n",
    "# Initialize Bing Custom Search tool with connection id and instance name\n",
    "bing_custom_tool = BingCustomSearchTool(connection_id=BING_CUSTOM_CONN_ID,\n",
    "                                        instance_name=instance_name)"
   ]
  },
  {
   "cell_type": "markdown",
   "id": "fdab6bdc-36bb-47ac-8a44-74049f44b728",
   "metadata": {},
   "source": [
    "Exemple of instance definition:"
   ]
  },
  {
   "cell_type": "markdown",
   "id": "ac1302ec-7e08-4803-ae20-7eb8978a3191",
   "metadata": {},
   "source": [
    "<img src=\"custom.jpg\">"
   ]
  },
  {
   "cell_type": "markdown",
   "id": "d0826a95-e3fb-4622-878c-d6f721a19398",
   "metadata": {},
   "source": [
    "## Agent creation"
   ]
  },
  {
   "cell_type": "code",
   "execution_count": 8,
   "id": "1e926762-c14d-41bc-8245-8fff16e0f56c",
   "metadata": {},
   "outputs": [
    {
     "name": "stdout",
     "output_type": "stream",
     "text": [
      "Created agent, ID: asst_kwWeTJ4gwB5Pl3hU6CWRtUGt\n"
     ]
    }
   ],
   "source": [
    "agent = project_client.create_agent(\n",
    "    model='gpt-4o',\n",
    "    name=\"travel-planner-agent\",\n",
    "    instructions=\"You are a travel planner dedicated to helping visitors discover top attractions, find the best hotels and restaurants, explore must-see sights, book flight tickets, and navigate public transportation with ease.\",\n",
    "    tools=bing_custom_tool.definitions,\n",
    "    description=\"Travel planner\"\n",
    ")\n",
    "print(f\"Created agent, ID: {agent.id}\")"
   ]
  },
  {
   "cell_type": "markdown",
   "id": "7b847129-87b5-4231-b581-3902c30c7b10",
   "metadata": {},
   "source": [
    "## Examples"
   ]
  },
  {
   "cell_type": "code",
   "execution_count": 9,
   "id": "fc9dfb69-83c4-48f8-80ca-dda686e610d1",
   "metadata": {},
   "outputs": [],
   "source": [
    "prompt=\"List me the top 10 things to visit in Milan according to tripadvisor\""
   ]
  },
  {
   "cell_type": "code",
   "execution_count": 10,
   "id": "c759daa0-dd41-4485-a122-b4a47ae059e2",
   "metadata": {},
   "outputs": [
    {
     "name": "stdout",
     "output_type": "stream",
     "text": [
      "🧵 [1] Created thread | ID: thread_oNBNYWaLIPrWzKzF7Y8hAOEh\n",
      "💬 [2] Created message | ID: msg_Equ7A2jSbxW0bC5U6UGfqZhl\n",
      "🏃 [3] Created run | ID: run_mIcDnpsMepPpM7U9BhUPuGa2\n",
      "⏳ [4] Polling run status...\n",
      "🔄 Status: in_progress\n",
      "🔄 Status: in_progress\n",
      "🔄 Status: in_progress\n",
      "🔄 Status: completed\n",
      "\n",
      "🤖 [5] Agent responses:\n",
      "\u001b[1;34m\n",
      "💡 → List me the top 10 things to visit in Milan according to tripadvisor\n",
      "\u001b[1;34m\n",
      "💡 → Here are the top 10 attractions in Milan according to Tripadvisor:\n",
      "\n",
      "1. **Duomo di Milano** - Iconic Gothic cathedral with intricate architecture.\n",
      "2. **Galleria Vittorio Emanuele II** - Luxury 19th-century shopping arcade.\n",
      "3. **Il Cenacolo (Leonardo’s Last Supper)** - Home to the famous mural by Leonardo da Vinci.\n",
      "4. **Castello Sforzesco** - Renaissance fortress housing museums.\n",
      "5. **I Navigli** - Historic canals area with lively nightlife.\n",
      "6. **Piazza del Duomo** - A bustling square featuring the Duomo.\n",
      "7. **Terrazze del Duomo** - Rooftop of the cathedral with stunning city views.\n",
      "8. **Chiesa di San Maurizio al Monastero Maggiore** - Known as Milan's \"Sistine Chapel.\"\n",
      "9. **Brera District** - Vibrant neighborhood with boutiques, restaurants, and art galleries.\n",
      "10. **Santa Maria delle Grazie** - A historic church showcasing Renaissance architecture【3:0†source】【3:2†source】.\n",
      "\n",
      "Enjoy exploring the beautiful city!\n",
      "\u001b[1;32m\n",
      "🔗 URL Citation: [THE 15 BEST Things to Do in Milan (2025) - Tripadvisor](https://www.tripadvisor.com/Attractions-g187849-Activities-Milan_Lombardy.html)\n",
      "🔗 URL Citation: [THE 10 BEST Milan Sights & Historical Landmarks - Tripadvisor](https://www.tripadvisor.com/Attractions-g187849-Activities-c47-Milan_Lombardy.html)\n",
      "\u001b[0m\n"
     ]
    }
   ],
   "source": [
    "# Step 1: Create a thread\n",
    "thread = project_client.threads.create()\n",
    "print(f\"🧵 [1] Created thread | ID: {thread.id}\")\n",
    "\n",
    "# Step 2: Send the user's message\n",
    "message = project_client.messages.create(thread_id=thread.id,\n",
    "                                         role=\"user\",\n",
    "                                         content=prompt)\n",
    "print(f\"💬 [2] Created message | ID: {message.id}\")\n",
    "\n",
    "# Step 3: Start a run\n",
    "run = project_client.runs.create(thread_id=thread.id,\n",
    "                                 agent_id=agent.id)\n",
    "print(f\"🏃 [3] Created run | ID: {run.id}\")\n",
    "\n",
    "# Step 4: Poll run status\n",
    "print(\"⏳ [4] Polling run status...\")\n",
    "while run.status in {\"queued\", \"in_progress\", \"requires_action\"}:\n",
    "    time.sleep(1)\n",
    "    run = project_client.runs.get(thread_id=thread.id, run_id=run.id)\n",
    "    print(f\"🔄 Status: {run.status}\")\n",
    "\n",
    "    if run.status == \"failed\":\n",
    "        print(f\"❌ Run failed | Error: {run.last_error}\")\n",
    "        break\n",
    "\n",
    "# Step 5: Display agent responses\n",
    "print(\"\\n🤖 [5] Agent responses:\")\n",
    "messages = project_client.messages.list(thread_id=thread.id,\n",
    "                                        order=ListSortOrder.ASCENDING)\n",
    "\n",
    "for msg in messages:\n",
    "    print(\"\\033[1;34m\")  # Blue text for agent messages\n",
    "    if msg.text_messages:\n",
    "        for text_message in msg.text_messages:\n",
    "            print(f\"💡 → {text_message.text.value}\")\n",
    "    if msg.url_citation_annotations:\n",
    "        print(\"\\033[1;32m\")  # Green text for citations\n",
    "        for annotation in msg.url_citation_annotations:\n",
    "            print(\n",
    "                f\"🔗 URL Citation: [{annotation.url_citation.title}]({annotation.url_citation.url})\"\n",
    "            )\n",
    "\n",
    "print(\"\\033[0m\")  # Reset color"
   ]
  },
  {
   "cell_type": "code",
   "execution_count": 11,
   "id": "d427e625-06b2-4c8c-bc65-bbee5b10b485",
   "metadata": {},
   "outputs": [],
   "source": [
    "prompt=\"What are the best hotels in Milan according to social networks?\""
   ]
  },
  {
   "cell_type": "code",
   "execution_count": 12,
   "id": "9e4ede49-ffc9-42ac-b192-e2aa649f1d29",
   "metadata": {},
   "outputs": [
    {
     "name": "stdout",
     "output_type": "stream",
     "text": [
      "🧵 [1] Created thread | ID: thread_V3FOQxUawqZ960EL07HzyYXY\n",
      "💬 [2] Created message | ID: msg_aG0AHZPtaB8cbJwobYt4TTEU\n",
      "🏃 [3] Created run | ID: run_ZtlIbwsB0Kg7WxfeDqr1puGx\n",
      "⏳ [4] Polling run status...\n",
      "🔄 Status: in_progress\n",
      "🔄 Status: in_progress\n",
      "🔄 Status: in_progress\n",
      "🔄 Status: completed\n",
      "\n",
      "🤖 [5] Agent responses:\n",
      "\u001b[1;34m\n",
      "💡 → What are the best hotels in Milan according to social networks?\n",
      "\u001b[1;34m\n",
      "💡 → Some of the highly-rated hotels in Milan, according to reviews on social networks and traveler opinions include:\n",
      "\n",
      "1. Mandarin Oriental, Milano - Known for its luxury and exceptional service.\n",
      "2. Room Mate Giulia - A popular design-focused boutique hotel near the Duomo.\n",
      "3. Château Monfort - Offering a fairytale-like luxury experience.\n",
      "4. Park Hyatt Milano - Renowned for its central location and elegant ambiance.\n",
      "5. Portrait Milano - A recently acclaimed hotel with trendy design and modern amenities【3:0†source】【3:2†source】【3:4†source】.\n",
      "\n",
      "These hotels consistently receive positive feedback about their central location, refined interiors, and excellent hospitality services.\n",
      "\u001b[1;32m\n",
      "🔗 URL Citation: [THE 10 BEST Hotels in Milan, Italy 2025 (from $80) - Tripadvisor](https://www.tripadvisor.com/Hotels-g187849-Milan_Lombardy-Hotels.html)\n",
      "🔗 URL Citation: [THE 10 BEST Milan 5 Star Hotels 2025 (with Prices) - Tripadvisor](https://www.tripadvisor.com/Hotels-g187849-zfc5-Milan_Lombardy-Hotels.html)\n",
      "🔗 URL Citation: [THE 10 BEST Downtown Milan Hotels 2025 (with Prices) - Tripadvisor](https://www.tripadvisor.com/HotelsList-Milan-Downtown-Hotels-zfp12955.html)\n",
      "\u001b[0m\n"
     ]
    }
   ],
   "source": [
    "# Step 1: Create a thread\n",
    "thread = project_client.threads.create()\n",
    "print(f\"🧵 [1] Created thread | ID: {thread.id}\")\n",
    "\n",
    "# Step 2: Send the user's message\n",
    "message = project_client.messages.create(thread_id=thread.id,\n",
    "                                         role=\"user\",\n",
    "                                         content=prompt)\n",
    "print(f\"💬 [2] Created message | ID: {message.id}\")\n",
    "\n",
    "# Step 3: Start a run\n",
    "run = project_client.runs.create(thread_id=thread.id,\n",
    "                                 agent_id=agent.id)\n",
    "print(f\"🏃 [3] Created run | ID: {run.id}\")\n",
    "\n",
    "# Step 4: Poll run status\n",
    "print(\"⏳ [4] Polling run status...\")\n",
    "while run.status in {\"queued\", \"in_progress\", \"requires_action\"}:\n",
    "    time.sleep(1)\n",
    "    run = project_client.runs.get(thread_id=thread.id, run_id=run.id)\n",
    "    print(f\"🔄 Status: {run.status}\")\n",
    "\n",
    "    if run.status == \"failed\":\n",
    "        print(f\"❌ Run failed | Error: {run.last_error}\")\n",
    "        break\n",
    "\n",
    "# Step 5: Display agent responses\n",
    "print(\"\\n🤖 [5] Agent responses:\")\n",
    "messages = project_client.messages.list(thread_id=thread.id,\n",
    "                                        order=ListSortOrder.ASCENDING)\n",
    "\n",
    "for msg in messages:\n",
    "    print(\"\\033[1;34m\")  # Blue text for agent messages\n",
    "    if msg.text_messages:\n",
    "        for text_message in msg.text_messages:\n",
    "            print(f\"💡 → {text_message.text.value}\")\n",
    "    if msg.url_citation_annotations:\n",
    "        print(\"\\033[1;32m\")  # Green text for citations\n",
    "        for annotation in msg.url_citation_annotations:\n",
    "            print(\n",
    "                f\"🔗 URL Citation: [{annotation.url_citation.title}]({annotation.url_citation.url})\"\n",
    "            )\n",
    "\n",
    "print(\"\\033[0m\")  # Reset color"
   ]
  },
  {
   "cell_type": "code",
   "execution_count": 13,
   "id": "8ae7eb1b-0f27-49ba-b77a-81a12758f47c",
   "metadata": {},
   "outputs": [],
   "source": [
    "prompt = \"Find some flights from Paris to Milan\""
   ]
  },
  {
   "cell_type": "code",
   "execution_count": 14,
   "id": "8c1cb5a0-8f23-406b-990f-5e39c4b7b178",
   "metadata": {},
   "outputs": [
    {
     "name": "stdout",
     "output_type": "stream",
     "text": [
      "🧵 [1] Created thread | ID: thread_2FYTEKBzSPKFuEX8v6Qw5GUO\n",
      "💬 [2] Created message | ID: msg_WARFJc3GBziXBBfPPgHP1YAi\n",
      "🏃 [3] Created run | ID: run_r3NgUVQFU9JGVMcpk3t29Bj2\n",
      "⏳ [4] Polling run status...\n",
      "🔄 Status: in_progress\n",
      "🔄 Status: in_progress\n",
      "🔄 Status: in_progress\n",
      "🔄 Status: completed\n",
      "\n",
      "🤖 [5] Agent responses:\n",
      "\u001b[1;34m\n",
      "💡 → Find some flights from Paris to Milan\n",
      "\u001b[1;34m\n",
      "💡 → Here are some flight options from Paris (PAR) to Milan (MIL):\n",
      "\n",
      "1. **Ryanair**:\n",
      "   - From €19 one-way.\n",
      "   - Departs from Paris-Beauvais Airport (BVA) to Milan-Bergamo (BGY).\n",
      "   - Flight duration: Approximately 1 hour 35 minutes.\n",
      "\n",
      "2. **easyJet**:\n",
      "   - From €42 one-way.\n",
      "   - Departs from Paris-Orly (ORY) to Milan-Malpensa (MXP).\n",
      "   - Duration: About 1 hour 30 minutes.\n",
      "\n",
      "3. **Air France**:\n",
      "   - From €94 one-way.\n",
      "   - Departs Paris-Charles de Gaulle (CDG) to Milan-Linate (LIN).\n",
      "   - Duration: About 1 hour 25 minutes.\n",
      "\n",
      "These prices depend on your travel dates and booking timing. For the most accurate and updated information, it is suggested to confirm availability and rates directly through the airline or a flight booking site like KAYAK or Air France's official platform【3:1†source】【3:4†source】.\n",
      "\u001b[1;32m\n",
      "🔗 URL Citation: [25€ Vols pas chers de Paris pour Milan (PAR - MIL) - KAYAK](https://www.kayak.fr/vols/Paris-PAR/Milan-MIL)\n",
      "🔗 URL Citation: [Vols Air France pour Milan (MIL) dès 92 € | KAYAK](https://www.kayak.fr/vols/Air-France-France-FR0/Milan-MIL.b.AF.ksp)\n",
      "\u001b[0m\n"
     ]
    }
   ],
   "source": [
    "# Step 1: Create a thread\n",
    "thread = project_client.threads.create()\n",
    "print(f\"🧵 [1] Created thread | ID: {thread.id}\")\n",
    "\n",
    "# Step 2: Send the user's message\n",
    "message = project_client.messages.create(thread_id=thread.id,\n",
    "                                         role=\"user\",\n",
    "                                         content=prompt)\n",
    "print(f\"💬 [2] Created message | ID: {message.id}\")\n",
    "\n",
    "# Step 3: Start a run\n",
    "run = project_client.runs.create(thread_id=thread.id,\n",
    "                                 agent_id=agent.id)\n",
    "print(f\"🏃 [3] Created run | ID: {run.id}\")\n",
    "\n",
    "# Step 4: Poll run status\n",
    "print(\"⏳ [4] Polling run status...\")\n",
    "while run.status in {\"queued\", \"in_progress\", \"requires_action\"}:\n",
    "    time.sleep(1)\n",
    "    run = project_client.runs.get(thread_id=thread.id, run_id=run.id)\n",
    "    print(f\"🔄 Status: {run.status}\")\n",
    "\n",
    "    if run.status == \"failed\":\n",
    "        print(f\"❌ Run failed | Error: {run.last_error}\")\n",
    "        break\n",
    "\n",
    "# Step 5: Display agent responses\n",
    "print(\"\\n🤖 [5] Agent responses:\")\n",
    "messages = project_client.messages.list(thread_id=thread.id,\n",
    "                                        order=ListSortOrder.ASCENDING)\n",
    "\n",
    "for msg in messages:\n",
    "    print(\"\\033[1;34m\")  # Blue text for agent messages\n",
    "    if msg.text_messages:\n",
    "        for text_message in msg.text_messages:\n",
    "            print(f\"💡 → {text_message.text.value}\")\n",
    "    if msg.url_citation_annotations:\n",
    "        print(\"\\033[1;32m\")  # Green text for citations\n",
    "        for annotation in msg.url_citation_annotations:\n",
    "            print(\n",
    "                f\"🔗 URL Citation: [{annotation.url_citation.title}]({annotation.url_citation.url})\"\n",
    "            )\n",
    "\n",
    "print(\"\\033[0m\")  # Reset color"
   ]
  },
  {
   "cell_type": "markdown",
   "id": "0d0e22a3-45d0-474c-b9d5-ec60a54c5323",
   "metadata": {},
   "source": [
    "## Post processing"
   ]
  },
  {
   "cell_type": "code",
   "execution_count": 15,
   "id": "32d52e44-2120-4926-9e35-3d4732cf93ef",
   "metadata": {},
   "outputs": [
    {
     "name": "stdout",
     "output_type": "stream",
     "text": [
      "Agent Details:\n",
      "📛 Name        : travel-planner-agent\n",
      "🆔 ID          : asst_kwWeTJ4gwB5Pl3hU6CWRtUGt\n",
      "🧠 Model       : gpt-4o\n",
      "📜 Instructions: You are a travel planner dedicated to helping visitors discover top attractions, find the best hotels and restaurants, explore must-see sights, book flight tickets, and navigate public transportation with ease.\n"
     ]
    }
   ],
   "source": [
    "print(\n",
    "    f\"Agent Details:\\n\"\n",
    "    f\"📛 Name        : {agent.name}\\n\"\n",
    "    f\"🆔 ID          : {agent.id}\\n\"\n",
    "    f\"🧠 Model       : {agent.model}\\n\"\n",
    "    f\"📜 Instructions: {agent.instructions}\"\n",
    ")"
   ]
  },
  {
   "cell_type": "code",
   "execution_count": 16,
   "id": "80bdf657-06c7-4317-994d-f148d9427003",
   "metadata": {},
   "outputs": [],
   "source": [
    "#print(\"Deleting the agent we have created...\")\n",
    "#project_client.delete_agent(agent.id)\n",
    "#print(f\"Deleted agent, agent ID: {agent.id}\")\n",
    "#print(\"Done\")"
   ]
  },
  {
   "cell_type": "code",
   "execution_count": null,
   "id": "0bf92abb-da70-4d98-a0c5-8379b4235594",
   "metadata": {},
   "outputs": [],
   "source": []
  }
 ],
 "metadata": {
  "kernelspec": {
   "display_name": "Python 3.10 - SDK v2",
   "language": "python",
   "name": "python310-sdkv2"
  },
  "language_info": {
   "codemirror_mode": {
    "name": "ipython",
    "version": 3
   },
   "file_extension": ".py",
   "mimetype": "text/x-python",
   "name": "python",
   "nbconvert_exporter": "python",
   "pygments_lexer": "ipython3",
   "version": "3.10.14"
  },
  "varInspector": {
   "cols": {
    "lenName": 16,
    "lenType": 16,
    "lenVar": 40
   },
   "kernels_config": {
    "python": {
     "delete_cmd_postfix": "",
     "delete_cmd_prefix": "del ",
     "library": "var_list.py",
     "varRefreshCmd": "print(var_dic_list())"
    },
    "r": {
     "delete_cmd_postfix": ") ",
     "delete_cmd_prefix": "rm(",
     "library": "var_list.r",
     "varRefreshCmd": "cat(var_dic_list()) "
    }
   },
   "types_to_exclude": [
    "module",
    "function",
    "builtin_function_or_method",
    "instance",
    "_Feature"
   ],
   "window_display": false
  }
 },
 "nbformat": 4,
 "nbformat_minor": 5
}
