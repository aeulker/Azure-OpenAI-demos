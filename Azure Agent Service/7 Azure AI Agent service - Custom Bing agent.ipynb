{
 "cells": [
  {
   "cell_type": "markdown",
   "id": "7c381577-53f4-40a8-b8fb-204825d67435",
   "metadata": {},
   "source": [
    "# Azure AI Agent service - Custom Bing integration\n",
    "\n",
    "<img src=\"https://learn.microsoft.com/en-us/azure/ai-services/agents/media/agent-service-the-glue.png\" width=800>\n",
    "\n",
    "> https://learn.microsoft.com/en-us/azure/ai-services/agents/"
   ]
  },
  {
   "cell_type": "code",
   "execution_count": 1,
   "id": "3eb3ce0f-8b69-4ede-accc-1d5e5442e1b4",
   "metadata": {},
   "outputs": [],
   "source": [
    "import datetime\n",
    "import os\n",
    "import sys\n",
    "import time\n",
    "\n",
    "from azure.ai.agents import AgentsClient\n",
    "from azure.identity import DefaultAzureCredential\n",
    "from azure.ai.agents.models import BingCustomSearchTool\n",
    "from azure.ai.agents.models import ListSortOrder\n",
    "from dotenv import load_dotenv"
   ]
  },
  {
   "cell_type": "code",
   "execution_count": 2,
   "id": "87c575a7-b64a-4737-a143-fa49b3d412df",
   "metadata": {},
   "outputs": [
    {
     "data": {
      "text/plain": [
       "'3.10.14 (main, May  6 2024, 19:42:50) [GCC 11.2.0]'"
      ]
     },
     "execution_count": 2,
     "metadata": {},
     "output_type": "execute_result"
    }
   ],
   "source": [
    "sys.version"
   ]
  },
  {
   "cell_type": "code",
   "execution_count": 3,
   "id": "c4f03689-58e5-446a-bdad-4ecb9c13e9d9",
   "metadata": {},
   "outputs": [
    {
     "name": "stdout",
     "output_type": "stream",
     "text": [
      "Today is 16-Jun-2025 14:35:49\n"
     ]
    }
   ],
   "source": [
    "print(f\"Today is {datetime.datetime.today().strftime('%d-%b-%Y %H:%M:%S')}\")"
   ]
  },
  {
   "cell_type": "markdown",
   "id": "c5c6a672-244f-4286-a175-55d379a5b461",
   "metadata": {},
   "source": [
    "## Settings"
   ]
  },
  {
   "cell_type": "code",
   "execution_count": 4,
   "id": "badf732f-fca3-4de3-9499-fe1a78b05c4c",
   "metadata": {},
   "outputs": [
    {
     "data": {
      "text/plain": [
       "True"
      ]
     },
     "execution_count": 4,
     "metadata": {},
     "output_type": "execute_result"
    }
   ],
   "source": [
    "load_dotenv(\"azure.env\")"
   ]
  },
  {
   "cell_type": "code",
   "execution_count": 5,
   "id": "09b731c3-fa6b-41bf-9b9f-e37d533d2a50",
   "metadata": {},
   "outputs": [],
   "source": [
    "BING_CUSTOM_CONN_ID = os.environ[\"BING_CUSTOM_CONN_ID\"]"
   ]
  },
  {
   "cell_type": "code",
   "execution_count": 6,
   "id": "cab2dc66-4874-4cd3-ad8e-9382cc65e00d",
   "metadata": {},
   "outputs": [],
   "source": [
    "project_client = AgentsClient(\n",
    "    endpoint=os.getenv(\"PROJECT_ENDPOINT\"),\n",
    "    credential=DefaultAzureCredential(),\n",
    ")"
   ]
  },
  {
   "cell_type": "markdown",
   "id": "e458c501-db52-447f-9a9f-21b60a540149",
   "metadata": {},
   "source": [
    "## Initialize Bing Custom Search tool with connection id and instance name"
   ]
  },
  {
   "cell_type": "code",
   "execution_count": 7,
   "id": "e3d109bc-caab-403a-8a8f-4dc48e5f6364",
   "metadata": {},
   "outputs": [],
   "source": [
    "instance_name = \"travel\"\n",
    "\n",
    "# Initialize Bing Custom Search tool with connection id and instance name\n",
    "bing_custom_tool = BingCustomSearchTool(connection_id=BING_CUSTOM_CONN_ID,\n",
    "                                        instance_name=instance_name)"
   ]
  },
  {
   "cell_type": "markdown",
   "id": "fdab6bdc-36bb-47ac-8a44-74049f44b728",
   "metadata": {},
   "source": [
    "Exemple of instance definition:"
   ]
  },
  {
   "cell_type": "markdown",
   "id": "ac1302ec-7e08-4803-ae20-7eb8978a3191",
   "metadata": {},
   "source": [
    "<img src=\"custom.jpg\">"
   ]
  },
  {
   "cell_type": "markdown",
   "id": "d0826a95-e3fb-4622-878c-d6f721a19398",
   "metadata": {},
   "source": [
    "## Agent creation"
   ]
  },
  {
   "cell_type": "code",
   "execution_count": 8,
   "id": "1e926762-c14d-41bc-8245-8fff16e0f56c",
   "metadata": {},
   "outputs": [
    {
     "name": "stdout",
     "output_type": "stream",
     "text": [
      "Created agent, ID: asst_dolAvlJdOEpl1974W8RCpjRx\n"
     ]
    }
   ],
   "source": [
    "agent = project_client.create_agent(\n",
    "    model='gpt-4o',\n",
    "    name=\"travel-planner-agent\",\n",
    "    instructions=\"You are a travel planner dedicated to helping visitors discover top attractions, find the best hotels and restaurants, explore must-see sights, book flight tickets, and navigate public transportation with ease.\",\n",
    "    tools=bing_custom_tool.definitions,\n",
    "    description=\"Travel planner\"\n",
    ")\n",
    "print(f\"Created agent, ID: {agent.id}\")"
   ]
  },
  {
   "cell_type": "markdown",
   "id": "7b847129-87b5-4231-b581-3902c30c7b10",
   "metadata": {},
   "source": [
    "## Examples"
   ]
  },
  {
   "cell_type": "code",
   "execution_count": 9,
   "id": "fc9dfb69-83c4-48f8-80ca-dda686e610d1",
   "metadata": {},
   "outputs": [],
   "source": [
    "prompt=\"List me the top 10 things to visit in Milan according to tripadvisor\""
   ]
  },
  {
   "cell_type": "code",
   "execution_count": 10,
   "id": "c759daa0-dd41-4485-a122-b4a47ae059e2",
   "metadata": {},
   "outputs": [
    {
     "name": "stdout",
     "output_type": "stream",
     "text": [
      "🧵 [1] Created thread | ID: thread_riwzM6lmj8QdrYZ0oUySRgM4\n",
      "💬 [2] Created message | ID: msg_EpooGgIjoCeiIVljPx2nHaq1\n",
      "🏃 [3] Created run | ID: run_hoXX3wxZdvMWq4t41wUMSy75\n",
      "⏳ [4] Polling run status...\n",
      "🔄 Status: in_progress\n",
      "🔄 Status: in_progress\n",
      "🔄 Status: in_progress\n",
      "🔄 Status: in_progress\n",
      "🔄 Status: completed\n",
      "\n",
      "🤖 [5] Agent responses:\n",
      "\u001b[1;34m\n",
      "💡 → List me the top 10 things to visit in Milan according to tripadvisor\n",
      "\u001b[1;34m\n",
      "💡 → Here are the top 10 attractions to visit in Milan according to Tripadvisor:\n",
      "\n",
      "1. **Duomo di Milano (Milan Cathedral)** - A stunning gothic cathedral and symbol of Milan, with an option to visit the rooftop.\n",
      "2. **Galleria Vittorio Emanuele II** - A luxurious 19th-century arcade with shops, restaurants, and breathtaking architecture.\n",
      "3. **The Last Supper (Il Cenacolo)** - Home to Leonardo da Vinci’s iconic fresco, housed at Santa Maria delle Grazie.\n",
      "4. **Castello Sforzesco** - A historic castle featuring museums and expansive grounds.\n",
      "5. **Navigli District** - Renowned for its historic canals with shops, restaurants, and vibrant nightlife.\n",
      "6. **Piazza del Duomo** - A bustling square featuring the Milan Cathedral and other notable landmarks.\n",
      "7. **The Rooftops of the Duomo (Terrazze del Duomo)** - Offering panoramic views of the city and intricate close-ups of the cathedral’s architecture.\n",
      "8. **Chiesa di San Maurizio al Monastero Maggiore** - Known as the \"Sistine Chapel of Milan,\" filled with mesmerizing frescoes.\n",
      "9. **Brera District** - A charming area for art, shopping, and dining experiences.\n",
      "10. **Santa Maria delle Grazie** - A UNESCO World Heritage site combining Romanesque and Renaissance architectures【3:1†source】【3:2†source】.\n",
      "\n",
      "Let me know if you’d like assistance planning your visit to any of these spots!\n",
      "\u001b[1;32m\n",
      "🔗 URL Citation: [THE 10 BEST Things to Do in Milan (2025) - Must-See Attractions](https://www.tripadvisor.com/Attractions-g187849-Activities-zft21263-Milan_Lombardy.html)\n",
      "🔗 URL Citation: [THE 10 BEST Milan Sights & Historical Landmarks to Visit (2025)](https://www.tripadvisor.com/Attractions-g187849-Activities-c47-Milan_Lombardy.html)\n",
      "\u001b[0m\n"
     ]
    }
   ],
   "source": [
    "# Step 1: Create a thread\n",
    "thread = project_client.threads.create()\n",
    "print(f\"🧵 [1] Created thread | ID: {thread.id}\")\n",
    "\n",
    "# Step 2: Send the user's message\n",
    "message = project_client.messages.create(thread_id=thread.id,\n",
    "                                         role=\"user\",\n",
    "                                         content=prompt)\n",
    "print(f\"💬 [2] Created message | ID: {message.id}\")\n",
    "\n",
    "# Step 3: Start a run\n",
    "run = project_client.runs.create(thread_id=thread.id,\n",
    "                                 agent_id=agent.id)\n",
    "print(f\"🏃 [3] Created run | ID: {run.id}\")\n",
    "\n",
    "# Step 4: Poll run status\n",
    "print(\"⏳ [4] Polling run status...\")\n",
    "while run.status in {\"queued\", \"in_progress\", \"requires_action\"}:\n",
    "    time.sleep(1)\n",
    "    run = project_client.runs.get(thread_id=thread.id, run_id=run.id)\n",
    "    print(f\"🔄 Status: {run.status}\")\n",
    "\n",
    "    if run.status == \"failed\":\n",
    "        print(f\"❌ Run failed | Error: {run.last_error}\")\n",
    "        break\n",
    "\n",
    "# Step 5: Display agent responses\n",
    "print(\"\\n🤖 [5] Agent responses:\")\n",
    "messages = project_client.messages.list(thread_id=thread.id,\n",
    "                                        order=ListSortOrder.ASCENDING)\n",
    "\n",
    "for msg in messages:\n",
    "    print(\"\\033[1;34m\")  # Blue text for agent messages\n",
    "    if msg.text_messages:\n",
    "        for text_message in msg.text_messages:\n",
    "            print(f\"💡 → {text_message.text.value}\")\n",
    "    if msg.url_citation_annotations:\n",
    "        print(\"\\033[1;32m\")  # Green text for citations\n",
    "        for annotation in msg.url_citation_annotations:\n",
    "            print(\n",
    "                f\"🔗 URL Citation: [{annotation.url_citation.title}]({annotation.url_citation.url})\"\n",
    "            )\n",
    "\n",
    "print(\"\\033[0m\")  # Reset color"
   ]
  },
  {
   "cell_type": "code",
   "execution_count": 11,
   "id": "d427e625-06b2-4c8c-bc65-bbee5b10b485",
   "metadata": {},
   "outputs": [],
   "source": [
    "prompt=\"What are the best hotels in Milan according to social networks?\""
   ]
  },
  {
   "cell_type": "code",
   "execution_count": 12,
   "id": "9e4ede49-ffc9-42ac-b192-e2aa649f1d29",
   "metadata": {},
   "outputs": [
    {
     "name": "stdout",
     "output_type": "stream",
     "text": [
      "🧵 [1] Created thread | ID: thread_3lyZnbkskOl6YQ05CnYLMHGp\n",
      "💬 [2] Created message | ID: msg_6usEmiS0lmYHFAN9BK8Lpbsm\n",
      "🏃 [3] Created run | ID: run_z16tfoFq43ScEcCH0JcrXtkn\n",
      "⏳ [4] Polling run status...\n",
      "🔄 Status: in_progress\n",
      "🔄 Status: in_progress\n",
      "🔄 Status: in_progress\n",
      "🔄 Status: completed\n",
      "\n",
      "🤖 [5] Agent responses:\n",
      "\u001b[1;34m\n",
      "💡 → What are the best hotels in Milan according to social networks?\n",
      "\u001b[1;34m\n",
      "💡 → The top hotels in Milan, frequently praised on social networks and hospitality platforms, include:\n",
      "\n",
      "1. **Mandarin Oriental, Milan** - Renowned for its luxurious rooms and excellent location near city landmarks.\n",
      "2. **Room Mate Giulia** - A boutique hotel appreciated for its vibrant design and proximity to the Duomo.\n",
      "3. **Armani Hotel Milano** - Known for a chic aesthetic and exceptional service.\n",
      "4. **Hotel Spadari al Duomo** - Offers a trendy stay close to cultural sites.\n",
      "5. **Hotel Principe di Savoia** - A luxurious classic combining comfort and grandeur【3:0†source】【3:4†source】. \n",
      "\n",
      "These are popular not only for dining and ambiance but also for their upscale facilities and central locations.\n",
      "\u001b[1;32m\n",
      "🔗 URL Citation: [THE 10 BEST Hotels in Milan, Italy 2025 (from $80) - Tripadvisor](https://www.tripadvisor.com/Hotels-g187849-Milan_Lombardy-Hotels.html)\n",
      "🔗 URL Citation: [BEST WESTERN HOTEL CITY - Updated 2025 Prices & Reviews (Milan, Italy)](https://www.tripadvisor.com/Hotel_Review-g187849-d202891-Reviews-Best_Western_Hotel_City-Milan_Lombardy.html)\n",
      "\u001b[0m\n"
     ]
    }
   ],
   "source": [
    "# Step 1: Create a thread\n",
    "thread = project_client.threads.create()\n",
    "print(f\"🧵 [1] Created thread | ID: {thread.id}\")\n",
    "\n",
    "# Step 2: Send the user's message\n",
    "message = project_client.messages.create(thread_id=thread.id,\n",
    "                                         role=\"user\",\n",
    "                                         content=prompt)\n",
    "print(f\"💬 [2] Created message | ID: {message.id}\")\n",
    "\n",
    "# Step 3: Start a run\n",
    "run = project_client.runs.create(thread_id=thread.id,\n",
    "                                 agent_id=agent.id)\n",
    "print(f\"🏃 [3] Created run | ID: {run.id}\")\n",
    "\n",
    "# Step 4: Poll run status\n",
    "print(\"⏳ [4] Polling run status...\")\n",
    "while run.status in {\"queued\", \"in_progress\", \"requires_action\"}:\n",
    "    time.sleep(1)\n",
    "    run = project_client.runs.get(thread_id=thread.id, run_id=run.id)\n",
    "    print(f\"🔄 Status: {run.status}\")\n",
    "\n",
    "    if run.status == \"failed\":\n",
    "        print(f\"❌ Run failed | Error: {run.last_error}\")\n",
    "        break\n",
    "\n",
    "# Step 5: Display agent responses\n",
    "print(\"\\n🤖 [5] Agent responses:\")\n",
    "messages = project_client.messages.list(thread_id=thread.id,\n",
    "                                        order=ListSortOrder.ASCENDING)\n",
    "\n",
    "for msg in messages:\n",
    "    print(\"\\033[1;34m\")  # Blue text for agent messages\n",
    "    if msg.text_messages:\n",
    "        for text_message in msg.text_messages:\n",
    "            print(f\"💡 → {text_message.text.value}\")\n",
    "    if msg.url_citation_annotations:\n",
    "        print(\"\\033[1;32m\")  # Green text for citations\n",
    "        for annotation in msg.url_citation_annotations:\n",
    "            print(\n",
    "                f\"🔗 URL Citation: [{annotation.url_citation.title}]({annotation.url_citation.url})\"\n",
    "            )\n",
    "\n",
    "print(\"\\033[0m\")  # Reset color"
   ]
  },
  {
   "cell_type": "code",
   "execution_count": 13,
   "id": "8ae7eb1b-0f27-49ba-b77a-81a12758f47c",
   "metadata": {},
   "outputs": [],
   "source": [
    "prompt = \"Find some flights from Paris to Milan\""
   ]
  },
  {
   "cell_type": "code",
   "execution_count": 14,
   "id": "8c1cb5a0-8f23-406b-990f-5e39c4b7b178",
   "metadata": {},
   "outputs": [
    {
     "name": "stdout",
     "output_type": "stream",
     "text": [
      "🧵 [1] Created thread | ID: thread_FryPjdExZ6Oy10ox6NXStKbm\n",
      "💬 [2] Created message | ID: msg_HnoGtPjMLFSMFofsbQCIU8nx\n",
      "🏃 [3] Created run | ID: run_R1DbYHadJcMcX2ERPQGcRycG\n",
      "⏳ [4] Polling run status...\n",
      "🔄 Status: in_progress\n",
      "🔄 Status: in_progress\n",
      "🔄 Status: in_progress\n",
      "🔄 Status: completed\n",
      "\n",
      "🤖 [5] Agent responses:\n",
      "\u001b[1;34m\n",
      "💡 → Find some flights from Paris to Milan\n",
      "\u001b[1;34m\n",
      "💡 → Flight options from Paris to Milan typically range from budget-friendly airlines to luxury ones, with prices starting as low as €25 for direct flights. Companies like Ryanair, Wizz Air, and easyJet offer competitive rates. Additionally, Air France and ITA Airways provide more premium services on this route. \n",
      "\n",
      "Flight durations are around 1.5 hours, and Paris has multiple departure points (Charles de Gaulle, Orly, and Beauvais airports) while Milan has Linate and Malpensa as arrival destinations. For specific dates and availability, it's advised to check airlines such as Ryanair, easyJet, or platforms like Kayak, BA, or Air France【3:1†source】【3:3†source】.\n",
      "\u001b[1;32m\n",
      "🔗 URL Citation: [Vol pas cher Paris Milan (PAR - MIL) | Air France - France](https://wwws.airfrance.fr/fr-fr/vols-de-paris-a-milan)\n",
      "🔗 URL Citation: [25€ Vols pas chers de Paris pour Milan (PAR - MIL) - KAYAK](https://www.kayak.fr/vols/Paris-PAR/Milan-MIL)\n",
      "\u001b[0m\n"
     ]
    }
   ],
   "source": [
    "# Step 1: Create a thread\n",
    "thread = project_client.threads.create()\n",
    "print(f\"🧵 [1] Created thread | ID: {thread.id}\")\n",
    "\n",
    "# Step 2: Send the user's message\n",
    "message = project_client.messages.create(thread_id=thread.id,\n",
    "                                         role=\"user\",\n",
    "                                         content=prompt)\n",
    "print(f\"💬 [2] Created message | ID: {message.id}\")\n",
    "\n",
    "# Step 3: Start a run\n",
    "run = project_client.runs.create(thread_id=thread.id,\n",
    "                                 agent_id=agent.id)\n",
    "print(f\"🏃 [3] Created run | ID: {run.id}\")\n",
    "\n",
    "# Step 4: Poll run status\n",
    "print(\"⏳ [4] Polling run status...\")\n",
    "while run.status in {\"queued\", \"in_progress\", \"requires_action\"}:\n",
    "    time.sleep(1)\n",
    "    run = project_client.runs.get(thread_id=thread.id, run_id=run.id)\n",
    "    print(f\"🔄 Status: {run.status}\")\n",
    "\n",
    "    if run.status == \"failed\":\n",
    "        print(f\"❌ Run failed | Error: {run.last_error}\")\n",
    "        break\n",
    "\n",
    "# Step 5: Display agent responses\n",
    "print(\"\\n🤖 [5] Agent responses:\")\n",
    "messages = project_client.messages.list(thread_id=thread.id,\n",
    "                                        order=ListSortOrder.ASCENDING)\n",
    "\n",
    "for msg in messages:\n",
    "    print(\"\\033[1;34m\")  # Blue text for agent messages\n",
    "    if msg.text_messages:\n",
    "        for text_message in msg.text_messages:\n",
    "            print(f\"💡 → {text_message.text.value}\")\n",
    "    if msg.url_citation_annotations:\n",
    "        print(\"\\033[1;32m\")  # Green text for citations\n",
    "        for annotation in msg.url_citation_annotations:\n",
    "            print(\n",
    "                f\"🔗 URL Citation: [{annotation.url_citation.title}]({annotation.url_citation.url})\"\n",
    "            )\n",
    "\n",
    "print(\"\\033[0m\")  # Reset color"
   ]
  },
  {
   "cell_type": "code",
   "execution_count": 15,
   "id": "fa820d10-6bff-44db-b93d-e471a3dec863",
   "metadata": {},
   "outputs": [],
   "source": [
    "prompt = \"What are the latest news from the city of Milan?\""
   ]
  },
  {
   "cell_type": "code",
   "execution_count": 16,
   "id": "e5495b26-93dc-4237-9aa3-1682ac4fe767",
   "metadata": {},
   "outputs": [
    {
     "name": "stdout",
     "output_type": "stream",
     "text": [
      "🧵 [1] Created thread | ID: thread_cXhDs4G5Ws0z4e8ChVVOHRV6\n",
      "💬 [2] Created message | ID: msg_o23a6jaVd8UYVSTOgZoCMfwT\n",
      "🏃 [3] Created run | ID: run_dUTgJnQGHPmMMVRCYi58UEwO\n",
      "⏳ [4] Polling run status...\n",
      "🔄 Status: in_progress\n",
      "🔄 Status: in_progress\n",
      "🔄 Status: in_progress\n",
      "🔄 Status: in_progress\n",
      "🔄 Status: completed\n",
      "\n",
      "🤖 [5] Agent responses:\n",
      "\u001b[1;34m\n",
      "💡 → What are the latest news from the city of Milan?\n",
      "\u001b[1;34m\n",
      "💡 → Here are some recent updates from Milan:\n",
      "\n",
      "1. **Public Transport and Train Service Issues**:\n",
      "   - The train line between Milan and Varenna will face disruptions due to construction work, starting 15 June 2025 and lasting until 14 September 2025. Replacement bus services will be available【3:0†source】【3:2†source】.\n",
      "   - A General Strike is scheduled for 20 June 2025, which may disrupt metro and other public transportation systems in Milan【3:1†source】.\n",
      "\n",
      "2. **Cultural Updates**:\n",
      "   - Tickets for \"The Last Supper\" experience are highly sought after; advance bookings are recommended as reservations open several months ahead【3:3†source】【3:4†source】.\n",
      "\n",
      "If you're visiting Milan during this time, consider planning transit and cultural visits accordingly! Let me know if I can help with specific recommendations or assistance!\n",
      "\u001b[1;32m\n",
      "🔗 URL Citation: [Milan to Varrena train service suspended from 20 June 2025 - Milan ...](https://www.tripadvisor.com/ShowTopic-g187849-i143-k15342150-Milan_to_Varrena_train_service_suspended_from_20_June_2025-Milan_Lombardy.html)\n",
      "🔗 URL Citation: [Milan to Varenna in September 2025? - Varenna Forum - Tripadvisor](https://www.tripadvisor.com/ShowTopic-g187837-i2373-k15277009-Train_closures_Milan_to_Varenna_in_September_2025-Varenna_Lake_Como_Lombardy.html)\n",
      "🔗 URL Citation: [General Strike 20 June 2025 - Milan Forum - Tripadvisor](https://www.tripadvisor.com/ShowTopic-g187849-i143-k15357577-General_Strike_20_June_2025-Milan_Lombardy.html)\n",
      "🔗 URL Citation: [LAST SUPPERS ticket for June 2025 to be available date - Milan Forum](https://www.tripadvisor.com/ShowTopic-g187849-i143-k15108461-LAST_SUPPERS_ticket_for_June_2025_to_be_available_date-Milan_Lombardy.html)\n",
      "🔗 URL Citation: [last suypper tickets - Milan Forum - Tripadvisor](https://www.tripadvisor.com/ShowTopic-g187849-i143-k14849559-Last_suypper_tickets-Milan_Lombardy.html)\n",
      "\u001b[0m\n"
     ]
    }
   ],
   "source": [
    "# Step 1: Create a thread\n",
    "thread = project_client.threads.create()\n",
    "print(f\"🧵 [1] Created thread | ID: {thread.id}\")\n",
    "\n",
    "# Step 2: Send the user's message\n",
    "message = project_client.messages.create(thread_id=thread.id,\n",
    "                                         role=\"user\",\n",
    "                                         content=prompt)\n",
    "print(f\"💬 [2] Created message | ID: {message.id}\")\n",
    "\n",
    "# Step 3: Start a run\n",
    "run = project_client.runs.create(thread_id=thread.id,\n",
    "                                 agent_id=agent.id)\n",
    "print(f\"🏃 [3] Created run | ID: {run.id}\")\n",
    "\n",
    "# Step 4: Poll run status\n",
    "print(\"⏳ [4] Polling run status...\")\n",
    "while run.status in {\"queued\", \"in_progress\", \"requires_action\"}:\n",
    "    time.sleep(1)\n",
    "    run = project_client.runs.get(thread_id=thread.id, run_id=run.id)\n",
    "    print(f\"🔄 Status: {run.status}\")\n",
    "\n",
    "    if run.status == \"failed\":\n",
    "        print(f\"❌ Run failed | Error: {run.last_error}\")\n",
    "        break\n",
    "\n",
    "# Step 5: Display agent responses\n",
    "print(\"\\n🤖 [5] Agent responses:\")\n",
    "messages = project_client.messages.list(thread_id=thread.id,\n",
    "                                        order=ListSortOrder.ASCENDING)\n",
    "\n",
    "for msg in messages:\n",
    "    print(\"\\033[1;34m\")  # Blue text for agent messages\n",
    "    if msg.text_messages:\n",
    "        for text_message in msg.text_messages:\n",
    "            print(f\"💡 → {text_message.text.value}\")\n",
    "    if msg.url_citation_annotations:\n",
    "        print(\"\\033[1;32m\")  # Green text for citations\n",
    "        for annotation in msg.url_citation_annotations:\n",
    "            print(\n",
    "                f\"🔗 URL Citation: [{annotation.url_citation.title}]({annotation.url_citation.url})\"\n",
    "            )\n",
    "\n",
    "print(\"\\033[0m\")  # Reset color"
   ]
  },
  {
   "cell_type": "markdown",
   "id": "0d0e22a3-45d0-474c-b9d5-ec60a54c5323",
   "metadata": {},
   "source": [
    "## Post processing"
   ]
  },
  {
   "cell_type": "code",
   "execution_count": 18,
   "id": "32d52e44-2120-4926-9e35-3d4732cf93ef",
   "metadata": {},
   "outputs": [
    {
     "name": "stdout",
     "output_type": "stream",
     "text": [
      "Agent Details:\n",
      "🆔 ID          : asst_dolAvlJdOEpl1974W8RCpjRx\n",
      "📛 Name        : travel-planner-agent\n",
      "🧠 Model       : gpt-4o\n",
      "📜 Instructions: You are a travel planner dedicated to helping visitors discover top attractions, find the best hotels and restaurants, explore must-see sights, book flight tickets, and navigate public transportation with ease.\n"
     ]
    }
   ],
   "source": [
    "print(\n",
    "    f\"Agent Details:\\n\"\n",
    "    f\"🆔 ID          : {agent.id}\\n\"\n",
    "    f\"📛 Name        : {agent.name}\\n\"\n",
    "    f\"🧠 Model       : {agent.model}\\n\"\n",
    "    f\"📜 Instructions: {agent.instructions}\"\n",
    ")"
   ]
  },
  {
   "cell_type": "code",
   "execution_count": null,
   "id": "80bdf657-06c7-4317-994d-f148d9427003",
   "metadata": {},
   "outputs": [],
   "source": [
    "#print(\"Deleting the agent we have created...\")\n",
    "#project_client.delete_agent(agent.id)\n",
    "#print(f\"Deleted agent, agent ID: {agent.id}\")\n",
    "#print(\"Done\")"
   ]
  },
  {
   "cell_type": "code",
   "execution_count": null,
   "id": "0bf92abb-da70-4d98-a0c5-8379b4235594",
   "metadata": {},
   "outputs": [],
   "source": []
  }
 ],
 "metadata": {
  "kernelspec": {
   "display_name": "Python 3.10 - SDK v2",
   "language": "python",
   "name": "python310-sdkv2"
  },
  "language_info": {
   "codemirror_mode": {
    "name": "ipython",
    "version": 3
   },
   "file_extension": ".py",
   "mimetype": "text/x-python",
   "name": "python",
   "nbconvert_exporter": "python",
   "pygments_lexer": "ipython3",
   "version": "3.10.14"
  },
  "varInspector": {
   "cols": {
    "lenName": 16,
    "lenType": 16,
    "lenVar": 40
   },
   "kernels_config": {
    "python": {
     "delete_cmd_postfix": "",
     "delete_cmd_prefix": "del ",
     "library": "var_list.py",
     "varRefreshCmd": "print(var_dic_list())"
    },
    "r": {
     "delete_cmd_postfix": ") ",
     "delete_cmd_prefix": "rm(",
     "library": "var_list.r",
     "varRefreshCmd": "cat(var_dic_list()) "
    }
   },
   "types_to_exclude": [
    "module",
    "function",
    "builtin_function_or_method",
    "instance",
    "_Feature"
   ],
   "window_display": false
  }
 },
 "nbformat": 4,
 "nbformat_minor": 5
}
