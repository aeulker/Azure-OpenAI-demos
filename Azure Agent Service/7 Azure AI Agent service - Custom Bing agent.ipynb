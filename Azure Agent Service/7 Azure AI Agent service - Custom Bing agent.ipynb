{
 "cells": [
  {
   "cell_type": "markdown",
   "id": "7c381577-53f4-40a8-b8fb-204825d67435",
   "metadata": {},
   "source": [
    "# Azure AI Agent service - Custom Bing integration\n",
    "\n",
    "<img src=\"https://learn.microsoft.com/en-us/azure/ai-services/agents/media/agent-service-the-glue.png\" width=800>\n",
    "\n",
    "> https://learn.microsoft.com/en-us/azure/ai-services/agents/"
   ]
  },
  {
   "cell_type": "code",
   "execution_count": 1,
   "id": "3eb3ce0f-8b69-4ede-accc-1d5e5442e1b4",
   "metadata": {},
   "outputs": [],
   "source": [
    "import datetime\n",
    "import os\n",
    "import sys\n",
    "import time\n",
    "\n",
    "from azure.ai.agents import AgentsClient\n",
    "from azure.ai.agents.models import BingCustomSearchTool, ListSortOrder\n",
    "from azure.identity import DefaultAzureCredential\n",
    "from dotenv import load_dotenv"
   ]
  },
  {
   "cell_type": "code",
   "execution_count": 2,
   "id": "87c575a7-b64a-4737-a143-fa49b3d412df",
   "metadata": {},
   "outputs": [
    {
     "data": {
      "text/plain": [
       "'3.10.14 (main, May  6 2024, 19:42:50) [GCC 11.2.0]'"
      ]
     },
     "execution_count": 2,
     "metadata": {},
     "output_type": "execute_result"
    }
   ],
   "source": [
    "sys.version"
   ]
  },
  {
   "cell_type": "code",
   "execution_count": 3,
   "id": "c4f03689-58e5-446a-bdad-4ecb9c13e9d9",
   "metadata": {},
   "outputs": [
    {
     "name": "stdout",
     "output_type": "stream",
     "text": [
      "Today is 17-Jun-2025 08:58:00\n"
     ]
    }
   ],
   "source": [
    "print(f\"Today is {datetime.datetime.today().strftime('%d-%b-%Y %H:%M:%S')}\")"
   ]
  },
  {
   "cell_type": "markdown",
   "id": "c5c6a672-244f-4286-a175-55d379a5b461",
   "metadata": {},
   "source": [
    "## Settings"
   ]
  },
  {
   "cell_type": "code",
   "execution_count": 4,
   "id": "badf732f-fca3-4de3-9499-fe1a78b05c4c",
   "metadata": {},
   "outputs": [
    {
     "data": {
      "text/plain": [
       "True"
      ]
     },
     "execution_count": 4,
     "metadata": {},
     "output_type": "execute_result"
    }
   ],
   "source": [
    "load_dotenv(\"azure.env\")"
   ]
  },
  {
   "cell_type": "code",
   "execution_count": 5,
   "id": "09b731c3-fa6b-41bf-9b9f-e37d533d2a50",
   "metadata": {},
   "outputs": [],
   "source": [
    "BING_CUSTOM_CONN_ID = os.environ[\"BING_CUSTOM_CONN_ID\"]"
   ]
  },
  {
   "cell_type": "code",
   "execution_count": 6,
   "id": "cab2dc66-4874-4cd3-ad8e-9382cc65e00d",
   "metadata": {},
   "outputs": [],
   "source": [
    "project_client = AgentsClient(\n",
    "    endpoint=os.getenv(\"PROJECT_ENDPOINT\"),\n",
    "    credential=DefaultAzureCredential(),\n",
    ")"
   ]
  },
  {
   "cell_type": "markdown",
   "id": "e458c501-db52-447f-9a9f-21b60a540149",
   "metadata": {},
   "source": [
    "## Initialize Bing Custom Search tool with connection id and instance name"
   ]
  },
  {
   "cell_type": "code",
   "execution_count": 7,
   "id": "e3d109bc-caab-403a-8a8f-4dc48e5f6364",
   "metadata": {},
   "outputs": [],
   "source": [
    "instance_name = \"travel\"\n",
    "\n",
    "# Initialize Bing Custom Search tool with connection id and instance name\n",
    "bing_custom_tool = BingCustomSearchTool(connection_id=BING_CUSTOM_CONN_ID,\n",
    "                                        instance_name=instance_name)"
   ]
  },
  {
   "cell_type": "markdown",
   "id": "fdab6bdc-36bb-47ac-8a44-74049f44b728",
   "metadata": {},
   "source": [
    "Exemple of instance definition:"
   ]
  },
  {
   "cell_type": "markdown",
   "id": "ac1302ec-7e08-4803-ae20-7eb8978a3191",
   "metadata": {},
   "source": [
    "<img src=\"custom.jpg\">"
   ]
  },
  {
   "cell_type": "markdown",
   "id": "d0826a95-e3fb-4622-878c-d6f721a19398",
   "metadata": {},
   "source": [
    "## Agent creation"
   ]
  },
  {
   "cell_type": "code",
   "execution_count": 9,
   "id": "1e926762-c14d-41bc-8245-8fff16e0f56c",
   "metadata": {},
   "outputs": [
    {
     "name": "stdout",
     "output_type": "stream",
     "text": [
      "Created agent, ID: asst_eZaHkAqZBM8zHA2DQQpXM1y7\n"
     ]
    }
   ],
   "source": [
    "agent = project_client.create_agent(\n",
    "    model='gpt-4o',\n",
    "    name=\"travel-planner-agent\",\n",
    "    instructions=\"You are a travel planner dedicated to helping visitors discover top attractions, find the best hotels and restaurants, explore must-see sights, book flight tickets, and navigate public transportation with ease.\",\n",
    "    tools=bing_custom_tool.definitions,\n",
    "    description=\"Travel planner\",\n",
    "    temperature=0.7,\n",
    ")\n",
    "print(f\"Created agent, ID: {agent.id}\")"
   ]
  },
  {
   "cell_type": "markdown",
   "id": "7b847129-87b5-4231-b581-3902c30c7b10",
   "metadata": {},
   "source": [
    "## Examples"
   ]
  },
  {
   "cell_type": "code",
   "execution_count": 10,
   "id": "fc9dfb69-83c4-48f8-80ca-dda686e610d1",
   "metadata": {},
   "outputs": [],
   "source": [
    "prompt=\"List me the top 10 things to visit in Milan according to tripadvisor\""
   ]
  },
  {
   "cell_type": "code",
   "execution_count": 11,
   "id": "5d2661c8-68e4-4ae8-83dc-da9f42635295",
   "metadata": {},
   "outputs": [
    {
     "name": "stdout",
     "output_type": "stream",
     "text": [
      "🧵 [1] Created thread  | ID: thread_B8xn4IOBgETBiztH43FqakuL\n",
      "💬 [2] Created message | ID: msg_7603bbrdN1dsIIiqmkiczCKb\n",
      "🏃 [3] Created run     | ID: run_hJwctFuKiKyR9FhKvH0CHhfD\n",
      "⏳ [4] Polling run status...\n",
      "🔄 Status: in_progress\n",
      "🔄 Status: in_progress\n",
      "🔄 Status: in_progress\n",
      "🔄 Status: in_progress\n",
      "🔄 Status: completed\n",
      "\n",
      "🔍 Step ID details: step_fQNYqkONrC3qf2kOeH7bZTQq, Type: message_creation\n",
      "Details step: {'id': 'step_fQNYqkONrC3qf2kOeH7bZTQq', 'object': 'thread.run.step', 'created_at': 1750150706, 'run_id': 'run_hJwctFuKiKyR9FhKvH0CHhfD', 'assistant_id': 'asst_eZaHkAqZBM8zHA2DQQpXM1y7', 'thread_id': 'thread_B8xn4IOBgETBiztH43FqakuL', 'type': 'message_creation', 'status': 'completed', 'cancelled_at': None, 'completed_at': 1750150709, 'expires_at': None, 'failed_at': None, 'last_error': None, 'step_details': {'type': 'message_creation', 'message_creation': {'message_id': 'msg_AvRx1iwldGVjoSJyR64jKLGC'}}, 'usage': {'prompt_tokens': 8176, 'completion_tokens': 297, 'total_tokens': 8473, 'prompt_token_details': {'cached_tokens': 0}}}\n",
      "\n",
      "🔍 Step ID details: step_oUvLo0sNMG4l6q6y2NmUKFmH, Type: tool_calls\n",
      "Details step: {'id': 'step_oUvLo0sNMG4l6q6y2NmUKFmH', 'object': 'thread.run.step', 'created_at': 1750150704, 'run_id': 'run_hJwctFuKiKyR9FhKvH0CHhfD', 'assistant_id': 'asst_eZaHkAqZBM8zHA2DQQpXM1y7', 'thread_id': 'thread_B8xn4IOBgETBiztH43FqakuL', 'type': 'tool_calls', 'status': 'completed', 'cancelled_at': None, 'completed_at': 1750150706, 'expires_at': None, 'failed_at': None, 'last_error': None, 'step_details': {'type': 'tool_calls', 'tool_calls': [{'id': 'call_Z515GqXMQIZtr7zc0DvJm3zR', 'type': 'bing_custom_search', 'bing_custom_search': {'requesturl': 'https://api.bing.microsoft.com/v7.0/search?q=top things to visit in Milan site:tripadvisor.com', 'response_metadata': \"{'market': 'sv-SE', 'num_docs_retrieved': 5, 'num_docs_actually_used': 5}\"}}]}, 'usage': {'prompt_tokens': 496, 'completion_tokens': 24, 'total_tokens': 520, 'prompt_token_details': {'cached_tokens': 0}}}\n",
      "\n",
      "🤖 [5] Agent responses:\n",
      "\u001b[1;34m\n",
      "💡 → user: List me the top 10 things to visit in Milan according to tripadvisor\n",
      "\u001b[1;34m\n",
      "💡 → assistant: Here are the top 10 attractions to visit in Milan, according to Tripadvisor:\n",
      "\n",
      "1. **Duomo di Milano** - The iconic Gothic Cathedral with stunning architecture and rooftop views.\n",
      "2. **Galleria Vittorio Emanuele II** - A magnificent 19th-century shopping arcade with luxury shops and beautiful architecture.\n",
      "3. **Il Cenacolo** - Home to Leonardo da Vinci's masterpiece, *The Last Supper*.\n",
      "4. **Castello Sforzesco** - A historical castle housing museums and Michelangelo's unfinished *Pietà Rondanini*.\n",
      "5. **I Navigli** - Famous canals with lively restaurants, bars, and shops.\n",
      "6. **Piazza del Duomo** - The bustling square in front of the Duomo with a vibrant atmosphere.\n",
      "7. **Terrazze del Duomo** - Rooftop terraces offering incredible views of Milan and the Duomo’s spires up close.\n",
      "8. **Chiesa di San Maurizio al Monastero Maggiore** - Known as the \"Sistine Chapel of Milan\" for its incredible frescoes.\n",
      "9. **Brera District** - A charming neighborhood with art galleries, boutiques, and great eateries.\n",
      "10. **Santa Maria delle Grazie** - The church where *The Last Supper* is located【3:1†source】【3:2†source】. \n",
      "\n",
      "Let me know if you'd like more details or assistance planning your visit!\n",
      "\u001b[1;32m\n",
      "🔗 Source 1: [THE 15 BEST Things to Do in Milan (2025) - Tripadvisor](https://www.tripadvisor.com/Attractions-g187849-Activities-zft21245-Milan_Lombardy.html)\n",
      "🔗 Source 2: [THE 10 BEST Milan Sights & Historical Landmarks - Tripadvisor](https://www.tripadvisor.com/Attractions-g187849-Activities-c47-Milan_Lombardy.html)\n",
      "\u001b[0m\n"
     ]
    }
   ],
   "source": [
    "# Step 1: Create a thread\n",
    "thread = project_client.threads.create()\n",
    "print(f\"🧵 [1] Created thread  | ID: {thread.id}\")\n",
    "\n",
    "# Step 2: Send the user's message\n",
    "message = project_client.messages.create(thread_id=thread.id,\n",
    "                                         role=\"user\",\n",
    "                                         content=prompt)\n",
    "print(f\"💬 [2] Created message | ID: {message.id}\")\n",
    "\n",
    "# Step 3: Start a run\n",
    "run = project_client.runs.create(thread_id=thread.id, agent_id=agent.id)\n",
    "print(f\"🏃 [3] Created run     | ID: {run.id}\")\n",
    "\n",
    "# Step 4: Poll run status\n",
    "print(\"⏳ [4] Polling run status...\")\n",
    "while run.status in {\"queued\", \"in_progress\", \"requires_action\"}:\n",
    "    time.sleep(1)\n",
    "    run = project_client.runs.get(thread_id=thread.id, run_id=run.id)\n",
    "    print(f\"🔄 Status: {run.status}\")\n",
    "\n",
    "    if run.status == \"failed\":\n",
    "        print(f\"❌ Run failed | Error: {run.last_error}\")\n",
    "        break\n",
    "\n",
    "run_steps = project_client.run_steps.list(thread_id=thread.id, run_id=run.id)\n",
    "for step in run_steps:\n",
    "    print(f\"\\n🔍 Step ID details: {step.id}, Type: {step.type}\")\n",
    "    print(f\"Details step: {step}\")\n",
    "\n",
    "# Step 5: Display agent responses\n",
    "print(\"\\n🤖 [5] Agent responses:\")\n",
    "messages = project_client.messages.list(thread_id=thread.id, order=ListSortOrder.ASCENDING)\n",
    "\n",
    "for msg in messages:\n",
    "    print(\"\\033[1;34m\")  # Blue text for agent messages\n",
    "    if msg.text_messages:\n",
    "        last_text = msg.text_messages[-1]\n",
    "        print(f\"💡 → {msg.role}: {last_text.text.value}\")\n",
    "    if msg.url_citation_annotations:\n",
    "        print(\"\\033[1;32m\")  # Green text for citations\n",
    "        idx = 1\n",
    "        for annotation in msg.url_citation_annotations:\n",
    "            print(f\"🔗 Source {idx}: [{annotation.url_citation.title}]({annotation.url_citation.url})\")\n",
    "            idx += 1\n",
    "\n",
    "print(\"\\033[0m\")  # Reset color"
   ]
  },
  {
   "cell_type": "code",
   "execution_count": 17,
   "id": "d427e625-06b2-4c8c-bc65-bbee5b10b485",
   "metadata": {},
   "outputs": [],
   "source": [
    "prompt=\"What are the best hotels in Milan according to social networks?\""
   ]
  },
  {
   "cell_type": "code",
   "execution_count": 18,
   "id": "a9463b1f-5124-4d88-8263-32ef2e1b1ab2",
   "metadata": {},
   "outputs": [
    {
     "name": "stdout",
     "output_type": "stream",
     "text": [
      "🧵 [1] Created thread  | ID: thread_3cRtrg2rzaBuzpZtZUujSrO3\n",
      "💬 [2] Created message | ID: msg_qwDBWjhTRlw7Kbd9l3RzUYbs\n",
      "🏃 [3] Created run     | ID: run_7V1pde5xKiVBOiqvWnUn4BDs\n",
      "⏳ [4] Polling run status...\n",
      "🔄 Status: in_progress\n",
      "🔄 Status: in_progress\n",
      "🔄 Status: in_progress\n",
      "🔄 Status: completed\n",
      "\n",
      "🔍 Step ID details: step_fcS7DRYZCKQNFPUxh2epNv5R, Type: message_creation\n",
      "Details step: {'id': 'step_fcS7DRYZCKQNFPUxh2epNv5R', 'object': 'thread.run.step', 'created_at': 1750150750, 'run_id': 'run_7V1pde5xKiVBOiqvWnUn4BDs', 'assistant_id': 'asst_eZaHkAqZBM8zHA2DQQpXM1y7', 'thread_id': 'thread_3cRtrg2rzaBuzpZtZUujSrO3', 'type': 'message_creation', 'status': 'completed', 'cancelled_at': None, 'completed_at': 1750150752, 'expires_at': None, 'failed_at': None, 'last_error': None, 'step_details': {'type': 'message_creation', 'message_creation': {'message_id': 'msg_aDXx5LnN1G8c4brHDCgQPFYe'}}, 'usage': {'prompt_tokens': 4489, 'completion_tokens': 165, 'total_tokens': 4654, 'prompt_token_details': {'cached_tokens': 0}}}\n",
      "\n",
      "🔍 Step ID details: step_rjunGcqkK3ALjZwGl5N1IHNS, Type: tool_calls\n",
      "Details step: {'id': 'step_rjunGcqkK3ALjZwGl5N1IHNS', 'object': 'thread.run.step', 'created_at': 1750150748, 'run_id': 'run_7V1pde5xKiVBOiqvWnUn4BDs', 'assistant_id': 'asst_eZaHkAqZBM8zHA2DQQpXM1y7', 'thread_id': 'thread_3cRtrg2rzaBuzpZtZUujSrO3', 'type': 'tool_calls', 'status': 'completed', 'cancelled_at': None, 'completed_at': 1750150750, 'expires_at': None, 'failed_at': None, 'last_error': None, 'step_details': {'type': 'tool_calls', 'tool_calls': [{'id': 'call_3XptEfQ3gLqJ9tFhISvYDD8S', 'type': 'bing_custom_search', 'bing_custom_search': {'requesturl': 'https://api.bing.microsoft.com/v7.0/search?q=best hotels in Milan 2025 according to social networks', 'response_metadata': \"{'market': 'sv-SE', 'num_docs_retrieved': 5, 'num_docs_actually_used': 5}\"}}]}, 'usage': {'prompt_tokens': 493, 'completion_tokens': 24, 'total_tokens': 517, 'prompt_token_details': {'cached_tokens': 0}}}\n",
      "\n",
      "🤖 [5] Agent responses:\n",
      "\u001b[1;34m\n",
      "💡 → user: What are the best hotels in Milan according to social networks?\n",
      "\u001b[1;34m\n",
      "💡 → assistant: Some of the highly-rated hotels in Milan according to recent social media and travel reviews include:\n",
      "\n",
      "1. **Portrait Milano** - A luxury boutique hotel known for its elegant design and central location.\n",
      "2. **Room Mate Giulia** - Popular for its vibrant decor and proximity to the Duomo.\n",
      "3. **Park Hyatt Milano** - Offers sophisticated accommodation and is highly praised for its exceptional service.\n",
      "4. **Château Monfort** - A romantic luxury option with a whimsical design inspired by fairytales.\n",
      "5. **NYX Hotel Milan** - A trendy, modern hotel close to Milano Centrale Station, ideal for exploring the city【3:0†source】【3:2†source】【3:3†source】.\n",
      "\n",
      "Let me know if you'd like help booking a stay at any of these hotels!\n",
      "\u001b[1;32m\n",
      "🔗 Source 1: [THE 10 BEST Hotels in Milan, Italy 2025 (from $80) - Tripadvisor](https://www.tripadvisor.com/Hotels-g187849-Milan_Lombardy-Hotels.html)\n",
      "🔗 Source 2: [THE 10 BEST Charming Hotels in Milan 2025 (with Prices ... - Tripadvisor](https://www.tripadvisor.com/HotelsList-Milan-Charming-Hotels-zfp10847837.html)\n",
      "🔗 Source 3: [NYX HOTEL MILAN - Updated 2025 Prices & Reviews (Italy) - Tripadvisor](https://www.tripadvisor.com/Hotel_Review-g187849-d12130410-Reviews-NYX_Hotel_Milan-Milan_Lombardy.html)\n",
      "\u001b[0m\n"
     ]
    }
   ],
   "source": [
    "# Step 1: Create a thread\n",
    "thread = project_client.threads.create()\n",
    "print(f\"🧵 [1] Created thread  | ID: {thread.id}\")\n",
    "\n",
    "# Step 2: Send the user's message\n",
    "message = project_client.messages.create(thread_id=thread.id,\n",
    "                                         role=\"user\",\n",
    "                                         content=prompt)\n",
    "print(f\"💬 [2] Created message | ID: {message.id}\")\n",
    "\n",
    "# Step 3: Start a run\n",
    "run = project_client.runs.create(thread_id=thread.id, agent_id=agent.id)\n",
    "print(f\"🏃 [3] Created run     | ID: {run.id}\")\n",
    "\n",
    "# Step 4: Poll run status\n",
    "print(\"⏳ [4] Polling run status...\")\n",
    "while run.status in {\"queued\", \"in_progress\", \"requires_action\"}:\n",
    "    time.sleep(1)\n",
    "    run = project_client.runs.get(thread_id=thread.id, run_id=run.id)\n",
    "    print(f\"🔄 Status: {run.status}\")\n",
    "\n",
    "    if run.status == \"failed\":\n",
    "        print(f\"❌ Run failed | Error: {run.last_error}\")\n",
    "        break\n",
    "\n",
    "run_steps = project_client.run_steps.list(thread_id=thread.id, run_id=run.id)\n",
    "for step in run_steps:\n",
    "    print(f\"\\n🔍 Step ID details: {step.id}, Type: {step.type}\")\n",
    "    print(f\"Details step: {step}\")\n",
    "    \n",
    "# Step 5: Display agent responses\n",
    "print(\"\\n🤖 [5] Agent responses:\")\n",
    "messages = project_client.messages.list(thread_id=thread.id, order=ListSortOrder.ASCENDING)\n",
    "\n",
    "for msg in messages:\n",
    "    print(\"\\033[1;34m\")  # Blue text for agent messages\n",
    "    if msg.text_messages:\n",
    "        last_text = msg.text_messages[-1]\n",
    "        print(f\"💡 → {msg.role}: {last_text.text.value}\")\n",
    "    if msg.url_citation_annotations:\n",
    "        print(\"\\033[1;32m\")  # Green text for citations\n",
    "        idx = 1\n",
    "        for annotation in msg.url_citation_annotations:\n",
    "            print(f\"🔗 Source {idx}: [{annotation.url_citation.title}]({annotation.url_citation.url})\")\n",
    "            idx += 1\n",
    "\n",
    "print(\"\\033[0m\")  # Reset color"
   ]
  },
  {
   "cell_type": "code",
   "execution_count": 14,
   "id": "8ae7eb1b-0f27-49ba-b77a-81a12758f47c",
   "metadata": {},
   "outputs": [],
   "source": [
    "prompt = \"Find some flights from Paris to Milan\""
   ]
  },
  {
   "cell_type": "code",
   "execution_count": 15,
   "id": "a81c8410-33a4-44ab-961b-dc869806018f",
   "metadata": {},
   "outputs": [
    {
     "name": "stdout",
     "output_type": "stream",
     "text": [
      "🧵 [1] Created thread  | ID: thread_M0uHWNKLDlCAml89T7zurSpv\n",
      "💬 [2] Created message | ID: msg_qkP2vgzkqygFiDliJXZvLVEw\n",
      "🏃 [3] Created run     | ID: run_Qbffmu94tLc0c13BW2I2tPi3\n",
      "⏳ [4] Polling run status...\n",
      "🔄 Status: in_progress\n",
      "🔄 Status: in_progress\n",
      "🔄 Status: in_progress\n",
      "🔄 Status: completed\n",
      "\n",
      "🔍 Step ID details: step_035PvJwaxcu6fWutSn5LcBah, Type: message_creation\n",
      "Details step: {'id': 'step_035PvJwaxcu6fWutSn5LcBah', 'object': 'thread.run.step', 'created_at': 1750150723, 'run_id': 'run_Qbffmu94tLc0c13BW2I2tPi3', 'assistant_id': 'asst_eZaHkAqZBM8zHA2DQQpXM1y7', 'thread_id': 'thread_M0uHWNKLDlCAml89T7zurSpv', 'type': 'message_creation', 'status': 'completed', 'cancelled_at': None, 'completed_at': 1750150725, 'expires_at': None, 'failed_at': None, 'last_error': None, 'step_details': {'type': 'message_creation', 'message_creation': {'message_id': 'msg_M78TYhgP4zvfgIh82BrO4qQe'}}, 'usage': {'prompt_tokens': 3825, 'completion_tokens': 158, 'total_tokens': 3983, 'prompt_token_details': {'cached_tokens': 0}}}\n",
      "\n",
      "🔍 Step ID details: step_d49jpEy50o8WpsmM9PpGamKj, Type: tool_calls\n",
      "Details step: {'id': 'step_d49jpEy50o8WpsmM9PpGamKj', 'object': 'thread.run.step', 'created_at': 1750150721, 'run_id': 'run_Qbffmu94tLc0c13BW2I2tPi3', 'assistant_id': 'asst_eZaHkAqZBM8zHA2DQQpXM1y7', 'thread_id': 'thread_M0uHWNKLDlCAml89T7zurSpv', 'type': 'tool_calls', 'status': 'completed', 'cancelled_at': None, 'completed_at': 1750150723, 'expires_at': None, 'failed_at': None, 'last_error': None, 'step_details': {'type': 'tool_calls', 'tool_calls': [{'id': 'call_3DIJfC2ZJC5V3aMgxKo1p49l', 'type': 'bing_custom_search', 'bing_custom_search': {'requesturl': 'https://api.bing.microsoft.com/v7.0/search?q=flights from Paris to Milan June 2025', 'response_metadata': \"{'market': 'sv-SE', 'num_docs_retrieved': 5, 'num_docs_actually_used': 5}\"}}]}, 'usage': {'prompt_tokens': 488, 'completion_tokens': 23, 'total_tokens': 511, 'prompt_token_details': {'cached_tokens': 0}}}\n",
      "\n",
      "🤖 [5] Agent responses:\n",
      "\u001b[1;34m\n",
      "💡 → user: Find some flights from Paris to Milan\n",
      "\u001b[1;34m\n",
      "💡 → assistant: Flights from Paris to Milan are available with various options:\n",
      "\n",
      "1. **Budget Airlines**:\n",
      "   - Wizz Air and Ryanair offer flights starting as low as €25 for a round trip.\n",
      "   - EasyJet also provides direct flights, with prices typically starting at €65 for a round trip depending on the dates【3:0†source】【3:1†source】.\n",
      "\n",
      "2. **Main Carriers**:\n",
      "   - Air France has flights starting around €145, offering more amenities and flexibility【3:0†source】.\n",
      "\n",
      "3. **Flight Duration**:\n",
      "   - Direct flights take approximately 1.5 hours.\n",
      "\n",
      "For the best deals, consider booking at least 4–6 weeks in advance. Let me know if you'd like help booking a flight!\n",
      "\u001b[1;32m\n",
      "🔗 Source 1: [Vol pas cher Paris Milan (PAR - MIL) | Air France - France](https://wwws.airfrance.fr/fr-fr/vols-de-paris-a-milan)\n",
      "🔗 Source 2: [25€ Vols pas chers de Paris pour Milan (PAR - MIL) - KAYAK](https://www.kayak.fr/vols/Paris-PAR/Milan-MIL)\n",
      "🔗 Source 3: [Vol pas cher Paris Milan (PAR - MIL) | Air France - France](https://wwws.airfrance.fr/fr-fr/vols-de-paris-a-milan)\n",
      "\u001b[0m\n"
     ]
    }
   ],
   "source": [
    "# Step 1: Create a thread\n",
    "thread = project_client.threads.create()\n",
    "print(f\"🧵 [1] Created thread  | ID: {thread.id}\")\n",
    "\n",
    "# Step 2: Send the user's message\n",
    "message = project_client.messages.create(thread_id=thread.id,\n",
    "                                         role=\"user\",\n",
    "                                         content=prompt)\n",
    "print(f\"💬 [2] Created message | ID: {message.id}\")\n",
    "\n",
    "# Step 3: Start a run\n",
    "run = project_client.runs.create(thread_id=thread.id, agent_id=agent.id)\n",
    "print(f\"🏃 [3] Created run     | ID: {run.id}\")\n",
    "\n",
    "# Step 4: Poll run status\n",
    "print(\"⏳ [4] Polling run status...\")\n",
    "while run.status in {\"queued\", \"in_progress\", \"requires_action\"}:\n",
    "    time.sleep(1)\n",
    "    run = project_client.runs.get(thread_id=thread.id, run_id=run.id)\n",
    "    print(f\"🔄 Status: {run.status}\")\n",
    "\n",
    "    if run.status == \"failed\":\n",
    "        print(f\"❌ Run failed | Error: {run.last_error}\")\n",
    "        break\n",
    "\n",
    "run_steps = project_client.run_steps.list(thread_id=thread.id, run_id=run.id)\n",
    "for step in run_steps:\n",
    "    print(f\"\\n🔍 Step ID details: {step.id}, Type: {step.type}\")\n",
    "    print(f\"Details step: {step}\")\n",
    "\n",
    "# Step 5: Display agent responses\n",
    "print(\"\\n🤖 [5] Agent responses:\")\n",
    "messages = project_client.messages.list(thread_id=thread.id, order=ListSortOrder.ASCENDING)\n",
    "\n",
    "for msg in messages:\n",
    "    print(\"\\033[1;34m\")  # Blue text for agent messages\n",
    "    if msg.text_messages:\n",
    "        last_text = msg.text_messages[-1]\n",
    "        print(f\"💡 → {msg.role}: {last_text.text.value}\")\n",
    "    if msg.url_citation_annotations:\n",
    "        print(\"\\033[1;32m\")  # Green text for citations\n",
    "        idx = 1\n",
    "        for annotation in msg.url_citation_annotations:\n",
    "            print(f\"🔗 Source {idx}: [{annotation.url_citation.title}]({annotation.url_citation.url})\")\n",
    "            idx += 1\n",
    "\n",
    "print(\"\\033[0m\")  # Reset color"
   ]
  },
  {
   "cell_type": "markdown",
   "id": "0d0e22a3-45d0-474c-b9d5-ec60a54c5323",
   "metadata": {},
   "source": [
    "## Post processing"
   ]
  },
  {
   "cell_type": "code",
   "execution_count": 16,
   "id": "32d52e44-2120-4926-9e35-3d4732cf93ef",
   "metadata": {},
   "outputs": [
    {
     "name": "stdout",
     "output_type": "stream",
     "text": [
      "Agent Details:\n",
      "📛 Name        : travel-planner-agent\n",
      "🆔 ID          : asst_eZaHkAqZBM8zHA2DQQpXM1y7\n",
      "🧠 Model       : gpt-4o\n",
      "📜 Instructions: You are a travel planner dedicated to helping visitors discover top attractions, find the best hotels and restaurants, explore must-see sights, book flight tickets, and navigate public transportation with ease.\n"
     ]
    }
   ],
   "source": [
    "print(\n",
    "    f\"Agent Details:\\n\"\n",
    "    f\"📛 Name        : {agent.name}\\n\"\n",
    "    f\"🆔 ID          : {agent.id}\\n\"\n",
    "    f\"🧠 Model       : {agent.model}\\n\"\n",
    "    f\"📜 Instructions: {agent.instructions}\"\n",
    ")"
   ]
  },
  {
   "cell_type": "code",
   "execution_count": null,
   "id": "80bdf657-06c7-4317-994d-f148d9427003",
   "metadata": {},
   "outputs": [],
   "source": [
    "project_client.delete_agent(agent.id)\n",
    "print(f\"Deleted agent, agent ID: {agent.id}\")"
   ]
  },
  {
   "cell_type": "code",
   "execution_count": null,
   "id": "0bf92abb-da70-4d98-a0c5-8379b4235594",
   "metadata": {},
   "outputs": [],
   "source": []
  }
 ],
 "metadata": {
  "kernelspec": {
   "display_name": "Python 3.10 - SDK v2",
   "language": "python",
   "name": "python310-sdkv2"
  },
  "language_info": {
   "codemirror_mode": {
    "name": "ipython",
    "version": 3
   },
   "file_extension": ".py",
   "mimetype": "text/x-python",
   "name": "python",
   "nbconvert_exporter": "python",
   "pygments_lexer": "ipython3",
   "version": "3.10.14"
  },
  "varInspector": {
   "cols": {
    "lenName": 16,
    "lenType": 16,
    "lenVar": 40
   },
   "kernels_config": {
    "python": {
     "delete_cmd_postfix": "",
     "delete_cmd_prefix": "del ",
     "library": "var_list.py",
     "varRefreshCmd": "print(var_dic_list())"
    },
    "r": {
     "delete_cmd_postfix": ") ",
     "delete_cmd_prefix": "rm(",
     "library": "var_list.r",
     "varRefreshCmd": "cat(var_dic_list()) "
    }
   },
   "types_to_exclude": [
    "module",
    "function",
    "builtin_function_or_method",
    "instance",
    "_Feature"
   ],
   "window_display": false
  }
 },
 "nbformat": 4,
 "nbformat_minor": 5
}
