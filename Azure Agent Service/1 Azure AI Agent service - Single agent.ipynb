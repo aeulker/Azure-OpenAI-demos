{
 "cells": [
  {
   "cell_type": "markdown",
   "id": "431cc026-279f-4105-8444-f1b93650da0d",
   "metadata": {},
   "source": [
    "# Azure AI Agent service - Single agent\n",
    "\n",
    "<img src=\"https://learn.microsoft.com/en-us/azure/ai-services/agents/media/agent-service-the-glue.png\" width=800>\n",
    "\n",
    "> https://learn.microsoft.com/en-us/azure/ai-services/agents/"
   ]
  },
  {
   "cell_type": "code",
   "execution_count": 1,
   "id": "7a3e72d0-7521-438c-928d-5fa293b0f419",
   "metadata": {},
   "outputs": [],
   "source": [
    "import json\n",
    "import os\n",
    "import sys\n",
    "import time\n",
    "\n",
    "from azure.ai.agents import AgentsClient\n",
    "from azure.ai.agents.models import ListSortOrder\n",
    "from azure.identity import DefaultAzureCredential\n",
    "from datetime import datetime, timezone, timedelta\n",
    "from dotenv import load_dotenv\n",
    "from openai import AzureOpenAI"
   ]
  },
  {
   "cell_type": "code",
   "execution_count": 2,
   "id": "65334de7-4005-401a-89c1-be24f75abbd9",
   "metadata": {},
   "outputs": [
    {
     "data": {
      "text/plain": [
       "True"
      ]
     },
     "execution_count": 2,
     "metadata": {},
     "output_type": "execute_result"
    }
   ],
   "source": [
    "load_dotenv(\"azure.env\")"
   ]
  },
  {
   "cell_type": "code",
   "execution_count": 3,
   "id": "8628712a-0d10-4351-8993-b4c3243f83be",
   "metadata": {},
   "outputs": [
    {
     "data": {
      "text/plain": [
       "'3.10.14 (main, May  6 2024, 19:42:50) [GCC 11.2.0]'"
      ]
     },
     "execution_count": 3,
     "metadata": {},
     "output_type": "execute_result"
    }
   ],
   "source": [
    "sys.version"
   ]
  },
  {
   "cell_type": "markdown",
   "id": "ec62788e",
   "metadata": {},
   "source": [
    "## Project client"
   ]
  },
  {
   "cell_type": "code",
   "execution_count": 4,
   "id": "76c7bbb7-0faa-4500-ba42-7c5b176f6196",
   "metadata": {},
   "outputs": [],
   "source": [
    "endpoint = os.getenv(\"PROJECT_ENDPOINT\")\n",
    "credential = DefaultAzureCredential()\n",
    "\n",
    "project_client = AgentsClient(endpoint=endpoint, credential=credential)"
   ]
  },
  {
   "cell_type": "markdown",
   "id": "75de3d4e-1d24-4060-9bf8-70e5c638fffa",
   "metadata": {},
   "source": [
    "## Single agent"
   ]
  },
  {
   "cell_type": "code",
   "execution_count": 5,
   "id": "5a1fe1bf-f9bf-4588-a433-31f20d027f07",
   "metadata": {},
   "outputs": [
    {
     "name": "stdout",
     "output_type": "stream",
     "text": [
      "Created agent, agent ID: asst_DrTB2OxnfO6MeFrwTqGXrO9S\n"
     ]
    }
   ],
   "source": [
    "agent = project_client.create_agent(\n",
    "    model=\"gpt-4o\",\n",
    "    name=\"my-agent\",\n",
    "    instructions=\"You are helpful agent\",\n",
    ")\n",
    "print(f\"Created agent, agent ID: {agent.id}\")"
   ]
  },
  {
   "cell_type": "code",
   "execution_count": 6,
   "id": "6ca62f1b-06a0-4752-b877-4656597f01a5",
   "metadata": {},
   "outputs": [
    {
     "data": {
      "text/plain": [
       "{'id': 'asst_DrTB2OxnfO6MeFrwTqGXrO9S', 'object': 'assistant', 'created_at': 1749546036, 'name': 'my-agent', 'description': None, 'model': 'gpt-4o', 'instructions': 'You are helpful agent', 'tools': [], 'top_p': 1.0, 'temperature': 1.0, 'tool_resources': {}, 'metadata': {}, 'response_format': 'auto'}"
      ]
     },
     "execution_count": 6,
     "metadata": {},
     "output_type": "execute_result"
    }
   ],
   "source": [
    "agent"
   ]
  },
  {
   "cell_type": "code",
   "execution_count": 7,
   "id": "ae72e261-9d96-42b2-ac1a-a250b4b63951",
   "metadata": {},
   "outputs": [],
   "source": [
    "prompt = \"Hello\""
   ]
  },
  {
   "cell_type": "code",
   "execution_count": 8,
   "id": "7c12fd4a-0fdf-4e7b-b2f7-9e0d540c8a3f",
   "metadata": {},
   "outputs": [
    {
     "name": "stdout",
     "output_type": "stream",
     "text": [
      "Created thread, thread ID: thread_uXNRuF4JSjlr7hNB4GpquyhR\n"
     ]
    }
   ],
   "source": [
    "# [START create_thread]\n",
    "thread = project_client.threads.create()\n",
    "# [END create_thread]\n",
    "print(f\"Created thread, thread ID: {thread.id}\")"
   ]
  },
  {
   "cell_type": "code",
   "execution_count": 9,
   "id": "f1269337",
   "metadata": {},
   "outputs": [
    {
     "name": "stdout",
     "output_type": "stream",
     "text": [
      "Created message, message ID: msg_MUUJn3tmJGH9ve6MofB4AoFf\n"
     ]
    }
   ],
   "source": [
    "# [START create_message]\n",
    "message = project_client.messages.create(thread_id=thread.id, role=\"user\", content=\"Hello, tell me a joke\")\n",
    "# [END create_message]\n",
    "print(f\"Created message, message ID: {message.id}\")"
   ]
  },
  {
   "cell_type": "code",
   "execution_count": 10,
   "id": "093a7f1e-2674-47b4-bb96-ae531754cc71",
   "metadata": {},
   "outputs": [
    {
     "data": {
      "text/plain": [
       "{'id': 'thread_uXNRuF4JSjlr7hNB4GpquyhR', 'object': 'thread', 'created_at': 1749546036, 'metadata': {}, 'tool_resources': {}}"
      ]
     },
     "execution_count": 10,
     "metadata": {},
     "output_type": "execute_result"
    }
   ],
   "source": [
    "thread"
   ]
  },
  {
   "cell_type": "code",
   "execution_count": 11,
   "id": "2825c1d0-2816-4e56-a905-999df2c4fa2f",
   "metadata": {},
   "outputs": [
    {
     "data": {
      "text/plain": [
       "{'id': 'msg_MUUJn3tmJGH9ve6MofB4AoFf', 'object': 'thread.message', 'created_at': 1749546037, 'assistant_id': None, 'thread_id': 'thread_uXNRuF4JSjlr7hNB4GpquyhR', 'run_id': None, 'role': 'user', 'content': [{'type': 'text', 'text': {'value': 'Hello, tell me a joke', 'annotations': []}}], 'attachments': [], 'metadata': {}}"
      ]
     },
     "execution_count": 11,
     "metadata": {},
     "output_type": "execute_result"
    }
   ],
   "source": [
    "message"
   ]
  },
  {
   "cell_type": "code",
   "execution_count": 12,
   "id": "f67cd782",
   "metadata": {},
   "outputs": [
    {
     "name": "stdout",
     "output_type": "stream",
     "text": [
      "Created run, run ID: run_vm1gNUXLzhgE2J1cNB6G9flt\n"
     ]
    }
   ],
   "source": [
    "# [START create_run]\n",
    "run = project_client.runs.create(thread_id=thread.id, agent_id=agent.id)\n",
    "# [END create_run]\n",
    "print(f\"Created run, run ID: {run.id}\")"
   ]
  },
  {
   "cell_type": "code",
   "execution_count": 13,
   "id": "0fbd1da7-7019-4993-933a-da008aed4509",
   "metadata": {},
   "outputs": [
    {
     "name": "stdout",
     "output_type": "stream",
     "text": [
      "Run status: completed\n"
     ]
    }
   ],
   "source": [
    "# Poll the run as long as run status is queued or in progress\n",
    "while run.status in [\"queued\", \"in_progress\", \"requires_action\"]:\n",
    "    # Wait for a second\n",
    "    time.sleep(1)\n",
    "    run = project_client.runs.get(thread_id=thread.id, run_id=run.id)\n",
    "    print(f\"Run status: {run.status}\")\n",
    "\n",
    "    if run.status == \"failed\":\n",
    "        print(f\"Run error: {run.last_error}\")"
   ]
  },
  {
   "cell_type": "code",
   "execution_count": 14,
   "id": "2db66931-c001-49c5-add8-4a0c3b596cf1",
   "metadata": {},
   "outputs": [
    {
     "data": {
      "text/plain": [
       "{'id': 'run_vm1gNUXLzhgE2J1cNB6G9flt', 'object': 'thread.run', 'created_at': 1749546038, 'assistant_id': 'asst_DrTB2OxnfO6MeFrwTqGXrO9S', 'thread_id': 'thread_uXNRuF4JSjlr7hNB4GpquyhR', 'status': 'completed', 'started_at': 1749546039, 'expires_at': None, 'cancelled_at': None, 'failed_at': None, 'completed_at': 1749546039, 'required_action': None, 'last_error': None, 'model': 'gpt-4o', 'instructions': 'You are helpful agent', 'tools': [], 'tool_resources': {}, 'metadata': {}, 'temperature': 1.0, 'top_p': 1.0, 'max_completion_tokens': None, 'max_prompt_tokens': None, 'truncation_strategy': {'type': 'auto', 'last_messages': None}, 'incomplete_details': None, 'usage': {'prompt_tokens': 63, 'completion_tokens': 30, 'total_tokens': 93, 'prompt_token_details': {'cached_tokens': 0}}, 'response_format': 'auto', 'tool_choice': 'auto', 'parallel_tool_calls': True}"
      ]
     },
     "execution_count": 14,
     "metadata": {},
     "output_type": "execute_result"
    }
   ],
   "source": [
    "run"
   ]
  },
  {
   "cell_type": "code",
   "execution_count": 15,
   "id": "1852cd9b-3d79-4a52-81cb-b3773d9d3525",
   "metadata": {},
   "outputs": [
    {
     "data": {
      "text/plain": [
       "{'prompt_tokens': 63, 'completion_tokens': 30, 'total_tokens': 93, 'prompt_token_details': {'cached_tokens': 0}}"
      ]
     },
     "execution_count": 15,
     "metadata": {},
     "output_type": "execute_result"
    }
   ],
   "source": [
    "run.usage"
   ]
  },
  {
   "cell_type": "code",
   "execution_count": 16,
   "id": "c7516374-e059-4832-9d16-f9c0d1e35fcd",
   "metadata": {},
   "outputs": [
    {
     "name": "stdout",
     "output_type": "stream",
     "text": [
      "Start   : 2025-06-10 09:00:39+0000\n",
      "End     : 2025-06-10 09:00:39+0000\n",
      "Elapsed : 0:00:00  (0.000 seconds)\n"
     ]
    }
   ],
   "source": [
    "start = run.started_at\n",
    "end = run.completed_at\n",
    "elapsed = end - start\n",
    "\n",
    "iso_fmt = \"%Y-%m-%d %H:%M:%S%z\"\n",
    "print(f\"Start   : {start.strftime(iso_fmt)}\")\n",
    "print(f\"End     : {end.strftime(iso_fmt)}\")\n",
    "print(f\"Elapsed : {elapsed}  \" f\"({elapsed.total_seconds():.3f} seconds)\")"
   ]
  },
  {
   "cell_type": "code",
   "execution_count": 17,
   "id": "3c4de121-4ffa-4f9a-9984-655b893fae9e",
   "metadata": {},
   "outputs": [
    {
     "name": "stdout",
     "output_type": "stream",
     "text": [
      "user: Hello, tell me a joke\n",
      "assistant: Sure! Here's a classic one for you:\n",
      "\n",
      "Why don’t skeletons fight each other?\n",
      "\n",
      "Because they don’t have the guts! 😄\n"
     ]
    }
   ],
   "source": [
    "# [START list_messages]\n",
    "messages = project_client.messages.list(thread_id=thread.id, order=ListSortOrder.ASCENDING)\n",
    "for msg in messages:\n",
    "    if msg.text_messages:\n",
    "        last_text = msg.text_messages[-1]\n",
    "        print(f\"{msg.role}: {last_text.text.value}\")\n",
    "# [END list_messages]"
   ]
  },
  {
   "cell_type": "code",
   "execution_count": 18,
   "id": "006de6f5-cdde-42dc-9f6a-8f73373e6faf",
   "metadata": {},
   "outputs": [],
   "source": [
    "id1 = agent.id"
   ]
  },
  {
   "cell_type": "markdown",
   "id": "966f2443-36ef-4280-bcc8-1577dedb9496",
   "metadata": {},
   "source": [
    "## Another agent"
   ]
  },
  {
   "cell_type": "code",
   "execution_count": 19,
   "id": "ab345bb7-f4b1-4034-b230-106a4556820d",
   "metadata": {},
   "outputs": [
    {
     "name": "stdout",
     "output_type": "stream",
     "text": [
      "Created agent, agent ID: asst_Soj8PWqT7RSYeEXn9MbPsyXS\n"
     ]
    }
   ],
   "source": [
    "# Create a new agent with different instructions\n",
    "\n",
    "agent = project_client.create_agent(\n",
    "    model=\"gpt-4o-mini\",\n",
    "    name=\"my-agent\",\n",
    "    instructions=\"You are a GenAI agent. Always answer in French\",\n",
    ")\n",
    "print(f\"Created agent, agent ID: {agent.id}\")"
   ]
  },
  {
   "cell_type": "code",
   "execution_count": 20,
   "id": "17b3db8b-35d8-4fde-b3f2-5670f509dd6d",
   "metadata": {},
   "outputs": [
    {
     "name": "stdout",
     "output_type": "stream",
     "text": [
      "Created thread, thread ID: thread_cTGpJPLCmzxOasY7BhiqAoDZ\n"
     ]
    }
   ],
   "source": [
    "# [START create_thread]\n",
    "thread = project_client.threads.create()\n",
    "# [END create_thread]\n",
    "print(f\"Created thread, thread ID: {thread.id}\")"
   ]
  },
  {
   "cell_type": "code",
   "execution_count": 21,
   "id": "423ddd1c",
   "metadata": {},
   "outputs": [
    {
     "name": "stdout",
     "output_type": "stream",
     "text": [
      "Created message, message ID: msg_yY3GRICJQB9ycO8t8iS0lJDI\n"
     ]
    }
   ],
   "source": [
    "# [START create_message]\n",
    "message = project_client.messages.create(thread_id=thread.id, role=\"user\", content=\"What is a GenAI model?\")\n",
    "# [END create_message]\n",
    "print(f\"Created message, message ID: {message.id}\")"
   ]
  },
  {
   "cell_type": "code",
   "execution_count": 22,
   "id": "32f565d3-bdf7-47b5-940c-4ebbe5cfd548",
   "metadata": {},
   "outputs": [
    {
     "name": "stdout",
     "output_type": "stream",
     "text": [
      "Created run, run ID: run_QnJr0DppqCU9Fn9XKhHjl404\n"
     ]
    }
   ],
   "source": [
    "# [START create_run]\n",
    "run = project_client.runs.create(thread_id=thread.id, agent_id=agent.id)\n",
    "# [END create_run]\n",
    "print(f\"Created run, run ID: {run.id}\")"
   ]
  },
  {
   "cell_type": "code",
   "execution_count": 23,
   "id": "63da8069",
   "metadata": {},
   "outputs": [
    {
     "name": "stdout",
     "output_type": "stream",
     "text": [
      "Run status: in_progress\n",
      "Run status: completed\n"
     ]
    }
   ],
   "source": [
    "# Poll the run as long as run status is queued or in progress\n",
    "while run.status in [\"queued\", \"in_progress\", \"requires_action\"]:\n",
    "    # Wait for a second\n",
    "    time.sleep(1)\n",
    "    run = project_client.runs.get(thread_id=thread.id, run_id=run.id)\n",
    "    # [END create_run]\n",
    "    print(f\"Run status: {run.status}\")\n",
    "\n",
    "    if run.status == \"failed\":\n",
    "        print(f\"Run error: {run.last_error}\")"
   ]
  },
  {
   "cell_type": "code",
   "execution_count": 24,
   "id": "2d0873ad",
   "metadata": {},
   "outputs": [
    {
     "data": {
      "text/plain": [
       "{'prompt_tokens': 71, 'completion_tokens': 116, 'total_tokens': 187, 'prompt_token_details': {'cached_tokens': 0}}"
      ]
     },
     "execution_count": 24,
     "metadata": {},
     "output_type": "execute_result"
    }
   ],
   "source": [
    "run.usage"
   ]
  },
  {
   "cell_type": "code",
   "execution_count": 25,
   "id": "afea9a7d",
   "metadata": {},
   "outputs": [
    {
     "name": "stdout",
     "output_type": "stream",
     "text": [
      "Start   : 2025-06-10 09:00:44+0000\n",
      "End     : 2025-06-10 09:00:46+0000\n",
      "Elapsed : 0:00:02  (2.000 seconds)\n"
     ]
    }
   ],
   "source": [
    "start = run.started_at\n",
    "end = run.completed_at\n",
    "elapsed = end - start\n",
    "\n",
    "iso_fmt = \"%Y-%m-%d %H:%M:%S%z\"\n",
    "print(f\"Start   : {start.strftime(iso_fmt)}\")\n",
    "print(f\"End     : {end.strftime(iso_fmt)}\")\n",
    "print(f\"Elapsed : {elapsed}  \" f\"({elapsed.total_seconds():.3f} seconds)\")"
   ]
  },
  {
   "cell_type": "code",
   "execution_count": 26,
   "id": "7dc9c1a1-119e-41ac-9952-58c0de762796",
   "metadata": {},
   "outputs": [
    {
     "name": "stdout",
     "output_type": "stream",
     "text": [
      "user: What is a GenAI model?\n",
      "assistant: Un modèle GenAI, ou Génération d'Intelligence Artificielle, est un type de modèle d'intelligence artificielle conçu pour générer du contenu, comme du texte, des images, de la musique, etc. Ces modèles utilisent des techniques avancées d'apprentissage automatique, telles que les réseaux de neurones, pour créer des réponses ou des créations originales basées sur les données sur lesquelles ils ont été formés. Ils peuvent être utilisés dans divers domaines, notamment la création de contenu, l'assistance virtuelle, la traduction, et bien d'autres.\n"
     ]
    }
   ],
   "source": [
    "messages = project_client.messages.list(thread_id=thread.id, order=ListSortOrder.ASCENDING)\n",
    "for msg in messages:\n",
    "    if msg.text_messages:\n",
    "        last_text = msg.text_messages[-1]\n",
    "        print(f\"{msg.role}: {last_text.text.value}\")"
   ]
  },
  {
   "cell_type": "code",
   "execution_count": 27,
   "id": "b5debd6c-6a71-4887-9b63-121b10dbbdee",
   "metadata": {},
   "outputs": [],
   "source": [
    "id2 = agent.id"
   ]
  },
  {
   "cell_type": "markdown",
   "id": "6a87b16c-ddfa-47fb-b95d-bd009cc34859",
   "metadata": {},
   "source": [
    "## List of agents"
   ]
  },
  {
   "cell_type": "code",
   "execution_count": 28,
   "id": "e7fd1332-bb81-4474-a0a5-dd8d43c753ff",
   "metadata": {},
   "outputs": [
    {
     "name": "stdout",
     "output_type": "stream",
     "text": [
      "Agent ID: asst_Soj8PWqT7RSYeEXn9MbPsyXS, Name: my-agent, Model: gpt-4o-mini, Instructions: You are a GenAI agent. Always answer in French\n",
      "Agent ID: asst_DrTB2OxnfO6MeFrwTqGXrO9S, Name: my-agent, Model: gpt-4o, Instructions: You are helpful agent\n"
     ]
    }
   ],
   "source": [
    "agents = project_client.list_agents()\n",
    "\n",
    "for agent in agents:\n",
    "    print(f\"Agent ID: {agent.id}, Name: {agent.name}, Model: {agent.model}, Instructions: {agent.instructions}\")"
   ]
  },
  {
   "cell_type": "code",
   "execution_count": 29,
   "id": "dfe8d3a6-e003-4aa8-8726-7e4f71612b70",
   "metadata": {},
   "outputs": [
    {
     "name": "stdout",
     "output_type": "stream",
     "text": [
      "Deleted agent, agent ID: asst_DrTB2OxnfO6MeFrwTqGXrO9S\n"
     ]
    }
   ],
   "source": [
    "project_client.delete_agent(id1)\n",
    "print(f\"Deleted agent, agent ID: {id1}\")"
   ]
  },
  {
   "cell_type": "code",
   "execution_count": 30,
   "id": "56285ad1-6676-45dc-9f58-839902da04b5",
   "metadata": {},
   "outputs": [
    {
     "name": "stdout",
     "output_type": "stream",
     "text": [
      "Deleted agent, agent ID: asst_Soj8PWqT7RSYeEXn9MbPsyXS\n"
     ]
    }
   ],
   "source": [
    "project_client.delete_agent(id2)\n",
    "print(f\"Deleted agent, agent ID: {id2}\")"
   ]
  },
  {
   "cell_type": "code",
   "execution_count": null,
   "id": "9cc258c6-379d-4ed0-ada9-daba45ebcf3f",
   "metadata": {},
   "outputs": [],
   "source": []
  }
 ],
 "metadata": {
  "kernelspec": {
   "display_name": "Python 3.10 - SDK v2",
   "language": "python",
   "name": "python310-sdkv2"
  },
  "language_info": {
   "codemirror_mode": {
    "name": "ipython",
    "version": 3
   },
   "file_extension": ".py",
   "mimetype": "text/x-python",
   "name": "python",
   "nbconvert_exporter": "python",
   "pygments_lexer": "ipython3",
   "version": "3.10.14"
  },
  "varInspector": {
   "cols": {
    "lenName": 16,
    "lenType": 16,
    "lenVar": 40
   },
   "kernels_config": {
    "python": {
     "delete_cmd_postfix": "",
     "delete_cmd_prefix": "del ",
     "library": "var_list.py",
     "varRefreshCmd": "print(var_dic_list())"
    },
    "r": {
     "delete_cmd_postfix": ") ",
     "delete_cmd_prefix": "rm(",
     "library": "var_list.r",
     "varRefreshCmd": "cat(var_dic_list()) "
    }
   },
   "types_to_exclude": [
    "module",
    "function",
    "builtin_function_or_method",
    "instance",
    "_Feature"
   ],
   "window_display": false
  }
 },
 "nbformat": 4,
 "nbformat_minor": 5
}
