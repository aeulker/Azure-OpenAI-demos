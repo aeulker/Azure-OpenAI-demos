{
 "cells": [
  {
   "cell_type": "markdown",
   "id": "431cc026-279f-4105-8444-f1b93650da0d",
   "metadata": {},
   "source": [
    "# Azure AI Agent service - Single agent\n",
    "\n",
    "<img src=\"agent.jpg\" width=800>\n",
    "<img src=\"foundry.png\" width=800>\n",
    "\n",
    "> https://learn.microsoft.com/en-us/azure/ai-services/agents/"
   ]
  },
  {
   "cell_type": "code",
   "execution_count": 1,
   "id": "5e010f63-6e7e-463a-a540-1340257af40e",
   "metadata": {},
   "outputs": [],
   "source": [
    "#%pip install --upgrade azure-ai-projects"
   ]
  },
  {
   "cell_type": "code",
   "execution_count": 2,
   "id": "7a3e72d0-7521-438c-928d-5fa293b0f419",
   "metadata": {},
   "outputs": [],
   "source": [
    "import json\n",
    "import os\n",
    "import sys\n",
    "import time\n",
    "\n",
    "from azure.ai.projects import AIProjectClient\n",
    "from azure.identity import DefaultAzureCredential\n",
    "from datetime import datetime, timezone, timedelta\n",
    "from dotenv import load_dotenv\n",
    "from openai import AzureOpenAI"
   ]
  },
  {
   "cell_type": "code",
   "execution_count": 3,
   "id": "65334de7-4005-401a-89c1-be24f75abbd9",
   "metadata": {},
   "outputs": [
    {
     "data": {
      "text/plain": [
       "True"
      ]
     },
     "execution_count": 3,
     "metadata": {},
     "output_type": "execute_result"
    }
   ],
   "source": [
    "load_dotenv(\"azure.env\")"
   ]
  },
  {
   "cell_type": "code",
   "execution_count": 4,
   "id": "8628712a-0d10-4351-8993-b4c3243f83be",
   "metadata": {},
   "outputs": [
    {
     "data": {
      "text/plain": [
       "'3.10.14 (main, May  6 2024, 19:42:50) [GCC 11.2.0]'"
      ]
     },
     "execution_count": 4,
     "metadata": {},
     "output_type": "execute_result"
    }
   ],
   "source": [
    "sys.version"
   ]
  },
  {
   "cell_type": "markdown",
   "id": "cc2c1d28-e366-442e-a186-81239ec337ec",
   "metadata": {},
   "source": [
    "## Project"
   ]
  },
  {
   "cell_type": "code",
   "execution_count": 5,
   "id": "c86b8e00-3a88-467d-a390-85ba88929d8e",
   "metadata": {},
   "outputs": [],
   "source": [
    "# Create an Azure AI Client from a connection string, copied from your Azure AI Foundry project.\n",
    "# It should be in the format \"<HostName>;<AzureSubscriptionId>;<ResourceGroup>;<HubName>\"\n",
    "# Customers need to login to Azure subscription via Azure CLI and set the environment variables"
   ]
  },
  {
   "cell_type": "code",
   "execution_count": 6,
   "id": "76c7bbb7-0faa-4500-ba42-7c5b176f6196",
   "metadata": {},
   "outputs": [],
   "source": [
    "project_client = AIProjectClient.from_connection_string(\n",
    "    credential=DefaultAzureCredential(),\n",
    "    conn_str=os.getenv(\"PROJECT_CONNECTION_STRING\"),\n",
    ")"
   ]
  },
  {
   "cell_type": "markdown",
   "id": "75de3d4e-1d24-4060-9bf8-70e5c638fffa",
   "metadata": {},
   "source": [
    "## Single agent"
   ]
  },
  {
   "cell_type": "code",
   "execution_count": 7,
   "id": "5a1fe1bf-f9bf-4588-a433-31f20d027f07",
   "metadata": {},
   "outputs": [
    {
     "name": "stdout",
     "output_type": "stream",
     "text": [
      "Created agent with ID = asst_G3CWN3nJfcTrHrI0Gd0naby4\n"
     ]
    }
   ],
   "source": [
    "model = \"gpt-4o\"\n",
    "name = \"gpt4o-agent\"\n",
    "instructions = \"You are a GenAI agent\"\n",
    "\n",
    "agent = project_client.agents.create_agent(\n",
    "    model=model,\n",
    "    name=name,\n",
    "    instructions=instructions,\n",
    "    temperature=0.7,\n",
    "    top_p=1,\n",
    "    response_format='auto',\n",
    ")\n",
    "\n",
    "print(f\"Created agent with ID = {agent.id}\")"
   ]
  },
  {
   "cell_type": "code",
   "execution_count": 8,
   "id": "6ca62f1b-06a0-4752-b877-4656597f01a5",
   "metadata": {},
   "outputs": [
    {
     "data": {
      "text/plain": [
       "{'id': 'asst_G3CWN3nJfcTrHrI0Gd0naby4', 'object': 'assistant', 'created_at': 1745961601, 'name': 'gpt4o-agent', 'description': None, 'model': 'gpt-4o', 'instructions': 'You are a GenAI agent', 'tools': [], 'top_p': 1.0, 'temperature': 0.7, 'tool_resources': {}, 'metadata': {}, 'response_format': 'auto'}"
      ]
     },
     "execution_count": 8,
     "metadata": {},
     "output_type": "execute_result"
    }
   ],
   "source": [
    "agent"
   ]
  },
  {
   "cell_type": "code",
   "execution_count": 9,
   "id": "ae72e261-9d96-42b2-ac1a-a250b4b63951",
   "metadata": {},
   "outputs": [],
   "source": [
    "prompt = \"Hello\""
   ]
  },
  {
   "cell_type": "code",
   "execution_count": 10,
   "id": "7c12fd4a-0fdf-4e7b-b2f7-9e0d540c8a3f",
   "metadata": {},
   "outputs": [
    {
     "name": "stdout",
     "output_type": "stream",
     "text": [
      "Created thread ID = thread_SCNWecNRuv0UkFpuCoj4QvQ9\n",
      "Created message ID = msg_DgtW4JM8Zbd1ALCVzqANikII\n"
     ]
    }
   ],
   "source": [
    "# Create thread for communication\n",
    "thread = project_client.agents.create_thread()\n",
    "print(f\"Created thread ID = {thread.id}\")\n",
    "\n",
    "# Create message to thread\n",
    "message = project_client.agents.create_message(\n",
    "    thread_id=thread.id,\n",
    "    role=\"user\",\n",
    "    content=prompt,\n",
    ")\n",
    "\n",
    "print(f\"Created message ID = {message.id}\")"
   ]
  },
  {
   "cell_type": "code",
   "execution_count": 11,
   "id": "093a7f1e-2674-47b4-bb96-ae531754cc71",
   "metadata": {},
   "outputs": [
    {
     "data": {
      "text/plain": [
       "{'id': 'thread_SCNWecNRuv0UkFpuCoj4QvQ9', 'object': 'thread', 'created_at': 1745961601, 'metadata': {}, 'tool_resources': {}}"
      ]
     },
     "execution_count": 11,
     "metadata": {},
     "output_type": "execute_result"
    }
   ],
   "source": [
    "thread"
   ]
  },
  {
   "cell_type": "code",
   "execution_count": 12,
   "id": "2825c1d0-2816-4e56-a905-999df2c4fa2f",
   "metadata": {},
   "outputs": [
    {
     "data": {
      "text/plain": [
       "{'id': 'msg_DgtW4JM8Zbd1ALCVzqANikII', 'object': 'thread.message', 'created_at': 1745961602, 'assistant_id': None, 'thread_id': 'thread_SCNWecNRuv0UkFpuCoj4QvQ9', 'run_id': None, 'role': 'user', 'content': [{'type': 'text', 'text': {'value': 'Hello', 'annotations': []}}], 'attachments': [], 'metadata': {}}"
      ]
     },
     "execution_count": 12,
     "metadata": {},
     "output_type": "execute_result"
    }
   ],
   "source": [
    "message"
   ]
  },
  {
   "cell_type": "code",
   "execution_count": 13,
   "id": "0fbd1da7-7019-4993-933a-da008aed4509",
   "metadata": {},
   "outputs": [
    {
     "name": "stdout",
     "output_type": "stream",
     "text": [
      "RunStatus.COMPLETED\n"
     ]
    }
   ],
   "source": [
    "run = project_client.agents.create_run(thread_id=thread.id, agent_id=agent.id)\n",
    "\n",
    "# Poll the run as long as run status is queued or in progress\n",
    "while run.status in [\"queued\", \"in_progress\", \"requires_action\"]:\n",
    "    # Wait for a second\n",
    "    time.sleep(1)\n",
    "    run = project_client.agents.get_run(thread_id=thread.id, run_id=run.id)\n",
    "\n",
    "print(run.status)"
   ]
  },
  {
   "cell_type": "code",
   "execution_count": 14,
   "id": "2db66931-c001-49c5-add8-4a0c3b596cf1",
   "metadata": {},
   "outputs": [
    {
     "data": {
      "text/plain": [
       "{'id': 'run_gvsV3qVUIAnxAtQuTH8olmJD', 'object': 'thread.run', 'created_at': 1745961603, 'assistant_id': 'asst_G3CWN3nJfcTrHrI0Gd0naby4', 'thread_id': 'thread_SCNWecNRuv0UkFpuCoj4QvQ9', 'status': 'completed', 'started_at': 1745961604, 'expires_at': None, 'cancelled_at': None, 'failed_at': None, 'completed_at': 1745961604, 'required_action': None, 'last_error': None, 'model': 'gpt-4o', 'instructions': 'You are a GenAI agent', 'tools': [], 'tool_resources': {}, 'metadata': {}, 'temperature': 0.7, 'top_p': 1.0, 'max_completion_tokens': None, 'max_prompt_tokens': None, 'truncation_strategy': {'type': 'auto', 'last_messages': None}, 'incomplete_details': None, 'usage': {'prompt_tokens': 60, 'completion_tokens': 12, 'total_tokens': 72, 'prompt_token_details': {'cached_tokens': 0}}, 'response_format': 'auto', 'tool_choice': 'auto', 'parallel_tool_calls': True}"
      ]
     },
     "execution_count": 14,
     "metadata": {},
     "output_type": "execute_result"
    }
   ],
   "source": [
    "run"
   ]
  },
  {
   "cell_type": "code",
   "execution_count": 15,
   "id": "1852cd9b-3d79-4a52-81cb-b3773d9d3525",
   "metadata": {},
   "outputs": [
    {
     "data": {
      "text/plain": [
       "{'prompt_tokens': 60, 'completion_tokens': 12, 'total_tokens': 72, 'prompt_token_details': {'cached_tokens': 0}}"
      ]
     },
     "execution_count": 15,
     "metadata": {},
     "output_type": "execute_result"
    }
   ],
   "source": [
    "run.usage"
   ]
  },
  {
   "cell_type": "code",
   "execution_count": 16,
   "id": "c7516374-e059-4832-9d16-f9c0d1e35fcd",
   "metadata": {},
   "outputs": [
    {
     "name": "stdout",
     "output_type": "stream",
     "text": [
      "Start   : 2025-04-29 21:20:04+0000\n",
      "End     : 2025-04-29 21:20:04+0000\n",
      "Elapsed : 0:00:00  (0.000 seconds)\n"
     ]
    }
   ],
   "source": [
    "start = run.started_at\n",
    "end = run.completed_at\n",
    "elapsed = end - start\n",
    "\n",
    "iso_fmt = \"%Y-%m-%d %H:%M:%S%z\"\n",
    "print(f\"Start   : {start.strftime(iso_fmt)}\")\n",
    "print(f\"End     : {end.strftime(iso_fmt)}\")\n",
    "print(f\"Elapsed : {elapsed}  \" f\"({elapsed.total_seconds():.3f} seconds)\")"
   ]
  },
  {
   "cell_type": "code",
   "execution_count": 17,
   "id": "3c4de121-4ffa-4f9a-9984-655b893fae9e",
   "metadata": {},
   "outputs": [
    {
     "name": "stdout",
     "output_type": "stream",
     "text": [
      "{'object': 'list', 'data': [{'id': 'msg_glo960a7d3G58KdrtWP5QJVt', 'object': 'thread.message', 'created_at': 1745961604, 'assistant_id': 'asst_G3CWN3nJfcTrHrI0Gd0naby4', 'thread_id': 'thread_SCNWecNRuv0UkFpuCoj4QvQ9', 'run_id': 'run_gvsV3qVUIAnxAtQuTH8olmJD', 'role': 'assistant', 'content': [{'type': 'text', 'text': {'value': 'Hello! 😊 How can I assist you today?', 'annotations': []}}], 'attachments': [], 'metadata': {}}, {'id': 'msg_DgtW4JM8Zbd1ALCVzqANikII', 'object': 'thread.message', 'created_at': 1745961602, 'assistant_id': None, 'thread_id': 'thread_SCNWecNRuv0UkFpuCoj4QvQ9', 'run_id': None, 'role': 'user', 'content': [{'type': 'text', 'text': {'value': 'Hello', 'annotations': []}}], 'attachments': [], 'metadata': {}}], 'first_id': 'msg_glo960a7d3G58KdrtWP5QJVt', 'last_id': 'msg_DgtW4JM8Zbd1ALCVzqANikII', 'has_more': False}\n"
     ]
    }
   ],
   "source": [
    "messages = project_client.agents.list_messages(thread_id=thread.id)\n",
    "print(messages)"
   ]
  },
  {
   "cell_type": "code",
   "execution_count": 18,
   "id": "c3387a25-2144-45c3-80c7-69bec2124bdc",
   "metadata": {},
   "outputs": [
    {
     "name": "stdout",
     "output_type": "stream",
     "text": [
      "Hello! 😊 How can I assist you today?\n"
     ]
    }
   ],
   "source": [
    "print(messages.data[0].content[0].text.value)"
   ]
  },
  {
   "cell_type": "markdown",
   "id": "966f2443-36ef-4280-bcc8-1577dedb9496",
   "metadata": {},
   "source": [
    "## Another agent"
   ]
  },
  {
   "cell_type": "code",
   "execution_count": 19,
   "id": "85a5e071-6dbb-48df-a102-428c4523177d",
   "metadata": {},
   "outputs": [],
   "source": [
    "prompt = \"What is a GenAI model?\""
   ]
  },
  {
   "cell_type": "code",
   "execution_count": 20,
   "id": "ab345bb7-f4b1-4034-b230-106a4556820d",
   "metadata": {},
   "outputs": [
    {
     "name": "stdout",
     "output_type": "stream",
     "text": [
      "Created agent with ID = asst_6WLp8Ze0TVWQdrAin2JlKNYv\n"
     ]
    }
   ],
   "source": [
    "# Initialize agent toolset with user functions\n",
    "model = \"gpt-4o\"\n",
    "name = \"gpt4o-agent\"\n",
    "instructions = \"You are a GenAI agent. Always answer in French\"\n",
    "\n",
    "agent = project_client.agents.create_agent(\n",
    "    model=model,\n",
    "    name=name,\n",
    "    instructions=instructions,\n",
    "    temperature=0.7,\n",
    "    top_p=1,\n",
    "    response_format='auto',\n",
    ")\n",
    "\n",
    "print(f\"Created agent with ID = {agent.id}\")"
   ]
  },
  {
   "cell_type": "code",
   "execution_count": 21,
   "id": "17b3db8b-35d8-4fde-b3f2-5670f509dd6d",
   "metadata": {},
   "outputs": [
    {
     "name": "stdout",
     "output_type": "stream",
     "text": [
      "Created thread ID = thread_4nMkiu2b2o14gBnICbmI4QHv\n",
      "Created message ID = msg_Qr6SrtvYoaDYUWpgXmleZsqi\n"
     ]
    }
   ],
   "source": [
    "# Create thread for communication\n",
    "thread = project_client.agents.create_thread()\n",
    "print(f\"Created thread ID = {thread.id}\")\n",
    "\n",
    "# Create message to thread\n",
    "message = project_client.agents.create_message(\n",
    "    thread_id=thread.id,\n",
    "    role=\"user\",\n",
    "    content=prompt,\n",
    ")\n",
    "\n",
    "print(f\"Created message ID = {message.id}\")"
   ]
  },
  {
   "cell_type": "code",
   "execution_count": 22,
   "id": "32f565d3-bdf7-47b5-940c-4ebbe5cfd548",
   "metadata": {},
   "outputs": [
    {
     "name": "stdout",
     "output_type": "stream",
     "text": [
      "RunStatus.COMPLETED\n"
     ]
    }
   ],
   "source": [
    "run = project_client.agents.create_run(thread_id=thread.id, agent_id=agent.id)\n",
    "\n",
    "# Poll the run as long as run status is queued or in progress\n",
    "while run.status in [\"queued\", \"in_progress\", \"requires_action\"]:\n",
    "    # Wait for a second\n",
    "    time.sleep(1)\n",
    "    run = project_client.agents.get_run(thread_id=thread.id, run_id=run.id)\n",
    "\n",
    "print(run.status)"
   ]
  },
  {
   "cell_type": "code",
   "execution_count": 23,
   "id": "7dc9c1a1-119e-41ac-9952-58c0de762796",
   "metadata": {},
   "outputs": [
    {
     "name": "stdout",
     "output_type": "stream",
     "text": [
      "Un modèle GenAI (Intelligence Artificielle Générative) est un type de modèle d'intelligence artificielle conçu pour générer du contenu de manière autonome. Ces modèles utilisent des algorithmes avancés d'apprentissage automatique, souvent basés sur des architectures de réseaux neuronaux profonds, tels que les transformeurs (comme GPT, BERT, etc.).\n",
      "\n",
      "Les modèles GenAI peuvent produire divers types de contenu : textes, images, vidéos, musique ou même code informatique, en fonction de leur entraînement. Leur fonctionnement repose sur l'analyse des données d'apprentissage pour comprendre les structures, les styles et les contextes, leur permettant de générer des résultats cohérents et pertinents.\n",
      "\n",
      "Exemples d'applications des modèles GenAI :\n",
      "- **Chatbots** : Répondre aux questions ou tenir une conversation fluide.\n",
      "- **Création de contenu** : Rédiger des articles, des histoires ou des poèmes.\n",
      "- **Conception visuelle** : Générer des images ou des designs.\n",
      "- **Codage assisté** : Aider à écrire du code ou résoudre des problèmes informatiques.\n",
      "- **Synthèse vocale ou musicale** : Produire des morceaux audio ou imiter des voix.\n",
      "\n",
      "Ces modèles sont souvent entraînés sur des ensembles de données massifs, ce qui leur permet de comprendre et de reproduire des informations complexes. Cependant, ils ne pensent pas comme des humains et leur fiabilité dépend de la qualité des données et des paramètres utilisés lors de leur entraînement.\n"
     ]
    }
   ],
   "source": [
    "# Fetch and log all messages\n",
    "messages = project_client.agents.list_messages(thread_id=thread.id)\n",
    "print(messages.data[0].content[0].text.value)"
   ]
  },
  {
   "cell_type": "markdown",
   "id": "6a87b16c-ddfa-47fb-b95d-bd009cc34859",
   "metadata": {},
   "source": [
    "## Cleaning"
   ]
  },
  {
   "cell_type": "code",
   "execution_count": 24,
   "id": "e7fd1332-bb81-4474-a0a5-dd8d43c753ff",
   "metadata": {},
   "outputs": [
    {
     "name": "stdout",
     "output_type": "stream",
     "text": [
      "{'id': 'asst_6WLp8Ze0TVWQdrAin2JlKNYv', 'object': 'assistant', 'created_at': 1745961606, 'name': 'gpt4o-agent', 'description': None, 'model': 'gpt-4o', 'instructions': 'You are a GenAI agent. Always answer in French', 'tools': [], 'top_p': 1.0, 'temperature': 0.7, 'tool_resources': {}, 'metadata': {}, 'response_format': 'auto'}\n",
      "\n",
      "{'id': 'asst_G3CWN3nJfcTrHrI0Gd0naby4', 'object': 'assistant', 'created_at': 1745961601, 'name': 'gpt4o-agent', 'description': None, 'model': 'gpt-4o', 'instructions': 'You are a GenAI agent', 'tools': [], 'top_p': 1.0, 'temperature': 0.7, 'tool_resources': {}, 'metadata': {}, 'response_format': 'auto'}\n",
      "\n"
     ]
    }
   ],
   "source": [
    "agents = project_client.agents.list_agents()\n",
    "\n",
    "for i in range(len(agents.data)):\n",
    "    print(agents.data[i])\n",
    "    print()"
   ]
  },
  {
   "cell_type": "code",
   "execution_count": 25,
   "id": "e7390b28-1152-47fc-98fd-2504368e952c",
   "metadata": {},
   "outputs": [
    {
     "name": "stdout",
     "output_type": "stream",
     "text": [
      "Deleting agent asst_6WLp8Ze0TVWQdrAin2JlKNYv\n",
      "Deleting agent asst_G3CWN3nJfcTrHrI0Gd0naby4\n"
     ]
    }
   ],
   "source": [
    "for i in range(len(agents.data)):\n",
    "    print(f\"Deleting agent {agents.data[i].id}\")\n",
    "    project_client.agents.delete_agent(agents.data[i].id)"
   ]
  },
  {
   "cell_type": "code",
   "execution_count": 26,
   "id": "e0db28b4-ace6-4846-8f3c-0ad693380389",
   "metadata": {},
   "outputs": [],
   "source": [
    "agents = project_client.agents.list_agents()\n",
    "\n",
    "for i in range(len(agents.data)):\n",
    "    print(agents.data[i])\n",
    "    print()"
   ]
  },
  {
   "cell_type": "code",
   "execution_count": null,
   "id": "9a583cf7-727f-42d8-b43b-a1d1a8116aa3",
   "metadata": {},
   "outputs": [],
   "source": []
  }
 ],
 "metadata": {
  "kernelspec": {
   "display_name": "Python 3.10 - SDK v2",
   "language": "python",
   "name": "python310-sdkv2"
  },
  "language_info": {
   "codemirror_mode": {
    "name": "ipython",
    "version": 3
   },
   "file_extension": ".py",
   "mimetype": "text/x-python",
   "name": "python",
   "nbconvert_exporter": "python",
   "pygments_lexer": "ipython3",
   "version": "3.10.14"
  },
  "varInspector": {
   "cols": {
    "lenName": 16,
    "lenType": 16,
    "lenVar": 40
   },
   "kernels_config": {
    "python": {
     "delete_cmd_postfix": "",
     "delete_cmd_prefix": "del ",
     "library": "var_list.py",
     "varRefreshCmd": "print(var_dic_list())"
    },
    "r": {
     "delete_cmd_postfix": ") ",
     "delete_cmd_prefix": "rm(",
     "library": "var_list.r",
     "varRefreshCmd": "cat(var_dic_list()) "
    }
   },
   "types_to_exclude": [
    "module",
    "function",
    "builtin_function_or_method",
    "instance",
    "_Feature"
   ],
   "window_display": false
  }
 },
 "nbformat": 4,
 "nbformat_minor": 5
}
