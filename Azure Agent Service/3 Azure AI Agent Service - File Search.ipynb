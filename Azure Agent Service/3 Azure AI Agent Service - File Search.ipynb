{
 "cells": [
  {
   "cell_type": "markdown",
   "id": "431cc026-279f-4105-8444-f1b93650da0d",
   "metadata": {},
   "source": [
    "# Azure AI Agents - File Search\n",
    "\n",
    "<img src=\"https://learn.microsoft.com/en-us/azure/ai-services/agents/media/agent-service-the-glue.png\" width=800>\n",
    "\n",
    "> https://learn.microsoft.com/en-us/azure/ai-services/agents/"
   ]
  },
  {
   "cell_type": "code",
   "execution_count": 1,
   "id": "7a3e72d0-7521-438c-928d-5fa293b0f419",
   "metadata": {},
   "outputs": [],
   "source": [
    "import os\n",
    "import sys\n",
    "\n",
    "from azure.ai.projects import AIProjectClient\n",
    "from azure.identity import DefaultAzureCredential\n",
    "from dotenv import load_dotenv\n",
    "from openai import AzureOpenAI\n",
    "from azure.ai.projects.models import FileSearchTool, MessageAttachment, FilePurpose"
   ]
  },
  {
   "cell_type": "code",
   "execution_count": 2,
   "id": "65334de7-4005-401a-89c1-be24f75abbd9",
   "metadata": {},
   "outputs": [
    {
     "data": {
      "text/plain": [
       "True"
      ]
     },
     "execution_count": 2,
     "metadata": {},
     "output_type": "execute_result"
    }
   ],
   "source": [
    "load_dotenv(\"azure.env\")"
   ]
  },
  {
   "cell_type": "code",
   "execution_count": 3,
   "id": "8628712a-0d10-4351-8993-b4c3243f83be",
   "metadata": {},
   "outputs": [
    {
     "data": {
      "text/plain": [
       "'3.10.14 (main, May  6 2024, 19:42:50) [GCC 11.2.0]'"
      ]
     },
     "execution_count": 3,
     "metadata": {},
     "output_type": "execute_result"
    }
   ],
   "source": [
    "sys.version"
   ]
  },
  {
   "cell_type": "markdown",
   "id": "cc2c1d28-e366-442e-a186-81239ec337ec",
   "metadata": {},
   "source": [
    "## Project"
   ]
  },
  {
   "cell_type": "code",
   "execution_count": 4,
   "id": "76c7bbb7-0faa-4500-ba42-7c5b176f6196",
   "metadata": {},
   "outputs": [],
   "source": [
    "project_client = AIProjectClient.from_connection_string(\n",
    "    credential=DefaultAzureCredential(),\n",
    "    conn_str=os.getenv(\"PROJECT_CONNECTION_STRING\"),\n",
    ")"
   ]
  },
  {
   "cell_type": "code",
   "execution_count": 5,
   "id": "4c6e9b38-c60c-4f1c-b4fd-65145bd45b51",
   "metadata": {},
   "outputs": [],
   "source": [
    "model=\"gpt-4o\""
   ]
  },
  {
   "cell_type": "code",
   "execution_count": 6,
   "id": "ad783cf5-ab5a-4bdb-9536-0611a7846eaa",
   "metadata": {},
   "outputs": [],
   "source": [
    "DATA_DIR = \"data\"\n",
    "\n",
    "os.makedirs(DATA_DIR, exist_ok=True)\n",
    "\n",
    "output_file = os.path.join(DATA_DIR, \"document.pdf\")"
   ]
  },
  {
   "cell_type": "code",
   "execution_count": 7,
   "id": "0ca097a7-2788-46c3-b49d-b8e8fe75d9ee",
   "metadata": {},
   "outputs": [
    {
     "name": "stdout",
     "output_type": "stream",
     "text": [
      "--2025-05-20 13:03:28--  https://arxiv.org/abs/2311.06242\n",
      "Resolving arxiv.org (arxiv.org)... 151.101.131.42, 151.101.3.42, 151.101.195.42, ...\n",
      "Connecting to arxiv.org (arxiv.org)|151.101.131.42|:443... connected.\n",
      "HTTP request sent, awaiting response... 200 OK\n",
      "Length: 49384 (48K) [text/html]\n",
      "Saving to: ‘data/document.pdf’\n",
      "\n",
      "data/document.pdf   100%[===================>]  48.23K  --.-KB/s    in 0.002s  \n",
      "\n",
      "2025-05-20 13:03:28 (29.0 MB/s) - ‘data/document.pdf’ saved [49384/49384]\n",
      "\n"
     ]
    }
   ],
   "source": [
    "!wget https://arxiv.org/abs/2311.06242 -O $output_file"
   ]
  },
  {
   "cell_type": "code",
   "execution_count": 8,
   "id": "fe1a5582-f733-4775-9225-42f6e909e810",
   "metadata": {},
   "outputs": [
    {
     "name": "stdout",
     "output_type": "stream",
     "text": [
      "Uploaded file, file ID: assistant-5iXPwrHG7pQFQrM4x4cvUW\n",
      "Created vector store, vector store ID: vs_fdQ9fF7pJ5C4ZaAZGxH0jzMt\n"
     ]
    }
   ],
   "source": [
    "file = project_client.agents.upload_file_and_poll(file_path=output_file,\n",
    "                                                  purpose=FilePurpose.AGENTS)\n",
    "\n",
    "print(f\"Uploaded file, file ID: {file.id}\")\n",
    "\n",
    "# create a vector store with the file you uploaded\n",
    "vector_store = project_client.agents.create_vector_store_and_poll(\n",
    "    file_ids=[file.id], name=\"document_vector_store\")\n",
    "\n",
    "print(f\"Created vector store, vector store ID: {vector_store.id}\")"
   ]
  },
  {
   "cell_type": "code",
   "execution_count": 9,
   "id": "f45913d3-1182-4a04-90c4-a2557909d315",
   "metadata": {},
   "outputs": [
    {
     "name": "stdout",
     "output_type": "stream",
     "text": [
      "Created agent, agent ID: asst_UzWDa2x48dwZN2nNql1SK7xw\n"
     ]
    }
   ],
   "source": [
    "# create a file search tool\n",
    "file_search_tool = FileSearchTool(vector_store_ids=[vector_store.id])\n",
    "\n",
    "# notices that FileSearchTool as tool and tool_resources must be added or the agent will be unable to search the file\n",
    "agent = project_client.agents.create_agent(\n",
    "    model=model,\n",
    "    name=\"document_agent\",\n",
    "    instructions=\"You are an AI helpful agent to analyse document\",\n",
    "    tools=file_search_tool.definitions,\n",
    "    tool_resources=file_search_tool.resources,\n",
    ")\n",
    "\n",
    "print(f\"Created agent, agent ID: {agent.id}\")"
   ]
  },
  {
   "cell_type": "code",
   "execution_count": 10,
   "id": "2c8a3595-7db7-4047-8745-d2bb25c63e47",
   "metadata": {},
   "outputs": [
    {
     "name": "stdout",
     "output_type": "stream",
     "text": [
      "Created thread, thread ID: thread_FMHCvnSCvGNrqQoEsi6XZfIm\n",
      "Uploaded file, file ID: assistant-LT8pwLhPdXkUEseRzq96it\n",
      "Created message, message ID: msg_fEziO4c9RC5xn10jAryeeukM\n"
     ]
    }
   ],
   "source": [
    "# Create a thread\n",
    "thread = project_client.agents.create_thread()\n",
    "print(f\"Created thread, thread ID: {thread.id}\")\n",
    "\n",
    "# Upload the user provided file as a messsage attachment\n",
    "message_file = project_client.agents.upload_file_and_poll(\n",
    "    file_path=output_file, purpose=FilePurpose.AGENTS)\n",
    "\n",
    "print(f\"Uploaded file, file ID: {message_file.id}\")\n",
    "\n",
    "# Create a message with the file search attachment\n",
    "# Notice that vector store is created temporarily when using attachments with a default expiration policy of seven days.\n",
    "attachment = MessageAttachment(file_id=message_file.id,\n",
    "                               tools=FileSearchTool().definitions)\n",
    "\n",
    "prompt = \"Summarize this document in one line\"\n",
    "\n",
    "message = project_client.agents.create_message(thread_id=thread.id,\n",
    "                                               role=\"user\",\n",
    "                                               content=prompt,\n",
    "                                               attachments=[attachment])\n",
    "\n",
    "print(f\"Created message, message ID: {message.id}\")"
   ]
  },
  {
   "cell_type": "code",
   "execution_count": 11,
   "id": "54f6f557-18fb-41c4-8cee-eb3d0300d158",
   "metadata": {},
   "outputs": [
    {
     "name": "stdout",
     "output_type": "stream",
     "text": [
      "Created run, run ID: run_WfNzF2cAOSu2VGCnxQDcPJVc\n",
      "Messages: {'object': 'list', 'data': [{'id': 'msg_TbHq5cZ6jmcUkGXhWfXPJ0uI', 'object': 'thread.message', 'created_at': 1747746227, 'assistant_id': 'asst_UzWDa2x48dwZN2nNql1SK7xw', 'thread_id': 'thread_FMHCvnSCvGNrqQoEsi6XZfIm', 'run_id': 'run_WfNzF2cAOSu2VGCnxQDcPJVc', 'role': 'assistant', 'content': [{'type': 'text', 'text': {'value': 'The document introduces Florence-2, a groundbreaking vision foundation model employing a unified, prompt-based approach to excel across diverse computer vision and vision-language tasks with outstanding zero-shot and fine-tuning capabilities【4:0†source】.', 'annotations': [{'type': 'file_citation', 'text': '【4:0†source】', 'start_index': 241, 'end_index': 253, 'file_citation': {'file_id': 'assistant-LT8pwLhPdXkUEseRzq96it'}}]}}], 'attachments': [], 'metadata': {}}, {'id': 'msg_fEziO4c9RC5xn10jAryeeukM', 'object': 'thread.message', 'created_at': 1747746217, 'assistant_id': None, 'thread_id': 'thread_FMHCvnSCvGNrqQoEsi6XZfIm', 'run_id': None, 'role': 'user', 'content': [{'type': 'text', 'text': {'value': 'Summarize this document in one line', 'annotations': []}}], 'attachments': [{'file_id': 'assistant-LT8pwLhPdXkUEseRzq96it', 'tools': [{'type': 'file_search'}]}], 'metadata': {}}], 'first_id': 'msg_TbHq5cZ6jmcUkGXhWfXPJ0uI', 'last_id': 'msg_fEziO4c9RC5xn10jAryeeukM', 'has_more': False}\n"
     ]
    }
   ],
   "source": [
    "run = project_client.agents.create_and_process_run(thread_id=thread.id,\n",
    "                                                   agent_id=agent.id)\n",
    "print(f\"Created run, run ID: {run.id}\")\n",
    "\n",
    "messages = project_client.agents.list_messages(thread_id=thread.id)\n",
    "print(f\"Messages: {messages}\")"
   ]
  },
  {
   "cell_type": "code",
   "execution_count": 12,
   "id": "33d14e13-f3bd-4822-a679-0aa322bc98f8",
   "metadata": {},
   "outputs": [
    {
     "name": "stdout",
     "output_type": "stream",
     "text": [
      "The document introduces Florence-2, a groundbreaking vision foundation model employing a unified, prompt-based approach to excel across diverse computer vision and vision-language tasks with outstanding zero-shot and fine-tuning capabilities【4:0†source】.\n"
     ]
    }
   ],
   "source": [
    "print(messages.data[0].content[0].text.value)"
   ]
  },
  {
   "cell_type": "markdown",
   "id": "ffac954d-32ff-4f13-bf06-f567d06b92b3",
   "metadata": {},
   "source": [
    "## Another question"
   ]
  },
  {
   "cell_type": "code",
   "execution_count": 13,
   "id": "652a3050-4486-40c9-94e7-a7ee8532ebdd",
   "metadata": {},
   "outputs": [
    {
     "name": "stdout",
     "output_type": "stream",
     "text": [
      "Created message, message ID: msg_4hxgJcdm14qSJvGyO04Uq1fy\n"
     ]
    }
   ],
   "source": [
    "prompt = \"What is FLD-5B?\"\n",
    "\n",
    "message = project_client.agents.create_message(thread_id=thread.id,\n",
    "                                               role=\"user\",\n",
    "                                               content=prompt,\n",
    "                                               attachments=[attachment])\n",
    "\n",
    "print(f\"Created message, message ID: {message.id}\")"
   ]
  },
  {
   "cell_type": "code",
   "execution_count": 14,
   "id": "a57d170e-d03e-4d05-8914-93b54b0846f4",
   "metadata": {},
   "outputs": [
    {
     "name": "stdout",
     "output_type": "stream",
     "text": [
      "Created run, run ID: run_QIcR16I2EGWNK1nszOSj3oHX\n"
     ]
    }
   ],
   "source": [
    "run = project_client.agents.create_and_process_run(thread_id=thread.id,\n",
    "                                                   agent_id=agent.id)\n",
    "\n",
    "print(f\"Created run, run ID: {run.id}\")\n",
    "\n",
    "messages = project_client.agents.list_messages(thread_id=thread.id)"
   ]
  },
  {
   "cell_type": "code",
   "execution_count": 15,
   "id": "dbd185b6-092a-4c67-900e-497d3b792af8",
   "metadata": {},
   "outputs": [
    {
     "name": "stdout",
     "output_type": "stream",
     "text": [
      "FLD-5B is a large-scale dataset comprising 5.4 billion visual annotations spread across 126 million images, created by an iterative process of automated annotation and model refinement, and primarily developed to train the Florence-2 model for versatile vision tasks【8:0†source】.\n"
     ]
    }
   ],
   "source": [
    "print(messages.data[0].content[0].text.value)"
   ]
  },
  {
   "cell_type": "markdown",
   "id": "c4297511-c6e7-4f36-901a-a82335603f9b",
   "metadata": {},
   "source": [
    "## Post processing"
   ]
  },
  {
   "cell_type": "code",
   "execution_count": 16,
   "id": "bb0c38dd-e8c0-47f8-a4a1-60edcdd30f6a",
   "metadata": {},
   "outputs": [
    {
     "name": "stdout",
     "output_type": "stream",
     "text": [
      "{'id': 'asst_XVqmSXT6vuAmwJHuhDbFXLEm', 'object': 'assistant', 'created_at': 1747746226, 'name': 'Agent with code interpreter', 'description': None, 'model': 'gpt-4o-mini', 'instructions': 'You are a helpful AI agent that can analyse input file for statistics', 'tools': [{'type': 'code_interpreter'}], 'top_p': 1.0, 'temperature': 1.0, 'tool_resources': {'code_interpreter': {'file_ids': ['assistant-RBH6Pm5L773FFcZjSLTvcq']}}, 'metadata': {}, 'response_format': 'auto'}\n",
      "\n",
      "{'id': 'asst_UzWDa2x48dwZN2nNql1SK7xw', 'object': 'assistant', 'created_at': 1747746214, 'name': 'document_agent', 'description': None, 'model': 'gpt-4o', 'instructions': 'You are an AI helpful agent to analyse document', 'tools': [{'type': 'file_search'}], 'top_p': 1.0, 'temperature': 1.0, 'tool_resources': {'file_search': {'vector_store_ids': ['vs_fdQ9fF7pJ5C4ZaAZGxH0jzMt']}}, 'metadata': {}, 'response_format': 'auto'}\n",
      "\n"
     ]
    }
   ],
   "source": [
    "agents = project_client.agents.list_agents()\n",
    "\n",
    "for i in range(len(agents.data)):\n",
    "    print(agents.data[i])\n",
    "    print()"
   ]
  },
  {
   "cell_type": "code",
   "execution_count": 17,
   "id": "5b7824d8-0f52-48be-947f-dbc4eaa52f56",
   "metadata": {},
   "outputs": [
    {
     "name": "stdout",
     "output_type": "stream",
     "text": [
      "Deleted vector store\n",
      "Deleted agent\n"
     ]
    }
   ],
   "source": [
    "project_client.agents.delete_vector_store(vector_store.id)\n",
    "print(\"Deleted vector store\")\n",
    "\n",
    "project_client.agents.delete_agent(agent.id)\n",
    "print(\"Deleted agent\")"
   ]
  },
  {
   "cell_type": "code",
   "execution_count": 18,
   "id": "01aaa599-5f3e-445f-9271-fa99c025dffa",
   "metadata": {},
   "outputs": [
    {
     "name": "stdout",
     "output_type": "stream",
     "text": [
      "Deleted file\n",
      "Done\n"
     ]
    }
   ],
   "source": [
    "# Delete the original file from the agent to free up space\n",
    "print(\"Deleted file\")\n",
    "project_client.agents.delete_file(file.id)\n",
    "print(\"Done\")"
   ]
  },
  {
   "cell_type": "code",
   "execution_count": null,
   "id": "07289e6b-33db-4cd8-b9d1-412486e0b64e",
   "metadata": {},
   "outputs": [],
   "source": []
  },
  {
   "cell_type": "code",
   "execution_count": null,
   "id": "df2f6d7c-bd9d-4092-b1ba-8942a5a03a54",
   "metadata": {},
   "outputs": [],
   "source": []
  }
 ],
 "metadata": {
  "kernelspec": {
   "display_name": "Python 3.10 - SDK v2",
   "language": "python",
   "name": "python310-sdkv2"
  },
  "language_info": {
   "codemirror_mode": {
    "name": "ipython",
    "version": 3
   },
   "file_extension": ".py",
   "mimetype": "text/x-python",
   "name": "python",
   "nbconvert_exporter": "python",
   "pygments_lexer": "ipython3",
   "version": "3.10.14"
  },
  "varInspector": {
   "cols": {
    "lenName": 16,
    "lenType": 16,
    "lenVar": 40
   },
   "kernels_config": {
    "python": {
     "delete_cmd_postfix": "",
     "delete_cmd_prefix": "del ",
     "library": "var_list.py",
     "varRefreshCmd": "print(var_dic_list())"
    },
    "r": {
     "delete_cmd_postfix": ") ",
     "delete_cmd_prefix": "rm(",
     "library": "var_list.r",
     "varRefreshCmd": "cat(var_dic_list()) "
    }
   },
   "types_to_exclude": [
    "module",
    "function",
    "builtin_function_or_method",
    "instance",
    "_Feature"
   ],
   "window_display": false
  }
 },
 "nbformat": 4,
 "nbformat_minor": 5
}
