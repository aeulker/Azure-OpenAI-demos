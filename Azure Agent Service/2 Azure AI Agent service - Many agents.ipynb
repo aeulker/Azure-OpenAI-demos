{
 "cells": [
  {
   "cell_type": "markdown",
   "id": "431cc026-279f-4105-8444-f1b93650da0d",
   "metadata": {},
   "source": [
    "# Azure AI Agent service - Many agents\n",
    "\n",
    "<img src=\"https://learn.microsoft.com/en-us/azure/ai-services/agents/media/agent-service-the-glue.png\" width=800>\n",
    "\n",
    "> https://learn.microsoft.com/en-us/azure/ai-services/agents/"
   ]
  },
  {
   "cell_type": "code",
   "execution_count": 1,
   "id": "7a3e72d0-7521-438c-928d-5fa293b0f419",
   "metadata": {},
   "outputs": [],
   "source": [
    "import json\n",
    "import os\n",
    "import sys\n",
    "import time\n",
    "\n",
    "from azure.ai.agents import AgentsClient\n",
    "from azure.ai.agents.models import ListSortOrder\n",
    "from azure.identity import DefaultAzureCredential\n",
    "from datetime import datetime, timezone, timedelta\n",
    "from dotenv import load_dotenv\n",
    "from openai import AzureOpenAI"
   ]
  },
  {
   "cell_type": "code",
   "execution_count": 2,
   "id": "65334de7-4005-401a-89c1-be24f75abbd9",
   "metadata": {},
   "outputs": [
    {
     "data": {
      "text/plain": [
       "True"
      ]
     },
     "execution_count": 2,
     "metadata": {},
     "output_type": "execute_result"
    }
   ],
   "source": [
    "load_dotenv(\"azure.env\")"
   ]
  },
  {
   "cell_type": "code",
   "execution_count": 3,
   "id": "8628712a-0d10-4351-8993-b4c3243f83be",
   "metadata": {},
   "outputs": [
    {
     "data": {
      "text/plain": [
       "'3.10.14 (main, May  6 2024, 19:42:50) [GCC 11.2.0]'"
      ]
     },
     "execution_count": 3,
     "metadata": {},
     "output_type": "execute_result"
    }
   ],
   "source": [
    "sys.version"
   ]
  },
  {
   "cell_type": "markdown",
   "id": "cc2c1d28-e366-442e-a186-81239ec337ec",
   "metadata": {},
   "source": [
    "## Creaate connection to AI Foundry Project & instantiate a project client"
   ]
  },
  {
   "cell_type": "code",
   "execution_count": 4,
   "id": "76c7bbb7-0faa-4500-ba42-7c5b176f6196",
   "metadata": {},
   "outputs": [],
   "source": [
    "endpoint = os.getenv(\"PROJECT_ENDPOINT\")\n",
    "credential = DefaultAzureCredential()\n",
    "\n",
    "project_client = AgentsClient(endpoint=endpoint, credential=credential)"
   ]
  },
  {
   "cell_type": "markdown",
   "id": "1fecdb26",
   "metadata": {},
   "source": [
    "## Instantiate AGENT 1 (Q&A)"
   ]
  },
  {
   "cell_type": "code",
   "execution_count": 5,
   "id": "8bec0fdf-bfdb-4d72-8cc0-d02b8eb79b59",
   "metadata": {},
   "outputs": [
    {
     "name": "stdout",
     "output_type": "stream",
     "text": [
      "Created agent, agent ID: asst_Sx8Jf8y4so0ig2waU3P8Jvu5\n"
     ]
    }
   ],
   "source": [
    "agent1 = project_client.create_agent(\n",
    "    model=\"gpt-4o\",\n",
    "    name=\"Q&A\",\n",
    "    instructions=\"You are an AI agent.\",\n",
    "    description=\"Q&A agent\"\n",
    ")\n",
    "\n",
    "print(f\"Created agent, agent ID: {agent1.id}\")"
   ]
  },
  {
   "cell_type": "code",
   "execution_count": 6,
   "id": "715ee9dc-3522-4810-adaa-da89fb83da9a",
   "metadata": {},
   "outputs": [],
   "source": [
    "id1 = agent1.id"
   ]
  },
  {
   "cell_type": "markdown",
   "id": "d2304eb6",
   "metadata": {},
   "source": [
    "## Instantiate AGENT 2 (Translator)"
   ]
  },
  {
   "cell_type": "code",
   "execution_count": 7,
   "id": "06dfa418-7b00-4450-8d0e-d32c90b24cc5",
   "metadata": {},
   "outputs": [
    {
     "name": "stdout",
     "output_type": "stream",
     "text": [
      "Created agent, agent ID: asst_wd6p9YFkv2lLCZnk5DASlMd6\n"
     ]
    }
   ],
   "source": [
    "agent2 = project_client.create_agent(\n",
    "    model=\"gpt-4o-mini\",\n",
    "    name=\"Translator\",\n",
    "    instructions=\"You are an AI agent that translates English into Spanish.\",\n",
    "    description=\"Translator agent\"\n",
    ")\n",
    "\n",
    "print(f\"Created agent, agent ID: {agent2.id}\")"
   ]
  },
  {
   "cell_type": "code",
   "execution_count": 8,
   "id": "9f2149d5-bae5-4edc-8ee6-75f9dd2a558f",
   "metadata": {},
   "outputs": [],
   "source": [
    "id2 = agent2.id"
   ]
  },
  {
   "cell_type": "markdown",
   "id": "aeb51377",
   "metadata": {},
   "source": [
    "## Instantiate AGENT 3 (Emojis creator)"
   ]
  },
  {
   "cell_type": "code",
   "execution_count": 9,
   "id": "bd4b89b4-fe75-48b8-acc8-17d3adf721cf",
   "metadata": {},
   "outputs": [
    {
     "name": "stdout",
     "output_type": "stream",
     "text": [
      "Created agent, agent ID: asst_0daOF9qFp3Z6H2IRkyLAt0SC\n"
     ]
    }
   ],
   "source": [
    "agent3 = project_client.create_agent(\n",
    "    model=\"gpt-4o\",\n",
    "    name=\"Emojis\",\n",
    "    instructions=\"You are an AI agent that add emojis to a text\",\n",
    "    description=\"Emojis agent\"\n",
    ")\n",
    "\n",
    "print(f\"Created agent, agent ID: {agent3.id}\")"
   ]
  },
  {
   "cell_type": "code",
   "execution_count": 10,
   "id": "33d199a0-d3db-4a58-a38b-eca111d0bb72",
   "metadata": {},
   "outputs": [],
   "source": [
    "id3 = agent3.id"
   ]
  },
  {
   "cell_type": "markdown",
   "id": "e8815044",
   "metadata": {},
   "source": [
    "### Show all agents"
   ]
  },
  {
   "cell_type": "code",
   "execution_count": 11,
   "id": "1b446cc0",
   "metadata": {},
   "outputs": [
    {
     "name": "stdout",
     "output_type": "stream",
     "text": [
      "{'id': 'asst_Sx8Jf8y4so0ig2waU3P8Jvu5', 'object': 'assistant', 'created_at': 1749546242, 'name': 'Q&A', 'description': 'Q&A agent', 'model': 'gpt-4o', 'instructions': 'You are an AI agent.', 'tools': [], 'top_p': 1.0, 'temperature': 1.0, 'tool_resources': {}, 'metadata': {}, 'response_format': 'auto'}\n",
      "{'id': 'asst_wd6p9YFkv2lLCZnk5DASlMd6', 'object': 'assistant', 'created_at': 1749546245, 'name': 'Translator', 'description': 'Translator agent', 'model': 'gpt-4o-mini', 'instructions': 'You are an AI agent that translates English into Spanish.', 'tools': [], 'top_p': 1.0, 'temperature': 1.0, 'tool_resources': {}, 'metadata': {}, 'response_format': 'auto'}\n",
      "{'id': 'asst_0daOF9qFp3Z6H2IRkyLAt0SC', 'object': 'assistant', 'created_at': 1749546246, 'name': 'Emojis', 'description': 'Emojis agent', 'model': 'gpt-4o', 'instructions': 'You are an AI agent that add emojis to a text', 'tools': [], 'top_p': 1.0, 'temperature': 1.0, 'tool_resources': {}, 'metadata': {}, 'response_format': 'auto'}\n"
     ]
    }
   ],
   "source": [
    "print(agent1)\n",
    "print(agent2)\n",
    "print(agent3)"
   ]
  },
  {
   "cell_type": "markdown",
   "id": "7ffa36d2",
   "metadata": {},
   "source": [
    "### Create a thread for AGENT 1"
   ]
  },
  {
   "cell_type": "code",
   "execution_count": 12,
   "id": "5b4a3453-e9ce-4208-a0e5-6c201939d238",
   "metadata": {},
   "outputs": [
    {
     "name": "stdout",
     "output_type": "stream",
     "text": [
      "Created thread, thread ID: thread_913NKgbaDtuZxvZLKYe5lJYW\n"
     ]
    }
   ],
   "source": [
    "thread = project_client.threads.create()\n",
    "print(f\"Created thread, thread ID: {thread.id}\")"
   ]
  },
  {
   "cell_type": "markdown",
   "id": "278d3c15",
   "metadata": {},
   "source": [
    "### Create a message for AGENT 1"
   ]
  },
  {
   "cell_type": "code",
   "execution_count": 13,
   "id": "35131134-b241-4721-a673-fb6cd240ed03",
   "metadata": {},
   "outputs": [
    {
     "name": "stdout",
     "output_type": "stream",
     "text": [
      "Created message, message ID: msg_z4cPFgbwNm61hdzEjzQeDvGL\n"
     ]
    }
   ],
   "source": [
    "message = project_client.messages.create(thread_id=thread.id, role=\"user\", content=\"Tell me about the 'Palacio de Bellas Artes' in Mexico City.\")\n",
    "print(f\"Created message, message ID: {message.id}\")"
   ]
  },
  {
   "cell_type": "markdown",
   "id": "03405dc2",
   "metadata": {},
   "source": [
    "### Run AGENT 1"
   ]
  },
  {
   "cell_type": "code",
   "execution_count": 14,
   "id": "70fcd807-ac0f-4253-9122-1a96f3419f71",
   "metadata": {},
   "outputs": [
    {
     "name": "stdout",
     "output_type": "stream",
     "text": [
      "Created run, run ID: run_vArT55j5C887E6ye7aNRkcrT\n"
     ]
    }
   ],
   "source": [
    "run = project_client.runs.create(thread_id=thread.id, agent_id=agent1.id)\n",
    "print(f\"Created run, run ID: {run.id}\")"
   ]
  },
  {
   "cell_type": "markdown",
   "id": "0c90bae5",
   "metadata": {},
   "source": [
    "### Check status of run for AGENT 1"
   ]
  },
  {
   "cell_type": "code",
   "execution_count": 15,
   "id": "f21ef94e-22d1-4945-9886-be4dbefdca8e",
   "metadata": {},
   "outputs": [
    {
     "name": "stdout",
     "output_type": "stream",
     "text": [
      "Run status: in_progress\n",
      "Run status: in_progress\n",
      "Run status: in_progress\n",
      "Run status: in_progress\n",
      "Run status: in_progress\n",
      "Run status: completed\n"
     ]
    }
   ],
   "source": [
    "# Poll the run as long as run status is queued or in progress\n",
    "while run.status in [\"queued\", \"in_progress\", \"requires_action\"]:\n",
    "    time.sleep(1)\n",
    "    run = project_client.runs.get(thread_id=thread.id, run_id=run.id)\n",
    "    print(f\"Run status: {run.status}\")\n",
    "\n",
    "    if run.status == \"failed\":\n",
    "        print(f\"Run error: {run.last_error}\")"
   ]
  },
  {
   "cell_type": "markdown",
   "id": "b4e93ea3",
   "metadata": {},
   "source": [
    "### Show usage (tokens)"
   ]
  },
  {
   "cell_type": "code",
   "execution_count": 16,
   "id": "14ed4d5d",
   "metadata": {},
   "outputs": [
    {
     "data": {
      "text/plain": [
       "{'prompt_tokens': 74, 'completion_tokens': 661, 'total_tokens': 735, 'prompt_token_details': {'cached_tokens': 0}}"
      ]
     },
     "execution_count": 16,
     "metadata": {},
     "output_type": "execute_result"
    }
   ],
   "source": [
    "run.usage"
   ]
  },
  {
   "cell_type": "markdown",
   "id": "4038cc39",
   "metadata": {},
   "source": [
    "### Show me the stack of messages so far"
   ]
  },
  {
   "cell_type": "code",
   "execution_count": 17,
   "id": "d91b94fc",
   "metadata": {},
   "outputs": [
    {
     "name": "stdout",
     "output_type": "stream",
     "text": [
      "Message ID: msg_Xe2zb1staILgIUXJTnMbY8eT, Role: assistant, Content: [{'type': 'text', 'text': {'value': 'Certainly! The **Palacio de Bellas Artes** (Palace of Fine Arts) in **Mexico City** is one of the most iconic cultural landmarks in Mexico. It is renowned for its striking architecture and its role as a hub for arts and culture. Here’s an overview of its significance, history, and features:\\n\\n### **Historical Background**\\n- Construction of the Palacio de Bellas Artes began in **1904** under the direction of the Italian architect **Adamo Boari**, who designed the building in a mixed style, combining Art Nouveau and Neoclassical elements. \\n- The project was delayed by political unrest during the Mexican Revolution (1910–1920) and ongoing engineering challenges due to the soft, unstable soil beneath Mexico City.\\n- Construction was completed in **1934** under the leadership of Mexican architect **Federico Mariscal**, who incorporated elements of **Art Deco** into the interior design.\\n- The Palace officially opened on **September 29, 1934**.\\n\\n### **Architecture**\\n- The **exterior** is made of white Carrara marble, giving it a monumental and elegant appearance.\\n- The **dome** is adorned with vibrant colored tiles that create an impressive visual contrast to the white façade.\\n- The **interior** is richly decorated with Mexican-themed murals by some of Mexico’s greatest muralists, including **Diego Rivera**, **David Alfaro Siqueiros**, and **José Clemente Orozco**.\\n\\n### **Cultural Significance**\\n- The Palacio de Bellas Artes is often referred to as the \"Cathedral of Art in Mexico.\" It serves as a venue for a variety of artistic events, such as concerts, opera, ballet, theater, exhibitions, and literary events.\\n- It is home to the **National Museum of Architecture** and also hosts temporary art exhibitions.\\n\\n### **Murals**\\n- The Palacio is famous for its large-scale murals by leading Mexican muralists of the 20th century. Highlights include:\\n  - **\"Man at the Crossroads\"** by Diego Rivera, retrieved and adapted after it was destroyed at Rockefeller Center in New York.\\n  - Works by **David Alfaro Siqueiros**, such as *New Democracy*.\\n\\n### **Performing Arts**\\n- It is the primary venue for the **National Symphony Orchestra of Mexico**, the **National Opera Company**, and the **National Dance Company**.\\n- The Ballet Folklórico de México frequently performs there, showcasing traditional Mexican dance and music.\\n\\n### **Tourist Attraction**\\nThe Palacio de Bellas Artes is a UNESCO World Heritage Site (as part of the historic center of Mexico City) and a must-visit destination for travelers. Its beauty and cultural depth make it a beloved symbol of Mexican heritage.\\n\\n### **Interesting Facts**\\n- The building is slowly sinking into the ground due to the soft soil beneath it, which is common for many structures in Mexico City. Engineers have implemented measures to stabilize it.\\n- The stained glass curtain, made by **Louis Comfort Tiffany**, depicts the Valley of Mexico with its volcanoes, Popocatépetl and Iztaccíhuatl.\\n\\nThe Palacio de Bellas Artes continues to be an essential part of Mexico\\'s artistic and cultural life, drawing visitors from all over the world.', 'annotations': []}}]\n",
      "Message ID: msg_z4cPFgbwNm61hdzEjzQeDvGL, Role: user, Content: [{'type': 'text', 'text': {'value': \"Tell me about the 'Palacio de Bellas Artes' in Mexico City.\", 'annotations': []}}]\n"
     ]
    }
   ],
   "source": [
    "messages = project_client.messages.list(thread_id=thread.id)\n",
    "\n",
    "for message in messages:\n",
    "    print(f\"Message ID: {message.id}, Role: {message.role}, Content: {message.content}\")"
   ]
  },
  {
   "cell_type": "markdown",
   "id": "20aa0873",
   "metadata": {},
   "source": [
    "### Show last message of AGENT 1"
   ]
  },
  {
   "cell_type": "code",
   "execution_count": 18,
   "id": "868c132d",
   "metadata": {},
   "outputs": [
    {
     "name": "stdout",
     "output_type": "stream",
     "text": [
      "Content: [{'type': 'text', 'text': {'value': 'Certainly! The **Palacio de Bellas Artes** (Palace of Fine Arts) in **Mexico City** is one of the most iconic cultural landmarks in Mexico. It is renowned for its striking architecture and its role as a hub for arts and culture. Here’s an overview of its significance, history, and features:\\n\\n### **Historical Background**\\n- Construction of the Palacio de Bellas Artes began in **1904** under the direction of the Italian architect **Adamo Boari**, who designed the building in a mixed style, combining Art Nouveau and Neoclassical elements. \\n- The project was delayed by political unrest during the Mexican Revolution (1910–1920) and ongoing engineering challenges due to the soft, unstable soil beneath Mexico City.\\n- Construction was completed in **1934** under the leadership of Mexican architect **Federico Mariscal**, who incorporated elements of **Art Deco** into the interior design.\\n- The Palace officially opened on **September 29, 1934**.\\n\\n### **Architecture**\\n- The **exterior** is made of white Carrara marble, giving it a monumental and elegant appearance.\\n- The **dome** is adorned with vibrant colored tiles that create an impressive visual contrast to the white façade.\\n- The **interior** is richly decorated with Mexican-themed murals by some of Mexico’s greatest muralists, including **Diego Rivera**, **David Alfaro Siqueiros**, and **José Clemente Orozco**.\\n\\n### **Cultural Significance**\\n- The Palacio de Bellas Artes is often referred to as the \"Cathedral of Art in Mexico.\" It serves as a venue for a variety of artistic events, such as concerts, opera, ballet, theater, exhibitions, and literary events.\\n- It is home to the **National Museum of Architecture** and also hosts temporary art exhibitions.\\n\\n### **Murals**\\n- The Palacio is famous for its large-scale murals by leading Mexican muralists of the 20th century. Highlights include:\\n  - **\"Man at the Crossroads\"** by Diego Rivera, retrieved and adapted after it was destroyed at Rockefeller Center in New York.\\n  - Works by **David Alfaro Siqueiros**, such as *New Democracy*.\\n\\n### **Performing Arts**\\n- It is the primary venue for the **National Symphony Orchestra of Mexico**, the **National Opera Company**, and the **National Dance Company**.\\n- The Ballet Folklórico de México frequently performs there, showcasing traditional Mexican dance and music.\\n\\n### **Tourist Attraction**\\nThe Palacio de Bellas Artes is a UNESCO World Heritage Site (as part of the historic center of Mexico City) and a must-visit destination for travelers. Its beauty and cultural depth make it a beloved symbol of Mexican heritage.\\n\\n### **Interesting Facts**\\n- The building is slowly sinking into the ground due to the soft soil beneath it, which is common for many structures in Mexico City. Engineers have implemented measures to stabilize it.\\n- The stained glass curtain, made by **Louis Comfort Tiffany**, depicts the Valley of Mexico with its volcanoes, Popocatépetl and Iztaccíhuatl.\\n\\nThe Palacio de Bellas Artes continues to be an essential part of Mexico\\'s artistic and cultural life, drawing visitors from all over the world.', 'annotations': []}}]\n"
     ]
    }
   ],
   "source": [
    "messages = list(project_client.messages.list(thread_id=thread.id))\n",
    "\n",
    "if messages:\n",
    "    last_message = messages[0]\n",
    "    print(f\"Content: {last_message.content}\")\n",
    "else:\n",
    "    print(\"No messages found.\")"
   ]
  },
  {
   "cell_type": "markdown",
   "id": "8eab8fa5",
   "metadata": {},
   "source": [
    "### SHow bottom of stack of messages"
   ]
  },
  {
   "cell_type": "code",
   "execution_count": 19,
   "id": "9d9d8511",
   "metadata": {},
   "outputs": [
    {
     "name": "stdout",
     "output_type": "stream",
     "text": [
      "Content: [{'type': 'text', 'text': {'value': \"Tell me about the 'Palacio de Bellas Artes' in Mexico City.\", 'annotations': []}}]\n"
     ]
    }
   ],
   "source": [
    "if messages:\n",
    "    last_message = messages[-1]\n",
    "    print(f\"Content: {last_message.content}\")\n",
    "else:\n",
    "    print(\"No messages found.\")"
   ]
  },
  {
   "cell_type": "markdown",
   "id": "df0644dc",
   "metadata": {},
   "source": [
    "### Run AGENT 2"
   ]
  },
  {
   "cell_type": "code",
   "execution_count": 20,
   "id": "53895c1e-9e41-4003-bd80-f166e65001db",
   "metadata": {},
   "outputs": [
    {
     "name": "stdout",
     "output_type": "stream",
     "text": [
      "Created run, run ID: run_EyeZ8yub2X6l5Td0wDhbx2hN\n"
     ]
    }
   ],
   "source": [
    "run = project_client.runs.create(thread_id=thread.id, agent_id=agent2.id)\n",
    "print(f\"Created run, run ID: {run.id}\")"
   ]
  },
  {
   "cell_type": "markdown",
   "id": "46f16d71",
   "metadata": {},
   "source": [
    "### Check Status of the run for AGENT 2"
   ]
  },
  {
   "cell_type": "code",
   "execution_count": 21,
   "id": "6491e32c",
   "metadata": {},
   "outputs": [
    {
     "name": "stdout",
     "output_type": "stream",
     "text": [
      "Run status: in_progress\n",
      "Run status: in_progress\n",
      "Run status: in_progress\n",
      "Run status: in_progress\n",
      "Run status: in_progress\n",
      "Run status: in_progress\n",
      "Run status: completed\n"
     ]
    }
   ],
   "source": [
    "# Poll the run as long as run status is queued or in progress\n",
    "while run.status in [\"queued\", \"in_progress\", \"requires_action\"]:\n",
    "    time.sleep(1)\n",
    "    run = project_client.runs.get(thread_id=thread.id, run_id=run.id)\n",
    "    print(f\"Run status: {run.status}\")\n",
    "\n",
    "    if run.status == \"failed\":\n",
    "        print(f\"Run error: {run.last_error}\")"
   ]
  },
  {
   "cell_type": "code",
   "execution_count": 22,
   "id": "6b0c9d00",
   "metadata": {},
   "outputs": [
    {
     "data": {
      "text/plain": [
       "{'prompt_tokens': 742, 'completion_tokens': 753, 'total_tokens': 1495, 'prompt_token_details': {'cached_tokens': 0}}"
      ]
     },
     "execution_count": 22,
     "metadata": {},
     "output_type": "execute_result"
    }
   ],
   "source": [
    "run.usage"
   ]
  },
  {
   "cell_type": "markdown",
   "id": "bce77a2a",
   "metadata": {},
   "source": [
    "### SHow the stack of messages so far"
   ]
  },
  {
   "cell_type": "code",
   "execution_count": 23,
   "id": "6bf45dd9",
   "metadata": {},
   "outputs": [
    {
     "name": "stdout",
     "output_type": "stream",
     "text": [
      "Message ID: msg_w1lWMmNkFQBiKhG5k4nxecfR, Role: assistant, Content: [{'type': 'text', 'text': {'value': '¡Claro! El **Palacio de Bellas Artes** en **Ciudad de México** es uno de los monumentos culturales más emblemáticos de México. Es conocido por su impresionante arquitectura y su papel como centro de artes y cultura. Aquí tienes un resumen sobre su significado, historia y características:\\n\\n### **Antecedentes Históricos**\\n- La construcción del Palacio de Bellas Artes comenzó en **1904** bajo la dirección del arquitecto italiano **Adamo Boari**, quien diseñó el edificio en un estilo mixto, combinando elementos de Art Nouveau y Neoclásico.\\n- El proyecto se retrasó debido a la agitación política durante la Revolución Mexicana (1910–1920) y los desafíos de ingeniería ocasionados por el suelo blando e inestable de la Ciudad de México.\\n- La construcción se completó en **1934** bajo la dirección del arquitecto mexicano **Federico Mariscal**, quien incorporó elementos de **Art Deco** en el diseño interior.\\n- El Palacio se inauguró oficialmente el **29 de septiembre de 1934**.\\n\\n### **Arquitectura**\\n- El **exterior** está hecho de mármol blanco de Carrara, lo que le da una apariencia monumental y elegante.\\n- La **cúpula** está adornada con vibrantes azulejos de colores que crean un impresionante contraste visual con la fachada blanca.\\n- El **interior** está ricamente decorado con murales de temática mexicana, de algunos de los más grandes muralistas de México, como **Diego Rivera**, **David Alfaro Siqueiros** y **José Clemente Orozco**.\\n\\n### **Significado Cultural**\\n- El Palacio de Bellas Artes es a menudo llamado la \"Catedral del Arte en México\". Sirve como un lugar para una variedad de eventos artísticos, como conciertos, óperas, ballet, teatro, exposiciones y eventos literarios.\\n- Es hogar del **Museo Nacional de Arquitectura** y también alberga exposiciones de arte temporales.\\n\\n### **Murales**\\n- El Palacio es famoso por sus murales a gran escala de destacados muralistas mexicanos del siglo XX. Entre los más destacados se encuentran:\\n  - **\"El hombre en el cruce de caminos\"** de Diego Rivera, recuperado y adaptado tras ser destruido en el Rockefeller Center de Nueva York.\\n  - Obras de **David Alfaro Siqueiros**, como *Nueva Democracia*.\\n\\n### **Artes Escénicas**\\n- Es el principal escenario para la **Orquesta Sinfónica Nacional de México**, la **Compañía Nacional de Ópera** y la **Compañía Nacional de Danza**.\\n- El Ballet Folklórico de México se presenta frecuentemente allí, mostrando danzas y música tradicionales mexicanas.\\n\\n### **Atracción Turística**\\nEl Palacio de Bellas Artes es un sitio declarado Patrimonio de la Humanidad por la UNESCO (como parte del centro histórico de Ciudad de México) y es un destino imperdible para viajeros. Su belleza y profundidad cultural lo convierten en un símbolo querido del patrimonio mexicano.\\n\\n### **Datos Interesantes**\\n- El edificio se está hundiendo lentamente en el suelo debido al terreno blando que lo sostiene, algo común en muchas estructuras de la Ciudad de México. Los ingenieros han implementado medidas para estabilizarlo.\\n- La cortina de vitrales, realizada por **Louis Comfort Tiffany**, representa el Valle de México con sus volcanes, Popocatépetl e Iztaccíhuatl.\\n\\nEl Palacio de Bellas Artes sigue siendo una parte esencial de la vida artística y cultural de México, atrayendo visitantes de todo el mundo.', 'annotations': []}}]\n",
      "Message ID: msg_Xe2zb1staILgIUXJTnMbY8eT, Role: assistant, Content: [{'type': 'text', 'text': {'value': 'Certainly! The **Palacio de Bellas Artes** (Palace of Fine Arts) in **Mexico City** is one of the most iconic cultural landmarks in Mexico. It is renowned for its striking architecture and its role as a hub for arts and culture. Here’s an overview of its significance, history, and features:\\n\\n### **Historical Background**\\n- Construction of the Palacio de Bellas Artes began in **1904** under the direction of the Italian architect **Adamo Boari**, who designed the building in a mixed style, combining Art Nouveau and Neoclassical elements. \\n- The project was delayed by political unrest during the Mexican Revolution (1910–1920) and ongoing engineering challenges due to the soft, unstable soil beneath Mexico City.\\n- Construction was completed in **1934** under the leadership of Mexican architect **Federico Mariscal**, who incorporated elements of **Art Deco** into the interior design.\\n- The Palace officially opened on **September 29, 1934**.\\n\\n### **Architecture**\\n- The **exterior** is made of white Carrara marble, giving it a monumental and elegant appearance.\\n- The **dome** is adorned with vibrant colored tiles that create an impressive visual contrast to the white façade.\\n- The **interior** is richly decorated with Mexican-themed murals by some of Mexico’s greatest muralists, including **Diego Rivera**, **David Alfaro Siqueiros**, and **José Clemente Orozco**.\\n\\n### **Cultural Significance**\\n- The Palacio de Bellas Artes is often referred to as the \"Cathedral of Art in Mexico.\" It serves as a venue for a variety of artistic events, such as concerts, opera, ballet, theater, exhibitions, and literary events.\\n- It is home to the **National Museum of Architecture** and also hosts temporary art exhibitions.\\n\\n### **Murals**\\n- The Palacio is famous for its large-scale murals by leading Mexican muralists of the 20th century. Highlights include:\\n  - **\"Man at the Crossroads\"** by Diego Rivera, retrieved and adapted after it was destroyed at Rockefeller Center in New York.\\n  - Works by **David Alfaro Siqueiros**, such as *New Democracy*.\\n\\n### **Performing Arts**\\n- It is the primary venue for the **National Symphony Orchestra of Mexico**, the **National Opera Company**, and the **National Dance Company**.\\n- The Ballet Folklórico de México frequently performs there, showcasing traditional Mexican dance and music.\\n\\n### **Tourist Attraction**\\nThe Palacio de Bellas Artes is a UNESCO World Heritage Site (as part of the historic center of Mexico City) and a must-visit destination for travelers. Its beauty and cultural depth make it a beloved symbol of Mexican heritage.\\n\\n### **Interesting Facts**\\n- The building is slowly sinking into the ground due to the soft soil beneath it, which is common for many structures in Mexico City. Engineers have implemented measures to stabilize it.\\n- The stained glass curtain, made by **Louis Comfort Tiffany**, depicts the Valley of Mexico with its volcanoes, Popocatépetl and Iztaccíhuatl.\\n\\nThe Palacio de Bellas Artes continues to be an essential part of Mexico\\'s artistic and cultural life, drawing visitors from all over the world.', 'annotations': []}}]\n",
      "Message ID: msg_z4cPFgbwNm61hdzEjzQeDvGL, Role: user, Content: [{'type': 'text', 'text': {'value': \"Tell me about the 'Palacio de Bellas Artes' in Mexico City.\", 'annotations': []}}]\n"
     ]
    }
   ],
   "source": [
    "messages = project_client.messages.list(thread_id=thread.id)\n",
    "\n",
    "for message in messages:\n",
    "    print(f\"Message ID: {message.id}, Role: {message.role}, Content: {message.content}\")"
   ]
  },
  {
   "cell_type": "markdown",
   "id": "b0e97c44",
   "metadata": {},
   "source": [
    "### SHow last message of AGENT 2"
   ]
  },
  {
   "cell_type": "code",
   "execution_count": 24,
   "id": "b7916879",
   "metadata": {},
   "outputs": [
    {
     "name": "stdout",
     "output_type": "stream",
     "text": [
      "Content: [{'type': 'text', 'text': {'value': '¡Claro! El **Palacio de Bellas Artes** en **Ciudad de México** es uno de los monumentos culturales más emblemáticos de México. Es conocido por su impresionante arquitectura y su papel como centro de artes y cultura. Aquí tienes un resumen sobre su significado, historia y características:\\n\\n### **Antecedentes Históricos**\\n- La construcción del Palacio de Bellas Artes comenzó en **1904** bajo la dirección del arquitecto italiano **Adamo Boari**, quien diseñó el edificio en un estilo mixto, combinando elementos de Art Nouveau y Neoclásico.\\n- El proyecto se retrasó debido a la agitación política durante la Revolución Mexicana (1910–1920) y los desafíos de ingeniería ocasionados por el suelo blando e inestable de la Ciudad de México.\\n- La construcción se completó en **1934** bajo la dirección del arquitecto mexicano **Federico Mariscal**, quien incorporó elementos de **Art Deco** en el diseño interior.\\n- El Palacio se inauguró oficialmente el **29 de septiembre de 1934**.\\n\\n### **Arquitectura**\\n- El **exterior** está hecho de mármol blanco de Carrara, lo que le da una apariencia monumental y elegante.\\n- La **cúpula** está adornada con vibrantes azulejos de colores que crean un impresionante contraste visual con la fachada blanca.\\n- El **interior** está ricamente decorado con murales de temática mexicana, de algunos de los más grandes muralistas de México, como **Diego Rivera**, **David Alfaro Siqueiros** y **José Clemente Orozco**.\\n\\n### **Significado Cultural**\\n- El Palacio de Bellas Artes es a menudo llamado la \"Catedral del Arte en México\". Sirve como un lugar para una variedad de eventos artísticos, como conciertos, óperas, ballet, teatro, exposiciones y eventos literarios.\\n- Es hogar del **Museo Nacional de Arquitectura** y también alberga exposiciones de arte temporales.\\n\\n### **Murales**\\n- El Palacio es famoso por sus murales a gran escala de destacados muralistas mexicanos del siglo XX. Entre los más destacados se encuentran:\\n  - **\"El hombre en el cruce de caminos\"** de Diego Rivera, recuperado y adaptado tras ser destruido en el Rockefeller Center de Nueva York.\\n  - Obras de **David Alfaro Siqueiros**, como *Nueva Democracia*.\\n\\n### **Artes Escénicas**\\n- Es el principal escenario para la **Orquesta Sinfónica Nacional de México**, la **Compañía Nacional de Ópera** y la **Compañía Nacional de Danza**.\\n- El Ballet Folklórico de México se presenta frecuentemente allí, mostrando danzas y música tradicionales mexicanas.\\n\\n### **Atracción Turística**\\nEl Palacio de Bellas Artes es un sitio declarado Patrimonio de la Humanidad por la UNESCO (como parte del centro histórico de Ciudad de México) y es un destino imperdible para viajeros. Su belleza y profundidad cultural lo convierten en un símbolo querido del patrimonio mexicano.\\n\\n### **Datos Interesantes**\\n- El edificio se está hundiendo lentamente en el suelo debido al terreno blando que lo sostiene, algo común en muchas estructuras de la Ciudad de México. Los ingenieros han implementado medidas para estabilizarlo.\\n- La cortina de vitrales, realizada por **Louis Comfort Tiffany**, representa el Valle de México con sus volcanes, Popocatépetl e Iztaccíhuatl.\\n\\nEl Palacio de Bellas Artes sigue siendo una parte esencial de la vida artística y cultural de México, atrayendo visitantes de todo el mundo.', 'annotations': []}}]\n"
     ]
    }
   ],
   "source": [
    "messages = list(project_client.messages.list(thread_id=thread.id))\n",
    "\n",
    "if messages:\n",
    "    last_message = messages[0]\n",
    "    print(f\"Content: {last_message.content}\")\n",
    "else:\n",
    "    print(\"No messages found.\")"
   ]
  },
  {
   "cell_type": "markdown",
   "id": "e0ec7ca6",
   "metadata": {},
   "source": [
    "### Run AGENT 3"
   ]
  },
  {
   "cell_type": "code",
   "execution_count": 25,
   "id": "cf1be1d9-90c0-43bc-b358-acf62a22ef04",
   "metadata": {},
   "outputs": [
    {
     "name": "stdout",
     "output_type": "stream",
     "text": [
      "Created run, run ID: run_UvzWWxj905QygHNj2CcAcGNN\n"
     ]
    }
   ],
   "source": [
    "run = project_client.runs.create(thread_id=thread.id, agent_id=agent3.id)\n",
    "print(f\"Created run, run ID: {run.id}\")"
   ]
  },
  {
   "cell_type": "markdown",
   "id": "7b04e16e",
   "metadata": {},
   "source": [
    "### Check status of run of AGENT 3"
   ]
  },
  {
   "cell_type": "code",
   "execution_count": 26,
   "id": "c9949669",
   "metadata": {},
   "outputs": [
    {
     "name": "stdout",
     "output_type": "stream",
     "text": [
      "Run status: in_progress\n",
      "Run status: completed\n"
     ]
    }
   ],
   "source": [
    "# Poll the run as long as run status is queued or in progress\n",
    "while run.status in [\"queued\", \"in_progress\", \"requires_action\"]:\n",
    "    time.sleep(1)\n",
    "    run = project_client.runs.get(thread_id=thread.id, run_id=run.id)\n",
    "    print(f\"Run status: {run.status}\")\n",
    "\n",
    "    if run.status == \"failed\":\n",
    "        print(f\"Run error: {run.last_error}\")"
   ]
  },
  {
   "cell_type": "code",
   "execution_count": 27,
   "id": "3eb368fd",
   "metadata": {},
   "outputs": [
    {
     "data": {
      "text/plain": [
       "{'prompt_tokens': 1498, 'completion_tokens': 140, 'total_tokens': 1638, 'prompt_token_details': {'cached_tokens': 0}}"
      ]
     },
     "execution_count": 27,
     "metadata": {},
     "output_type": "execute_result"
    }
   ],
   "source": [
    "run.usage"
   ]
  },
  {
   "cell_type": "markdown",
   "id": "bb139d78",
   "metadata": {},
   "source": [
    "### Show the Stack of messages so far"
   ]
  },
  {
   "cell_type": "code",
   "execution_count": 28,
   "id": "9bb6f766",
   "metadata": {},
   "outputs": [
    {
     "name": "stdout",
     "output_type": "stream",
     "text": [
      "Message ID: msg_eemFkEfC5GaMaiBmUuVpxGyd, Role: assistant, Content: [{'type': 'text', 'text': {'value': '🎭✨ ¡El **Palacio de Bellas Artes** en Ciudad de México es una joya cultural y arquitectónica! 🌟 Construido con mármol blanco de Carrara y coronado con una espectacular cúpula de colores vibrantes 🏛️🎨, es el hogar de conciertos, ópera, ballet y más. Su interior está decorado con **murales de grandes artistas mexicanos** como Diego Rivera y Siqueiros. 🇲🇽💃🎶 Además, es el escenario del famoso **Ballet Folklórico de México**. 💃🕺 Un imperdible a nivel turístico y artístico. 🖼️🎶', 'annotations': []}}]\n",
      "Message ID: msg_w1lWMmNkFQBiKhG5k4nxecfR, Role: assistant, Content: [{'type': 'text', 'text': {'value': '¡Claro! El **Palacio de Bellas Artes** en **Ciudad de México** es uno de los monumentos culturales más emblemáticos de México. Es conocido por su impresionante arquitectura y su papel como centro de artes y cultura. Aquí tienes un resumen sobre su significado, historia y características:\\n\\n### **Antecedentes Históricos**\\n- La construcción del Palacio de Bellas Artes comenzó en **1904** bajo la dirección del arquitecto italiano **Adamo Boari**, quien diseñó el edificio en un estilo mixto, combinando elementos de Art Nouveau y Neoclásico.\\n- El proyecto se retrasó debido a la agitación política durante la Revolución Mexicana (1910–1920) y los desafíos de ingeniería ocasionados por el suelo blando e inestable de la Ciudad de México.\\n- La construcción se completó en **1934** bajo la dirección del arquitecto mexicano **Federico Mariscal**, quien incorporó elementos de **Art Deco** en el diseño interior.\\n- El Palacio se inauguró oficialmente el **29 de septiembre de 1934**.\\n\\n### **Arquitectura**\\n- El **exterior** está hecho de mármol blanco de Carrara, lo que le da una apariencia monumental y elegante.\\n- La **cúpula** está adornada con vibrantes azulejos de colores que crean un impresionante contraste visual con la fachada blanca.\\n- El **interior** está ricamente decorado con murales de temática mexicana, de algunos de los más grandes muralistas de México, como **Diego Rivera**, **David Alfaro Siqueiros** y **José Clemente Orozco**.\\n\\n### **Significado Cultural**\\n- El Palacio de Bellas Artes es a menudo llamado la \"Catedral del Arte en México\". Sirve como un lugar para una variedad de eventos artísticos, como conciertos, óperas, ballet, teatro, exposiciones y eventos literarios.\\n- Es hogar del **Museo Nacional de Arquitectura** y también alberga exposiciones de arte temporales.\\n\\n### **Murales**\\n- El Palacio es famoso por sus murales a gran escala de destacados muralistas mexicanos del siglo XX. Entre los más destacados se encuentran:\\n  - **\"El hombre en el cruce de caminos\"** de Diego Rivera, recuperado y adaptado tras ser destruido en el Rockefeller Center de Nueva York.\\n  - Obras de **David Alfaro Siqueiros**, como *Nueva Democracia*.\\n\\n### **Artes Escénicas**\\n- Es el principal escenario para la **Orquesta Sinfónica Nacional de México**, la **Compañía Nacional de Ópera** y la **Compañía Nacional de Danza**.\\n- El Ballet Folklórico de México se presenta frecuentemente allí, mostrando danzas y música tradicionales mexicanas.\\n\\n### **Atracción Turística**\\nEl Palacio de Bellas Artes es un sitio declarado Patrimonio de la Humanidad por la UNESCO (como parte del centro histórico de Ciudad de México) y es un destino imperdible para viajeros. Su belleza y profundidad cultural lo convierten en un símbolo querido del patrimonio mexicano.\\n\\n### **Datos Interesantes**\\n- El edificio se está hundiendo lentamente en el suelo debido al terreno blando que lo sostiene, algo común en muchas estructuras de la Ciudad de México. Los ingenieros han implementado medidas para estabilizarlo.\\n- La cortina de vitrales, realizada por **Louis Comfort Tiffany**, representa el Valle de México con sus volcanes, Popocatépetl e Iztaccíhuatl.\\n\\nEl Palacio de Bellas Artes sigue siendo una parte esencial de la vida artística y cultural de México, atrayendo visitantes de todo el mundo.', 'annotations': []}}]\n",
      "Message ID: msg_Xe2zb1staILgIUXJTnMbY8eT, Role: assistant, Content: [{'type': 'text', 'text': {'value': 'Certainly! The **Palacio de Bellas Artes** (Palace of Fine Arts) in **Mexico City** is one of the most iconic cultural landmarks in Mexico. It is renowned for its striking architecture and its role as a hub for arts and culture. Here’s an overview of its significance, history, and features:\\n\\n### **Historical Background**\\n- Construction of the Palacio de Bellas Artes began in **1904** under the direction of the Italian architect **Adamo Boari**, who designed the building in a mixed style, combining Art Nouveau and Neoclassical elements. \\n- The project was delayed by political unrest during the Mexican Revolution (1910–1920) and ongoing engineering challenges due to the soft, unstable soil beneath Mexico City.\\n- Construction was completed in **1934** under the leadership of Mexican architect **Federico Mariscal**, who incorporated elements of **Art Deco** into the interior design.\\n- The Palace officially opened on **September 29, 1934**.\\n\\n### **Architecture**\\n- The **exterior** is made of white Carrara marble, giving it a monumental and elegant appearance.\\n- The **dome** is adorned with vibrant colored tiles that create an impressive visual contrast to the white façade.\\n- The **interior** is richly decorated with Mexican-themed murals by some of Mexico’s greatest muralists, including **Diego Rivera**, **David Alfaro Siqueiros**, and **José Clemente Orozco**.\\n\\n### **Cultural Significance**\\n- The Palacio de Bellas Artes is often referred to as the \"Cathedral of Art in Mexico.\" It serves as a venue for a variety of artistic events, such as concerts, opera, ballet, theater, exhibitions, and literary events.\\n- It is home to the **National Museum of Architecture** and also hosts temporary art exhibitions.\\n\\n### **Murals**\\n- The Palacio is famous for its large-scale murals by leading Mexican muralists of the 20th century. Highlights include:\\n  - **\"Man at the Crossroads\"** by Diego Rivera, retrieved and adapted after it was destroyed at Rockefeller Center in New York.\\n  - Works by **David Alfaro Siqueiros**, such as *New Democracy*.\\n\\n### **Performing Arts**\\n- It is the primary venue for the **National Symphony Orchestra of Mexico**, the **National Opera Company**, and the **National Dance Company**.\\n- The Ballet Folklórico de México frequently performs there, showcasing traditional Mexican dance and music.\\n\\n### **Tourist Attraction**\\nThe Palacio de Bellas Artes is a UNESCO World Heritage Site (as part of the historic center of Mexico City) and a must-visit destination for travelers. Its beauty and cultural depth make it a beloved symbol of Mexican heritage.\\n\\n### **Interesting Facts**\\n- The building is slowly sinking into the ground due to the soft soil beneath it, which is common for many structures in Mexico City. Engineers have implemented measures to stabilize it.\\n- The stained glass curtain, made by **Louis Comfort Tiffany**, depicts the Valley of Mexico with its volcanoes, Popocatépetl and Iztaccíhuatl.\\n\\nThe Palacio de Bellas Artes continues to be an essential part of Mexico\\'s artistic and cultural life, drawing visitors from all over the world.', 'annotations': []}}]\n",
      "Message ID: msg_z4cPFgbwNm61hdzEjzQeDvGL, Role: user, Content: [{'type': 'text', 'text': {'value': \"Tell me about the 'Palacio de Bellas Artes' in Mexico City.\", 'annotations': []}}]\n"
     ]
    }
   ],
   "source": [
    "messages = project_client.messages.list(thread_id=thread.id)\n",
    "\n",
    "for message in messages:\n",
    "    print(f\"Message ID: {message.id}, Role: {message.role}, Content: {message.content}\")"
   ]
  },
  {
   "cell_type": "markdown",
   "id": "3b602a44",
   "metadata": {},
   "source": [
    "### Print last message of AGENT 3"
   ]
  },
  {
   "cell_type": "code",
   "execution_count": 29,
   "id": "f3038d90-2f0b-46a7-bf98-5c1dcf836288",
   "metadata": {},
   "outputs": [
    {
     "name": "stdout",
     "output_type": "stream",
     "text": [
      "Content: [{'type': 'text', 'text': {'value': '🎭✨ ¡El **Palacio de Bellas Artes** en Ciudad de México es una joya cultural y arquitectónica! 🌟 Construido con mármol blanco de Carrara y coronado con una espectacular cúpula de colores vibrantes 🏛️🎨, es el hogar de conciertos, ópera, ballet y más. Su interior está decorado con **murales de grandes artistas mexicanos** como Diego Rivera y Siqueiros. 🇲🇽💃🎶 Además, es el escenario del famoso **Ballet Folklórico de México**. 💃🕺 Un imperdible a nivel turístico y artístico. 🖼️🎶', 'annotations': []}}]\n"
     ]
    }
   ],
   "source": [
    "messages = list(project_client.messages.list(thread_id=thread.id))\n",
    "\n",
    "last_message = messages[0]\n",
    "print(f\"Content: {last_message.content}\")"
   ]
  },
  {
   "cell_type": "markdown",
   "id": "2fdf7d2e-f323-4af1-83cc-79ac906ea5e6",
   "metadata": {},
   "source": [
    "## Post processing"
   ]
  },
  {
   "cell_type": "code",
   "execution_count": 30,
   "id": "7677cdb0-a49f-428b-8196-6d4a758331f4",
   "metadata": {},
   "outputs": [
    {
     "name": "stdout",
     "output_type": "stream",
     "text": [
      "Listing all agents in the project:\n",
      "Agent ID: asst_0daOF9qFp3Z6H2IRkyLAt0SC, Name: Emojis, Model: gpt-4o, Instructions: You are an AI agent that add emojis to a text\n",
      "Agent ID: asst_wd6p9YFkv2lLCZnk5DASlMd6, Name: Translator, Model: gpt-4o-mini, Instructions: You are an AI agent that translates English into Spanish.\n",
      "Agent ID: asst_Sx8Jf8y4so0ig2waU3P8Jvu5, Name: Q&A, Model: gpt-4o, Instructions: You are an AI agent.\n"
     ]
    }
   ],
   "source": [
    "# List all agents in the project\n",
    "print(\"Listing all agents in the project:\")\n",
    "\n",
    "agents = project_client.list_agents()\n",
    "for agent in agents:\n",
    "    print(f\"Agent ID: {agent.id}, Name: {agent.name}, Model: {agent.model}, Instructions: {agent.instructions}\")"
   ]
  },
  {
   "cell_type": "code",
   "execution_count": 31,
   "id": "50d40442-89ce-4374-9e44-001ecc31482d",
   "metadata": {},
   "outputs": [
    {
     "name": "stdout",
     "output_type": "stream",
     "text": [
      "Deleted agent, agent ID: asst_Sx8Jf8y4so0ig2waU3P8Jvu5\n"
     ]
    }
   ],
   "source": [
    "project_client.delete_agent(id1)\n",
    "print(f\"Deleted agent, agent ID: {id1}\")"
   ]
  },
  {
   "cell_type": "code",
   "execution_count": 32,
   "id": "d157303b-fe5f-47cd-8918-8be2b0bcef56",
   "metadata": {},
   "outputs": [
    {
     "name": "stdout",
     "output_type": "stream",
     "text": [
      "Deleted agent, agent ID: asst_wd6p9YFkv2lLCZnk5DASlMd6\n"
     ]
    }
   ],
   "source": [
    "project_client.delete_agent(id2)\n",
    "print(f\"Deleted agent, agent ID: {id2}\")"
   ]
  },
  {
   "cell_type": "code",
   "execution_count": 33,
   "id": "48f5e00e-faf6-4b58-89db-21b0b5c64119",
   "metadata": {},
   "outputs": [
    {
     "name": "stdout",
     "output_type": "stream",
     "text": [
      "Deleted agent, agent ID: asst_0daOF9qFp3Z6H2IRkyLAt0SC\n"
     ]
    }
   ],
   "source": [
    "project_client.delete_agent(id3)\n",
    "print(f\"Deleted agent, agent ID: {id3}\")"
   ]
  },
  {
   "cell_type": "code",
   "execution_count": null,
   "id": "7b6d7e95-4308-45ca-a3a4-795f5a3bcd44",
   "metadata": {},
   "outputs": [],
   "source": []
  }
 ],
 "metadata": {
  "kernelspec": {
   "display_name": "Python 3.10 - SDK v2",
   "language": "python",
   "name": "python310-sdkv2"
  },
  "language_info": {
   "codemirror_mode": {
    "name": "ipython",
    "version": 3
   },
   "file_extension": ".py",
   "mimetype": "text/x-python",
   "name": "python",
   "nbconvert_exporter": "python",
   "pygments_lexer": "ipython3",
   "version": "3.10.14"
  },
  "varInspector": {
   "cols": {
    "lenName": 16,
    "lenType": 16,
    "lenVar": 40
   },
   "kernels_config": {
    "python": {
     "delete_cmd_postfix": "",
     "delete_cmd_prefix": "del ",
     "library": "var_list.py",
     "varRefreshCmd": "print(var_dic_list())"
    },
    "r": {
     "delete_cmd_postfix": ") ",
     "delete_cmd_prefix": "rm(",
     "library": "var_list.r",
     "varRefreshCmd": "cat(var_dic_list()) "
    }
   },
   "types_to_exclude": [
    "module",
    "function",
    "builtin_function_or_method",
    "instance",
    "_Feature"
   ],
   "window_display": false
  }
 },
 "nbformat": 4,
 "nbformat_minor": 5
}
