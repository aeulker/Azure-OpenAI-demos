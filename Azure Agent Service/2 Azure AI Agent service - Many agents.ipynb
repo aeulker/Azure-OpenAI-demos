{
 "cells": [
  {
   "cell_type": "markdown",
   "id": "431cc026-279f-4105-8444-f1b93650da0d",
   "metadata": {},
   "source": [
    "# Azure AI Agent service - Many agents\n",
    "\n",
    "<img src=\"https://learn.microsoft.com/en-us/azure/ai-services/agents/media/agent-service-the-glue.png\" width=800>\n",
    "\n",
    "> https://learn.microsoft.com/en-us/azure/ai-services/agents/"
   ]
  },
  {
   "cell_type": "code",
   "execution_count": 1,
   "id": "7a3e72d0-7521-438c-928d-5fa293b0f419",
   "metadata": {},
   "outputs": [],
   "source": [
    "import os\n",
    "import sys\n",
    "\n",
    "from azure.ai.projects import AIProjectClient\n",
    "from azure.identity import DefaultAzureCredential\n",
    "from dotenv import load_dotenv\n",
    "from openai import AzureOpenAI"
   ]
  },
  {
   "cell_type": "code",
   "execution_count": 2,
   "id": "65334de7-4005-401a-89c1-be24f75abbd9",
   "metadata": {},
   "outputs": [
    {
     "data": {
      "text/plain": [
       "True"
      ]
     },
     "execution_count": 2,
     "metadata": {},
     "output_type": "execute_result"
    }
   ],
   "source": [
    "load_dotenv(\"azure.env\")"
   ]
  },
  {
   "cell_type": "code",
   "execution_count": 3,
   "id": "8628712a-0d10-4351-8993-b4c3243f83be",
   "metadata": {},
   "outputs": [
    {
     "data": {
      "text/plain": [
       "'3.10.14 (main, May  6 2024, 19:42:50) [GCC 11.2.0]'"
      ]
     },
     "execution_count": 3,
     "metadata": {},
     "output_type": "execute_result"
    }
   ],
   "source": [
    "sys.version"
   ]
  },
  {
   "cell_type": "markdown",
   "id": "cc2c1d28-e366-442e-a186-81239ec337ec",
   "metadata": {},
   "source": [
    "## Project"
   ]
  },
  {
   "cell_type": "code",
   "execution_count": 4,
   "id": "76c7bbb7-0faa-4500-ba42-7c5b176f6196",
   "metadata": {},
   "outputs": [],
   "source": [
    "project_client = AIProjectClient.from_connection_string(\n",
    "    credential=DefaultAzureCredential(),\n",
    "    conn_str=os.getenv(\"PROJECT_CONNECTION_STRING\"),\n",
    ")"
   ]
  },
  {
   "cell_type": "code",
   "execution_count": 5,
   "id": "4c6e9b38-c60c-4f1c-b4fd-65145bd45b51",
   "metadata": {},
   "outputs": [],
   "source": [
    "model = \"gpt-4o\""
   ]
  },
  {
   "cell_type": "code",
   "execution_count": 6,
   "id": "8bec0fdf-bfdb-4d72-8cc0-d02b8eb79b59",
   "metadata": {},
   "outputs": [
    {
     "name": "stdout",
     "output_type": "stream",
     "text": [
      "Created Q&A agent, agent ID: asst_NAyoEhFV2ZOa3jwjmXtyzd4r\n"
     ]
    }
   ],
   "source": [
    "agent1 = project_client.agents.create_agent(\n",
    "    model=model,\n",
    "    name=\"Q&A\",\n",
    "    instructions=(\"You are an AI agent.\"),\n",
    ")\n",
    "\n",
    "print(f\"Created Q&A agent, agent ID: {agent1.id}\")"
   ]
  },
  {
   "cell_type": "code",
   "execution_count": 7,
   "id": "06dfa418-7b00-4450-8d0e-d32c90b24cc5",
   "metadata": {},
   "outputs": [
    {
     "name": "stdout",
     "output_type": "stream",
     "text": [
      "Created Translator agent, agent ID: asst_8izGaUiVcVMGv8eVpVk6BcEu\n"
     ]
    }
   ],
   "source": [
    "agent2 = project_client.agents.create_agent(\n",
    "    model=model,\n",
    "    name=\"Translator\",\n",
    "    instructions=(\"You are an AI agent that translate english into french\")\n",
    ")\n",
    "\n",
    "print(f\"Created Translator agent, agent ID: {agent2.id}\")"
   ]
  },
  {
   "cell_type": "code",
   "execution_count": 8,
   "id": "bd4b89b4-fe75-48b8-acc8-17d3adf721cf",
   "metadata": {},
   "outputs": [
    {
     "name": "stdout",
     "output_type": "stream",
     "text": [
      "Created Emojis agent, agent ID: asst_64ACPe1rDi805LYQlLlsZ5kb\n"
     ]
    }
   ],
   "source": [
    "agent3 = project_client.agents.create_agent(\n",
    "    model=model,\n",
    "    name=\"Emojis\",\n",
    "    instructions=(\"You are an AI agent that add emojis to a text\")\n",
    ")\n",
    "\n",
    "print(f\"Created Emojis agent, agent ID: {agent3.id}\")"
   ]
  },
  {
   "cell_type": "code",
   "execution_count": 9,
   "id": "5b4a3453-e9ce-4208-a0e5-6c201939d238",
   "metadata": {},
   "outputs": [
    {
     "name": "stdout",
     "output_type": "stream",
     "text": [
      "Created thread, thread ID: thread_HL6L34Xn7sBbOAKPR5lEZWyC\n"
     ]
    }
   ],
   "source": [
    "thread = project_client.agents.create_thread()\n",
    "print(f\"Created thread, thread ID: {thread.id}\")"
   ]
  },
  {
   "cell_type": "code",
   "execution_count": 10,
   "id": "35131134-b241-4721-a673-fb6cd240ed03",
   "metadata": {},
   "outputs": [
    {
     "name": "stdout",
     "output_type": "stream",
     "text": [
      "Message created, message ID: msg_cCrqcfTzlPGFU7SLnln9PwTz\n"
     ]
    }
   ],
   "source": [
    "message = project_client.agents.create_message(\n",
    "    thread_id=thread.id,\n",
    "    role=\"user\",\n",
    "    content=(\"What is a GenAI model?\"),\n",
    ")\n",
    "\n",
    "print(f\"Message created, message ID: {message.id}\")"
   ]
  },
  {
   "cell_type": "code",
   "execution_count": 11,
   "id": "70fcd807-ac0f-4253-9122-1a96f3419f71",
   "metadata": {},
   "outputs": [
    {
     "name": "stdout",
     "output_type": "stream",
     "text": [
      "Run finished for Agent1 with status: completed\n"
     ]
    }
   ],
   "source": [
    "run = project_client.agents.create_and_process_run(thread_id=thread.id,\n",
    "                                                   agent_id=agent1.id)\n",
    "\n",
    "print(f\"Run finished for Agent1 with status: {run.status}\")\n",
    "\n",
    "if run.status == \"failed\":\n",
    "    print(f\"Run failed: {run.last_error}\")"
   ]
  },
  {
   "cell_type": "code",
   "execution_count": 12,
   "id": "f21ef94e-22d1-4945-9886-be4dbefdca8e",
   "metadata": {},
   "outputs": [
    {
     "name": "stdout",
     "output_type": "stream",
     "text": [
      "Thread messages: {'object': 'list', 'data': [{'id': 'msg_qbixsn94mKk3BjeSgd07kjjR', 'object': 'thread.message', 'created_at': 1747746156, 'assistant_id': 'asst_NAyoEhFV2ZOa3jwjmXtyzd4r', 'thread_id': 'thread_HL6L34Xn7sBbOAKPR5lEZWyC', 'run_id': 'run_4TnjZc4O0JNlgvpzTLfOJHOG', 'role': 'assistant', 'content': [{'type': 'text', 'text': {'value': \"A **Generative AI (GenAI) model** refers to a type of artificial intelligence model designed to generate new, original content, such as text, images, audio, code, or other forms of data, based on the patterns found in the training data it was exposed to. It leverages deep learning algorithms, often involving neural networks like transformers or GANs (Generative Adversarial Networks), to predict or generate outputs that mimic human creation.\\n\\n### Characteristics of GenAI Models:\\n1. **Creation of Content**: GenAI models can produce natural language text (e.g., essays, responses, stories), images, videos, or other types of generative outputs.\\n2. **Pre-trained on Large Datasets**: These models are trained on vast datasets (like text from the internet for language-based models or images for computer vision-based models) to understand and learn the underlying patterns.\\n3. **Multi-modal Capabilities**: Some advanced Generative AI models, like OpenAI's GPT-4 or OpenAI DALL·E, combine modalities (e.g., text-to-image or text-to-video generation).\\n4. **High Accuracy and Context Understanding**: Many large-scale GenAI models use architectures like **transformers** (e.g., GPT, BERT) for better contextual understanding, enabling coherent and realistic outputs.\\n\\n### Examples of GenAI Models:\\n1. **Natural Language Generation (NLG)**:\\n   - GPT (Generative Pre-trained Transformer), such as GPT-3 and GPT-4.\\n   - ChatGPT, Bard (Google), etc., focused on conversational AI.\\n2. **Image Generation**:\\n   - DALL·E (text-to-image generation).\\n   - Stable Diffusion.\\n   - MidJourney.\\n3. **Audio/Video Creation**:\\n   - ElevenLabs for text-to-speech generation.\\n   - Runway ML for AI-generated videos.\\n4. **Other Domains**:\\n   - GitHub Copilot (code generation).\\n   - AlphaCode (programming).\\n\\n### Key Use Cases:\\n- Text content creation (blog writing, creative storytelling).\\n- Art and graphic generation (AI-driven design).\\n- Programming aid (code generation or debugging suggestions).\\n- Video or music production.\\n- Data augmentation for industries like healthcare or gaming.\\n\\n### Challenges:\\n- **Bias and Ethics**: Models trained on public data may reflect biases present in the training set.\\n- **Misuse**: Potential for generating fake content, plagiarism, or disinformation.\\n- **Quality Control**: Generated outputs are often creative but may lack accuracy or alignment with user goals.\\n\\nIn essence, **GenAI models** redefine how machines assist humans in creative and generative tasks, making processes faster and more scalable by automating content generation.\", 'annotations': []}}], 'attachments': [], 'metadata': {}}, {'id': 'msg_cCrqcfTzlPGFU7SLnln9PwTz', 'object': 'thread.message', 'created_at': 1747746147, 'assistant_id': None, 'thread_id': 'thread_HL6L34Xn7sBbOAKPR5lEZWyC', 'run_id': None, 'role': 'user', 'content': [{'type': 'text', 'text': {'value': 'What is a GenAI model?', 'annotations': []}}], 'attachments': [], 'metadata': {}}], 'first_id': 'msg_qbixsn94mKk3BjeSgd07kjjR', 'last_id': 'msg_cCrqcfTzlPGFU7SLnln9PwTz', 'has_more': False}\n",
      "\n",
      "Agent1 last message:\n",
      "A **Generative AI (GenAI) model** refers to a type of artificial intelligence model designed to generate new, original content, such as text, images, audio, code, or other forms of data, based on the patterns found in the training data it was exposed to. It leverages deep learning algorithms, often involving neural networks like transformers or GANs (Generative Adversarial Networks), to predict or generate outputs that mimic human creation.\n",
      "\n",
      "### Characteristics of GenAI Models:\n",
      "1. **Creation of Content**: GenAI models can produce natural language text (e.g., essays, responses, stories), images, videos, or other types of generative outputs.\n",
      "2. **Pre-trained on Large Datasets**: These models are trained on vast datasets (like text from the internet for language-based models or images for computer vision-based models) to understand and learn the underlying patterns.\n",
      "3. **Multi-modal Capabilities**: Some advanced Generative AI models, like OpenAI's GPT-4 or OpenAI DALL·E, combine modalities (e.g., text-to-image or text-to-video generation).\n",
      "4. **High Accuracy and Context Understanding**: Many large-scale GenAI models use architectures like **transformers** (e.g., GPT, BERT) for better contextual understanding, enabling coherent and realistic outputs.\n",
      "\n",
      "### Examples of GenAI Models:\n",
      "1. **Natural Language Generation (NLG)**:\n",
      "   - GPT (Generative Pre-trained Transformer), such as GPT-3 and GPT-4.\n",
      "   - ChatGPT, Bard (Google), etc., focused on conversational AI.\n",
      "2. **Image Generation**:\n",
      "   - DALL·E (text-to-image generation).\n",
      "   - Stable Diffusion.\n",
      "   - MidJourney.\n",
      "3. **Audio/Video Creation**:\n",
      "   - ElevenLabs for text-to-speech generation.\n",
      "   - Runway ML for AI-generated videos.\n",
      "4. **Other Domains**:\n",
      "   - GitHub Copilot (code generation).\n",
      "   - AlphaCode (programming).\n",
      "\n",
      "### Key Use Cases:\n",
      "- Text content creation (blog writing, creative storytelling).\n",
      "- Art and graphic generation (AI-driven design).\n",
      "- Programming aid (code generation or debugging suggestions).\n",
      "- Video or music production.\n",
      "- Data augmentation for industries like healthcare or gaming.\n",
      "\n",
      "### Challenges:\n",
      "- **Bias and Ethics**: Models trained on public data may reflect biases present in the training set.\n",
      "- **Misuse**: Potential for generating fake content, plagiarism, or disinformation.\n",
      "- **Quality Control**: Generated outputs are often creative but may lack accuracy or alignment with user goals.\n",
      "\n",
      "In essence, **GenAI models** redefine how machines assist humans in creative and generative tasks, making processes faster and more scalable by automating content generation.\n"
     ]
    }
   ],
   "source": [
    "messages = project_client.agents.list_messages(thread_id=thread.id)\n",
    "print(f\"Thread messages: {messages}\")\n",
    "\n",
    "# Print last message\n",
    "last_msg = messages.get_last_text_message_by_role(\"assistant\")\n",
    "\n",
    "if last_msg:\n",
    "    print(f\"\\nAgent1 last message:\\n{last_msg.text.value}\")"
   ]
  },
  {
   "cell_type": "code",
   "execution_count": 13,
   "id": "53895c1e-9e41-4003-bd80-f166e65001db",
   "metadata": {},
   "outputs": [
    {
     "name": "stdout",
     "output_type": "stream",
     "text": [
      "Run finished for Agent2 with status: completed\n"
     ]
    }
   ],
   "source": [
    "run = project_client.agents.create_and_process_run(thread_id=thread.id,\n",
    "                                                   agent_id=agent2.id)\n",
    "\n",
    "print(f\"Run finished for Agent2 with status: {run.status}\")\n",
    "\n",
    "if run.status == \"failed\":\n",
    "    print(f\"Run failed: {run.last_error}\")"
   ]
  },
  {
   "cell_type": "code",
   "execution_count": 14,
   "id": "837316af-2ae2-48d5-8d14-829985f6163c",
   "metadata": {},
   "outputs": [
    {
     "name": "stdout",
     "output_type": "stream",
     "text": [
      "Agent last message:\n",
      "Un modèle **IA générative (GenAI)** désigne un type de modèle d'intelligence artificielle conçu pour créer du contenu original, comme du texte, des images, des sons, du code ou d'autres formes de données, en se basant sur les motifs présents dans les données d'entraînement auxquelles il a été exposé. Il utilise des algorithmes d'apprentissage approfondi, souvent avec des réseaux neuronaux tels que les transformateurs ou les GANs (Réseaux antagonistes génératifs), pour prédire ou générer des contenus qui imitent les créations humaines.\n",
      "\n",
      "### Caractéristiques des modèles GenAI :\n",
      "1. **Création de contenu** : Les modèles GenAI peuvent produire du texte (ex. : des essais, réponses, récits), des images, des vidéos ou d'autres types de résultats génératifs.\n",
      "2. **Pré-entraînement sur de larges ensembles de données** : Ces modèles sont entraînés sur des ensembles de données considérables (par exemple, textes sur Internet pour les modèles basés sur le langage ou images pour la vision informatique) afin de comprendre et d'apprendre les motifs sous-jacents.\n",
      "3. **Capacités multimodales** : Certains modèles avancés comme GPT-4 d'OpenAI ou DALL·E combinent plusieurs modalités (par exemple, génération de texte en image ou texte en vidéo).\n",
      "4. **Compréhension contextuelle élevée** : Les modèles à grande échelle utilisent souvent des architectures comme les **transformateurs** (GPT, BERT) pour une meilleure compréhension contextuelle, ce qui permet de produire des résultats cohérents et réalistes.\n",
      "\n",
      "### Exemples de modèles GenAI :\n",
      "1. **Génération de langage naturel (NLG)** :\n",
      "   - GPT (Generative Pre-Trained Transformer) comme GPT-3 et GPT-4.\n",
      "   - ChatGPT, Bard (Google), axés sur l'IA conversationnelle.\n",
      "2. **Génération d'images** :\n",
      "   - DALL·E (génération d'image à partir de texte).\n",
      "   - Stable Diffusion.\n",
      "   - MidJourney.\n",
      "3. **Création audio/vidéo** :\n",
      "   - ElevenLabs pour la génération de voix synthétique.\n",
      "   - Runway ML pour vidéos générées par IA.\n",
      "4. **Autres domaines** :\n",
      "   - GitHub Copilot (génération de code).\n",
      "   - AlphaCode (programmation).\n",
      "\n",
      "### Applications clés :\n",
      "- Création automatique de contenu textuel (rédaction de blogs, récits créatifs).\n",
      "- Génération d'art et de graphismes (design piloté par IA).\n",
      "- Assistance en programmation (suggestions de code ou correction de bugs).\n",
      "- Production de vidéo ou de musique.\n",
      "- Augmentation des données pour des secteurs tels que la santé ou les jeux vidéo.\n",
      "\n",
      "### Défis :\n",
      "- **Biais et éthique** : Les modèles entraînés sur des données publiques peuvent refléter les biais présents dans ces données.\n",
      "- **Mauvais usage** : Risque de génération de faux contenus, plagiat ou désinformation.\n",
      "- **Contrôle de la qualité** : Les résultats générés sont souvent créatifs mais peuvent manquer de précision ou d'alignement avec les objectifs de l'utilisateur.\n",
      "\n",
      "En résumé, les modèles **GenAI** transforment la manière dont les machines assistent les humains dans les tâches créatives et génératives, rendant les processus plus rapides et évolutifs grâce à l'automatisation de la création de contenu.\n"
     ]
    }
   ],
   "source": [
    "messages = project_client.agents.list_messages(thread_id=thread.id)\n",
    "\n",
    "# Print last message\n",
    "last_msg = messages.get_last_text_message_by_role(\"assistant\")\n",
    "\n",
    "if last_msg:\n",
    "    print(f\"Agent last message:\\n{last_msg.text.value}\")"
   ]
  },
  {
   "cell_type": "code",
   "execution_count": 15,
   "id": "cf1be1d9-90c0-43bc-b358-acf62a22ef04",
   "metadata": {},
   "outputs": [
    {
     "name": "stdout",
     "output_type": "stream",
     "text": [
      "Run finished for Agent3 with status: completed\n"
     ]
    }
   ],
   "source": [
    "run = project_client.agents.create_and_process_run(thread_id=thread.id,\n",
    "                                                   agent_id=agent3.id)\n",
    "\n",
    "print(f\"Run finished for Agent3 with status: {run.status}\")\n",
    "\n",
    "if run.status == \"failed\":\n",
    "    print(f\"Run failed: {run.last_error}\")"
   ]
  },
  {
   "cell_type": "code",
   "execution_count": 16,
   "id": "f3038d90-2f0b-46a7-bf98-5c1dcf836288",
   "metadata": {},
   "outputs": [
    {
     "name": "stdout",
     "output_type": "stream",
     "text": [
      "Agent last message:\n",
      "A **GenAI model** 🤖✨ is a type of artificial intelligence designed to **generate original content** like text 📝, images 🖼️, audio 🎵, videos 🎥, or even code 💻. It learns patterns from large datasets and produces human-like results using technologies such as **deep learning** and neural networks like **transformers** or **GANs**.\n",
      "\n",
      "### 🌟 Key Features of GenAI Models:\n",
      "1. **Creative Generation**: Produces responses, art, images, or ideas based on input. 🎨✍️\n",
      "2. **Contextual Understanding**: Recognizes and uses context to generate high-quality, coherent content. 🤔✨\n",
      "3. **Large-Scale Training**: Trained on massive datasets (e.g., text from the web, image libraries). 📚💾\n",
      "4. **Multi-Modal Capabilities**: Some can handle multiple forms of input and output, like text-to-image generation. 🔄\n",
      "\n",
      "### ⚡ Examples of GenAI Models:\n",
      "- **Text Generation**: ChatGPT, GPT-4, or Google Bard for conversational text. 🗨️\n",
      "- **Image Creation**: DALL·E 2, Stable Diffusion, or MidJourney. 🖌️\n",
      "- **Audio & Video**: ElevenLabs or Runway ML for generating audio/video. 🎼📹\n",
      "- **Code Assistance**: GitHub Copilot or AlphaCode helping developers. 👨‍💻⚙️\n",
      "\n",
      "### 🚀 Popular Applications:\n",
      "- Writing articles, blogs, or creative stories. 📰📖\n",
      "- Designing art or images for projects. 🖼️🛠️\n",
      "- Assisting in programming and debugging. 🖥️🔍\n",
      "- Personalizing voiceovers or creating new voices. 🎤\n",
      "  \n",
      "### 🛑 Potential Challenges:\n",
      "- **Bias in Data**: Outputs may reflect biases present in the training data. ⚖️\n",
      "- **Misinformation Risks**: Could create fake or harmful content. ❌🕵️‍♂️\n",
      "- **Ethical Use**: Concerns about fraud, privacy, or intellectual property. 🤷‍♂️💡\n",
      "\n",
      "In simpler terms, **Generative AI models** combine creativity and computation to make our tools smarter—and a little more magical! ✨🤝\n"
     ]
    }
   ],
   "source": [
    "messages = project_client.agents.list_messages(thread_id=thread.id)\n",
    "\n",
    "# Print last message\n",
    "last_msg = messages.get_last_text_message_by_role(\"assistant\")\n",
    "\n",
    "if last_msg:\n",
    "    print(f\"Agent last message:\\n{last_msg.text.value}\")"
   ]
  },
  {
   "cell_type": "markdown",
   "id": "2fdf7d2e-f323-4af1-83cc-79ac906ea5e6",
   "metadata": {},
   "source": [
    "## Post processing"
   ]
  },
  {
   "cell_type": "code",
   "execution_count": 17,
   "id": "7677cdb0-a49f-428b-8196-6d4a758331f4",
   "metadata": {},
   "outputs": [
    {
     "name": "stdout",
     "output_type": "stream",
     "text": [
      "{'id': 'asst_UzWDa2x48dwZN2nNql1SK7xw', 'object': 'assistant', 'created_at': 1747746214, 'name': 'document_agent', 'description': None, 'model': 'gpt-4o', 'instructions': 'You are an AI helpful agent to analyse document', 'tools': [{'type': 'file_search'}], 'top_p': 1.0, 'temperature': 1.0, 'tool_resources': {'file_search': {'vector_store_ids': ['vs_fdQ9fF7pJ5C4ZaAZGxH0jzMt']}}, 'metadata': {}, 'response_format': 'auto'}\n",
      "\n",
      "{'id': 'asst_64ACPe1rDi805LYQlLlsZ5kb', 'object': 'assistant', 'created_at': 1747746145, 'name': 'Emojis', 'description': None, 'model': 'gpt-4o', 'instructions': 'You are an AI agent that add emojis to a text', 'tools': [], 'top_p': 1.0, 'temperature': 1.0, 'tool_resources': {}, 'metadata': {}, 'response_format': 'auto'}\n",
      "\n",
      "{'id': 'asst_8izGaUiVcVMGv8eVpVk6BcEu', 'object': 'assistant', 'created_at': 1747746145, 'name': 'Translator', 'description': None, 'model': 'gpt-4o', 'instructions': 'You are an AI agent that translate english into french', 'tools': [], 'top_p': 1.0, 'temperature': 1.0, 'tool_resources': {}, 'metadata': {}, 'response_format': 'auto'}\n",
      "\n",
      "{'id': 'asst_NAyoEhFV2ZOa3jwjmXtyzd4r', 'object': 'assistant', 'created_at': 1747746144, 'name': 'Q&A', 'description': None, 'model': 'gpt-4o', 'instructions': 'You are an AI agent.', 'tools': [], 'top_p': 1.0, 'temperature': 1.0, 'tool_resources': {}, 'metadata': {}, 'response_format': 'auto'}\n",
      "\n"
     ]
    }
   ],
   "source": [
    "agents = project_client.agents.list_agents()\n",
    "\n",
    "for i in range(len(agents.data)):\n",
    "    print(agents.data[i])\n",
    "    print()"
   ]
  },
  {
   "cell_type": "code",
   "execution_count": 18,
   "id": "0a780e64-74c3-4c6a-aa74-be275d85e45b",
   "metadata": {},
   "outputs": [
    {
     "data": {
      "text/plain": [
       "{'id': 'asst_NAyoEhFV2ZOa3jwjmXtyzd4r', 'object': 'assistant.deleted', 'deleted': True}"
      ]
     },
     "execution_count": 18,
     "metadata": {},
     "output_type": "execute_result"
    }
   ],
   "source": [
    "project_client.agents.delete_agent(agent1.id)"
   ]
  },
  {
   "cell_type": "code",
   "execution_count": 19,
   "id": "c6873ec2-0d60-4d0d-903c-ba22f4b9b5de",
   "metadata": {},
   "outputs": [
    {
     "data": {
      "text/plain": [
       "{'id': 'asst_8izGaUiVcVMGv8eVpVk6BcEu', 'object': 'assistant.deleted', 'deleted': True}"
      ]
     },
     "execution_count": 19,
     "metadata": {},
     "output_type": "execute_result"
    }
   ],
   "source": [
    "project_client.agents.delete_agent(agent2.id)"
   ]
  },
  {
   "cell_type": "code",
   "execution_count": 20,
   "id": "8496c7e6-6539-4880-974c-1065db4c7317",
   "metadata": {},
   "outputs": [
    {
     "data": {
      "text/plain": [
       "{'id': 'asst_64ACPe1rDi805LYQlLlsZ5kb', 'object': 'assistant.deleted', 'deleted': True}"
      ]
     },
     "execution_count": 20,
     "metadata": {},
     "output_type": "execute_result"
    }
   ],
   "source": [
    "project_client.agents.delete_agent(agent3.id)"
   ]
  }
 ],
 "metadata": {
  "kernelspec": {
   "display_name": "Python 3.10 - SDK v2",
   "language": "python",
   "name": "python310-sdkv2"
  },
  "language_info": {
   "codemirror_mode": {
    "name": "ipython",
    "version": 3
   },
   "file_extension": ".py",
   "mimetype": "text/x-python",
   "name": "python",
   "nbconvert_exporter": "python",
   "pygments_lexer": "ipython3",
   "version": "3.10.14"
  },
  "varInspector": {
   "cols": {
    "lenName": 16,
    "lenType": 16,
    "lenVar": 40
   },
   "kernels_config": {
    "python": {
     "delete_cmd_postfix": "",
     "delete_cmd_prefix": "del ",
     "library": "var_list.py",
     "varRefreshCmd": "print(var_dic_list())"
    },
    "r": {
     "delete_cmd_postfix": ") ",
     "delete_cmd_prefix": "rm(",
     "library": "var_list.r",
     "varRefreshCmd": "cat(var_dic_list()) "
    }
   },
   "types_to_exclude": [
    "module",
    "function",
    "builtin_function_or_method",
    "instance",
    "_Feature"
   ],
   "window_display": false
  }
 },
 "nbformat": 4,
 "nbformat_minor": 5
}
