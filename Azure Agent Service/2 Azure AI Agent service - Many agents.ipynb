{
 "cells": [
  {
   "cell_type": "markdown",
   "id": "431cc026-279f-4105-8444-f1b93650da0d",
   "metadata": {},
   "source": [
    "# Azure AI Agent service - Many agents\n",
    "\n",
    "<img src=\"agent.jpg\" width=800>\n",
    "<img src=\"foundry.png\" width=800>\n",
    "\n",
    "> https://learn.microsoft.com/en-us/azure/ai-services/agents/"
   ]
  },
  {
   "cell_type": "code",
   "execution_count": 1,
   "id": "7a3e72d0-7521-438c-928d-5fa293b0f419",
   "metadata": {},
   "outputs": [],
   "source": [
    "import os\n",
    "import sys\n",
    "\n",
    "from azure.ai.projects import AIProjectClient\n",
    "from azure.identity import DefaultAzureCredential\n",
    "from dotenv import load_dotenv\n",
    "from openai import AzureOpenAI"
   ]
  },
  {
   "cell_type": "code",
   "execution_count": 2,
   "id": "65334de7-4005-401a-89c1-be24f75abbd9",
   "metadata": {},
   "outputs": [
    {
     "data": {
      "text/plain": [
       "True"
      ]
     },
     "execution_count": 2,
     "metadata": {},
     "output_type": "execute_result"
    }
   ],
   "source": [
    "load_dotenv(\"azure.env\")"
   ]
  },
  {
   "cell_type": "code",
   "execution_count": 3,
   "id": "8628712a-0d10-4351-8993-b4c3243f83be",
   "metadata": {},
   "outputs": [
    {
     "data": {
      "text/plain": [
       "'3.10.14 (main, May  6 2024, 19:42:50) [GCC 11.2.0]'"
      ]
     },
     "execution_count": 3,
     "metadata": {},
     "output_type": "execute_result"
    }
   ],
   "source": [
    "sys.version"
   ]
  },
  {
   "cell_type": "markdown",
   "id": "cc2c1d28-e366-442e-a186-81239ec337ec",
   "metadata": {},
   "source": [
    "## Project"
   ]
  },
  {
   "cell_type": "code",
   "execution_count": 4,
   "id": "76c7bbb7-0faa-4500-ba42-7c5b176f6196",
   "metadata": {},
   "outputs": [],
   "source": [
    "project_client = AIProjectClient.from_connection_string(\n",
    "    credential=DefaultAzureCredential(),\n",
    "    conn_str=os.getenv(\"PROJECT_CONNECTION_STRING\"),\n",
    ")"
   ]
  },
  {
   "cell_type": "code",
   "execution_count": 5,
   "id": "4c6e9b38-c60c-4f1c-b4fd-65145bd45b51",
   "metadata": {},
   "outputs": [],
   "source": [
    "model = \"gpt-4o\""
   ]
  },
  {
   "cell_type": "code",
   "execution_count": 6,
   "id": "8bec0fdf-bfdb-4d72-8cc0-d02b8eb79b59",
   "metadata": {},
   "outputs": [
    {
     "name": "stdout",
     "output_type": "stream",
     "text": [
      "Created Q&A agent, agent ID: asst_5yfHq0imn6qhanM3oqg9V8c0\n"
     ]
    }
   ],
   "source": [
    "agent1 = project_client.agents.create_agent(\n",
    "    model=model,\n",
    "    name=\"Q&A\",\n",
    "    instructions=(\"You are an AI agent.\"),\n",
    ")\n",
    "\n",
    "print(f\"Created Q&A agent, agent ID: {agent1.id}\")"
   ]
  },
  {
   "cell_type": "code",
   "execution_count": 7,
   "id": "06dfa418-7b00-4450-8d0e-d32c90b24cc5",
   "metadata": {},
   "outputs": [
    {
     "name": "stdout",
     "output_type": "stream",
     "text": [
      "Created Translator agent, agent ID: asst_bN84KgECvNaP3CP2dT4a49Zl\n"
     ]
    }
   ],
   "source": [
    "agent2 = project_client.agents.create_agent(\n",
    "    model=model,\n",
    "    name=\"Translator\",\n",
    "    instructions=(\"You are an AI agent that translate english into french\")\n",
    ")\n",
    "\n",
    "print(f\"Created Translator agent, agent ID: {agent2.id}\")"
   ]
  },
  {
   "cell_type": "code",
   "execution_count": 8,
   "id": "bd4b89b4-fe75-48b8-acc8-17d3adf721cf",
   "metadata": {},
   "outputs": [
    {
     "name": "stdout",
     "output_type": "stream",
     "text": [
      "Created Emojis agent, agent ID: asst_ZcAgUnlru1tM4IFt3ONmosm0\n"
     ]
    }
   ],
   "source": [
    "agent3 = project_client.agents.create_agent(\n",
    "    model=model,\n",
    "    name=\"Emojis\",\n",
    "    instructions=(\"You are an AI agent that add emojis to a text\")\n",
    ")\n",
    "\n",
    "print(f\"Created Emojis agent, agent ID: {agent3.id}\")"
   ]
  },
  {
   "cell_type": "code",
   "execution_count": 9,
   "id": "5b4a3453-e9ce-4208-a0e5-6c201939d238",
   "metadata": {},
   "outputs": [
    {
     "name": "stdout",
     "output_type": "stream",
     "text": [
      "Created thread, thread ID: thread_vPB9YMfkVYt191vvWRDV8kmD\n"
     ]
    }
   ],
   "source": [
    "thread = project_client.agents.create_thread()\n",
    "print(f\"Created thread, thread ID: {thread.id}\")"
   ]
  },
  {
   "cell_type": "code",
   "execution_count": 10,
   "id": "35131134-b241-4721-a673-fb6cd240ed03",
   "metadata": {},
   "outputs": [
    {
     "name": "stdout",
     "output_type": "stream",
     "text": [
      "Message created, message ID: msg_BJVfklTjAct7jLFZofzEexKE\n"
     ]
    }
   ],
   "source": [
    "message = project_client.agents.create_message(\n",
    "    thread_id=thread.id,\n",
    "    role=\"user\",\n",
    "    content=(\"What is a GenAI model?\"),\n",
    ")\n",
    "\n",
    "print(f\"Message created, message ID: {message.id}\")"
   ]
  },
  {
   "cell_type": "code",
   "execution_count": 11,
   "id": "70fcd807-ac0f-4253-9122-1a96f3419f71",
   "metadata": {},
   "outputs": [
    {
     "name": "stdout",
     "output_type": "stream",
     "text": [
      "Run finished for Agent1 with status: completed\n"
     ]
    }
   ],
   "source": [
    "run = project_client.agents.create_and_process_run(thread_id=thread.id,\n",
    "                                                   agent_id=agent1.id)\n",
    "\n",
    "print(f\"Run finished for Agent1 with status: {run.status}\")\n",
    "\n",
    "if run.status == \"failed\":\n",
    "    print(f\"Run failed: {run.last_error}\")"
   ]
  },
  {
   "cell_type": "code",
   "execution_count": 12,
   "id": "f21ef94e-22d1-4945-9886-be4dbefdca8e",
   "metadata": {},
   "outputs": [
    {
     "name": "stdout",
     "output_type": "stream",
     "text": [
      "Thread messages: {'object': 'list', 'data': [{'id': 'msg_QFJZWx87rfQlVfkSitRX2OFX', 'object': 'thread.message', 'created_at': 1745961651, 'assistant_id': 'asst_5yfHq0imn6qhanM3oqg9V8c0', 'thread_id': 'thread_vPB9YMfkVYt191vvWRDV8kmD', 'run_id': 'run_tDk74kTFx2xpLlexk0nk0ykT', 'role': 'assistant', 'content': [{'type': 'text', 'text': {'value': 'A **GenAI model**, short for **Generative Artificial Intelligence model**, is an AI system designed to generate new, original outputs based on patterns and knowledge learned from existing data. Unlike traditional AI systems that primarily classify or predict existing data, GenAI models can create text, images, audio, videos, code, and other types of content, making them versatile and creative tools.\\n\\n### Key Features of GenAI Models:\\n1. **Generative Nature**:\\n   - They produce new content, such as text, designs, or images, rather than solely analyzing existing data.\\n   \\n2. **Training on Large Datasets**:\\n   - These models are trained on massive datasets containing diverse examples of the type of output they are expected to generate.\\n\\n3. **Foundation Models**:\\n   - Many GenAI systems are built using large foundation models (e.g., GPT models by OpenAI, Stable Diffusion for images) and are fine-tuned for specific tasks.\\n\\n4. **Versatility**:\\n   - Common applications include text generation (like ChatGPT), AI-based art creation, video generation, audio synthesis, and even drug discovery.\\n\\n5. **Examples of GenAI Models**:\\n   - **Text Models**: OpenAI GPT models, Google Bard, Anthropic’s Claude.\\n   - **Image Models**: DALL-E, Stable Diffusion, MidJourney, Adobe Firefly.\\n   - **Code Models**: Codex by OpenAI, GitHub Copilot.\\n\\n---\\n\\n### How GenAI Models Work:\\n1. **Training**:\\n   - Models like GPT are trained on extensive corpuses of text data using techniques like transformers and self-supervised learning to understand grammar, structure, and context.\\n\\n2. **Input Processing**:\\n   - Users provide prompts (e.g., \"Write a poem about space\") or guidelines for the desired output.\\n\\n3. **Generation**:\\n   - Based on its training, the model generates contextually relevant, novel output that adheres to provided instructions.\\n\\n4. **Fine-Tuning**:\\n   - Models may be refined for specific industries or tasks (e.g., customer service chatbots or medical diagnosis tools).\\n\\n---\\n\\n### Applications:\\n- **Content Creation**: Writing articles, marketing copy, coding scripts.\\n- **Design**: Generating visual assets, personalized art.\\n- **Automated Interaction**: Chatbots for customer service.\\n- **Synthesizing New Ideas**: Drug design, business innovation.\\n- **Assistance**: Code auto-generation, language translation, summarization.\\n\\nGenAI is revolutionizing many industries because of its ability to automate complex tasks and produce creative solutions that were previously human-exclusive.', 'annotations': []}}], 'attachments': [], 'metadata': {}}, {'id': 'msg_BJVfklTjAct7jLFZofzEexKE', 'object': 'thread.message', 'created_at': 1745961649, 'assistant_id': None, 'thread_id': 'thread_vPB9YMfkVYt191vvWRDV8kmD', 'run_id': None, 'role': 'user', 'content': [{'type': 'text', 'text': {'value': 'What is a GenAI model?', 'annotations': []}}], 'attachments': [], 'metadata': {}}], 'first_id': 'msg_QFJZWx87rfQlVfkSitRX2OFX', 'last_id': 'msg_BJVfklTjAct7jLFZofzEexKE', 'has_more': False}\n",
      "\n",
      "Agent1 last message:\n",
      "A **GenAI model**, short for **Generative Artificial Intelligence model**, is an AI system designed to generate new, original outputs based on patterns and knowledge learned from existing data. Unlike traditional AI systems that primarily classify or predict existing data, GenAI models can create text, images, audio, videos, code, and other types of content, making them versatile and creative tools.\n",
      "\n",
      "### Key Features of GenAI Models:\n",
      "1. **Generative Nature**:\n",
      "   - They produce new content, such as text, designs, or images, rather than solely analyzing existing data.\n",
      "   \n",
      "2. **Training on Large Datasets**:\n",
      "   - These models are trained on massive datasets containing diverse examples of the type of output they are expected to generate.\n",
      "\n",
      "3. **Foundation Models**:\n",
      "   - Many GenAI systems are built using large foundation models (e.g., GPT models by OpenAI, Stable Diffusion for images) and are fine-tuned for specific tasks.\n",
      "\n",
      "4. **Versatility**:\n",
      "   - Common applications include text generation (like ChatGPT), AI-based art creation, video generation, audio synthesis, and even drug discovery.\n",
      "\n",
      "5. **Examples of GenAI Models**:\n",
      "   - **Text Models**: OpenAI GPT models, Google Bard, Anthropic’s Claude.\n",
      "   - **Image Models**: DALL-E, Stable Diffusion, MidJourney, Adobe Firefly.\n",
      "   - **Code Models**: Codex by OpenAI, GitHub Copilot.\n",
      "\n",
      "---\n",
      "\n",
      "### How GenAI Models Work:\n",
      "1. **Training**:\n",
      "   - Models like GPT are trained on extensive corpuses of text data using techniques like transformers and self-supervised learning to understand grammar, structure, and context.\n",
      "\n",
      "2. **Input Processing**:\n",
      "   - Users provide prompts (e.g., \"Write a poem about space\") or guidelines for the desired output.\n",
      "\n",
      "3. **Generation**:\n",
      "   - Based on its training, the model generates contextually relevant, novel output that adheres to provided instructions.\n",
      "\n",
      "4. **Fine-Tuning**:\n",
      "   - Models may be refined for specific industries or tasks (e.g., customer service chatbots or medical diagnosis tools).\n",
      "\n",
      "---\n",
      "\n",
      "### Applications:\n",
      "- **Content Creation**: Writing articles, marketing copy, coding scripts.\n",
      "- **Design**: Generating visual assets, personalized art.\n",
      "- **Automated Interaction**: Chatbots for customer service.\n",
      "- **Synthesizing New Ideas**: Drug design, business innovation.\n",
      "- **Assistance**: Code auto-generation, language translation, summarization.\n",
      "\n",
      "GenAI is revolutionizing many industries because of its ability to automate complex tasks and produce creative solutions that were previously human-exclusive.\n"
     ]
    }
   ],
   "source": [
    "messages = project_client.agents.list_messages(thread_id=thread.id)\n",
    "print(f\"Thread messages: {messages}\")\n",
    "\n",
    "# Print last message\n",
    "last_msg = messages.get_last_text_message_by_role(\"assistant\")\n",
    "\n",
    "if last_msg:\n",
    "    print(f\"\\nAgent1 last message:\\n{last_msg.text.value}\")"
   ]
  },
  {
   "cell_type": "code",
   "execution_count": 13,
   "id": "53895c1e-9e41-4003-bd80-f166e65001db",
   "metadata": {},
   "outputs": [
    {
     "name": "stdout",
     "output_type": "stream",
     "text": [
      "Run finished for Agent2 with status: completed\n"
     ]
    }
   ],
   "source": [
    "run = project_client.agents.create_and_process_run(thread_id=thread.id,\n",
    "                                                   agent_id=agent2.id)\n",
    "\n",
    "print(f\"Run finished for Agent2 with status: {run.status}\")\n",
    "\n",
    "if run.status == \"failed\":\n",
    "    print(f\"Run failed: {run.last_error}\")"
   ]
  },
  {
   "cell_type": "code",
   "execution_count": 14,
   "id": "837316af-2ae2-48d5-8d14-829985f6163c",
   "metadata": {},
   "outputs": [
    {
     "name": "stdout",
     "output_type": "stream",
     "text": [
      "Agent last message:\n",
      "A GenAI model, en français, est un **modèle d'Intelligence Artificielle Générative** conçu pour créer du contenu original en se basant sur des données existantes. Contrairement aux modèles classiques qui analysent ou classifient les données, les modèles GenAI peuvent générer du texte, des images, du son, des vidéos, du code et d'autres types de contenu.\n",
      "\n",
      "### Caractéristiques principales des modèles GenAI :\n",
      "1. **Capacité générative** : \n",
      "   - Ils produisent des contenus nouveaux (comme des textes, des designs ou des images) au lieu de se limiter à interpréter des données.\n",
      "\n",
      "2. **Apprentissage sur de vastes ensembles de données** :\n",
      "   - Les modèles sont entraînés sur des bases de données massives contenant divers exemples du type de contenu qu'ils doivent créer.\n",
      "\n",
      "3. **Modèles de base (\"Foundation Models\")** :\n",
      "   - Les systèmes GenAI reposent sur des modèles de base (par exemple, GPT d'OpenAI, Stable Diffusion pour les images) et peuvent être ajustés pour effectuer des tâches spécifiques.\n",
      "\n",
      "4. **Polyvalence** :\n",
      "   - Ils sont utilisés dans une variété de domaines tels que la génération de texte (ChatGPT, Bard), les créations visuelles (DALL-E, MidJourney), ou encore la génération de code (Codex, GitHub Copilot).\n",
      "\n",
      "---\n",
      "\n",
      "### Fonctionnement des modèles GenAI :\n",
      "1. **Entraînement** :\n",
      "   - Ces modèles sont entraînés sur des techniques avancées comme les réseaux de neurones et les transformers pour comprendre les structures linguistiques ou contextuelles.\n",
      "\n",
      "2. **Prise en compte des instructions** :\n",
      "   - Les utilisateurs fournissent des *prompts* (exemple : \"Écris un poème sur la mer\") pour guider la création du contenu.\n",
      "\n",
      "3. **Génération automatique** : \n",
      "   - Le modèle crée un résultat adapté en se basant sur son apprentissage.\n",
      "\n",
      "4. **Affinage** :\n",
      "   - Le modèle peut être ajusté pour des secteurs spécifiques, comme la médecine, le service client ou la programmation.\n",
      "\n",
      "---\n",
      "\n",
      "### Applications :\n",
      "- **Création de contenu** : Production d'articles, rédaction publicitaire, scripts de code.\n",
      "- **Design** : Génération d'arts visuels, personnalisation graphique.\n",
      "- **Interactions automatisées** : Chatbots pour le support client.\n",
      "- **Innovation** : Recherche de solutions en médecine ou en entreprise.\n",
      "- **Assistanat** : Traduction, résumé, suggestions audiovisuelles.\n",
      "\n",
      "Les modèles GenAI transforment de nombreux secteurs en automatisant des tâches complexes tout en produisant des solutions créatives auparavant réservées aux humains.\n"
     ]
    }
   ],
   "source": [
    "messages = project_client.agents.list_messages(thread_id=thread.id)\n",
    "\n",
    "# Print last message\n",
    "last_msg = messages.get_last_text_message_by_role(\"assistant\")\n",
    "\n",
    "if last_msg:\n",
    "    print(f\"Agent last message:\\n{last_msg.text.value}\")"
   ]
  },
  {
   "cell_type": "code",
   "execution_count": 15,
   "id": "cf1be1d9-90c0-43bc-b358-acf62a22ef04",
   "metadata": {},
   "outputs": [
    {
     "name": "stdout",
     "output_type": "stream",
     "text": [
      "Run finished for Agent3 with status: completed\n"
     ]
    }
   ],
   "source": [
    "run = project_client.agents.create_and_process_run(thread_id=thread.id,\n",
    "                                                   agent_id=agent3.id)\n",
    "\n",
    "print(f\"Run finished for Agent3 with status: {run.status}\")\n",
    "\n",
    "if run.status == \"failed\":\n",
    "    print(f\"Run failed: {run.last_error}\")"
   ]
  },
  {
   "cell_type": "code",
   "execution_count": 16,
   "id": "f3038d90-2f0b-46a7-bf98-5c1dcf836288",
   "metadata": {},
   "outputs": [
    {
     "name": "stdout",
     "output_type": "stream",
     "text": [
      "Agent last message:\n",
      "Oh, pardon ! 🎉 Je vais rendre ça encore plus fun avec des emojis 🧠✨.\n",
      "\n",
      "---\n",
      "\n",
      "Un **modèle GenAI** (🎨🤖) est un type d'Intelligence Artificielle Générative capable de créer du contenu original (textes 📝, images 🖼, code 💻, audio 🎵, vidéos 📹, etc.) à partir de données existantes. Contrairement aux modèles d'IA traditionnels 🔍📊, qui se concentrent sur l'analyse ou la classification, les GenAI produisent des résultats nouveaux et créatifs 🌟.\n",
      "\n",
      "---\n",
      "\n",
      "### 🧾 **Caractéristiques des modèles GenAI :**  \n",
      "1. **Capacité générative** 🧠 : Ces modèles génèrent des contenus complètement nouveaux, comme des poèmes, des designs ou même des romans.  \n",
      "2. **Entraînements sur des BIG datasets 💾📡** : Ils apprennent grâce à des millions de données textuelles, visuelles ou audio pour comprendre les patterns et les contextes.  \n",
      "3. **Modèles de base (\"Foundation Models\")** ⚙️ : Ils servent de base pour ajuster ces modèles à des industries spécifiques, comme la santé 🏥, la finance 💰, ou le divertissement 🎮.  \n",
      "4. **Polyvalence** 🔄 : On les utilise dans plein de domaines ! Marketing 💼, support client 🛠, ou encore la science 🔬.  \n",
      "\n",
      "---\n",
      "\n",
      "### 🚀 **Comment fonctionnent-ils ?**  \n",
      "1. **Entraînement** 📚 : Les modèles utilisent des réseaux de neurones complexes et des techniques comme les transformers 🔗 pour comprendre les structures de données (comme le langage).  \n",
      "2. **Interprétation des prompts** 🖍✉️ : Quand vous posez une question ou donnez une instruction (\"Créer une image de coucher de soleil en style aquarelle 🎨🌅\"), le modèle l'analyse.  \n",
      "3. **Génération magique** 🪄✨ : Voilà ! Il génère du contenu aligné à vos attentes 🧐.  \n",
      "4. **Affinement** 🔧 : Ces modèles évoluent 🚧 pour offrir des solutions encore plus précises et spécialisées.  \n",
      "\n",
      "---\n",
      "\n",
      "### 🌟 **Applications géniales**  \n",
      "- **Création de contenu** : Écrire des articles 🗞, des publicités ✍️ ou même du code !  \n",
      "- **Design** : Générer des images et des illustrations personnalisées 🎨💡.  \n",
      "- **Chatbots** : Interagir directement avec les utilisateurs pour répondre à leurs demandes 🛎💬.  \n",
      "- **Recherche & innovation** : Découvrir de nouveaux médicaments 💊 ou modéliser des scénarios 🎯.  \n",
      "- **Assistant virtuel** : Traduction instantanée 🌐, suggestions 🤝, résumés 📖.  \n",
      "\n",
      "---\n",
      "\n",
      "Bref, les modèles GenAI 📡🌈 révolutionnent tous les secteurs en mêlant automatisation et créativité, et rendent possible des choses qu'on croyait *exclusivement humaines* ! 👩‍💻🤝🤖\n"
     ]
    }
   ],
   "source": [
    "messages = project_client.agents.list_messages(thread_id=thread.id)\n",
    "\n",
    "# Print last message\n",
    "last_msg = messages.get_last_text_message_by_role(\"assistant\")\n",
    "\n",
    "if last_msg:\n",
    "    print(f\"Agent last message:\\n{last_msg.text.value}\")"
   ]
  },
  {
   "cell_type": "markdown",
   "id": "2fdf7d2e-f323-4af1-83cc-79ac906ea5e6",
   "metadata": {},
   "source": [
    "## Post processing"
   ]
  },
  {
   "cell_type": "code",
   "execution_count": 17,
   "id": "7677cdb0-a49f-428b-8196-6d4a758331f4",
   "metadata": {},
   "outputs": [
    {
     "name": "stdout",
     "output_type": "stream",
     "text": [
      "{'id': 'asst_ZcAgUnlru1tM4IFt3ONmosm0', 'object': 'assistant', 'created_at': 1745961648, 'name': 'Emojis', 'description': None, 'model': 'gpt-4o', 'instructions': 'You are an AI agent that add emojis to a text', 'tools': [], 'top_p': 1.0, 'temperature': 1.0, 'tool_resources': {}, 'metadata': {}, 'response_format': 'auto'}\n",
      "\n",
      "{'id': 'asst_bN84KgECvNaP3CP2dT4a49Zl', 'object': 'assistant', 'created_at': 1745961647, 'name': 'Translator', 'description': None, 'model': 'gpt-4o', 'instructions': 'You are an AI agent that translate english into french', 'tools': [], 'top_p': 1.0, 'temperature': 1.0, 'tool_resources': {}, 'metadata': {}, 'response_format': 'auto'}\n",
      "\n",
      "{'id': 'asst_5yfHq0imn6qhanM3oqg9V8c0', 'object': 'assistant', 'created_at': 1745961647, 'name': 'Q&A', 'description': None, 'model': 'gpt-4o', 'instructions': 'You are an AI agent.', 'tools': [], 'top_p': 1.0, 'temperature': 1.0, 'tool_resources': {}, 'metadata': {}, 'response_format': 'auto'}\n",
      "\n"
     ]
    }
   ],
   "source": [
    "agents = project_client.agents.list_agents()\n",
    "\n",
    "for i in range(len(agents.data)):\n",
    "    print(agents.data[i])\n",
    "    print()"
   ]
  },
  {
   "cell_type": "code",
   "execution_count": 18,
   "id": "0a780e64-74c3-4c6a-aa74-be275d85e45b",
   "metadata": {},
   "outputs": [
    {
     "data": {
      "text/plain": [
       "{'id': 'asst_5yfHq0imn6qhanM3oqg9V8c0', 'object': 'assistant.deleted', 'deleted': True}"
      ]
     },
     "execution_count": 18,
     "metadata": {},
     "output_type": "execute_result"
    }
   ],
   "source": [
    "project_client.agents.delete_agent(agent1.id)"
   ]
  },
  {
   "cell_type": "code",
   "execution_count": 19,
   "id": "c6873ec2-0d60-4d0d-903c-ba22f4b9b5de",
   "metadata": {},
   "outputs": [
    {
     "data": {
      "text/plain": [
       "{'id': 'asst_bN84KgECvNaP3CP2dT4a49Zl', 'object': 'assistant.deleted', 'deleted': True}"
      ]
     },
     "execution_count": 19,
     "metadata": {},
     "output_type": "execute_result"
    }
   ],
   "source": [
    "project_client.agents.delete_agent(agent2.id)"
   ]
  },
  {
   "cell_type": "code",
   "execution_count": 20,
   "id": "8496c7e6-6539-4880-974c-1065db4c7317",
   "metadata": {},
   "outputs": [
    {
     "data": {
      "text/plain": [
       "{'id': 'asst_ZcAgUnlru1tM4IFt3ONmosm0', 'object': 'assistant.deleted', 'deleted': True}"
      ]
     },
     "execution_count": 20,
     "metadata": {},
     "output_type": "execute_result"
    }
   ],
   "source": [
    "project_client.agents.delete_agent(agent3.id)"
   ]
  }
 ],
 "metadata": {
  "kernelspec": {
   "display_name": "Python 3.10 - SDK v2",
   "language": "python",
   "name": "python310-sdkv2"
  },
  "language_info": {
   "codemirror_mode": {
    "name": "ipython",
    "version": 3
   },
   "file_extension": ".py",
   "mimetype": "text/x-python",
   "name": "python",
   "nbconvert_exporter": "python",
   "pygments_lexer": "ipython3",
   "version": "3.10.14"
  },
  "varInspector": {
   "cols": {
    "lenName": 16,
    "lenType": 16,
    "lenVar": 40
   },
   "kernels_config": {
    "python": {
     "delete_cmd_postfix": "",
     "delete_cmd_prefix": "del ",
     "library": "var_list.py",
     "varRefreshCmd": "print(var_dic_list())"
    },
    "r": {
     "delete_cmd_postfix": ") ",
     "delete_cmd_prefix": "rm(",
     "library": "var_list.r",
     "varRefreshCmd": "cat(var_dic_list()) "
    }
   },
   "types_to_exclude": [
    "module",
    "function",
    "builtin_function_or_method",
    "instance",
    "_Feature"
   ],
   "window_display": false
  }
 },
 "nbformat": 4,
 "nbformat_minor": 5
}
