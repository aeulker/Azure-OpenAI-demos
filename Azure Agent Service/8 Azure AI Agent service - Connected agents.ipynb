{
 "cells": [
  {
   "cell_type": "markdown",
   "id": "c2f3bc98-b67f-4fc8-a6ce-629ded97591d",
   "metadata": {},
   "source": [
    "# Azure AI Agent service - Connected agents\n",
    "\n",
    "<img src=\"https://learn.microsoft.com/en-us/azure/ai-services/agents/media/agent-service-the-glue.png\" width=800>\n",
    "\n",
    "> https://learn.microsoft.com/en-us/azure/ai-services/agents/"
   ]
  },
  {
   "cell_type": "code",
   "execution_count": 1,
   "id": "f89d4f53-d50f-421c-a342-b7e4f92a72cc",
   "metadata": {},
   "outputs": [],
   "source": [
    "import datetime\n",
    "import os\n",
    "import sys\n",
    "import time\n",
    "\n",
    "from azure.ai.agents import AgentsClient\n",
    "from azure.identity import DefaultAzureCredential\n",
    "from azure.ai.agents.models import ConnectedAgentTool, MessageRole, ListSortOrder, BingGroundingTool\n",
    "from dotenv import load_dotenv"
   ]
  },
  {
   "cell_type": "code",
   "execution_count": 2,
   "id": "df4f8a61-29fd-4e10-87e6-ca9247152d7e",
   "metadata": {},
   "outputs": [
    {
     "data": {
      "text/plain": [
       "'3.10.14 (main, May  6 2024, 19:42:50) [GCC 11.2.0]'"
      ]
     },
     "execution_count": 2,
     "metadata": {},
     "output_type": "execute_result"
    }
   ],
   "source": [
    "sys.version"
   ]
  },
  {
   "cell_type": "code",
   "execution_count": 3,
   "id": "cb1a67c0-460d-499b-9630-3c8b99cf741e",
   "metadata": {},
   "outputs": [
    {
     "name": "stdout",
     "output_type": "stream",
     "text": [
      "Today is 16-Jun-2025 14:39:17\n"
     ]
    }
   ],
   "source": [
    "print(f\"Today is {datetime.datetime.today().strftime('%d-%b-%Y %H:%M:%S')}\")"
   ]
  },
  {
   "cell_type": "markdown",
   "id": "07d4161e-8ec1-4cf8-81a0-9e2628adc203",
   "metadata": {},
   "source": [
    "## Settings"
   ]
  },
  {
   "cell_type": "code",
   "execution_count": 4,
   "id": "0bce3e7a-920d-417a-a8d9-f89c697da841",
   "metadata": {},
   "outputs": [
    {
     "data": {
      "text/plain": [
       "True"
      ]
     },
     "execution_count": 4,
     "metadata": {},
     "output_type": "execute_result"
    }
   ],
   "source": [
    "load_dotenv(\"azure.env\")"
   ]
  },
  {
   "cell_type": "code",
   "execution_count": 5,
   "id": "59cf8464-5a76-420a-9581-aea2336b5c47",
   "metadata": {},
   "outputs": [],
   "source": [
    "endpoint = os.getenv(\"PROJECT_ENDPOINT\")\n",
    "credential = DefaultAzureCredential()\n",
    "\n",
    "project_client = AgentsClient(endpoint=endpoint, credential=credential)"
   ]
  },
  {
   "cell_type": "code",
   "execution_count": 6,
   "id": "6a370968-b021-4130-9790-108d0e921fba",
   "metadata": {},
   "outputs": [
    {
     "name": "stdout",
     "output_type": "stream",
     "text": [
      "['__abstractmethods__', '__annotations__', '__class__', '__class_getitem__', '__delattr__', '__dict__', '__dir__', '__doc__', '__enter__', '__eq__', '__exit__', '__format__', '__ge__', '__getattribute__', '__gt__', '__hash__', '__init__', '__init_subclass__', '__le__', '__lt__', '__module__', '__ne__', '__new__', '__orig_bases__', '__parameters__', '__reduce__', '__reduce_ex__', '__repr__', '__setattr__', '__sizeof__', '__slots__', '__str__', '__subclasshook__', '__weakref__', '_abc_impl', '_client', '_config', '_delete_agent', '_deserialize', '_function_tool', '_function_tool_max_retry', '_is_protocol', '_serialize', '_validate_tools_and_tool_resources', 'close', 'create_agent', 'create_thread_and_process_run', 'create_thread_and_run', 'delete_agent', 'enable_auto_function_calls', 'files', 'get_agent', 'list_agents', 'messages', 'run_steps', 'runs', 'send_request', 'threads', 'update_agent', 'vector_store_file_batches', 'vector_store_files', 'vector_stores']\n"
     ]
    }
   ],
   "source": [
    "print(dir(project_client))"
   ]
  },
  {
   "cell_type": "markdown",
   "id": "a147d759-07fd-472e-be42-07cd361b20c4",
   "metadata": {},
   "source": [
    "## Agents definition"
   ]
  },
  {
   "cell_type": "markdown",
   "id": "a05593db-1fda-496f-ba00-c2831194c7ce",
   "metadata": {},
   "source": [
    "### 1. Stocks price agent"
   ]
  },
  {
   "cell_type": "code",
   "execution_count": 7,
   "id": "442ebc71-6aff-4104-9012-0069eb6449b6",
   "metadata": {},
   "outputs": [
    {
     "data": {
      "text/plain": [
       "<azure.ai.agents.models._patch.BingGroundingTool at 0x7fca092af400>"
      ]
     },
     "execution_count": 7,
     "metadata": {},
     "output_type": "execute_result"
    }
   ],
   "source": [
    "BING_CONN_ID = os.getenv(\"BING_CONN_ID\")\n",
    "\n",
    "bing = BingGroundingTool(connection_id=BING_CONN_ID)\n",
    "bing"
   ]
  },
  {
   "cell_type": "code",
   "execution_count": 8,
   "id": "da598e22-275a-471e-a2e9-137c46c6d234",
   "metadata": {},
   "outputs": [],
   "source": [
    "stocksprice_agent = project_client.create_agent(\n",
    "    model=\"gpt-4o\",\n",
    "    name=\"stocks-price-agent-demo\",\n",
    "    instructions=\"Retrieve the current stock price for a specified company.\",\n",
    "    tools=bing.definitions,\n",
    "    headers={\"x-ms-enable-preview\": \"true\"},\n",
    "    description=\"Stocks price agent (demo)\",\n",
    ")"
   ]
  },
  {
   "cell_type": "code",
   "execution_count": 9,
   "id": "f96bcc3e-11b5-46aa-91e4-903bee459570",
   "metadata": {},
   "outputs": [
    {
     "name": "stdout",
     "output_type": "stream",
     "text": [
      "Created agent, ID: asst_rcxMbpHnHicUdR2LxzwzDwDB\n"
     ]
    }
   ],
   "source": [
    "print(f\"Created agent, ID: {stocksprice_agent.id}\")"
   ]
  },
  {
   "cell_type": "markdown",
   "id": "e420ebd3-7456-4f7c-82e8-2d8d9d645e10",
   "metadata": {},
   "source": [
    "### 2. Currency agent"
   ]
  },
  {
   "cell_type": "code",
   "execution_count": 10,
   "id": "f7dee6b1-c474-4059-a0e6-7278bde83db5",
   "metadata": {},
   "outputs": [],
   "source": [
    "currency_convert_agent = project_client.create_agent(\n",
    "    model=\"gpt-4o\",\n",
    "    name=\"currency-convert-agent-demo\",\n",
    "    instructions=\"Retrieve the current currency exchange rate.\",\n",
    "    tools=bing.definitions,\n",
    "    headers={\"x-ms-enable-preview\": \"true\"},\n",
    "    description=\"Currency convert agent (demo)\",\n",
    ")"
   ]
  },
  {
   "cell_type": "code",
   "execution_count": 11,
   "id": "7b346dae-b809-44b3-8b60-591f6c2e0a9b",
   "metadata": {},
   "outputs": [
    {
     "name": "stdout",
     "output_type": "stream",
     "text": [
      "Created agent, ID: asst_MFYjjAZiLiFPm49nopCD9vv8\n"
     ]
    }
   ],
   "source": [
    "print(f\"Created agent, ID: {currency_convert_agent.id}\")"
   ]
  },
  {
   "cell_type": "markdown",
   "id": "38f36d76-c616-4654-9224-b451b9980c98",
   "metadata": {},
   "source": [
    "### 3. Main agent with connected agents"
   ]
  },
  {
   "cell_type": "code",
   "execution_count": 12,
   "id": "6a9bc328-6651-4347-99f0-ecd27344960f",
   "metadata": {},
   "outputs": [],
   "source": [
    "connected_agent_stocks = ConnectedAgentTool(\n",
    "    id=stocksprice_agent.id,\n",
    "    name=\"stockspriceagentconnection\",\n",
    "    description=\"Get the stock price of a company\")"
   ]
  },
  {
   "cell_type": "code",
   "execution_count": 13,
   "id": "f0d35f60-f817-461f-9877-3399b16bf933",
   "metadata": {},
   "outputs": [],
   "source": [
    "connected_agent_currency = ConnectedAgentTool(\n",
    "    id=currency_convert_agent.id,\n",
    "    name=\"currencyconvertagentconnection\",\n",
    "    description=\"Convert an amount into another currency\")"
   ]
  },
  {
   "cell_type": "code",
   "execution_count": 14,
   "id": "a69d706b-d162-4d11-a88c-e3c84cd3f44c",
   "metadata": {},
   "outputs": [],
   "source": [
    "main_agent_demo = project_client.create_agent(\n",
    "    model=\"gpt-4o\",\n",
    "    name=\"main-agent-demo\",\n",
    "    instructions=\"You are the main AI agent\",\n",
    "    description=\"Main agent (demo)\",\n",
    "    tools=[\n",
    "        connected_agent_stocks.definitions[0],\n",
    "        connected_agent_currency.definitions[0]\n",
    "    ],\n",
    ")"
   ]
  },
  {
   "cell_type": "code",
   "execution_count": 15,
   "id": "a8245a91-3dbf-441e-b270-cca92decbffe",
   "metadata": {},
   "outputs": [
    {
     "name": "stdout",
     "output_type": "stream",
     "text": [
      "Created agent, ID: asst_wAvUGrOEa7SYtJO7WNOBHFga\n"
     ]
    }
   ],
   "source": [
    "print(f\"Created agent, ID: {main_agent_demo.id}\")"
   ]
  },
  {
   "cell_type": "markdown",
   "id": "6da50ffe-7905-4e1c-aec6-8c22ed407396",
   "metadata": {},
   "source": [
    "## List of agents"
   ]
  },
  {
   "cell_type": "code",
   "execution_count": 19,
   "id": "64db8a11-d12f-440b-81f6-e6317d259193",
   "metadata": {},
   "outputs": [
    {
     "name": "stdout",
     "output_type": "stream",
     "text": [
      "Agent Details:\n",
      "📛 Name        : stocks-price-agent-demo\n",
      "🆔 ID          : asst_rcxMbpHnHicUdR2LxzwzDwDB\n",
      "🧠 Model       : gpt-4o\n",
      "📜 Instructions:Retrieve the current stock price for a specified company.\n",
      "\n",
      "Agent Details:\n",
      "📛 Name        : currency-convert-agent-demo\n",
      "🆔 ID          : asst_MFYjjAZiLiFPm49nopCD9vv8\n",
      "🧠 Model       : gpt-4o\n",
      "📜 Instructions:Retrieve the current currency exchange rate.\n",
      "\n",
      "Agent Details:\n",
      "📛 Name        : main-agent-demo\n",
      "🆔 ID          : asst_wAvUGrOEa7SYtJO7WNOBHFga\n",
      "🧠 Model       : gpt-4o\n",
      "📜 Instructions:You are the main AI agent\n",
      "\n"
     ]
    }
   ],
   "source": [
    "agents_list = [stocksprice_agent, currency_convert_agent, main_agent_demo]\n",
    "\n",
    "for agent in agents_list:\n",
    "    print(\n",
    "        f\"Agent Details:\\n\"\n",
    "        f\"📛 Name        : {agent.name}\\n\"\n",
    "        f\"🆔 ID          : {agent.id}\\n\"\n",
    "        f\"🧠 Model       : {agent.model}\\n\"\n",
    "        f\"📜 Instructions:{agent.instructions}\\n\"\n",
    "    )"
   ]
  },
  {
   "cell_type": "markdown",
   "id": "ace8e0b5-70ed-48a6-a75e-adc80bb2ac5c",
   "metadata": {},
   "source": [
    "### Quick test"
   ]
  },
  {
   "cell_type": "code",
   "execution_count": 20,
   "id": "c241bfcc-f9f7-4a78-a5f2-e3058175a239",
   "metadata": {},
   "outputs": [],
   "source": [
    "prompt = \"Hello. Who are you?\""
   ]
  },
  {
   "cell_type": "code",
   "execution_count": 21,
   "id": "3bd74849-4b94-4a40-95bc-c8236b072fff",
   "metadata": {},
   "outputs": [
    {
     "name": "stdout",
     "output_type": "stream",
     "text": [
      "🧵 [1] Created thread | ID: thread_oEjV7cf42l4WHPumdm55Fho1\n",
      "💬 [2] Created message | ID: msg_R258C5to3QZMFpTCrjkr2KcP\n",
      "🏃 [3] Created run | ID: run_X7gC4fzKOKnVZwAvJU2tEbxe\n",
      "⏳ [4] Polling run status...\n",
      "🔄 Status: completed\n",
      "\n",
      "🤖 [5] Agent responses:\n",
      "\u001b[1;34m\n",
      "💡 → Hello. Who are you?\n",
      "\u001b[1;34m\n",
      "💡 → Hello! I am an AI assistant here to help you with information, answer questions, and assist you with tasks. How can I help you today?\n",
      "\u001b[0m\n"
     ]
    }
   ],
   "source": [
    "# Step 1: Create a thread\n",
    "thread = project_client.threads.create()\n",
    "print(f\"🧵 [1] Created thread | ID: {thread.id}\")\n",
    "\n",
    "# Step 2: Send the user's message\n",
    "message = project_client.messages.create(thread_id=thread.id,\n",
    "                                         role=\"user\",\n",
    "                                         content=prompt)\n",
    "print(f\"💬 [2] Created message | ID: {message.id}\")\n",
    "\n",
    "# Step 3: Start a run\n",
    "run = project_client.runs.create(thread_id=thread.id,\n",
    "                                 agent_id=stocksprice_agent.id)\n",
    "print(f\"🏃 [3] Created run | ID: {run.id}\")\n",
    "\n",
    "# Step 4: Poll run status\n",
    "print(\"⏳ [4] Polling run status...\")\n",
    "while run.status in {\"queued\", \"in_progress\", \"requires_action\"}:\n",
    "    time.sleep(1)\n",
    "    run = project_client.runs.get(thread_id=thread.id, run_id=run.id)\n",
    "    print(f\"🔄 Status: {run.status}\")\n",
    "\n",
    "    if run.status == \"failed\":\n",
    "        print(f\"❌ Run failed | Error: {run.last_error}\")\n",
    "        break\n",
    "\n",
    "# Step 5: Display agent responses\n",
    "print(\"\\n🤖 [5] Agent responses:\")\n",
    "messages = project_client.messages.list(thread_id=thread.id,\n",
    "                                        order=ListSortOrder.ASCENDING)\n",
    "\n",
    "for msg in messages:\n",
    "    print(\"\\033[1;34m\")  # Blue text for agent messages\n",
    "    if msg.text_messages:\n",
    "        for text_message in msg.text_messages:\n",
    "            print(f\"💡 → {text_message.text.value}\")\n",
    "    if msg.url_citation_annotations:\n",
    "        print(\"\\033[1;32m\")  # Green text for citations\n",
    "        for annotation in msg.url_citation_annotations:\n",
    "            print(\n",
    "                f\"🔗 URL Citation: [{annotation.url_citation.title}]({annotation.url_citation.url})\"\n",
    "            )\n",
    "\n",
    "print(\"\\033[0m\")  # Reset color"
   ]
  },
  {
   "cell_type": "markdown",
   "id": "830a8140-3603-4a81-8d2d-6398ceac10b3",
   "metadata": {},
   "source": [
    "### Question 1"
   ]
  },
  {
   "cell_type": "code",
   "execution_count": 22,
   "id": "ef181ab9-5133-4b7c-a67c-cf16c6f2424d",
   "metadata": {},
   "outputs": [],
   "source": [
    "prompt = \"What is the current value of the Microsoft stock?\""
   ]
  },
  {
   "cell_type": "code",
   "execution_count": 23,
   "id": "0272d04a-b9c6-43e6-88e4-72bd1ca45d97",
   "metadata": {},
   "outputs": [
    {
     "name": "stdout",
     "output_type": "stream",
     "text": [
      "🧵 [1] Created thread | ID: thread_jcqzmsJBlF7hp1nZ2ZTCyM47\n",
      "💬 [2] Created message | ID: msg_G5QQyeKlvKa6k9d8YJ8sB0XV\n",
      "🏃 [3] Created run | ID: run_ltrvC9oXWafO8z2XHux0vtev\n",
      "⏳ [4] Polling run status...\n",
      "🔄 Status: in_progress\n",
      "🔄 Status: in_progress\n",
      "🔄 Status: completed\n",
      "\n",
      "🤖 [5] Agent responses:\n",
      "\u001b[1;34m\n",
      "💡 → What is the current value of the Microsoft stock?\n",
      "\u001b[1;34m\n",
      "💡 → The current stock price of Microsoft (MSFT) as of June 12, 2025, is $478.87【3:1†source】【3:4†source】.\n",
      "\u001b[1;32m\n",
      "🔗 URL Citation: [Microsoft (Nasdaq:MSFT) Historical Data | Historical Stock Price Data ...](https://markets.financialcontent.com/stocks/quote/historical?Symbol=537%3A951692)\n",
      "🔗 URL Citation: [Microsoft (MSFT) Stock Price History & Chart Since 1986](https://wallstreetnumbers.com/stocks/msft/price)\n",
      "\u001b[0m\n"
     ]
    }
   ],
   "source": [
    "# Step 1: Create a thread\n",
    "thread = project_client.threads.create()\n",
    "print(f\"🧵 [1] Created thread | ID: {thread.id}\")\n",
    "\n",
    "# Step 2: Send the user's message\n",
    "message = project_client.messages.create(thread_id=thread.id,\n",
    "                                         role=\"user\",\n",
    "                                         content=prompt)\n",
    "print(f\"💬 [2] Created message | ID: {message.id}\")\n",
    "\n",
    "# Step 3: Start a run\n",
    "run = project_client.runs.create(thread_id=thread.id,\n",
    "                                 agent_id=stocksprice_agent.id)\n",
    "print(f\"🏃 [3] Created run | ID: {run.id}\")\n",
    "\n",
    "# Step 4: Poll run status\n",
    "print(\"⏳ [4] Polling run status...\")\n",
    "while run.status in {\"queued\", \"in_progress\", \"requires_action\"}:\n",
    "    time.sleep(1)\n",
    "    run = project_client.runs.get(thread_id=thread.id, run_id=run.id)\n",
    "    print(f\"🔄 Status: {run.status}\")\n",
    "\n",
    "    if run.status == \"failed\":\n",
    "        print(f\"❌ Run failed | Error: {run.last_error}\")\n",
    "        break\n",
    "\n",
    "# Step 5: Display agent responses\n",
    "print(\"\\n🤖 [5] Agent responses:\")\n",
    "messages = project_client.messages.list(thread_id=thread.id,\n",
    "                                        order=ListSortOrder.ASCENDING)\n",
    "\n",
    "for msg in messages:\n",
    "    print(\"\\033[1;34m\")  # Blue text for agent messages\n",
    "    if msg.text_messages:\n",
    "        for text_message in msg.text_messages:\n",
    "            print(f\"💡 → {text_message.text.value}\")\n",
    "    if msg.url_citation_annotations:\n",
    "        print(\"\\033[1;32m\")  # Green text for citations\n",
    "        for annotation in msg.url_citation_annotations:\n",
    "            print(\n",
    "                f\"🔗 URL Citation: [{annotation.url_citation.title}]({annotation.url_citation.url})\"\n",
    "            )\n",
    "\n",
    "print(\"\\033[0m\")  # Reset color"
   ]
  },
  {
   "cell_type": "code",
   "execution_count": 24,
   "id": "71d1e039-a073-4c95-b8bd-563f02b4237c",
   "metadata": {},
   "outputs": [
    {
     "data": {
      "text/plain": [
       "{'prompt_tokens': 7407, 'completion_tokens': 63, 'total_tokens': 7470, 'prompt_token_details': {'cached_tokens': 0}}"
      ]
     },
     "execution_count": 24,
     "metadata": {},
     "output_type": "execute_result"
    }
   ],
   "source": [
    "run.usage"
   ]
  },
  {
   "cell_type": "markdown",
   "id": "021bfe5b-5974-4488-a2ba-4502c1d86b51",
   "metadata": {},
   "source": [
    "### Question 2"
   ]
  },
  {
   "cell_type": "code",
   "execution_count": 25,
   "id": "e1b3af22-e82d-4e33-814a-77153b594acb",
   "metadata": {},
   "outputs": [],
   "source": [
    "prompt = \"Convert this into €\""
   ]
  },
  {
   "cell_type": "code",
   "execution_count": 26,
   "id": "3071c2c8-6903-497f-8be3-831691a602db",
   "metadata": {},
   "outputs": [
    {
     "name": "stdout",
     "output_type": "stream",
     "text": [
      "🧵 [1] Using the existing thread | ID: thread_jcqzmsJBlF7hp1nZ2ZTCyM47\n",
      "💬 [2] Created message | ID: msg_g2J5OjJVKsSHi9cwfWkAOkpD\n",
      "🏃 [3] Created run | ID: run_KpgqZfSz07OAMBwevtklVrzs\n",
      "⏳ [4] Polling run status...\n",
      "🔄 Status: in_progress\n",
      "🔄 Status: completed\n",
      "\n",
      "🤖 [5] Agent responses:\n",
      "\u001b[1;34m\n",
      "💡 → What is the current value of the Microsoft stock?\n",
      "\u001b[1;34m\n",
      "💡 → The current stock price of Microsoft (MSFT) as of June 12, 2025, is $478.87【3:1†source】【3:4†source】.\n",
      "\u001b[1;32m\n",
      "🔗 URL Citation: [Microsoft (Nasdaq:MSFT) Historical Data | Historical Stock Price Data ...](https://markets.financialcontent.com/stocks/quote/historical?Symbol=537%3A951692)\n",
      "🔗 URL Citation: [Microsoft (MSFT) Stock Price History & Chart Since 1986](https://wallstreetnumbers.com/stocks/msft/price)\n",
      "\u001b[1;34m\n",
      "💡 → Convert this into €\n",
      "\u001b[1;34m\n",
      "💡 → The current exchange rate is 1 USD = €0.8735【7:2†source】. At this rate, the Microsoft stock price of $478.87 converts to approximately €418.14.\n",
      "\u001b[1;32m\n",
      "🔗 URL Citation: [Exchange Rates History for 5 June 2025 (05/06/2025)](https://www.exchangerates.org.uk/historical/find-exchange-rate-history-for-05_06_2025)\n",
      "\u001b[0m\n"
     ]
    }
   ],
   "source": [
    "# Step 1: Use the previous thread\n",
    "print(f\"🧵 [1] Using the existing thread | ID: {thread.id}\")\n",
    "\n",
    "# Step 2: Send the user's message\n",
    "message = project_client.messages.create(thread_id=thread.id,\n",
    "                                         role=\"user\",\n",
    "                                         content=prompt)\n",
    "print(f\"💬 [2] Created message | ID: {message.id}\")\n",
    "\n",
    "# Step 3: Start a run\n",
    "run = project_client.runs.create(thread_id=thread.id,\n",
    "                                 agent_id=stocksprice_agent.id)\n",
    "print(f\"🏃 [3] Created run | ID: {run.id}\")\n",
    "\n",
    "# Step 4: Poll run status\n",
    "print(\"⏳ [4] Polling run status...\")\n",
    "while run.status in {\"queued\", \"in_progress\", \"requires_action\"}:\n",
    "    time.sleep(1)\n",
    "    run = project_client.runs.get(thread_id=thread.id, run_id=run.id)\n",
    "    print(f\"🔄 Status: {run.status}\")\n",
    "\n",
    "    if run.status == \"failed\":\n",
    "        print(f\"❌ Run failed | Error: {run.last_error}\")\n",
    "        break\n",
    "\n",
    "# Step 5: Display agent responses\n",
    "print(\"\\n🤖 [5] Agent responses:\")\n",
    "messages = project_client.messages.list(thread_id=thread.id,\n",
    "                                        order=ListSortOrder.ASCENDING)\n",
    "\n",
    "for msg in messages:\n",
    "    print(\"\\033[1;34m\")  # Blue text for agent messages\n",
    "    if msg.text_messages:\n",
    "        for text_message in msg.text_messages:\n",
    "            print(f\"💡 → {text_message.text.value}\")\n",
    "    if msg.url_citation_annotations:\n",
    "        print(\"\\033[1;32m\")  # Green text for citations\n",
    "        for annotation in msg.url_citation_annotations:\n",
    "            print(\n",
    "                f\"🔗 URL Citation: [{annotation.url_citation.title}]({annotation.url_citation.url})\"\n",
    "            )\n",
    "\n",
    "print(\"\\033[0m\")  # Reset color"
   ]
  },
  {
   "cell_type": "markdown",
   "id": "33d226a3-fe37-4f00-b59d-7db43b1bcb8c",
   "metadata": {},
   "source": [
    "### Question 3"
   ]
  },
  {
   "cell_type": "code",
   "execution_count": 27,
   "id": "d370f11b-1d19-40e7-ac92-2a142f75ca01",
   "metadata": {},
   "outputs": [],
   "source": [
    "prompt = \"I have 100 Microsoft shares, 50 IBM and 75 SFDC shares. What is the total value of my portfolio in eur?\""
   ]
  },
  {
   "cell_type": "code",
   "execution_count": 28,
   "id": "52e9a25e-d888-4b76-a0d5-35a77ec40565",
   "metadata": {},
   "outputs": [
    {
     "name": "stdout",
     "output_type": "stream",
     "text": [
      "🧵 [1] Created thread | ID: thread_FCITfxZxtyDnV6Pwc9FHNBuZ\n",
      "💬 [2] Created message | ID: msg_iSp7K7vWQq4Q1LkfGx0iEeyc\n",
      "🏃 [3] Created run | ID: run_dMWAcDfjsKxR9Aa3X4nm5Lyl\n",
      "⏳ [4] Polling run status...\n",
      "🔄 Status: in_progress\n",
      "🔄 Status: in_progress\n",
      "🔄 Status: in_progress\n",
      "🔄 Status: in_progress\n",
      "🔄 Status: in_progress\n",
      "🔄 Status: completed\n",
      "\n",
      "🤖 [5] Agent responses:\n",
      "\u001b[1;34m\n",
      "💡 → I have 100 Microsoft shares, 50 IBM and 75 SFDC shares. What is the total value of my portfolio in eur?\n",
      "\u001b[1;34m\n",
      "💡 → The current stock prices for your shares are as follows:\n",
      "- Microsoft (MSFT): $474.96【3:0†source】.\n",
      "- IBM: $277.22【5:3†source】.\n",
      "- Salesforce (SFDC): $266.91【7:1†source】.\n",
      "\n",
      "Calculating the portfolio value in USD:\n",
      "- Microsoft: 100 shares × $474.96 = $47,496\n",
      "- IBM: 50 shares × $277.22 = $13,861\n",
      "- Salesforce: 75 shares × $266.91 = $20,018.25\n",
      "\n",
      "Total value in USD: $47,496 + $13,861 + $20,018.25 = $81,375.25.\n",
      "\n",
      "To convert this to EUR, the current exchange rate would be needed. Could you provide me with the latest USD to EUR rate, or should I look it up?\n",
      "\u001b[1;32m\n",
      "🔗 URL Citation: [Microsoft (MSFT) Stock Price History & Chart Since 1986](https://wallstreetnumbers.com/stocks/msft/price)\n",
      "🔗 URL Citation: [IBM - 63 Year Stock Price History - Macrotrends](https://www.macrotrends.net/stocks/charts/IBM/ibm/stock-price-history)\n",
      "🔗 URL Citation: [Salesforce - 21 Year Stock Price History | CRM | MacroTrends](https://www.macrotrends.net/stocks/charts/CRM/salesforce/stock-price-history)\n",
      "\u001b[0m\n"
     ]
    }
   ],
   "source": [
    "# Step 1: Create a thread\n",
    "thread = project_client.threads.create()\n",
    "print(f\"🧵 [1] Created thread | ID: {thread.id}\")\n",
    "\n",
    "# Step 2: Send the user's message\n",
    "message = project_client.messages.create(thread_id=thread.id,\n",
    "                                         role=\"user\",\n",
    "                                         content=prompt)\n",
    "print(f\"💬 [2] Created message | ID: {message.id}\")\n",
    "\n",
    "# Step 3: Start a run\n",
    "run = project_client.runs.create(thread_id=thread.id,\n",
    "                                 agent_id=stocksprice_agent.id)\n",
    "print(f\"🏃 [3] Created run | ID: {run.id}\")\n",
    "\n",
    "# Step 4: Poll run status\n",
    "print(\"⏳ [4] Polling run status...\")\n",
    "while run.status in {\"queued\", \"in_progress\", \"requires_action\"}:\n",
    "    time.sleep(1)\n",
    "    run = project_client.runs.get(thread_id=thread.id, run_id=run.id)\n",
    "    print(f\"🔄 Status: {run.status}\")\n",
    "\n",
    "    if run.status == \"failed\":\n",
    "        print(f\"❌ Run failed | Error: {run.last_error}\")\n",
    "        break\n",
    "\n",
    "# Step 5: Display agent responses\n",
    "print(\"\\n🤖 [5] Agent responses:\")\n",
    "messages = project_client.messages.list(thread_id=thread.id,\n",
    "                                        order=ListSortOrder.ASCENDING)\n",
    "\n",
    "for msg in messages:\n",
    "    print(\"\\033[1;34m\")  # Blue text for agent messages\n",
    "    if msg.text_messages:\n",
    "        for text_message in msg.text_messages:\n",
    "            print(f\"💡 → {text_message.text.value}\")\n",
    "    if msg.url_citation_annotations:\n",
    "        print(\"\\033[1;32m\")  # Green text for citations\n",
    "        for annotation in msg.url_citation_annotations:\n",
    "            print(\n",
    "                f\"🔗 URL Citation: [{annotation.url_citation.title}]({annotation.url_citation.url})\"\n",
    "            )\n",
    "\n",
    "print(\"\\033[0m\")  # Reset color"
   ]
  },
  {
   "cell_type": "markdown",
   "id": "a4ca3bf5-cfbc-4a25-946d-5fae1c3bd95c",
   "metadata": {},
   "source": [
    "## Post processing"
   ]
  },
  {
   "cell_type": "code",
   "execution_count": 32,
   "id": "f742ea05-7c7c-453e-af76-bded891ad32b",
   "metadata": {},
   "outputs": [
    {
     "name": "stdout",
     "output_type": "stream",
     "text": [
      "Agent Details:\n",
      "📛 Name        : stocks-price-agent-demo\n",
      "🆔 ID          : asst_rcxMbpHnHicUdR2LxzwzDwDB\n",
      "🧠 Model       : gpt-4o\n",
      "📜 Instructions: Retrieve the current stock price for a specified company.\n",
      "\n",
      "Agent Details:\n",
      "📛 Name        : currency-convert-agent-demo\n",
      "🆔 ID          : asst_MFYjjAZiLiFPm49nopCD9vv8\n",
      "🧠 Model       : gpt-4o\n",
      "📜 Instructions: Retrieve the current currency exchange rate.\n",
      "\n",
      "Agent Details:\n",
      "📛 Name        : main-agent-demo\n",
      "🆔 ID          : asst_wAvUGrOEa7SYtJO7WNOBHFga\n",
      "🧠 Model       : gpt-4o\n",
      "📜 Instructions: You are the main AI agent\n",
      "\n"
     ]
    }
   ],
   "source": [
    "agents_list = [stocksprice_agent, currency_convert_agent, main_agent_demo]\n",
    "\n",
    "for agent in agents_list:\n",
    "    print(\n",
    "        f\"Agent Details:\\n\"\n",
    "        f\"📛 Name        : {agent.name}\\n\"\n",
    "        f\"🆔 ID          : {agent.id}\\n\"\n",
    "        f\"🧠 Model       : {agent.model}\\n\"\n",
    "        f\"📜 Instructions: {agent.instructions}\\n\"\n",
    "    )"
   ]
  },
  {
   "cell_type": "code",
   "execution_count": null,
   "id": "defb18e8-3ba1-4226-8e0f-6d4a770ec5ad",
   "metadata": {},
   "outputs": [],
   "source": [
    "#print(\"Deleting the agents we have created...\")\n",
    "#for agent in agents_list:\n",
    "    #project_client.delete_agent(agent.id)\n",
    "    #print(f\"Deleted agent, agent ID: {agent.id}\")\n",
    "#print(\"Done\")"
   ]
  },
  {
   "cell_type": "code",
   "execution_count": null,
   "id": "9f8434c4-4844-4e45-9fb8-60b8df3e138e",
   "metadata": {},
   "outputs": [],
   "source": []
  }
 ],
 "metadata": {
  "kernelspec": {
   "display_name": "Python 3.10 - SDK v2",
   "language": "python",
   "name": "python310-sdkv2"
  },
  "language_info": {
   "codemirror_mode": {
    "name": "ipython",
    "version": 3
   },
   "file_extension": ".py",
   "mimetype": "text/x-python",
   "name": "python",
   "nbconvert_exporter": "python",
   "pygments_lexer": "ipython3",
   "version": "3.10.14"
  },
  "varInspector": {
   "cols": {
    "lenName": 16,
    "lenType": 16,
    "lenVar": 40
   },
   "kernels_config": {
    "python": {
     "delete_cmd_postfix": "",
     "delete_cmd_prefix": "del ",
     "library": "var_list.py",
     "varRefreshCmd": "print(var_dic_list())"
    },
    "r": {
     "delete_cmd_postfix": ") ",
     "delete_cmd_prefix": "rm(",
     "library": "var_list.r",
     "varRefreshCmd": "cat(var_dic_list()) "
    }
   },
   "types_to_exclude": [
    "module",
    "function",
    "builtin_function_or_method",
    "instance",
    "_Feature"
   ],
   "window_display": false
  }
 },
 "nbformat": 4,
 "nbformat_minor": 5
}
