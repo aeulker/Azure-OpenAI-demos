{
 "cells": [
  {
   "cell_type": "markdown",
   "id": "4be5d807",
   "metadata": {},
   "source": [
    "# Agentic retrieval in Azure AI Search (legal usecase)\n",
    "\n",
    "Use this notebook to get started with [agentic retrieval](https://learn.microsoft.com/azure/search/search-agentic-retrieval-concept) in Azure AI Search, which integrates conversation history and large language models (LLMs) on Azure OpenAI to plan, retrieve, and synthesize complex queries.\n",
    "\n",
    "Steps in this notebook include:\n",
    "\n",
    "+ Creating a search index.\n",
    "+ Loading the index with documents from a GitHub URL.\n",
    "+ Creating an agent in Azure AI Search that points to an LLM for query planning.\n",
    "+ Using the agent to fetch and rank relevant information from the index.\n",
    "+ Generating answers using the Azure OpenAI client.\n",
    "\n",
    "This notebook provides a high-level demonstration of agentic retrieval. For more detailed guidance, see [Quickstart: Run agentic retrieval in Azure AI Search](https://learn.microsoft.com/azure/search/search-get-started-agentic-retrieval).\n",
    "\n",
    "> https://techcommunity.microsoft.com/blog/azure-ai-services-blog/introducing-agentic-retrieval-in-azure-ai-search/4414677\n",
    ">\n",
    "<img src=\"img1.jpg\">\n",
    "\n",
    "> This feature is public preview."
   ]
  },
  {
   "cell_type": "markdown",
   "id": "2397122b-7e6f-401b-a97f-537b66fff43a",
   "metadata": {},
   "source": [
    "## Architecture overview\n",
    "Agentic retrieval builds on top of three core components of Azure AI Search:\n",
    "\n",
    "- Index: Your search index holds both plain text and vectorized content, organized under a semantic configuration. Text fields marked as searchable and retrievable feed the LLM for query planning and grounding, while vector fields support similarity search when you enable a vectorizer.\n",
    "\n",
    "- Agent: A new top-level resource that links your Azure AI Search service to an Azure OpenAI model. It encapsulates the model’s endpoint, authentication, and default parameters for reranking thresholds, reference inclusion, and runtime limits.\n",
    "\n",
    "- Retrieval engine: Orchestrates the end-to-end flow: invoking the LLM for query planning, dispatching subqueries to the index in parallel, collecting results, reranking, and packaging the final grounding data along with metadata arrays.\n",
    "\n",
    "Agentic retrieval marks a departure from traditional search features, and a shift to knowledge retrieval capabilities intentionally designed to ground agents."
   ]
  },
  {
   "cell_type": "markdown",
   "id": "6712b97d",
   "metadata": {},
   "source": [
    "## Prerequisites\n",
    "\n",
    "+ An [Azure AI Search service](https://learn.microsoft.com/azure/search/search-create-service-portal) on the Basic tier or higher with [semantic ranker enabled](https://learn.microsoft.com/azure/search/semantic-how-to-enable-disable).\n",
    "+ An [Azure OpenAI resource](https://learn.microsoft.com/azure/ai-services/openai/how-to/create-resource).\n",
    "+ A [supported model](https://learn.microsoft.com/azure/search/search-agentic-retrieval-how-to-create#supported-models) deployed to your Azure OpenAI resource."
   ]
  },
  {
   "cell_type": "markdown",
   "id": "3f5fbd46",
   "metadata": {},
   "source": [
    "## Configure access\n",
    "\n",
    "This notebook assumes authentication and authorization using Microsoft Entra ID and role assignments. It also assumes that you run the code from your local device.\n",
    "\n",
    "To configure role-based access:\n",
    "\n",
    "1. Sign in to the [Azure portal](https://portal.azure.com).\n",
    "1. [Enable role-based access](https://learn.microsoft.com/azure/search/search-security-enable-roles) on your Azure AI Search service.\n",
    "1. [Create a system-assigned managed identity](https://learn.microsoft.com/azure/search/search-howto-managed-identities-data-sources#create-a-system-managed-identity) on your Azure AI Search service.\n",
    "1. On your Azure AI Search service, [assign the following roles](https://learn.microsoft.com/azure/search/search-security-rbac#how-to-assign-roles-in-the-azure-portal) to yourself.\n",
    "\n",
    "   + **Owner/Contributor** or **Search Service Contributor**\n",
    "   + **Search Index Data Contributor**\n",
    "   + **Search Index Data Reader**\n",
    "\n",
    "1. On your Azure OpenAI resource, assign **Cognitive Services User** to the managed identity of your search service."
   ]
  },
  {
   "cell_type": "markdown",
   "id": "733bf308",
   "metadata": {},
   "source": [
    "## Set up connections\n",
    "\n",
    "The `azure.env` file contains environment variables for connections to Azure AI Search and Azure OpenAI. Agentic retrieval requires these connections for document retrieval, query planning, query execution, and answer generation."
   ]
  },
  {
   "cell_type": "code",
   "execution_count": 1,
   "id": "6d84d56e-98b9-4902-bd99-3c5188162caf",
   "metadata": {},
   "outputs": [],
   "source": [
    "#!pip install azure-search-documents==11.6.0b12"
   ]
  },
  {
   "cell_type": "code",
   "execution_count": 2,
   "id": "eb43c3cf-4061-46d2-adf4-15ca0f23dd84",
   "metadata": {},
   "outputs": [],
   "source": [
    "import datetime\n",
    "import json\n",
    "import langchain\n",
    "import openai\n",
    "import os\n",
    "import pandas as pd\n",
    "import requests\n",
    "import sys\n",
    "\n",
    "from azure.identity import DefaultAzureCredential, get_bearer_token_provider\n",
    "from azure.search.documents import SearchIndexingBufferedSender\n",
    "from azure.search.documents.agent import KnowledgeAgentRetrievalClient\n",
    "from azure.search.documents.agent.models import KnowledgeAgentRetrievalRequest, KnowledgeAgentMessage, KnowledgeAgentMessageTextContent, KnowledgeAgentIndexParams\n",
    "from azure.search.documents.indexes import SearchIndexClient\n",
    "from azure.search.documents.indexes.models import AzureOpenAIVectorizer, AzureOpenAIVectorizerParameters, HnswAlgorithmConfiguration, KnowledgeAgent, KnowledgeAgentAzureOpenAIModel, KnowledgeAgentRequestLimits, KnowledgeAgentTargetIndex, SearchField, SearchIndex, SemanticConfiguration, SemanticField, SemanticPrioritizedFields, SemanticSearch, VectorSearch, VectorSearchProfile\n",
    "from collections import defaultdict\n",
    "from dotenv import load_dotenv\n",
    "from openai import AzureOpenAI\n",
    "from langchain_community.document_loaders import PyPDFLoader\n",
    "from langchain.text_splitter import RecursiveCharacterTextSplitter"
   ]
  },
  {
   "cell_type": "markdown",
   "id": "1357543d-1409-47b1-a1f8-427a2db6ecff",
   "metadata": {},
   "source": [
    "## Settings"
   ]
  },
  {
   "cell_type": "code",
   "execution_count": 3,
   "id": "2ffe67fb-da9d-44c8-92f5-46b571f81965",
   "metadata": {},
   "outputs": [
    {
     "name": "stdout",
     "output_type": "stream",
     "text": [
      "Python version: 3.10.14 (main, May  6 2024, 19:42:50) [GCC 11.2.0]\n",
      "OpenAI version: 1.82.1\n",
      "Langchain version: 0.3.25\n"
     ]
    }
   ],
   "source": [
    "print(f\"Python version: {sys.version}\")\n",
    "print(f\"OpenAI version: {openai.__version__}\")\n",
    "print(f\"Langchain version: {langchain.__version__}\")"
   ]
  },
  {
   "cell_type": "code",
   "execution_count": 4,
   "id": "f82f415b-984c-4cf2-a542-6fb048f1b01b",
   "metadata": {},
   "outputs": [
    {
     "name": "stdout",
     "output_type": "stream",
     "text": [
      "Today is 02-Jun-2025 08:09:34\n"
     ]
    }
   ],
   "source": [
    "print(f\"Today is {datetime.datetime.today().strftime('%d-%b-%Y %H:%M:%S')}\")"
   ]
  },
  {
   "cell_type": "code",
   "execution_count": 5,
   "id": "e43e3655-bcdf-4456-8f37-095e7c86737e",
   "metadata": {},
   "outputs": [
    {
     "data": {
      "text/plain": [
       "True"
      ]
     },
     "execution_count": 5,
     "metadata": {},
     "output_type": "execute_result"
    }
   ],
   "source": [
    "load_dotenv(\"azure.env\")"
   ]
  },
  {
   "cell_type": "code",
   "execution_count": 6,
   "id": "2df3a118",
   "metadata": {},
   "outputs": [],
   "source": [
    "# Azure AI Search\n",
    "credential = DefaultAzureCredential()\n",
    "token_provider = get_bearer_token_provider(credential, \"https://search.azure.com/.default\")\n",
    "azure_ai_search_endpoint = os.environ[\"azure_ai_search_endpoint\"]\n",
    "index_name = os.getenv(\"AZURE_SEARCH_INDEX\", \"agent-rag-index-demo\")\n",
    "\n",
    "# Gpt-4o mini (or gpt-4o, gpt-4.1, gpt-4.1-nano, gpt-4.1-mini)\n",
    "aoai_endpoint = os.environ[\"azure_openai_endpoint\"]  # model endpoint\n",
    "aoai_gpt_deployment = os.getenv(\"AZURE_OPENAI_GPT_DEPLOYMENT\", \"gpt-4.1-mini\")  # model deployment name\n",
    "aoai_gpt_model = os.getenv(\"AZURE_OPENAI_GPT_MODEL\", \"gpt-4.1-mini\")  # model name\n",
    "aoai_api_version = os.getenv(\"AZURE_OPENAI_API_VERSION\", \"2025-03-01-preview\")  # api version\n",
    "\n",
    "# Embeddings\n",
    "aoai_embedding_deployment = os.getenv(\"AZURE_OPENAI_EMBEDDING_DEPLOYMENT\", \"text-embedding-3-large\")  # model deployment name\n",
    "aoai_embedding_model = os.getenv(\"AZURE_OPENAI_EMBEDDING_MODEL\", \"text-embedding-3-large\")  # model name\n",
    "\n",
    "# Agent\n",
    "agent_name = os.getenv(\"AZURE_SEARCH_AGENT_NAME\", \"agent-rag-demo\")  # agent name\n",
    "api_version = \"2025-05-01-Preview\"  # api version for agentic rag"
   ]
  },
  {
   "cell_type": "markdown",
   "id": "d5ea8952-7a59-406e-b773-146a0d1d8135",
   "metadata": {},
   "source": [
    "## File processing"
   ]
  },
  {
   "cell_type": "code",
   "execution_count": 7,
   "id": "ac752ab1-926e-4059-a3dd-ad1d7798782c",
   "metadata": {},
   "outputs": [
    {
     "name": "stdout",
     "output_type": "stream",
     "text": [
      "--2025-06-02 08:09:35--  https://www.equalrightstrust.org/ertdocumentbank/french_penal_code_33.pdf\n",
      "Resolving www.equalrightstrust.org (www.equalrightstrust.org)... 193.37.35.248\n",
      "Connecting to www.equalrightstrust.org (www.equalrightstrust.org)|193.37.35.248|:443... connected.\n",
      "HTTP request sent, awaiting response... 200 OK\n",
      "Length: 331652 (324K) [application/pdf]\n",
      "Saving to: ‘doc.pdf’\n",
      "\n",
      "doc.pdf             100%[===================>] 323.88K  --.-KB/s    in 0.03s   \n",
      "\n",
      "2025-06-02 08:09:36 (10.8 MB/s) - ‘doc.pdf’ saved [331652/331652]\n",
      "\n",
      "-rwxrwxrwx 1 root root 324K Jun  2 08:09 doc.pdf\n"
     ]
    }
   ],
   "source": [
    "file_name = \"doc.pdf\"\n",
    "\n",
    "!wget https://www.equalrightstrust.org/ertdocumentbank/french_penal_code_33.pdf -O $file_name\n",
    "!ls $file_name -lh"
   ]
  },
  {
   "cell_type": "code",
   "execution_count": 8,
   "id": "1d6a811c-1079-4c40-b806-88aa70bae77c",
   "metadata": {},
   "outputs": [
    {
     "name": "stdout",
     "output_type": "stream",
     "text": [
      "Document doc.pdf has 132 pages\n"
     ]
    }
   ],
   "source": [
    "loader = PyPDFLoader(file_name)\n",
    "pages = loader.load()\n",
    "\n",
    "print(f\"Document {file_name} has {len(pages)} pages\")"
   ]
  },
  {
   "cell_type": "code",
   "execution_count": 9,
   "id": "814b803b-f1b2-4161-9be1-d34fde4c64ee",
   "metadata": {},
   "outputs": [],
   "source": [
    "text_splitter = RecursiveCharacterTextSplitter(\n",
    "    chunk_size=2000,\n",
    "    chunk_overlap=200,\n",
    "    length_function=len,\n",
    "    is_separator_regex=False,\n",
    ")\n",
    "\n",
    "chunks = text_splitter.split_documents(pages)\n",
    "\n",
    "transcripts = []\n",
    "page_numbers = []\n",
    "ids = []\n",
    "\n",
    "# Group chunks by page_number\n",
    "grouped_chunks = defaultdict(list)\n",
    "for chunk in chunks:\n",
    "    page_number = int(chunk.metadata[\"page_label\"])\n",
    "    grouped_chunks[page_number].append(chunk)\n",
    "\n",
    "for page_number in sorted(grouped_chunks):\n",
    "    for idx, chunk in enumerate(grouped_chunks[page_number], start=1):\n",
    "        transcript = chunk.page_content\n",
    "        unique_id = f\"{os.path.splitext(file_name)[0]}_{page_number:03}_{idx:02}\"\n",
    "        transcripts.append(transcript)\n",
    "        page_numbers.append(page_number)\n",
    "        ids.append(unique_id)\n",
    "        \n",
    "df = pd.DataFrame({\n",
    "    \"text\": transcripts,\n",
    "    \"page_number\": page_numbers,\n",
    "    \"id\": ids\n",
    "})\n",
    "\n",
    "df['page_number'] = df['page_number'].astype('int32')\n",
    "df = df[['id', 'text', 'page_number']]"
   ]
  },
  {
   "cell_type": "code",
   "execution_count": 10,
   "id": "445751a3-2cd0-4e7f-9e89-18d89b48e55e",
   "metadata": {},
   "outputs": [
    {
     "data": {
      "text/html": [
       "<div>\n",
       "<style scoped>\n",
       "    .dataframe tbody tr th:only-of-type {\n",
       "        vertical-align: middle;\n",
       "    }\n",
       "\n",
       "    .dataframe tbody tr th {\n",
       "        vertical-align: top;\n",
       "    }\n",
       "\n",
       "    .dataframe thead th {\n",
       "        text-align: right;\n",
       "    }\n",
       "</style>\n",
       "<table border=\"1\" class=\"dataframe\">\n",
       "  <thead>\n",
       "    <tr style=\"text-align: right;\">\n",
       "      <th></th>\n",
       "      <th>id</th>\n",
       "      <th>text</th>\n",
       "      <th>page_number</th>\n",
       "    </tr>\n",
       "  </thead>\n",
       "  <tbody>\n",
       "    <tr>\n",
       "      <th>0</th>\n",
       "      <td>doc_001_01</td>\n",
       "      <td>PENAL CODE\\nPENAL CODE\\nWith the participation...</td>\n",
       "      <td>1</td>\n",
       "    </tr>\n",
       "    <tr>\n",
       "      <th>1</th>\n",
       "      <td>doc_001_02</td>\n",
       "      <td>ARTICLE 112-1\\n       Conduct is punishable on...</td>\n",
       "      <td>1</td>\n",
       "    </tr>\n",
       "    <tr>\n",
       "      <th>2</th>\n",
       "      <td>doc_002_01</td>\n",
       "      <td>PENAL CODE\\nARTICLE 112-4\\n       The immediat...</td>\n",
       "      <td>2</td>\n",
       "    </tr>\n",
       "    <tr>\n",
       "      <th>3</th>\n",
       "      <td>doc_002_02</td>\n",
       "      <td>ARTICLE 113-5\\n       French criminal law is a...</td>\n",
       "      <td>2</td>\n",
       "    </tr>\n",
       "    <tr>\n",
       "      <th>4</th>\n",
       "      <td>doc_002_03</td>\n",
       "      <td>misdemeanour subject to a penalty of at least ...</td>\n",
       "      <td>2</td>\n",
       "    </tr>\n",
       "    <tr>\n",
       "      <th>...</th>\n",
       "      <td>...</td>\n",
       "      <td>...</td>\n",
       "      <td>...</td>\n",
       "    </tr>\n",
       "    <tr>\n",
       "      <th>391</th>\n",
       "      <td>doc_131_01</td>\n",
       "      <td>PENAL CODE\\n€30,000.\\n       Proceeding to a p...</td>\n",
       "      <td>131</td>\n",
       "    </tr>\n",
       "    <tr>\n",
       "      <th>392</th>\n",
       "      <td>doc_131_02</td>\n",
       "      <td>particularly serious disease.\"\\nARTICLE 726-15...</td>\n",
       "      <td>131</td>\n",
       "    </tr>\n",
       "    <tr>\n",
       "      <th>393</th>\n",
       "      <td>doc_131_03</td>\n",
       "      <td>means to cause or attempt to cause an artifici...</td>\n",
       "      <td>131</td>\n",
       "    </tr>\n",
       "    <tr>\n",
       "      <th>394</th>\n",
       "      <td>doc_132_01</td>\n",
       "      <td>PENAL CODE\\n       1° A fine, in the manner pr...</td>\n",
       "      <td>132</td>\n",
       "    </tr>\n",
       "    <tr>\n",
       "      <th>395</th>\n",
       "      <td>doc_132_02</td>\n",
       "      <td>to cause or attempt to cause an artificial ris...</td>\n",
       "      <td>132</td>\n",
       "    </tr>\n",
       "  </tbody>\n",
       "</table>\n",
       "<p>396 rows × 3 columns</p>\n",
       "</div>"
      ],
      "text/plain": [
       "             id                                               text  \\\n",
       "0    doc_001_01  PENAL CODE\\nPENAL CODE\\nWith the participation...   \n",
       "1    doc_001_02  ARTICLE 112-1\\n       Conduct is punishable on...   \n",
       "2    doc_002_01  PENAL CODE\\nARTICLE 112-4\\n       The immediat...   \n",
       "3    doc_002_02  ARTICLE 113-5\\n       French criminal law is a...   \n",
       "4    doc_002_03  misdemeanour subject to a penalty of at least ...   \n",
       "..          ...                                                ...   \n",
       "391  doc_131_01  PENAL CODE\\n€30,000.\\n       Proceeding to a p...   \n",
       "392  doc_131_02  particularly serious disease.\"\\nARTICLE 726-15...   \n",
       "393  doc_131_03  means to cause or attempt to cause an artifici...   \n",
       "394  doc_132_01  PENAL CODE\\n       1° A fine, in the manner pr...   \n",
       "395  doc_132_02  to cause or attempt to cause an artificial ris...   \n",
       "\n",
       "     page_number  \n",
       "0              1  \n",
       "1              1  \n",
       "2              2  \n",
       "3              2  \n",
       "4              2  \n",
       "..           ...  \n",
       "391          131  \n",
       "392          131  \n",
       "393          131  \n",
       "394          132  \n",
       "395          132  \n",
       "\n",
       "[396 rows x 3 columns]"
      ]
     },
     "execution_count": 10,
     "metadata": {},
     "output_type": "execute_result"
    }
   ],
   "source": [
    "df"
   ]
  },
  {
   "cell_type": "code",
   "execution_count": 11,
   "id": "a7b4b564-1e3c-49b3-9aad-a5ab2bfb7025",
   "metadata": {},
   "outputs": [
    {
     "data": {
      "text/plain": [
       "396"
      ]
     },
     "execution_count": 11,
     "metadata": {},
     "output_type": "execute_result"
    }
   ],
   "source": [
    "len(df)"
   ]
  },
  {
   "cell_type": "markdown",
   "id": "39874f61",
   "metadata": {},
   "source": [
    "## Upload sample document"
   ]
  },
  {
   "cell_type": "code",
   "execution_count": 12,
   "id": "5112a279-b708-41b7-9be1-063dfaaf98ab",
   "metadata": {},
   "outputs": [],
   "source": [
    "azure_openai_token_provider = get_bearer_token_provider(credential, \"https://cognitiveservices.azure.com/.default\")\n",
    "\n",
    "aoai_client = AzureOpenAI(azure_endpoint=aoai_endpoint,\n",
    "                          azure_ad_token_provider=azure_openai_token_provider,\n",
    "                          api_version=aoai_api_version)"
   ]
  },
  {
   "cell_type": "markdown",
   "id": "58e8a088",
   "metadata": {},
   "source": [
    "## Create an index in Azure AI Search\n",
    "\n",
    "This step creates a search index that contains plain text and vector content. You can use an existing index, but it must meet the criteria for [agentic retrieval workloads](https://learn.microsoft.com/azure/search/search-agentic-retrieval-how-to-index). The primary schema requirement is a semantic configuration with a `default_configuration_name`."
   ]
  },
  {
   "cell_type": "code",
   "execution_count": 13,
   "id": "ee39c158-2bc8-4699-a32a-823739bfe161",
   "metadata": {},
   "outputs": [
    {
     "name": "stdout",
     "output_type": "stream",
     "text": [
      "Index 'agent-rag-index-demo' created or updated successfully\n"
     ]
    }
   ],
   "source": [
    "from azure.search.documents.indexes.models import SearchIndex, SearchField, VectorSearch, VectorSearchProfile, HnswAlgorithmConfiguration, AzureOpenAIVectorizer, AzureOpenAIVectorizerParameters, SemanticSearch, SemanticConfiguration, SemanticPrioritizedFields, SemanticField\n",
    "from azure.search.documents.indexes import SearchIndexClient\n",
    "\n",
    "index = SearchIndex(\n",
    "    name=index_name,\n",
    "    fields=[\n",
    "        SearchField(name=\"id\", type=\"Edm.String\", key=True, filterable=True, sortable=True, facetable=True),\n",
    "        SearchField(name=\"text\", type=\"Edm.String\", filterable=False, sortable=False, facetable=False),\n",
    "        SearchField(name=\"vectorembeddings\", type=\"Collection(Edm.Single)\", stored=False, vector_search_dimensions=3072, vector_search_profile_name=\"hnsw_text_3_large\"),\n",
    "        SearchField(name=\"page_number\", type=\"Edm.Int32\", filterable=True, sortable=True, facetable=True)\n",
    "    ],\n",
    " \n",
    "    vector_search=VectorSearch(\n",
    "        profiles=[VectorSearchProfile(name=\"hnsw_text_3_large\", algorithm_configuration_name=\"alg\", vectorizer_name=\"azure_openai_text_3_large\")],\n",
    "        algorithms=[HnswAlgorithmConfiguration(name=\"alg\")],\n",
    "        vectorizers=[\n",
    "            AzureOpenAIVectorizer(\n",
    "                vectorizer_name=\"azure_openai_text_3_large\",\n",
    "                parameters=AzureOpenAIVectorizerParameters(\n",
    "                    resource_url=aoai_endpoint,\n",
    "                    deployment_name=aoai_embedding_deployment,\n",
    "                    model_name=aoai_embedding_model,\n",
    "                )\n",
    "            )\n",
    "        ]\n",
    "    ),\n",
    "    \n",
    "    semantic_search=SemanticSearch(\n",
    "        default_configuration_name=\"semantic_config\",\n",
    "        configurations=[\n",
    "            SemanticConfiguration(\n",
    "                name=\"semantic_config\",\n",
    "                prioritized_fields=SemanticPrioritizedFields(\n",
    "                    content_fields=[\n",
    "                        SemanticField(field_name=\"text\")\n",
    "                    ]\n",
    "                )\n",
    "            )\n",
    "        ]\n",
    "    )\n",
    ")\n",
    "\n",
    "index_client = SearchIndexClient(endpoint=azure_ai_search_endpoint, credential=credential)\n",
    "index_client.create_or_update_index(index)\n",
    "\n",
    "print(f\"Index '{index_name}' created or updated successfully\")"
   ]
  },
  {
   "cell_type": "code",
   "execution_count": 14,
   "id": "87131f2b-72fd-49f8-99dc-5ee1f3a519d1",
   "metadata": {},
   "outputs": [
    {
     "name": "stdout",
     "output_type": "stream",
     "text": [
      "Documents uploaded to Azure AI Search index: 'agent-rag-index-demo'\n"
     ]
    }
   ],
   "source": [
    "documents_json = df.to_json(orient='records')\n",
    "documents = json.loads(documents_json)\n",
    "\n",
    "with SearchIndexingBufferedSender(endpoint=azure_ai_search_endpoint,\n",
    "                                  index_name=index_name,\n",
    "                                  credential=credential) as client:\n",
    "    client.upload_documents(documents=documents)\n",
    "\n",
    "print(f\"Documents uploaded to Azure AI Search index: '{index_name}'\")"
   ]
  },
  {
   "cell_type": "markdown",
   "id": "5c5e0a34",
   "metadata": {},
   "source": [
    "## Create an agent in Azure AI Search\n",
    "\n",
    "This step creates a search agent, which acts as a wrapper for the LLM you deployed to Azure OpenAI. The LLM is used to send queries to an agentic retrieval pipeline."
   ]
  },
  {
   "cell_type": "code",
   "execution_count": 15,
   "id": "d3fe4183",
   "metadata": {},
   "outputs": [
    {
     "name": "stdout",
     "output_type": "stream",
     "text": [
      "Knowledge agent: 'agent-rag-demo' created or updated successfully\n"
     ]
    }
   ],
   "source": [
    "agent = KnowledgeAgent(\n",
    "    name=agent_name,\n",
    "    models=[\n",
    "        KnowledgeAgentAzureOpenAIModel(\n",
    "            azure_open_ai_parameters=AzureOpenAIVectorizerParameters(\n",
    "                resource_url=aoai_endpoint,\n",
    "                deployment_name=aoai_gpt_deployment,\n",
    "                model_name=aoai_gpt_model)\n",
    "        )\n",
    "    ],\n",
    "    target_indexes=[\n",
    "        KnowledgeAgentTargetIndex(\n",
    "            index_name=index_name,\n",
    "            default_reranker_threshold=2.5,\n",
    "            default_include_reference_source_data = True,\n",
    "        )\n",
    "    ],\n",
    ")\n",
    "\n",
    "index_client.create_or_update_agent(agent)\n",
    "print(f\"Knowledge agent: '{agent_name}' created or updated successfully\")"
   ]
  },
  {
   "cell_type": "markdown",
   "id": "1610cefd",
   "metadata": {},
   "source": [
    "## Set up messages\n",
    "\n",
    "Messages are the input for the retrieval route and contain the conversation history. Each message includes a `role` that indicates its origin, such as `assistant` or `user`, and `content` in natural language. The LLM you use determines which roles are valid."
   ]
  },
  {
   "cell_type": "code",
   "execution_count": 16,
   "id": "2ab7b970",
   "metadata": {},
   "outputs": [],
   "source": [
    "instructions = \"\"\"\n",
    "You are a Q&A legal agent capable of answering questions related to a legal document.\n",
    "The sources are provided in JSON format and include a \"doc_key\" reference that must be cited in the responses. \n",
    "If the answer is not available, the agent should reply with \"I DO NOT KNOW\".\n",
    "Always add this sentence at the end of the answer: 'Note: This answer was generated by an AI'.\n",
    "\"\"\"\n",
    "\n",
    "messages = [{\"role\": \"system\", \"content\": instructions}]"
   ]
  },
  {
   "cell_type": "markdown",
   "id": "4090707f",
   "metadata": {},
   "source": [
    "## Use agentic retrieval to fetch results\n",
    "\n",
    "This step runs the retrieval pipeline to extract relevant information from your search index. Based on the messages and parameters on the retrieval request, the LLM:\n",
    "\n",
    "1. Analyzes the entire conversation history to determine the underlying information need.\n",
    "1. Breaks down the compound user query into focused subqueries.\n",
    "1. Runs each subquery simultaneously against text fields and vector embeddings in your index.\n",
    "1. Uses semantic ranker to rerank the results of all subqueries.\n",
    "1. Merges the results into a single string."
   ]
  },
  {
   "cell_type": "code",
   "execution_count": 17,
   "id": "e4a236f3-3db8-461e-989d-92ad673f424b",
   "metadata": {},
   "outputs": [],
   "source": [
    "agent_client = KnowledgeAgentRetrievalClient(endpoint=azure_ai_search_endpoint,\n",
    "                                             agent_name=agent_name,\n",
    "                                             credential=credential)"
   ]
  },
  {
   "cell_type": "code",
   "execution_count": 18,
   "id": "899e2eac-37d2-45a4-8627-e2d143b33fcb",
   "metadata": {},
   "outputs": [],
   "source": [
    "messages.append({\n",
    "    \"role\":\n",
    "    \"user\",\n",
    "    \"content\":\n",
    "    \"\"\"\n",
    "    What are the penalties for theft? For murder? Identity theft?\n",
    "    \"\"\"\n",
    "})"
   ]
  },
  {
   "cell_type": "code",
   "execution_count": 19,
   "id": "011efe01-1f70-437e-ad50-2a74004231c7",
   "metadata": {},
   "outputs": [],
   "source": [
    "retrieval_result = agent_client.retrieve(\n",
    "    retrieval_request=KnowledgeAgentRetrievalRequest(\n",
    "        messages=[\n",
    "            KnowledgeAgentMessage(role=msg[\"role\"],\n",
    "                                  content=[\n",
    "                                      KnowledgeAgentMessageTextContent(\n",
    "                                          text=msg[\"content\"])\n",
    "                                  ]) for msg in messages\n",
    "            if msg[\"role\"] != \"system\"\n",
    "        ],\n",
    "        target_index_params=[\n",
    "            KnowledgeAgentIndexParams(index_name=index_name,\n",
    "                                      reranker_threshold=2.5)\n",
    "        ]))"
   ]
  },
  {
   "cell_type": "code",
   "execution_count": 20,
   "id": "918ded26",
   "metadata": {},
   "outputs": [],
   "source": [
    "messages.append({\n",
    "    \"role\": \"assistant\",\n",
    "    \"content\": retrieval_result.response[0].content[0].text\n",
    "})"
   ]
  },
  {
   "cell_type": "markdown",
   "id": "cbabf8b2-ed95-4378-a164-fc40835c134e",
   "metadata": {},
   "source": [
    "### Review the retrieval response, activity, and results\n",
    "\n",
    "Each retrieval response from Azure AI Search includes:\n",
    "\n",
    "+ A unified string that represents grounding data from the search results.\n",
    "+ The query plan.\n",
    "+ Reference data that shows which chunks of the source documents contributed to the unified string."
   ]
  },
  {
   "cell_type": "code",
   "execution_count": 21,
   "id": "e237bdd3-d91f-4c61-a0e8-6ebee9ce41d2",
   "metadata": {},
   "outputs": [
    {
     "name": "stdout",
     "output_type": "stream",
     "text": [
      "\u001b[1;31;34m\n",
      "[{\"ref_id\":0,\"content\":\"half if, by alerting the legal or administrative authorities, he has allowed the offence which is underway to be stopped, or\\nhas prevented it from resulting in loss of life or permanent disability, and, where relevant, has identified any other\\nperpetrators or accomplices.\\nARTICLE 311-10\\n(Ordinance no. 2000-916 of 19 September 2000 Article 3 Official Journal of 22 September 2000 in force 1 January\\n2002)\\n       Theft is punished by criminal imprisonment for life and a fine of €150,000 where it is preceded, accompanied or\\nfollowed either by violence causing death, or acts of torture or barbarity.\\n       The first two paragraphs of article 132-3 governing the safety period are applicable to the offence referred to under\\nthe present article.\\nARTICLE 311-11\\n       For the purpose of articles 311-4, 311-5, 311-6, 311-7, 311-9 and 311-10 theft followed by acts of violence\\ncommitted to assist an escape or to ensure the impunity of a perpetrator or an accomplice constitutes theft followed by\\nviolence.\\nARTICLE 311-4-1\\n(Inserted by Act no. 2002-1138 of 9 September 2002 Article 26 Official Journal of 10 September 2002)\\n       Where it is committed by an adult with the assistance of one of more minors acting as perpetrators or accomplices,\\ntheft is punished by seven years' imprisonment and by a fine of €100,000.\\n       Where the adult offender is assisted by one or more minors aged under than thirteen years old, the penalties are\\nincreased to ten years' imprisonment and a fine of €150,000.\\n                                SECTION II\\n                                GENERAL PROVISIONS Articles 311-12 to\\n311-13\\nARTICLE 311-12\\n       No prosecution may be initiated where a theft is committed by a person:\\n       1° to the prejudice of his or her ascendant or his or her descendant;\\n       2° to the prejudice of a spouse, except where the spouses are separated or authorised to reside separately.\\nARTICLE 311-13\"},{\"ref_id\":1,\"content\":\"PENAL CODE\\n(Act no. 2003-88 of 3 February 2003 Article 2 Official Journal of 4 February 2003)\\n(Act no. 2003-239 of 18 March 2003 Article 47 II, Article 60 I, II Official Journal of 19 March 2003 Correction JORF 5\\nJune 2003)\\n(Act no. 2004-204 of 9 March 2004 article 6 I Official Journal of 10 March 2004)\\n       Murder is punished by criminal imprisonment for life where it is committed:\\n       1° against a minor under fifteen years of age;\\n       2° against a natural or legitimate ascendant or the adoptive father or mother;\\n       3° against a person whose particular vulnerability, due to age, sickness or infirmity, or to any physical or\\npsychological disability or to pregnancy, is apparent or known to the perpetrator;\\n       4° against a judge or prosecutor, a juror, an advocate, a legal professional officer or a public officer, a member of\\nthe gendarmerie, a civil servant of the national police, customs, the penitentiary administration or against any other\\nperson holding public authority or discharging a public service mission, a fireman (whether professional or volunteer),\\nthe accredited warden of a building or group of buildings or an agent carrying out on behalf of the tenant the duty of\\ncaring for or watching an inhabited building in pursuance of article L. 127.1 of the Code of Construction and Habitation,\\nin the exercise or on account of his functions or mission, when the capacity of the victim is known or apparent to the\\nperpetrator;\\n       4°bis against the spouse, the ascendants and direct descendants of the persons mentioned in 4° or against any\\nother person who habitually resides in their home, because of the duties carried out by these persons;\\n       4°ter against a person employed by a public transport network or any other person carrying out a public service\\nmission or against a health professional in the exercise of his duties, where the status of the victim is apparent or known\\nto the perpetrator;\"},{\"ref_id\":2,\"content\":\"2002)\\n       Theft is punished by fifteen years' criminal imprisonment and a fine of €150,000 where it is preceded, accompanied\\nor followed by acts of violence upon other persons causing mutilation or permanent disability.\\n       The first two paragraphs of article 132-23 governing the safety period are applicable to the offence referred to under\\nthe present Article.\\nARTICLE 311-8\\n(Ordinance no. 2000-916 of 19 September 2000 Article 3 Official Journal of 22 September 2000 in force 1 January\\n2002)\\nUpdated 12/10/2005 - Page 67/132\"},{\"ref_id\":3,\"content\":\"ARTICLE 215-4\\n(Inserted by Act No. 2004-800 of 6 August 2004, article 28 I; Official Journal, 7 August 2004)\\n       The prescription period for felonies provided for by the present sub-title, and for the penalties imposed, is thirty\\nyears.\\n       In addition, in a case where the cloning has led to the birth of a child the prescription period for prosecution for the\\noffence of reproductive cloning contrary to article 214-2 only begins to run from when the child attains the age of\\nmajority.\\n                TITLE II\\n                OFFENCES AGAINST THE HUMAN PERSON Articles 221-1 to 227-31\\n                        CHAPTER I\\n                        OFFENCES AGAINST THE LIFE OF PERSONS Articles 221-1 to 221-10\\n                                SECTION I\\n                                WILFUL INJURY AGAINST LIFE Articles 221-1 to\\n221-5-3\\nARTICLE 221-1\\n       The wilful causing of the death of another person is murder. It is punished with thirty years' criminal imprisonment.\\nARTICLE 221-2\\n       Murder which precedes, accompanies or follows another felony is punished by criminal imprisonment for life.\\n       Murder which is intended either to prepare or to facilitate a misdemeanour, or to assist an escape or to ensure the\\nimpunity of the misdemeanant or an accomplice to a misdemeanour is punished by criminal imprisonment for life.\\n       The first two paragraphs of article 132-23 governing the safety period are applicable to the offences under the\\npresent article.\\nARTICLE 221-3\\n       Murder committed with premeditation is assassination. Assassination is punished by a criminal imprisonment for life.\\n       The first two paragraphs of article 132-23 governing the safety period apply to the offence under the present article.\\nNevertheless, where the victim is a minor who is under fifteen years of age and the assassination is preceded by or\\naccompanied by rape, torture or acts of barbarity, the Cour d'assises may by a special decision either increase the\"},{\"ref_id\":4,\"content\":\"of funds, securities, goods or equipment, by gaining access to such premises by deceit, breaking in or climbing in;\\n       7° where it is committed in a vehicle used for the public transport or on premises designed for access to a means of\\npublic transport;\\n       8° where it is preceded, accompanied or followed by an act of destruction, defacement or damage;\\n       9° where it is committed because of the victim's membership or non-membership, true or supposed, of a given\\nethnic group, nation, race or religion, or his true or supposed sexual orientation.\\n       The penalty is increased to seven years' imprisonment and to a fine of €100,000 where the theft is committed in two\\nof the circumstances set out under the present article. It is increased to ten years' imprisonment and a fine of €150,000\\nwhere the theft is committed in three of those circumstances. \\nARTICLE 311-5\\n(Ordinance no. 2000-916 of 19 September 2000 Article 3 Official Journal of 22 September 2000 in force 1 January\\n2002)\\n       Theft is punished by seven years' imprisonment and a fine of €100,000 where it is preceded, accompanied or\\nfollowed by acts of violence upon other persons, causing a maximum total incapacity to work of eight days.\\nARTICLE 311-6\\n(Ordinance no. 2000-916 of 19 September 2000 Article 3 Official Journal of 22 September 2000 in force 1 January\\n2002)\\n       Theft is punished by ten years' imprisonment and a fine of €150,000 where it is preceded, accompanied or followed\\nby acts of violence upon other persons causing a total incapacity to work of more than eight days.\\n       The first two paragraphs of article 132-23 governing the safety period are applicable to the offence referred to under\\nthe present article.\\nARTICLE 311-7\\n(Ordinance no. 2000-916 of 19 September 2000 Article 3 Official Journal of 22 September 2000 in force 1 January\\n2002)\\n       Theft is punished by fifteen years' criminal imprisonment and a fine of €150,000 where it is preceded, accompanied\"},{\"ref_id\":5,\"content\":\"PENAL CODE\\n       Any violation of the physical integrity of a corpse, by any means, is punished by one year's imprisonment and a fine\\nof €15,000.\\n       The violation or desecration of tombs, burials grounds or monuments erected to the memory of the dead, committed\\nby any means, is punished by one year's imprisonment and a fine of €15,000.\\n       The penalty is increased to two years' imprisonment and to a fine of €30,000 where the offences defined under the\\nprevious paragraph were accompanied by a violation of the physical integrity of the corpse.\\nARTICLE 225-18\\n(Ordinance No. 2000-916 of 19 September 2000 Article 3 Official Journal of 22 September into force 1 January 2002)\\n       Where the offences defined under the previous article were committed by reason of the membership or\\nnon-membership, true or supposed, of the deceased persons to any given ethnic group, nation, race or religion,\\npenalties are increased to three years' imprisonment and to a fine of €45,000 in for the offences defined under the first\\ntwo paragraphs of article 225-17 and to five years' imprisonment and to a fine of €75,000 in relation to the offence\\ndefined by the last paragraph of that article.\\nARTICLE 225-18-1\\n(Inserted by Act no. 2001-504 of 12 June 2001 Article 11 Official Journal of 13 June 2001)\\n       Legal persons may incur criminal liability for the offence defined under article 225-17 and 225-18, pursuant to the\\nconditions set out under article 121-2. \\n       The penalties incurred by legal persons are:\\n       1° a fine, pursuant to the conditions set out under article 131-38;\\n       2° the penalties enumerated under 2° to 9° of article 131-39;\\n       3° the penalty referred to under 1° of article 131-39 for the offences referred to under article 225-18.\\n       The prohibition referred to in 2° of article 131-39 applies to the activity in the exercise of which or on the occasion of\\nthe exercise of which the offence was committed.\\n                                SECTION V\"},{\"ref_id\":6,\"content\":\"PENAL CODE\\n                        CHAPTER I\\n                        THEFT Articles 311-1 to 311-16\\n                                SECTION I\\n                                SIMPLE AND AGGRAVATED THEFTS Articles 311-1 to\\n311-4-1\\nARTICLE 311-1\\n       Theft is the fraudulent appropriation of a thing belonging to another person.\\nARTICLE 311-2\\n       Dishonest appropriation of energy to the prejudice of another person is assimilated to theft.\\nARTICLE 311-3\\n(Ordinance no. 2000-916 of 19 September 2000 Article 3 Official Journal of 22 September 2000 in force 1 January\\n2002) \\n       Theft is punished by three years' imprisonment and a fine of €45,000.\\nARTICLE 311-4\\n(Ordinance no. 2000-916 of 19 September 2000 Article 3 Official Journal of 22 September 2000 in force 1 January\\n2002)\\n(Act no. 2004-204 of 9 March 2004 article 40 I Official Journal of 10 March 2004)\\n       Theft is punished by five years' imprisonment and a fine of €75,000:\\n       1° where it is committed by two or more acting as perpetrators or accomplices although they do not form an\\norganised gang;\\n       2° by a person holding public authority or discharging a public service mission, in the exercise or at the occasion of\\nthe exercise of the functions or mission;\\n       3° where it is committed by a person unlawfully assuming the capacity of a person holding public authority or\\ndischarging a public service mission;\\n       4° where it is preceded, accompanied or followed by acts of violence on other persons which have not caused any\\ntotal incapacity to work;\\n       5° where it is facilitated by the state of a person whose particular vulnerability, due to age, sickness, infirmity, a\\nphysical of psychological disability or to pregnancy, is apparent or known to the perpetrator;;\\n       6° where it is committed within premises used as residence or within premises used or intended for the safekeeping\\nof funds, securities, goods or equipment, by gaining access to such premises by deceit, breaking in or climbing in;\"},{\"ref_id\":7,\"content\":\"mission or against a health professional in the exercise of his duties, where the status of the victim is apparent or known\\nto the perpetrator;\\n       5° against a witness, a victim or civil party, either to prevent him from denouncing the action, filing a complaint or\\nmaking a statement before a court, or because of his report, complaint or statement;\\n       6° because of the victim's actual or supposed membership or non-membership of a given ethnic group, nation, race\\nor religion;\\n       7° because of the sexual orientation of the victim;\\n       8° by several people acting as an organised gang.\\n       The first two paragraphs of article 132-23 governing the safety period are applicable to the offences set out under\\nthe present article. Nevertheless, where the victim is a minor of fifteen years of age and the murder is preceded by or\\naccompanied by rape, torture or acts of barbarity, the Cour d'assises may by a special decision either increase the\\nsafety period to thirty years, or, where it orders life imprisonment, decide that none of the measures enumerated under\\narticle 132-23 shall be granted to the convicted person; where the penalty is commuted, and unless the decree of\\npardon otherwise provides, the safety period is then equal to the length of the sentence resulting from the pardon.\\nARTICLE 221-5\\n       Making an attack against the life of another person by the use or administration of substances liable to cause death\\nconstitutes poisoning.\\n       Poisoning is punished by thirty years' criminal imprisonment.\\n       It is punished by criminal imprisonment for life where it is committed in any of the circumstances provided for by\\narticles 221-2, 221-3 and 221-4.\\n       The first two paragraphs of article 132-23 governing the safety period apply to the offence under the present article.\\nARTICLE 221-5-1\\n(Act no. 2004-204 of 9 March 2004 article 6 II Official Journal of 10 March 2004)\"},{\"ref_id\":8,\"content\":\"PENAL CODE\\n       Theft is punished by twenty years' criminal imprisonment and a fine of €150,000 where it is committed either with\\nthe use or threatened use of a weapon, or by a person carrying a weapon requiring a licence or the carrying of which is\\nprohibited.\\n       The first two paragraphs of article 132-3 governing the safety period are applicable to the offence set out under the\\npresent article.\\nARTICLE 311-9\\n(Ordinance no. 2000-916 of 19 September 2000 Article 3 Official Journal of 22 September 2000 in force 1 January\\n2002)\\n       Theft committed by an organised gang is punished by fifteen years' criminal imprisonment and a fine of €150,000.\\n       It is punished by twenty years' criminal imprisonment and a fine of €150,000 where it is preceded, accompanied or\\nfollowed by violence committed against other persons.\\n       It is punished by thirty years' criminal imprisonment and a fine of €150,000 where it is committed either with the use\\nor threatened use of a weapon, or by a person carrying a weapon requiring a licence or the carrying of which is\\nprohibited.\\n       The first two paragraphs of article 132-23 governing the safety period are applicable to the offences referred to\\nunder the present article.\\nARTICLE 311-9-1\\n(Inserted by Act no. 2004-204 of 9 March 2004 article 12 XII Official Journal of 10 March 2004)\\n       Any person who has attempted to commit a theft acting in an organised gang, as set out under article 311-9, is\\nexempted from punishment if, by alerting the legal or administrative authorities, he has prevented the commission of the\\noffence, and where relevant, has identified the other perpetrators or accomplices.\\n       The custodial sentence incurred by a perpetrator or accomplice to a theft acting in an organised gang is reduced by\\nhalf if, by alerting the legal or administrative authorities, he has allowed the offence which is underway to be stopped, or\"},{\"ref_id\":9,\"content\":\"PENAL CODE\\n       The quality of national defence secrets, for the purposes of this section, attaches to information, processes, articles,\\ndocuments, and computerised data or files which are of importance to national defence and which are subject to\\nprotective orders intended to restrict their circulation.\\n       The object of such orders may be information, processes, articles, documents, computerised data or files the\\ndisclosure of which is liable to prejudice national defence or could lead to the disclosure of a national defence secret.\\n       A Decree of the Conseil d'Etat shall provide for the levels of classification of information, processes, articles,\\ndocuments, and computerised data or files which are in the nature of national defence secrets and the authorities in\\ncharge for the specification of the means to ensure their protection.\\nARTICLE 413-10\\n(Ordinance no. 2000-916 of 19 September 2000 Article 3 Official Journal of 22 September 2000 in force 1 January\\n2002)\\n       A penalty of seven years' imprisonment and a fine of €100,000 applies to the destruction, misappropriation, theft or\\nduplication, as well as to the communication to the public or to an unauthorised person, by any person holding such a\\nconfidential information because of his position or occupation or any permanent or temporary mission, of any\\ninformation, process, article, document, or computerised data or file which is a national defence secret. \\n       The same penalties apply to the holder who permits the destruction, misappropriation, removal, duplication or\\nrevelation of any information, process, article, document, computerised data or file referred to under the previous\\nparagraph.\\n       Where the holder has behaved negligently or recklessly, the offence is punished by three years' imprisonment and a\\nfine of €45,000.\\nARTICLE 413-11\\n(Ordinance no. 2000-916 of 19 September 2000 Article 3 Official Journal of 22 September 2000 in force 1 January\\n2002)\"}]\n"
     ]
    }
   ],
   "source": [
    "print(\"\\033[1;31;34m\")\n",
    "print(retrieval_result.response[0].content[0].text)"
   ]
  },
  {
   "cell_type": "code",
   "execution_count": 22,
   "id": "7fccf4b0",
   "metadata": {},
   "outputs": [
    {
     "name": "stdout",
     "output_type": "stream",
     "text": [
      "***** Activity *****\n",
      "\u001b[1;31;34m\n",
      "[\n",
      "     {\n",
      "          \"id\": 0,\n",
      "          \"type\": \"ModelQueryPlanning\",\n",
      "          \"input_tokens\": 1228,\n",
      "          \"output_tokens\": 273\n",
      "     },\n",
      "     {\n",
      "          \"id\": 1,\n",
      "          \"type\": \"AzureSearchQuery\",\n",
      "          \"target_index\": \"agent-rag-index-demo\",\n",
      "          \"query\": {\n",
      "               \"search\": \"penalties for theft\"\n",
      "          },\n",
      "          \"query_time\": \"2025-06-02T08:10:21.290Z\",\n",
      "          \"count\": 6,\n",
      "          \"elapsed_ms\": 540\n",
      "     },\n",
      "     {\n",
      "          \"id\": 2,\n",
      "          \"type\": \"AzureSearchQuery\",\n",
      "          \"target_index\": \"agent-rag-index-demo\",\n",
      "          \"query\": {\n",
      "               \"search\": \"penalties for murder\"\n",
      "          },\n",
      "          \"query_time\": \"2025-06-02T08:10:21.477Z\",\n",
      "          \"count\": 4,\n",
      "          \"elapsed_ms\": 165\n",
      "     },\n",
      "     {\n",
      "          \"id\": 3,\n",
      "          \"type\": \"AzureSearchQuery\",\n",
      "          \"target_index\": \"agent-rag-index-demo\",\n",
      "          \"query\": {\n",
      "               \"search\": \"penalties for identity theft\"\n",
      "          },\n",
      "          \"query_time\": \"2025-06-02T08:10:21.612Z\",\n",
      "          \"count\": 0,\n",
      "          \"elapsed_ms\": 134\n",
      "     },\n",
      "     {\n",
      "          \"id\": 4,\n",
      "          \"type\": \"AzureSearchSemanticRanker\",\n",
      "          \"input_tokens\": 68490\n",
      "     }\n",
      "]\n"
     ]
    }
   ],
   "source": [
    "print(\"***** Activity *****\")\n",
    "print(\"\\033[1;31;34m\")\n",
    "print(json.dumps([a.as_dict() for a in retrieval_result.activity], indent=5))"
   ]
  },
  {
   "cell_type": "code",
   "execution_count": 23,
   "id": "b116719a-c97e-4362-844f-f646d390b11e",
   "metadata": {},
   "outputs": [
    {
     "name": "stdout",
     "output_type": "stream",
     "text": [
      "***** Results *****\n",
      "\u001b[1;31;34m\n",
      "[\n",
      "     {\n",
      "          \"type\": \"AzureSearchDoc\",\n",
      "          \"id\": \"0\",\n",
      "          \"activity_source\": 1,\n",
      "          \"doc_key\": \"doc_068_02\",\n",
      "          \"source_data\": {\n",
      "               \"id\": \"doc_068_02\",\n",
      "               \"text\": \"half if, by alerting the legal or administrative authorities, he has allowed the offence which is underway to be stopped, or\\nhas prevented it from resulting in loss of life or permanent disability, and, where relevant, has identified any other\\nperpetrators or accomplices.\\nARTICLE 311-10\\n(Ordinance no. 2000-916 of 19 September 2000 Article 3 Official Journal of 22 September 2000 in force 1 January\\n2002)\\n\\u00a0\\u00a0\\u00a0\\u00a0\\u00a0\\u00a0\\u00a0Theft is punished by criminal imprisonment for life and a fine of \\u20ac150,000 where it is preceded, accompanied or\\nfollowed either by violence causing death, or acts of torture or barbarity.\\n\\u00a0\\u00a0\\u00a0\\u00a0\\u00a0\\u00a0\\u00a0The first two paragraphs of article 132-3 governing the safety period are applicable to the offence referred to under\\nthe present article.\\nARTICLE 311-11\\n\\u00a0\\u00a0\\u00a0\\u00a0\\u00a0\\u00a0\\u00a0For the purpose of articles 311-4, 311-5, 311-6, 311-7, 311-9 and 311-10 theft followed by acts of violence\\ncommitted to assist an escape or to ensure the impunity of a perpetrator or an accomplice constitutes theft followed by\\nviolence.\\nARTICLE 311-4-1\\n(Inserted by Act no. 2002-1138 of 9 September 2002 Article 26 Official Journal of 10 September 2002)\\n\\u00a0\\u00a0\\u00a0\\u00a0\\u00a0\\u00a0\\u00a0Where it is committed by an adult with the assistance of one of more minors acting as perpetrators or accomplices,\\ntheft is punished by seven years' imprisonment and by a fine of \\u20ac100,000.\\n\\u00a0\\u00a0\\u00a0\\u00a0\\u00a0\\u00a0\\u00a0Where the adult offender is assisted by one or more minors aged under than thirteen years old, the penalties are\\nincreased to ten years' imprisonment and a fine of \\u20ac150,000.\\n                                SECTION II\\n                                GENERAL PROVISIONS Articles 311-12 to\\n311-13\\nARTICLE 311-12\\n\\u00a0\\u00a0\\u00a0\\u00a0\\u00a0\\u00a0\\u00a0No prosecution may be initiated where a theft is committed by a person:\\n\\u00a0\\u00a0\\u00a0\\u00a0\\u00a0\\u00a0\\u00a01\\u00b0 to the prejudice of his or her ascendant or his or her descendant;\\n\\u00a0\\u00a0\\u00a0\\u00a0\\u00a0\\u00a0\\u00a02\\u00b0 to the prejudice of a spouse, except where the spouses are separated or authorised to reside separately.\\nARTICLE 311-13\"\n",
      "          }\n",
      "     },\n",
      "     {\n",
      "          \"type\": \"AzureSearchDoc\",\n",
      "          \"id\": \"2\",\n",
      "          \"activity_source\": 1,\n",
      "          \"doc_key\": \"doc_067_03\",\n",
      "          \"source_data\": {\n",
      "               \"id\": \"doc_067_03\",\n",
      "               \"text\": \"2002)\\n\\u00a0\\u00a0\\u00a0\\u00a0\\u00a0\\u00a0\\u00a0Theft is punished by fifteen years' criminal imprisonment and a fine of \\u20ac150,000 where it is preceded, accompanied\\nor followed by acts of violence upon other persons causing mutilation or permanent disability.\\n\\u00a0\\u00a0\\u00a0\\u00a0\\u00a0\\u00a0\\u00a0The first two paragraphs of article 132-23 governing the safety period are applicable to the offence referred to under\\nthe present Article.\\nARTICLE 311-8\\n(Ordinance no. 2000-916 of 19 September 2000 Article 3 Official Journal of 22 September 2000 in force 1 January\\n2002)\\nUpdated 12/10/2005 - Page 67/132\"\n",
      "          }\n",
      "     },\n",
      "     {\n",
      "          \"type\": \"AzureSearchDoc\",\n",
      "          \"id\": \"4\",\n",
      "          \"activity_source\": 1,\n",
      "          \"doc_key\": \"doc_067_02\",\n",
      "          \"source_data\": {\n",
      "               \"id\": \"doc_067_02\",\n",
      "               \"text\": \"of funds, securities, goods or equipment, by gaining access to such premises by deceit, breaking in or climbing in;\\n\\u00a0\\u00a0\\u00a0\\u00a0\\u00a0\\u00a0\\u00a07\\u00b0 where it is committed in a vehicle used for the public transport or on premises designed for access to a means of\\npublic transport;\\n\\u00a0\\u00a0\\u00a0\\u00a0\\u00a0\\u00a0\\u00a08\\u00b0 where it is preceded, accompanied or followed by an act of destruction, defacement or damage;\\n\\u00a0\\u00a0\\u00a0\\u00a0\\u00a0\\u00a0\\u00a09\\u00b0 where it is committed because of the victim's membership or non-membership, true or supposed, of a given\\nethnic group, nation, race or religion, or his true or supposed sexual orientation.\\n\\u00a0\\u00a0\\u00a0\\u00a0\\u00a0\\u00a0\\u00a0The penalty is increased to seven years' imprisonment and to a fine of \\u20ac100,000 where the theft is committed in two\\nof the circumstances set out under the present article. It is increased to ten years' imprisonment and a fine of \\u20ac150,000\\nwhere the theft is committed in three of those circumstances. \\nARTICLE 311-5\\n(Ordinance no. 2000-916 of 19 September 2000 Article 3 Official Journal of 22 September 2000 in force 1 January\\n2002)\\n\\u00a0\\u00a0\\u00a0\\u00a0\\u00a0\\u00a0\\u00a0Theft is punished by seven years' imprisonment and a fine of \\u20ac100,000 where it is preceded, accompanied or\\nfollowed by acts of violence upon other persons, causing a maximum total incapacity to work of eight days.\\nARTICLE 311-6\\n(Ordinance no. 2000-916 of 19 September 2000 Article 3 Official Journal of 22 September 2000 in force 1 January\\n2002)\\n\\u00a0\\u00a0\\u00a0\\u00a0\\u00a0\\u00a0\\u00a0Theft is punished by ten years' imprisonment and a fine of \\u20ac150,000 where it is preceded, accompanied or followed\\nby acts of violence upon other persons causing a total incapacity to work of more than eight days.\\n\\u00a0\\u00a0\\u00a0\\u00a0\\u00a0\\u00a0\\u00a0The first two paragraphs of article 132-23 governing the safety period are applicable to the offence referred to under\\nthe present article.\\nARTICLE 311-7\\n(Ordinance no. 2000-916 of 19 September 2000 Article 3 Official Journal of 22 September 2000 in force 1 January\\n2002)\\n\\u00a0\\u00a0\\u00a0\\u00a0\\u00a0\\u00a0\\u00a0Theft is punished by fifteen years' criminal imprisonment and a fine of \\u20ac150,000 where it is preceded, accompanied\"\n",
      "          }\n",
      "     },\n",
      "     {\n",
      "          \"type\": \"AzureSearchDoc\",\n",
      "          \"id\": \"6\",\n",
      "          \"activity_source\": 1,\n",
      "          \"doc_key\": \"doc_067_01\",\n",
      "          \"source_data\": {\n",
      "               \"id\": \"doc_067_01\",\n",
      "               \"text\": \"PENAL CODE\\n                        CHAPTER I\\n                        THEFT Articles 311-1 to 311-16\\n                                SECTION I\\n                                SIMPLE AND AGGRAVATED THEFTS Articles 311-1 to\\n311-4-1\\nARTICLE 311-1\\n\\u00a0\\u00a0\\u00a0\\u00a0\\u00a0\\u00a0\\u00a0Theft is the fraudulent appropriation of a thing belonging to another person.\\nARTICLE 311-2\\n\\u00a0\\u00a0\\u00a0\\u00a0\\u00a0\\u00a0\\u00a0Dishonest appropriation of energy to the prejudice of another person is assimilated to theft.\\nARTICLE 311-3\\n(Ordinance no. 2000-916 of 19 September 2000 Article 3 Official Journal of 22 September 2000 in force 1 January\\n2002) \\n\\u00a0\\u00a0\\u00a0\\u00a0\\u00a0\\u00a0\\u00a0Theft is punished by three years' imprisonment and a fine of \\u20ac45,000.\\nARTICLE 311-4\\n(Ordinance no. 2000-916 of 19 September 2000 Article 3 Official Journal of 22 September 2000 in force 1 January\\n2002)\\n(Act no. 2004-204 of 9 March 2004 article 40 I Official Journal of 10 March 2004)\\n\\u00a0\\u00a0\\u00a0\\u00a0\\u00a0\\u00a0\\u00a0Theft is punished by five years' imprisonment and a fine of \\u20ac75,000:\\n\\u00a0\\u00a0\\u00a0\\u00a0\\u00a0\\u00a0\\u00a01\\u00b0 where it is committed by two or more acting as perpetrators or accomplices although they do not form an\\norganised gang;\\n\\u00a0\\u00a0\\u00a0\\u00a0\\u00a0\\u00a0\\u00a02\\u00b0 by a person holding public authority or discharging a public service mission, in the exercise or at the occasion of\\nthe exercise of the functions or mission;\\n\\u00a0\\u00a0\\u00a0\\u00a0\\u00a0\\u00a0\\u00a03\\u00b0 where it is committed by a person unlawfully assuming the capacity of a person holding public authority or\\ndischarging a public service mission;\\n\\u00a0\\u00a0\\u00a0\\u00a0\\u00a0\\u00a0\\u00a04\\u00b0 where it is preceded, accompanied or followed by acts of violence on other persons which have not caused any\\ntotal incapacity to work;\\n\\u00a0\\u00a0\\u00a0\\u00a0\\u00a0\\u00a0\\u00a05\\u00b0 where it is facilitated by the state of a person whose particular vulnerability, due to age, sickness, infirmity, a\\nphysical of psychological disability or to pregnancy, is apparent or known to the perpetrator;;\\n\\u00a0\\u00a0\\u00a0\\u00a0\\u00a0\\u00a0\\u00a06\\u00b0 where it is committed within premises used as residence or within premises used or intended for the safekeeping\\nof funds, securities, goods or equipment, by gaining access to such premises by deceit, breaking in or climbing in;\"\n",
      "          }\n",
      "     },\n",
      "     {\n",
      "          \"type\": \"AzureSearchDoc\",\n",
      "          \"id\": \"1\",\n",
      "          \"activity_source\": 2,\n",
      "          \"doc_key\": \"doc_030_01\",\n",
      "          \"source_data\": {\n",
      "               \"id\": \"doc_030_01\",\n",
      "               \"text\": \"PENAL CODE\\n(Act no. 2003-88 of 3 February 2003 Article 2 Official Journal of 4 February 2003)\\n(Act no. 2003-239 of 18 March 2003 Article 47 II, Article 60 I, II Official Journal of 19 March 2003 Correction JORF 5\\nJune 2003)\\n(Act no. 2004-204 of 9 March 2004 article 6 I Official Journal of 10 March 2004)\\n\\u00a0\\u00a0\\u00a0\\u00a0\\u00a0\\u00a0\\u00a0Murder is punished by criminal imprisonment for life where it is committed:\\n\\u00a0\\u00a0\\u00a0\\u00a0\\u00a0\\u00a0\\u00a01\\u00b0 against a minor under fifteen years of age;\\n\\u00a0\\u00a0\\u00a0\\u00a0\\u00a0\\u00a0\\u00a02\\u00b0 against a natural or legitimate ascendant or the adoptive father or mother;\\n\\u00a0\\u00a0\\u00a0\\u00a0\\u00a0\\u00a0\\u00a03\\u00b0 against a person whose particular vulnerability, due to age, sickness or infirmity, or to any physical or\\npsychological disability or to pregnancy, is apparent or known to the perpetrator;\\n\\u00a0\\u00a0\\u00a0\\u00a0\\u00a0\\u00a0\\u00a04\\u00b0 against a judge or prosecutor, a juror, an advocate, a legal professional officer or a public officer, a member of\\nthe gendarmerie, a civil servant of the national police, customs, the penitentiary administration or against any other\\nperson holding public authority or discharging a public service mission, a fireman (whether professional or volunteer),\\nthe accredited warden of a building or group of buildings or an agent carrying out on behalf of the tenant the duty of\\ncaring for or watching an inhabited building in pursuance of article L. 127.1 of the Code of Construction and Habitation,\\nin the exercise or on account of his functions or mission, when the capacity of the victim is known or apparent to the\\nperpetrator;\\n\\u00a0\\u00a0\\u00a0\\u00a0\\u00a0\\u00a0\\u00a04\\u00b0bis against the spouse, the ascendants and direct descendants of the persons mentioned in 4\\u00b0 or against any\\nother person who habitually resides in their home, because of the duties carried out by these persons;\\n\\u00a0\\u00a0\\u00a0\\u00a0\\u00a0\\u00a0\\u00a04\\u00b0ter against a person employed by a public transport network or any other person carrying out a public service\\nmission or against a health professional in the exercise of his duties, where the status of the victim is apparent or known\\nto the perpetrator;\"\n",
      "          }\n",
      "     },\n",
      "     {\n",
      "          \"type\": \"AzureSearchDoc\",\n",
      "          \"id\": \"8\",\n",
      "          \"activity_source\": 1,\n",
      "          \"doc_key\": \"doc_068_01\",\n",
      "          \"source_data\": {\n",
      "               \"id\": \"doc_068_01\",\n",
      "               \"text\": \"PENAL CODE\\n\\u00a0\\u00a0\\u00a0\\u00a0\\u00a0\\u00a0\\u00a0Theft is punished by twenty years' criminal imprisonment and a fine of \\u20ac150,000 where it is committed either with\\nthe use or threatened use of a weapon, or by a person carrying a weapon requiring a licence or the carrying of which is\\nprohibited.\\n\\u00a0\\u00a0\\u00a0\\u00a0\\u00a0\\u00a0\\u00a0The first two paragraphs of article 132-3 governing the safety period are applicable to the offence set out under the\\npresent article.\\nARTICLE 311-9\\n(Ordinance no. 2000-916 of 19 September 2000 Article 3 Official Journal of 22 September 2000 in force 1 January\\n2002)\\n\\u00a0\\u00a0\\u00a0\\u00a0\\u00a0\\u00a0\\u00a0Theft committed by an organised gang is punished by fifteen years' criminal imprisonment and a fine of \\u20ac150,000.\\n\\u00a0\\u00a0\\u00a0\\u00a0\\u00a0\\u00a0\\u00a0It is punished by twenty years' criminal imprisonment and a fine of \\u20ac150,000 where it is preceded, accompanied or\\nfollowed by violence committed against other persons.\\n\\u00a0\\u00a0\\u00a0\\u00a0\\u00a0\\u00a0\\u00a0It is punished by thirty years' criminal imprisonment and a fine of \\u20ac150,000 where it is committed either with the use\\nor threatened use of a weapon, or by a person carrying a weapon requiring a licence or the carrying of which is\\nprohibited.\\n\\u00a0\\u00a0\\u00a0\\u00a0\\u00a0\\u00a0\\u00a0The first two paragraphs of article 132-23 governing the safety period are applicable to the offences referred to\\nunder the present article.\\nARTICLE 311-9-1\\n(Inserted by Act no. 2004-204 of 9 March 2004 article 12 XII Official Journal of 10 March 2004)\\n\\u00a0\\u00a0\\u00a0\\u00a0\\u00a0\\u00a0\\u00a0Any person who has attempted to commit a theft acting in an organised gang, as set out under article 311-9, is\\nexempted from punishment if, by alerting the legal or administrative authorities, he has prevented the commission of the\\noffence, and where relevant, has identified the other perpetrators or accomplices.\\n\\u00a0\\u00a0\\u00a0\\u00a0\\u00a0\\u00a0\\u00a0The custodial sentence incurred by a perpetrator or accomplice to a theft acting in an organised gang is reduced by\\nhalf if, by alerting the legal or administrative authorities, he has allowed the offence which is underway to be stopped, or\"\n",
      "          }\n",
      "     },\n",
      "     {\n",
      "          \"type\": \"AzureSearchDoc\",\n",
      "          \"id\": \"3\",\n",
      "          \"activity_source\": 2,\n",
      "          \"doc_key\": \"doc_029_02\",\n",
      "          \"source_data\": {\n",
      "               \"id\": \"doc_029_02\",\n",
      "               \"text\": \"ARTICLE 215-4\\n(Inserted by Act No. 2004-800 of 6 August 2004, article 28 I; Official Journal, 7 August 2004)\\n\\u00a0\\u00a0\\u00a0\\u00a0\\u00a0\\u00a0\\u00a0The prescription period for felonies provided for by the present sub-title, and for the penalties imposed, is thirty\\nyears.\\n\\u00a0\\u00a0\\u00a0\\u00a0\\u00a0\\u00a0\\u00a0In addition, in a case where the cloning has led to the birth of a child the prescription period for prosecution for the\\noffence of reproductive cloning contrary to article 214-2 only begins to run from when the child attains the age of\\nmajority.\\n                TITLE II\\n                OFFENCES AGAINST THE HUMAN PERSON Articles 221-1 to 227-31\\n                        CHAPTER I\\n                        OFFENCES AGAINST THE LIFE OF PERSONS Articles 221-1 to 221-10\\n                                SECTION I\\n                                WILFUL INJURY AGAINST LIFE Articles 221-1 to\\n221-5-3\\nARTICLE 221-1\\n\\u00a0\\u00a0\\u00a0\\u00a0\\u00a0\\u00a0\\u00a0The wilful causing of the death of another person is murder. It is punished with thirty years' criminal imprisonment.\\nARTICLE 221-2\\n\\u00a0\\u00a0\\u00a0\\u00a0\\u00a0\\u00a0\\u00a0Murder which precedes, accompanies or follows another felony is punished by criminal imprisonment for life.\\n\\u00a0\\u00a0\\u00a0\\u00a0\\u00a0\\u00a0\\u00a0Murder which is intended either to prepare or to facilitate a misdemeanour, or to assist an escape or to ensure the\\nimpunity of the misdemeanant or an accomplice to a misdemeanour is punished by criminal imprisonment for life.\\n\\u00a0\\u00a0\\u00a0\\u00a0\\u00a0\\u00a0\\u00a0The first two paragraphs of article 132-23 governing the safety period are applicable to the offences under the\\npresent article.\\nARTICLE 221-3\\n\\u00a0\\u00a0\\u00a0\\u00a0\\u00a0\\u00a0\\u00a0Murder committed with premeditation is assassination. Assassination is punished by a criminal imprisonment for life.\\n\\u00a0\\u00a0\\u00a0\\u00a0\\u00a0\\u00a0\\u00a0The first two paragraphs of article 132-23 governing the safety period apply to the offence under the present article.\\nNevertheless, where the victim is a minor who is under fifteen years of age and the assassination is preceded by or\\naccompanied by rape, torture or acts of barbarity, the Cour d'assises may by a special decision either increase the\"\n",
      "          }\n",
      "     },\n",
      "     {\n",
      "          \"type\": \"AzureSearchDoc\",\n",
      "          \"id\": \"9\",\n",
      "          \"activity_source\": 1,\n",
      "          \"doc_key\": \"doc_087_01\",\n",
      "          \"source_data\": {\n",
      "               \"id\": \"doc_087_01\",\n",
      "               \"text\": \"PENAL CODE\\n\\u00a0\\u00a0\\u00a0\\u00a0\\u00a0\\u00a0\\u00a0The quality of national defence secrets, for the purposes of this section, attaches to information, processes, articles,\\ndocuments, and computerised data or files which are of importance to national defence and which are subject to\\nprotective orders intended to restrict their circulation.\\n\\u00a0\\u00a0\\u00a0\\u00a0\\u00a0\\u00a0\\u00a0The object of such orders may be information, processes, articles, documents, computerised data or files the\\ndisclosure of which is liable to prejudice national defence or could lead to the disclosure of a national defence secret.\\n\\u00a0\\u00a0\\u00a0\\u00a0\\u00a0\\u00a0\\u00a0A Decree of the Conseil d'Etat shall provide for the levels of classification of information, processes, articles,\\ndocuments, and computerised data or files which are in the nature of national defence secrets and the authorities in\\ncharge for the specification of the means to ensure their protection.\\nARTICLE 413-10\\n(Ordinance no. 2000-916 of 19 September 2000 Article 3 Official Journal of 22 September 2000 in force 1 January\\n2002)\\n\\u00a0\\u00a0\\u00a0\\u00a0\\u00a0\\u00a0\\u00a0A penalty of seven years' imprisonment and a fine of \\u20ac100,000 applies to the destruction, misappropriation, theft or\\nduplication, as well as to the communication to the public or to an unauthorised person, by any person holding such a\\nconfidential information because of his position or occupation or any permanent or temporary mission, of any\\ninformation, process, article, document, or computerised data or file which is a national defence secret. \\n\\u00a0\\u00a0\\u00a0\\u00a0\\u00a0\\u00a0\\u00a0The same penalties apply to the holder who permits the destruction, misappropriation, removal, duplication or\\nrevelation of any information, process, article, document, computerised data or file referred to under the previous\\nparagraph.\\n\\u00a0\\u00a0\\u00a0\\u00a0\\u00a0\\u00a0\\u00a0Where the holder has behaved negligently or recklessly, the offence is punished by three years' imprisonment and a\\nfine of \\u20ac45,000.\\nARTICLE 413-11\\n(Ordinance no. 2000-916 of 19 September 2000 Article 3 Official Journal of 22 September 2000 in force 1 January\\n2002)\"\n",
      "          }\n",
      "     },\n",
      "     {\n",
      "          \"type\": \"AzureSearchDoc\",\n",
      "          \"id\": \"5\",\n",
      "          \"activity_source\": 2,\n",
      "          \"doc_key\": \"doc_055_01\",\n",
      "          \"source_data\": {\n",
      "               \"id\": \"doc_055_01\",\n",
      "               \"text\": \"PENAL CODE\\n\\u00a0\\u00a0\\u00a0\\u00a0\\u00a0\\u00a0\\u00a0Any violation of the physical integrity of a corpse, by any means, is punished by one year's imprisonment and a fine\\nof \\u20ac15,000.\\n\\u00a0\\u00a0\\u00a0\\u00a0\\u00a0\\u00a0\\u00a0The violation or desecration of tombs, burials grounds or monuments erected to the memory of the dead, committed\\nby any means, is punished by one year's imprisonment and a fine of \\u20ac15,000.\\n\\u00a0\\u00a0\\u00a0\\u00a0\\u00a0\\u00a0\\u00a0The penalty is increased to two years' imprisonment and to a fine of \\u20ac30,000 where the offences defined under the\\nprevious paragraph were accompanied by a violation of the physical integrity of the corpse.\\nARTICLE 225-18\\n(Ordinance No. 2000-916 of 19 September 2000 Article 3 Official Journal of 22 September into force 1 January 2002)\\n\\u00a0\\u00a0\\u00a0\\u00a0\\u00a0\\u00a0\\u00a0Where the offences defined under the previous article were committed by reason of the membership or\\nnon-membership, true or supposed, of the deceased persons to any given ethnic group, nation, race or religion,\\npenalties are increased to three years' imprisonment and to a fine of \\u20ac45,000 in for the offences defined under the first\\ntwo paragraphs of article 225-17 and to five years' imprisonment and to a fine of \\u20ac75,000 in relation to the offence\\ndefined by the last paragraph of that article.\\nARTICLE 225-18-1\\n(Inserted by Act no. 2001-504 of 12 June 2001 Article 11 Official Journal of 13 June 2001)\\n\\u00a0\\u00a0\\u00a0\\u00a0\\u00a0\\u00a0\\u00a0Legal persons may incur criminal liability for the offence defined under article 225-17 and 225-18, pursuant to the\\nconditions set out under article 121-2. \\n\\u00a0\\u00a0\\u00a0\\u00a0\\u00a0\\u00a0\\u00a0The penalties incurred by legal persons are:\\n\\u00a0\\u00a0\\u00a0\\u00a0\\u00a0\\u00a0\\u00a01\\u00b0 a fine, pursuant to the conditions set out under article 131-38;\\n\\u00a0\\u00a0\\u00a0\\u00a0\\u00a0\\u00a0\\u00a02\\u00b0 the penalties enumerated under 2\\u00b0 to 9\\u00b0 of article 131-39;\\n\\u00a0\\u00a0\\u00a0\\u00a0\\u00a0\\u00a0\\u00a03\\u00b0 the penalty referred to under 1\\u00b0 of article 131-39 for the offences referred to under article 225-18.\\n\\u00a0\\u00a0\\u00a0\\u00a0\\u00a0\\u00a0\\u00a0The prohibition referred to in 2\\u00b0 of article 131-39 applies to the activity in the exercise of which or on the occasion of\\nthe exercise of which the offence was committed.\\n                                SECTION V\"\n",
      "          }\n",
      "     },\n",
      "     {\n",
      "          \"type\": \"AzureSearchDoc\",\n",
      "          \"id\": \"7\",\n",
      "          \"activity_source\": 2,\n",
      "          \"doc_key\": \"doc_030_02\",\n",
      "          \"source_data\": {\n",
      "               \"id\": \"doc_030_02\",\n",
      "               \"text\": \"mission or against a health professional in the exercise of his duties, where the status of the victim is apparent or known\\nto the perpetrator;\\n\\u00a0\\u00a0\\u00a0\\u00a0\\u00a0\\u00a0\\u00a05\\u00b0 against a witness, a victim or civil party, either to prevent him from denouncing the action, filing a complaint or\\nmaking a statement before a court, or because of his report, complaint or statement;\\n\\u00a0\\u00a0\\u00a0\\u00a0\\u00a0\\u00a0\\u00a06\\u00b0 because of the victim's actual or supposed membership or non-membership of a given ethnic group, nation, race\\nor religion;\\n\\u00a0\\u00a0\\u00a0\\u00a0\\u00a0\\u00a0\\u00a07\\u00b0 because of the sexual orientation of the victim;\\n\\u00a0\\u00a0\\u00a0\\u00a0\\u00a0\\u00a0\\u00a08\\u00b0 by several people acting as an organised gang.\\n\\u00a0\\u00a0\\u00a0\\u00a0\\u00a0\\u00a0\\u00a0The first two paragraphs of article 132-23 governing the safety period are applicable to the offences set out under\\nthe present article. Nevertheless, where the victim is a minor of fifteen years of age and the murder is preceded by or\\naccompanied by rape, torture or acts of barbarity, the Cour d'assises may by a special decision either increase the\\nsafety period to thirty years, or, where it orders life imprisonment, decide that none of the measures enumerated under\\narticle 132-23 shall be granted to the convicted person; where the penalty is commuted, and unless the decree of\\npardon otherwise provides, the safety period is then equal to the length of the sentence resulting from the pardon.\\nARTICLE 221-5\\n\\u00a0\\u00a0\\u00a0\\u00a0\\u00a0\\u00a0\\u00a0Making an attack against the life of another person by the use or administration of substances liable to cause death\\nconstitutes poisoning.\\n\\u00a0\\u00a0\\u00a0\\u00a0\\u00a0\\u00a0\\u00a0Poisoning is punished by thirty years' criminal imprisonment.\\n\\u00a0\\u00a0\\u00a0\\u00a0\\u00a0\\u00a0\\u00a0It is punished by criminal imprisonment for life where it is committed in any of the circumstances provided for by\\narticles 221-2, 221-3 and 221-4.\\n\\u00a0\\u00a0\\u00a0\\u00a0\\u00a0\\u00a0\\u00a0The first two paragraphs of article 132-23 governing the safety period apply to the offence under the present article.\\nARTICLE 221-5-1\\n(Act no. 2004-204 of 9 March 2004 article 6 II Official Journal of 10 March 2004)\"\n",
      "          }\n",
      "     }\n",
      "]\n"
     ]
    }
   ],
   "source": [
    "print(\"***** Results *****\")\n",
    "print(\"\\033[1;31;34m\")\n",
    "print(json.dumps([r.as_dict() for r in retrieval_result.references], indent=5))"
   ]
  },
  {
   "cell_type": "code",
   "execution_count": 24,
   "id": "7116a313-769b-40f6-9c54-62d0a15020ca",
   "metadata": {},
   "outputs": [
    {
     "name": "stdout",
     "output_type": "stream",
     "text": [
      "Sources:\n",
      "\u001b[1;31;34m\n",
      "Page = 029 chunk page: 02\n",
      "Page = 030 chunk page: 01\n",
      "Page = 030 chunk page: 02\n",
      "Page = 055 chunk page: 01\n",
      "Page = 067 chunk page: 01\n",
      "Page = 067 chunk page: 02\n",
      "Page = 067 chunk page: 03\n",
      "Page = 068 chunk page: 01\n",
      "Page = 068 chunk page: 02\n",
      "Page = 087 chunk page: 01\n"
     ]
    }
   ],
   "source": [
    "data = [r.as_dict() for r in retrieval_result.references]\n",
    "sorted_data = sorted(data, key=lambda x: x[\"doc_key\"])\n",
    "print(\"Sources:\")\n",
    "print(\"\\033[1;31;34m\")\n",
    "\n",
    "for item in sorted_data:\n",
    "    source = item[\"doc_key\"].split(\"_\")\n",
    "    page = source[1]\n",
    "    print(f\"Page = {source[1]} chunk page: {source[2]}\")"
   ]
  },
  {
   "cell_type": "markdown",
   "id": "e200bc2a",
   "metadata": {},
   "source": [
    "### Use the Responses API to generate an answer\n",
    "https://learn.microsoft.com/en-us/azure/ai-services/openai/how-to/responses?tabs=python-secure"
   ]
  },
  {
   "cell_type": "code",
   "execution_count": 25,
   "id": "b2dea5c2",
   "metadata": {},
   "outputs": [
    {
     "name": "stdout",
     "output_type": "stream",
     "text": [
      "\u001b[1;31;34m\n",
      "The penalties for theft vary depending on the circumstances:\n",
      "\n",
      "- Simple theft is punished by three years' imprisonment and a fine of €45,000 (Article 311-3).\n",
      "- Theft committed by two or more people as perpetrators or accomplices is punished by five years' imprisonment and a fine of €75,000 (Article 311-4).\n",
      "- Theft preceded, accompanied, or followed by acts of violence causing a maximum total incapacity to work of eight days is punished by seven years' imprisonment and a fine of €100,000 (Article 311-5).\n",
      "- Theft preceded, accompanied, or followed by acts of violence causing a total incapacity to work of more than eight days is punished by ten years' imprisonment and a fine of €150,000 (Article 311-6).\n",
      "- Theft preceded, accompanied, or followed by acts of violence causing mutilation or permanent disability is punished by fifteen years' criminal imprisonment and a fine of €150,000 (Article 311-7).\n",
      "- Theft committed with the use or threatened use of a weapon is punished by twenty years' criminal imprisonment and a fine of €150,000 (Article 311-8).\n",
      "- Theft committed by an organised gang is punished by fifteen years' criminal imprisonment and a fine of €150,000; if accompanied by violence, it is punished by twenty years' criminal imprisonment and a fine of €150,000; and if committed with the use or threatened use of a weapon, it is punished by thirty years' criminal imprisonment and a fine of €150,000 (Article 311-9).\n",
      "- Theft preceded, accompanied or followed by violence causing death or acts of torture or barbarity is punished by criminal imprisonment for life and a fine of €150,000 (Article 311-10).\n",
      "\n",
      "Regarding murder:\n",
      "- Murder (willful causing of death) is punished with thirty years' criminal imprisonment (Article 221-1).\n",
      "- Murder which precedes, accompanies, or follows another felony, or intended to prepare or facilitate a misdemeanour or assist escape or impunity, is punished by criminal imprisonment for life (Article 221-2).\n",
      "- Murder committed with premeditation (assassination) is punished by criminal imprisonment for life (Article 221-3).\n",
      "- Murder under specific aggravating circumstances (such as against minors under 15 years, vulnerable persons, public officials in exercise of their duties, etc.) is punished by criminal imprisonment for life (Act no. 2003-88).\n",
      "\n",
      "For identity theft, the provided documents do not specify the penalties for identity theft.\n",
      "\n",
      "Note: This answer was generated by an AI.\n"
     ]
    }
   ],
   "source": [
    "response = aoai_client.responses.create(\n",
    "    model=aoai_gpt_deployment,\n",
    "    input=messages,\n",
    "    temperature=0.7,\n",
    ")\n",
    "\n",
    "print(\"\\033[1;31;34m\")\n",
    "print(response.output_text)"
   ]
  },
  {
   "cell_type": "code",
   "execution_count": 26,
   "id": "b19a0686-0d77-4849-914d-af906897dc11",
   "metadata": {},
   "outputs": [
    {
     "data": {
      "text/plain": [
       "Response(id='resp_683d5c6e799481908c2d0bacd6a1718d0a0882e8cb9726e3', created_at=1748851822.0, error=None, incomplete_details=None, instructions=None, metadata={}, model='gpt-4.1-mini', object='response', output=[ResponseOutputMessage(id='msg_683d5c711cdc8190bca898549a3e25250a0882e8cb9726e3', content=[ResponseOutputText(annotations=[], text=\"The penalties for theft vary depending on the circumstances:\\n\\n- Simple theft is punished by three years' imprisonment and a fine of €45,000 (Article 311-3).\\n- Theft committed by two or more people as perpetrators or accomplices is punished by five years' imprisonment and a fine of €75,000 (Article 311-4).\\n- Theft preceded, accompanied, or followed by acts of violence causing a maximum total incapacity to work of eight days is punished by seven years' imprisonment and a fine of €100,000 (Article 311-5).\\n- Theft preceded, accompanied, or followed by acts of violence causing a total incapacity to work of more than eight days is punished by ten years' imprisonment and a fine of €150,000 (Article 311-6).\\n- Theft preceded, accompanied, or followed by acts of violence causing mutilation or permanent disability is punished by fifteen years' criminal imprisonment and a fine of €150,000 (Article 311-7).\\n- Theft committed with the use or threatened use of a weapon is punished by twenty years' criminal imprisonment and a fine of €150,000 (Article 311-8).\\n- Theft committed by an organised gang is punished by fifteen years' criminal imprisonment and a fine of €150,000; if accompanied by violence, it is punished by twenty years' criminal imprisonment and a fine of €150,000; and if committed with the use or threatened use of a weapon, it is punished by thirty years' criminal imprisonment and a fine of €150,000 (Article 311-9).\\n- Theft preceded, accompanied or followed by violence causing death or acts of torture or barbarity is punished by criminal imprisonment for life and a fine of €150,000 (Article 311-10).\\n\\nRegarding murder:\\n- Murder (willful causing of death) is punished with thirty years' criminal imprisonment (Article 221-1).\\n- Murder which precedes, accompanies, or follows another felony, or intended to prepare or facilitate a misdemeanour or assist escape or impunity, is punished by criminal imprisonment for life (Article 221-2).\\n- Murder committed with premeditation (assassination) is punished by criminal imprisonment for life (Article 221-3).\\n- Murder under specific aggravating circumstances (such as against minors under 15 years, vulnerable persons, public officials in exercise of their duties, etc.) is punished by criminal imprisonment for life (Act no. 2003-88).\\n\\nFor identity theft, the provided documents do not specify the penalties for identity theft.\\n\\nNote: This answer was generated by an AI.\", type='output_text')], role='assistant', status='completed', type='message')], parallel_tool_calls=True, temperature=0.7, tool_choice='auto', tools=[], top_p=1.0, background=None, max_output_tokens=None, previous_response_id=None, reasoning=Reasoning(effort=None, generate_summary=None, summary=None), service_tier='default', status='completed', text=ResponseTextConfig(format=ResponseFormatText(type='text')), truncation='disabled', usage=ResponseUsage(input_tokens=4634, input_tokens_details=InputTokensDetails(cached_tokens=0), output_tokens=532, output_tokens_details=OutputTokensDetails(reasoning_tokens=0), total_tokens=5166), user=None, store=True)"
      ]
     },
     "execution_count": 26,
     "metadata": {},
     "output_type": "execute_result"
    }
   ],
   "source": [
    "response"
   ]
  },
  {
   "cell_type": "code",
   "execution_count": 27,
   "id": "0df9ccc1-9004-4f8b-a4ae-50e2d8dbd198",
   "metadata": {},
   "outputs": [
    {
     "data": {
      "text/plain": [
       "'gpt-4.1-mini'"
      ]
     },
     "execution_count": 27,
     "metadata": {},
     "output_type": "execute_result"
    }
   ],
   "source": [
    "response.model"
   ]
  },
  {
   "cell_type": "code",
   "execution_count": 28,
   "id": "8fd24a0e-708b-4a99-888a-2312d162bdfe",
   "metadata": {},
   "outputs": [
    {
     "data": {
      "text/plain": [
       "ResponseUsage(input_tokens=4634, input_tokens_details=InputTokensDetails(cached_tokens=0), output_tokens=532, output_tokens_details=OutputTokensDetails(reasoning_tokens=0), total_tokens=5166)"
      ]
     },
     "execution_count": 28,
     "metadata": {},
     "output_type": "execute_result"
    }
   ],
   "source": [
    "response.usage"
   ]
  },
  {
   "cell_type": "markdown",
   "id": "bb96436b",
   "metadata": {},
   "source": [
    "## Continue the conversation\n",
    "\n",
    "This step continues the conversation with the search agent, building upon the previous messages and queries to retrieve relevant information from your search index."
   ]
  },
  {
   "cell_type": "code",
   "execution_count": 29,
   "id": "7034e480",
   "metadata": {},
   "outputs": [],
   "source": [
    "messages.append({\n",
    "    \"role\": \"user\",\n",
    "    \"content\": \"What are the potential imprisonment consequences for a driver who unintentionally causes a personal injury that results in the victim being unable to work for four months?\"\n",
    "})\n",
    "\n",
    "retrieval_result = agent_client.retrieve(\n",
    "    retrieval_request=KnowledgeAgentRetrievalRequest(\n",
    "        messages=[\n",
    "            KnowledgeAgentMessage(role=msg[\"role\"],\n",
    "                                  content=[\n",
    "                                      KnowledgeAgentMessageTextContent(\n",
    "                                          text=msg[\"content\"])\n",
    "                                  ]) for msg in messages\n",
    "            if msg[\"role\"] != \"system\"\n",
    "        ],\n",
    "        target_index_params=[\n",
    "            KnowledgeAgentIndexParams(index_name=index_name,\n",
    "                                      reranker_threshold=2.5)\n",
    "        ]))\n",
    "\n",
    "messages.append({\n",
    "    \"role\": \"assistant\",\n",
    "    \"content\": retrieval_result.response[0].content[0].text\n",
    "})"
   ]
  },
  {
   "cell_type": "markdown",
   "id": "fd1cba0c",
   "metadata": {},
   "source": [
    "### Review the retrieval response, activity, and results"
   ]
  },
  {
   "cell_type": "code",
   "execution_count": 30,
   "id": "35a1bfcb",
   "metadata": {},
   "outputs": [
    {
     "name": "stdout",
     "output_type": "stream",
     "text": [
      "***** Response *****\n",
      "\u001b[1;31;34m\n",
      "[{\"ref_id\":0,\"content\":\"mission or against a health professional in the exercise of his duties, where the status of the victim is apparent or known\\nto the perpetrator;\\n       5° against a witness, a victim or civil party, either to prevent him from denouncing the action, filing a complaint or\\nmaking a statement before a court, or because of his denunciation, complaint or statement;\\n       5°bis because of the victim's actual or supposed membership or non-membership of a given ethnic group, nation,\\nrace or religion;\\n       5°ter because of the sexual orientation of the victim;\\n       6° by the spouse or cohabitee of the victim;\\n       7° by a person holding public authority or discharging a public service mission, in the exercise or at the occasion of\\nthe exercise of the functions or mission;\\n       8° by two or more acting as perpetrators or accomplices;\\n       9° with premeditation;\\n       10° with the use or threatened use of a weapon.\\n       11° where the acts were committed within a school or educational institution, or, when students are entering or\\nleaving, outside such an institution;\\n       12° by an adult acting with the assistance of a minor;\\n       13° on public transport or within the premises designed for accessing such means of transport.\\n       The penalties incurred are increased to five years' imprisonment and to a fine of €75,000 where the offence defined\\nunder the first paragraph is committed against a minor under the age of fifteen years by a legitimate, natural or adoptive\\nascendant or by any other person having authority over the minor. The penalty is also increased to five years'\\nimprisonment and a fine of €75,000 where the offence brings about a total incapacity to work of eight days or less, and\\nis committed in two of the circumstances enumerated under 1° onwards of the present article. The penalty is increased\\nto seven years' imprisonment and a fine of €100,000 where it is committed in three of these circumstances.\\nARTICLE 222-14\"},{\"ref_id\":1,\"content\":\"PENAL CODE\\ngreater than the limits fixed by the legislative or statutory provisions of the Traffic Code, or where he refuses to take the\\ntests provided for by the Code and designed to establish the existence of an alcoholic state;\\n       3º a blood test shows that the driver had used substances or plants classified as drugs, or where the driver refused\\nto take the tests provided for by the Traffic Code that are designed to establish whether he was driving under the\\ninfluence of drugs;\\n       4º the driver does not hold a valid driving licence as required by law, or his licence has been annulled, invalidated,\\nsuspended or revoked;\\n       5º the driver has exceeded the maximum speed limit by 50 km/h or more;\\n       6º the driver, knowing that he had caused or brought about an accident, did not stop and so tried to escape any\\ncriminal or civil responsibility that he might incur.\\n       The penalties are increased to five years' imprisonment and to a fine of €75,000 where the unintended personal\\ninjury is committed with two or more of the circumstances listed in 1º onwards of the present article.\\n                                SECTION III\\n                                SEXUAL AGGRESSIONS - COMMON PROVISIONS Articles 222-23 to\\n222-22\\nARTICLE 222-22\\n(Act no. 1998-468 of 17 June 1998 Article 19 Official Journal of 18 June 1998)\\n       Sexual aggression is any sexual assault committed with violence, constraint, threat or surprise.\\n       Where a sexual aggression was committed abroad against a minor by a French national or a person habitually\\nresident in France, French law applies notwithstanding the second paragraph of article 113-6 and the provisions of the\\nsecond sentence of article 113-8 are not applicable.\\n                                        Paragraph 1\\n                                        Rape Articles 222-23 to\\n222-26\\nARTICLE 222-23\\n       Any act of sexual penetration, whatever its nature, committed against another person by violence, constraint, threat\"},{\"ref_id\":2,\"content\":\"(Act no. 2003-88 of 3 February 2003 Article 7 Official Journal of 4 February 2003)\\n(Act no. 2003-239 of 18 March 2003 Article 47 VII, Article 60 I, Article 78 I, II Official Journal of 19 March 2003)\\n       Acts of violence causing an incapacity to work of eight days or less or causing no incapacity to work are punished\\nby three years' imprisonment and a fine of €45,000 where they are committed:\\n       1° against a minor under fifteen years of age;\\n       2° against a person whose particular vulnerability, due to age, sickness or infirmity, to a physical or psychological\\ndisability, or to pregnancy, is apparent or known to the perpetrator;\\n       3° against a natural or legitimate ascendant or the adoptive father or mother;\\n       4° against a judge or prosecutor, a juror, an advocate, a legal professional officer or a public officer, a member of\\nthe gendarmerie, a civil servant of the national police, customs, the penitentiary administration or against any other\\nperson holding public authority or discharging a public service mission, a fireman (whether professional or volunteer),\\nthe accredited warden of a building or group of buildings or an agent carrying out on behalf of the tenant the duty of\\ncaring for or watching an inhabited building in pursuance of article L. 127.1 of the Code of Construction and Habitation,\\nin the exercise or on account of his functions or mission, when the status of the victim is known or apparent to the\\nperpetrator;\\n       4°bis against the spouse, the ascendants and direct descendants of the persons mentioned in 4° or against any\\nother person who habitually resides in their home, because of the duties carried out by these persons;\\n       4°ter against a person employed by a public transport network or any other person carrying out a public service\\nmission or against a health professional in the exercise of his duties, where the status of the victim is apparent or known\\nto the perpetrator;\"}]\n"
     ]
    }
   ],
   "source": [
    "print(\"***** Response *****\")\n",
    "print(\"\\033[1;31;34m\")\n",
    "print(retrieval_result.response[0].content[0].text)"
   ]
  },
  {
   "cell_type": "code",
   "execution_count": 31,
   "id": "124299ac-91cd-4e72-a49b-15c1ecc370d8",
   "metadata": {},
   "outputs": [
    {
     "name": "stdout",
     "output_type": "stream",
     "text": [
      "***** Activity *****\n",
      "\u001b[1;31;34m\n",
      "[\n",
      "     {\n",
      "          \"id\": 0,\n",
      "          \"type\": \"ModelQueryPlanning\",\n",
      "          \"input_tokens\": 5793,\n",
      "          \"output_tokens\": 240\n",
      "     },\n",
      "     {\n",
      "          \"id\": 1,\n",
      "          \"type\": \"AzureSearchQuery\",\n",
      "          \"target_index\": \"agent-rag-index-demo\",\n",
      "          \"query\": {\n",
      "               \"search\": \"Imprisonment penalties for unintentional personal injury causing four months incapacity to work\"\n",
      "          },\n",
      "          \"query_time\": \"2025-06-02T08:11:24.024Z\",\n",
      "          \"count\": 3,\n",
      "          \"elapsed_ms\": 5943\n",
      "     },\n",
      "     {\n",
      "          \"id\": 2,\n",
      "          \"type\": \"AzureSearchSemanticRanker\",\n",
      "          \"input_tokens\": 23189\n",
      "     }\n",
      "]\n"
     ]
    }
   ],
   "source": [
    "print(\"***** Activity *****\")\n",
    "print(\"\\033[1;31;34m\")\n",
    "print(json.dumps([a.as_dict() for a in retrieval_result.activity], indent=5))"
   ]
  },
  {
   "cell_type": "code",
   "execution_count": 32,
   "id": "6f74c2c3",
   "metadata": {},
   "outputs": [
    {
     "name": "stdout",
     "output_type": "stream",
     "text": [
      "***** Results *****\n",
      "\u001b[1;31;34m\n",
      "[\n",
      "     {\n",
      "          \"type\": \"AzureSearchDoc\",\n",
      "          \"id\": \"0\",\n",
      "          \"activity_source\": 1,\n",
      "          \"doc_key\": \"doc_036_03\",\n",
      "          \"source_data\": {\n",
      "               \"id\": \"doc_036_03\",\n",
      "               \"text\": \"mission or against a health professional in the exercise of his duties, where the status of the victim is apparent or known\\nto the perpetrator;\\n\\u00a0\\u00a0\\u00a0\\u00a0\\u00a0\\u00a0\\u00a05\\u00b0 against a witness, a victim or civil party, either to prevent him from denouncing the action, filing a complaint or\\nmaking a statement before a court, or because of his denunciation, complaint or statement;\\n\\u00a0\\u00a0\\u00a0\\u00a0\\u00a0\\u00a0\\u00a05\\u00b0bis because of the victim's actual or supposed membership or non-membership of a given ethnic group, nation,\\nrace or religion;\\n\\u00a0\\u00a0\\u00a0\\u00a0\\u00a0\\u00a0\\u00a05\\u00b0ter because of the sexual orientation of the victim;\\n\\u00a0\\u00a0\\u00a0\\u00a0\\u00a0\\u00a0\\u00a06\\u00b0 by the spouse or cohabitee of the victim;\\n\\u00a0\\u00a0\\u00a0\\u00a0\\u00a0\\u00a0\\u00a07\\u00b0 by a person holding public authority or discharging a public service mission, in the exercise or at the occasion of\\nthe exercise of the functions or mission;\\n\\u00a0\\u00a0\\u00a0\\u00a0\\u00a0\\u00a0\\u00a08\\u00b0 by two or more acting as perpetrators or accomplices;\\n\\u00a0\\u00a0\\u00a0\\u00a0\\u00a0\\u00a0\\u00a09\\u00b0 with premeditation;\\n\\u00a0\\u00a0\\u00a0\\u00a0\\u00a0\\u00a0\\u00a010\\u00b0 with the use or threatened use of a weapon.\\n\\u00a0\\u00a0\\u00a0\\u00a0\\u00a0\\u00a0\\u00a011\\u00b0 where the acts were committed within a school or educational institution, or, when students are entering or\\nleaving, outside such an institution;\\n\\u00a0\\u00a0\\u00a0\\u00a0\\u00a0\\u00a0\\u00a012\\u00b0 by an adult acting with the assistance of a minor;\\n\\u00a0\\u00a0\\u00a0\\u00a0\\u00a0\\u00a0\\u00a013\\u00b0 on public transport or within the premises designed for accessing such means of transport.\\n\\u00a0\\u00a0\\u00a0\\u00a0\\u00a0\\u00a0\\u00a0The penalties incurred are increased to five years' imprisonment and to a fine of \\u20ac75,000 where the offence defined\\nunder the first paragraph is committed against a minor under the age of fifteen years by a legitimate, natural or adoptive\\nascendant or by any other person having authority over the minor. The penalty is also increased to five years'\\nimprisonment and a fine of \\u20ac75,000 where the offence brings about a total incapacity to work of eight days or less, and\\nis committed in two of the circumstances enumerated under 1\\u00b0 onwards of the present article. The penalty is increased\\nto seven years' imprisonment and a fine of \\u20ac100,000 where it is committed in three of these circumstances.\\nARTICLE 222-14\"\n",
      "          }\n",
      "     },\n",
      "     {\n",
      "          \"type\": \"AzureSearchDoc\",\n",
      "          \"id\": \"1\",\n",
      "          \"activity_source\": 1,\n",
      "          \"doc_key\": \"doc_039_01\",\n",
      "          \"source_data\": {\n",
      "               \"id\": \"doc_039_01\",\n",
      "               \"text\": \"PENAL CODE\\ngreater than the limits fixed by the legislative or statutory provisions of the Traffic Code, or where he refuses to take the\\ntests provided for by the Code and designed to establish the existence of an alcoholic state;\\n\\u00a0\\u00a0\\u00a0\\u00a0\\u00a0\\u00a0\\u00a03\\u00ba a blood test shows that the driver had used substances or plants classified as drugs, or where the driver refused\\nto take the tests provided for by the Traffic Code that are designed to establish whether he was driving under the\\ninfluence of drugs;\\n\\u00a0\\u00a0\\u00a0\\u00a0\\u00a0\\u00a0\\u00a04\\u00ba the driver does not hold a valid driving licence as required by law, or his licence has been annulled, invalidated,\\nsuspended or revoked;\\n\\u00a0\\u00a0\\u00a0\\u00a0\\u00a0\\u00a0\\u00a05\\u00ba the driver has exceeded the maximum speed limit by 50 km/h or more;\\n\\u00a0\\u00a0\\u00a0\\u00a0\\u00a0\\u00a0\\u00a06\\u00ba the driver, knowing that he had caused or brought about an accident, did not stop and so tried to escape any\\ncriminal or civil responsibility that he might incur.\\n\\u00a0\\u00a0\\u00a0\\u00a0\\u00a0\\u00a0\\u00a0The penalties are increased to five years' imprisonment and to a fine of \\u20ac75,000 where the unintended personal\\ninjury is committed with two or more of the circumstances listed in 1\\u00ba onwards of the present article.\\n                                SECTION III\\n                                SEXUAL AGGRESSIONS - COMMON PROVISIONS Articles 222-23 to\\n222-22\\nARTICLE 222-22\\n(Act no. 1998-468 of 17 June 1998 Article 19 Official Journal of 18 June 1998)\\n\\u00a0\\u00a0\\u00a0\\u00a0\\u00a0\\u00a0\\u00a0Sexual aggression is any sexual assault committed with violence, constraint, threat or surprise.\\n\\u00a0\\u00a0\\u00a0\\u00a0\\u00a0\\u00a0\\u00a0Where a sexual aggression was committed abroad against a minor by a French national or a person habitually\\nresident in France, French law applies notwithstanding the second paragraph of article 113-6 and the provisions of the\\nsecond sentence of article 113-8 are not applicable.\\n                                        Paragraph 1\\n                                        Rape Articles 222-23 to\\n222-26\\nARTICLE 222-23\\n\\u00a0\\u00a0\\u00a0\\u00a0\\u00a0\\u00a0\\u00a0Any act of sexual penetration, whatever its nature, committed against another person by violence, constraint, threat\"\n",
      "          }\n",
      "     },\n",
      "     {\n",
      "          \"type\": \"AzureSearchDoc\",\n",
      "          \"id\": \"2\",\n",
      "          \"activity_source\": 1,\n",
      "          \"doc_key\": \"doc_036_02\",\n",
      "          \"source_data\": {\n",
      "               \"id\": \"doc_036_02\",\n",
      "               \"text\": \"(Act no. 2003-88 of 3 February 2003 Article 7 Official Journal of 4 February 2003)\\n(Act no. 2003-239 of 18 March 2003 Article 47 VII, Article 60 I, Article 78 I, II Official Journal of 19 March 2003)\\n\\u00a0\\u00a0\\u00a0\\u00a0\\u00a0\\u00a0\\u00a0Acts of violence causing an incapacity to work of eight days or less or causing no incapacity to work are punished\\nby three years' imprisonment and a fine of \\u20ac45,000 where they are committed:\\n\\u00a0\\u00a0\\u00a0\\u00a0\\u00a0\\u00a0\\u00a01\\u00b0 against a minor under fifteen years of age;\\n\\u00a0\\u00a0\\u00a0\\u00a0\\u00a0\\u00a0\\u00a02\\u00b0 against a person whose particular vulnerability, due to age, sickness or infirmity, to a physical or psychological\\ndisability, or to pregnancy, is apparent or known to the perpetrator;\\n\\u00a0\\u00a0\\u00a0\\u00a0\\u00a0\\u00a0\\u00a03\\u00b0 against a natural or legitimate ascendant or the adoptive father or mother;\\n\\u00a0\\u00a0\\u00a0\\u00a0\\u00a0\\u00a0\\u00a04\\u00b0 against a judge or prosecutor, a juror, an advocate, a legal professional officer or a public officer, a member of\\nthe gendarmerie, a civil servant of the national police, customs, the penitentiary administration or against any other\\nperson holding public authority or discharging a public service mission, a fireman (whether professional or volunteer),\\nthe accredited warden of a building or group of buildings or an agent carrying out on behalf of the tenant the duty of\\ncaring for or watching an inhabited building in pursuance of article L. 127.1 of the Code of Construction and Habitation,\\nin the exercise or on account of his functions or mission, when the status of the victim is known or apparent to the\\nperpetrator;\\n\\u00a0\\u00a0\\u00a0\\u00a0\\u00a0\\u00a0\\u00a04\\u00b0bis against the spouse, the ascendants and direct descendants of the persons mentioned in 4\\u00b0 or against any\\nother person who habitually resides in their home, because of the duties carried out by these persons;\\n\\u00a0\\u00a0\\u00a0\\u00a0\\u00a0\\u00a0\\u00a04\\u00b0ter against a person employed by a public transport network or any other person carrying out a public service\\nmission or against a health professional in the exercise of his duties, where the status of the victim is apparent or known\\nto the perpetrator;\"\n",
      "          }\n",
      "     }\n",
      "]\n"
     ]
    }
   ],
   "source": [
    "print(\"***** Results *****\")\n",
    "print(\"\\033[1;31;34m\")\n",
    "print(json.dumps([r.as_dict() for r in retrieval_result.references], indent=5))"
   ]
  },
  {
   "cell_type": "code",
   "execution_count": 33,
   "id": "161a40c8-d61c-47dc-bb72-4cf7ce87b389",
   "metadata": {},
   "outputs": [
    {
     "name": "stdout",
     "output_type": "stream",
     "text": [
      "Sources:\n",
      "\u001b[1;31;34m\n",
      "Page = 036 chunk page: 02\n",
      "Page = 036 chunk page: 03\n",
      "Page = 039 chunk page: 01\n"
     ]
    }
   ],
   "source": [
    "data = [r.as_dict() for r in retrieval_result.references]\n",
    "sorted_data = sorted(data, key=lambda x: x[\"doc_key\"])\n",
    "print(\"Sources:\")\n",
    "print(\"\\033[1;31;34m\")\n",
    "\n",
    "for item in sorted_data:\n",
    "    source = item[\"doc_key\"].split(\"_\")\n",
    "    page = source[1]\n",
    "    print(f\"Page = {source[1]} chunk page: {source[2]}\")"
   ]
  },
  {
   "cell_type": "markdown",
   "id": "cd7d32cc",
   "metadata": {},
   "source": [
    "## Generate answer"
   ]
  },
  {
   "cell_type": "code",
   "execution_count": 34,
   "id": "a6486c8a",
   "metadata": {},
   "outputs": [
    {
     "name": "stdout",
     "output_type": "stream",
     "text": [
      "\u001b[1;31;34m\n",
      "The penalties for a driver who unintentionally causes a personal injury that results in the victim being unable to work for four months are not explicitly stated for that exact duration in the provided excerpts. However, based on the information about acts of violence causing incapacity to work, the following can be inferred:\n",
      "\n",
      "- Acts of violence causing an incapacity to work of eight days or less, or causing no incapacity to work, are punished by three years' imprisonment and a fine of €45,000 under certain conditions (e.g., against vulnerable persons or public officials) [ref_id: 2].\n",
      "- The penalties are increased to five years' imprisonment and a fine of €75,000 where the unintended personal injury is committed with two or more aggravating circumstances (such as driving under the influence, excessive speed, or lack of valid license) [ref_id: 1].\n",
      "\n",
      "Since the injury in question results in a total incapacity to work for four months (which is more than eight days), the applicable penalties would likely be more severe than three years' imprisonment, but the exact penalty for this specific case is not detailed in the provided text.\n",
      "\n",
      "Therefore, without specific provisions for injuries causing incapacity to work for more than eight days but less than four months, I DO NOT KNOW the precise imprisonment consequences.\n",
      "\n",
      "Note: This answer was generated by an AI.\n"
     ]
    }
   ],
   "source": [
    "response = aoai_client.responses.create(model=aoai_gpt_deployment,\n",
    "                                        temperature=0.7,\n",
    "                                        top_p=0.95,\n",
    "                                        input=messages)\n",
    "\n",
    "print(\"\\033[1;31;34m\")\n",
    "print(response.output_text)"
   ]
  },
  {
   "cell_type": "code",
   "execution_count": 35,
   "id": "067c2939-800f-47ca-855f-4232adc5e946",
   "metadata": {},
   "outputs": [
    {
     "data": {
      "text/plain": [
       "ResponseUsage(input_tokens=6067, input_tokens_details=InputTokensDetails(cached_tokens=0), output_tokens=272, output_tokens_details=OutputTokensDetails(reasoning_tokens=0), total_tokens=6339)"
      ]
     },
     "execution_count": 35,
     "metadata": {},
     "output_type": "execute_result"
    }
   ],
   "source": [
    "response.usage"
   ]
  },
  {
   "cell_type": "markdown",
   "id": "2bd96327-46f1-49df-8fc5-3470a7d31725",
   "metadata": {},
   "source": [
    "## Another examples"
   ]
  },
  {
   "cell_type": "code",
   "execution_count": 36,
   "id": "3eddf7b4-1a23-4cdf-b02e-bd6922517ca6",
   "metadata": {},
   "outputs": [],
   "source": [
    "messages.append({\n",
    "    \"role\": \"user\",\n",
    "    \"content\": \"What is article 313-8?\"\n",
    "})\n",
    "\n",
    "retrieval_result = agent_client.retrieve(\n",
    "    retrieval_request=KnowledgeAgentRetrievalRequest(\n",
    "        messages=[\n",
    "            KnowledgeAgentMessage(role=msg[\"role\"],\n",
    "                                  content=[\n",
    "                                      KnowledgeAgentMessageTextContent(\n",
    "                                          text=msg[\"content\"])\n",
    "                                  ]) for msg in messages\n",
    "            if msg[\"role\"] != \"system\"\n",
    "        ],\n",
    "        target_index_params=[\n",
    "            KnowledgeAgentIndexParams(index_name=index_name,\n",
    "                                      reranker_threshold=2.5)\n",
    "        ]))\n",
    "messages.append({\n",
    "    \"role\": \"assistant\",\n",
    "    \"content\": retrieval_result.response[0].content[0].text\n",
    "})"
   ]
  },
  {
   "cell_type": "code",
   "execution_count": 37,
   "id": "13740451-f481-4e79-bc71-368ebcdaade0",
   "metadata": {},
   "outputs": [
    {
     "name": "stdout",
     "output_type": "stream",
     "text": [
      "***** Activity *****\n",
      "\u001b[1;31;34m\n",
      "[\n",
      "     {\n",
      "          \"id\": 0,\n",
      "          \"type\": \"ModelQueryPlanning\",\n",
      "          \"input_tokens\": 7212,\n",
      "          \"output_tokens\": 149\n",
      "     },\n",
      "     {\n",
      "          \"id\": 1,\n",
      "          \"type\": \"AzureSearchQuery\",\n",
      "          \"target_index\": \"agent-rag-index-demo\",\n",
      "          \"query\": {\n",
      "               \"search\": \"Article 313-8 Penal Code\"\n",
      "          },\n",
      "          \"query_time\": \"2025-06-02T08:11:37.784Z\",\n",
      "          \"count\": 2,\n",
      "          \"elapsed_ms\": 209\n",
      "     },\n",
      "     {\n",
      "          \"id\": 2,\n",
      "          \"type\": \"AzureSearchSemanticRanker\",\n",
      "          \"input_tokens\": 24215\n",
      "     }\n",
      "]\n"
     ]
    }
   ],
   "source": [
    "print(\"***** Activity *****\")\n",
    "print(\"\\033[1;31;34m\")\n",
    "print(json.dumps([a.as_dict() for a in retrieval_result.activity], indent=5))"
   ]
  },
  {
   "cell_type": "code",
   "execution_count": 38,
   "id": "7dd7f9bd-9daf-4d0a-b2da-1c971017a008",
   "metadata": {},
   "outputs": [
    {
     "name": "stdout",
     "output_type": "stream",
     "text": [
      "***** Results *****\n",
      "\u001b[1;31;34m\n",
      "[\n",
      "     {\n",
      "          \"type\": \"AzureSearchDoc\",\n",
      "          \"id\": \"0\",\n",
      "          \"activity_source\": 1,\n",
      "          \"doc_key\": \"doc_073_01\",\n",
      "          \"source_data\": {\n",
      "               \"id\": \"doc_073_01\",\n",
      "               \"text\": \"PENAL CODE\\ncommitted, for a maximum period of five years;\\n\\u00a0\\u00a0\\u00a0\\u00a0\\u00a0\\u00a0\\u00a03\\u00b0 closure, for a maximum period of five years, of the business premises or of one or more of the premises of the\\nenterprise used to carry out the criminal behaviour;\\n\\u00a0\\u00a0\\u00a0\\u00a0\\u00a0\\u00a0\\u00a04\\u00b0 confiscation of the thing which was used or was intended for use in the commission of the offence or of the thing\\nwhich is the product of it, with the exception of articles subject to restitution;\\n\\u00a0\\u00a0\\u00a0\\u00a0\\u00a0\\u00a0\\u00a05\\u00b0 area banishment pursuant to the conditions set out under article 131-31;\\n\\u00a0\\u00a0\\u00a0\\u00a0\\u00a0\\u00a0\\u00a06\\u00b0 prohibition to draw cheques, except those allowing the withdrawal of funds by the drawer from the drawee or\\ncertified cheques, for a maximum period of five years;\\n\\u00a0\\u00a0\\u00a0\\u00a0\\u00a0\\u00a0\\u00a07\\u00b0 public display or dissemination of the decision in accordance with the conditions set out under article 131-35.\\nARTICLE 313-8\\n(Act no. 2003-239 of 18 March 2003 Art. 57 3\\u00b0 Official Journal of 19 March 2003)\\n\\u00a0\\u00a0\\u00a0\\u00a0\\u00a0\\u00a0\\u00a0Natural persons convicted of any of the misdemeanours referred to under articles 313-1, 313-2, 313-6 and 313-6-1\\nalso incur disqualification from public tenders for a maximum period of five years.\\nARTICLE 313-9\\n(Act no. 2001-504 of 12 June 2001 Article 21 Official Journal of 13 June 2001)\\n(Act no. 2003-239 of 18 March 2003 Art. 57 4\\u00b0 Official Journal of 19 March 2003)\\n\\u00a0\\u00a0\\u00a0\\u00a0\\u00a0\\u00a0\\u00a0Legal persons may incur criminal liability for the offences set out under articles 313-1 to 313-3 and 313-6-1, in\\naccordance with the conditions laid down under article 121-2. \\n\\u00a0\\u00a0\\u00a0\\u00a0\\u00a0\\u00a0\\u00a0The penalties incurred by legal persons are:\\n\\u00a0\\u00a0\\u00a0\\u00a0\\u00a0\\u00a0\\u00a01\\u00b0 a fine in the manner prescribed under article 131-38;\\n\\u00a0\\u00a0\\u00a0\\u00a0\\u00a0\\u00a0\\u00a02\\u00b0 the penalties referred to under article 131-39.\\n\\u00a0\\u00a0\\u00a0\\u00a0\\u00a0\\u00a0\\u00a0The prohibition referred to under 2\\u00b0 of article 131-39 applies to the activity in the course of which or on the occasion\\nof the performance of which the offence was committed.\\n                        CHAPTER IV\\n                        OF MISAPPROPRIATION Articles 314-1 to 314-13\\n                                SECTION I\"\n",
      "          }\n",
      "     },\n",
      "     {\n",
      "          \"type\": \"AzureSearchDoc\",\n",
      "          \"id\": \"1\",\n",
      "          \"activity_source\": 1,\n",
      "          \"doc_key\": \"doc_072_02\",\n",
      "          \"source_data\": {\n",
      "               \"id\": \"doc_072_02\",\n",
      "               \"text\": \"does not exceed ten days;\\n\\u00a0\\u00a0\\u00a0\\u00a0\\u00a0\\u00a0\\u00a03\\u00b0 orders fuel or lubricants with which he has the tanks of a vehicle partly or completely filled by a professional\\ndistributor;\\n\\u00a0\\u00a0\\u00a0\\u00a0\\u00a0\\u00a0\\u00a04\\u00b0 causes himself to be transported by a taxi or rental vehicle.\\n\\u00a0\\u00a0\\u00a0\\u00a0\\u00a0\\u00a0\\u00a0Swindling is punished by six months' imprisonment and a fine of \\u20ac7,500.\\nARTICLE 313-6\\n(Act no. 2000-642 of 10 July 2000 Article 16 Official Journal of 11 July 2000)\\n(Ordinance no. 2000-916 of 19 September 2000 Article 3 Official Journal of 22 September 2000 in force 1 January\\n2002)\\n\\u00a0\\u00a0\\u00a0\\u00a0\\u00a0\\u00a0\\u00a0In a public sale or tendering process, the rejection of a bid or tender, or the restriction of bids or tenders, by gifts,\\npromises, understandings or any other fraudulent means, is punished by six months' imprisonment and a fine of\\n\\u20ac22,500. Accepting such gifts or promises is subject to the same penalties.\\n\\u00a0\\u00a0\\u00a0\\u00a0\\u00a0\\u00a0\\u00a0The same penalties apply to:\\n\\u00a0\\u00a0\\u00a0\\u00a0\\u00a0\\u00a0\\u00a01\\u00b0 obstructing or hindering the freedom to make bids or tenders, during a public sale or tendering process, by\\nviolence, assaults or threats;\\n\\u00a0\\u00a0\\u00a0\\u00a0\\u00a0\\u00a0\\u00a02\\u00b0 carrying out or participating in re-auction after a public adjudication, without the participation of a competent legal\\nofficial, or of a recognised firm carrying out the voluntary sale of movables at public auction.\\n\\u00a0\\u00a0\\u00a0\\u00a0\\u00a0\\u00a0\\u00a0Attempt to commit the offences set out under the present article is subject to the same penalties.\\nARTICLE 313-6-1\\n(Inserted by Act no. 2003-239 of 18 March 2003 Art. 57 1\\u00b0 Official Journal of 19 March 2003)\\n\\u00a0\\u00a0\\u00a0\\u00a0\\u00a0\\u00a0\\u00a0A person who makes land belonging to someone else available to a third party, with a view to his taking up\\nresidence there in return for payment or any benefit in kind, without being able to prove the permission of the owner or\\nthe person with the right to use it is punished by a year's imprisonment and by a fine of \\u20ac15,000.\\n                                SECTION III\\n                                ADDITIONAL PENALTIES APPLICABLE TO NATURAL PERSONS AND\\nLIABILITY OF LEGAL PERSONS\\nArticles 313-7 to 313-9\\nARTICLE 313-7\"\n",
      "          }\n",
      "     }\n",
      "]\n"
     ]
    }
   ],
   "source": [
    "print(\"***** Results *****\")\n",
    "print(\"\\033[1;31;34m\")\n",
    "print(json.dumps([r.as_dict() for r in retrieval_result.references], indent=5))"
   ]
  },
  {
   "cell_type": "code",
   "execution_count": 39,
   "id": "beffa5c0-b7dc-437a-8f72-6a10cc3fa7ee",
   "metadata": {},
   "outputs": [
    {
     "name": "stdout",
     "output_type": "stream",
     "text": [
      "Sources:\n",
      "\u001b[1;31;34m\n",
      "Page = 072 chunk page: 02\n",
      "Page = 073 chunk page: 01\n"
     ]
    }
   ],
   "source": [
    "data = [r.as_dict() for r in retrieval_result.references]\n",
    "sorted_data = sorted(data, key=lambda x: x[\"doc_key\"])\n",
    "print(\"Sources:\")\n",
    "print(\"\\033[1;31;34m\")\n",
    "\n",
    "for item in sorted_data:\n",
    "    source = item[\"doc_key\"].split(\"_\")\n",
    "    page = source[1]\n",
    "    print(f\"Page = {source[1]} chunk page: {source[2]}\")"
   ]
  },
  {
   "cell_type": "code",
   "execution_count": 40,
   "id": "921dad1c-9164-4b6c-a55c-dd26171b9100",
   "metadata": {},
   "outputs": [
    {
     "name": "stdout",
     "output_type": "stream",
     "text": [
      "\u001b[1;31;34m\n",
      "Article 313-8 states that natural persons convicted of any of the misdemeanours referred to under articles 313-1, 313-2, 313-6, and 313-6-1 also incur disqualification from public tenders for a maximum period of five years. \n",
      "\n",
      "Note: This answer was generated by an AI.\n"
     ]
    }
   ],
   "source": [
    "response = aoai_client.responses.create(model=aoai_gpt_deployment,\n",
    "                                        temperature=0.7,\n",
    "                                        input=messages)\n",
    "\n",
    "print(\"\\033[1;31;34m\")\n",
    "print(response.output_text)"
   ]
  },
  {
   "cell_type": "code",
   "execution_count": 41,
   "id": "cb5f5deb-c6e2-4ab2-808b-34ceaf047083",
   "metadata": {},
   "outputs": [],
   "source": [
    "messages.append({\n",
    "    \"role\": \"user\",\n",
    "    \"content\": \"What penalties might a driver might have?\"\n",
    "})\n",
    "\n",
    "retrieval_result = agent_client.retrieve(\n",
    "    retrieval_request=KnowledgeAgentRetrievalRequest(\n",
    "        messages=[\n",
    "            KnowledgeAgentMessage(role=msg[\"role\"],\n",
    "                                  content=[\n",
    "                                      KnowledgeAgentMessageTextContent(\n",
    "                                          text=msg[\"content\"])\n",
    "                                  ]) for msg in messages\n",
    "            if msg[\"role\"] != \"system\"\n",
    "        ],\n",
    "        target_index_params=[\n",
    "            KnowledgeAgentIndexParams(index_name=index_name,\n",
    "                                      reranker_threshold=2.5)\n",
    "        ]))\n",
    "messages.append({\n",
    "    \"role\": \"assistant\",\n",
    "    \"content\": retrieval_result.response[0].content[0].text\n",
    "})"
   ]
  },
  {
   "cell_type": "code",
   "execution_count": 42,
   "id": "b78faad8-5a0e-4077-85f6-41e367ec420d",
   "metadata": {},
   "outputs": [
    {
     "name": "stdout",
     "output_type": "stream",
     "text": [
      "***** Activity *****\n",
      "\u001b[1;31;34m\n",
      "[\n",
      "     {\n",
      "          \"id\": 0,\n",
      "          \"type\": \"ModelQueryPlanning\",\n",
      "          \"input_tokens\": 8296,\n",
      "          \"output_tokens\": 116\n",
      "     },\n",
      "     {\n",
      "          \"id\": 1,\n",
      "          \"type\": \"AzureSearchQuery\",\n",
      "          \"target_index\": \"agent-rag-index-demo\",\n",
      "          \"query\": {\n",
      "               \"search\": \"Penalties for drivers under the law\"\n",
      "          },\n",
      "          \"query_time\": \"2025-06-02T08:11:50.283Z\",\n",
      "          \"count\": 6,\n",
      "          \"elapsed_ms\": 191\n",
      "     },\n",
      "     {\n",
      "          \"id\": 2,\n",
      "          \"type\": \"AzureSearchSemanticRanker\",\n",
      "          \"input_tokens\": 23239\n",
      "     }\n",
      "]\n"
     ]
    }
   ],
   "source": [
    "print(\"***** Activity *****\")\n",
    "print(\"\\033[1;31;34m\")\n",
    "print(json.dumps([a.as_dict() for a in retrieval_result.activity], indent=5))"
   ]
  },
  {
   "cell_type": "code",
   "execution_count": 43,
   "id": "db91f579-3134-4568-af3b-5ad44d4e5fa2",
   "metadata": {},
   "outputs": [
    {
     "name": "stdout",
     "output_type": "stream",
     "text": [
      "***** Results *****\n",
      "\u001b[1;31;34m\n",
      "[\n",
      "     {\n",
      "          \"type\": \"AzureSearchDoc\",\n",
      "          \"id\": \"0\",\n",
      "          \"activity_source\": 1,\n",
      "          \"doc_key\": \"doc_031_02\",\n",
      "          \"source_data\": {\n",
      "               \"id\": \"doc_031_02\",\n",
      "               \"text\": \"for by article 221-6 is committed by the driver a motor vehicle, manslaughter is punished by five years' imprisonment and\\nby a fine of \\u20ac75,000.\\n\\u00a0\\u00a0\\u00a0\\u00a0\\u00a0\\u00a0\\u00a0The penalties are increased to seven years' imprisonment and to a fine of \\u20ac100,000 where:\\n\\u00a0\\u00a0\\u00a0\\u00a0\\u00a0\\u00a0\\u00a01\\u00ba the driver has deliberately violated an obligation of safety or prudence imposed by statute or Regulations other\\nthan those outlined below;\\n\\u00a0\\u00a0\\u00a0\\u00a0\\u00a0\\u00a0\\u00a02\\u00ba the driver was manifestly drunk or in an alcoholic state characterised by a level of alcohol in the blood or breath\\ngreater than the limits fixed by the legislative or statutory provisions of the Traffic Code, or where he refuses to take the\\ntests provided for by the Code and designed to establish the existence of an alcoholic state;\\n\\u00a0\\u00a0\\u00a0\\u00a0\\u00a0\\u00a0\\u00a03\\u00ba a blood test shows that the driver had used substances or plants classified as drugs, or where the driver refused\\nto take the tests provided for by the Traffic Code that are designed to establish whether he was driving under the\\ninfluence of drugs;\\n\\u00a0\\u00a0\\u00a0\\u00a0\\u00a0\\u00a0\\u00a04\\u00ba the driver does not hold a valid driving licence as required by law, or his licence has been annulled, invalidated,\\nsuspended or revoked;\\n\\u00a0\\u00a0\\u00a0\\u00a0\\u00a0\\u00a0\\u00a05\\u00ba the driver has exceeded the maximum speed limit by 50 km/h or more;\\n\\u00a0\\u00a0\\u00a0\\u00a0\\u00a0\\u00a0\\u00a06\\u00ba the driver, knowing that he had caused or brought about an accident, did not stop and so tried to escape any\\ncriminal or civil responsibility that he might incur.\\n\\u00a0\\u00a0\\u00a0\\u00a0\\u00a0\\u00a0\\u00a0The penalties are increased to ten years' imprisonment and a fine of \\u20ac150,000 where the manslaughter is\\ncommitted with two or more of the circumstances outlined in 1\\u00ba onwards of the present article.\\n                                SECTION III\\n                                ADDITIONAL PENALTIES APPLICABLE TO NATURAL PERSONSArticles 221-8 to 221-10\\nARTICLE 221-8\\n(Act no. 2003.-495 of 12 June 2003. Art. 5 VI and 6 V Official Journal of 13 June 2003)\\n\\u00a0\\u00a0\\u00a0\\u00a0\\u00a0\\u00a0\\u00a0Natural persons convicted of the offences set out under the present chapter also incur the following additional\\npenalties.\"\n",
      "          }\n",
      "     },\n",
      "     {\n",
      "          \"type\": \"AzureSearchDoc\",\n",
      "          \"id\": \"1\",\n",
      "          \"activity_source\": 1,\n",
      "          \"doc_key\": \"doc_038_03\",\n",
      "          \"source_data\": {\n",
      "               \"id\": \"doc_038_03\",\n",
      "               \"text\": \"influence of drugs;\\n\\u00a0\\u00a0\\u00a0\\u00a0\\u00a0\\u00a0\\u00a04\\u00ba the driver does not hold a valid driving licence as required by law, or his licence has been annulled, invalidated,\\nsuspended or revoked;\\n\\u00a0\\u00a0\\u00a0\\u00a0\\u00a0\\u00a0\\u00a05\\u00ba the driver has exceeded the maximum speed limit by 50 km/h or more;\\n\\u00a0\\u00a0\\u00a0\\u00a0\\u00a0\\u00a0\\u00a06\\u00ba the driver, knowing that he had caused or brought about an accident, did not stop and so tried to escape any\\ncriminal or civil responsibility that he might incur.\\n\\u00a0\\u00a0\\u00a0\\u00a0\\u00a0\\u00a0\\u00a0The penalties are increased to seven years' imprisonment and to a fine of \\u20ac100,000 where the unintended personal\\ninjury is committed with two or more of the circumstances listed in 1\\u00ba onwards of the present article.\\nARTICLE 222-20-1\\n(Inserted by Act no. 2003-495 of 12 June 2003 art. 2 II Official Journal of 13 June 2003)\\n\\u00a0\\u00a0\\u00a0\\u00a0\\u00a0\\u00a0\\u00a0When the clumsiness, rashness, inattention, negligence or breach of a statutory or regulatory duty of safety or\\nprudence provided for by article 222-19 is committed by the driver a motor vehicle, an unintended personal injury\\ncausing a total incapacity to work of three months or less is punished by two years' imprisonment and by a fine of\\n\\u20ac30,000.\\n\\u00a0\\u00a0\\u00a0\\u00a0\\u00a0\\u00a0\\u00a0The penalties are increased to three years' imprisonment and to a fine of \\u20ac45,000 where:\\n\\u00a0\\u00a0\\u00a0\\u00a0\\u00a0\\u00a0\\u00a01\\u00ba the driver has deliberately violated an obligation of safety or prudence imposed by statute or Regulations other\\nthan those outlined below;\\n\\u00a0\\u00a0\\u00a0\\u00a0\\u00a0\\u00a0\\u00a02\\u00ba the driver was manifestly drunk or in an alcoholic state characterised by a level of alcohol in the blood or breath\\nUpdated 12/10/2005 - Page 38/132\"\n",
      "          }\n",
      "     },\n",
      "     {\n",
      "          \"type\": \"AzureSearchDoc\",\n",
      "          \"id\": \"2\",\n",
      "          \"activity_source\": 1,\n",
      "          \"doc_key\": \"doc_038_02\",\n",
      "          \"source_data\": {\n",
      "               \"id\": \"doc_038_02\",\n",
      "               \"text\": \"1\\u00b0 a fine, pursuant to the conditions set out under article 131-38;\\n\\u00a0\\u00a0\\u00a0\\u00a0\\u00a0\\u00a0\\u00a02\\u00b0 the penalties mentioned under 2\\u00b0, 3\\u00b0, 8\\u00b0 and 9\\u00b0 of article 131-39.\\n\\u00a0\\u00a0\\u00a0\\u00a0\\u00a0\\u00a0\\u00a0The prohibition mentioned under 2\\u00b0 of article 131-39 applies to the activity in the exercise of which or on the\\noccasion of the exercise of which the offence was committed.\\n\\u00a0\\u00a0\\u00a0\\u00a0\\u00a0\\u00a0\\u00a0In the cases referred to under the second paragraph of article 222-19, the penalty mentioned under 4\\u00b0 of article\\n131-39 is incurred.\\nARTICLE 222-19-1\\n(Inserted by Act no. 2003-495 of 12 June 2003 art. 1 Official Journal of 13 June 2003)\\n\\u00a0\\u00a0\\u00a0\\u00a0\\u00a0\\u00a0\\u00a0When the clumsiness, rashness, inattention, negligence or breach of a statutory or regulatory duty of safety or\\nprudence provided for by article 221-6 is committed by the driver a motor vehicle, an unintended personal injury to\\nanother person causing a total incapacity to work in excess of three months is punished by three years' imprisonment\\nand by a fine of \\u20ac45,000.\\n\\u00a0\\u00a0\\u00a0\\u00a0\\u00a0\\u00a0\\u00a0The penalties are increased to five years' imprisonment and to a fine of \\u20ac75,000 where:\\n\\u00a0\\u00a0\\u00a0\\u00a0\\u00a0\\u00a0\\u00a01\\u00ba the driver has deliberately violated an obligation of safety or prudence imposed by statute or Regulations other\\nthan those outlined below;\\n\\u00a0\\u00a0\\u00a0\\u00a0\\u00a0\\u00a0\\u00a02\\u00ba the driver was manifestly drunk or in an alcoholic state characterised by a level of alcohol in the blood or breath\\ngreater than the limits fixed by the legislative or statutory provisions of the Traffic Code, or where he refuses to take the\\ntests provided for by the Code and designed to establish the existence of an alcoholic state;\\n\\u00a0\\u00a0\\u00a0\\u00a0\\u00a0\\u00a0\\u00a03\\u00ba a blood test shows that the driver had used substances or plants classified as drugs, or where the driver refused\\nto take the tests provided for by the Traffic Code that are designed to establish whether he was driving under the\\ninfluence of drugs;\\n\\u00a0\\u00a0\\u00a0\\u00a0\\u00a0\\u00a0\\u00a04\\u00ba the driver does not hold a valid driving licence as required by law, or his licence has been annulled, invalidated,\\nsuspended or revoked;\"\n",
      "          }\n",
      "     },\n",
      "     {\n",
      "          \"type\": \"AzureSearchDoc\",\n",
      "          \"id\": \"3\",\n",
      "          \"activity_source\": 1,\n",
      "          \"doc_key\": \"doc_039_01\",\n",
      "          \"source_data\": {\n",
      "               \"id\": \"doc_039_01\",\n",
      "               \"text\": \"PENAL CODE\\ngreater than the limits fixed by the legislative or statutory provisions of the Traffic Code, or where he refuses to take the\\ntests provided for by the Code and designed to establish the existence of an alcoholic state;\\n\\u00a0\\u00a0\\u00a0\\u00a0\\u00a0\\u00a0\\u00a03\\u00ba a blood test shows that the driver had used substances or plants classified as drugs, or where the driver refused\\nto take the tests provided for by the Traffic Code that are designed to establish whether he was driving under the\\ninfluence of drugs;\\n\\u00a0\\u00a0\\u00a0\\u00a0\\u00a0\\u00a0\\u00a04\\u00ba the driver does not hold a valid driving licence as required by law, or his licence has been annulled, invalidated,\\nsuspended or revoked;\\n\\u00a0\\u00a0\\u00a0\\u00a0\\u00a0\\u00a0\\u00a05\\u00ba the driver has exceeded the maximum speed limit by 50 km/h or more;\\n\\u00a0\\u00a0\\u00a0\\u00a0\\u00a0\\u00a0\\u00a06\\u00ba the driver, knowing that he had caused or brought about an accident, did not stop and so tried to escape any\\ncriminal or civil responsibility that he might incur.\\n\\u00a0\\u00a0\\u00a0\\u00a0\\u00a0\\u00a0\\u00a0The penalties are increased to five years' imprisonment and to a fine of \\u20ac75,000 where the unintended personal\\ninjury is committed with two or more of the circumstances listed in 1\\u00ba onwards of the present article.\\n                                SECTION III\\n                                SEXUAL AGGRESSIONS - COMMON PROVISIONS Articles 222-23 to\\n222-22\\nARTICLE 222-22\\n(Act no. 1998-468 of 17 June 1998 Article 19 Official Journal of 18 June 1998)\\n\\u00a0\\u00a0\\u00a0\\u00a0\\u00a0\\u00a0\\u00a0Sexual aggression is any sexual assault committed with violence, constraint, threat or surprise.\\n\\u00a0\\u00a0\\u00a0\\u00a0\\u00a0\\u00a0\\u00a0Where a sexual aggression was committed abroad against a minor by a French national or a person habitually\\nresident in France, French law applies notwithstanding the second paragraph of article 113-6 and the provisions of the\\nsecond sentence of article 113-8 are not applicable.\\n                                        Paragraph 1\\n                                        Rape Articles 222-23 to\\n222-26\\nARTICLE 222-23\\n\\u00a0\\u00a0\\u00a0\\u00a0\\u00a0\\u00a0\\u00a0Any act of sexual penetration, whatever its nature, committed against another person by violence, constraint, threat\"\n",
      "          }\n",
      "     },\n",
      "     {\n",
      "          \"type\": \"AzureSearchDoc\",\n",
      "          \"id\": \"4\",\n",
      "          \"activity_source\": 1,\n",
      "          \"doc_key\": \"doc_066_02\",\n",
      "          \"source_data\": {\n",
      "               \"id\": \"doc_066_02\",\n",
      "               \"text\": \"under articles 227-18 to 227-26.\\n\\u00a0\\u00a0\\u00a0\\u00a0\\u00a0\\u00a0\\u00a0The penalties incurred by legal persons are:\\n\\u00a0\\u00a0\\u00a0\\u00a0\\u00a0\\u00a0\\u00a01\\u00b0 a fine in the manner provided under article 131-38;\\n\\u00a0\\u00a0\\u00a0\\u00a0\\u00a0\\u00a0\\u00a02\\u00b0 the penalties referred to under 2\\u00b0, 3\\u00b0, 4\\u00b0, 5\\u00b0, 7\\u00b0, 8\\u00b0, and 9\\u00b0 of article 131-39.\\n\\u00a0\\u00a0\\u00a0\\u00a0\\u00a0\\u00a0\\u00a0The prohibition referred to under 2\\u00b0 of article 131-39 applies to the activity in course of which or on the occasion of\\nthe performance of which the offence was committed.\\n                                SECTION VI\\n                                ADDITIONAL PENALTIES APPLICABLE TO NATURAL PERSONSArticles 227-29 to\\n227-31\\nARTICLE 227-29\\n(Act no. 98-468 of 17th June 1998 Article 21 Official Journal of 18th June 1998)\\n\\u00a0\\u00a0\\u00a0\\u00a0\\u00a0\\u00a0\\u00a0Natural persons convicted of the offences provided for under the present chapter also incur the following additional\\npenalties:\\n\\u00a0\\u00a0\\u00a0\\u00a0\\u00a0\\u00a0\\u00a01\\u00b0 forfeiture of civic, civil and family rights, in accordance with the conditions laid down under Article 131-26;\\n\\u00a0\\u00a0\\u00a0\\u00a0\\u00a0\\u00a0\\u00a02\\u00b0 suspension of the driving licence for a maximum period of five years; this suspension may be limited to driving\\nother than in the course of professional activity;\\n\\u00a0\\u00a0\\u00a0\\u00a0\\u00a0\\u00a0\\u00a03\\u00b0 cancellation of the driving licence together with the prohibition, for a maximum period of five years, to apply for\\nthe issue of a new one;\\n\\u00a0\\u00a0\\u00a0\\u00a0\\u00a0\\u00a0\\u00a04\\u00b0 prohibition, for a maximum period of five years, to leave the territory of the French Republic.\\n\\u00a0\\u00a0\\u00a0\\u00a0\\u00a0\\u00a0\\u00a05\\u00b0 confiscation of the object which was used or intended to commit the offence or the object which is the product of\\nit;\\n\\u00a0\\u00a0\\u00a0\\u00a0\\u00a0\\u00a0\\u00a06\\u00b0 prohibition, for a period of up to ten years or permanently, to undertake any professional or charitable activity\\ninvolving regular contact with minors.\\nARTICLE 227-30\\n\\u00a0\\u00a0\\u00a0\\u00a0\\u00a0\\u00a0\\u00a0Natural persons convicted of the offences referred to under Section IV of the present Chapter also incur the\\nadditional penalty of the public display or dissemination of the decision set out under article 131-35.\\nARTICLE 227-31\\n(Act no. 98-468 of 17th June 1998 Article 4 Official Journal of 18th June 1998)\"\n",
      "          }\n",
      "     },\n",
      "     {\n",
      "          \"type\": \"AzureSearchDoc\",\n",
      "          \"id\": \"5\",\n",
      "          \"activity_source\": 1,\n",
      "          \"doc_key\": \"doc_031_01\",\n",
      "          \"source_data\": {\n",
      "               \"id\": \"doc_031_01\",\n",
      "               \"text\": \"PENAL CODE\\n                                SECTION II\\n                                INVOLUNTARY OFFENCES AGAINST LIFE Articles 221-6 to\\n221-6-1\\nARTICLE 221-6\\n(Act no. 2000-647 of 10 July 2000 Article 4 Official Journal of 11 July 2000)\\n(Ordinance no. 2000-916 of 19 September 2000 Article 3 Official Journal of 22 September 2000 into force 1 January\\n2002) \\n\\u00a0\\u00a0\\u00a0\\u00a0\\u00a0\\u00a0\\u00a0Causing the death of another person by clumsiness, rashness, inattention, negligence or breach of an obligation of\\nsafety or prudence imposed by statute or regulations, in the circumstances and according to the distinctions laid down\\nby article 121-3, constitutes manslaughter punished by three years' imprisonment and a fine of \\u20ac45,000.\\n\\u00a0\\u00a0\\u00a0\\u00a0\\u00a0\\u00a0\\u00a0In the event of a deliberate violation of an obligation of safety or prudence imposed by statute or regulations, the\\npenalty is increased to five years' imprisonment and to a fine of \\u20ac75,000.\\nARTICLE 221-7\\n\\u00a0\\u00a0\\u00a0\\u00a0\\u00a0\\u00a0\\u00a0A legal person may incur criminal liability, pursuant to the conditions set out under article 121 -2, to the offence\\ndefined under article 221-6.\\n\\u00a0\\u00a0\\u00a0\\u00a0\\u00a0\\u00a0\\u00a0The penalties to which legal persons are liable are as follows:\\n\\u00a0\\u00a0\\u00a0\\u00a0\\u00a0\\u00a0\\u00a01\\u00b0 a fine, pursuant to the conditions set out under article 131-38;\\n\\u00a0\\u00a0\\u00a0\\u00a0\\u00a0\\u00a0\\u00a02\\u00b0 the penalties enumerated in 2\\u00b0, 3\\u00b0 8\\u00b0 and 9\\u00b0 of article 131-39.\\n\\u00a0\\u00a0\\u00a0\\u00a0\\u00a0\\u00a0\\u00a0The prohibition determined under 2\\u00b0 of article 131-39 applies to the activity in the exercise of which or on the\\noccasion of the exercise of which the offence was committed.\\n\\u00a0\\u00a0\\u00a0\\u00a0\\u00a0\\u00a0\\u00a0In the cases referred to under the second paragraph of article 221-6 the penalty prescribed by 4\\u00b0 of article 131-39\\nshall also be incurred.\\nARTICLE 221-6-1\\n(Inserted by Act no. 2003-495 of 12 June 2003 art. 1 II Official Journal of 13 June 2003)\\n\\u00a0\\u00a0\\u00a0\\u00a0\\u00a0\\u00a0\\u00a0When the clumsiness, rashness, inattention, negligence or breach of an obligation of safety or prudence provided\\nfor by article 221-6 is committed by the driver a motor vehicle, manslaughter is punished by five years' imprisonment and\\nby a fine of \\u20ac75,000.\"\n",
      "          }\n",
      "     }\n",
      "]\n"
     ]
    }
   ],
   "source": [
    "print(\"***** Results *****\")\n",
    "print(\"\\033[1;31;34m\")\n",
    "print(json.dumps([r.as_dict() for r in retrieval_result.references], indent=5))"
   ]
  },
  {
   "cell_type": "code",
   "execution_count": 44,
   "id": "68eb740c-a08d-45b0-b3d7-25bb0d5d0a93",
   "metadata": {},
   "outputs": [
    {
     "name": "stdout",
     "output_type": "stream",
     "text": [
      "Sources:\n",
      "\u001b[1;31;34m\n",
      "Page = 031 chunk page: 01\n",
      "Page = 031 chunk page: 02\n",
      "Page = 038 chunk page: 02\n",
      "Page = 038 chunk page: 03\n",
      "Page = 039 chunk page: 01\n",
      "Page = 066 chunk page: 02\n"
     ]
    }
   ],
   "source": [
    "data = [r.as_dict() for r in retrieval_result.references]\n",
    "sorted_data = sorted(data, key=lambda x: x[\"doc_key\"])\n",
    "print(\"Sources:\")\n",
    "print(\"\\033[1;31;34m\")\n",
    "\n",
    "for item in sorted_data:\n",
    "    source = item[\"doc_key\"].split(\"_\")\n",
    "    page = source[1]\n",
    "    print(f\"Page = {source[1]} chunk page: {source[2]}\")"
   ]
  },
  {
   "cell_type": "code",
   "execution_count": 45,
   "id": "7ecc403a-6ded-43e0-810e-c90c1a93e372",
   "metadata": {},
   "outputs": [
    {
     "name": "stdout",
     "output_type": "stream",
     "text": [
      "\u001b[1;31;34m\n",
      "A driver who unintentionally causes a personal injury resulting in the victim being unable to work for four months can face the following penalties according to the Penal Code:\n",
      "\n",
      "- For an unintended personal injury causing a total incapacity to work in excess of three months, the driver is punishable by three years' imprisonment and a fine of €45,000.\n",
      "- The penalties increase to five years' imprisonment and a fine of €75,000 if any of the following aggravating circumstances are present:\n",
      "  1. The driver deliberately violated an obligation of safety or prudence imposed by statute or regulations.\n",
      "  2. The driver was manifestly drunk or in an alcoholic state above legal limits, or refused to take alcohol tests.\n",
      "  3. The driver had used drugs or refused drug tests.\n",
      "  4. The driver did not hold a valid driving license or it was annulled, invalidated, suspended, or revoked.\n",
      "  5. The driver exceeded the maximum speed limit by 50 km/h or more.\n",
      "  6. The driver caused the accident and fled to avoid responsibility.\n",
      "- If two or more aggravating circumstances apply, penalties can further increase.\n",
      "\n",
      "Therefore, for a personal injury causing four months of incapacity to work, the base penalty is three years' imprisonment and a €45,000 fine, with possible increases depending on aggravating factors (Article 222-19-1 and related provisions) [doc_key: 1, 5].\n",
      "\n",
      "Note: This answer was generated by an AI.\n"
     ]
    }
   ],
   "source": [
    "response = aoai_client.responses.create(model=aoai_gpt_deployment,\n",
    "                                        temperature=0.7,\n",
    "                                        input=messages)\n",
    "\n",
    "print(\"\\033[1;31;34m\")\n",
    "print(response.output_text)"
   ]
  },
  {
   "cell_type": "markdown",
   "id": "a14f6fe6",
   "metadata": {},
   "source": [
    "## Post processing"
   ]
  },
  {
   "cell_type": "code",
   "execution_count": 46,
   "id": "67b6a475",
   "metadata": {},
   "outputs": [
    {
     "name": "stdout",
     "output_type": "stream",
     "text": [
      "Agent 'agent-rag-demo' is deleted\n",
      "Azure AI Search index 'agent-rag-index-demo' is deleted\n"
     ]
    }
   ],
   "source": [
    "index_client = SearchIndexClient(endpoint=azure_ai_search_endpoint,\n",
    "                                 credential=credential)\n",
    "\n",
    "index_client.delete_agent(agent_name)\n",
    "print(f\"Agent '{agent_name}' is deleted\")\n",
    "\n",
    "index_client.delete_index(index)\n",
    "print(f\"Azure AI Search index '{index_name}' is deleted\")"
   ]
  },
  {
   "cell_type": "code",
   "execution_count": null,
   "id": "737ce250-d841-4c28-a8bf-83e755930592",
   "metadata": {},
   "outputs": [],
   "source": []
  }
 ],
 "metadata": {
  "kernelspec": {
   "display_name": "Python 3.10 - SDK v2",
   "language": "python",
   "name": "python310-sdkv2"
  },
  "language_info": {
   "codemirror_mode": {
    "name": "ipython",
    "version": 3
   },
   "file_extension": ".py",
   "mimetype": "text/x-python",
   "name": "python",
   "nbconvert_exporter": "python",
   "pygments_lexer": "ipython3",
   "version": "3.10.14"
  },
  "varInspector": {
   "cols": {
    "lenName": 16,
    "lenType": 16,
    "lenVar": 40
   },
   "kernels_config": {
    "python": {
     "delete_cmd_postfix": "",
     "delete_cmd_prefix": "del ",
     "library": "var_list.py",
     "varRefreshCmd": "print(var_dic_list())"
    },
    "r": {
     "delete_cmd_postfix": ") ",
     "delete_cmd_prefix": "rm(",
     "library": "var_list.r",
     "varRefreshCmd": "cat(var_dic_list()) "
    }
   },
   "types_to_exclude": [
    "module",
    "function",
    "builtin_function_or_method",
    "instance",
    "_Feature"
   ],
   "window_display": false
  }
 },
 "nbformat": 4,
 "nbformat_minor": 5
}
