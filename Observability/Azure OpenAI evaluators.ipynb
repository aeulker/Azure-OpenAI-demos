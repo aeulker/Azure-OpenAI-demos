{
 "cells": [
  {
   "cell_type": "markdown",
   "id": "9face87d-9833-4a20-9c37-4252ac2c2571",
   "metadata": {},
   "source": [
    "## Azure OpenAI evaluators\n",
    "\n",
    "The Azure OpenAI Graders are a new set of evaluation graders available in the Azure AI Foundry SDK, aimed at evaluating the performance of AI models and their outputs. These graders including Label grader, String checker, Text similarity, and General grader can be run locally or remotely. Each grader serves a specific purpose in assessing different aspects of AI model/model outputs.\n",
    "\n",
    "> https://learn.microsoft.com/en-us/azure/ai-foundry/concepts/evaluation-evaluators/azure-openai-graders"
   ]
  },
  {
   "cell_type": "code",
   "execution_count": 1,
   "id": "150f173a-90a6-49df-a748-ecf9bd150400",
   "metadata": {},
   "outputs": [],
   "source": [
    "import datetime\n",
    "import os\n",
    "import json\n",
    "import sys\n",
    "\n",
    "from azure.ai.evaluation import AzureOpenAIGrader, AzureOpenAILabelGrader, AzureOpenAIModelConfiguration, AzureOpenAIStringCheckGrader, AzureOpenAITextSimilarityGrader, evaluate\n",
    "from dotenv import load_dotenv\n",
    "from openai.types.graders import StringCheckGrader\n",
    "from pprint import pprint"
   ]
  },
  {
   "cell_type": "code",
   "execution_count": 2,
   "id": "ec9209d1-41e7-41a1-aeb7-e1e1e9ded75a",
   "metadata": {},
   "outputs": [
    {
     "data": {
      "text/plain": [
       "'3.10.14 (main, May  6 2024, 19:42:50) [GCC 11.2.0]'"
      ]
     },
     "execution_count": 2,
     "metadata": {},
     "output_type": "execute_result"
    }
   ],
   "source": [
    "sys.version"
   ]
  },
  {
   "cell_type": "code",
   "execution_count": 3,
   "id": "c770383f-442c-422b-b91f-a5c9c1f696a3",
   "metadata": {},
   "outputs": [
    {
     "name": "stdout",
     "output_type": "stream",
     "text": [
      "Today is 26-Jun-2025 12:35:19\n"
     ]
    }
   ],
   "source": [
    "print(f\"Today is {datetime.datetime.today().strftime('%d-%b-%Y %H:%M:%S')}\")"
   ]
  },
  {
   "cell_type": "code",
   "execution_count": 4,
   "id": "993996e9-2481-4752-bb24-3b61d49a66ae",
   "metadata": {},
   "outputs": [],
   "source": [
    "load_dotenv(\"azure.env\")\n",
    "\n",
    "endpoint = os.getenv(\"endpoint\")\n",
    "key = os.getenv(\"key\")"
   ]
  },
  {
   "cell_type": "code",
   "execution_count": 5,
   "id": "2c3b8d57-de74-4563-911c-9dd973769423",
   "metadata": {},
   "outputs": [],
   "source": [
    "model = \"gpt-4.1\""
   ]
  },
  {
   "cell_type": "code",
   "execution_count": 6,
   "id": "3c2e2588-3cce-47fa-bf2a-6170c318947f",
   "metadata": {},
   "outputs": [],
   "source": [
    "model_config = AzureOpenAIModelConfiguration(azure_endpoint=endpoint,\n",
    "                                             api_key=key,\n",
    "                                             azure_deployment=model,\n",
    "                                             api_version=\"2024-10-21\")"
   ]
  },
  {
   "cell_type": "markdown",
   "id": "3e2d0bdd-b6cb-4b9e-bd6a-2f7b34875fbb",
   "metadata": {},
   "source": [
    "## Label grader\n",
    "\n",
    "AzureOpenAILabelGrader uses your custom prompt to instruct a model to classify outputs based on labels you define. It returns structured results with explanations for why each label was chosen."
   ]
  },
  {
   "cell_type": "code",
   "execution_count": 7,
   "id": "b83f2070-c6ae-4e83-9a9d-e6795b31c17d",
   "metadata": {},
   "outputs": [
    {
     "name": "stdout",
     "output_type": "stream",
     "text": [
      "{\n",
      "     \"query\": \"What is the importance of choosing the right provider in getting the most value out of your health insurance plan?\",\n",
      "     \"ground_truth\": \"Choosing an in-network provider helps you save money and ensures better, more personalized care. [Northwind_Health_Plus_Benefits_Details-3.pdf]\",\n",
      "     \"response\": \"Choosing the right provider is key to maximizing your health insurance benefits. In-network providers reduce costs, offer better coverage, and support continuity of care, leading to more effective and personalized treatment. [Northwind_Health_Plus_Benefits_Details.pdf][Northwind_Standard_Benefits_Details.pdf]\"\n",
      "}\n",
      "{\n",
      "     \"query\": \"What should you do when choosing an in-network provider for your health care needs?\",\n",
      "     \"ground_truth\": \"Check with Northwind Health Plus to confirm the provider is in-network, as this helps reduce costs.\\n[Northwind_Health_Plus_Benefits_Details-3.pdf]\",\n",
      "     \"response\": \"To choose an in-network provider, confirm they are part of your plan using the Northwind website or by calling their office. Also consider location, availability, and office hours. [Northwind_Standard_Benefits_Details.pdf]\"\n",
      "}\n",
      "{\n",
      "     \"query\": \"What range of in-network providers does Northwind Health Plus offer?\",\n",
      "     \"ground_truth\": \"Northwind Health Plus offers a wide range of in-network providers, including doctors, specialists, hospitals, and pharmacies.\\n[Northwind_Health_Plus_Benefits_Details-3.pdf]\",\n",
      "     \"response\": \"Northwind Health Plus offers a wide range of in-network providers, including primary care physicians, specialists, hospitals, and pharmacies [Northwind_Health_Plus_Benefits_Details.pdf]. The exact range of in-network providers may vary depending on the area, but the Northwind Health Plus website provides a searchable directory of all in-network providers in your area [Northwind_Health_Plus_Benefits_Details.pdf]. It is important to check with Northwind Health Plus to ensure that the provider you are considering is in-network [Northwind_Health_Plus_Benefits_Details.pdf].\"\n",
      "}\n",
      "{\n",
      "     \"query\": \"What is the limitation of in-network providers?\",\n",
      "     \"ground_truth\": \"The limitation of in-network providers is that they may not always be available in every area.\\n[Northwind_Health_Plus_Benefits_Details-3.pdf]\",\n",
      "     \"response\": \"The limitation of in-network providers is that they may not accept the amount of payment offered by Northwind Health, which means you may be responsible for a greater portion of the cost [Northwind_Standard_Benefits_Details.pdf]. Additionally, out-of-network providers may not offer additional services or discounts that are available to in-network providers [Northwind_Standard_Benefits_Details.pdf]. It is recommended to choose an in-network provider whenever possible to ensure the best value for your health care expenses [Northwind_Standard_Benefits_Details.pdf].\\n\\nSources:\\n- Northwind_Standard_Benefits_Details.pdf\"\n",
      "}\n",
      "{\n",
      "     \"query\": \"What resource does Northwind Health Plus provide to find in-network providers in your area?\",\n",
      "     \"ground_truth\": \"The Northwind Health Plus website offers a searchable directory of all in-network providers in your area. This directory is regularly updated, so you can be sure that you are choosing from in-network providers that are available.\\n[Northwind_Health_Plus_Benefits_Details-3.pdf]\",\n",
      "     \"response\": \"Northwind Health Plus provides a variety of in-network providers, including primary care physicians, specialists, hospitals, and pharmacies [Northwind_Health_Plus_Benefits_Details.pdf].\"\n",
      "}\n"
     ]
    }
   ],
   "source": [
    "json_file = \"sample.jsonl\"\n",
    "\n",
    "with open(json_file, 'r', encoding='utf-8') as file:\n",
    "    for line in file:\n",
    "        data = json.loads(line)\n",
    "        print(json.dumps(data, indent=5))"
   ]
  },
  {
   "cell_type": "code",
   "execution_count": 8,
   "id": "0cffcdaf-9889-4cfd-a3bc-7deef53867d0",
   "metadata": {},
   "outputs": [
    {
     "name": "stderr",
     "output_type": "stream",
     "text": [
      "Class AzureOpenAILabelGrader: This is an experimental class, and may change at any time. Please see https://aka.ms/azuremlexperimental for more information.\n",
      "Class AzureOpenAIGrader: This is an experimental class, and may change at any time. Please see https://aka.ms/azuremlexperimental for more information.\n",
      "Method _begin_aoai_evaluation: This is an experimental method, and may change at any time. Please see https://aka.ms/azuremlexperimental for more information.\n"
     ]
    }
   ],
   "source": [
    "#  Evaluation criteria: Determine if the response column contains texts that are \"too short\", \"just right\", or \"too long\" and pass if it is \"just right\"\n",
    "label_grader = AzureOpenAILabelGrader(\n",
    "    model_config=model_config,\n",
    "    input=[{\n",
    "        \"content\": \"{{item.response}}\",\n",
    "        \"role\": \"user\"\n",
    "    }, {\n",
    "        \"content\":\n",
    "        \"Any text including space that's more than 600 characters are too long, less than 500 characters are too short; 500 to 600 characters are just right.\",\n",
    "        \"role\": \"user\",\n",
    "        \"type\": \"message\"\n",
    "    }],\n",
    "    labels=[\"too short\", \"just right\", \"too long\"],\n",
    "    passing_labels=[\"just right\"],\n",
    "    model=model,\n",
    "    name=\"label\",\n",
    ")\n",
    "\n",
    "label_grader_evaluation = evaluate(\n",
    "    data=json_file,\n",
    "    evaluators={\"label\": label_grader},\n",
    ")"
   ]
  },
  {
   "cell_type": "code",
   "execution_count": 9,
   "id": "a2c1f19c-ceca-415c-a55a-2d8d58c8a62b",
   "metadata": {},
   "outputs": [
    {
     "data": {
      "text/plain": [
       "<azure.ai.evaluation._aoai.label_grader.AzureOpenAILabelGrader at 0x7f72d9a27ee0>"
      ]
     },
     "execution_count": 9,
     "metadata": {},
     "output_type": "execute_result"
    }
   ],
   "source": [
    "label_grader"
   ]
  },
  {
   "cell_type": "code",
   "execution_count": 10,
   "id": "961c6e00-0046-4814-8788-13a87f4cc5b4",
   "metadata": {},
   "outputs": [
    {
     "name": "stdout",
     "output_type": "stream",
     "text": [
      "{'metrics': {'label.pass_rate': 0.2},\n",
      " 'rows': [{'ground_truth': 'Choosing an in-network provider helps you save money and ensures better, more personalized care. '\n",
      "                           '[Northwind_Health_Plus_Benefits_Details-3.pdf]',\n",
      "           'outputs.label.label_result': 'fail',\n",
      "           'outputs.label.passed': False,\n",
      "           'outputs.label.sample': {'error': None,\n",
      "                                    'finish_reason': 'stop',\n",
      "                                    'input': [{'content': 'The limitation of in-network providers is that they may not accept the amount of payment '\n",
      "                                                          'offered by Northwind Health, which means you may be responsible for a greater portion of '\n",
      "                                                          'the cost [Northwind_Standard_Benefits_Details.pdf]. Additionally, out-of-network '\n",
      "                                                          'providers may not offer additional services or discounts that are available to in-network '\n",
      "                                                          'providers [Northwind_Standard_Benefits_Details.pdf]. It is recommended to choose an '\n",
      "                                                          'in-network provider whenever possible to ensure the best value for your health care '\n",
      "                                                          'expenses [Northwind_Standard_Benefits_Details.pdf].\\n'\n",
      "                                                          '\\n'\n",
      "                                                          'Sources:\\n'\n",
      "                                                          '- Northwind_Standard_Benefits_Details.pdf',\n",
      "                                               'role': 'user'},\n",
      "                                              {'content': \"Any text including space that's more than 600 characters are too long, less than 500 \"\n",
      "                                                          'characters are too short; 500 to 600 characters are just right.',\n",
      "                                               'role': 'user'}],\n",
      "                                    'max_completion_tokens': 4096,\n",
      "                                    'model': 'gpt-4.1-2025-04-14',\n",
      "                                    'output': [{'content': '{\"steps\":[{\"description\":\"I will count the number of characters in the given text, '\n",
      "                                                           'including spaces.\",\"conclusion\":\"Needs to calculate the character '\n",
      "                                                           'count.\"},{\"description\":\"Here is the character count of the text (with '\n",
      "                                                           \"spaces):\\\\n\\\\n'The limitation of in-network providers is that they may not accept the \"\n",
      "                                                           'amount of payment offered by Northwind Health, which means you may be responsible for a '\n",
      "                                                           'greater portion of the cost [Northwind_Standard_Benefits_Details.pdf]. Additionally, '\n",
      "                                                           'out-of-network providers may not offer additional services or discounts that are '\n",
      "                                                           'available to in-network providers [Northwind_Standard_Benefits_Details.pdf]. It is '\n",
      "                                                           'recommended to choose an in-network provider whenever possible to ensure the best value '\n",
      "                                                           'for your health care expenses '\n",
      "                                                           '[Northwind_Standard_Benefits_Details.pdf].\\\\n\\\\nSources:\\\\n- '\n",
      "                                                           \"Northwind_Standard_Benefits_Details.pdf'\\\\n\\\\nAfter counting, the character count is 690 \"\n",
      "                                                           '(including spaces and newline characters).\",\"conclusion\":\"The text has 690 '\n",
      "                                                           'characters.\"},{\"description\":\"According to the rule: more than 600 characters = too '\n",
      "                                                           'long.\",\"conclusion\":\"The response is too long.\"}],\"result\":\"too long\"}',\n",
      "                                                'role': 'assistant'}],\n",
      "                                    'seed': None,\n",
      "                                    'temperature': 1.0,\n",
      "                                    'top_p': 1.0,\n",
      "                                    'usage': {'cached_tokens': 0, 'completion_tokens': 243, 'prompt_tokens': 285, 'total_tokens': 528}},\n",
      "           'outputs.label.score': 0.0,\n",
      "           'query': 'What is the importance of choosing the right provider in getting the most value out of your health insurance plan?',\n",
      "           'response': 'Choosing the right provider is key to maximizing your health insurance benefits. In-network providers reduce costs, offer '\n",
      "                       'better coverage, and support continuity of care, leading to more effective and personalized treatment. '\n",
      "                       '[Northwind_Health_Plus_Benefits_Details.pdf][Northwind_Standard_Benefits_Details.pdf]'},\n",
      "          {'ground_truth': 'Check with Northwind Health Plus to confirm the provider is in-network, as this helps reduce costs.\\n'\n",
      "                           '[Northwind_Health_Plus_Benefits_Details-3.pdf]',\n",
      "           'outputs.label.label_result': 'pass',\n",
      "           'outputs.label.passed': True,\n",
      "           'outputs.label.sample': {'error': None,\n",
      "                                    'finish_reason': 'stop',\n",
      "                                    'input': [{'content': 'Northwind Health Plus offers a wide range of in-network providers, including primary care '\n",
      "                                                          'physicians, specialists, hospitals, and pharmacies '\n",
      "                                                          '[Northwind_Health_Plus_Benefits_Details.pdf]. The exact range of in-network providers may '\n",
      "                                                          'vary depending on the area, but the Northwind Health Plus website provides a searchable '\n",
      "                                                          'directory of all in-network providers in your area '\n",
      "                                                          '[Northwind_Health_Plus_Benefits_Details.pdf]. It is important to check with Northwind '\n",
      "                                                          'Health Plus to ensure that the provider you are considering is in-network '\n",
      "                                                          '[Northwind_Health_Plus_Benefits_Details.pdf].',\n",
      "                                               'role': 'user'},\n",
      "                                              {'content': \"Any text including space that's more than 600 characters are too long, less than 500 \"\n",
      "                                                          'characters are too short; 500 to 600 characters are just right.',\n",
      "                                               'role': 'user'}],\n",
      "                                    'max_completion_tokens': 4096,\n",
      "                                    'model': 'gpt-4.1-2025-04-14',\n",
      "                                    'output': [{'content': '{\"steps\":[{\"description\":\"First, copy the given text and count the characters, including '\n",
      "                                                           'spaces.\",\"conclusion\":\"Preparing to count characters.\"},{\"description\":\"The provided '\n",
      "                                                           'text is: \\\\\"Northwind Health Plus offers a wide range of in-network providers, including '\n",
      "                                                           'primary care physicians, specialists, hospitals, and pharmacies '\n",
      "                                                           '[Northwind_Health_Plus_Benefits_Details.pdf]. The exact range of in-network providers '\n",
      "                                                           'may vary depending on the area, but the Northwind Health Plus website provides a '\n",
      "                                                           'searchable directory of all in-network providers in your area '\n",
      "                                                           '[Northwind_Health_Plus_Benefits_Details.pdf]. It is important to check with Northwind '\n",
      "                                                           'Health Plus to ensure that the provider you are considering is in-network '\n",
      "                                                           '[Northwind_Health_Plus_Benefits_Details.pdf].\\\\\"\",\"conclusion\":\"Text is prepared for '\n",
      "                                                           'character counting.\"},{\"description\":\"Count the characters in the given text, including '\n",
      "                                                           'spaces.\",\"conclusion\":\"The character count is 543.\"},{\"description\":\"Compare the '\n",
      "                                                           \"character count (543) to the defined thresholds: 500–600 characters is 'just \"\n",
      "                                                           'right\\'.\",\"conclusion\":\"543 falls within 500 and 600 inclusive.\"}],\"result\":\"just '\n",
      "                                                           'right\"}',\n",
      "                                                'role': 'assistant'}],\n",
      "                                    'seed': None,\n",
      "                                    'temperature': 1.0,\n",
      "                                    'top_p': 1.0,\n",
      "                                    'usage': {'cached_tokens': 0, 'completion_tokens': 240, 'prompt_tokens': 280, 'total_tokens': 520}},\n",
      "           'outputs.label.score': 1.0,\n",
      "           'query': 'What should you do when choosing an in-network provider for your health care needs?',\n",
      "           'response': 'To choose an in-network provider, confirm they are part of your plan using the Northwind website or by calling their office. '\n",
      "                       'Also consider location, availability, and office hours. [Northwind_Standard_Benefits_Details.pdf]'},\n",
      "          {'ground_truth': 'Northwind Health Plus offers a wide range of in-network providers, including doctors, specialists, hospitals, and '\n",
      "                           'pharmacies.\\n'\n",
      "                           '[Northwind_Health_Plus_Benefits_Details-3.pdf]',\n",
      "           'outputs.label.label_result': 'fail',\n",
      "           'outputs.label.passed': False,\n",
      "           'outputs.label.sample': {'error': None,\n",
      "                                    'finish_reason': 'stop',\n",
      "                                    'input': [{'content': 'To choose an in-network provider, confirm they are part of your plan using the Northwind '\n",
      "                                                          'website or by calling their office. Also consider location, availability, and office '\n",
      "                                                          'hours. [Northwind_Standard_Benefits_Details.pdf]',\n",
      "                                               'role': 'user'},\n",
      "                                              {'content': \"Any text including space that's more than 600 characters are too long, less than 500 \"\n",
      "                                                          'characters are too short; 500 to 600 characters are just right.',\n",
      "                                               'role': 'user'}],\n",
      "                                    'max_completion_tokens': 4096,\n",
      "                                    'model': 'gpt-4.1-2025-04-14',\n",
      "                                    'output': [{'content': '{\"steps\":[{\"description\":\"Count the total number of characters, including spaces, in the '\n",
      "                                                           'given text.\",\"conclusion\":\"The provided text is: \\'To choose an in-network provider, '\n",
      "                                                           'confirm they are part of your plan using the Northwind website or by calling their '\n",
      "                                                           'office. Also consider location, availability, and office hours. '\n",
      "                                                           \"[Northwind_Standard_Benefits_Details.pdf]'. This text contains 233 characters including \"\n",
      "                                                           'spaces.\"},{\"description\":\"Compare the character count (233) with the defined ranges: '\n",
      "                                                           \"less than 500 is 'too short', 500 to 600 is 'just right', and above 600 is 'too \"\n",
      "                                                           'long\\'.\",\"conclusion\":\"Since 233 is less than 500 characters, the text is categorized as '\n",
      "                                                           '\\'too short\\'.\"}],\"result\":\"too short\"}',\n",
      "                                                'role': 'assistant'}],\n",
      "                                    'seed': None,\n",
      "                                    'temperature': 1.0,\n",
      "                                    'top_p': 1.0,\n",
      "                                    'usage': {'cached_tokens': 0, 'completion_tokens': 162, 'prompt_tokens': 207, 'total_tokens': 369}},\n",
      "           'outputs.label.score': 0.0,\n",
      "           'query': 'What range of in-network providers does Northwind Health Plus offer?',\n",
      "           'response': 'Northwind Health Plus offers a wide range of in-network providers, including primary care physicians, specialists, '\n",
      "                       'hospitals, and pharmacies [Northwind_Health_Plus_Benefits_Details.pdf]. The exact range of in-network providers may vary '\n",
      "                       'depending on the area, but the Northwind Health Plus website provides a searchable directory of all in-network providers in '\n",
      "                       'your area [Northwind_Health_Plus_Benefits_Details.pdf]. It is important to check with Northwind Health Plus to ensure that '\n",
      "                       'the provider you are considering is in-network [Northwind_Health_Plus_Benefits_Details.pdf].'},\n",
      "          {'ground_truth': 'The limitation of in-network providers is that they may not always be available in every area.\\n'\n",
      "                           '[Northwind_Health_Plus_Benefits_Details-3.pdf]',\n",
      "           'outputs.label.label_result': 'fail',\n",
      "           'outputs.label.passed': False,\n",
      "           'outputs.label.sample': {'error': None,\n",
      "                                    'finish_reason': 'stop',\n",
      "                                    'input': [{'content': 'Choosing the right provider is key to maximizing your health insurance benefits. '\n",
      "                                                          'In-network providers reduce costs, offer better coverage, and support continuity of care, '\n",
      "                                                          'leading to more effective and personalized treatment. '\n",
      "                                                          '[Northwind_Health_Plus_Benefits_Details.pdf][Northwind_Standard_Benefits_Details.pdf]',\n",
      "                                               'role': 'user'},\n",
      "                                              {'content': \"Any text including space that's more than 600 characters are too long, less than 500 \"\n",
      "                                                          'characters are too short; 500 to 600 characters are just right.',\n",
      "                                               'role': 'user'}],\n",
      "                                    'max_completion_tokens': 4096,\n",
      "                                    'model': 'gpt-4.1-2025-04-14',\n",
      "                                    'output': [{'content': '{\"steps\":[{\"description\":\"Count the number of characters in the provided text, including '\n",
      "                                                           'spaces.\",\"conclusion\":\"The text contains 309 characters (including '\n",
      "                                                           'spaces).\"},{\"description\":\"Compare the character count (309) to the user\\'s guidelines: '\n",
      "                                                           'Less than 500 = too short, 500–600 = just right, over 600 = too long.\",\"conclusion\":\"309 '\n",
      "                                                           'characters is less than 500, so it is too short.\"}],\"result\":\"too short\"}',\n",
      "                                                'role': 'assistant'}],\n",
      "                                    'seed': None,\n",
      "                                    'temperature': 1.0,\n",
      "                                    'top_p': 1.0,\n",
      "                                    'usage': {'cached_tokens': 0, 'completion_tokens': 95, 'prompt_tokens': 222, 'total_tokens': 317}},\n",
      "           'outputs.label.score': 0.0,\n",
      "           'query': 'What is the limitation of in-network providers?',\n",
      "           'response': 'The limitation of in-network providers is that they may not accept the amount of payment offered by Northwind Health, which '\n",
      "                       'means you may be responsible for a greater portion of the cost [Northwind_Standard_Benefits_Details.pdf]. Additionally, '\n",
      "                       'out-of-network providers may not offer additional services or discounts that are available to in-network providers '\n",
      "                       '[Northwind_Standard_Benefits_Details.pdf]. It is recommended to choose an in-network provider whenever possible to ensure '\n",
      "                       'the best value for your health care expenses [Northwind_Standard_Benefits_Details.pdf].\\n'\n",
      "                       '\\n'\n",
      "                       'Sources:\\n'\n",
      "                       '- Northwind_Standard_Benefits_Details.pdf'},\n",
      "          {'ground_truth': 'The Northwind Health Plus website offers a searchable directory of all in-network providers in your area. This directory '\n",
      "                           'is regularly updated, so you can be sure that you are choosing from in-network providers that are available.\\n'\n",
      "                           '[Northwind_Health_Plus_Benefits_Details-3.pdf]',\n",
      "           'outputs.label.label_result': 'fail',\n",
      "           'outputs.label.passed': False,\n",
      "           'outputs.label.sample': {'error': None,\n",
      "                                    'finish_reason': 'stop',\n",
      "                                    'input': [{'content': 'Northwind Health Plus provides a variety of in-network providers, including primary care '\n",
      "                                                          'physicians, specialists, hospitals, and pharmacies '\n",
      "                                                          '[Northwind_Health_Plus_Benefits_Details.pdf].',\n",
      "                                               'role': 'user'},\n",
      "                                              {'content': \"Any text including space that's more than 600 characters are too long, less than 500 \"\n",
      "                                                          'characters are too short; 500 to 600 characters are just right.',\n",
      "                                               'role': 'user'}],\n",
      "                                    'max_completion_tokens': 4096,\n",
      "                                    'model': 'gpt-4.1-2025-04-14',\n",
      "                                    'output': [{'content': '{\"steps\":[{\"description\":\"First, count the number of characters in the provided text '\n",
      "                                                           '(including spaces).\",\"conclusion\":\"The text is: \\'Northwind Health Plus provides a '\n",
      "                                                           'variety of in-network providers, including primary care physicians, specialists, '\n",
      "                                                           \"hospitals, and pharmacies [Northwind_Health_Plus_Benefits_Details.pdf].' This text has \"\n",
      "                                                           '162 characters.\"},{\"description\":\"Next, compare this character count against the '\n",
      "                                                           'classification criteria: <500 (too short), 500-600 (just right), >600 (too '\n",
      "                                                           'long).\",\"conclusion\":\"Since 162 < 500, it falls under \\'too short.\\'\"}],\"result\":\"too '\n",
      "                                                           'short\"}',\n",
      "                                                'role': 'assistant'}],\n",
      "                                    'seed': None,\n",
      "                                    'temperature': 1.0,\n",
      "                                    'top_p': 1.0,\n",
      "                                    'usage': {'cached_tokens': 0, 'completion_tokens': 135, 'prompt_tokens': 197, 'total_tokens': 332}},\n",
      "           'outputs.label.score': 0.0,\n",
      "           'query': 'What resource does Northwind Health Plus provide to find in-network providers in your area?',\n",
      "           'response': 'Northwind Health Plus provides a variety of in-network providers, including primary care physicians, specialists, hospitals, '\n",
      "                       'and pharmacies [Northwind_Health_Plus_Benefits_Details.pdf].'}],\n",
      " 'studio_url': None}\n"
     ]
    }
   ],
   "source": [
    "pprint(label_grader_evaluation, width=150)"
   ]
  },
  {
   "cell_type": "markdown",
   "id": "83b2b691-2b3a-40b2-b680-ec2639f1d013",
   "metadata": {},
   "source": [
    "## String checker\n",
    "\n",
    "Compares input text to a reference value, checking for exact or partial matches with optional case insensitivity. Useful for flexible text validations and pattern matching."
   ]
  },
  {
   "cell_type": "code",
   "execution_count": 11,
   "id": "4cedd187-ceb1-4deb-ab80-f98f40c0f4d4",
   "metadata": {},
   "outputs": [
    {
     "name": "stderr",
     "output_type": "stream",
     "text": [
      "Class AzureOpenAIStringCheckGrader: This is an experimental class, and may change at any time. Please see https://aka.ms/azuremlexperimental for more information.\n"
     ]
    }
   ],
   "source": [
    "# Evaluation criteria: Pass if the query column contains \"What is\"\n",
    "string_grader = AzureOpenAIStringCheckGrader(\n",
    "    model_config=model_config,\n",
    "    input=\"{{item.query}}\",\n",
    "    name=\"starts with what is\",\n",
    "    operation=\n",
    "    \"like\",  # \"eq\" for equal, \"ne\" for not equal, \"like\" for contain, \"ilike\" for case insensitive contain\n",
    "    reference=\"What is\",\n",
    ")\n",
    "\n",
    "string_grader_evaluation = evaluate(\n",
    "    data=json_file,\n",
    "    evaluators={\"string\": string_grader},\n",
    ")"
   ]
  },
  {
   "cell_type": "code",
   "execution_count": 12,
   "id": "f310116b-e756-43f7-8eb7-33ae76c98375",
   "metadata": {},
   "outputs": [
    {
     "data": {
      "text/plain": [
       "<azure.ai.evaluation._aoai.string_check_grader.AzureOpenAIStringCheckGrader at 0x7f72d9a26b90>"
      ]
     },
     "execution_count": 12,
     "metadata": {},
     "output_type": "execute_result"
    }
   ],
   "source": [
    "string_grader"
   ]
  },
  {
   "cell_type": "code",
   "execution_count": 13,
   "id": "5dfd9e95-4f08-4fe3-a562-2a82e10230e5",
   "metadata": {},
   "outputs": [
    {
     "name": "stdout",
     "output_type": "stream",
     "text": [
      "{'metrics': {'string.pass_rate': 0.4},\n",
      " 'rows': [{'ground_truth': 'Choosing an in-network provider helps you save money and ensures better, more personalized care. '\n",
      "                           '[Northwind_Health_Plus_Benefits_Details-3.pdf]',\n",
      "           'outputs.string.passed': False,\n",
      "           'outputs.string.sample': None,\n",
      "           'outputs.string.score': 0.0,\n",
      "           'outputs.string.string_result': 'fail',\n",
      "           'query': 'What is the importance of choosing the right provider in getting the most value out of your health insurance plan?',\n",
      "           'response': 'Choosing the right provider is key to maximizing your health insurance benefits. In-network providers reduce costs, offer '\n",
      "                       'better coverage, and support continuity of care, leading to more effective and personalized treatment. '\n",
      "                       '[Northwind_Health_Plus_Benefits_Details.pdf][Northwind_Standard_Benefits_Details.pdf]'},\n",
      "          {'ground_truth': 'Check with Northwind Health Plus to confirm the provider is in-network, as this helps reduce costs.\\n'\n",
      "                           '[Northwind_Health_Plus_Benefits_Details-3.pdf]',\n",
      "           'outputs.string.passed': True,\n",
      "           'outputs.string.sample': None,\n",
      "           'outputs.string.score': 1.0,\n",
      "           'outputs.string.string_result': 'pass',\n",
      "           'query': 'What should you do when choosing an in-network provider for your health care needs?',\n",
      "           'response': 'To choose an in-network provider, confirm they are part of your plan using the Northwind website or by calling their office. '\n",
      "                       'Also consider location, availability, and office hours. [Northwind_Standard_Benefits_Details.pdf]'},\n",
      "          {'ground_truth': 'Northwind Health Plus offers a wide range of in-network providers, including doctors, specialists, hospitals, and '\n",
      "                           'pharmacies.\\n'\n",
      "                           '[Northwind_Health_Plus_Benefits_Details-3.pdf]',\n",
      "           'outputs.string.passed': False,\n",
      "           'outputs.string.sample': None,\n",
      "           'outputs.string.score': 0.0,\n",
      "           'outputs.string.string_result': 'fail',\n",
      "           'query': 'What range of in-network providers does Northwind Health Plus offer?',\n",
      "           'response': 'Northwind Health Plus offers a wide range of in-network providers, including primary care physicians, specialists, '\n",
      "                       'hospitals, and pharmacies [Northwind_Health_Plus_Benefits_Details.pdf]. The exact range of in-network providers may vary '\n",
      "                       'depending on the area, but the Northwind Health Plus website provides a searchable directory of all in-network providers in '\n",
      "                       'your area [Northwind_Health_Plus_Benefits_Details.pdf]. It is important to check with Northwind Health Plus to ensure that '\n",
      "                       'the provider you are considering is in-network [Northwind_Health_Plus_Benefits_Details.pdf].'},\n",
      "          {'ground_truth': 'The limitation of in-network providers is that they may not always be available in every area.\\n'\n",
      "                           '[Northwind_Health_Plus_Benefits_Details-3.pdf]',\n",
      "           'outputs.string.passed': False,\n",
      "           'outputs.string.sample': None,\n",
      "           'outputs.string.score': 0.0,\n",
      "           'outputs.string.string_result': 'fail',\n",
      "           'query': 'What is the limitation of in-network providers?',\n",
      "           'response': 'The limitation of in-network providers is that they may not accept the amount of payment offered by Northwind Health, which '\n",
      "                       'means you may be responsible for a greater portion of the cost [Northwind_Standard_Benefits_Details.pdf]. Additionally, '\n",
      "                       'out-of-network providers may not offer additional services or discounts that are available to in-network providers '\n",
      "                       '[Northwind_Standard_Benefits_Details.pdf]. It is recommended to choose an in-network provider whenever possible to ensure '\n",
      "                       'the best value for your health care expenses [Northwind_Standard_Benefits_Details.pdf].\\n'\n",
      "                       '\\n'\n",
      "                       'Sources:\\n'\n",
      "                       '- Northwind_Standard_Benefits_Details.pdf'},\n",
      "          {'ground_truth': 'The Northwind Health Plus website offers a searchable directory of all in-network providers in your area. This directory '\n",
      "                           'is regularly updated, so you can be sure that you are choosing from in-network providers that are available.\\n'\n",
      "                           '[Northwind_Health_Plus_Benefits_Details-3.pdf]',\n",
      "           'outputs.string.passed': True,\n",
      "           'outputs.string.sample': None,\n",
      "           'outputs.string.score': 1.0,\n",
      "           'outputs.string.string_result': 'pass',\n",
      "           'query': 'What resource does Northwind Health Plus provide to find in-network providers in your area?',\n",
      "           'response': 'Northwind Health Plus provides a variety of in-network providers, including primary care physicians, specialists, hospitals, '\n",
      "                       'and pharmacies [Northwind_Health_Plus_Benefits_Details.pdf].'}],\n",
      " 'studio_url': None}\n"
     ]
    }
   ],
   "source": [
    "pprint(string_grader_evaluation, width=150)"
   ]
  },
  {
   "cell_type": "markdown",
   "id": "c0488129-c463-4745-9312-2ebe303fff6f",
   "metadata": {},
   "source": [
    "## Text similarity\n",
    "\n",
    "Evaluates how closely input text matches a reference value using similarity metrics likefuzzy_match, BLEU, ROUGE, or METEOR. Useful for assessing text quality or semantic closeness."
   ]
  },
  {
   "cell_type": "code",
   "execution_count": 14,
   "id": "862b3fe9-875d-4060-95c7-c45bf8faf3d3",
   "metadata": {},
   "outputs": [
    {
     "name": "stderr",
     "output_type": "stream",
     "text": [
      "Class AzureOpenAITextSimilarityGrader: This is an experimental class, and may change at any time. Please see https://aka.ms/azuremlexperimental for more information.\n"
     ]
    }
   ],
   "source": [
    "# Evaluation criteria: Pass if response column and ground_truth column similarity score >= 0.5 using \"fuzzy_match\"\n",
    "sim_grader = AzureOpenAITextSimilarityGrader(\n",
    "    model_config=model_config,\n",
    "    # support evaluation metrics including: \"fuzzy_match\", \"bleu\", \"gleu\", \"meteor\", \"rouge_1\", \"rouge_2\", \"rouge_3\", \"rouge_4\", \"rouge_5\", \"rouge_l\", \"cosine\",\n",
    "    evaluation_metric=\"fuzzy_match\",\n",
    "    input=\"{{item.response}}\",\n",
    "    name=\"similarity\",\n",
    "    pass_threshold=0.5,\n",
    "    reference=\"{{item.ground_truth}}\",\n",
    ")\n",
    "\n",
    "sim_grader_evaluation = evaluate(\n",
    "    data=json_file,\n",
    "    evaluators={\"similarity\": sim_grader},\n",
    ")"
   ]
  },
  {
   "cell_type": "code",
   "execution_count": 15,
   "id": "861bedfe-38c6-4a5f-aad5-c3df5ce7472b",
   "metadata": {},
   "outputs": [
    {
     "name": "stdout",
     "output_type": "stream",
     "text": [
      "{'metrics': {'similarity.pass_rate': 0.4},\n",
      " 'rows': [{'ground_truth': 'Choosing an in-network provider helps you save money and ensures better, more personalized care. '\n",
      "                           '[Northwind_Health_Plus_Benefits_Details-3.pdf]',\n",
      "           'outputs.similarity.passed': True,\n",
      "           'outputs.similarity.sample': None,\n",
      "           'outputs.similarity.score': 0.6117136659436009,\n",
      "           'outputs.similarity.similarity_result': 'pass',\n",
      "           'query': 'What is the importance of choosing the right provider in getting the most value out of your health insurance plan?',\n",
      "           'response': 'Choosing the right provider is key to maximizing your health insurance benefits. In-network providers reduce costs, offer '\n",
      "                       'better coverage, and support continuity of care, leading to more effective and personalized treatment. '\n",
      "                       '[Northwind_Health_Plus_Benefits_Details.pdf][Northwind_Standard_Benefits_Details.pdf]'},\n",
      "          {'ground_truth': 'Check with Northwind Health Plus to confirm the provider is in-network, as this helps reduce costs.\\n'\n",
      "                           '[Northwind_Health_Plus_Benefits_Details-3.pdf]',\n",
      "           'outputs.similarity.passed': False,\n",
      "           'outputs.similarity.sample': None,\n",
      "           'outputs.similarity.score': 0.3416557161629436,\n",
      "           'outputs.similarity.similarity_result': 'fail',\n",
      "           'query': 'What should you do when choosing an in-network provider for your health care needs?',\n",
      "           'response': 'To choose an in-network provider, confirm they are part of your plan using the Northwind website or by calling their office. '\n",
      "                       'Also consider location, availability, and office hours. [Northwind_Standard_Benefits_Details.pdf]'},\n",
      "          {'ground_truth': 'Northwind Health Plus offers a wide range of in-network providers, including doctors, specialists, hospitals, and '\n",
      "                           'pharmacies.\\n'\n",
      "                           '[Northwind_Health_Plus_Benefits_Details-3.pdf]',\n",
      "           'outputs.similarity.passed': False,\n",
      "           'outputs.similarity.sample': None,\n",
      "           'outputs.similarity.score': 0.4444444444444444,\n",
      "           'outputs.similarity.similarity_result': 'fail',\n",
      "           'query': 'What range of in-network providers does Northwind Health Plus offer?',\n",
      "           'response': 'Northwind Health Plus offers a wide range of in-network providers, including primary care physicians, specialists, '\n",
      "                       'hospitals, and pharmacies [Northwind_Health_Plus_Benefits_Details.pdf]. The exact range of in-network providers may vary '\n",
      "                       'depending on the area, but the Northwind Health Plus website provides a searchable directory of all in-network providers in '\n",
      "                       'your area [Northwind_Health_Plus_Benefits_Details.pdf]. It is important to check with Northwind Health Plus to ensure that '\n",
      "                       'the provider you are considering is in-network [Northwind_Health_Plus_Benefits_Details.pdf].'},\n",
      "          {'ground_truth': 'The limitation of in-network providers is that they may not always be available in every area.\\n'\n",
      "                           '[Northwind_Health_Plus_Benefits_Details-3.pdf]',\n",
      "           'outputs.similarity.passed': False,\n",
      "           'outputs.similarity.sample': None,\n",
      "           'outputs.similarity.score': 0.48369565217391314,\n",
      "           'outputs.similarity.similarity_result': 'fail',\n",
      "           'query': 'What is the limitation of in-network providers?',\n",
      "           'response': 'The limitation of in-network providers is that they may not accept the amount of payment offered by Northwind Health, which '\n",
      "                       'means you may be responsible for a greater portion of the cost [Northwind_Standard_Benefits_Details.pdf]. Additionally, '\n",
      "                       'out-of-network providers may not offer additional services or discounts that are available to in-network providers '\n",
      "                       '[Northwind_Standard_Benefits_Details.pdf]. It is recommended to choose an in-network provider whenever possible to ensure '\n",
      "                       'the best value for your health care expenses [Northwind_Standard_Benefits_Details.pdf].\\n'\n",
      "                       '\\n'\n",
      "                       'Sources:\\n'\n",
      "                       '- Northwind_Standard_Benefits_Details.pdf'},\n",
      "          {'ground_truth': 'The Northwind Health Plus website offers a searchable directory of all in-network providers in your area. This directory '\n",
      "                           'is regularly updated, so you can be sure that you are choosing from in-network providers that are available.\\n'\n",
      "                           '[Northwind_Health_Plus_Benefits_Details-3.pdf]',\n",
      "           'outputs.similarity.passed': True,\n",
      "           'outputs.similarity.sample': None,\n",
      "           'outputs.similarity.score': 0.5342163355408389,\n",
      "           'outputs.similarity.similarity_result': 'pass',\n",
      "           'query': 'What resource does Northwind Health Plus provide to find in-network providers in your area?',\n",
      "           'response': 'Northwind Health Plus provides a variety of in-network providers, including primary care physicians, specialists, hospitals, '\n",
      "                       'and pharmacies [Northwind_Health_Plus_Benefits_Details.pdf].'}],\n",
      " 'studio_url': None}\n"
     ]
    }
   ],
   "source": [
    "pprint(sim_grader_evaluation, width=150)"
   ]
  },
  {
   "cell_type": "code",
   "execution_count": 16,
   "id": "e0a5f2a9-bdb3-462c-8c58-98fda9e1acbe",
   "metadata": {},
   "outputs": [],
   "source": [
    "# Evaluation criteria: Pass if response column and ground_truth column similarity score >= 0.5 using \"fuzzy_match\"\n",
    "sim_grader = AzureOpenAITextSimilarityGrader(\n",
    "    model_config=model_config,\n",
    "    evaluation_metric=\n",
    "    \"bleu\",  # support evaluation metrics including: \"fuzzy_match\", \"bleu\", \"gleu\", \"meteor\", \"rouge_1\", \"rouge_2\", \"rouge_3\", \"rouge_4\", \"rouge_5\", \"rouge_l\", \"cosine\",\n",
    "    input=\"{{item.response}}\",\n",
    "    name=\"similarity\",\n",
    "    pass_threshold=0.5,\n",
    "    reference=\"{{item.ground_truth}}\",\n",
    ")\n",
    "\n",
    "sim_grader_evaluation = evaluate(\n",
    "    data=json_file,\n",
    "    evaluators={\"similarity\": sim_grader},\n",
    ")"
   ]
  },
  {
   "cell_type": "code",
   "execution_count": 17,
   "id": "536be048-0e00-4be0-9c02-96e14a32026b",
   "metadata": {},
   "outputs": [
    {
     "name": "stdout",
     "output_type": "stream",
     "text": [
      "{'metrics': {'similarity.pass_rate': 0.0},\n",
      " 'rows': [{'ground_truth': 'Choosing an in-network provider helps you save money and ensures better, more personalized care. '\n",
      "                           '[Northwind_Health_Plus_Benefits_Details-3.pdf]',\n",
      "           'outputs.similarity.passed': False,\n",
      "           'outputs.similarity.sample': None,\n",
      "           'outputs.similarity.score': 0.01812756190015922,\n",
      "           'outputs.similarity.similarity_result': 'fail',\n",
      "           'query': 'What is the importance of choosing the right provider in getting the most value out of your health insurance plan?',\n",
      "           'response': 'Choosing the right provider is key to maximizing your health insurance benefits. In-network providers reduce costs, offer '\n",
      "                       'better coverage, and support continuity of care, leading to more effective and personalized treatment. '\n",
      "                       '[Northwind_Health_Plus_Benefits_Details.pdf][Northwind_Standard_Benefits_Details.pdf]'},\n",
      "          {'ground_truth': 'Check with Northwind Health Plus to confirm the provider is in-network, as this helps reduce costs.\\n'\n",
      "                           '[Northwind_Health_Plus_Benefits_Details-3.pdf]',\n",
      "           'outputs.similarity.passed': False,\n",
      "           'outputs.similarity.sample': None,\n",
      "           'outputs.similarity.score': 0.12997986228378333,\n",
      "           'outputs.similarity.similarity_result': 'fail',\n",
      "           'query': 'What should you do when choosing an in-network provider for your health care needs?',\n",
      "           'response': 'To choose an in-network provider, confirm they are part of your plan using the Northwind website or by calling their office. '\n",
      "                       'Also consider location, availability, and office hours. [Northwind_Standard_Benefits_Details.pdf]'},\n",
      "          {'ground_truth': 'Northwind Health Plus offers a wide range of in-network providers, including doctors, specialists, hospitals, and '\n",
      "                           'pharmacies.\\n'\n",
      "                           '[Northwind_Health_Plus_Benefits_Details-3.pdf]',\n",
      "           'outputs.similarity.passed': False,\n",
      "           'outputs.similarity.sample': None,\n",
      "           'outputs.similarity.score': 0.175794528167979,\n",
      "           'outputs.similarity.similarity_result': 'fail',\n",
      "           'query': 'What range of in-network providers does Northwind Health Plus offer?',\n",
      "           'response': 'Northwind Health Plus offers a wide range of in-network providers, including primary care physicians, specialists, '\n",
      "                       'hospitals, and pharmacies [Northwind_Health_Plus_Benefits_Details.pdf]. The exact range of in-network providers may vary '\n",
      "                       'depending on the area, but the Northwind Health Plus website provides a searchable directory of all in-network providers in '\n",
      "                       'your area [Northwind_Health_Plus_Benefits_Details.pdf]. It is important to check with Northwind Health Plus to ensure that '\n",
      "                       'the provider you are considering is in-network [Northwind_Health_Plus_Benefits_Details.pdf].'},\n",
      "          {'ground_truth': 'The limitation of in-network providers is that they may not always be available in every area.\\n'\n",
      "                           '[Northwind_Health_Plus_Benefits_Details-3.pdf]',\n",
      "           'outputs.similarity.passed': False,\n",
      "           'outputs.similarity.sample': None,\n",
      "           'outputs.similarity.score': 0.025285242896752887,\n",
      "           'outputs.similarity.similarity_result': 'fail',\n",
      "           'query': 'What is the limitation of in-network providers?',\n",
      "           'response': 'The limitation of in-network providers is that they may not accept the amount of payment offered by Northwind Health, which '\n",
      "                       'means you may be responsible for a greater portion of the cost [Northwind_Standard_Benefits_Details.pdf]. Additionally, '\n",
      "                       'out-of-network providers may not offer additional services or discounts that are available to in-network providers '\n",
      "                       '[Northwind_Standard_Benefits_Details.pdf]. It is recommended to choose an in-network provider whenever possible to ensure '\n",
      "                       'the best value for your health care expenses [Northwind_Standard_Benefits_Details.pdf].\\n'\n",
      "                       '\\n'\n",
      "                       'Sources:\\n'\n",
      "                       '- Northwind_Standard_Benefits_Details.pdf'},\n",
      "          {'ground_truth': 'The Northwind Health Plus website offers a searchable directory of all in-network providers in your area. This directory '\n",
      "                           'is regularly updated, so you can be sure that you are choosing from in-network providers that are available.\\n'\n",
      "                           '[Northwind_Health_Plus_Benefits_Details-3.pdf]',\n",
      "           'outputs.similarity.passed': False,\n",
      "           'outputs.similarity.sample': None,\n",
      "           'outputs.similarity.score': 0.02312606229650494,\n",
      "           'outputs.similarity.similarity_result': 'fail',\n",
      "           'query': 'What resource does Northwind Health Plus provide to find in-network providers in your area?',\n",
      "           'response': 'Northwind Health Plus provides a variety of in-network providers, including primary care physicians, specialists, hospitals, '\n",
      "                       'and pharmacies [Northwind_Health_Plus_Benefits_Details.pdf].'}],\n",
      " 'studio_url': None}\n"
     ]
    }
   ],
   "source": [
    "pprint(sim_grader_evaluation, width=150)"
   ]
  },
  {
   "cell_type": "markdown",
   "id": "58c9e2fd-5186-4ffe-b4f4-c60e035a6697",
   "metadata": {},
   "source": [
    "## General grader\n",
    "\n",
    "Advanced users have the capability to import or define a custom grader and integrate it into the AOAI general grader. This allows for evaluations to be performed based on specific areas of interest aside from the existing AOAI graders. Following is an example to import the OpenAI StringCheckGrader and construct it to be ran as a AOAI general grader on Foundry SDK."
   ]
  },
  {
   "cell_type": "code",
   "execution_count": 18,
   "id": "83c67346-c7b5-4ca9-a1c1-53e830b6a3cc",
   "metadata": {},
   "outputs": [],
   "source": [
    "# Define an string check grader config directly using the OAI SDK\n",
    "# Evaluation criteria: Pass if query column contains \"Northwind\"\n",
    "\n",
    "oai_string_check_grader = StringCheckGrader(input=\"{{item.query}}\",\n",
    "                                            name=\"contains hello\",\n",
    "                                            operation=\"like\",\n",
    "                                            reference=\"Northwind\",\n",
    "                                            type=\"string_check\")\n",
    "\n",
    "# Plug that into the general grader\n",
    "general_grader = AzureOpenAIGrader(model_config=model_config,\n",
    "                                   grader_config=oai_string_check_grader)\n",
    "\n",
    "evaluation = evaluate(\n",
    "    data=json_file,\n",
    "    evaluators={\n",
    "        \"general\": general_grader,\n",
    "    },\n",
    ")"
   ]
  },
  {
   "cell_type": "code",
   "execution_count": 19,
   "id": "e4391593-3e82-4964-9091-4af86528918a",
   "metadata": {},
   "outputs": [
    {
     "name": "stdout",
     "output_type": "stream",
     "text": [
      "{'metrics': {'general.pass_rate': 0.4},\n",
      " 'rows': [{'ground_truth': 'Choosing an in-network provider helps you save money and ensures better, more personalized care. '\n",
      "                           '[Northwind_Health_Plus_Benefits_Details-3.pdf]',\n",
      "           'outputs.general.general_result': 'pass',\n",
      "           'outputs.general.passed': True,\n",
      "           'outputs.general.sample': None,\n",
      "           'outputs.general.score': 1.0,\n",
      "           'query': 'What is the importance of choosing the right provider in getting the most value out of your health insurance plan?',\n",
      "           'response': 'Choosing the right provider is key to maximizing your health insurance benefits. In-network providers reduce costs, offer '\n",
      "                       'better coverage, and support continuity of care, leading to more effective and personalized treatment. '\n",
      "                       '[Northwind_Health_Plus_Benefits_Details.pdf][Northwind_Standard_Benefits_Details.pdf]'},\n",
      "          {'ground_truth': 'Check with Northwind Health Plus to confirm the provider is in-network, as this helps reduce costs.\\n'\n",
      "                           '[Northwind_Health_Plus_Benefits_Details-3.pdf]',\n",
      "           'outputs.general.general_result': 'fail',\n",
      "           'outputs.general.passed': False,\n",
      "           'outputs.general.sample': None,\n",
      "           'outputs.general.score': 0.0,\n",
      "           'query': 'What should you do when choosing an in-network provider for your health care needs?',\n",
      "           'response': 'To choose an in-network provider, confirm they are part of your plan using the Northwind website or by calling their office. '\n",
      "                       'Also consider location, availability, and office hours. [Northwind_Standard_Benefits_Details.pdf]'},\n",
      "          {'ground_truth': 'Northwind Health Plus offers a wide range of in-network providers, including doctors, specialists, hospitals, and '\n",
      "                           'pharmacies.\\n'\n",
      "                           '[Northwind_Health_Plus_Benefits_Details-3.pdf]',\n",
      "           'outputs.general.general_result': 'pass',\n",
      "           'outputs.general.passed': True,\n",
      "           'outputs.general.sample': None,\n",
      "           'outputs.general.score': 1.0,\n",
      "           'query': 'What range of in-network providers does Northwind Health Plus offer?',\n",
      "           'response': 'Northwind Health Plus offers a wide range of in-network providers, including primary care physicians, specialists, '\n",
      "                       'hospitals, and pharmacies [Northwind_Health_Plus_Benefits_Details.pdf]. The exact range of in-network providers may vary '\n",
      "                       'depending on the area, but the Northwind Health Plus website provides a searchable directory of all in-network providers in '\n",
      "                       'your area [Northwind_Health_Plus_Benefits_Details.pdf]. It is important to check with Northwind Health Plus to ensure that '\n",
      "                       'the provider you are considering is in-network [Northwind_Health_Plus_Benefits_Details.pdf].'},\n",
      "          {'ground_truth': 'The limitation of in-network providers is that they may not always be available in every area.\\n'\n",
      "                           '[Northwind_Health_Plus_Benefits_Details-3.pdf]',\n",
      "           'outputs.general.general_result': 'fail',\n",
      "           'outputs.general.passed': False,\n",
      "           'outputs.general.sample': None,\n",
      "           'outputs.general.score': 0.0,\n",
      "           'query': 'What is the limitation of in-network providers?',\n",
      "           'response': 'The limitation of in-network providers is that they may not accept the amount of payment offered by Northwind Health, which '\n",
      "                       'means you may be responsible for a greater portion of the cost [Northwind_Standard_Benefits_Details.pdf]. Additionally, '\n",
      "                       'out-of-network providers may not offer additional services or discounts that are available to in-network providers '\n",
      "                       '[Northwind_Standard_Benefits_Details.pdf]. It is recommended to choose an in-network provider whenever possible to ensure '\n",
      "                       'the best value for your health care expenses [Northwind_Standard_Benefits_Details.pdf].\\n'\n",
      "                       '\\n'\n",
      "                       'Sources:\\n'\n",
      "                       '- Northwind_Standard_Benefits_Details.pdf'},\n",
      "          {'ground_truth': 'The Northwind Health Plus website offers a searchable directory of all in-network providers in your area. This directory '\n",
      "                           'is regularly updated, so you can be sure that you are choosing from in-network providers that are available.\\n'\n",
      "                           '[Northwind_Health_Plus_Benefits_Details-3.pdf]',\n",
      "           'outputs.general.general_result': 'fail',\n",
      "           'outputs.general.passed': False,\n",
      "           'outputs.general.sample': None,\n",
      "           'outputs.general.score': 0.0,\n",
      "           'query': 'What resource does Northwind Health Plus provide to find in-network providers in your area?',\n",
      "           'response': 'Northwind Health Plus provides a variety of in-network providers, including primary care physicians, specialists, hospitals, '\n",
      "                       'and pharmacies [Northwind_Health_Plus_Benefits_Details.pdf].'}],\n",
      " 'studio_url': None}\n"
     ]
    }
   ],
   "source": [
    "pprint(evaluation, width=150)"
   ]
  },
  {
   "cell_type": "code",
   "execution_count": null,
   "id": "ca1b87d6-d0a2-42aa-9dc9-ccf115f02e71",
   "metadata": {},
   "outputs": [],
   "source": []
  }
 ],
 "metadata": {
  "kernelspec": {
   "display_name": "Python 3.10 - SDK v2",
   "language": "python",
   "name": "python310-sdkv2"
  },
  "language_info": {
   "codemirror_mode": {
    "name": "ipython",
    "version": 3
   },
   "file_extension": ".py",
   "mimetype": "text/x-python",
   "name": "python",
   "nbconvert_exporter": "python",
   "pygments_lexer": "ipython3",
   "version": "3.10.14"
  },
  "varInspector": {
   "cols": {
    "lenName": 16,
    "lenType": 16,
    "lenVar": 40
   },
   "kernels_config": {
    "python": {
     "delete_cmd_postfix": "",
     "delete_cmd_prefix": "del ",
     "library": "var_list.py",
     "varRefreshCmd": "print(var_dic_list())"
    },
    "r": {
     "delete_cmd_postfix": ") ",
     "delete_cmd_prefix": "rm(",
     "library": "var_list.r",
     "varRefreshCmd": "cat(var_dic_list()) "
    }
   },
   "types_to_exclude": [
    "module",
    "function",
    "builtin_function_or_method",
    "instance",
    "_Feature"
   ],
   "window_display": false
  }
 },
 "nbformat": 4,
 "nbformat_minor": 5
}
