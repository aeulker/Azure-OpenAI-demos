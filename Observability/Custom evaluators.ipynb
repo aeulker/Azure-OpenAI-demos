{
 "cells": [
  {
   "cell_type": "markdown",
   "id": "ecd959bf-35be-45e3-b051-068f5b84a7fa",
   "metadata": {},
   "source": [
    "# Custom evaluator\n",
    "\n",
    "> https://learn.microsoft.com/en-us/azure/ai-foundry/concepts/evaluation-evaluators/custom-evaluators"
   ]
  },
  {
   "cell_type": "code",
   "execution_count": 1,
   "id": "0150efa0-072b-4c26-a3fc-7704fcf19804",
   "metadata": {},
   "outputs": [],
   "source": [
    "import datetime\n",
    "import json\n",
    "import os\n",
    "import sys\n",
    "\n",
    "from azure.ai.evaluation import AzureOpenAIModelConfiguration\n",
    "from dotenv import load_dotenv\n",
    "from promptflow.client import load_flow"
   ]
  },
  {
   "cell_type": "code",
   "execution_count": 2,
   "id": "ea0568ae-8a78-4e55-a8fa-56725fb56e5e",
   "metadata": {},
   "outputs": [
    {
     "data": {
      "text/plain": [
       "'3.10.14 (main, May  6 2024, 19:42:50) [GCC 11.2.0]'"
      ]
     },
     "execution_count": 2,
     "metadata": {},
     "output_type": "execute_result"
    }
   ],
   "source": [
    "sys.version"
   ]
  },
  {
   "cell_type": "code",
   "execution_count": 3,
   "id": "e3426521-e62a-4a97-833c-3830e24bdba7",
   "metadata": {},
   "outputs": [
    {
     "name": "stdout",
     "output_type": "stream",
     "text": [
      "Today is 26-Jun-2025 12:48:56\n"
     ]
    }
   ],
   "source": [
    "print(f\"Today is {datetime.datetime.today().strftime('%d-%b-%Y %H:%M:%S')}\")"
   ]
  },
  {
   "cell_type": "code",
   "execution_count": 4,
   "id": "8b1c6a16-159d-4289-a4d1-c944f0b60a90",
   "metadata": {},
   "outputs": [],
   "source": [
    "load_dotenv(\"azure.env\")\n",
    "\n",
    "endpoint = os.getenv(\"endpoint\")\n",
    "key = os.getenv(\"key\")\n",
    "\n",
    "azure_deployment = \"gpt-4.1\"\n",
    "api_version = \"2024-10-21\""
   ]
  },
  {
   "cell_type": "code",
   "execution_count": 5,
   "id": "1503d766-5f59-4614-b761-af2fb258430c",
   "metadata": {},
   "outputs": [],
   "source": [
    "model_config = AzureOpenAIModelConfiguration(\n",
    "    azure_endpoint=endpoint,\n",
    "    api_key=key,\n",
    "    azure_deployment=azure_deployment,\n",
    "    api_version=api_version,\n",
    ")"
   ]
  },
  {
   "cell_type": "markdown",
   "id": "d89cf5cf-560c-41ce-b6e4-3026d13d999a",
   "metadata": {},
   "source": [
    "## Code-based evaluator example"
   ]
  },
  {
   "cell_type": "code",
   "execution_count": 6,
   "id": "4316e348-7af8-4fee-9b87-43088ecd69f5",
   "metadata": {},
   "outputs": [],
   "source": [
    "class Answer_Length_Evaluator:\n",
    "    def __init__(self):\n",
    "        pass\n",
    "    def __call__(self, *, answer: str, **kwargs):\n",
    "        return {\"answer_length\": len(answer)}"
   ]
  },
  {
   "cell_type": "code",
   "execution_count": 7,
   "id": "e88d4e8e-a7eb-4418-a67e-a316d9e5e179",
   "metadata": {},
   "outputs": [],
   "source": [
    "answerlength_evaluator = Answer_Length_Evaluator()"
   ]
  },
  {
   "cell_type": "code",
   "execution_count": 8,
   "id": "628db2af-ebbf-49c2-9ff2-5a4f8fb835c2",
   "metadata": {},
   "outputs": [
    {
     "data": {
      "text/plain": [
       "{'answer_length': 5}"
      ]
     },
     "execution_count": 8,
     "metadata": {},
     "output_type": "execute_result"
    }
   ],
   "source": [
    "answerlength_evaluator(answer=\"Hello\")"
   ]
  },
  {
   "cell_type": "code",
   "execution_count": 9,
   "id": "bd3abfed-c113-4205-978d-a4c6b9201d17",
   "metadata": {},
   "outputs": [
    {
     "data": {
      "text/plain": [
       "{'answer_length': 2}"
      ]
     },
     "execution_count": 9,
     "metadata": {},
     "output_type": "execute_result"
    }
   ],
   "source": [
    "answerlength_evaluator(answer=\"Hi\")"
   ]
  },
  {
   "cell_type": "markdown",
   "id": "e6085286-ae9e-45e3-b3a8-355659c7049b",
   "metadata": {},
   "source": [
    "## Prompt-based evaluators"
   ]
  },
  {
   "cell_type": "code",
   "execution_count": 10,
   "id": "7f42eccd-32da-4b1a-9a6b-44c485c59e24",
   "metadata": {},
   "outputs": [],
   "source": [
    "prompty_file = \"test.prompty\""
   ]
  },
  {
   "cell_type": "code",
   "execution_count": 11,
   "id": "cea1c939-5b59-4ff6-9817-af9fe702ed77",
   "metadata": {},
   "outputs": [
    {
     "name": "stdout",
     "output_type": "stream",
     "text": [
      "-rwxrwxrwx 1 root root 1.4K Jun 26 12:37 test.prompty\n"
     ]
    }
   ],
   "source": [
    "!ls $prompty_file -lh"
   ]
  },
  {
   "cell_type": "code",
   "execution_count": 12,
   "id": "69997727-4c4a-4f0c-b75b-c5339ec0d8a0",
   "metadata": {},
   "outputs": [
    {
     "name": "stdout",
     "output_type": "stream",
     "text": [
      "---\n",
      "name: Friendliness Evaluator\n",
      "description: Friendliness Evaluator to measure warmth and approachability of answers.\n",
      "model:\n",
      "  api: chat\n",
      "  configuration:\n",
      "    type: azure_openai\n",
      "    azure_endpoint: ${env:AZURE_OPENAI_ENDPOINT}\n",
      "    azure_deployment: gpt-4o-mini\n",
      "  parameters:\n",
      "    model:\n",
      "    temperature: 0.1\n",
      "inputs:\n",
      "  response:\n",
      "    type: string\n",
      "outputs:\n",
      "  score:\n",
      "    type: int\n",
      "  explanation:\n",
      "    type: string\n",
      "---\n",
      "\n",
      "system:\n",
      "Friendliness assesses the warmth and approachability of the answer. Rate the friendliness of the response between one to five stars using the following scale:\n",
      "\n",
      "One star: the answer is unfriendly or hostile\n",
      "\n",
      "Two stars: the answer is mostly unfriendly\n",
      "\n",
      "Three stars: the answer is neutral\n",
      "\n",
      "Four stars: the answer is mostly friendly\n",
      "\n",
      "Five stars: the answer is very friendly\n",
      "\n",
      "Please assign a rating between 1 and 5 based on the tone and demeanor of the response.\n",
      "\n",
      "**Example 1**\n",
      "generated_query: I just don't feel like helping you! Your questions are getting very annoying.\n",
      "output:\n",
      "{\"score\": 1, \"reason\": \"The response is not warm and is resisting to be providing helpful information.\"}\n",
      "**Example 2**\n",
      "generated_query: I'm sorry this watch is not working for you. Very happy to assist you with a replacement.\n",
      "output:\n",
      "{\"score\": 5, \"reason\": \"The response is warm and empathetic, offering a resolution with care.\"}\n",
      "\n",
      "\n",
      "**Here the actual conversation to be scored:**\n",
      "generated_query: {{response}}\n",
      "output:\n"
     ]
    }
   ],
   "source": [
    "with open(prompty_file, 'r') as f:\n",
    "    print(f.read())"
   ]
  },
  {
   "cell_type": "code",
   "execution_count": 13,
   "id": "e7e9215d-dedf-4bf2-bb47-0859ae3fb045",
   "metadata": {},
   "outputs": [],
   "source": [
    "class Friendliness_Evaluator:\n",
    "    def __init__(self, model_config):\n",
    "        prompty_path = prompty_file\n",
    "        self._flow = load_flow(source=prompty_path, model={\"configuration\": model_config})\n",
    "\n",
    "    def __call__(self, *, response: str, **kwargs):\n",
    "        llm_response = self._flow(response=response)\n",
    "        try:\n",
    "            response = json.loads(llm_response)\n",
    "        except Exception as ex:\n",
    "            response = llm_response\n",
    "        return response"
   ]
  },
  {
   "cell_type": "code",
   "execution_count": 14,
   "id": "967901d8-dda1-4c2e-b67e-2302c7d9eb4f",
   "metadata": {},
   "outputs": [],
   "source": [
    "friendliness_eval = Friendliness_Evaluator(model_config)"
   ]
  },
  {
   "cell_type": "code",
   "execution_count": 15,
   "id": "8954122d-f528-4a76-ad2d-f3ab8d203e63",
   "metadata": {},
   "outputs": [
    {
     "data": {
      "text/plain": [
       "{'score': 2,\n",
       " 'reason': 'The response is dismissive and lacks warmth or approachability. It does not engage with the user in a friendly or helpful manner.'}"
      ]
     },
     "execution_count": 15,
     "metadata": {},
     "output_type": "execute_result"
    }
   ],
   "source": [
    "friendliness_score = friendliness_eval(response=\"Not my fault\")\n",
    "friendliness_score"
   ]
  },
  {
   "cell_type": "code",
   "execution_count": 16,
   "id": "e8b9cdaa-a5e7-42d8-bdd5-2682d2125133",
   "metadata": {},
   "outputs": [
    {
     "data": {
      "text/plain": [
       "{'score': 4,\n",
       " 'reason': 'The response is polite and acknowledges responsibility, which is friendly and considerate, though it could be warmer with additional reassurance or support.'}"
      ]
     },
     "execution_count": 16,
     "metadata": {},
     "output_type": "execute_result"
    }
   ],
   "source": [
    "friendliness_score = friendliness_eval(response=\"I am sorry. My fault\")\n",
    "friendliness_score"
   ]
  },
  {
   "cell_type": "code",
   "execution_count": null,
   "id": "3b1e487c-1917-462f-9cd7-66379241e84f",
   "metadata": {},
   "outputs": [],
   "source": []
  }
 ],
 "metadata": {
  "kernelspec": {
   "display_name": "Python 3.10 - SDK v2",
   "language": "python",
   "name": "python310-sdkv2"
  },
  "language_info": {
   "codemirror_mode": {
    "name": "ipython",
    "version": 3
   },
   "file_extension": ".py",
   "mimetype": "text/x-python",
   "name": "python",
   "nbconvert_exporter": "python",
   "pygments_lexer": "ipython3",
   "version": "3.10.14"
  }
 },
 "nbformat": 4,
 "nbformat_minor": 5
}
