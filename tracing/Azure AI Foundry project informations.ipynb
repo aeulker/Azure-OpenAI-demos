{
 "cells": [
  {
   "cell_type": "markdown",
   "id": "8d78328a-d6b3-4368-a54a-304022cd67f9",
   "metadata": {},
   "source": [
    "# Azure AI Foundry project informations"
   ]
  },
  {
   "cell_type": "code",
   "execution_count": 1,
   "id": "d3d24d09-6016-494c-8b86-84c545541d90",
   "metadata": {},
   "outputs": [],
   "source": [
    "import datetime\n",
    "import pandas as pd\n",
    "import sys\n",
    "\n",
    "from azure.ai.projects import AIProjectClient\n",
    "from azure.identity import DefaultAzureCredential\n",
    "from dotenv import load_dotenv"
   ]
  },
  {
   "cell_type": "code",
   "execution_count": 2,
   "id": "e0dbb0b3-5df6-4e52-a0d5-27965d169cc3",
   "metadata": {},
   "outputs": [
    {
     "data": {
      "text/plain": [
       "'3.10.14 (main, May  6 2024, 19:42:50) [GCC 11.2.0]'"
      ]
     },
     "execution_count": 2,
     "metadata": {},
     "output_type": "execute_result"
    }
   ],
   "source": [
    "sys.version"
   ]
  },
  {
   "cell_type": "code",
   "execution_count": 3,
   "id": "145699a7-7fd4-44c5-b604-4ada192ac74a",
   "metadata": {},
   "outputs": [
    {
     "name": "stdout",
     "output_type": "stream",
     "text": [
      "Today is 26-Jun-2025 12:22:55\n"
     ]
    }
   ],
   "source": [
    "print(f\"Today is {datetime.datetime.today().strftime('%d-%b-%Y %H:%M:%S')}\")"
   ]
  },
  {
   "cell_type": "markdown",
   "id": "1f68fcf9-cfa2-4eda-95dd-832abfb24053",
   "metadata": {},
   "source": [
    "## Project client"
   ]
  },
  {
   "cell_type": "code",
   "execution_count": 4,
   "id": "e5054054-6913-4c72-9823-bb011e4ff62c",
   "metadata": {},
   "outputs": [],
   "source": [
    "load_dotenv(\"azure.env\")\n",
    "\n",
    "azure_foundry_project = os.getenv(\"azure_foundry_project\")"
   ]
  },
  {
   "cell_type": "code",
   "execution_count": 5,
   "id": "ab194110-35eb-4348-ae4e-99936d2b6348",
   "metadata": {},
   "outputs": [],
   "source": [
    "project_client = AIProjectClient(\n",
    "    credential=DefaultAzureCredential(),\n",
    "    endpoint=azure_foundry_project,\n",
    ")"
   ]
  },
  {
   "cell_type": "markdown",
   "id": "4e42f932-d668-4aa4-ab4a-6f4001d5c594",
   "metadata": {},
   "source": [
    "## Project deployed models and connections"
   ]
  },
  {
   "cell_type": "code",
   "execution_count": 6,
   "id": "a99a1062-ed0d-4978-9095-41475f24f757",
   "metadata": {},
   "outputs": [
    {
     "data": {
      "text/html": [
       "<div>\n",
       "<style scoped>\n",
       "    .dataframe tbody tr th:only-of-type {\n",
       "        vertical-align: middle;\n",
       "    }\n",
       "\n",
       "    .dataframe tbody tr th {\n",
       "        vertical-align: top;\n",
       "    }\n",
       "\n",
       "    .dataframe thead th {\n",
       "        text-align: right;\n",
       "    }\n",
       "</style>\n",
       "<table border=\"1\" class=\"dataframe\">\n",
       "  <thead>\n",
       "    <tr style=\"text-align: right;\">\n",
       "      <th></th>\n",
       "      <th>name</th>\n",
       "      <th>model</th>\n",
       "      <th>version</th>\n",
       "      <th>publisher</th>\n",
       "      <th>capabilities</th>\n",
       "      <th>sku</th>\n",
       "      <th>capacity</th>\n",
       "    </tr>\n",
       "  </thead>\n",
       "  <tbody>\n",
       "    <tr>\n",
       "      <th>0</th>\n",
       "      <td>o4-mini</td>\n",
       "      <td>o4-mini</td>\n",
       "      <td>2025-04-16</td>\n",
       "      <td>OpenAI</td>\n",
       "      <td>chat_completion</td>\n",
       "      <td>GlobalStandard</td>\n",
       "      <td>850</td>\n",
       "    </tr>\n",
       "    <tr>\n",
       "      <th>1</th>\n",
       "      <td>gpt-4.1</td>\n",
       "      <td>gpt-4.1</td>\n",
       "      <td>2025-04-14</td>\n",
       "      <td>OpenAI</td>\n",
       "      <td>chat_completion</td>\n",
       "      <td>GlobalStandard</td>\n",
       "      <td>850</td>\n",
       "    </tr>\n",
       "    <tr>\n",
       "      <th>2</th>\n",
       "      <td>gpt-4o</td>\n",
       "      <td>gpt-4o</td>\n",
       "      <td>2024-11-20</td>\n",
       "      <td>OpenAI</td>\n",
       "      <td>chat_completion</td>\n",
       "      <td>Standard</td>\n",
       "      <td>150</td>\n",
       "    </tr>\n",
       "    <tr>\n",
       "      <th>3</th>\n",
       "      <td>gpt-4o-mini</td>\n",
       "      <td>gpt-4o-mini</td>\n",
       "      <td>2024-07-18</td>\n",
       "      <td>OpenAI</td>\n",
       "      <td>chat_completion</td>\n",
       "      <td>Standard</td>\n",
       "      <td>450</td>\n",
       "    </tr>\n",
       "    <tr>\n",
       "      <th>4</th>\n",
       "      <td>model-router</td>\n",
       "      <td>model-router</td>\n",
       "      <td>2025-05-19</td>\n",
       "      <td>OpenAI</td>\n",
       "      <td>chat_completion</td>\n",
       "      <td>GlobalStandard</td>\n",
       "      <td>130</td>\n",
       "    </tr>\n",
       "    <tr>\n",
       "      <th>5</th>\n",
       "      <td>o3</td>\n",
       "      <td>o3</td>\n",
       "      <td>2025-04-16</td>\n",
       "      <td>OpenAI</td>\n",
       "      <td>chat_completion</td>\n",
       "      <td>GlobalStandard</td>\n",
       "      <td>150</td>\n",
       "    </tr>\n",
       "    <tr>\n",
       "      <th>6</th>\n",
       "      <td>DeepSeek-R1-0528</td>\n",
       "      <td>DeepSeek-R1-0528</td>\n",
       "      <td>1</td>\n",
       "      <td>DeepSeek</td>\n",
       "      <td>chat_completion</td>\n",
       "      <td>GlobalStandard</td>\n",
       "      <td>1</td>\n",
       "    </tr>\n",
       "    <tr>\n",
       "      <th>7</th>\n",
       "      <td>grok-3</td>\n",
       "      <td>grok-3</td>\n",
       "      <td>1</td>\n",
       "      <td>xAI</td>\n",
       "      <td>chat_completion</td>\n",
       "      <td>GlobalStandard</td>\n",
       "      <td>1</td>\n",
       "    </tr>\n",
       "    <tr>\n",
       "      <th>8</th>\n",
       "      <td>text-embedding-3-large</td>\n",
       "      <td>text-embedding-3-large</td>\n",
       "      <td>1</td>\n",
       "      <td>OpenAI</td>\n",
       "      <td>embeddings</td>\n",
       "      <td>GlobalStandard</td>\n",
       "      <td>150</td>\n",
       "    </tr>\n",
       "    <tr>\n",
       "      <th>9</th>\n",
       "      <td>text-embedding-ada-002</td>\n",
       "      <td>text-embedding-ada-002</td>\n",
       "      <td>2</td>\n",
       "      <td>OpenAI</td>\n",
       "      <td>embeddings</td>\n",
       "      <td>GlobalStandard</td>\n",
       "      <td>150</td>\n",
       "    </tr>\n",
       "    <tr>\n",
       "      <th>10</th>\n",
       "      <td>dall-e-3</td>\n",
       "      <td>dall-e-3</td>\n",
       "      <td>3.0</td>\n",
       "      <td>OpenAI</td>\n",
       "      <td></td>\n",
       "      <td>Standard</td>\n",
       "      <td>2</td>\n",
       "    </tr>\n",
       "    <tr>\n",
       "      <th>11</th>\n",
       "      <td>gpt-4o-mini-realtime-preview</td>\n",
       "      <td>gpt-4o-mini-realtime-preview</td>\n",
       "      <td>2024-12-17</td>\n",
       "      <td>OpenAI</td>\n",
       "      <td>chat_completion, completion</td>\n",
       "      <td>GlobalStandard</td>\n",
       "      <td>6</td>\n",
       "    </tr>\n",
       "    <tr>\n",
       "      <th>12</th>\n",
       "      <td>Phi-4</td>\n",
       "      <td>Phi-4</td>\n",
       "      <td>7</td>\n",
       "      <td>Microsoft</td>\n",
       "      <td>chat_completion</td>\n",
       "      <td>GlobalStandard</td>\n",
       "      <td>1</td>\n",
       "    </tr>\n",
       "    <tr>\n",
       "      <th>13</th>\n",
       "      <td>gpt-35-turbo</td>\n",
       "      <td>gpt-35-turbo</td>\n",
       "      <td>0125</td>\n",
       "      <td>OpenAI</td>\n",
       "      <td>chat_completion</td>\n",
       "      <td>Standard</td>\n",
       "      <td>100</td>\n",
       "    </tr>\n",
       "    <tr>\n",
       "      <th>14</th>\n",
       "      <td>DeepSeek-V3-0324</td>\n",
       "      <td>DeepSeek-V3-0324</td>\n",
       "      <td>1</td>\n",
       "      <td>DeepSeek</td>\n",
       "      <td>chat_completion</td>\n",
       "      <td>GlobalStandard</td>\n",
       "      <td>1</td>\n",
       "    </tr>\n",
       "    <tr>\n",
       "      <th>15</th>\n",
       "      <td>mistral-small-2503</td>\n",
       "      <td>mistral-small-2503</td>\n",
       "      <td>1</td>\n",
       "      <td>Mistral AI</td>\n",
       "      <td>chat_completion</td>\n",
       "      <td>GlobalStandard</td>\n",
       "      <td>1</td>\n",
       "    </tr>\n",
       "    <tr>\n",
       "      <th>16</th>\n",
       "      <td>gpt-4.1-mini</td>\n",
       "      <td>gpt-4.1-mini</td>\n",
       "      <td>2025-04-14</td>\n",
       "      <td>OpenAI</td>\n",
       "      <td>chat_completion</td>\n",
       "      <td>GlobalStandard</td>\n",
       "      <td>130</td>\n",
       "    </tr>\n",
       "    <tr>\n",
       "      <th>17</th>\n",
       "      <td>codex-mini</td>\n",
       "      <td>codex-mini</td>\n",
       "      <td>2025-05-16</td>\n",
       "      <td>OpenAI</td>\n",
       "      <td>chat_completion</td>\n",
       "      <td>GlobalStandard</td>\n",
       "      <td>150</td>\n",
       "    </tr>\n",
       "    <tr>\n",
       "      <th>18</th>\n",
       "      <td>o3-pro</td>\n",
       "      <td>o3-pro</td>\n",
       "      <td>2025-06-10</td>\n",
       "      <td>OpenAI</td>\n",
       "      <td></td>\n",
       "      <td>GlobalStandard</td>\n",
       "      <td>100</td>\n",
       "    </tr>\n",
       "    <tr>\n",
       "      <th>19</th>\n",
       "      <td>grok-3-mini</td>\n",
       "      <td>grok-3-mini</td>\n",
       "      <td>1</td>\n",
       "      <td>xAI</td>\n",
       "      <td>chat_completion</td>\n",
       "      <td>GlobalStandard</td>\n",
       "      <td>1</td>\n",
       "    </tr>\n",
       "  </tbody>\n",
       "</table>\n",
       "</div>"
      ],
      "text/plain": [
       "                            name                         model     version  \\\n",
       "0                        o4-mini                       o4-mini  2025-04-16   \n",
       "1                        gpt-4.1                       gpt-4.1  2025-04-14   \n",
       "2                         gpt-4o                        gpt-4o  2024-11-20   \n",
       "3                    gpt-4o-mini                   gpt-4o-mini  2024-07-18   \n",
       "4                   model-router                  model-router  2025-05-19   \n",
       "5                             o3                            o3  2025-04-16   \n",
       "6               DeepSeek-R1-0528              DeepSeek-R1-0528           1   \n",
       "7                         grok-3                        grok-3           1   \n",
       "8         text-embedding-3-large        text-embedding-3-large           1   \n",
       "9         text-embedding-ada-002        text-embedding-ada-002           2   \n",
       "10                      dall-e-3                      dall-e-3         3.0   \n",
       "11  gpt-4o-mini-realtime-preview  gpt-4o-mini-realtime-preview  2024-12-17   \n",
       "12                         Phi-4                         Phi-4           7   \n",
       "13                  gpt-35-turbo                  gpt-35-turbo        0125   \n",
       "14              DeepSeek-V3-0324              DeepSeek-V3-0324           1   \n",
       "15            mistral-small-2503            mistral-small-2503           1   \n",
       "16                  gpt-4.1-mini                  gpt-4.1-mini  2025-04-14   \n",
       "17                    codex-mini                    codex-mini  2025-05-16   \n",
       "18                        o3-pro                        o3-pro  2025-06-10   \n",
       "19                   grok-3-mini                   grok-3-mini           1   \n",
       "\n",
       "     publisher                 capabilities             sku  capacity  \n",
       "0       OpenAI              chat_completion  GlobalStandard       850  \n",
       "1       OpenAI              chat_completion  GlobalStandard       850  \n",
       "2       OpenAI              chat_completion        Standard       150  \n",
       "3       OpenAI              chat_completion        Standard       450  \n",
       "4       OpenAI              chat_completion  GlobalStandard       130  \n",
       "5       OpenAI              chat_completion  GlobalStandard       150  \n",
       "6     DeepSeek              chat_completion  GlobalStandard         1  \n",
       "7          xAI              chat_completion  GlobalStandard         1  \n",
       "8       OpenAI                   embeddings  GlobalStandard       150  \n",
       "9       OpenAI                   embeddings  GlobalStandard       150  \n",
       "10      OpenAI                                     Standard         2  \n",
       "11      OpenAI  chat_completion, completion  GlobalStandard         6  \n",
       "12   Microsoft              chat_completion  GlobalStandard         1  \n",
       "13      OpenAI              chat_completion        Standard       100  \n",
       "14    DeepSeek              chat_completion  GlobalStandard         1  \n",
       "15  Mistral AI              chat_completion  GlobalStandard         1  \n",
       "16      OpenAI              chat_completion  GlobalStandard       130  \n",
       "17      OpenAI              chat_completion  GlobalStandard       150  \n",
       "18      OpenAI                               GlobalStandard       100  \n",
       "19         xAI              chat_completion  GlobalStandard         1  "
      ]
     },
     "execution_count": 6,
     "metadata": {},
     "output_type": "execute_result"
    }
   ],
   "source": [
    "deploy_list = []\n",
    "\n",
    "for deployment in project_client.deployments.list():\n",
    "    deploy_list.append({\n",
    "        \"name\":\n",
    "        deployment[\"name\"],\n",
    "        \"model\":\n",
    "        deployment[\"modelName\"],\n",
    "        \"version\":\n",
    "        deployment[\"modelVersion\"],\n",
    "        \"publisher\":\n",
    "        deployment[\"modelPublisher\"],\n",
    "        \"capabilities\":\n",
    "        \", \".join(deployment[\"capabilities\"].keys()),\n",
    "        \"sku\":\n",
    "        deployment[\"sku\"][\"name\"],\n",
    "        \"capacity\":\n",
    "        deployment[\"sku\"][\"capacity\"],\n",
    "    })\n",
    "\n",
    "df = pd.DataFrame(deploy_list)\n",
    "df"
   ]
  },
  {
   "cell_type": "code",
   "execution_count": 7,
   "id": "fb554d84-039a-4f85-bc8b-cd627bcd244f",
   "metadata": {},
   "outputs": [
    {
     "data": {
      "text/plain": [
       "<Axes: ylabel='publisher'>"
      ]
     },
     "execution_count": 7,
     "metadata": {},
     "output_type": "execute_result"
    },
    {
     "data": {
      "image/png": "[encoded data removed]",
      "text/plain": [
       "<Figure size 640x480 with 1 Axes>"
      ]
     },
     "metadata": {},
     "output_type": "display_data"
    }
   ],
   "source": [
    "df['publisher'].value_counts(sort=True).plot.barh()"
   ]
  },
  {
   "cell_type": "code",
   "execution_count": 8,
   "id": "73f6c102-2e2e-4d12-9490-b1c749beb19d",
   "metadata": {},
   "outputs": [
    {
     "data": {
      "text/plain": [
       "<Axes: ylabel='capabilities'>"
      ]
     },
     "execution_count": 8,
     "metadata": {},
     "output_type": "execute_result"
    },
    {
     "data": {
      "image/png": "[encoded data removed]",
      "text/plain": [
       "<Figure size 640x480 with 1 Axes>"
      ]
     },
     "metadata": {},
     "output_type": "display_data"
    }
   ],
   "source": [
    "df['capabilities'].value_counts(sort=True).plot.barh()"
   ]
  },
  {
   "cell_type": "code",
   "execution_count": 9,
   "id": "c9220005-2428-46f8-bed2-4dabbea3d5b0",
   "metadata": {},
   "outputs": [
    {
     "data": {
      "text/plain": [
       "<Axes: ylabel='sku'>"
      ]
     },
     "execution_count": 9,
     "metadata": {},
     "output_type": "execute_result"
    },
    {
     "data": {
      "image/png": "[encoded data removed]",
      "text/plain": [
       "<Figure size 640x480 with 1 Axes>"
      ]
     },
     "metadata": {},
     "output_type": "display_data"
    }
   ],
   "source": [
    "df['sku'].value_counts(sort=True).plot.barh()"
   ]
  },
  {
   "cell_type": "code",
   "execution_count": 10,
   "id": "644bea8d-061a-4a41-b861-5c252280d8d6",
   "metadata": {},
   "outputs": [
    {
     "name": "stdout",
     "output_type": "stream",
     "text": [
      "{'name': 'DeepSeek-R1-0528', 'type': 'ModelDeployment', 'modelName': 'DeepSeek-R1-0528', 'modelVersion': '1', 'modelPublisher': 'DeepSeek', 'capabilities': {'chat_completion': 'true'}, 'sku': {'name': 'GlobalStandard', 'capacity': 1}}\n",
      "\n",
      "{'name': 'DeepSeek-V3-0324', 'type': 'ModelDeployment', 'modelName': 'DeepSeek-V3-0324', 'modelVersion': '1', 'modelPublisher': 'DeepSeek', 'capabilities': {'chat_completion': 'true'}, 'sku': {'name': 'GlobalStandard', 'capacity': 1}}\n",
      "\n"
     ]
    }
   ],
   "source": [
    "model_publisher = \"DeepSeek\"\n",
    "\n",
    "for deployment in project_client.deployments.list(\n",
    "        model_publisher=model_publisher):\n",
    "    print(deployment)\n",
    "    print()"
   ]
  },
  {
   "cell_type": "code",
   "execution_count": 11,
   "id": "95e7efcd-476e-450e-b1a9-14455d96cf19",
   "metadata": {},
   "outputs": [
    {
     "name": "stdout",
     "output_type": "stream",
     "text": [
      "{'name': 'o4-mini', 'type': 'ModelDeployment', 'modelName': 'o4-mini', 'modelVersion': '2025-04-16', 'modelPublisher': 'OpenAI', 'capabilities': {'chat_completion': 'true'}, 'sku': {'name': 'GlobalStandard', 'capacity': 850}}\n"
     ]
    }
   ],
   "source": [
    "model_name = \"o4-mini\"\n",
    "\n",
    "for deployment in project_client.deployments.list(model_name=model_name):\n",
    "    print(deployment)"
   ]
  },
  {
   "cell_type": "code",
   "execution_count": 12,
   "id": "901cc736-0942-465e-843c-bc91b69718dd",
   "metadata": {},
   "outputs": [
    {
     "name": "stdout",
     "output_type": "stream",
     "text": [
      "{'name': 'gpt-4o', 'type': 'ModelDeployment', 'modelName': 'gpt-4o', 'modelVersion': '2024-11-20', 'modelPublisher': 'OpenAI', 'capabilities': {'chat_completion': 'true'}, 'sku': {'name': 'Standard', 'capacity': 150}}\n"
     ]
    }
   ],
   "source": [
    "model_deployment_name = \"gpt-4o\"\n",
    "\n",
    "deployment = project_client.deployments.get(model_deployment_name)\n",
    "print(deployment)"
   ]
  },
  {
   "cell_type": "code",
   "execution_count": 13,
   "id": "7536cd49-586c-4909-9bac-ee52e0f5f25f",
   "metadata": {},
   "outputs": [
    {
     "name": "stdout",
     "output_type": "stream",
     "text": [
      "List all connections:\n",
      "\n",
      "ai-seretkow-6903                                                       AIServices\n",
      "seret-mbkyml90-australiaeast                                           AIServices\n",
      "seret-mbkypzmj-uaenorth                                                AIServices\n",
      "azureopenaieastustwosr                                                 AzureOpenAI\n",
      "seret-ma25ys8m-westus3                                                 AIServices\n",
      "fs2fmrsxo3hekv6                                                        AzureStorageAccount\n",
      "azurestorageaccountsr                                                  AzureStorageAccount\n",
      "hrweb                                                                  CustomKeys\n",
      "azureaisearchsr                                                        CognitiveSearch\n",
      "LogicApps_Tool_Connection_Sendemailoutlook_5358                        CustomKeys\n",
      "azureopenaicanadaeastsr                                                AzureOpenAI\n",
      "bingsearchservice                                                      GroundingWithBingSearch\n",
      "custombingsearchservice                                                ApiKey\n",
      "appInsights-connection-1628                                            AppInsights\n",
      "storageaccountsr                                                       AzureStorageAccount\n"
     ]
    }
   ],
   "source": [
    "print(\"List all connections:\\n\")\n",
    "\n",
    "for connection in project_client.connections.list():\n",
    "    print(f\"{connection.name:70} {connection.type}\")"
   ]
  },
  {
   "cell_type": "code",
   "execution_count": null,
   "id": "0bd35447-aaba-41ca-bbac-4b255c2fa3fb",
   "metadata": {},
   "outputs": [],
   "source": []
  }
 ],
 "metadata": {
  "kernelspec": {
   "display_name": "Python 3.10 - SDK v2",
   "language": "python",
   "name": "python310-sdkv2"
  },
  "language_info": {
   "codemirror_mode": {
    "name": "ipython",
    "version": 3
   },
   "file_extension": ".py",
   "mimetype": "text/x-python",
   "name": "python",
   "nbconvert_exporter": "python",
   "pygments_lexer": "ipython3",
   "version": "3.10.14"
  },
  "varInspector": {
   "cols": {
    "lenName": 16,
    "lenType": 16,
    "lenVar": 40
   },
   "kernels_config": {
    "python": {
     "delete_cmd_postfix": "",
     "delete_cmd_prefix": "del ",
     "library": "var_list.py",
     "varRefreshCmd": "print(var_dic_list())"
    },
    "r": {
     "delete_cmd_postfix": ") ",
     "delete_cmd_prefix": "rm(",
     "library": "var_list.r",
     "varRefreshCmd": "cat(var_dic_list()) "
    }
   },
   "types_to_exclude": [
    "module",
    "function",
    "builtin_function_or_method",
    "instance",
    "_Feature"
   ],
   "window_display": false
  }
 },
 "nbformat": 4,
 "nbformat_minor": 5
}
