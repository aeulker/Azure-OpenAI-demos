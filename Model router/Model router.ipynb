{
 "cells": [
  {
   "cell_type": "markdown",
   "id": "9eb9bec9-49c9-4dae-8d6b-e8205ee03a7a",
   "metadata": {},
   "source": [
    "# Model Router\n",
    "\n",
    "**Model router** for Azure AI Foundry is a deployable AI chat model that is trained to select the best large language model (LLM) to respond to a given prompt in real time. By evaluating factors like query complexity, cost, and performance, it intelligently routes requests to the most suitable model. Thus, it delivers high performance while saving on compute costs where possible, all packaged as a single model deployment.\n",
    "\n",
    "**Model router intelligently selects the best underlying model for a given prompt to optimize costs** while maintaining quality. Smaller and cheaper models are used when they're sufficient for the task, but larger and more expensive models are available for more complex tasks. Also, reasoning models are available for tasks that require complex reasoning, and non-reasoning models are used otherwise. Model router provides a single deployment and chat experience that combines the best features from all of the underlying chat models.\n",
    "\n",
    "Model router will use these models:\n",
    "- 2025-05-19\tGPT-4.1 (2025-04-14)\n",
    "- GPT-4.1-mini (2025-04-14)\n",
    "- GPT-4.1-nano (2025-04-14)\n",
    "- o4-mini (2025-04-16)"
   ]
  },
  {
   "cell_type": "code",
   "execution_count": 1,
   "id": "b2af7ddc-f942-4e13-a973-6485e3975170",
   "metadata": {},
   "outputs": [],
   "source": [
    "import base64\n",
    "import os\n",
    "\n",
    "from azure.identity import DefaultAzureCredential, get_bearer_token_provider\n",
    "from dotenv import load_dotenv\n",
    "from openai import AzureOpenAI"
   ]
  },
  {
   "cell_type": "code",
   "execution_count": 2,
   "id": "881b60c5-0ccf-4fa5-9586-aebcd5487377",
   "metadata": {},
   "outputs": [],
   "source": [
    "load_dotenv(\"azure.env\")\n",
    "\n",
    "endpoint = os.getenv(\"azure_openai_endpoint\")\n",
    "model = \"model-router\""
   ]
  },
  {
   "cell_type": "code",
   "execution_count": 3,
   "id": "965683bb-aaa8-4f26-951f-2104f7c27b95",
   "metadata": {},
   "outputs": [],
   "source": [
    "# Initialize Azure OpenAI client with Entra ID authentication\n",
    "token_provider = get_bearer_token_provider(DefaultAzureCredential(), \"https://cognitiveservices.azure.com/.default\")\n",
    "\n",
    "client = AzureOpenAI(\n",
    "    azure_endpoint=endpoint,\n",
    "    azure_ad_token_provider=token_provider,\n",
    "    api_version=\"2025-01-01-preview\",\n",
    ")"
   ]
  },
  {
   "cell_type": "code",
   "execution_count": 4,
   "id": "46272cd7-3aaf-44c7-ba00-d0ba902c6482",
   "metadata": {},
   "outputs": [],
   "source": [
    "def modelrouter(prompt):\n",
    "    \"\"\"\n",
    "    Generates a response from the chat model based on the provided prompt.\n",
    "\n",
    "    Args:\n",
    "        prompt (str): The user's input to which the chat model will respond.\n",
    "\n",
    "    Returns:\n",
    "        response: The complete response object from the chat model, including the generated message and model details.\n",
    "    \"\"\"\n",
    "    try:\n",
    "        response = client.chat.completions.create(\n",
    "            model=model,\n",
    "            messages=[\n",
    "                {\n",
    "                    \"role\": \"system\",\n",
    "                    \"content\": \"You are a helpful assistant.\"\n",
    "                },\n",
    "                {\n",
    "                    \"role\": \"user\",\n",
    "                    \"content\": prompt,\n",
    "                }\n",
    "            ],\n",
    "            temperature=0.7,\n",
    "        )\n",
    "\n",
    "        print(\"\\033[1;31;34m\")\n",
    "        print(response.choices[0].message.content)\n",
    "        print(\"\\033[1;31;32m\")\n",
    "        print(f\"This model was automatically selected: {response.model}\")\n",
    "        return response\n",
    "\n",
    "    except Exception as e:\n",
    "        print(f\"An error occurred: {e}\")\n",
    "        return None\n"
   ]
  },
  {
   "cell_type": "markdown",
   "id": "5587f174-2f66-4b19-a15f-4417b17bcea8",
   "metadata": {},
   "source": [
    "## Examples"
   ]
  },
  {
   "cell_type": "markdown",
   "id": "f6154725-1804-4907-b3b7-b9773467ac57",
   "metadata": {},
   "source": [
    "### Basic prompt"
   ]
  },
  {
   "cell_type": "code",
   "execution_count": 5,
   "id": "1d87595c-9c24-4f38-bf58-68620b0208d6",
   "metadata": {},
   "outputs": [
    {
     "name": "stdout",
     "output_type": "stream",
     "text": [
      "\u001b[1;31;34m\n",
      "FIFA, which stands for the Fédération Internationale de Football Association, is the international governing body of association football (soccer). Founded in 1904 and headquartered in Zurich, Switzerland, FIFA is responsible for overseeing the global organization and regulation of the sport. Its duties include organizing international competitions such as the FIFA World Cup, establishing the rules of the game, and promoting the development of football worldwide. FIFA also works to ensure fair play, maintain the integrity of the sport, and support national football associations across its member countries.\n",
      "\u001b[1;31;32m\n",
      "This model was automatically selected: gpt-4.1-nano-2025-04-14\n"
     ]
    },
    {
     "data": {
      "text/plain": [
       "ChatCompletion(id='chatcmpl-BduTkM0iyB1HUTPss7R2RKU9GLqeA', choices=[Choice(finish_reason='stop', index=0, logprobs=None, message=ChatCompletionMessage(content='FIFA, which stands for the Fédération Internationale de Football Association, is the international governing body of association football (soccer). Founded in 1904 and headquartered in Zurich, Switzerland, FIFA is responsible for overseeing the global organization and regulation of the sport. Its duties include organizing international competitions such as the FIFA World Cup, establishing the rules of the game, and promoting the development of football worldwide. FIFA also works to ensure fair play, maintain the integrity of the sport, and support national football associations across its member countries.', refusal=None, role='assistant', annotations=[], audio=None, function_call=None, tool_calls=None), content_filter_results={'hate': {'filtered': False, 'severity': 'safe'}, 'protected_material_code': {'detected': False, 'filtered': False}, 'protected_material_text': {'detected': False, 'filtered': False}, 'self_harm': {'filtered': False, 'severity': 'safe'}, 'sexual': {'filtered': False, 'severity': 'safe'}, 'violence': {'filtered': False, 'severity': 'safe'}})], created=1748851596, model='gpt-4.1-nano-2025-04-14', object='chat.completion', service_tier=None, system_fingerprint='fp_68472df8fd', usage=CompletionUsage(completion_tokens=105, prompt_tokens=21, total_tokens=126, completion_tokens_details=CompletionTokensDetails(accepted_prediction_tokens=0, audio_tokens=0, reasoning_tokens=0, rejected_prediction_tokens=0), prompt_tokens_details=PromptTokensDetails(audio_tokens=0, cached_tokens=0)), prompt_filter_results=[{'prompt_index': 0, 'content_filter_results': {'hate': {'filtered': False, 'severity': 'safe'}, 'jailbreak': {'detected': False, 'filtered': False}, 'self_harm': {'filtered': False, 'severity': 'safe'}, 'sexual': {'filtered': False, 'severity': 'safe'}, 'violence': {'filtered': False, 'severity': 'safe'}}}])"
      ]
     },
     "execution_count": 5,
     "metadata": {},
     "output_type": "execute_result"
    }
   ],
   "source": [
    "prompt = \"What is FIFA?\"\n",
    "\n",
    "modelrouter(prompt)"
   ]
  },
  {
   "cell_type": "markdown",
   "id": "b5eec65c-28f7-43a2-87f6-1ca05667bdc3",
   "metadata": {},
   "source": [
    "> gpt-4.1-nano was chosen"
   ]
  },
  {
   "cell_type": "markdown",
   "id": "7276801a-0a3c-4bb0-90d6-bc588024bd4e",
   "metadata": {},
   "source": [
    "### Medium complex prompt"
   ]
  },
  {
   "cell_type": "code",
   "execution_count": 6,
   "id": "498043b4-b76f-492a-a6ec-6501d10919d1",
   "metadata": {},
   "outputs": [
    {
     "name": "stdout",
     "output_type": "stream",
     "text": [
      "\u001b[1;31;34m\n",
      "The most recent FIFA World Cup (as of June 2024) was held in Qatar in 2022. The winner of the 2022 FIFA World Cup was **Argentina**. They defeated France in a dramatic final, which ended 3-3 after extra time, with Argentina winning 4-2 on penalties.\n",
      "\n",
      "**Financial Aspects for Argentina:**\n",
      "\n",
      "1. **Prize Money:**\n",
      "   - Argentina received $42 million in prize money from FIFA for winning the tournament, which is the highest amount ever awarded to a World Cup winner.\n",
      "   - This money is usually distributed among the football federation, players, coaching staff, and for investment in football development.\n",
      "\n",
      "2. **Boost to Football Economy:**\n",
      "   - The victory significantly increased the value of Argentine football, both domestically and internationally.\n",
      "   - Merchandise sales (jerseys, memorabilia, etc.) saw a huge boost, with millions of shirts sold worldwide, especially those with Lionel Messi’s name and number.\n",
      "\n",
      "3. **Sponsorship and Endorsements:**\n",
      "   - Major brands and sponsors increased their association with the Argentine national team and top players.\n",
      "   - Lionel Messi, the team’s captain and global superstar, saw a notable increase in endorsements and commercial deals, which also benefited the country's image and economy.\n",
      "\n",
      "4. **Tourism and Global Image:**\n",
      "   - Winning the World Cup elevated Argentina’s profile globally, leading to increased interest in tourism and culture.\n",
      "   - The country used the victory to promote itself as a tourist destination, expecting a rise in international visitors.\n",
      "\n",
      "5. **Impact on Local Economy:**\n",
      "   - Celebrations and public events after the win stimulated local businesses, especially in Buenos Aires and other major cities.\n",
      "   - Increased demand for local products, hospitality, and services as fans celebrated the historic win.\n",
      "\n",
      "6. **Investment in Sports Infrastructure:**\n",
      "   - Success on the world stage often leads to increased government and private investment in sports facilities, youth academies, and football development programs.\n",
      "\n",
      "**Summary:**  \n",
      "Argentina’s 2022 World Cup win was not just a sporting triumph but also had significant financial and economic benefits for the country. It boosted the football industry, increased sponsorship and commercial revenue, enhanced the country’s global image, and had positive ripple effects on tourism and the local economy.\n",
      "\u001b[1;31;32m\n",
      "This model was automatically selected: gpt-4.1-2025-04-14\n"
     ]
    },
    {
     "data": {
      "text/plain": [
       "ChatCompletion(id='chatcmpl-BduTl2BCoUZajwqdYtu3E1U0s5vps', choices=[Choice(finish_reason='stop', index=0, logprobs=None, message=ChatCompletionMessage(content=\"The most recent FIFA World Cup (as of June 2024) was held in Qatar in 2022. The winner of the 2022 FIFA World Cup was **Argentina**. They defeated France in a dramatic final, which ended 3-3 after extra time, with Argentina winning 4-2 on penalties.\\n\\n**Financial Aspects for Argentina:**\\n\\n1. **Prize Money:**\\n   - Argentina received $42 million in prize money from FIFA for winning the tournament, which is the highest amount ever awarded to a World Cup winner.\\n   - This money is usually distributed among the football federation, players, coaching staff, and for investment in football development.\\n\\n2. **Boost to Football Economy:**\\n   - The victory significantly increased the value of Argentine football, both domestically and internationally.\\n   - Merchandise sales (jerseys, memorabilia, etc.) saw a huge boost, with millions of shirts sold worldwide, especially those with Lionel Messi’s name and number.\\n\\n3. **Sponsorship and Endorsements:**\\n   - Major brands and sponsors increased their association with the Argentine national team and top players.\\n   - Lionel Messi, the team’s captain and global superstar, saw a notable increase in endorsements and commercial deals, which also benefited the country's image and economy.\\n\\n4. **Tourism and Global Image:**\\n   - Winning the World Cup elevated Argentina’s profile globally, leading to increased interest in tourism and culture.\\n   - The country used the victory to promote itself as a tourist destination, expecting a rise in international visitors.\\n\\n5. **Impact on Local Economy:**\\n   - Celebrations and public events after the win stimulated local businesses, especially in Buenos Aires and other major cities.\\n   - Increased demand for local products, hospitality, and services as fans celebrated the historic win.\\n\\n6. **Investment in Sports Infrastructure:**\\n   - Success on the world stage often leads to increased government and private investment in sports facilities, youth academies, and football development programs.\\n\\n**Summary:**  \\nArgentina’s 2022 World Cup win was not just a sporting triumph but also had significant financial and economic benefits for the country. It boosted the football industry, increased sponsorship and commercial revenue, enhanced the country’s global image, and had positive ripple effects on tourism and the local economy.\", refusal=None, role='assistant', annotations=[], audio=None, function_call=None, tool_calls=None), content_filter_results={'hate': {'filtered': False, 'severity': 'safe'}, 'protected_material_code': {'filtered': False, 'detected': False}, 'protected_material_text': {'filtered': False, 'detected': False}, 'self_harm': {'filtered': False, 'severity': 'safe'}, 'sexual': {'filtered': False, 'severity': 'safe'}, 'violence': {'filtered': False, 'severity': 'safe'}})], created=1748851597, model='gpt-4.1-2025-04-14', object='chat.completion', service_tier=None, system_fingerprint='fp_07e970ab25', usage=CompletionUsage(completion_tokens=462, prompt_tokens=37, total_tokens=499, completion_tokens_details=CompletionTokensDetails(accepted_prediction_tokens=0, audio_tokens=0, reasoning_tokens=0, rejected_prediction_tokens=0), prompt_tokens_details=PromptTokensDetails(audio_tokens=0, cached_tokens=0)), prompt_filter_results=[{'prompt_index': 0, 'content_filter_results': {'hate': {'filtered': False, 'severity': 'safe'}, 'jailbreak': {'filtered': False, 'detected': False}, 'self_harm': {'filtered': False, 'severity': 'safe'}, 'sexual': {'filtered': False, 'severity': 'safe'}, 'violence': {'filtered': False, 'severity': 'safe'}}}])"
      ]
     },
     "execution_count": 6,
     "metadata": {},
     "output_type": "execute_result"
    }
   ],
   "source": [
    "prompt = \"Who  won the last world cup? Explain the details for the country in terms of financial aspects.\"\n",
    "\n",
    "modelrouter(prompt)"
   ]
  },
  {
   "cell_type": "markdown",
   "id": "5dff9fe9-ce15-46f9-b9b3-1bdcc4e6cd6b",
   "metadata": {},
   "source": [
    "> gpt-4.1 was chosen"
   ]
  },
  {
   "cell_type": "markdown",
   "id": "271eda66-6c36-48b4-9cfb-a2272797edbb",
   "metadata": {},
   "source": [
    "### Reasoning prompt"
   ]
  },
  {
   "cell_type": "code",
   "execution_count": 7,
   "id": "e16eca21-cb5e-4e1d-b736-27c636539107",
   "metadata": {},
   "outputs": [
    {
     "name": "stdout",
     "output_type": "stream",
     "text": [
      "\u001b[1;31;34m\n",
      "The 2022 FIFA World Cup was won by Argentina, who beat France 4–2 on penalties after a 3–3 draw in the final in Doha on December 18, 2022.  Below is a multi-layered look at that victory—from different perspectives, its ripple effects across world football, and the tactical blueprint Argentina deployed in key matches.\n",
      "\n",
      "1. Different Perspectives  \n",
      "  • Argentinian fans and media  \n",
      "    – A national catharsis and celebration of Lionel Messi, who had never lifted football’s greatest prize despite a glittering career.  \n",
      "    – A unifying moment amid ongoing economic and political challenges at home.  \n",
      "  • Global neutrals  \n",
      "    – A classic final that many neutrals hailed as one of the most dramatic in modern World Cup history.  \n",
      "    – A last-hurrah for Messi on football’s biggest stage, elevating the final to near-mythic status.  \n",
      "  • French perspective  \n",
      "    – Despite battling back from 2–0 down to level at 2–2 (and later 3–3), France ultimately fell short on penalties—prompting soul-searching over fatigue, squad age and tactical adjustments.  \n",
      "  • Qatari hosts and Middle East football  \n",
      "    – The tournament in Qatar drew unprecedented attention to Middle Eastern football infrastructure and investment, even as political controversies swirled in the background.\n",
      "\n",
      "2. Impact on Global Football  \n",
      "  • Lionel Messi’s Legacy  \n",
      "    – Cemented his status among the all-time greats by completing the “holy trinity” of major trophies (World Cup, Champions League, Copa América).  \n",
      "  • Shift in football narratives  \n",
      "    – A renewed appreciation for veteran leaders—Messi, Ángel Di María, Nicolás Otamendi—over purely youth-centric rebuilds.  \n",
      "  • Commercial and cultural spillovers  \n",
      "    – Explosive merchandise and broadcast revenues for Adidas, FIFA and regional sponsors.  \n",
      "    – A surge in grassroots interest in Argentina and across Latin America, fueling academies and youth enrollments.  \n",
      "  • Tactical ripple effects  \n",
      "    – A validation of flexible, “tweener” midfielders (e.g. Rodrigo De Paul) who can both protect the back line and drive forward.  \n",
      "    – Renewed focus on hybrid forward lines—blending a traditional nine (Álvaro) with a false-nine/creator (Messi).\n",
      "\n",
      "3. Argentina’s Tactical Approach in Key Matches  \n",
      "  • Tournament build-up: Compact defense and controlled possession  \n",
      "    – Coach Lionel Scaloni favored a 4-3-3 base that easily morphed into a narrow 4-4-2 or a 4-3-1-2 when Messi drifted centrally.  \n",
      "    – Midfield pivot of Leandro Paredes (when fit), Rodrigo De Paul and Alexis Mac Allister combined ball-retention, pressing triggers and vertical passing.  \n",
      "  • Group-stage momentum  \n",
      "    – After a shocking 2–1 loss to Saudi Arabia, Argentina tightened up and won three straight matches with clean sheets, deploying disciplined defensive lines and lightning-fast counterattacks.  \n",
      "  • Knockout rounds: Control plus counters  \n",
      "    – Round of 16 vs. Australia: Used wide overloads (Di María and Molina) to stretch a deep-defending side, then brought on fullbacks to swat away counters.  \n",
      "    – QF vs. Netherlands (4–3 pens): Sat deeper in extra time, clogged central channels with midfield blocks, then relied on goalkeeper Emiliano Martínez’s “outsider” penalty antics.  \n",
      "    – SF vs. Croatia (3–0): Outnumbered and outworked Croatia’s midfield by aggressively pressing upfront, turning over possession in dangerous areas, and letting Messi and Alvarez exploit the channels.  \n",
      "  • The Final vs. France  \n",
      "    – First half: Fluid 4-3-3 pushed high, isolated France’s fullbacks, leading to two early goals (Messi penalty, Di María finish).  \n",
      "    – Second half: When France accelerated, Argentina ceded some territory, surviving late pressure by regrouping into a compact 4-5-1, delaying attacks and buying time.  \n",
      "    – Extra time: Messi dropped into pockets to link play; Mbappé’s brace forced parity, but Argentina still held shape, letting Martinez grow in influence.  \n",
      "    – Penalty shootout: Psychologically lauded for composure under pressure—an outcome of veteran leadership and deliberate preparation.\n",
      "\n",
      "4. Broader Takeaways  \n",
      "  • The triumph underscored football’s dual imperatives: tactical organization and moments of individual brilliance.  \n",
      "  • It reignited debates over the ideal balance between experience and youth in World Cup–winning squads.  \n",
      "  • Finally, it reasserted football’s power to transcend politics, economics and geography—unifying millions behind the blue-and-white stripes of Argentina one last time in 2022.\n",
      "\u001b[1;31;32m\n",
      "This model was automatically selected: o4-mini-2025-04-16\n"
     ]
    },
    {
     "data": {
      "text/plain": [
       "ChatCompletion(id='chatcmpl-BduTsxBazf1QFpwcfBl97sq9ylAhz', choices=[Choice(finish_reason='stop', index=0, logprobs=None, message=ChatCompletionMessage(content='The 2022 FIFA World Cup was won by Argentina, who beat France 4–2 on penalties after a 3–3 draw in the final in Doha on December 18, 2022.  Below is a multi-layered look at that victory—from different perspectives, its ripple effects across world football, and the tactical blueprint Argentina deployed in key matches.\\n\\n1. Different Perspectives  \\n  • Argentinian fans and media  \\n    – A national catharsis and celebration of Lionel Messi, who had never lifted football’s greatest prize despite a glittering career.  \\n    – A unifying moment amid ongoing economic and political challenges at home.  \\n  • Global neutrals  \\n    – A classic final that many neutrals hailed as one of the most dramatic in modern World Cup history.  \\n    – A last-hurrah for Messi on football’s biggest stage, elevating the final to near-mythic status.  \\n  • French perspective  \\n    – Despite battling back from 2–0 down to level at 2–2 (and later 3–3), France ultimately fell short on penalties—prompting soul-searching over fatigue, squad age and tactical adjustments.  \\n  • Qatari hosts and Middle East football  \\n    – The tournament in Qatar drew unprecedented attention to Middle Eastern football infrastructure and investment, even as political controversies swirled in the background.\\n\\n2. Impact on Global Football  \\n  • Lionel Messi’s Legacy  \\n    – Cemented his status among the all-time greats by completing the “holy trinity” of major trophies (World Cup, Champions League, Copa América).  \\n  • Shift in football narratives  \\n    – A renewed appreciation for veteran leaders—Messi, Ángel Di María, Nicolás Otamendi—over purely youth-centric rebuilds.  \\n  • Commercial and cultural spillovers  \\n    – Explosive merchandise and broadcast revenues for Adidas, FIFA and regional sponsors.  \\n    – A surge in grassroots interest in Argentina and across Latin America, fueling academies and youth enrollments.  \\n  • Tactical ripple effects  \\n    – A validation of flexible, “tweener” midfielders (e.g. Rodrigo De Paul) who can both protect the back line and drive forward.  \\n    – Renewed focus on hybrid forward lines—blending a traditional nine (Álvaro) with a false-nine/creator (Messi).\\n\\n3. Argentina’s Tactical Approach in Key Matches  \\n  • Tournament build-up: Compact defense and controlled possession  \\n    – Coach Lionel Scaloni favored a 4-3-3 base that easily morphed into a narrow 4-4-2 or a 4-3-1-2 when Messi drifted centrally.  \\n    – Midfield pivot of Leandro Paredes (when fit), Rodrigo De Paul and Alexis Mac Allister combined ball-retention, pressing triggers and vertical passing.  \\n  • Group-stage momentum  \\n    – After a shocking 2–1 loss to Saudi Arabia, Argentina tightened up and won three straight matches with clean sheets, deploying disciplined defensive lines and lightning-fast counterattacks.  \\n  • Knockout rounds: Control plus counters  \\n    – Round of 16 vs. Australia: Used wide overloads (Di María and Molina) to stretch a deep-defending side, then brought on fullbacks to swat away counters.  \\n    – QF vs. Netherlands (4–3 pens): Sat deeper in extra time, clogged central channels with midfield blocks, then relied on goalkeeper Emiliano Martínez’s “outsider” penalty antics.  \\n    – SF vs. Croatia (3–0): Outnumbered and outworked Croatia’s midfield by aggressively pressing upfront, turning over possession in dangerous areas, and letting Messi and Alvarez exploit the channels.  \\n  • The Final vs. France  \\n    – First half: Fluid 4-3-3 pushed high, isolated France’s fullbacks, leading to two early goals (Messi penalty, Di María finish).  \\n    – Second half: When France accelerated, Argentina ceded some territory, surviving late pressure by regrouping into a compact 4-5-1, delaying attacks and buying time.  \\n    – Extra time: Messi dropped into pockets to link play; Mbappé’s brace forced parity, but Argentina still held shape, letting Martinez grow in influence.  \\n    – Penalty shootout: Psychologically lauded for composure under pressure—an outcome of veteran leadership and deliberate preparation.\\n\\n4. Broader Takeaways  \\n  • The triumph underscored football’s dual imperatives: tactical organization and moments of individual brilliance.  \\n  • It reignited debates over the ideal balance between experience and youth in World Cup–winning squads.  \\n  • Finally, it reasserted football’s power to transcend politics, economics and geography—unifying millions behind the blue-and-white stripes of Argentina one last time in 2022.', refusal=None, role='assistant', annotations=[], audio=None, function_call=None, tool_calls=None), content_filter_results={'hate': {'filtered': False, 'severity': 'safe'}, 'protected_material_code': {'filtered': False, 'detected': False}, 'protected_material_text': {'filtered': False, 'detected': False}, 'self_harm': {'filtered': False, 'severity': 'safe'}, 'sexual': {'filtered': False, 'severity': 'safe'}, 'violence': {'filtered': False, 'severity': 'safe'}})], created=1748851604, model='o4-mini-2025-04-16', object='chat.completion', service_tier=None, system_fingerprint=None, usage=CompletionUsage(completion_tokens=1154, prompt_tokens=52, total_tokens=1206, completion_tokens_details=CompletionTokensDetails(accepted_prediction_tokens=0, audio_tokens=0, reasoning_tokens=128, rejected_prediction_tokens=0), prompt_tokens_details=PromptTokensDetails(audio_tokens=0, cached_tokens=0)), prompt_filter_results=[{'prompt_index': 0, 'content_filter_results': {'hate': {'filtered': False, 'severity': 'safe'}, 'jailbreak': {'filtered': False, 'detected': False}, 'self_harm': {'filtered': False, 'severity': 'safe'}, 'sexual': {'filtered': False, 'severity': 'safe'}, 'violence': {'filtered': False, 'severity': 'safe'}}}])"
      ]
     },
     "execution_count": 7,
     "metadata": {},
     "output_type": "execute_result"
    }
   ],
   "source": [
    "prompt = \"\"\"\n",
    "Who won the 2022 FIFA World Cup? Consider different perspectives, analyze the impact of the victory on global football, and discuss the team’s tactical approach in key matches.\n",
    "\"\"\"\n",
    "\n",
    "modelrouter(prompt)"
   ]
  },
  {
   "cell_type": "markdown",
   "id": "d311421e-7c3b-41b6-b805-cd467a7e1839",
   "metadata": {},
   "source": [
    "> o4 mini was chosen"
   ]
  },
  {
   "cell_type": "code",
   "execution_count": null,
   "id": "d36913e0-b560-4ff3-9990-2f3a02e8f0f3",
   "metadata": {},
   "outputs": [],
   "source": []
  },
  {
   "cell_type": "code",
   "execution_count": null,
   "id": "766aa0bf-72f0-4493-86a3-017d790d7a80",
   "metadata": {},
   "outputs": [],
   "source": []
  }
 ],
 "metadata": {
  "kernelspec": {
   "display_name": "Python 3.10 - SDK v2",
   "language": "python",
   "name": "python310-sdkv2"
  },
  "language_info": {
   "codemirror_mode": {
    "name": "ipython",
    "version": 3
   },
   "file_extension": ".py",
   "mimetype": "text/x-python",
   "name": "python",
   "nbconvert_exporter": "python",
   "pygments_lexer": "ipython3",
   "version": "3.10.14"
  },
  "varInspector": {
   "cols": {
    "lenName": 16,
    "lenType": 16,
    "lenVar": 40
   },
   "kernels_config": {
    "python": {
     "delete_cmd_postfix": "",
     "delete_cmd_prefix": "del ",
     "library": "var_list.py",
     "varRefreshCmd": "print(var_dic_list())"
    },
    "r": {
     "delete_cmd_postfix": ") ",
     "delete_cmd_prefix": "rm(",
     "library": "var_list.r",
     "varRefreshCmd": "cat(var_dic_list()) "
    }
   },
   "types_to_exclude": [
    "module",
    "function",
    "builtin_function_or_method",
    "instance",
    "_Feature"
   ],
   "window_display": false
  }
 },
 "nbformat": 4,
 "nbformat_minor": 5
}
