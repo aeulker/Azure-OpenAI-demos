{
 "cells": [
  {
   "cell_type": "markdown",
   "id": "c006b536",
   "metadata": {},
   "source": [
    "# Semantic smart chunking with Azure OpenAI & Langchain\n",
    "\n",
    "Semantic Chunking considers the relationships within the text. **It divides the text into meaningful, semantically complete chunks.** \n",
    "\n",
    "This approach ensures the information’s integrity during retrieval, leading to a more accurate and contextually appropriate outcome. "
   ]
  },
  {
   "cell_type": "code",
   "execution_count": 1,
   "id": "5522de9f",
   "metadata": {},
   "outputs": [],
   "source": [
    "import os\n",
    "import langchain\n",
    "import matplotlib.pyplot as plt\n",
    "import openai\n",
    "import pytz\n",
    "import requests\n",
    "import sys\n",
    "import time\n",
    "\n",
    "from dotenv import load_dotenv\n",
    "from datetime import datetime\n",
    "from langchain_experimental.text_splitter import SemanticChunker\n",
    "from langchain_openai import AzureOpenAIEmbeddings\n",
    "from openai import AzureOpenAI"
   ]
  },
  {
   "cell_type": "code",
   "execution_count": 2,
   "id": "80632fc3",
   "metadata": {},
   "outputs": [
    {
     "name": "stdout",
     "output_type": "stream",
     "text": [
      "Python version: 3.10.11 (main, May 16 2023, 00:28:57) [GCC 11.2.0]\n",
      "OpenAI version: 1.43.0\n",
      "Langchain version: 0.2.16\n"
     ]
    }
   ],
   "source": [
    "print(f\"Python version: {sys.version}\")\n",
    "print(f\"OpenAI version: {openai.__version__}\")\n",
    "print(f\"Langchain version: {langchain.__version__}\")"
   ]
  },
  {
   "cell_type": "code",
   "execution_count": 3,
   "id": "33da29fd",
   "metadata": {},
   "outputs": [
    {
     "name": "stdout",
     "output_type": "stream",
     "text": [
      "Local time in Europe/Amsterdam: 06-Sep-2024 10:35:08\n"
     ]
    }
   ],
   "source": [
    "# Local timezone datetime\n",
    "local_tz = pytz.timezone(requests.get(\"https://ipinfo.io\").json()[\"timezone\"])\n",
    "now = datetime.now(local_tz).strftime(\"%d-%b-%Y %H:%M:%S\")\n",
    "print(f\"Local time in {local_tz}: {now}\")"
   ]
  },
  {
   "cell_type": "markdown",
   "id": "f9fb9cc9",
   "metadata": {},
   "source": [
    "## 1. Settings"
   ]
  },
  {
   "cell_type": "code",
   "execution_count": 4,
   "id": "7e0e0cec",
   "metadata": {},
   "outputs": [],
   "source": [
    "load_dotenv(\"azure.env\")\n",
    "\n",
    "# Azure OpenAI\n",
    "AZURE_OPENAI_ENDPOINT:str = os.getenv(\"AZURE_OPENAI_API_ENDPOINT\")\n",
    "AZURE_OPENAI_KEY:str = os.getenv(\"AZURE_OPENAI_API_KEY\")\n",
    "\n",
    "AZURE_OPENAI_VERSION: str = \"2024-06-01\"\n",
    "AZURE_OPENAI_TYPE:str = \"azure\"\n",
    "MODEL: str = \"gpt-4o-2024-08-06\"\n",
    "    \n",
    "# Embedding model\n",
    "AZURE_OPENAI_EMBEDDINGS: str = \"text-embedding-ada-002\""
   ]
  },
  {
   "cell_type": "markdown",
   "id": "0e2e2397",
   "metadata": {},
   "source": [
    "## 2. Semantic chunking\n",
    "\n",
    "**Markdown** is a structured and formatted markup language and a popular input for enabling semantic chunking in RAG (Retrieval-Augmented Generation). You can use the Markdown content from the Layout model to split documents based on paragraph boundaries, create specific chunks for tables, and fine-tune your chunking strategy to improve the quality of the generated responses.\n",
    "\n",
    "This method divides the text into chunks based on **semantic understanding**. Division boundaries are focused on sentence subject and use significant computational algorithmically complex resources. However, it has the distinct advantage of maintaining semantic consistency within each chunk. It's useful for text summarization, sentiment analysis, and document classification tasks."
   ]
  },
  {
   "cell_type": "code",
   "execution_count": 5,
   "id": "bd7037b5",
   "metadata": {},
   "outputs": [],
   "source": [
    "azure_openai_embeddings = AzureOpenAIEmbeddings(\n",
    "    azure_deployment=AZURE_OPENAI_EMBEDDINGS,\n",
    "    openai_api_version=AZURE_OPENAI_VERSION,\n",
    "    azure_endpoint=AZURE_OPENAI_ENDPOINT,\n",
    "    openai_api_type=AZURE_OPENAI_TYPE,\n",
    ")"
   ]
  },
  {
   "cell_type": "code",
   "execution_count": 6,
   "id": "c3b3450c",
   "metadata": {},
   "outputs": [],
   "source": [
    "text_splitter = SemanticChunker(azure_openai_embeddings)"
   ]
  },
  {
   "cell_type": "markdown",
   "id": "9b714ccf",
   "metadata": {},
   "source": [
    "## 3. Results"
   ]
  },
  {
   "cell_type": "code",
   "execution_count": 7,
   "id": "9e515263",
   "metadata": {},
   "outputs": [],
   "source": [
    "DOCS_DIR = \"documents\"\n",
    "\n",
    "os.makedirs(DOCS_DIR, exist_ok=True)"
   ]
  },
  {
   "cell_type": "code",
   "execution_count": 8,
   "id": "15ebe52b",
   "metadata": {},
   "outputs": [
    {
     "name": "stdout",
     "output_type": "stream",
     "text": [
      "--2024-09-06 08:35:08--  https://github.com/retkowsky/Azure-OpenAI-demos/raw/main/documents/state.txt\n",
      "Resolving github.com (github.com)... 140.82.121.4\n",
      "Connecting to github.com (github.com)|140.82.121.4|:443... connected.\n",
      "HTTP request sent, awaiting response... 302 Found\n",
      "Location: https://raw.githubusercontent.com/retkowsky/Azure-OpenAI-demos/main/documents/state.txt [following]\n",
      "--2024-09-06 08:35:09--  https://raw.githubusercontent.com/retkowsky/Azure-OpenAI-demos/main/documents/state.txt\n",
      "Resolving raw.githubusercontent.com (raw.githubusercontent.com)... 185.199.110.133, 185.199.108.133, 185.199.109.133, ...\n",
      "Connecting to raw.githubusercontent.com (raw.githubusercontent.com)|185.199.110.133|:443... connected.\n",
      "HTTP request sent, awaiting response... 200 OK\n",
      "Length: 39027 (38K) [text/plain]\n",
      "Saving to: ‘documents/state.txt’\n",
      "\n",
      "documents/state.txt 100%[===================>]  38.11K  --.-KB/s    in 0s      \n",
      "\n",
      "2024-09-06 08:35:09 (117 MB/s) - ‘documents/state.txt’ saved [39027/39027]\n",
      "\n"
     ]
    }
   ],
   "source": [
    "document_file = os.path.join(DOCS_DIR, \"state.txt\")\n",
    "\n",
    "# Downloading a document\n",
    "!wget https://github.com/retkowsky/Azure-OpenAI-demos/raw/main/documents/state.txt -O $document_file"
   ]
  },
  {
   "cell_type": "code",
   "execution_count": 9,
   "id": "2a716d8a",
   "metadata": {},
   "outputs": [
    {
     "name": "stdout",
     "output_type": "stream",
     "text": [
      "-rwxrwxrwx 1 root root 39K Sep  6 08:35 documents/state.txt\r\n"
     ]
    }
   ],
   "source": [
    "!ls $document_file -lh"
   ]
  },
  {
   "cell_type": "code",
   "execution_count": 10,
   "id": "25219f88",
   "metadata": {},
   "outputs": [],
   "source": [
    "with open(os.path.join(DOCS_DIR, \"state.txt\"), 'r') as file:\n",
    "    file_content = file.read()"
   ]
  },
  {
   "cell_type": "code",
   "execution_count": 11,
   "id": "bc2a8743",
   "metadata": {},
   "outputs": [
    {
     "name": "stdout",
     "output_type": "stream",
     "text": [
      "Running the semantic chunking...\n",
      "Elapsed time = 0 minutes and 4 seconds\n"
     ]
    }
   ],
   "source": [
    "print(\"Running the semantic chunking...\")\n",
    "start = time.time()\n",
    "\n",
    "chunks = text_splitter.create_documents([file_content])\n",
    "\n",
    "elapsed = time.time() - start\n",
    "minutes, seconds = divmod(elapsed, 60)\n",
    "print(f\"Elapsed time = {minutes:.0f} minutes and {seconds:.0f} seconds\")"
   ]
  },
  {
   "cell_type": "code",
   "execution_count": 12,
   "id": "cb94df12",
   "metadata": {},
   "outputs": [
    {
     "name": "stdout",
     "output_type": "stream",
     "text": [
      "Total number of semantic chunks = 26\n"
     ]
    }
   ],
   "source": [
    "print(f\"Total number of semantic chunks = {len(chunks)}\")"
   ]
  },
  {
   "cell_type": "markdown",
   "id": "cf5412e5",
   "metadata": {},
   "source": [
    "### Displaying all the chunks"
   ]
  },
  {
   "cell_type": "code",
   "execution_count": 13,
   "id": "d665db02",
   "metadata": {},
   "outputs": [
    {
     "name": "stdout",
     "output_type": "stream",
     "text": [
      "********** Chunk 1 **********\n",
      "Length of chunk = 1601\n",
      "\n",
      "\u001b[1;34mMadam Speaker, Madam Vice President, our First Lady and Second Gentleman. Members of Congress and the Cabinet. Justices of the Supreme Court. My fellow Americans. Last year COVID-19 kept us apart. This year we are finally together again. Tonight, we meet as Democrats Republicans and Independents. But most importantly as Americans. With a duty to one another to the American people to the Constitution. And with an unwavering resolve that freedom will always triumph over tyranny. Six days ago, Russia’s Vladimir Putin sought to shake the foundations of the free world thinking he could make it bend to his menacing ways. But he badly miscalculated. He thought he could roll into Ukraine and the world would roll over. Instead he met a wall of strength he never imagined. He met the Ukrainian people. From President Zelenskyy to every Ukrainian, their fearlessness, their courage, their determination, inspires the world. Groups of citizens blocking tanks with their bodies. Everyone from students to retirees teachers turned soldiers defending their homeland. In this struggle as President Zelenskyy said in his speech to the European Parliament “Light will win over darkness.” The Ukrainian Ambassador to the United States is here tonight. Let each of us here tonight in this Chamber send an unmistakable signal to Ukraine and to the world. Please rise if you are able and show that, Yes, we the United States of America stand with the Ukrainian people. Throughout our history we’ve learned this lesson when dictators do not pay a price for their aggression they cause more chaos. They keep moving.\u001b[0m\n",
      "\n",
      "********** Chunk 2 **********\n",
      "Length of chunk = 523\n",
      "\n",
      "\u001b[1;34mAnd the costs and the threats to America and the world keep rising. That’s why the NATO Alliance was created to secure peace and stability in Europe after World War 2. The United States is a member along with 29 other nations. It matters. American diplomacy matters. American resolve matters. Putin’s latest attack on Ukraine was premeditated and unprovoked. He rejected repeated efforts at diplomacy. He thought the West and NATO wouldn’t respond. And he thought he could divide us at home. Putin was wrong. We were ready.\u001b[0m\n",
      "\n",
      "********** Chunk 3 **********\n",
      "Length of chunk = 20\n",
      "\n",
      "\u001b[1;34mHere is what we did.\u001b[0m\n",
      "\n",
      "********** Chunk 4 **********\n",
      "Length of chunk = 2123\n",
      "\n",
      "\u001b[1;34mWe prepared extensively and carefully. We spent months building a coalition of other freedom-loving nations from Europe and the Americas to Asia and Africa to confront Putin. I spent countless hours unifying our European allies. We shared with the world in advance what we knew Putin was planning and precisely how he would try to falsely justify his aggression. We countered Russia’s lies with truth. And now that he has acted the free world is holding him accountable. Along with twenty-seven members of the European Union including France, Germany, Italy, as well as countries like the United Kingdom, Canada, Japan, Korea, Australia, New Zealand, and many others, even Switzerland. We are inflicting pain on Russia and supporting the people of Ukraine. Putin is now isolated from the world more than ever. Together with our allies –we are right now enforcing powerful economic sanctions. We are cutting off Russia’s largest banks from the international financial system. Preventing Russia’s central bank from defending the Russian Ruble making Putin’s $630 Billion “war fund” worthless. We are choking off Russia’s access to technology that will sap its economic strength and weaken its military for years to come. Tonight I say to the Russian oligarchs and corrupt leaders who have bilked billions of dollars off this violent regime no more. The U.S. Department of Justice is assembling a dedicated task force to go after the crimes of Russian oligarchs. We are joining with our European allies to find and seize your yachts your luxury apartments your private jets. We are coming for your ill-begotten gains. And tonight I am announcing that we will join our allies in closing off American air space to all Russian flights – further isolating Russia – and adding an additional squeeze –on their economy. The Ruble has lost 30% of its value. The Russian stock market has lost 40% of its value and trading remains suspended. Russia’s economy is reeling and Putin alone is to blame. Together with our allies we are providing support to the Ukrainians in their fight for freedom. Military assistance. Economic assistance.\u001b[0m\n",
      "\n",
      "********** Chunk 5 **********\n",
      "Length of chunk = 2018\n",
      "\n",
      "\u001b[1;34mHumanitarian assistance. We are giving more than $1 Billion in direct assistance to Ukraine. And we will continue to aid the Ukrainian people as they defend their country and to help ease their suffering. Let me be clear, our forces are not engaged and will not engage in conflict with Russian forces in Ukraine. Our forces are not going to Europe to fight in Ukraine, but to defend our NATO Allies – in the event that Putin decides to keep moving west. For that purpose we’ve mobilized American ground forces, air squadrons, and ship deployments to protect NATO countries including Poland, Romania, Latvia, Lithuania, and Estonia. As I have made crystal clear the United States and our Allies will defend every inch of territory of NATO countries with the full force of our collective power. And we remain clear-eyed. The Ukrainians are fighting back with pure courage. But the next few days weeks, months, will be hard on them. Putin has unleashed violence and chaos. But while he may make gains on the battlefield – he will pay a continuing high price over the long run. And a proud Ukrainian people, who have known 30 years  of independence, have repeatedly shown that they will not tolerate anyone who tries to take their country backwards. To all Americans, I will be honest with you, as I’ve always promised. A Russian dictator, invading a foreign country, has costs around the world. And I’m taking robust action to make sure the pain of our sanctions  is targeted at Russia’s economy. And I will use every tool at our disposal to protect American businesses and consumers. Tonight, I can announce that the United States has worked with 30 other countries to release 60 Million barrels of oil from reserves around the world. America will lead that effort, releasing 30 Million barrels from our own Strategic Petroleum Reserve. And we stand ready to do more if necessary, unified with our allies. These steps will help blunt gas prices here at home. And I know the news about what’s happening can seem alarming.\u001b[0m\n",
      "\n",
      "********** Chunk 6 **********\n",
      "Length of chunk = 726\n",
      "\n",
      "\u001b[1;34mBut I want you to know that we are going to be okay. When the history of this era is written Putin’s war on Ukraine will have left Russia weaker and the rest of the world stronger. While it shouldn’t have taken something so terrible for people around the world to see what’s at stake now everyone sees it clearly. We see the unity among leaders of nations and a more unified Europe a more unified West. And we see unity among the people who are gathering in cities in large crowds around the world even in Russia to demonstrate their support for Ukraine. In the battle between democracy and autocracy, democracies are rising to the moment, and the world is clearly choosing the side of peace and security. This is a real test.\u001b[0m\n",
      "\n",
      "********** Chunk 7 **********\n",
      "Length of chunk = 363\n",
      "\n",
      "\u001b[1;34mIt’s going to take time. So let us continue to draw inspiration from the iron will of the Ukrainian people. To our fellow Ukrainian Americans who forge a deep bond that connects our two nations we stand with you. Putin may circle Kyiv with tanks, but he will never gain the hearts and souls of the Ukrainian people. He will never extinguish their love of freedom.\u001b[0m\n",
      "\n",
      "********** Chunk 8 **********\n",
      "Length of chunk = 1266\n",
      "\n",
      "\u001b[1;34mHe will never weaken the resolve of the free world. We meet tonight in an America that has lived through two of the hardest years this nation has ever faced. The pandemic has been punishing. And so many families are living paycheck to paycheck, struggling to keep up with the rising cost of food, gas, housing, and so much more. I understand. I remember when my Dad had to leave our home in Scranton, Pennsylvania to find work. I grew up in a family where if the price of food went up, you felt it. That’s why one of the first things I did as President was fight to pass the American Rescue Plan. Because people were hurting. We needed to act, and we did. Few pieces of legislation have done more in a critical moment in our history to lift us out of crisis. It fueled our efforts to vaccinate the nation and combat COVID-19. It delivered immediate economic relief for tens of millions of Americans. Helped put food on their table, keep a roof over their heads, and cut the cost of health insurance. And as my Dad used to say, it gave people a little breathing room. And unlike the $2 Trillion tax cut passed in the previous administration that benefitted the top 1% of Americans, the American Rescue Plan helped working people—and left no one behind. And it worked.\u001b[0m\n",
      "\n",
      "********** Chunk 9 **********\n",
      "Length of chunk = 4109\n",
      "\n",
      "\u001b[1;34mIt created jobs. Lots of jobs. In fact—our economy created over 6.5 Million new jobs just last year, more jobs created in one year  \n",
      "than ever before in the history of America. Our economy grew at a rate of 5.7% last year, the strongest growth in nearly 40 years, the first step in bringing fundamental change to an economy that hasn’t worked for the working people of this nation for too long. For the past 40 years we were told that if we gave tax breaks to those at the very top, the benefits would trickle down to everyone else. But that trickle-down theory led to weaker economic growth, lower wages, bigger deficits, and the widest gap between those at the top and everyone else in nearly a century. Vice President Harris and I ran for office with a new economic vision for America. Invest in America. Educate Americans. Grow the workforce. Build the economy from the bottom up  \n",
      "and the middle out, not from the top down. Because we know that when the middle class grows, the poor have a ladder up and the wealthy do very well. America used to have the best roads, bridges, and airports on Earth. Now our infrastructure is ranked 13th in the world. We won’t be able to compete for the jobs of the 21st Century if we don’t fix that. That’s why it was so important to pass the Bipartisan Infrastructure Law—the most sweeping investment to rebuild America in history. This was a bipartisan effort, and I want to thank the members of both parties who worked to make it happen. We’re done talking about infrastructure weeks. We’re going to have an infrastructure decade. It is going to transform America and put us on a path to win the economic competition of the 21st Century that we face with the rest of the world—particularly with China. As I’ve told Xi Jinping, it is never a good bet to bet against the American people. We’ll create good jobs for millions of Americans, modernizing roads, airports, ports, and waterways all across America. And we’ll do it all to withstand the devastating effects of the climate crisis and promote environmental justice. We’ll build a national network of 500,000 electric vehicle charging stations, begin to replace poisonous lead pipes—so every child—and every American—has clean water to drink at home and at school, provide affordable high-speed internet for every American—urban, suburban, rural, and tribal communities. 4,000 projects have already been announced. And tonight, I’m announcing that this year we will start fixing over 65,000 miles of highway and 1,500 bridges in disrepair. When we use taxpayer dollars to rebuild America – we are going to Buy American: buy American products to support American jobs. The federal government spends about $600 Billion a year to keep the country safe and secure. There’s been a law on the books for almost a century \n",
      "to make sure taxpayers’ dollars support American jobs and businesses. Every Administration says they’ll do it, but we are actually doing it. We will buy American to make sure everything from the deck of an aircraft carrier to the steel on highway guardrails are made in America. But to compete for the best jobs of the future, we also need to level the playing field with China and other competitors. That’s why it is so important to pass the Bipartisan Innovation Act sitting in Congress that will make record investments in emerging technologies and American manufacturing. Let me give you one example of why it’s so important to pass it. If you travel 20 miles east of Columbus, Ohio, you’ll find 1,000 empty acres of land. It won’t look like much, but if you stop and look closely, you’ll see a “Field of dreams,” the ground on which America’s future will be built. This is where Intel, the American company that helped build Silicon Valley, is going to build its $20 billion semiconductor “mega site”. Up to eight state-of-the-art factories in one place. 10,000 new good-paying jobs. Some of the most sophisticated manufacturing in the world to make computer chips the size of a fingertip that power the world and our everyday lives. Smartphones. The Internet. Technology we have yet to invent.\u001b[0m\n",
      "\n",
      "********** Chunk 10 **********\n",
      "Length of chunk = 755\n",
      "\n",
      "\u001b[1;34mBut that’s just the beginning. Intel’s CEO, Pat Gelsinger, who is here tonight, told me they are ready to increase their investment from  \n",
      "$20 billion to $100 billion. That would be one of the biggest investments in manufacturing in American history. And all they’re waiting for is for you to pass this bill. So let’s not wait any longer. Send it to my desk. I’ll sign it. And we will really take off. And Intel is not alone. There’s something happening in America. Just look around and you’ll see an amazing story. The rebirth of the pride that comes from stamping products “Made In America.” The revitalization of American manufacturing. Companies are choosing to build new factories here, when just a few years ago, they would have built them overseas.\u001b[0m\n",
      "\n",
      "********** Chunk 11 **********\n",
      "Length of chunk = 1324\n",
      "\n",
      "\u001b[1;34mThat’s what is happening. Ford is investing $11 billion to build electric vehicles, creating 11,000 jobs across the country. GM is making the largest investment in its history—$7 billion to build electric vehicles, creating 4,000 jobs in Michigan. All told, we created 369,000 new manufacturing jobs in America just last year. Powered by people I’ve met like JoJo Burgess, from generations of union steelworkers from Pittsburgh, who’s here with us tonight. As Ohio Senator Sherrod Brown says, “It’s time to bury the label “Rust Belt.” \n",
      "\n",
      "It’s time. But with all the bright spots in our economy, record job growth and higher wages, too many families are struggling to keep up with the bills. Inflation is robbing them of the gains they might otherwise feel. I get it. That’s why my top priority is getting prices under control. Look, our economy roared back faster than most predicted, but the pandemic meant that businesses had a hard time hiring enough workers to keep up production in their factories. The pandemic also disrupted global supply chains. When factories close, it takes longer to make goods and get them from the warehouse to the store, and prices go up. Look at cars. Last year, there weren’t enough semiconductors to make all the cars that people wanted to buy. And guess what, prices of automobiles went up.\u001b[0m\n",
      "\n",
      "********** Chunk 12 **********\n",
      "Length of chunk = 861\n",
      "\n",
      "\u001b[1;34mSo—we have a choice. One way to fight inflation is to drive down wages and make Americans poorer. I have a better plan to fight inflation. Lower your costs, not your wages. Make more cars and semiconductors in America. More infrastructure and innovation in America. More goods moving faster and cheaper in America. More jobs where you can earn a good living in America. And instead of relying on foreign supply chains, let’s make it in America. Economists call it “increasing the productive capacity of our economy.” \n",
      "\n",
      "I call it building a better America. My plan to fight inflation will lower your costs and lower the deficit. 17 Nobel laureates in economics say my plan will ease long-term inflationary pressures. Top business leaders and most Americans support my plan. And here’s the plan: \n",
      "\n",
      "First – cut the cost of prescription drugs. Just look at insulin.\u001b[0m\n",
      "\n",
      "********** Chunk 13 **********\n",
      "Length of chunk = 602\n",
      "\n",
      "\u001b[1;34mOne in ten Americans has diabetes. In Virginia, I met a 13-year-old boy named Joshua Davis. He and his Dad both have Type 1 diabetes, which means they need insulin every day. Insulin costs about $10 a vial to make. But drug companies charge families like Joshua and his Dad up to 30 times more. I spoke with Joshua’s mom. Imagine what it’s like to look at your child who needs insulin and have no idea how you’re going to pay for it. What it does to your dignity, your ability to look your child in the eye, to be the parent you expect to be. Joshua is here with us tonight. Yesterday was his birthday.\u001b[0m\n",
      "\n",
      "********** Chunk 14 **********\n",
      "Length of chunk = 207\n",
      "\n",
      "\u001b[1;34mHappy birthday, buddy. For Joshua, and for the 200,000 other young people with Type 1 diabetes, let’s cap the cost of insulin at $35 a month so everyone can afford it. Drug companies will still do very well.\u001b[0m\n",
      "\n",
      "********** Chunk 15 **********\n",
      "Length of chunk = 2264\n",
      "\n",
      "\u001b[1;34mAnd while we’re at it let Medicare negotiate lower prices for prescription drugs, like the VA already does. Look, the American Rescue Plan is helping millions of families on Affordable Care Act plans save $2,400 a year on their health care premiums. Let’s close the coverage gap and make those savings permanent. Second – cut energy costs for families an average of $500 a year by combatting climate change. Let’s provide investments and tax credits to weatherize your homes and businesses to be energy efficient and you get a tax credit; double America’s clean energy production in solar, wind, and so much more;  lower the price of electric vehicles, saving you another $80 a month because you’ll never have to pay at the gas pump again. Third – cut the cost of child care. Many families pay up to $14,000 a year for child care per child. Middle-class and working families shouldn’t have to pay more than 7% of their income for care of young children. My plan will cut the cost in half for most families and help parents, including millions of women, who left the workforce during the pandemic because they couldn’t afford child care, to be able to get back to work. My plan doesn’t stop there. It also includes home and long-term care. More affordable housing. And Pre-K for every 3- and 4-year-old. All of these will lower costs. And under my plan, nobody earning less than $400,000 a year will pay an additional penny in new taxes. Nobody. The one thing all Americans agree on is that the tax system is not fair. We have to fix it. I’m not looking to punish anyone. But let’s make sure corporations and the wealthiest Americans start paying their fair share. Just last year, 55 Fortune 500 corporations earned $40 billion in profits and paid zero dollars in federal income tax. That’s simply not fair. That’s why I’ve proposed a 15% minimum tax rate for corporations. We got more than 130 countries to agree on a global minimum tax rate so companies can’t get out of paying their taxes at home by shipping jobs and factories overseas. That’s why I’ve proposed closing loopholes so the very wealthy don’t pay a lower tax rate than a teacher or a firefighter. So that’s my plan. It will grow the economy and lower costs for families. So what are we waiting for?\u001b[0m\n",
      "\n",
      "********** Chunk 16 **********\n",
      "Length of chunk = 980\n",
      "\n",
      "\u001b[1;34mLet’s get this done. And while you’re at it, confirm my nominees to the Federal Reserve, which plays a critical role in fighting inflation. My plan will not only lower costs to give families a fair shot, it will lower the deficit. The previous Administration not only ballooned the deficit with tax cuts for the very wealthy and corporations, it undermined the watchdogs whose job was to keep pandemic relief funds from being wasted. But in my administration, the watchdogs have been welcomed back. We’re going after the criminals who stole billions in relief money meant for small businesses and millions of Americans. And tonight, I’m announcing that the Justice Department will name a chief prosecutor for pandemic fraud. By the end of this year, the deficit will be down to less than half what it was before I took office. The only president ever to cut the deficit by more than one trillion dollars in a single year. Lowering your costs also means demanding more competition.\u001b[0m\n",
      "\n",
      "********** Chunk 17 **********\n",
      "Length of chunk = 988\n",
      "\n",
      "\u001b[1;34mI’m a capitalist, but capitalism without competition isn’t capitalism. It’s exploitation—and it drives up prices. When corporations don’t have to compete, their profits go up, your prices go up, and small businesses and family farmers and ranchers go under. We see it happening with ocean carriers moving goods in and out of America. During the pandemic, these foreign-owned companies raised prices by as much as 1,000% and made record profits. Tonight, I’m announcing a crackdown on these companies overcharging American businesses and consumers. And as Wall Street firms take over more nursing homes, quality in those homes has gone down and costs have gone up. That ends on my watch. Medicare is going to set higher standards for nursing homes and make sure your loved ones get the care they deserve and expect. We’ll also cut costs and keep the economy going strong by giving workers a fair shot, provide more training and apprenticeships, hire them based on their skills not degrees.\u001b[0m\n",
      "\n",
      "********** Chunk 18 **********\n",
      "Length of chunk = 791\n",
      "\n",
      "\u001b[1;34mLet’s pass the Paycheck Fairness Act and paid leave. Raise the minimum wage to $15 an hour and extend the Child Tax Credit, so no one has to raise a family in poverty. Let’s increase Pell Grants and increase our historic support of HBCUs, and invest in what Jill—our First Lady who teaches full-time—calls America’s best-kept secret: community colleges. And let’s pass the PRO Act when a majority of workers want to form a union—they shouldn’t be stopped. When we invest in our workers, when we build the economy from the bottom up and the middle out together, we can do something we haven’t done in a long time: build a better America. For more than two years, COVID-19 has impacted every decision in our lives and the life of the nation. And I know you’re tired, frustrated, and exhausted.\u001b[0m\n",
      "\n",
      "********** Chunk 19 **********\n",
      "Length of chunk = 2371\n",
      "\n",
      "\u001b[1;34mBut I also know this. Because of the progress we’ve made, because of your resilience and the tools we have, tonight I can say  \n",
      "we are moving forward safely, back to more normal routines. We’ve reached a new moment in the fight against COVID-19, with severe cases down to a level not seen since last July. Just a few days ago, the Centers for Disease Control and Prevention—the CDC—issued new mask guidelines. Under these new guidelines, most Americans in most of the country can now be mask free. And based on the projections, more of the country will reach that point across the next couple of weeks. Thanks to the progress we have made this past year, COVID-19 need no longer control our lives. I know some are talking about “living with COVID-19”. Tonight – I say that we will never just accept living with COVID-19. We will continue to combat the virus as we do other diseases. And because this is a virus that mutates and spreads, we will stay on guard. Here are four common sense steps as we move forward safely. First, stay protected with vaccines and treatments. We know how incredibly effective vaccines are. If you’re vaccinated and boosted you have the highest degree of protection. We will never give up on vaccinating more Americans. Now, I know parents with kids under 5 are eager to see a vaccine authorized for their children. The scientists are working hard to get that done and we’ll be ready with plenty of vaccines when they do. We’re also ready with anti-viral treatments. If you get COVID-19, the Pfizer pill reduces your chances of ending up in the hospital by 90%. We’ve ordered more of these pills than anyone in the world. And Pfizer is working overtime to get us 1 Million pills this month and more than double that next month. And we’re launching the “Test to Treat” initiative so people can get tested at a pharmacy, and if they’re positive, receive antiviral pills on the spot at no cost. If you’re immunocompromised or have some other vulnerability, we have treatments and free high-quality masks. We’re leaving no one behind or ignoring anyone’s needs as we move forward. And on testing, we have made hundreds of millions of tests available for you to order for free. Even if you already ordered free tests tonight, I am announcing that you can order more from covidtests.gov starting next week. Second – we must prepare for new variants.\u001b[0m\n",
      "\n",
      "********** Chunk 20 **********\n",
      "Length of chunk = 6628\n",
      "\n",
      "\u001b[1;34mOver the past year, we’ve gotten much better at detecting new variants. If necessary, we’ll be able to deploy new vaccines within 100 days instead of many more months or years. And, if Congress provides the funds we need, we’ll have new stockpiles of tests, masks, and pills ready if needed. I cannot promise a new variant won’t come. But I can promise you we’ll do everything within our power to be ready if it does. Third – we can end the shutdown of schools and businesses. We have the tools we need. It’s time for Americans to get back to work and fill our great downtowns again. People working from home can feel safe to begin to return to the office. We’re doing that here in the federal government. The vast majority of federal workers will once again work in person. Our schools are open. Let’s keep it that way. Our kids need to be in school. And with 75% of adult Americans fully vaccinated and hospitalizations down by 77%, most Americans can remove their masks, return to work, stay in the classroom, and move forward safely. We achieved this because we provided free vaccines, treatments, tests, and masks. Of course, continuing this costs money. I will soon send Congress a request. The vast majority of Americans have used these tools and may want to again, so I expect Congress to pass it quickly. Fourth, we will continue vaccinating the world. We’ve sent 475 Million vaccine doses to 112 countries, more than any other nation. And we won’t stop. We have lost so much to COVID-19. Time with one another. And worst of all, so much loss of life. Let’s use this moment to reset. Let’s stop looking at COVID-19 as a partisan dividing line and see it for what it is: A God-awful disease. Let’s stop seeing each other as enemies, and start seeing each other for who we really are: Fellow Americans. We can’t change how divided we’ve been. But we can change how we move forward—on COVID-19 and other issues we must face together. I recently visited the New York City Police Department days after the funerals of Officer Wilbert Mora and his partner, Officer Jason Rivera. They were responding to a 9-1-1 call when a man shot and killed them with a stolen gun. Officer Mora was 27 years old. Officer Rivera was 22. Both Dominican Americans who’d grown up on the same streets they later chose to patrol as police officers. I spoke with their families and told them that we are forever in debt for their sacrifice, and we will carry on their mission to restore the trust and safety every community deserves. I’ve worked on these issues a long time. I know what works: Investing in crime preventionand community police officers who’ll walk the beat, who’ll know the neighborhood, and who can restore trust and safety. So let’s not abandon our streets. Or choose between safety and equal justice. Let’s come together to protect our communities, restore trust, and hold law enforcement accountable. That’s why the Justice Department required body cameras, banned chokeholds, and restricted no-knock warrants for its officers. That’s why the American Rescue Plan provided $350 Billion that cities, states, and counties can use to hire more police and invest in proven strategies like community violence interruption—trusted messengers breaking the cycle of violence and trauma and giving young people hope. We should all agree: The answer is not to Defund the police. The answer is to FUND the police with the resources and training they need to protect our communities. I ask Democrats and Republicans alike: Pass my budget and keep our neighborhoods safe. And I will keep doing everything in my power to crack down on gun trafficking and ghost guns you can buy online and make at home—they have no serial numbers and can’t be traced. And I ask Congress to pass proven measures to reduce gun violence. Pass universal background checks. Why should anyone on a terrorist list be able to purchase a weapon? Ban assault weapons and high-capacity magazines. Repeal the liability shield that makes gun manufacturers the only industry in America that can’t be sued. These laws don’t infringe on the Second Amendment. They save lives. The most fundamental right in America is the right to vote – and to have it counted. And it’s under assault. In state after state, new laws have been passed, not only to suppress the vote, but to subvert entire elections. We cannot let this happen. Tonight. I call on the Senate to: Pass the Freedom to Vote Act. Pass the John Lewis Voting Rights Act. And while you’re at it, pass the Disclose Act so Americans can know who is funding our elections. Tonight, I’d like to honor someone who has dedicated his life to serve this country: Justice Stephen Breyer—an Army veteran, Constitutional scholar, and retiring Justice of the United States Supreme Court. Justice Breyer, thank you for your service. One of the most serious constitutional responsibilities a President has is nominating someone to serve on the United States Supreme Court. And I did that 4 days ago, when I nominated Circuit Court of Appeals Judge Ketanji Brown Jackson. One of our nation’s top legal minds, who will continue Justice Breyer’s legacy of excellence. A former top litigator in private practice. A former federal public defender. And from a family of public school educators and police officers. A consensus builder. Since she’s been nominated, she’s received a broad range of support—from the Fraternal Order of Police to former judges appointed by Democrats and Republicans. And if we are to advance liberty and justice, we need to secure the Border and fix the immigration system. We can do both. At our border, we’ve installed new technology like cutting-edge scanners to better detect drug smuggling. We’ve set up joint patrols with Mexico and Guatemala to catch more human traffickers. We’re putting in place dedicated immigration judges so families fleeing persecution and violence can have their cases heard faster. We’re securing commitments and supporting partners in South and Central America to host more refugees and secure their own borders. We can do all this while keeping lit the torch of liberty that has led generations of immigrants to this land—my forefathers and so many of yours. Provide a pathway to citizenship for Dreamers, those on temporary status, farm workers, and essential workers. Revise our laws so businesses have the workers they need and families don’t wait decades to reunite. It’s not only the right thing to do—it’s the economically smart thing to do. That’s why immigration reform is supported by everyone from labor unions to religious leaders to the U.S. Chamber of Commerce.\u001b[0m\n",
      "\n",
      "********** Chunk 21 **********\n",
      "Length of chunk = 3342\n",
      "\n",
      "\u001b[1;34mLet’s get it done once and for all. Advancing liberty and justice also requires protecting the rights of women. The constitutional right affirmed in Roe v. Wade—standing precedent for half a century—is under attack as never before. If we want to go forward—not backward—we must protect access to health care. Preserve a woman’s right to choose. And let’s continue to advance maternal health care in America. And for our LGBTQ+ Americans, let’s finally get the bipartisan Equality Act to my desk. The onslaught of state laws targeting transgender Americans and their families is wrong. As I said last year, especially to our younger transgender Americans, I will always have your back as your President, so you can be yourself and reach your God-given potential. While it often appears that we never agree, that isn’t true. I signed 80 bipartisan bills into law last year. From preventing government shutdowns to protecting Asian-Americans from still-too-common hate crimes to reforming military justice. And soon, we’ll strengthen the Violence Against Women Act that I first wrote three decades ago. It is important for us to show the nation that we can come together and do big things. So tonight I’m offering a Unity Agenda for the Nation. Four big things we can do together. First, beat the opioid epidemic. There is so much we can do. Increase funding for prevention, treatment, harm reduction, and recovery. Get rid of outdated rules that stop doctors from prescribing treatments. And stop the flow of illicit drugs by working with state and local law enforcement to go after traffickers. If you’re suffering from addiction, know you are not alone. I believe in recovery, and I celebrate the 23 million Americans in recovery. Second, let’s take on mental health. Especially among our children, whose lives and education have been turned upside down. The American Rescue Plan gave schools money to hire teachers and help students make up for lost learning. I urge every parent to make sure your school does just that. And we can all play a part—sign up to be a tutor or a mentor. Children were also struggling before the pandemic. Bullying, violence, trauma, and the harms of social media. As Frances Haugen, who is here with us tonight, has shown, we must hold social media platforms accountable for the national experiment they’re conducting on our children for profit. It’s time to strengthen privacy protections, ban targeted advertising to children, demand tech companies stop collecting personal data on our children. And let’s get all Americans the mental health services they need. More people they can turn to for help, and full parity between physical and mental health care. Third, support our veterans. Veterans are the best of us. I’ve always believed that we have a sacred obligation to equip all those we send to war and care for them and their families when they come home. My administration is providing assistance with job training and housing, and now helping lower-income veterans get VA care debt-free. Our troops in Iraq and Afghanistan faced many dangers. One was stationed at bases and breathing in toxic smoke from “burn pits” that incinerated wastes of war—medical and hazard material, jet fuel, and more. When they came home, many of the world’s fittest and best trained warriors were never the same. Headaches.\u001b[0m\n",
      "\n",
      "********** Chunk 22 **********\n",
      "Length of chunk = 74\n",
      "\n",
      "\u001b[1;34mNumbness. Dizziness. A cancer that would put them in a flag-draped coffin.\u001b[0m\n",
      "\n",
      "********** Chunk 23 **********\n",
      "Length of chunk = 362\n",
      "\n",
      "\u001b[1;34mI know. One of those soldiers was my son Major Beau Biden. We don’t know for sure if a burn pit was the cause of his brain cancer, or the diseases of so many of our troops. But I’m committed to finding out everything we can. Committed to military families like Danielle Robinson from Ohio. The widow of Sergeant First Class Heath Robinson. He was born a soldier.\u001b[0m\n",
      "\n",
      "********** Chunk 24 **********\n",
      "Length of chunk = 520\n",
      "\n",
      "\u001b[1;34mArmy National Guard. Combat medic in Kosovo and Iraq. Stationed near Baghdad, just yards from burn pits the size of football fields. Heath’s widow Danielle is here with us tonight. They loved going to Ohio State football games. He loved building Legos with their daughter. But cancer from prolonged exposure to burn pits ravaged Heath’s lungs and body. Danielle says Heath was a fighter to the very end. He didn’t know how to stop fighting, and neither did she. Through her pain she found purpose to demand we do better.\u001b[0m\n",
      "\n",
      "********** Chunk 25 **********\n",
      "Length of chunk = 1259\n",
      "\n",
      "\u001b[1;34mTonight, Danielle—we are. The VA is pioneering new ways of linking toxic exposures to diseases, already helping more veterans get benefits. And tonight, I’m announcing we’re expanding eligibility to veterans suffering from nine respiratory cancers. I’m also calling on Congress: pass a law to make sure veterans devastated by toxic exposures in Iraq and Afghanistan finally get the benefits and comprehensive health care they deserve. And fourth, let’s end cancer as we know it. This is personal to me and Jill, to Kamala, and to so many of you. Cancer is the #2 cause of death in America–second only to heart disease. Last month, I announced our plan to supercharge  \n",
      "the Cancer Moonshot that President Obama asked me to lead six years ago. Our goal is to cut the cancer death rate by at least 50% over the next 25 years, turn more cancers from death sentences into treatable diseases. More support for patients and families. To get there, I call on Congress to fund ARPA-H, the Advanced Research Projects Agency for Health. It’s based on DARPA—the Defense Department project that led to the Internet, GPS, and so much more. ARPA-H will have a singular purpose—to drive breakthroughs in cancer, Alzheimer’s, diabetes, and more. A unity agenda for the nation.\u001b[0m\n",
      "\n",
      "********** Chunk 26 **********\n",
      "Length of chunk = 1633\n",
      "\n",
      "\u001b[1;34mWe can do this. My fellow Americans—tonight , we have gathered in a sacred space—the citadel of our democracy. In this Capitol, generation after generation, Americans have debated great questions amid great strife, and have done great things. We have fought for freedom, expanded liberty, defeated totalitarianism and terror. And built the strongest, freest, and most prosperous nation the world has ever known. Now is the hour. Our moment of responsibility. Our test of resolve and conscience, of history itself. It is in this moment that our character is formed. Our purpose is found. Our future is forged. Well I know this nation. We will meet the test. To protect freedom and liberty, to expand fairness and opportunity. We will save democracy. As hard as these times have been, I am more optimistic about America today than I have been my whole life. Because I see the future that is within our grasp. Because I know there is simply nothing beyond our capacity. We are the only nation on Earth that has always turned every crisis we have faced into an opportunity. The only nation that can be defined by a single word: possibilities. So on this night, in our 245th year as a nation, I have come to report on the State of the Union. And my report is this: the State of the Union is strong—because you, the American people, are strong. We are stronger today than we were a year ago. And we will be stronger a year from now than we are today. Now is our moment to meet and overcome the challenges of our time. And we will, as one people. One America. The United States of America. May God bless you all. May God protect our troops.\u001b[0m\n",
      "\n"
     ]
    }
   ],
   "source": [
    "chunk_size_list = []\n",
    "\n",
    "for idx, chunk in enumerate(chunks, start=1):\n",
    "    print(f\"********** Chunk {idx} **********\\nLength of chunk = {len(chunk.page_content)}\\n\")\n",
    "    print(f\"\\033[1;34m{chunk.page_content}\\033[0m\\n\")\n",
    "    chunk_size_list.append(len(chunk.page_content))"
   ]
  },
  {
   "cell_type": "markdown",
   "id": "27312065",
   "metadata": {},
   "source": [
    "### List of all the chunks with a summary"
   ]
  },
  {
   "cell_type": "code",
   "execution_count": 14,
   "id": "10dd44ad",
   "metadata": {},
   "outputs": [],
   "source": [
    "def gpt_4omini(text):\n",
    "    \"\"\"\n",
    "    Gpt-4o mini model\n",
    "    \"\"\"\n",
    "    client = AzureOpenAI(\n",
    "        api_key=AZURE_OPENAI_KEY,\n",
    "        api_version=AZURE_OPENAI_VERSION,\n",
    "        base_url=f\"{AZURE_OPENAI_ENDPOINT}/openai/deployments/{MODEL}\",\n",
    "    )\n",
    "    \n",
    "    response = client.chat.completions.create(\n",
    "        model=MODEL,\n",
    "        messages=[\n",
    "            {\"role\": \"system\", \"content\": \"You are an AI helpful assistant. Generate a summary of one line of this text like it was a header of a document.\"},\n",
    "            {\n",
    "                \"role\": \"user\",\n",
    "                \"content\": [\n",
    "                    {\"type\": \"text\", \"text\": text},\n",
    "                ],\n",
    "            },\n",
    "        ],\n",
    "        max_tokens=2000,\n",
    "        temperature=0.5,\n",
    "    )\n",
    "\n",
    "    return response"
   ]
  },
  {
   "cell_type": "code",
   "execution_count": 15,
   "id": "48dbb0d0",
   "metadata": {},
   "outputs": [
    {
     "name": "stdout",
     "output_type": "stream",
     "text": [
      "***** Chunk 1 *****\n",
      "Length of chunk = 1601\n",
      "\n",
      "\u001b[1;34mMadam Speaker, Madam Vice President, our First Lady and Second Gentleman. Members of Congress and the Cabinet. Justices of the Supreme Court. My fellow Americans. Last year COVID-19 kept us apart. This year we are finally together again. Tonight, we meet as Democrats Republicans and Independents. But most importantly as Americans. With a duty to one another to the American people to the Constitution. And with an unwavering resolve that freedom will always triumph over tyranny. Six days ago, Russia’s Vladimir Putin sought to shake the foundations of the free world thinking he could make it bend to his menacing ways. But he badly miscalculated. He thought he could roll into Ukraine and the world would roll over. Instead he met a wall of strength he never imagined. He met the Ukrainian people. From President Zelenskyy to every Ukrainian, their fearlessness, their courage, their determination, inspires the world. Groups of citizens blocking tanks with their bodies. Everyone from students to retirees teachers turned soldiers defending their homeland. In this struggle as President Zelenskyy said in his speech to the European Parliament “Light will win over darkness.” The Ukrainian Ambassador to the United States is here tonight. Let each of us here tonight in this Chamber send an unmistakable signal to Ukraine and to the world. Please rise if you are able and show that, Yes, we the United States of America stand with the Ukrainian people. Throughout our history we’ve learned this lesson when dictators do not pay a price for their aggression they cause more chaos. They keep moving.\u001b[0m\n",
      "\n",
      "\u001b[1;32mChunk summary: Unity Against Aggression: U.S. Stands with Ukraine in Face of Russian Threats\n",
      "\u001b[0m\n",
      "***** Chunk 2 *****\n",
      "Length of chunk = 523\n",
      "\n",
      "\u001b[1;34mAnd the costs and the threats to America and the world keep rising. That’s why the NATO Alliance was created to secure peace and stability in Europe after World War 2. The United States is a member along with 29 other nations. It matters. American diplomacy matters. American resolve matters. Putin’s latest attack on Ukraine was premeditated and unprovoked. He rejected repeated efforts at diplomacy. He thought the West and NATO wouldn’t respond. And he thought he could divide us at home. Putin was wrong. We were ready.\u001b[0m\n",
      "\n",
      "\u001b[1;32mChunk summary: NATO's Role and Unity in Response to Rising Global Threats and Putin's Aggression.\n",
      "\u001b[0m\n",
      "***** Chunk 3 *****\n",
      "Length of chunk = 20\n",
      "\n",
      "\u001b[1;34mHere is what we did.\u001b[0m\n",
      "\n",
      "\u001b[1;32mChunk summary: Summary of Actions Taken\n",
      "\u001b[0m\n",
      "***** Chunk 4 *****\n",
      "Length of chunk = 2123\n",
      "\n",
      "\u001b[1;34mWe prepared extensively and carefully. We spent months building a coalition of other freedom-loving nations from Europe and the Americas to Asia and Africa to confront Putin. I spent countless hours unifying our European allies. We shared with the world in advance what we knew Putin was planning and precisely how he would try to falsely justify his aggression. We countered Russia’s lies with truth. And now that he has acted the free world is holding him accountable. Along with twenty-seven members of the European Union including France, Germany, Italy, as well as countries like the United Kingdom, Canada, Japan, Korea, Australia, New Zealand, and many others, even Switzerland. We are inflicting pain on Russia and supporting the people of Ukraine. Putin is now isolated from the world more than ever. Together with our allies –we are right now enforcing powerful economic sanctions. We are cutting off Russia’s largest banks from the international financial system. Preventing Russia’s central bank from defending the Russian Ruble making Putin’s $630 Billion “war fund” worthless. We are choking off Russia’s access to technology that will sap its economic strength and weaken its military for years to come. Tonight I say to the Russian oligarchs and corrupt leaders who have bilked billions of dollars off this violent regime no more. The U.S. Department of Justice is assembling a dedicated task force to go after the crimes of Russian oligarchs. We are joining with our European allies to find and seize your yachts your luxury apartments your private jets. We are coming for your ill-begotten gains. And tonight I am announcing that we will join our allies in closing off American air space to all Russian flights – further isolating Russia – and adding an additional squeeze –on their economy. The Ruble has lost 30% of its value. The Russian stock market has lost 40% of its value and trading remains suspended. Russia’s economy is reeling and Putin alone is to blame. Together with our allies we are providing support to the Ukrainians in their fight for freedom. Military assistance. Economic assistance.\u001b[0m\n",
      "\n",
      "\u001b[1;32mChunk summary: Global Coalition Enforces Sanctions and Support Against Russia's Aggression in Ukraine.\n",
      "\u001b[0m\n",
      "***** Chunk 5 *****\n",
      "Length of chunk = 2018\n",
      "\n",
      "\u001b[1;34mHumanitarian assistance. We are giving more than $1 Billion in direct assistance to Ukraine. And we will continue to aid the Ukrainian people as they defend their country and to help ease their suffering. Let me be clear, our forces are not engaged and will not engage in conflict with Russian forces in Ukraine. Our forces are not going to Europe to fight in Ukraine, but to defend our NATO Allies – in the event that Putin decides to keep moving west. For that purpose we’ve mobilized American ground forces, air squadrons, and ship deployments to protect NATO countries including Poland, Romania, Latvia, Lithuania, and Estonia. As I have made crystal clear the United States and our Allies will defend every inch of territory of NATO countries with the full force of our collective power. And we remain clear-eyed. The Ukrainians are fighting back with pure courage. But the next few days weeks, months, will be hard on them. Putin has unleashed violence and chaos. But while he may make gains on the battlefield – he will pay a continuing high price over the long run. And a proud Ukrainian people, who have known 30 years  of independence, have repeatedly shown that they will not tolerate anyone who tries to take their country backwards. To all Americans, I will be honest with you, as I’ve always promised. A Russian dictator, invading a foreign country, has costs around the world. And I’m taking robust action to make sure the pain of our sanctions  is targeted at Russia’s economy. And I will use every tool at our disposal to protect American businesses and consumers. Tonight, I can announce that the United States has worked with 30 other countries to release 60 Million barrels of oil from reserves around the world. America will lead that effort, releasing 30 Million barrels from our own Strategic Petroleum Reserve. And we stand ready to do more if necessary, unified with our allies. These steps will help blunt gas prices here at home. And I know the news about what’s happening can seem alarming.\u001b[0m\n",
      "\n",
      "\u001b[1;32mChunk summary: U.S. Provides Over $1 Billion in Aid to Ukraine, Mobilizes Forces to Defend NATO Allies.\n",
      "\u001b[0m\n",
      "***** Chunk 6 *****\n",
      "Length of chunk = 726\n",
      "\n",
      "\u001b[1;34mBut I want you to know that we are going to be okay. When the history of this era is written Putin’s war on Ukraine will have left Russia weaker and the rest of the world stronger. While it shouldn’t have taken something so terrible for people around the world to see what’s at stake now everyone sees it clearly. We see the unity among leaders of nations and a more unified Europe a more unified West. And we see unity among the people who are gathering in cities in large crowds around the world even in Russia to demonstrate their support for Ukraine. In the battle between democracy and autocracy, democracies are rising to the moment, and the world is clearly choosing the side of peace and security. This is a real test.\u001b[0m\n",
      "\n",
      "\u001b[1;32mChunk summary: Global Unity Strengthens Amidst Russia's War on Ukraine, Highlighting Democracy's Resilience.\n",
      "\u001b[0m\n",
      "***** Chunk 7 *****\n",
      "Length of chunk = 363\n",
      "\n",
      "\u001b[1;34mIt’s going to take time. So let us continue to draw inspiration from the iron will of the Ukrainian people. To our fellow Ukrainian Americans who forge a deep bond that connects our two nations we stand with you. Putin may circle Kyiv with tanks, but he will never gain the hearts and souls of the Ukrainian people. He will never extinguish their love of freedom.\u001b[0m\n",
      "\n"
     ]
    },
    {
     "name": "stdout",
     "output_type": "stream",
     "text": [
      "\u001b[1;32mChunk summary: Standing with Ukraine: Unyielding Spirit and Enduring Bonds\n",
      "\u001b[0m\n",
      "***** Chunk 8 *****\n",
      "Length of chunk = 1266\n",
      "\n",
      "\u001b[1;34mHe will never weaken the resolve of the free world. We meet tonight in an America that has lived through two of the hardest years this nation has ever faced. The pandemic has been punishing. And so many families are living paycheck to paycheck, struggling to keep up with the rising cost of food, gas, housing, and so much more. I understand. I remember when my Dad had to leave our home in Scranton, Pennsylvania to find work. I grew up in a family where if the price of food went up, you felt it. That’s why one of the first things I did as President was fight to pass the American Rescue Plan. Because people were hurting. We needed to act, and we did. Few pieces of legislation have done more in a critical moment in our history to lift us out of crisis. It fueled our efforts to vaccinate the nation and combat COVID-19. It delivered immediate economic relief for tens of millions of Americans. Helped put food on their table, keep a roof over their heads, and cut the cost of health insurance. And as my Dad used to say, it gave people a little breathing room. And unlike the $2 Trillion tax cut passed in the previous administration that benefitted the top 1% of Americans, the American Rescue Plan helped working people—and left no one behind. And it worked.\u001b[0m\n",
      "\n",
      "\u001b[1;32mChunk summary: \"American Rescue Plan: A Lifeline for Struggling Families and Economic Recovery\"\n",
      "\u001b[0m\n",
      "***** Chunk 9 *****\n",
      "Length of chunk = 4109\n",
      "\n",
      "\u001b[1;34mIt created jobs. Lots of jobs. In fact—our economy created over 6.5 Million new jobs just last year, more jobs created in one year  \n",
      "than ever before in the history of America. Our economy grew at a rate of 5.7% last year, the strongest growth in nearly 40 years, the first step in bringing fundamental change to an economy that hasn’t worked for the working people of this nation for too long. For the past 40 years we were told that if we gave tax breaks to those at the very top, the benefits would trickle down to everyone else. But that trickle-down theory led to weaker economic growth, lower wages, bigger deficits, and the widest gap between those at the top and everyone else in nearly a century. Vice President Harris and I ran for office with a new economic vision for America. Invest in America. Educate Americans. Grow the workforce. Build the economy from the bottom up  \n",
      "and the middle out, not from the top down. Because we know that when the middle class grows, the poor have a ladder up and the wealthy do very well. America used to have the best roads, bridges, and airports on Earth. Now our infrastructure is ranked 13th in the world. We won’t be able to compete for the jobs of the 21st Century if we don’t fix that. That’s why it was so important to pass the Bipartisan Infrastructure Law—the most sweeping investment to rebuild America in history. This was a bipartisan effort, and I want to thank the members of both parties who worked to make it happen. We’re done talking about infrastructure weeks. We’re going to have an infrastructure decade. It is going to transform America and put us on a path to win the economic competition of the 21st Century that we face with the rest of the world—particularly with China. As I’ve told Xi Jinping, it is never a good bet to bet against the American people. We’ll create good jobs for millions of Americans, modernizing roads, airports, ports, and waterways all across America. And we’ll do it all to withstand the devastating effects of the climate crisis and promote environmental justice. We’ll build a national network of 500,000 electric vehicle charging stations, begin to replace poisonous lead pipes—so every child—and every American—has clean water to drink at home and at school, provide affordable high-speed internet for every American—urban, suburban, rural, and tribal communities. 4,000 projects have already been announced. And tonight, I’m announcing that this year we will start fixing over 65,000 miles of highway and 1,500 bridges in disrepair. When we use taxpayer dollars to rebuild America – we are going to Buy American: buy American products to support American jobs. The federal government spends about $600 Billion a year to keep the country safe and secure. There’s been a law on the books for almost a century \n",
      "to make sure taxpayers’ dollars support American jobs and businesses. Every Administration says they’ll do it, but we are actually doing it. We will buy American to make sure everything from the deck of an aircraft carrier to the steel on highway guardrails are made in America. But to compete for the best jobs of the future, we also need to level the playing field with China and other competitors. That’s why it is so important to pass the Bipartisan Innovation Act sitting in Congress that will make record investments in emerging technologies and American manufacturing. Let me give you one example of why it’s so important to pass it. If you travel 20 miles east of Columbus, Ohio, you’ll find 1,000 empty acres of land. It won’t look like much, but if you stop and look closely, you’ll see a “Field of dreams,” the ground on which America’s future will be built. This is where Intel, the American company that helped build Silicon Valley, is going to build its $20 billion semiconductor “mega site”. Up to eight state-of-the-art factories in one place. 10,000 new good-paying jobs. Some of the most sophisticated manufacturing in the world to make computer chips the size of a fingertip that power the world and our everyday lives. Smartphones. The Internet. Technology we have yet to invent.\u001b[0m\n",
      "\n",
      "\u001b[1;32mChunk summary: Record Job Creation and Infrastructure Overhaul: Building America's Economic Future\n",
      "\u001b[0m\n",
      "***** Chunk 10 *****\n",
      "Length of chunk = 755\n",
      "\n",
      "\u001b[1;34mBut that’s just the beginning. Intel’s CEO, Pat Gelsinger, who is here tonight, told me they are ready to increase their investment from  \n",
      "$20 billion to $100 billion. That would be one of the biggest investments in manufacturing in American history. And all they’re waiting for is for you to pass this bill. So let’s not wait any longer. Send it to my desk. I’ll sign it. And we will really take off. And Intel is not alone. There’s something happening in America. Just look around and you’ll see an amazing story. The rebirth of the pride that comes from stamping products “Made In America.” The revitalization of American manufacturing. Companies are choosing to build new factories here, when just a few years ago, they would have built them overseas.\u001b[0m\n",
      "\n",
      "\u001b[1;32mChunk summary: Intel's Historic $100 Billion Investment Signals American Manufacturing Revival.\n",
      "\u001b[0m\n",
      "***** Chunk 11 *****\n",
      "Length of chunk = 1324\n",
      "\n",
      "\u001b[1;34mThat’s what is happening. Ford is investing $11 billion to build electric vehicles, creating 11,000 jobs across the country. GM is making the largest investment in its history—$7 billion to build electric vehicles, creating 4,000 jobs in Michigan. All told, we created 369,000 new manufacturing jobs in America just last year. Powered by people I’ve met like JoJo Burgess, from generations of union steelworkers from Pittsburgh, who’s here with us tonight. As Ohio Senator Sherrod Brown says, “It’s time to bury the label “Rust Belt.” \n",
      "\n",
      "It’s time. But with all the bright spots in our economy, record job growth and higher wages, too many families are struggling to keep up with the bills. Inflation is robbing them of the gains they might otherwise feel. I get it. That’s why my top priority is getting prices under control. Look, our economy roared back faster than most predicted, but the pandemic meant that businesses had a hard time hiring enough workers to keep up production in their factories. The pandemic also disrupted global supply chains. When factories close, it takes longer to make goods and get them from the warehouse to the store, and prices go up. Look at cars. Last year, there weren’t enough semiconductors to make all the cars that people wanted to buy. And guess what, prices of automobiles went up.\u001b[0m\n",
      "\n",
      "\u001b[1;32mChunk summary: \"Major Investments in Electric Vehicles Amid Economic Challenges and Inflation Concerns\"\n",
      "\u001b[0m\n",
      "***** Chunk 12 *****\n",
      "Length of chunk = 861\n",
      "\n",
      "\u001b[1;34mSo—we have a choice. One way to fight inflation is to drive down wages and make Americans poorer. I have a better plan to fight inflation. Lower your costs, not your wages. Make more cars and semiconductors in America. More infrastructure and innovation in America. More goods moving faster and cheaper in America. More jobs where you can earn a good living in America. And instead of relying on foreign supply chains, let’s make it in America. Economists call it “increasing the productive capacity of our economy.” \n",
      "\n",
      "I call it building a better America. My plan to fight inflation will lower your costs and lower the deficit. 17 Nobel laureates in economics say my plan will ease long-term inflationary pressures. Top business leaders and most Americans support my plan. And here’s the plan: \n",
      "\n",
      "First – cut the cost of prescription drugs. Just look at insulin.\u001b[0m\n",
      "\n"
     ]
    },
    {
     "name": "stdout",
     "output_type": "stream",
     "text": [
      "\u001b[1;32mChunk summary: Building a Better America: A Plan to Fight Inflation by Increasing Productive Capacity and Reducing Costs.\n",
      "\u001b[0m\n",
      "***** Chunk 13 *****\n",
      "Length of chunk = 602\n",
      "\n",
      "\u001b[1;34mOne in ten Americans has diabetes. In Virginia, I met a 13-year-old boy named Joshua Davis. He and his Dad both have Type 1 diabetes, which means they need insulin every day. Insulin costs about $10 a vial to make. But drug companies charge families like Joshua and his Dad up to 30 times more. I spoke with Joshua’s mom. Imagine what it’s like to look at your child who needs insulin and have no idea how you’re going to pay for it. What it does to your dignity, your ability to look your child in the eye, to be the parent you expect to be. Joshua is here with us tonight. Yesterday was his birthday.\u001b[0m\n",
      "\n",
      "\u001b[1;32mChunk summary: High Insulin Costs Burden Families: A Personal Story from Virginia\n",
      "\u001b[0m\n",
      "***** Chunk 14 *****\n",
      "Length of chunk = 207\n",
      "\n",
      "\u001b[1;34mHappy birthday, buddy. For Joshua, and for the 200,000 other young people with Type 1 diabetes, let’s cap the cost of insulin at $35 a month so everyone can afford it. Drug companies will still do very well.\u001b[0m\n",
      "\n",
      "\u001b[1;32mChunk summary: **Cap Insulin Costs: Ensuring Affordability for Young People with Type 1 Diabetes**\n",
      "\u001b[0m\n",
      "***** Chunk 15 *****\n",
      "Length of chunk = 2264\n",
      "\n",
      "\u001b[1;34mAnd while we’re at it let Medicare negotiate lower prices for prescription drugs, like the VA already does. Look, the American Rescue Plan is helping millions of families on Affordable Care Act plans save $2,400 a year on their health care premiums. Let’s close the coverage gap and make those savings permanent. Second – cut energy costs for families an average of $500 a year by combatting climate change. Let’s provide investments and tax credits to weatherize your homes and businesses to be energy efficient and you get a tax credit; double America’s clean energy production in solar, wind, and so much more;  lower the price of electric vehicles, saving you another $80 a month because you’ll never have to pay at the gas pump again. Third – cut the cost of child care. Many families pay up to $14,000 a year for child care per child. Middle-class and working families shouldn’t have to pay more than 7% of their income for care of young children. My plan will cut the cost in half for most families and help parents, including millions of women, who left the workforce during the pandemic because they couldn’t afford child care, to be able to get back to work. My plan doesn’t stop there. It also includes home and long-term care. More affordable housing. And Pre-K for every 3- and 4-year-old. All of these will lower costs. And under my plan, nobody earning less than $400,000 a year will pay an additional penny in new taxes. Nobody. The one thing all Americans agree on is that the tax system is not fair. We have to fix it. I’m not looking to punish anyone. But let’s make sure corporations and the wealthiest Americans start paying their fair share. Just last year, 55 Fortune 500 corporations earned $40 billion in profits and paid zero dollars in federal income tax. That’s simply not fair. That’s why I’ve proposed a 15% minimum tax rate for corporations. We got more than 130 countries to agree on a global minimum tax rate so companies can’t get out of paying their taxes at home by shipping jobs and factories overseas. That’s why I’ve proposed closing loopholes so the very wealthy don’t pay a lower tax rate than a teacher or a firefighter. So that’s my plan. It will grow the economy and lower costs for families. So what are we waiting for?\u001b[0m\n",
      "\n",
      "\u001b[1;32mChunk summary: Comprehensive Plan to Lower Costs for Families and Ensure Fair Taxation\n",
      "\u001b[0m\n",
      "***** Chunk 16 *****\n",
      "Length of chunk = 980\n",
      "\n",
      "\u001b[1;34mLet’s get this done. And while you’re at it, confirm my nominees to the Federal Reserve, which plays a critical role in fighting inflation. My plan will not only lower costs to give families a fair shot, it will lower the deficit. The previous Administration not only ballooned the deficit with tax cuts for the very wealthy and corporations, it undermined the watchdogs whose job was to keep pandemic relief funds from being wasted. But in my administration, the watchdogs have been welcomed back. We’re going after the criminals who stole billions in relief money meant for small businesses and millions of Americans. And tonight, I’m announcing that the Justice Department will name a chief prosecutor for pandemic fraud. By the end of this year, the deficit will be down to less than half what it was before I took office. The only president ever to cut the deficit by more than one trillion dollars in a single year. Lowering your costs also means demanding more competition.\u001b[0m\n",
      "\n",
      "\u001b[1;32mChunk summary: Administration Prioritizes Inflation Fight, Deficit Reduction, and Pandemic Fraud Prosecution.\n",
      "\u001b[0m\n",
      "***** Chunk 17 *****\n",
      "Length of chunk = 988\n",
      "\n",
      "\u001b[1;34mI’m a capitalist, but capitalism without competition isn’t capitalism. It’s exploitation—and it drives up prices. When corporations don’t have to compete, their profits go up, your prices go up, and small businesses and family farmers and ranchers go under. We see it happening with ocean carriers moving goods in and out of America. During the pandemic, these foreign-owned companies raised prices by as much as 1,000% and made record profits. Tonight, I’m announcing a crackdown on these companies overcharging American businesses and consumers. And as Wall Street firms take over more nursing homes, quality in those homes has gone down and costs have gone up. That ends on my watch. Medicare is going to set higher standards for nursing homes and make sure your loved ones get the care they deserve and expect. We’ll also cut costs and keep the economy going strong by giving workers a fair shot, provide more training and apprenticeships, hire them based on their skills not degrees.\u001b[0m\n",
      "\n",
      "\u001b[1;32mChunk summary: Crackdown on Corporate Exploitation: Ensuring Fair Competition and Quality Standards.\n",
      "\u001b[0m\n",
      "***** Chunk 18 *****\n",
      "Length of chunk = 791\n",
      "\n",
      "\u001b[1;34mLet’s pass the Paycheck Fairness Act and paid leave. Raise the minimum wage to $15 an hour and extend the Child Tax Credit, so no one has to raise a family in poverty. Let’s increase Pell Grants and increase our historic support of HBCUs, and invest in what Jill—our First Lady who teaches full-time—calls America’s best-kept secret: community colleges. And let’s pass the PRO Act when a majority of workers want to form a union—they shouldn’t be stopped. When we invest in our workers, when we build the economy from the bottom up and the middle out together, we can do something we haven’t done in a long time: build a better America. For more than two years, COVID-19 has impacted every decision in our lives and the life of the nation. And I know you’re tired, frustrated, and exhausted.\u001b[0m\n",
      "\n",
      "\u001b[1;32mChunk summary: Building a Better America: Economic Reforms and Support for Workers and Education\n",
      "\u001b[0m\n",
      "***** Chunk 19 *****\n",
      "Length of chunk = 2371\n",
      "\n",
      "\u001b[1;34mBut I also know this. Because of the progress we’ve made, because of your resilience and the tools we have, tonight I can say  \n",
      "we are moving forward safely, back to more normal routines. We’ve reached a new moment in the fight against COVID-19, with severe cases down to a level not seen since last July. Just a few days ago, the Centers for Disease Control and Prevention—the CDC—issued new mask guidelines. Under these new guidelines, most Americans in most of the country can now be mask free. And based on the projections, more of the country will reach that point across the next couple of weeks. Thanks to the progress we have made this past year, COVID-19 need no longer control our lives. I know some are talking about “living with COVID-19”. Tonight – I say that we will never just accept living with COVID-19. We will continue to combat the virus as we do other diseases. And because this is a virus that mutates and spreads, we will stay on guard. Here are four common sense steps as we move forward safely. First, stay protected with vaccines and treatments. We know how incredibly effective vaccines are. If you’re vaccinated and boosted you have the highest degree of protection. We will never give up on vaccinating more Americans. Now, I know parents with kids under 5 are eager to see a vaccine authorized for their children. The scientists are working hard to get that done and we’ll be ready with plenty of vaccines when they do. We’re also ready with anti-viral treatments. If you get COVID-19, the Pfizer pill reduces your chances of ending up in the hospital by 90%. We’ve ordered more of these pills than anyone in the world. And Pfizer is working overtime to get us 1 Million pills this month and more than double that next month. And we’re launching the “Test to Treat” initiative so people can get tested at a pharmacy, and if they’re positive, receive antiviral pills on the spot at no cost. If you’re immunocompromised or have some other vulnerability, we have treatments and free high-quality masks. We’re leaving no one behind or ignoring anyone’s needs as we move forward. And on testing, we have made hundreds of millions of tests available for you to order for free. Even if you already ordered free tests tonight, I am announcing that you can order more from covidtests.gov starting next week. Second – we must prepare for new variants.\u001b[0m\n",
      "\n"
     ]
    },
    {
     "name": "stdout",
     "output_type": "stream",
     "text": [
      "\u001b[1;32mChunk summary: \"Progress Against COVID-19: Moving Towards Normalcy with New Guidelines and Continued Vigilance\"\n",
      "\u001b[0m\n",
      "***** Chunk 20 *****\n",
      "Length of chunk = 6628\n",
      "\n",
      "\u001b[1;34mOver the past year, we’ve gotten much better at detecting new variants. If necessary, we’ll be able to deploy new vaccines within 100 days instead of many more months or years. And, if Congress provides the funds we need, we’ll have new stockpiles of tests, masks, and pills ready if needed. I cannot promise a new variant won’t come. But I can promise you we’ll do everything within our power to be ready if it does. Third – we can end the shutdown of schools and businesses. We have the tools we need. It’s time for Americans to get back to work and fill our great downtowns again. People working from home can feel safe to begin to return to the office. We’re doing that here in the federal government. The vast majority of federal workers will once again work in person. Our schools are open. Let’s keep it that way. Our kids need to be in school. And with 75% of adult Americans fully vaccinated and hospitalizations down by 77%, most Americans can remove their masks, return to work, stay in the classroom, and move forward safely. We achieved this because we provided free vaccines, treatments, tests, and masks. Of course, continuing this costs money. I will soon send Congress a request. The vast majority of Americans have used these tools and may want to again, so I expect Congress to pass it quickly. Fourth, we will continue vaccinating the world. We’ve sent 475 Million vaccine doses to 112 countries, more than any other nation. And we won’t stop. We have lost so much to COVID-19. Time with one another. And worst of all, so much loss of life. Let’s use this moment to reset. Let’s stop looking at COVID-19 as a partisan dividing line and see it for what it is: A God-awful disease. Let’s stop seeing each other as enemies, and start seeing each other for who we really are: Fellow Americans. We can’t change how divided we’ve been. But we can change how we move forward—on COVID-19 and other issues we must face together. I recently visited the New York City Police Department days after the funerals of Officer Wilbert Mora and his partner, Officer Jason Rivera. They were responding to a 9-1-1 call when a man shot and killed them with a stolen gun. Officer Mora was 27 years old. Officer Rivera was 22. Both Dominican Americans who’d grown up on the same streets they later chose to patrol as police officers. I spoke with their families and told them that we are forever in debt for their sacrifice, and we will carry on their mission to restore the trust and safety every community deserves. I’ve worked on these issues a long time. I know what works: Investing in crime preventionand community police officers who’ll walk the beat, who’ll know the neighborhood, and who can restore trust and safety. So let’s not abandon our streets. Or choose between safety and equal justice. Let’s come together to protect our communities, restore trust, and hold law enforcement accountable. That’s why the Justice Department required body cameras, banned chokeholds, and restricted no-knock warrants for its officers. That’s why the American Rescue Plan provided $350 Billion that cities, states, and counties can use to hire more police and invest in proven strategies like community violence interruption—trusted messengers breaking the cycle of violence and trauma and giving young people hope. We should all agree: The answer is not to Defund the police. The answer is to FUND the police with the resources and training they need to protect our communities. I ask Democrats and Republicans alike: Pass my budget and keep our neighborhoods safe. And I will keep doing everything in my power to crack down on gun trafficking and ghost guns you can buy online and make at home—they have no serial numbers and can’t be traced. And I ask Congress to pass proven measures to reduce gun violence. Pass universal background checks. Why should anyone on a terrorist list be able to purchase a weapon? Ban assault weapons and high-capacity magazines. Repeal the liability shield that makes gun manufacturers the only industry in America that can’t be sued. These laws don’t infringe on the Second Amendment. They save lives. The most fundamental right in America is the right to vote – and to have it counted. And it’s under assault. In state after state, new laws have been passed, not only to suppress the vote, but to subvert entire elections. We cannot let this happen. Tonight. I call on the Senate to: Pass the Freedom to Vote Act. Pass the John Lewis Voting Rights Act. And while you’re at it, pass the Disclose Act so Americans can know who is funding our elections. Tonight, I’d like to honor someone who has dedicated his life to serve this country: Justice Stephen Breyer—an Army veteran, Constitutional scholar, and retiring Justice of the United States Supreme Court. Justice Breyer, thank you for your service. One of the most serious constitutional responsibilities a President has is nominating someone to serve on the United States Supreme Court. And I did that 4 days ago, when I nominated Circuit Court of Appeals Judge Ketanji Brown Jackson. One of our nation’s top legal minds, who will continue Justice Breyer’s legacy of excellence. A former top litigator in private practice. A former federal public defender. And from a family of public school educators and police officers. A consensus builder. Since she’s been nominated, she’s received a broad range of support—from the Fraternal Order of Police to former judges appointed by Democrats and Republicans. And if we are to advance liberty and justice, we need to secure the Border and fix the immigration system. We can do both. At our border, we’ve installed new technology like cutting-edge scanners to better detect drug smuggling. We’ve set up joint patrols with Mexico and Guatemala to catch more human traffickers. We’re putting in place dedicated immigration judges so families fleeing persecution and violence can have their cases heard faster. We’re securing commitments and supporting partners in South and Central America to host more refugees and secure their own borders. We can do all this while keeping lit the torch of liberty that has led generations of immigrants to this land—my forefathers and so many of yours. Provide a pathway to citizenship for Dreamers, those on temporary status, farm workers, and essential workers. Revise our laws so businesses have the workers they need and families don’t wait decades to reunite. It’s not only the right thing to do—it’s the economically smart thing to do. That’s why immigration reform is supported by everyone from labor unions to religious leaders to the U.S. Chamber of Commerce.\u001b[0m\n",
      "\n",
      "\u001b[1;32mChunk summary: **Strengthening Public Health, Safety, and Unity: A Call for Preparedness, Justice, and Reform**\n",
      "\u001b[0m\n",
      "***** Chunk 21 *****\n",
      "Length of chunk = 3342\n",
      "\n",
      "\u001b[1;34mLet’s get it done once and for all. Advancing liberty and justice also requires protecting the rights of women. The constitutional right affirmed in Roe v. Wade—standing precedent for half a century—is under attack as never before. If we want to go forward—not backward—we must protect access to health care. Preserve a woman’s right to choose. And let’s continue to advance maternal health care in America. And for our LGBTQ+ Americans, let’s finally get the bipartisan Equality Act to my desk. The onslaught of state laws targeting transgender Americans and their families is wrong. As I said last year, especially to our younger transgender Americans, I will always have your back as your President, so you can be yourself and reach your God-given potential. While it often appears that we never agree, that isn’t true. I signed 80 bipartisan bills into law last year. From preventing government shutdowns to protecting Asian-Americans from still-too-common hate crimes to reforming military justice. And soon, we’ll strengthen the Violence Against Women Act that I first wrote three decades ago. It is important for us to show the nation that we can come together and do big things. So tonight I’m offering a Unity Agenda for the Nation. Four big things we can do together. First, beat the opioid epidemic. There is so much we can do. Increase funding for prevention, treatment, harm reduction, and recovery. Get rid of outdated rules that stop doctors from prescribing treatments. And stop the flow of illicit drugs by working with state and local law enforcement to go after traffickers. If you’re suffering from addiction, know you are not alone. I believe in recovery, and I celebrate the 23 million Americans in recovery. Second, let’s take on mental health. Especially among our children, whose lives and education have been turned upside down. The American Rescue Plan gave schools money to hire teachers and help students make up for lost learning. I urge every parent to make sure your school does just that. And we can all play a part—sign up to be a tutor or a mentor. Children were also struggling before the pandemic. Bullying, violence, trauma, and the harms of social media. As Frances Haugen, who is here with us tonight, has shown, we must hold social media platforms accountable for the national experiment they’re conducting on our children for profit. It’s time to strengthen privacy protections, ban targeted advertising to children, demand tech companies stop collecting personal data on our children. And let’s get all Americans the mental health services they need. More people they can turn to for help, and full parity between physical and mental health care. Third, support our veterans. Veterans are the best of us. I’ve always believed that we have a sacred obligation to equip all those we send to war and care for them and their families when they come home. My administration is providing assistance with job training and housing, and now helping lower-income veterans get VA care debt-free. Our troops in Iraq and Afghanistan faced many dangers. One was stationed at bases and breathing in toxic smoke from “burn pits” that incinerated wastes of war—medical and hazard material, jet fuel, and more. When they came home, many of the world’s fittest and best trained warriors were never the same. Headaches.\u001b[0m\n",
      "\n"
     ]
    },
    {
     "name": "stdout",
     "output_type": "stream",
     "text": [
      "\u001b[1;32mChunk summary: Advancing Liberty, Justice, and Unity: A Call to Protect Rights, Tackle Health Issues, and Support Veterans.\n",
      "\u001b[0m\n",
      "***** Chunk 22 *****\n",
      "Length of chunk = 74\n",
      "\n",
      "\u001b[1;34mNumbness. Dizziness. A cancer that would put them in a flag-draped coffin.\u001b[0m\n",
      "\n",
      "\u001b[1;32mChunk summary: The Harrowing Journey from Symptoms to Sacrifice.\n",
      "\u001b[0m\n",
      "***** Chunk 23 *****\n",
      "Length of chunk = 362\n",
      "\n",
      "\u001b[1;34mI know. One of those soldiers was my son Major Beau Biden. We don’t know for sure if a burn pit was the cause of his brain cancer, or the diseases of so many of our troops. But I’m committed to finding out everything we can. Committed to military families like Danielle Robinson from Ohio. The widow of Sergeant First Class Heath Robinson. He was born a soldier.\u001b[0m\n",
      "\n",
      "\u001b[1;32mChunk summary: President Biden pledges commitment to investigating military burn pit effects on health, honoring families like the Robinsons.\n",
      "\u001b[0m\n",
      "***** Chunk 24 *****\n",
      "Length of chunk = 520\n",
      "\n",
      "\u001b[1;34mArmy National Guard. Combat medic in Kosovo and Iraq. Stationed near Baghdad, just yards from burn pits the size of football fields. Heath’s widow Danielle is here with us tonight. They loved going to Ohio State football games. He loved building Legos with their daughter. But cancer from prolonged exposure to burn pits ravaged Heath’s lungs and body. Danielle says Heath was a fighter to the very end. He didn’t know how to stop fighting, and neither did she. Through her pain she found purpose to demand we do better.\u001b[0m\n",
      "\n",
      "\u001b[1;32mChunk summary: Widow Advocates for Change After Combat Medic's Death from Burn Pit Exposure.\n",
      "\u001b[0m\n",
      "***** Chunk 25 *****\n",
      "Length of chunk = 1259\n",
      "\n",
      "\u001b[1;34mTonight, Danielle—we are. The VA is pioneering new ways of linking toxic exposures to diseases, already helping more veterans get benefits. And tonight, I’m announcing we’re expanding eligibility to veterans suffering from nine respiratory cancers. I’m also calling on Congress: pass a law to make sure veterans devastated by toxic exposures in Iraq and Afghanistan finally get the benefits and comprehensive health care they deserve. And fourth, let’s end cancer as we know it. This is personal to me and Jill, to Kamala, and to so many of you. Cancer is the #2 cause of death in America–second only to heart disease. Last month, I announced our plan to supercharge  \n",
      "the Cancer Moonshot that President Obama asked me to lead six years ago. Our goal is to cut the cancer death rate by at least 50% over the next 25 years, turn more cancers from death sentences into treatable diseases. More support for patients and families. To get there, I call on Congress to fund ARPA-H, the Advanced Research Projects Agency for Health. It’s based on DARPA—the Defense Department project that led to the Internet, GPS, and so much more. ARPA-H will have a singular purpose—to drive breakthroughs in cancer, Alzheimer’s, diabetes, and more. A unity agenda for the nation.\u001b[0m\n",
      "\n",
      "\u001b[1;32mChunk summary: Expanding Veteran Benefits and Advancing Cancer Research: A Call for Legislative Action.\n",
      "\u001b[0m\n",
      "***** Chunk 26 *****\n",
      "Length of chunk = 1633\n",
      "\n",
      "\u001b[1;34mWe can do this. My fellow Americans—tonight , we have gathered in a sacred space—the citadel of our democracy. In this Capitol, generation after generation, Americans have debated great questions amid great strife, and have done great things. We have fought for freedom, expanded liberty, defeated totalitarianism and terror. And built the strongest, freest, and most prosperous nation the world has ever known. Now is the hour. Our moment of responsibility. Our test of resolve and conscience, of history itself. It is in this moment that our character is formed. Our purpose is found. Our future is forged. Well I know this nation. We will meet the test. To protect freedom and liberty, to expand fairness and opportunity. We will save democracy. As hard as these times have been, I am more optimistic about America today than I have been my whole life. Because I see the future that is within our grasp. Because I know there is simply nothing beyond our capacity. We are the only nation on Earth that has always turned every crisis we have faced into an opportunity. The only nation that can be defined by a single word: possibilities. So on this night, in our 245th year as a nation, I have come to report on the State of the Union. And my report is this: the State of the Union is strong—because you, the American people, are strong. We are stronger today than we were a year ago. And we will be stronger a year from now than we are today. Now is our moment to meet and overcome the challenges of our time. And we will, as one people. One America. The United States of America. May God bless you all. May God protect our troops.\u001b[0m\n",
      "\n",
      "\u001b[1;32mChunk summary: State of the Union: Strong and United, Ready to Overcome Challenges Together\n",
      "\u001b[0m\n"
     ]
    }
   ],
   "source": [
    "chunk_summary = []\n",
    "\n",
    "for idx, chunk in enumerate(chunks, start=1):\n",
    "    chunk_text = chunk.page_content\n",
    "    print(f\"***** Chunk {idx} *****\\nLength of chunk = {len(chunk_text)}\\n\")\n",
    "    print(f\"\\033[1;34m{chunk_text}\\033[0m\\n\")\n",
    "    answer = gpt_4omini(chunk_text)\n",
    "    chunk_summary.append(answer.choices[0].message.content)\n",
    "    print(\"\\033[1;32m\", end=\"\")\n",
    "    print(f\"Chunk summary: {answer.choices[0].message.content}\")\n",
    "    print(\"\\033[0m\")"
   ]
  },
  {
   "cell_type": "markdown",
   "id": "a15d804f",
   "metadata": {},
   "source": [
    "### List of all the summaries for each chunk"
   ]
  },
  {
   "cell_type": "code",
   "execution_count": 16,
   "id": "5c48364f",
   "metadata": {},
   "outputs": [
    {
     "name": "stdout",
     "output_type": "stream",
     "text": [
      "Chunk 1: Unity Against Aggression: U.S. Stands with Ukraine in Face of Russian Threats\n",
      "Chunk 2: NATO's Role and Unity in Response to Rising Global Threats and Putin's Aggression.\n",
      "Chunk 3: Summary of Actions Taken\n",
      "Chunk 4: Global Coalition Enforces Sanctions and Support Against Russia's Aggression in Ukraine.\n",
      "Chunk 5: U.S. Provides Over $1 Billion in Aid to Ukraine, Mobilizes Forces to Defend NATO Allies.\n",
      "Chunk 6: Global Unity Strengthens Amidst Russia's War on Ukraine, Highlighting Democracy's Resilience.\n",
      "Chunk 7: Standing with Ukraine: Unyielding Spirit and Enduring Bonds\n",
      "Chunk 8: \"American Rescue Plan: A Lifeline for Struggling Families and Economic Recovery\"\n",
      "Chunk 9: Record Job Creation and Infrastructure Overhaul: Building America's Economic Future\n",
      "Chunk 10: Intel's Historic $100 Billion Investment Signals American Manufacturing Revival.\n",
      "Chunk 11: \"Major Investments in Electric Vehicles Amid Economic Challenges and Inflation Concerns\"\n",
      "Chunk 12: Building a Better America: A Plan to Fight Inflation by Increasing Productive Capacity and Reducing Costs.\n",
      "Chunk 13: High Insulin Costs Burden Families: A Personal Story from Virginia\n",
      "Chunk 14: **Cap Insulin Costs: Ensuring Affordability for Young People with Type 1 Diabetes**\n",
      "Chunk 15: Comprehensive Plan to Lower Costs for Families and Ensure Fair Taxation\n",
      "Chunk 16: Administration Prioritizes Inflation Fight, Deficit Reduction, and Pandemic Fraud Prosecution.\n",
      "Chunk 17: Crackdown on Corporate Exploitation: Ensuring Fair Competition and Quality Standards.\n",
      "Chunk 18: Building a Better America: Economic Reforms and Support for Workers and Education\n",
      "Chunk 19: \"Progress Against COVID-19: Moving Towards Normalcy with New Guidelines and Continued Vigilance\"\n",
      "Chunk 20: **Strengthening Public Health, Safety, and Unity: A Call for Preparedness, Justice, and Reform**\n",
      "Chunk 21: Advancing Liberty, Justice, and Unity: A Call to Protect Rights, Tackle Health Issues, and Support Veterans.\n",
      "Chunk 22: The Harrowing Journey from Symptoms to Sacrifice.\n",
      "Chunk 23: President Biden pledges commitment to investigating military burn pit effects on health, honoring families like the Robinsons.\n",
      "Chunk 24: Widow Advocates for Change After Combat Medic's Death from Burn Pit Exposure.\n",
      "Chunk 25: Expanding Veteran Benefits and Advancing Cancer Research: A Call for Legislative Action.\n",
      "Chunk 26: State of the Union: Strong and United, Ready to Overcome Challenges Together\n"
     ]
    }
   ],
   "source": [
    "for idx, summary in enumerate(chunk_summary, start=1):\n",
    "    print(f\"Chunk {idx}: {summary}\")"
   ]
  },
  {
   "cell_type": "markdown",
   "id": "4bfdfcd4",
   "metadata": {},
   "source": [
    "### Semantic chunks size"
   ]
  },
  {
   "cell_type": "code",
   "execution_count": 17,
   "id": "9bae8f8e",
   "metadata": {},
   "outputs": [
    {
     "data": {
      "image/png": "[encoded data removed]",
      "text/plain": [
       "<Figure size 1500x700 with 1 Axes>"
      ]
     },
     "metadata": {},
     "output_type": "display_data"
    }
   ],
   "source": [
    "x = range(len(chunk_size_list))\n",
    "bar_color = 'blue'\n",
    "\n",
    "plt.figure(figsize=(15, 7))\n",
    "plt.bar(x, chunk_size_list, color=bar_color)\n",
    "plt.xlabel('Chunk id', size=15)\n",
    "plt.ylabel('Size', size=15)\n",
    "plt.title('Size of Semantic chunks', size=15)\n",
    "plt.xticks(x)\n",
    "plt.grid(True, which='both', axis='y', linestyle='--', linewidth=1)\n",
    "\n",
    "plt.show()"
   ]
  },
  {
   "cell_type": "code",
   "execution_count": null,
   "id": "d766c0d3",
   "metadata": {},
   "outputs": [],
   "source": []
  }
 ],
 "metadata": {
  "kernelspec": {
   "display_name": "Python 3.10 - SDK v2",
   "language": "python",
   "name": "python310-sdkv2"
  },
  "language_info": {
   "codemirror_mode": {
    "name": "ipython",
    "version": 3
   },
   "file_extension": ".py",
   "mimetype": "text/x-python",
   "name": "python",
   "nbconvert_exporter": "python",
   "pygments_lexer": "ipython3",
   "version": "3.10.11"
  }
 },
 "nbformat": 4,
 "nbformat_minor": 5
}
