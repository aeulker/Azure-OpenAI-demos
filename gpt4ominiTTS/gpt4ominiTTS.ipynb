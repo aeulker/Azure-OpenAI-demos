{
 "cells": [
  {
   "cell_type": "markdown",
   "id": "7e13bd49-413f-42aa-ba05-eb7276a734a6",
   "metadata": {},
   "source": [
    "# Text to Speech with Azure AI Foundry gpt-4o-mini-tts\n",
    "\n",
    "<img src=\"https://devblogs.microsoft.com/foundry/wp-content/uploads/sites/89/2025/04/image-1024x576.png\">\n",
    "\n",
    "GPT-4o Mini TTS is an innovative text-to-speech model designed to convert written text into spoken language with high accuracy and efficiency. The model offers customizable voice output, allowing developers to instruct it to speak in specific ways, such as \"talk like a sympathetic customer service agent\n",
    "\n",
    "GPT-4o Mini TTS Key Capabilities:\n",
    "- High Accuracy: The model offers improved WER performance, making it highly accurate in converting text to speech.\n",
    "- Efficiency: Optimized for faster and more cost-efficient speech generation, suitable for applications needing quick responses and lower resource consumption.\n",
    "- Customization: The model can be instructed on how to say input via prompting, allowing control over nuance such as accent, emotional range, intonation, impressions, speed of speech, tone, and whispering\n",
    "\n",
    "> https://devblogs.microsoft.com/foundry/get-started-azure-openai-advanced-audio-models/#model-comparison\n",
    "\n",
    "Soundboard is available :\n",
    "> https://github.com/Azure-Samples/azure-openai-tts-demo"
   ]
  },
  {
   "cell_type": "code",
   "execution_count": 1,
   "id": "ddbf45d0-f0e0-4840-a09a-62934826138a",
   "metadata": {},
   "outputs": [],
   "source": [
    "import gradio as gr\n",
    "import os\n",
    "import sys\n",
    "import tempfile\n",
    "import time\n",
    "\n",
    "from openai import AzureOpenAI\n",
    "from datetime import datetime\n",
    "from dotenv import load_dotenv"
   ]
  },
  {
   "cell_type": "code",
   "execution_count": 2,
   "id": "332e50f2-0b85-4bca-b6ba-e98190e0a185",
   "metadata": {},
   "outputs": [
    {
     "data": {
      "text/plain": [
       "'3.10.14 (main, May  6 2024, 19:42:50) [GCC 11.2.0]'"
      ]
     },
     "execution_count": 2,
     "metadata": {},
     "output_type": "execute_result"
    }
   ],
   "source": [
    "sys.version"
   ]
  },
  {
   "cell_type": "code",
   "execution_count": 3,
   "id": "432ecbff-ce50-42c1-a11f-30970239ed0b",
   "metadata": {},
   "outputs": [
    {
     "name": "stdout",
     "output_type": "stream",
     "text": [
      "Today is 18-Apr-2025 07:45:23\n"
     ]
    }
   ],
   "source": [
    "print(f\"Today is {datetime.today().strftime('%d-%b-%Y %H:%M:%S')}\")"
   ]
  },
  {
   "cell_type": "code",
   "execution_count": 4,
   "id": "e0d38f31-50fc-427d-8842-47e93396cab1",
   "metadata": {},
   "outputs": [],
   "source": [
    "load_dotenv(\"azure.env\")\n",
    "\n",
    "api_version = '2025-03-01-preview'\n",
    "model_name = \"gpt-4o-mini-tts\""
   ]
  },
  {
   "cell_type": "markdown",
   "id": "9c663535-6d75-46cf-8e85-1715a135c31b",
   "metadata": {},
   "source": [
    "> Our GPT-4o powered mini tts service currently offers 11 different voices with unique characteristics: Alloy (neutral), Ash (calm), Ballad (melodic), Coral (energetic), Echo (deep), Fable (warm), Onyx (authoritative), Nova (friendly), Sage (wise), Shimmer (cheerful), and Verse (poetic)."
   ]
  },
  {
   "cell_type": "code",
   "execution_count": 5,
   "id": "3b83579d-3395-4912-8910-388e17d5a058",
   "metadata": {},
   "outputs": [],
   "source": [
    "# List of voices\n",
    "VOICES = [\n",
    "    \"alloy\", \"ash\", \"ballad\", \"coral\", \"echo\", \"fable\", \"onyx\", \"nova\", \"sage\",\n",
    "    \"shimmer\", \"verse\"\n",
    "]"
   ]
  },
  {
   "cell_type": "code",
   "execution_count": 6,
   "id": "751269d0-612c-4db8-976c-2accb1283313",
   "metadata": {},
   "outputs": [],
   "source": [
    "def gpt4ominitts(instructions, text, voice):\n",
    "    \"\"\"\n",
    "    Generate a speech audio file using GPT-4 model with specified voice and instructions.\n",
    "\n",
    "    Args:\n",
    "        instructions (str): Instructions for speech synthesis, including tone, delivery, and emotion.\n",
    "        text (str): The text to be converted into speech.\n",
    "        voice (str): The voice model to be used for speech synthesis.\n",
    "\n",
    "    Returns:\n",
    "        str: The filename of the generated speech audio file in WAV format.\n",
    "    \"\"\"\n",
    "    client = AzureOpenAI(\n",
    "        azure_endpoint=os.getenv('endpoint'),\n",
    "        api_key=os.getenv('key'),\n",
    "        api_version=api_version,\n",
    "    )\n",
    "\n",
    "    response = client.audio.speech.create(\n",
    "        model=model_name,\n",
    "        voice=voice,\n",
    "        input=text,\n",
    "        instructions=instructions,\n",
    "        response_format=\"wav\",\n",
    "    )\n",
    "\n",
    "    with tempfile.NamedTemporaryFile(delete=False,\n",
    "                                     suffix=\".wav\") as temp_audio:\n",
    "        temp_audio.write(response.content)\n",
    "        tempfilename = temp_audio.name\n",
    "    time.sleep(0.5)\n",
    "\n",
    "    return tempfilename"
   ]
  },
  {
   "cell_type": "code",
   "execution_count": 7,
   "id": "90ba433d-069e-4f7d-b75f-4e7016b2f863",
   "metadata": {},
   "outputs": [],
   "source": [
    "instructions = \"\"\"\n",
    "Tone: Inspirational, determined, and unifying, conveying a deep commitment to shared values and collective progress.\n",
    "\n",
    "Delivery: Measured and deliberate, with intentional pacing to allow key messages to resonate and reinforce a sense of gravity.\n",
    "\n",
    "Emotion: Passionate, sincere, and empathetic, appealing to both reason and the heart to build trust and rally support.\n",
    "\n",
    "Punctuation: Purposeful, strong sentence structure—utilizing pauses, rhetorical repetition, and emphatic phrasing to drive momentum and clarity.\n",
    "\n",
    "Pronunciation: Clear and deliberate enunciation, especially on policy points and names, to project authority and reinforce message precision.\n",
    "\n",
    "Personality Affect: Statesmanlike and relatable—balancing gravitas with warmth, conveying both leadership and a genuine connection to the people.\n",
    "\"\"\""
   ]
  },
  {
   "cell_type": "code",
   "execution_count": 8,
   "id": "ad5e166f-1a23-42db-b0c1-91db6bbd5ba1",
   "metadata": {},
   "outputs": [],
   "source": [
    "text = \"\"\"\n",
    "ARTICLE PREMIER.\n",
    "La France est une République indivisible, laïque, démocratique et sociale. Elle assure l'égalité devant la loi de tous les citoyens sans distinction d'origine, de race ou de religion. Elle respecte toutes les croyances. Son organisation est décentralisée.\n",
    "\n",
    "La loi favorise l'égal accès des femmes et des hommes aux mandats électoraux et fonctions électives, ainsi qu'aux responsabilités professionnelles et sociales.\n",
    "\"\"\""
   ]
  },
  {
   "cell_type": "code",
   "execution_count": 9,
   "id": "61b7e5a0-d136-4c08-ad71-0c6d5179e1a4",
   "metadata": {},
   "outputs": [
    {
     "name": "stdout",
     "output_type": "stream",
     "text": [
      "* Running on local URL:  http://127.0.0.1:7862\n",
      "* Running on public URL: https://d40d4e1ab19d9d4537.gradio.live\n",
      "\n",
      "This share link expires in 72 hours. For free permanent hosting and GPU upgrades, run `gradio deploy` from the terminal in the working directory to deploy to Hugging Face Spaces (https://huggingface.co/spaces)\n"
     ]
    },
    {
     "data": {
      "text/html": [
       "<div><iframe src=\"https://d40d4e1ab19d9d4537.gradio.live\" width=\"100%\" height=\"500\" allow=\"autoplay; camera; microphone; clipboard-read; clipboard-write;\" frameborder=\"0\" allowfullscreen></iframe></div>"
      ],
      "text/plain": [
       "<IPython.core.display.HTML object>"
      ]
     },
     "metadata": {},
     "output_type": "display_data"
    },
    {
     "data": {
      "text/plain": []
     },
     "execution_count": 9,
     "metadata": {},
     "output_type": "execute_result"
    }
   ],
   "source": [
    "with gr.Blocks(\n",
    "        theme='soft',\n",
    "        css=\n",
    "        \".gr-box {border-radius: 12px; box-shadow: 0 4px 12px rgba(0,0,0,0.05);} .gr-button {font-size: 16px;}\"\n",
    ") as webapp:\n",
    "    gr.Markdown(\"\"\"\n",
    "    # 🎙️ Azure OpenAI GPT-4o Mini TTS\n",
    "    #### Powered by **Azure AI Foundry**\n",
    "    Transform your text into high-quality speech using the GPT-4o Mini Text-to-Speech model.\n",
    "    \"\"\")\n",
    "\n",
    "    with gr.Row(equal_height=True):\n",
    "        with gr.Column():\n",
    "            gr.Markdown(\"### 📝 Text Input\")\n",
    "            instructions_box = gr.Textbox(\n",
    "                label=\"Model Instructions\",\n",
    "                placeholder=\"E.g., use a calm tone, slow speech, etc.\",\n",
    "                value=instructions,\n",
    "                lines=10,\n",
    "                interactive=True)\n",
    "            input_box = gr.Textbox(\n",
    "                label=\"Text to Convert\",\n",
    "                placeholder=\"Enter the text you want to synthesize...\",\n",
    "                value=text,\n",
    "                lines=10,\n",
    "                interactive=True)\n",
    "\n",
    "        with gr.Column():\n",
    "            gr.Markdown(\"### 🎧 Output & Settings\")\n",
    "            voice_picker = gr.Dropdown(\n",
    "                VOICES,\n",
    "                value=\"ash\",\n",
    "                label=\"Voice Template\",\n",
    "                info=\"Select a predefined voice configuration\")\n",
    "            output_audio = gr.Audio(label=\"🎵 Generated Audio\",\n",
    "                                    type=\"filepath\",\n",
    "                                    interactive=False)\n",
    "\n",
    "    with gr.Row():\n",
    "        play_button = gr.Button(\"▶️ Generate Speech\",\n",
    "                                variant=\"primary\",\n",
    "                                size=\"lg\")\n",
    "        play_button.click(\n",
    "            fn=gpt4ominitts,\n",
    "            inputs=[instructions_box, input_box, voice_picker],\n",
    "            outputs=[output_audio],\n",
    "        )\n",
    "\n",
    "webapp.launch(share=True)"
   ]
  },
  {
   "cell_type": "code",
   "execution_count": null,
   "id": "689ba3a6-bce4-45d1-8f0d-0fb25ff2bc11",
   "metadata": {},
   "outputs": [],
   "source": []
  }
 ],
 "metadata": {
  "kernelspec": {
   "display_name": "Python 3.10 - SDK v2",
   "language": "python",
   "name": "python310-sdkv2"
  },
  "language_info": {
   "codemirror_mode": {
    "name": "ipython",
    "version": 3
   },
   "file_extension": ".py",
   "mimetype": "text/x-python",
   "name": "python",
   "nbconvert_exporter": "python",
   "pygments_lexer": "ipython3",
   "version": "3.10.14"
  },
  "varInspector": {
   "cols": {
    "lenName": 16,
    "lenType": 16,
    "lenVar": 40
   },
   "kernels_config": {
    "python": {
     "delete_cmd_postfix": "",
     "delete_cmd_prefix": "del ",
     "library": "var_list.py",
     "varRefreshCmd": "print(var_dic_list())"
    },
    "r": {
     "delete_cmd_postfix": ") ",
     "delete_cmd_prefix": "rm(",
     "library": "var_list.r",
     "varRefreshCmd": "cat(var_dic_list()) "
    }
   },
   "types_to_exclude": [
    "module",
    "function",
    "builtin_function_or_method",
    "instance",
    "_Feature"
   ],
   "window_display": false
  }
 },
 "nbformat": 4,
 "nbformat_minor": 5
}
