{
 "cells": [
  {
   "cell_type": "markdown",
   "id": "c1749c2e",
   "metadata": {},
   "source": [
    "# 8 AutoGen - Human interaction\n",
    "\n",
    "The AutoGen ecosystem provides everything you need to create AI agents, especially multi-agent workflows -- framework, developer tools, and applications.\n",
    "\n",
    "The framework uses a layered and extensible design. Layers have clearly divided responsibilities and build on top of layers below. This design enables you to use the framework at different levels of abstraction, from high-level APIs to low-level components.\n",
    "\n",
    "Core API implements message passing, event-driven agents, and local and distributed runtime for flexibility and power. It also support cross-language support for .NET and Python.\n",
    "AgentChat API implements a simpler but opinionated API for rapid prototyping. This API is built on top of the Core API and is closest to what users of v0.2 are familiar with and supports common multi-agent patterns such as two-agent chat or group chats.\n",
    "Extensions API enables first- and third-party extensions continuously expanding framework capabilities. It support specific implementation of LLM clients (e.g., OpenAI, AzureOpenAI), and capabilities such as code execution.\n",
    "\n",
    "<img src=\"https://github.com/microsoft/autogen/raw/main/autogen-landing.jpg\" width=400>\n",
    "\n",
    "> https://microsoft.github.io/autogen/stable/<br>\n",
    "> https://github.com/microsoft/autogen"
   ]
  },
  {
   "cell_type": "code",
   "execution_count": 1,
   "id": "97bc2c9d",
   "metadata": {},
   "outputs": [],
   "source": [
    "import autogen\n",
    "import datetime\n",
    "import json\n",
    "import openai\n",
    "import os\n",
    "import sys\n",
    "\n",
    "from autogen import config_list_from_json"
   ]
  },
  {
   "cell_type": "code",
   "execution_count": 2,
   "id": "e3c7ccc6",
   "metadata": {},
   "outputs": [
    {
     "data": {
      "text/plain": [
       "'3.10.14 (main, May  6 2024, 19:42:50) [GCC 11.2.0]'"
      ]
     },
     "execution_count": 2,
     "metadata": {},
     "output_type": "execute_result"
    }
   ],
   "source": [
    "sys.version"
   ]
  },
  {
   "cell_type": "code",
   "execution_count": 3,
   "id": "f4938699-e3ee-4bac-bbdf-7cbfaf2380c6",
   "metadata": {},
   "outputs": [
    {
     "name": "stdout",
     "output_type": "stream",
     "text": [
      "Today is 20-May-2025 14:33:50\n"
     ]
    }
   ],
   "source": [
    "print(f\"Today is {datetime.datetime.today().strftime('%d-%b-%Y %H:%M:%S')}\")"
   ]
  },
  {
   "cell_type": "code",
   "execution_count": 4,
   "id": "f8a5a8a0",
   "metadata": {},
   "outputs": [],
   "source": [
    "config_list = autogen.config_list_from_json(\n",
    "    \"CONFIG_LIST\",\n",
    ")"
   ]
  },
  {
   "cell_type": "code",
   "execution_count": 5,
   "id": "7448db1d",
   "metadata": {},
   "outputs": [],
   "source": [
    "WORK_DIR = \"workdir\"\n",
    "\n",
    "os.makedirs(WORK_DIR, exist_ok=True)"
   ]
  },
  {
   "cell_type": "markdown",
   "id": "0e8635eb",
   "metadata": {},
   "source": [
    "## 1. Agent"
   ]
  },
  {
   "cell_type": "code",
   "execution_count": 6,
   "id": "61cf8243",
   "metadata": {},
   "outputs": [],
   "source": [
    "# create an AssistantAgent instance named \"assistant\"\n",
    "assistant = autogen.AssistantAgent(\n",
    "    name=\"assistant\",\n",
    "    llm_config={\n",
    "        \"cache_seed\": None,\n",
    "        \"config_list\": config_list,\n",
    "    },\n",
    ")"
   ]
  },
  {
   "cell_type": "code",
   "execution_count": 7,
   "id": "1e9a1ff0",
   "metadata": {},
   "outputs": [],
   "source": [
    "user_proxy = autogen.UserProxyAgent(\n",
    "    name=\"user_proxy\",\n",
    "    human_input_mode=\"ALWAYS\",\n",
    "    is_termination_msg=lambda x: x.get(\"content\", \"\").rstrip().endswith(\n",
    "        \"TERMINATE\"),\n",
    "    code_execution_config={\n",
    "        \"use_docker\": False\n",
    "    },  # Please set use_docker=True if docker is available to run the generated code.\n",
    ")"
   ]
  },
  {
   "cell_type": "code",
   "execution_count": 8,
   "id": "0831074d",
   "metadata": {},
   "outputs": [],
   "source": [
    "problem_to_solve = \"\"\"\n",
    "I want to resize all my jpeg images from the directory MYIMAGES to (640,640) pixels.\n",
    "Show me the python code.\n",
    "\"\"\""
   ]
  },
  {
   "cell_type": "code",
   "execution_count": 9,
   "id": "3d33e29b",
   "metadata": {},
   "outputs": [
    {
     "name": "stdout",
     "output_type": "stream",
     "text": [
      "\u001b[33muser_proxy\u001b[0m (to assistant):\n",
      "\n",
      "\n",
      "I want to resize all my jpeg images from the directory MYIMAGES to (640,640) pixels.\n",
      "Show me the python code.\n",
      "\n",
      "\n",
      "--------------------------------------------------------------------------------\n",
      "\u001b[33massistant\u001b[0m (to user_proxy):\n",
      "\n",
      "To resize all JPEG images in the directory `MYIMAGES` to (640, 640) pixels, we will use the Python Imaging Library (PIL), which is available in the `Pillow` package. The code will open each JPEG image, resize it, and then save the resized image.\n",
      "\n",
      "### Here is the plan:\n",
      "1. Import the necessary libraries.\n",
      "2. Define the directory containing the images.\n",
      "3. Loop through all the files in the directory.\n",
      "4. Check if the file is a JPEG image.\n",
      "5. Open the image, resize it to (640, 640), and save it back.\n",
      "\n",
      "### Below is the complete Python code:\n",
      "\n",
      "```python\n",
      "# filename: resize_images.py\n",
      "from PIL import Image\n",
      "import os\n",
      "\n",
      "# Define the directory containing the images\n",
      "directory = 'MYIMAGES'\n",
      "\n",
      "# Loop through all files in the directory\n",
      "for filename in os.listdir(directory):\n",
      "    if filename.endswith('.jpeg') or filename.endswith('.jpg'):\n",
      "        # Open the image\n",
      "        img_path = os.path.join(directory, filename)\n",
      "        with Image.open(img_path) as img:\n",
      "            # Resize the image\n",
      "            img_resized = img.resize((640, 640))\n",
      "            # Save the resized image\n",
      "            img_resized.save(img_path)\n",
      "            print(f'Resized and saved: {filename}')\n",
      "```\n",
      "\n",
      "Save the above code in a file named `resize_images.py`, and then you can run the script to resize your JPEG images. \n",
      "\n",
      "Please execute the code and let me know the result.\n",
      "\n",
      "--------------------------------------------------------------------------------\n"
     ]
    },
    {
     "name": "stdin",
     "output_type": "stream",
     "text": [
      "Replying as user_proxy. Provide feedback to assistant. Press enter to skip and use auto-reply, or type 'exit' to end the conversation:  use opencv. Do not use PIL\n"
     ]
    },
    {
     "name": "stdout",
     "output_type": "stream",
     "text": [
      "\u001b[33muser_proxy\u001b[0m (to assistant):\n",
      "\n",
      "use opencv. Do not use PIL\n",
      "\n",
      "--------------------------------------------------------------------------------\n",
      "\u001b[33massistant\u001b[0m (to user_proxy):\n",
      "\n",
      "Sure! To resize all JPEG images in the directory `MYIMAGES` to (640, 640) pixels using OpenCV, we can follow a similar plan:\n",
      "\n",
      "### Here is the plan:\n",
      "1. Import the necessary libraries (OpenCV and os).\n",
      "2. Define the directory containing the images.\n",
      "3. Loop through all the files in the directory.\n",
      "4. Check if the file is a JPEG image based on the file extension.\n",
      "5. Read the image using OpenCV, resize it to (640, 640), and save it back.\n",
      "\n",
      "### Below is the complete Python code using OpenCV:\n",
      "\n",
      "```python\n",
      "# filename: resize_images_opencv.py\n",
      "import cv2\n",
      "import os\n",
      "\n",
      "# Define the directory containing the images\n",
      "directory = 'MYIMAGES'\n",
      "\n",
      "# Loop through all files in the directory\n",
      "for filename in os.listdir(directory):\n",
      "    if filename.endswith('.jpeg') or filename.endswith('.jpg'):\n",
      "        # Construct the full file path\n",
      "        img_path = os.path.join(directory, filename)\n",
      "        # Read the image\n",
      "        img = cv2.imread(img_path)\n",
      "        # Resize the image\n",
      "        img_resized = cv2.resize(img, (640, 640))\n",
      "        # Save the resized image\n",
      "        cv2.imwrite(img_path, img_resized)\n",
      "        print(f'Resized and saved: {filename}')\n",
      "```\n",
      "\n",
      "Save the above code in a file named `resize_images_opencv.py`, and then run the script to resize your JPEG images. \n",
      "\n",
      "Please execute the code and let me know the result.\n",
      "\n",
      "--------------------------------------------------------------------------------\n"
     ]
    },
    {
     "name": "stdin",
     "output_type": "stream",
     "text": [
      "Replying as user_proxy. Provide feedback to assistant. Press enter to skip and use auto-reply, or type 'exit' to end the conversation:  do not use pil or opencv. Use something else\n"
     ]
    },
    {
     "name": "stdout",
     "output_type": "stream",
     "text": [
      "\u001b[33muser_proxy\u001b[0m (to assistant):\n",
      "\n",
      "do not use pil or opencv. Use something else\n",
      "\n",
      "--------------------------------------------------------------------------------\n",
      "\u001b[33massistant\u001b[0m (to user_proxy):\n",
      "\n",
      "Alright! We'll use the `imageio` library, which can handle image reading and writing. Additionally, we can leverage `numpy` to perform the resizing.\n",
      "\n",
      "### Here is the plan:\n",
      "1. Import the necessary libraries (imageio and numpy).\n",
      "2. Define the directory containing the images.\n",
      "3. Loop through all files in the directory.\n",
      "4. Check if the file is a JPEG image based on the file extension.\n",
      "5. Read the image using `imageio`, resize it using `numpy` for manipulation, and save it back.\n",
      "\n",
      "### Below is the complete Python code using `imageio` and `numpy`:\n",
      "\n",
      "```python\n",
      "# filename: resize_images_imageio.py\n",
      "import imageio\n",
      "import os\n",
      "import numpy as np\n",
      "\n",
      "# Define the directory containing the images\n",
      "directory = 'MYIMAGES'\n",
      "\n",
      "# Function to resize the image\n",
      "def resize_image(image, size):\n",
      "    return np.resize(image, (size[0], size[1], image.shape[2]))\n",
      "\n",
      "# Loop through all files in the directory\n",
      "for filename in os.listdir(directory):\n",
      "    if filename.endswith('.jpeg') or filename.endswith('.jpg'):\n",
      "        # Construct the full file path\n",
      "        img_path = os.path.join(directory, filename)\n",
      "        # Read the image\n",
      "        img = imageio.imread(img_path)\n",
      "        # Resize the image\n",
      "        img_resized = resize_image(img, (640, 640))\n",
      "        # Save the resized image\n",
      "        imageio.imwrite(img_path, img_resized)\n",
      "        print(f'Resized and saved: {filename}')\n",
      "```\n",
      "\n",
      "Save this code in a file named `resize_images_imageio.py`, and then run the script to resize your JPEG images. \n",
      "\n",
      "Please execute the code and let me know the result.\n",
      "\n",
      "--------------------------------------------------------------------------------\n"
     ]
    },
    {
     "name": "stdin",
     "output_type": "stream",
     "text": [
      "Replying as user_proxy. Provide feedback to assistant. Press enter to skip and use auto-reply, or type 'exit' to end the conversation:  exit\n"
     ]
    },
    {
     "name": "stdout",
     "output_type": "stream",
     "text": [
      "\u001b[31m\n",
      ">>>>>>>> TERMINATING RUN (6e5c0876-433a-44db-a49e-e9eb894853f3): User requested to end the conversation\u001b[0m\n"
     ]
    },
    {
     "data": {
      "text/plain": [
       "ChatResult(chat_id=None, chat_history=[{'content': '\\nI want to resize all my jpeg images from the directory MYIMAGES to (640,640) pixels.\\nShow me the python code.\\n', 'role': 'assistant', 'name': 'user_proxy'}, {'content': \"To resize all JPEG images in the directory `MYIMAGES` to (640, 640) pixels, we will use the Python Imaging Library (PIL), which is available in the `Pillow` package. The code will open each JPEG image, resize it, and then save the resized image.\\n\\n### Here is the plan:\\n1. Import the necessary libraries.\\n2. Define the directory containing the images.\\n3. Loop through all the files in the directory.\\n4. Check if the file is a JPEG image.\\n5. Open the image, resize it to (640, 640), and save it back.\\n\\n### Below is the complete Python code:\\n\\n```python\\n# filename: resize_images.py\\nfrom PIL import Image\\nimport os\\n\\n# Define the directory containing the images\\ndirectory = 'MYIMAGES'\\n\\n# Loop through all files in the directory\\nfor filename in os.listdir(directory):\\n    if filename.endswith('.jpeg') or filename.endswith('.jpg'):\\n        # Open the image\\n        img_path = os.path.join(directory, filename)\\n        with Image.open(img_path) as img:\\n            # Resize the image\\n            img_resized = img.resize((640, 640))\\n            # Save the resized image\\n            img_resized.save(img_path)\\n            print(f'Resized and saved: {filename}')\\n```\\n\\nSave the above code in a file named `resize_images.py`, and then you can run the script to resize your JPEG images. \\n\\nPlease execute the code and let me know the result.\", 'role': 'user', 'name': 'assistant'}, {'content': 'use opencv. Do not use PIL', 'role': 'assistant', 'name': 'user_proxy'}, {'content': \"Sure! To resize all JPEG images in the directory `MYIMAGES` to (640, 640) pixels using OpenCV, we can follow a similar plan:\\n\\n### Here is the plan:\\n1. Import the necessary libraries (OpenCV and os).\\n2. Define the directory containing the images.\\n3. Loop through all the files in the directory.\\n4. Check if the file is a JPEG image based on the file extension.\\n5. Read the image using OpenCV, resize it to (640, 640), and save it back.\\n\\n### Below is the complete Python code using OpenCV:\\n\\n```python\\n# filename: resize_images_opencv.py\\nimport cv2\\nimport os\\n\\n# Define the directory containing the images\\ndirectory = 'MYIMAGES'\\n\\n# Loop through all files in the directory\\nfor filename in os.listdir(directory):\\n    if filename.endswith('.jpeg') or filename.endswith('.jpg'):\\n        # Construct the full file path\\n        img_path = os.path.join(directory, filename)\\n        # Read the image\\n        img = cv2.imread(img_path)\\n        # Resize the image\\n        img_resized = cv2.resize(img, (640, 640))\\n        # Save the resized image\\n        cv2.imwrite(img_path, img_resized)\\n        print(f'Resized and saved: {filename}')\\n```\\n\\nSave the above code in a file named `resize_images_opencv.py`, and then run the script to resize your JPEG images. \\n\\nPlease execute the code and let me know the result.\", 'role': 'user', 'name': 'assistant'}, {'content': 'do not use pil or opencv. Use something else', 'role': 'assistant', 'name': 'user_proxy'}, {'content': \"Alright! We'll use the `imageio` library, which can handle image reading and writing. Additionally, we can leverage `numpy` to perform the resizing.\\n\\n### Here is the plan:\\n1. Import the necessary libraries (imageio and numpy).\\n2. Define the directory containing the images.\\n3. Loop through all files in the directory.\\n4. Check if the file is a JPEG image based on the file extension.\\n5. Read the image using `imageio`, resize it using `numpy` for manipulation, and save it back.\\n\\n### Below is the complete Python code using `imageio` and `numpy`:\\n\\n```python\\n# filename: resize_images_imageio.py\\nimport imageio\\nimport os\\nimport numpy as np\\n\\n# Define the directory containing the images\\ndirectory = 'MYIMAGES'\\n\\n# Function to resize the image\\ndef resize_image(image, size):\\n    return np.resize(image, (size[0], size[1], image.shape[2]))\\n\\n# Loop through all files in the directory\\nfor filename in os.listdir(directory):\\n    if filename.endswith('.jpeg') or filename.endswith('.jpg'):\\n        # Construct the full file path\\n        img_path = os.path.join(directory, filename)\\n        # Read the image\\n        img = imageio.imread(img_path)\\n        # Resize the image\\n        img_resized = resize_image(img, (640, 640))\\n        # Save the resized image\\n        imageio.imwrite(img_path, img_resized)\\n        print(f'Resized and saved: {filename}')\\n```\\n\\nSave this code in a file named `resize_images_imageio.py`, and then run the script to resize your JPEG images. \\n\\nPlease execute the code and let me know the result.\", 'role': 'user', 'name': 'assistant'}], summary=\"Alright! We'll use the `imageio` library, which can handle image reading and writing. Additionally, we can leverage `numpy` to perform the resizing.\\n\\n### Here is the plan:\\n1. Import the necessary libraries (imageio and numpy).\\n2. Define the directory containing the images.\\n3. Loop through all files in the directory.\\n4. Check if the file is a JPEG image based on the file extension.\\n5. Read the image using `imageio`, resize it using `numpy` for manipulation, and save it back.\\n\\n### Below is the complete Python code using `imageio` and `numpy`:\\n\\n```python\\n# filename: resize_images_imageio.py\\nimport imageio\\nimport os\\nimport numpy as np\\n\\n# Define the directory containing the images\\ndirectory = 'MYIMAGES'\\n\\n# Function to resize the image\\ndef resize_image(image, size):\\n    return np.resize(image, (size[0], size[1], image.shape[2]))\\n\\n# Loop through all files in the directory\\nfor filename in os.listdir(directory):\\n    if filename.endswith('.jpeg') or filename.endswith('.jpg'):\\n        # Construct the full file path\\n        img_path = os.path.join(directory, filename)\\n        # Read the image\\n        img = imageio.imread(img_path)\\n        # Resize the image\\n        img_resized = resize_image(img, (640, 640))\\n        # Save the resized image\\n        imageio.imwrite(img_path, img_resized)\\n        print(f'Resized and saved: {filename}')\\n```\\n\\nSave this code in a file named `resize_images_imageio.py`, and then run the script to resize your JPEG images. \\n\\nPlease execute the code and let me know the result.\", cost={'usage_including_cached_inference': {'total_cost': 0.0009565499999999998, 'gpt-4o-mini-2024-07-18': {'cost': 0.0009565499999999998, 'prompt_tokens': 2477, 'completion_tokens': 975, 'total_tokens': 3452}}, 'usage_excluding_cached_inference': {'total_cost': 0.0009565499999999998, 'gpt-4o-mini-2024-07-18': {'cost': 0.0009565499999999998, 'prompt_tokens': 2477, 'completion_tokens': 975, 'total_tokens': 3452}}}, human_input=['use opencv. Do not use PIL', 'do not use pil or opencv. Use something else', 'exit'])"
      ]
     },
     "execution_count": 9,
     "metadata": {},
     "output_type": "execute_result"
    }
   ],
   "source": [
    "# the assistant receives a message from the user, which contains the task description\n",
    "user_proxy.initiate_chat(assistant, message=problem_to_solve)"
   ]
  },
  {
   "cell_type": "markdown",
   "id": "c38dab25",
   "metadata": {},
   "source": [
    "> You can interact and say for example to use another library like OpenCV"
   ]
  },
  {
   "cell_type": "code",
   "execution_count": 10,
   "id": "d664edf8",
   "metadata": {},
   "outputs": [
    {
     "name": "stdout",
     "output_type": "stream",
     "text": [
      "[{'content': '\\nI want to resize all my jpeg images from the directory MYIMAGES to (640,640) pixels.\\nShow me the python code.\\n', 'role': 'assistant', 'name': 'user_proxy'}, {'content': \"To resize all JPEG images in the directory `MYIMAGES` to (640, 640) pixels, we will use the Python Imaging Library (PIL), which is available in the `Pillow` package. The code will open each JPEG image, resize it, and then save the resized image.\\n\\n### Here is the plan:\\n1. Import the necessary libraries.\\n2. Define the directory containing the images.\\n3. Loop through all the files in the directory.\\n4. Check if the file is a JPEG image.\\n5. Open the image, resize it to (640, 640), and save it back.\\n\\n### Below is the complete Python code:\\n\\n```python\\n# filename: resize_images.py\\nfrom PIL import Image\\nimport os\\n\\n# Define the directory containing the images\\ndirectory = 'MYIMAGES'\\n\\n# Loop through all files in the directory\\nfor filename in os.listdir(directory):\\n    if filename.endswith('.jpeg') or filename.endswith('.jpg'):\\n        # Open the image\\n        img_path = os.path.join(directory, filename)\\n        with Image.open(img_path) as img:\\n            # Resize the image\\n            img_resized = img.resize((640, 640))\\n            # Save the resized image\\n            img_resized.save(img_path)\\n            print(f'Resized and saved: {filename}')\\n```\\n\\nSave the above code in a file named `resize_images.py`, and then you can run the script to resize your JPEG images. \\n\\nPlease execute the code and let me know the result.\", 'role': 'user', 'name': 'assistant'}, {'content': 'use opencv. Do not use PIL', 'role': 'assistant', 'name': 'user_proxy'}, {'content': \"Sure! To resize all JPEG images in the directory `MYIMAGES` to (640, 640) pixels using OpenCV, we can follow a similar plan:\\n\\n### Here is the plan:\\n1. Import the necessary libraries (OpenCV and os).\\n2. Define the directory containing the images.\\n3. Loop through all the files in the directory.\\n4. Check if the file is a JPEG image based on the file extension.\\n5. Read the image using OpenCV, resize it to (640, 640), and save it back.\\n\\n### Below is the complete Python code using OpenCV:\\n\\n```python\\n# filename: resize_images_opencv.py\\nimport cv2\\nimport os\\n\\n# Define the directory containing the images\\ndirectory = 'MYIMAGES'\\n\\n# Loop through all files in the directory\\nfor filename in os.listdir(directory):\\n    if filename.endswith('.jpeg') or filename.endswith('.jpg'):\\n        # Construct the full file path\\n        img_path = os.path.join(directory, filename)\\n        # Read the image\\n        img = cv2.imread(img_path)\\n        # Resize the image\\n        img_resized = cv2.resize(img, (640, 640))\\n        # Save the resized image\\n        cv2.imwrite(img_path, img_resized)\\n        print(f'Resized and saved: {filename}')\\n```\\n\\nSave the above code in a file named `resize_images_opencv.py`, and then run the script to resize your JPEG images. \\n\\nPlease execute the code and let me know the result.\", 'role': 'user', 'name': 'assistant'}, {'content': 'do not use pil or opencv. Use something else', 'role': 'assistant', 'name': 'user_proxy'}, {'content': \"Alright! We'll use the `imageio` library, which can handle image reading and writing. Additionally, we can leverage `numpy` to perform the resizing.\\n\\n### Here is the plan:\\n1. Import the necessary libraries (imageio and numpy).\\n2. Define the directory containing the images.\\n3. Loop through all files in the directory.\\n4. Check if the file is a JPEG image based on the file extension.\\n5. Read the image using `imageio`, resize it using `numpy` for manipulation, and save it back.\\n\\n### Below is the complete Python code using `imageio` and `numpy`:\\n\\n```python\\n# filename: resize_images_imageio.py\\nimport imageio\\nimport os\\nimport numpy as np\\n\\n# Define the directory containing the images\\ndirectory = 'MYIMAGES'\\n\\n# Function to resize the image\\ndef resize_image(image, size):\\n    return np.resize(image, (size[0], size[1], image.shape[2]))\\n\\n# Loop through all files in the directory\\nfor filename in os.listdir(directory):\\n    if filename.endswith('.jpeg') or filename.endswith('.jpg'):\\n        # Construct the full file path\\n        img_path = os.path.join(directory, filename)\\n        # Read the image\\n        img = imageio.imread(img_path)\\n        # Resize the image\\n        img_resized = resize_image(img, (640, 640))\\n        # Save the resized image\\n        imageio.imwrite(img_path, img_resized)\\n        print(f'Resized and saved: {filename}')\\n```\\n\\nSave this code in a file named `resize_images_imageio.py`, and then run the script to resize your JPEG images. \\n\\nPlease execute the code and let me know the result.\", 'role': 'user', 'name': 'assistant'}]\n"
     ]
    }
   ],
   "source": [
    "print(user_proxy.chat_messages[assistant])"
   ]
  },
  {
   "cell_type": "code",
   "execution_count": 11,
   "id": "8354c2e6",
   "metadata": {},
   "outputs": [],
   "source": [
    "outputfile = os.path.join(WORK_DIR, \"human_interaction.json\")\n",
    "\n",
    "json.dump(user_proxy.chat_messages[assistant], open(outputfile, \"w\"), indent=6)"
   ]
  },
  {
   "cell_type": "code",
   "execution_count": 12,
   "id": "c6911347",
   "metadata": {},
   "outputs": [
    {
     "name": "stdout",
     "output_type": "stream",
     "text": [
      "\u001b[1;31;34m\n",
      "[\n",
      "      {\n",
      "            \"content\": \"\\nI want to resize all my jpeg images from the directory MYIMAGES to (640,640) pixels.\\nShow me the python code.\\n\",\n",
      "            \"role\": \"assistant\",\n",
      "            \"name\": \"user_proxy\"\n",
      "      },\n",
      "      {\n",
      "            \"content\": \"To resize all JPEG images in the directory `MYIMAGES` to (640, 640) pixels, we will use the Python Imaging Library (PIL), which is available in the `Pillow` package. The code will open each JPEG image, resize it, and then save the resized image.\\n\\n### Here is the plan:\\n1. Import the necessary libraries.\\n2. Define the directory containing the images.\\n3. Loop through all the files in the directory.\\n4. Check if the file is a JPEG image.\\n5. Open the image, resize it to (640, 640), and save it back.\\n\\n### Below is the complete Python code:\\n\\n```python\\n# filename: resize_images.py\\nfrom PIL import Image\\nimport os\\n\\n# Define the directory containing the images\\ndirectory = 'MYIMAGES'\\n\\n# Loop through all files in the directory\\nfor filename in os.listdir(directory):\\n    if filename.endswith('.jpeg') or filename.endswith('.jpg'):\\n        # Open the image\\n        img_path = os.path.join(directory, filename)\\n        with Image.open(img_path) as img:\\n            # Resize the image\\n            img_resized = img.resize((640, 640))\\n            # Save the resized image\\n            img_resized.save(img_path)\\n            print(f'Resized and saved: {filename}')\\n```\\n\\nSave the above code in a file named `resize_images.py`, and then you can run the script to resize your JPEG images. \\n\\nPlease execute the code and let me know the result.\",\n",
      "            \"role\": \"user\",\n",
      "            \"name\": \"assistant\"\n",
      "      },\n",
      "      {\n",
      "            \"content\": \"use opencv. Do not use PIL\",\n",
      "            \"role\": \"assistant\",\n",
      "            \"name\": \"user_proxy\"\n",
      "      },\n",
      "      {\n",
      "            \"content\": \"Sure! To resize all JPEG images in the directory `MYIMAGES` to (640, 640) pixels using OpenCV, we can follow a similar plan:\\n\\n### Here is the plan:\\n1. Import the necessary libraries (OpenCV and os).\\n2. Define the directory containing the images.\\n3. Loop through all the files in the directory.\\n4. Check if the file is a JPEG image based on the file extension.\\n5. Read the image using OpenCV, resize it to (640, 640), and save it back.\\n\\n### Below is the complete Python code using OpenCV:\\n\\n```python\\n# filename: resize_images_opencv.py\\nimport cv2\\nimport os\\n\\n# Define the directory containing the images\\ndirectory = 'MYIMAGES'\\n\\n# Loop through all files in the directory\\nfor filename in os.listdir(directory):\\n    if filename.endswith('.jpeg') or filename.endswith('.jpg'):\\n        # Construct the full file path\\n        img_path = os.path.join(directory, filename)\\n        # Read the image\\n        img = cv2.imread(img_path)\\n        # Resize the image\\n        img_resized = cv2.resize(img, (640, 640))\\n        # Save the resized image\\n        cv2.imwrite(img_path, img_resized)\\n        print(f'Resized and saved: {filename}')\\n```\\n\\nSave the above code in a file named `resize_images_opencv.py`, and then run the script to resize your JPEG images. \\n\\nPlease execute the code and let me know the result.\",\n",
      "            \"role\": \"user\",\n",
      "            \"name\": \"assistant\"\n",
      "      },\n",
      "      {\n",
      "            \"content\": \"do not use pil or opencv. Use something else\",\n",
      "            \"role\": \"assistant\",\n",
      "            \"name\": \"user_proxy\"\n",
      "      },\n",
      "      {\n",
      "            \"content\": \"Alright! We'll use the `imageio` library, which can handle image reading and writing. Additionally, we can leverage `numpy` to perform the resizing.\\n\\n### Here is the plan:\\n1. Import the necessary libraries (imageio and numpy).\\n2. Define the directory containing the images.\\n3. Loop through all files in the directory.\\n4. Check if the file is a JPEG image based on the file extension.\\n5. Read the image using `imageio`, resize it using `numpy` for manipulation, and save it back.\\n\\n### Below is the complete Python code using `imageio` and `numpy`:\\n\\n```python\\n# filename: resize_images_imageio.py\\nimport imageio\\nimport os\\nimport numpy as np\\n\\n# Define the directory containing the images\\ndirectory = 'MYIMAGES'\\n\\n# Function to resize the image\\ndef resize_image(image, size):\\n    return np.resize(image, (size[0], size[1], image.shape[2]))\\n\\n# Loop through all files in the directory\\nfor filename in os.listdir(directory):\\n    if filename.endswith('.jpeg') or filename.endswith('.jpg'):\\n        # Construct the full file path\\n        img_path = os.path.join(directory, filename)\\n        # Read the image\\n        img = imageio.imread(img_path)\\n        # Resize the image\\n        img_resized = resize_image(img, (640, 640))\\n        # Save the resized image\\n        imageio.imwrite(img_path, img_resized)\\n        print(f'Resized and saved: {filename}')\\n```\\n\\nSave this code in a file named `resize_images_imageio.py`, and then run the script to resize your JPEG images. \\n\\nPlease execute the code and let me know the result.\",\n",
      "            \"role\": \"user\",\n",
      "            \"name\": \"assistant\"\n",
      "      }\n",
      "]\n"
     ]
    }
   ],
   "source": [
    "print(\"\\033[1;31;34m\")\n",
    "with open(outputfile, \"r\") as f:\n",
    "    print(f.read())"
   ]
  },
  {
   "cell_type": "code",
   "execution_count": 13,
   "id": "7b3c9241",
   "metadata": {},
   "outputs": [
    {
     "name": "stdout",
     "output_type": "stream",
     "text": [
      "-rwxrwxrwx 1 root root 5075 May 20 14:34 workdir/human_interaction.json\n"
     ]
    }
   ],
   "source": [
    "!ls $WORK_DIR/*.json -lt"
   ]
  },
  {
   "cell_type": "code",
   "execution_count": null,
   "id": "4627574a",
   "metadata": {},
   "outputs": [],
   "source": []
  }
 ],
 "metadata": {
  "kernelspec": {
   "display_name": "Python 3.10 - SDK v2",
   "language": "python",
   "name": "python310-sdkv2"
  },
  "language_info": {
   "codemirror_mode": {
    "name": "ipython",
    "version": 3
   },
   "file_extension": ".py",
   "mimetype": "text/x-python",
   "name": "python",
   "nbconvert_exporter": "python",
   "pygments_lexer": "ipython3",
   "version": "3.10.14"
  }
 },
 "nbformat": 4,
 "nbformat_minor": 5
}
