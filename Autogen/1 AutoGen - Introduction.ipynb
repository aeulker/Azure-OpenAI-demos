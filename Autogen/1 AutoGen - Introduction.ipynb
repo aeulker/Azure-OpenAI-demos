{
 "cells": [
  {
   "cell_type": "markdown",
   "id": "b10f8d73",
   "metadata": {},
   "source": [
    "# 1 AutoGen - Introduction\n",
    "\n",
    "The AutoGen ecosystem provides everything you need to create AI agents, especially multi-agent workflows -- framework, developer tools, and applications.\n",
    "\n",
    "The framework uses a layered and extensible design. Layers have clearly divided responsibilities and build on top of layers below. This design enables you to use the framework at different levels of abstraction, from high-level APIs to low-level components.\n",
    "\n",
    "Core API implements message passing, event-driven agents, and local and distributed runtime for flexibility and power. It also support cross-language support for .NET and Python.\n",
    "AgentChat API implements a simpler but opinionated API for rapid prototyping. This API is built on top of the Core API and is closest to what users of v0.2 are familiar with and supports common multi-agent patterns such as two-agent chat or group chats.\n",
    "Extensions API enables first- and third-party extensions continuously expanding framework capabilities. It support specific implementation of LLM clients (e.g., OpenAI, AzureOpenAI), and capabilities such as code execution.\n",
    "\n",
    "<img src=\"https://github.com/microsoft/autogen/raw/main/autogen-landing.jpg\" width=400>\n",
    "\n",
    "> https://microsoft.github.io/autogen/stable/<br>\n",
    "> https://github.com/microsoft/autogen"
   ]
  },
  {
   "cell_type": "code",
   "execution_count": 1,
   "id": "6bcec75c",
   "metadata": {},
   "outputs": [],
   "source": [
    "import autogen\n",
    "import datetime\n",
    "import openai\n",
    "import sys\n",
    "\n",
    "from autogen import ConversableAgent"
   ]
  },
  {
   "cell_type": "code",
   "execution_count": 2,
   "id": "eaf118ff",
   "metadata": {},
   "outputs": [
    {
     "data": {
      "text/plain": [
       "'3.10.14 (main, May  6 2024, 19:42:50) [GCC 11.2.0]'"
      ]
     },
     "execution_count": 2,
     "metadata": {},
     "output_type": "execute_result"
    }
   ],
   "source": [
    "sys.version"
   ]
  },
  {
   "cell_type": "code",
   "execution_count": 3,
   "id": "3f7a7b6f-bafc-436f-bc7c-90334b274a4c",
   "metadata": {},
   "outputs": [
    {
     "name": "stdout",
     "output_type": "stream",
     "text": [
      "Today is 20-May-2025 14:22:11\n"
     ]
    }
   ],
   "source": [
    "print(f\"Today is {datetime.datetime.today().strftime('%d-%b-%Y %H:%M:%S')}\")"
   ]
  },
  {
   "cell_type": "markdown",
   "id": "ea2b7f54",
   "metadata": {},
   "source": [
    "## 1. Settings"
   ]
  },
  {
   "cell_type": "code",
   "execution_count": 4,
   "id": "6f12f5ef-30e4-44a8-b369-fe6c32e65a1e",
   "metadata": {},
   "outputs": [
    {
     "name": "stdout",
     "output_type": "stream",
     "text": [
      "-rwxrwxrwx 1 root root 723 May 20 14:21 CONFIG_LIST\n"
     ]
    }
   ],
   "source": [
    "!ls CONFIG_LIST -lh"
   ]
  },
  {
   "cell_type": "code",
   "execution_count": 5,
   "id": "11df94a0",
   "metadata": {},
   "outputs": [],
   "source": [
    "config_list = autogen.config_list_from_json(\n",
    "    \"CONFIG_LIST\",\n",
    "    filter_dict={\n",
    "        \"model\": [\"gpt-4o-mini\"],\n",
    "    },\n",
    ")"
   ]
  },
  {
   "cell_type": "code",
   "execution_count": 6,
   "id": "69065549",
   "metadata": {},
   "outputs": [],
   "source": [
    "agent = ConversableAgent(\n",
    "    name=\"chatbot\",\n",
    "    llm_config={\n",
    "        \"config_list\": config_list,\n",
    "        \"cache_seed\": None,  # No semantic cache\n",
    "    },\n",
    "    code_execution_config=\n",
    "    False,  # Turn off code execution, by default it is off.\n",
    "    function_map=None,  # No registered functions, by default it is None.\n",
    "    human_input_mode=\"NEVER\",  # Never ask for human input.\n",
    ")"
   ]
  },
  {
   "cell_type": "code",
   "execution_count": 7,
   "id": "93d26066",
   "metadata": {},
   "outputs": [
    {
     "data": {
      "text/plain": [
       "<autogen.agentchat.conversable_agent.ConversableAgent at 0x7ffaf2a18520>"
      ]
     },
     "execution_count": 7,
     "metadata": {},
     "output_type": "execute_result"
    }
   ],
   "source": [
    "agent"
   ]
  },
  {
   "cell_type": "code",
   "execution_count": 8,
   "id": "fcf37c63",
   "metadata": {},
   "outputs": [
    {
     "name": "stdout",
     "output_type": "stream",
     "text": [
      "Why don't scientists trust atoms?\n",
      "\n",
      "Because they make up everything!\n"
     ]
    }
   ],
   "source": [
    "reply = agent.generate_reply(messages=[{\n",
    "    \"content\": \"Tell me a joke.\",\n",
    "    \"role\": \"user\"\n",
    "}])\n",
    "print(reply)"
   ]
  },
  {
   "cell_type": "code",
   "execution_count": 9,
   "id": "644875da",
   "metadata": {},
   "outputs": [
    {
     "name": "stdout",
     "output_type": "stream",
     "text": [
      "The capital of France is Paris.\n"
     ]
    }
   ],
   "source": [
    "reply = agent.generate_reply(messages=[{\n",
    "    \"content\": \"What is the capital of France.\",\n",
    "    \"role\": \"user\"\n",
    "}])\n",
    "print(reply)"
   ]
  },
  {
   "cell_type": "code",
   "execution_count": 10,
   "id": "8b990c7d",
   "metadata": {},
   "outputs": [
    {
     "name": "stdout",
     "output_type": "stream",
     "text": [
      "Le théorème de Pythagore est un principe fondamental en géométrie, qui s'applique aux triangles rectangles. Il énonce que dans un triangle rectangle, le carré de la longueur de l'hypoténuse (le côté opposé à l'angle droit) est égal à la somme des carrés des longueurs des deux autres côtés.\n",
      "\n",
      "En termes mathématiques, si l'on désigne les longueurs des deux côtés adjacents à l'angle droit par \\( a \\) et \\( b \\), et la longueur de l'hypoténuse par \\( c \\), le théorème s'écrit comme suit :\n",
      "\n",
      "\\[ c^2 = a^2 + b^2 \\]\n",
      "\n",
      "Ce théorème est souvent utilisé pour déterminer la distance entre deux points dans un plan cartésien, vérifier si un triangle est rectangle, ou résoudre divers problèmes de géométrie.\n"
     ]
    }
   ],
   "source": [
    "reply = agent.generate_reply(messages=[{\n",
    "    \"content\": \"Quel est le théorème de Pythagore ?\",\n",
    "    \"role\": \"user\"\n",
    "}])\n",
    "print(reply)"
   ]
  },
  {
   "cell_type": "code",
   "execution_count": 11,
   "id": "05d3d7d2",
   "metadata": {},
   "outputs": [
    {
     "name": "stdout",
     "output_type": "stream",
     "text": [
      "The Pythagorean theorem states that in a right-angled triangle, the square of the length of the hypotenuse (the side opposite the right angle) is equal to the sum of the squares of the lengths of the other two sides. This can be expressed mathematically as:\n",
      "\n",
      "\\[ c^2 = a^2 + b^2 \\]\n",
      "\n",
      "where \\( c \\) is the length of the hypotenuse, and \\( a \\) and \\( b \\) are the lengths of the other two sides. This theorem is fundamental in geometry and is used in various applications in mathematics, physics, and engineering.\n"
     ]
    }
   ],
   "source": [
    "reply = agent.generate_reply(messages=[{\n",
    "    \"content\": \"Quel est le théorème de Pythagore ? Répondre en Anglais\",\n",
    "    \"role\": \"user\"\n",
    "}])\n",
    "print(reply)"
   ]
  },
  {
   "cell_type": "code",
   "execution_count": 12,
   "id": "94a4f0ab",
   "metadata": {},
   "outputs": [
    {
     "name": "stdout",
     "output_type": "stream",
     "text": [
      "To find the volume of a cylinder, you can use the formula:\n",
      "\n",
      "\\[\n",
      "V = \\pi r^2 h\n",
      "\\]\n",
      "\n",
      "where \\( V \\) is the volume, \\( r \\) is the radius, and \\( h \\) is the height of the cylinder.\n",
      "\n",
      "1. First, we need to find the radius. The radius is half of the diameter:\n",
      "   \\[\n",
      "   r = \\frac{\\text{diameter}}{2} = \\frac{10 \\, \\text{cm}}{2} = 5 \\, \\text{cm}\n",
      "   \\]\n",
      "\n",
      "2. Now, substitute the values for the radius and height into the volume formula:\n",
      "   \\[\n",
      "   h = 75 \\, \\text{cm}\n",
      "   \\]\n",
      "   \\[\n",
      "   V = \\pi (5 \\, \\text{cm})^2 (75 \\, \\text{cm})\n",
      "   \\]\n",
      "   \\[\n",
      "   V = \\pi (25 \\, \\text{cm}^2) (75 \\, \\text{cm})\n",
      "   \\]\n",
      "   \\[\n",
      "   V = \\pi (1875 \\, \\text{cm}^3)\n",
      "   \\]\n",
      "\n",
      "3. Finally, calculate the volume:\n",
      "   \\[\n",
      "   V \\approx 3.14159 \\times 1875 \\, \\text{cm}^3 \\approx 5890.49 \\, \\text{cm}^3\n",
      "   \\]\n",
      "\n",
      "Therefore, the volume of the cylinder is approximately \\( 5890.49 \\, \\text{cm}^3 \\).\n"
     ]
    }
   ],
   "source": [
    "reply = agent.generate_reply(messages=[{\n",
    "    \"content\":\n",
    "    \"What is the volume of a cylinder with diameter of 10 cm and a height of 75 cm?\",\n",
    "    \"role\": \"user\"\n",
    "}])\n",
    "print(reply)"
   ]
  },
  {
   "cell_type": "code",
   "execution_count": 13,
   "id": "dbba3948",
   "metadata": {},
   "outputs": [
    {
     "name": "stdout",
     "output_type": "stream",
     "text": [
      "To calculate the distance you will travel when driving at 130 km per hour for 10 minutes, you can use the formula:\n",
      "\n",
      "\\[\n",
      "\\text{Distance} = \\text{Speed} \\times \\text{Time}\n",
      "\\]\n",
      "\n",
      "First, convert the time from minutes to hours since speed is given in kilometers per hour. \n",
      "\n",
      "10 minutes is equal to:\n",
      "\n",
      "\\[\n",
      "\\frac{10}{60} \\text{ hours} = \\frac{1}{6} \\text{ hours}\n",
      "\\]\n",
      "\n",
      "Now, plug in the values:\n",
      "\n",
      "\\[\n",
      "\\text{Distance} = 130 \\text{ km/h} \\times \\frac{1}{6} \\text{ hours} = \\frac{130}{6} \\text{ km} \\approx 21.67 \\text{ km}\n",
      "\\]\n",
      "\n",
      "So, you will travel approximately 21.67 kilometers in 10 minutes at a speed of 130 km/h.\n"
     ]
    }
   ],
   "source": [
    "reply = agent.generate_reply(messages=[{\n",
    "    \"content\":\n",
    "    \"I am driving at 130 km per hour. What distance I will do if I'm driving during 10 minutes\",\n",
    "    \"role\": \"user\"\n",
    "}])\n",
    "print(reply)"
   ]
  },
  {
   "cell_type": "markdown",
   "id": "84ce2bad",
   "metadata": {},
   "source": [
    "## 2. Multi agents conversation simulations"
   ]
  },
  {
   "cell_type": "code",
   "execution_count": 14,
   "id": "4e1a5143-0144-45c0-b03c-b80851c3106a",
   "metadata": {},
   "outputs": [],
   "source": [
    "config_list = autogen.config_list_from_json(\n",
    "    \"CONFIG_LIST\",\n",
    "    filter_dict={\n",
    "        \"model\": [\"gpt-4o\"],\n",
    "    },\n",
    ")"
   ]
  },
  {
   "cell_type": "code",
   "execution_count": 15,
   "id": "9f7f4b4e",
   "metadata": {},
   "outputs": [],
   "source": [
    "bob = ConversableAgent(\n",
    "    \"Bob\",\n",
    "    system_message=\n",
    "    \"Your name is Bob and you are a part of a team of datascientists.\",\n",
    "    llm_config={\n",
    "        \"config_list\": config_list,\n",
    "        \"cache_seed\": None,\n",
    "    },\n",
    "    human_input_mode=\"NEVER\",  # Never ask for human input\n",
    ")"
   ]
  },
  {
   "cell_type": "code",
   "execution_count": 16,
   "id": "59571911",
   "metadata": {},
   "outputs": [],
   "source": [
    "jane = ConversableAgent(\n",
    "    \"Jane\",\n",
    "    system_message=\n",
    "    \"Your name is Jane and you are a part of a team of datascientists.\",\n",
    "    llm_config={\n",
    "        \"config_list\": config_list,\n",
    "        \"cache_seed\": None,\n",
    "    },\n",
    "    human_input_mode=\"NEVER\",  # Never ask for human input\n",
    ")"
   ]
  },
  {
   "cell_type": "code",
   "execution_count": 17,
   "id": "d09e3eae",
   "metadata": {},
   "outputs": [
    {
     "data": {
      "text/plain": [
       "<autogen.agentchat.conversable_agent.ConversableAgent at 0x7ffaee614b20>"
      ]
     },
     "execution_count": 17,
     "metadata": {},
     "output_type": "execute_result"
    }
   ],
   "source": [
    "bob"
   ]
  },
  {
   "cell_type": "code",
   "execution_count": 18,
   "id": "ca214162",
   "metadata": {},
   "outputs": [
    {
     "data": {
      "text/plain": [
       "<autogen.agentchat.conversable_agent.ConversableAgent at 0x7ffaee7fe980>"
      ]
     },
     "execution_count": 18,
     "metadata": {},
     "output_type": "execute_result"
    }
   ],
   "source": [
    "jane"
   ]
  },
  {
   "cell_type": "markdown",
   "id": "db1a0c46",
   "metadata": {},
   "source": [
    "### Testing"
   ]
  },
  {
   "cell_type": "code",
   "execution_count": 19,
   "id": "dc604c9a",
   "metadata": {},
   "outputs": [
    {
     "name": "stdout",
     "output_type": "stream",
     "text": [
      "\u001b[33mBob\u001b[0m (to Jane):\n",
      "\n",
      "Hello Jane!\n",
      "\n",
      "--------------------------------------------------------------------------------\n",
      "\u001b[33mJane\u001b[0m (to Bob):\n",
      "\n",
      "Hi Bob! 👋 How can I assist you today?\n",
      "\n",
      "--------------------------------------------------------------------------------\n",
      "\u001b[33mBob\u001b[0m (to Jane):\n",
      "\n",
      "Hi Jane! 👋 I’m here to help you with anything data-related. Need help analyzing some data, debugging a model, brainstorming a project, or exploring tools? Just let me know!\n",
      "\n",
      "--------------------------------------------------------------------------------\n",
      "\u001b[33mJane\u001b[0m (to Bob):\n",
      "\n",
      "Thanks, Bob! Appreciate the offer! I’m always happy to collaborate. Do you have something specific in mind, or should we brainstorm a bit together? 😊\n",
      "\n",
      "--------------------------------------------------------------------------------\n",
      "\u001b[31m\n",
      ">>>>>>>> TERMINATING RUN (b6d51ac8-9ae4-4be1-9167-b5e9972e9a68): Maximum turns (2) reached\u001b[0m\n"
     ]
    }
   ],
   "source": [
    "result = bob.initiate_chat(jane, message=\"Hello Jane!\", max_turns=2)"
   ]
  },
  {
   "cell_type": "code",
   "execution_count": 20,
   "id": "c9baa948",
   "metadata": {},
   "outputs": [
    {
     "name": "stdout",
     "output_type": "stream",
     "text": [
      "\u001b[33mJane\u001b[0m (to Bob):\n",
      "\n",
      "Bob, what do you know about clustering models?\n",
      "\n",
      "--------------------------------------------------------------------------------\n",
      "\u001b[33mBob\u001b[0m (to Jane):\n",
      "\n",
      "Hi Jane! Clustering models are a type of unsupervised machine learning technique used to group similar data points together without predefined labels. They're particularly useful when you want to uncover hidden patterns or structures in your data.\n",
      "\n",
      "Here's a quick overview:\n",
      "\n",
      "### 1. **What are clustering models?**\n",
      "Clustering models divide datasets into distinct groups (or clusters), such that data points within the same cluster are more similar to each other than to those in different clusters. These models rely solely on the inherent structure of the data since there are no target variables involved.\n",
      "\n",
      "---\n",
      "\n",
      "### 2. **Types of Clustering Methods**\n",
      "There are several common clustering methods, each suited to different data distributions and use cases:\n",
      "\n",
      "#### a) **Partition-Based Clustering**\n",
      "- Example: **K-Means**\n",
      "- The dataset is divided into a fixed number (`k`) of clusters based on distance metrics like Euclidean distance. Every data point is assigned to the nearest cluster center.\n",
      "- Strengths: Simple, fast, and effective.\n",
      "- Weaknesses: Requires choosing `k` in advance and struggles with non-convex clusters or varying cluster densities.\n",
      "\n",
      "#### b) **Hierarchical Clustering**\n",
      "- Example: **Agglomerative and Divisive Clustering**\n",
      "- Data points are grouped hierarchically—either by starting with individual points and merging them (bottom-up) or by starting with one large cluster and splitting it (top-down).\n",
      "- Produces a dendrogram to visualize cluster relationships.\n",
      "- Strengths: Does not require specifying the number of clusters upfront.\n",
      "- Weaknesses: Computationally expensive and sensitive to noise and outliers.\n",
      "\n",
      "#### c) **Density-Based Clustering**\n",
      "- Example: **DBSCAN (Density-Based Spatial Clustering of Applications with Noise)**\n",
      "- Groups points that lie close to each other based on density, and it can detect noise points (outliers).\n",
      "- Strengths: Works well with arbitrarily shaped clusters and noisy data.\n",
      "- Weaknesses: Struggles when clusters have very different densities.\n",
      "\n",
      "#### d) **Model-Based Clustering**\n",
      "- Example: **Gaussian Mixture Models (GMM)**\n",
      "- Assumes that data is generated from a mixture of several Gaussian distributions with unknown parameters.\n",
      "- Strengths: Can model soft clustering (probabilistic membership) and non-spherical clusters.\n",
      "- Weaknesses: Computationally intensive and assumes the data fits a Gaussian distribution.\n",
      "\n",
      "#### e) **Graph-Based Clustering**\n",
      "- Example: **Spectral Clustering**\n",
      "- Uses graph theory to partition data points based on similarity. Often applied to problems that are difficult for traditional clustering methods.\n",
      "- Strengths: Effective for capturing global properties like non-convex structures.\n",
      "- Weaknesses: Requires computational resources for eigenvector calculations.\n",
      "\n",
      "---\n",
      "\n",
      "### 3. **Steps to Perform Clustering**\n",
      "1. **Preprocessing**: Normalize or scale the data if necessary, handle missing values, and reduce dimensionality (via PCA/Umap) if the data has many features.\n",
      "2. **Choosing the Method**: Select the algorithm based on the data distribution and project requirements.\n",
      "3. **Choosing the Number of Clusters**:\n",
      "   - Use techniques like the **Elbow Method**, **Silhouette Score**, or **Gap Statistic** to choose the optimal number of clusters.\n",
      "4. **Model Training**: Apply the clustering algorithm to divide the data into groups.\n",
      "5. **Evaluation/Visualization**:\n",
      "   - Visualize clusters using scatterplots, t-SNE, or PCA.\n",
      "   - Use metrics like **Silhouette Coefficient**, **Davies-Bouldin Index**, or domain-specific validation for evaluation.\n",
      "\n",
      "---\n",
      "\n",
      "### 4. **Applications of Clustering**\n",
      "Clustering is widely used across domains:\n",
      "- **Customer Segmentation**: For targeted marketing by grouping customers based on behavior or demographics.\n",
      "- **Anomaly Detection**: Identifying outliers that don't belong to any cluster.\n",
      "- **Image Segmentation**: Dividing an image into meaningful regions.\n",
      "- **Recommendation Systems**: Finding users with similar preferences.\n",
      "- **Genomics**: Identifying groups of genes with similar expressions.\n",
      "\n",
      "---\n",
      "\n",
      "Let me know if you'd like to dive deeper into any specific clustering method or its implementation!\n",
      "\n",
      "--------------------------------------------------------------------------------\n",
      "\u001b[33mJane\u001b[0m (to Bob):\n",
      "\n",
      "Thanks for the overview, Bob! That was super helpful and covered a lot of ground. If you'd like, I can help dive deeper into one of the clustering methods or perhaps discuss how to interpret results for a specific dataset. Any particular application you're working on?\n",
      "\n",
      "--------------------------------------------------------------------------------\n",
      "\u001b[33mBob\u001b[0m (to Jane):\n",
      "\n",
      "Not at the moment, Jane, but knowing that you're interested and insightful about clustering definitely lights up my datascientist brain! If I'm deep into a project where clustering plays a role, I'll definitely hit you up for collaborative brainstorming and analysis.\n",
      "\n",
      "In the meantime, if you're exploring something cool or have dataset-related challenges (like interpreting clusters, choosing the number of clusters, or dealing with outliers), let me know. Happy to chip in my expertise. Or maybe we could geek out over a clustering model implementation using Python or another tool together sometime? 😊\n",
      "\n",
      "--------------------------------------------------------------------------------\n",
      "\u001b[33mJane\u001b[0m (to Bob):\n",
      "\n",
      "Absolutely, Bob! That sounds like a plan—I’m always up for collaborating on clustering or any other machine learning challenge! 😊\n",
      "\n",
      "If I start experimenting with some clustering methods or encounter an intriguing dataset, I'll definitely loop you in. And likewise, if you ever want to bounce ideas for implementation in Python (maybe scikit-learn, PyCaret, or even TensorFlow/Keras), I’m totally onboard. Sometimes, a good brainstorming session leads to magical breakthroughs!\n",
      "\n",
      "Let’s keep this energy alive—cluster us together in the datascientist dream team! 🔥\n",
      "\n",
      "--------------------------------------------------------------------------------\n",
      "\u001b[33mBob\u001b[0m (to Jane):\n",
      "\n",
      "You got it, Jane! 🔥 We've just formed the ultimate data scientist power duo—no unclustered data point stands a chance against us! Every challenging dataset, segmentation puzzle, or ML framework exploration is just more fuel for our brainstorming sessions. 🚀\n",
      "\n",
      "When you're ready to dive into some Python magic or tackle a dataset mystery, just send up the bat signal (or, you know, a Slack message works too 😄). We'll K-means it, DBSCAN it, or even Spectral-Clustering it into submission—whatever it takes to turn raw chaos into actionable insights.\n",
      "\n",
      "Let’s keep making **data-driven dreams** a reality! 🙌👩‍💻👨‍💻\n",
      "\n",
      "--------------------------------------------------------------------------------\n",
      "\u001b[31m\n",
      ">>>>>>>> TERMINATING RUN (88efeba7-6a08-481b-a36b-888533490dda): Maximum turns (3) reached\u001b[0m\n"
     ]
    }
   ],
   "source": [
    "result = jane.initiate_chat(\n",
    "    bob, message=\"Bob, what do you know about clustering models?\", max_turns=3)"
   ]
  },
  {
   "cell_type": "code",
   "execution_count": null,
   "id": "5dd62835",
   "metadata": {},
   "outputs": [],
   "source": []
  },
  {
   "cell_type": "code",
   "execution_count": null,
   "id": "e505ab51-0bc2-48ec-a5ff-b10770850bf2",
   "metadata": {},
   "outputs": [],
   "source": []
  }
 ],
 "metadata": {
  "kernelspec": {
   "display_name": "Python 3.10 - SDK v2",
   "language": "python",
   "name": "python310-sdkv2"
  },
  "language_info": {
   "codemirror_mode": {
    "name": "ipython",
    "version": 3
   },
   "file_extension": ".py",
   "mimetype": "text/x-python",
   "name": "python",
   "nbconvert_exporter": "python",
   "pygments_lexer": "ipython3",
   "version": "3.10.14"
  },
  "varInspector": {
   "cols": {
    "lenName": 16,
    "lenType": 16,
    "lenVar": 40
   },
   "kernels_config": {
    "python": {
     "delete_cmd_postfix": "",
     "delete_cmd_prefix": "del ",
     "library": "var_list.py",
     "varRefreshCmd": "print(var_dic_list())"
    },
    "r": {
     "delete_cmd_postfix": ") ",
     "delete_cmd_prefix": "rm(",
     "library": "var_list.r",
     "varRefreshCmd": "cat(var_dic_list()) "
    }
   },
   "types_to_exclude": [
    "module",
    "function",
    "builtin_function_or_method",
    "instance",
    "_Feature"
   ],
   "window_display": false
  }
 },
 "nbformat": 4,
 "nbformat_minor": 5
}
