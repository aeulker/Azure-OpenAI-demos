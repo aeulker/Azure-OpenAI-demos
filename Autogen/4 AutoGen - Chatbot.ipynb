{
 "cells": [
  {
   "cell_type": "markdown",
   "id": "5f8916a5",
   "metadata": {},
   "source": [
    "# 4 AutoGen - Chatbot\n",
    "\n",
    "The AutoGen ecosystem provides everything you need to create AI agents, especially multi-agent workflows -- framework, developer tools, and applications.\n",
    "\n",
    "The framework uses a layered and extensible design. Layers have clearly divided responsibilities and build on top of layers below. This design enables you to use the framework at different levels of abstraction, from high-level APIs to low-level components.\n",
    "\n",
    "Core API implements message passing, event-driven agents, and local and distributed runtime for flexibility and power. It also support cross-language support for .NET and Python.\n",
    "AgentChat API implements a simpler but opinionated API for rapid prototyping. This API is built on top of the Core API and is closest to what users of v0.2 are familiar with and supports common multi-agent patterns such as two-agent chat or group chats.\n",
    "Extensions API enables first- and third-party extensions continuously expanding framework capabilities. It support specific implementation of LLM clients (e.g., OpenAI, AzureOpenAI), and capabilities such as code execution.\n",
    "\n",
    "<img src=\"https://github.com/microsoft/autogen/raw/main/autogen-landing.jpg\" width=400>\n",
    "\n",
    "> https://microsoft.github.io/autogen/stable/<br>\n",
    "> https://github.com/microsoft/autogen"
   ]
  },
  {
   "cell_type": "markdown",
   "id": "0e166bd5",
   "metadata": {},
   "source": [
    "## Chatbot example python code\n",
    "Source: https://github.com/thinkall/autogen-demos"
   ]
  },
  {
   "cell_type": "code",
   "execution_count": null,
   "id": "a3bc8d91",
   "metadata": {},
   "outputs": [],
   "source": []
  }
 ],
 "metadata": {
  "kernelspec": {
   "display_name": "Python 3.10 - SDK v2",
   "language": "python",
   "name": "python310-sdkv2"
  },
  "language_info": {
   "codemirror_mode": {
    "name": "ipython",
    "version": 3
   },
   "file_extension": ".py",
   "mimetype": "text/x-python",
   "name": "python",
   "nbconvert_exporter": "python",
   "pygments_lexer": "ipython3",
   "version": "3.10.14"
  }
 },
 "nbformat": 4,
 "nbformat_minor": 5
}
