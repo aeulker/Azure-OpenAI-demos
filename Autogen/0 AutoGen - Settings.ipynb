{
 "cells": [
  {
   "cell_type": "markdown",
   "id": "b10f8d73",
   "metadata": {},
   "source": [
    "# 0 AutoGen - Settings\n",
    "\n",
    "The AutoGen ecosystem provides everything you need to create AI agents, especially multi-agent workflows -- framework, developer tools, and applications.\n",
    "\n",
    "The framework uses a layered and extensible design. Layers have clearly divided responsibilities and build on top of layers below. This design enables you to use the framework at different levels of abstraction, from high-level APIs to low-level components.\n",
    "\n",
    "Core API implements message passing, event-driven agents, and local and distributed runtime for flexibility and power. It also support cross-language support for .NET and Python.\n",
    "AgentChat API implements a simpler but opinionated API for rapid prototyping. This API is built on top of the Core API and is closest to what users of v0.2 are familiar with and supports common multi-agent patterns such as two-agent chat or group chats.\n",
    "Extensions API enables first- and third-party extensions continuously expanding framework capabilities. It support specific implementation of LLM clients (e.g., OpenAI, AzureOpenAI), and capabilities such as code execution.\n",
    "\n",
    "<img src=\"https://github.com/microsoft/autogen/raw/main/autogen-landing.jpg\" width=400>\n",
    "\n",
    "> https://microsoft.github.io/autogen/stable/<br>\n",
    "> https://github.com/microsoft/autogen"
   ]
  },
  {
   "cell_type": "markdown",
   "id": "07e8c781",
   "metadata": {},
   "source": [
    "## 1. Settings"
   ]
  },
  {
   "cell_type": "code",
   "execution_count": 1,
   "id": "19d65a9f-1fbd-4201-85b2-19d1e31adeb9",
   "metadata": {},
   "outputs": [],
   "source": [
    "#%pip install --upgrade autogen"
   ]
  },
  {
   "cell_type": "code",
   "execution_count": 2,
   "id": "7b67a2da-3edd-417c-82ce-2ecb89ecd788",
   "metadata": {},
   "outputs": [],
   "source": [
    "#%pip install -U \"autogen-agentchat\" \"autogen-ext[openai]\""
   ]
  },
  {
   "cell_type": "code",
   "execution_count": 3,
   "id": "72807b80-6ed1-4483-92a9-7307c91ed6a8",
   "metadata": {},
   "outputs": [],
   "source": [
    "#%pip install --upgrade openai"
   ]
  },
  {
   "cell_type": "code",
   "execution_count": 4,
   "id": "6bcec75c",
   "metadata": {},
   "outputs": [],
   "source": [
    "import autogen\n",
    "import datetime\n",
    "import json\n",
    "import openai\n",
    "import sys\n",
    "\n",
    "from dotenv import load_dotenv"
   ]
  },
  {
   "cell_type": "code",
   "execution_count": 5,
   "id": "bc56fc54",
   "metadata": {},
   "outputs": [
    {
     "name": "stdout",
     "output_type": "stream",
     "text": [
      "Today is 20-May-2025 15:57:54\n"
     ]
    }
   ],
   "source": [
    "print(f\"Today is {datetime.datetime.today().strftime('%d-%b-%Y %H:%M:%S')}\")"
   ]
  },
  {
   "cell_type": "code",
   "execution_count": 6,
   "id": "eaf118ff",
   "metadata": {},
   "outputs": [
    {
     "name": "stdout",
     "output_type": "stream",
     "text": [
      "Python version = 3.10.14 (main, May  6 2024, 19:42:50) [GCC 11.2.0]\n"
     ]
    }
   ],
   "source": [
    "print(f\"Python version = {sys.version}\")"
   ]
  },
  {
   "cell_type": "code",
   "execution_count": 7,
   "id": "95d75508",
   "metadata": {},
   "outputs": [
    {
     "name": "stdout",
     "output_type": "stream",
     "text": [
      "AutoGen version = 0.9.1post0\n"
     ]
    }
   ],
   "source": [
    "print(f\"AutoGen version = {autogen.__version__}\")"
   ]
  },
  {
   "cell_type": "code",
   "execution_count": 8,
   "id": "d314846f-9873-4465-b9bc-c0584d95080f",
   "metadata": {},
   "outputs": [
    {
     "name": "stdout",
     "output_type": "stream",
     "text": [
      "OpenAI version: 1.79.0\n"
     ]
    }
   ],
   "source": [
    "print(f\"OpenAI version: {openai.__version__}\")"
   ]
  },
  {
   "cell_type": "markdown",
   "id": "cc984b22",
   "metadata": {},
   "source": [
    "## 2. Working directory to create"
   ]
  },
  {
   "cell_type": "code",
   "execution_count": 9,
   "id": "1d9cdfaf",
   "metadata": {},
   "outputs": [],
   "source": [
    "WORK_DIR = \"workdir\"\n",
    "\n",
    "os.makedirs(WORK_DIR, exist_ok=True)"
   ]
  },
  {
   "cell_type": "markdown",
   "id": "f0507562",
   "metadata": {},
   "source": [
    "## 3. CONFIG_LIST"
   ]
  },
  {
   "cell_type": "code",
   "execution_count": 10,
   "id": "0e16b431-85b3-403d-9338-9ea87dc3ea8e",
   "metadata": {},
   "outputs": [
    {
     "data": {
      "text/plain": [
       "True"
      ]
     },
     "execution_count": 10,
     "metadata": {},
     "output_type": "execute_result"
    }
   ],
   "source": [
    "load_dotenv(\"azure.env\")"
   ]
  },
  {
   "cell_type": "code",
   "execution_count": 11,
   "id": "a73b687e",
   "metadata": {},
   "outputs": [],
   "source": [
    "config_list = [\n",
    "    {\n",
    "        \"model\": \"gpt-4o-mini\",\n",
    "        \"api_key\": os.getenv(\"AZURE_OPENAI_KEY\"),\n",
    "        \"api_type\": \"azure\",\n",
    "        #api_rate_limit (float, optional: Specifies the maximum number of API requests permitted per second.\n",
    "        \"base_url\": os.getenv(\"AZURE_OPENAI_ENDPOINT\"),\n",
    "        \"api_version\": \"2024-10-21\",\n",
    "        \"tags\": [\"aifoundry\",\n",
    "                 \"openai\"]  # Tags which can be used for filtering.\n",
    "    },\n",
    "    {\n",
    "        \"model\": \"gpt-4o\",\n",
    "        \"api_key\": os.getenv(\"AZURE_OPENAI_KEY\"),\n",
    "        \"api_type\": \"azure\",\n",
    "        #api_rate_limit (float, optional: Specifies the maximum number of API requests permitted per second.\n",
    "        \"base_url\": os.getenv(\"AZURE_OPENAI_ENDPOINT\"),\n",
    "        \"api_version\": \"2024-10-21\",\n",
    "        \"tags\": [\"aifoundry\",\n",
    "                 \"openai\"]  # Tags which can be used for filtering.\n",
    "    },\n",
    "]"
   ]
  },
  {
   "cell_type": "code",
   "execution_count": 12,
   "id": "c4d70b82",
   "metadata": {},
   "outputs": [
    {
     "name": "stdout",
     "output_type": "stream",
     "text": [
      "[OK] Autogen config list has been saved to: CONFIG_LIST\n",
      "\n"
     ]
    }
   ],
   "source": [
    "file_path = 'CONFIG_LIST'\n",
    "\n",
    "try:\n",
    "    with open(file_path, 'w') as file:\n",
    "        json.dump(config_list, file, indent=4)\n",
    "    print(f\"[OK] Autogen config list has been saved to: {file_path}\\n\")\n",
    "\n",
    "except:\n",
    "    print(\"[ERROR]\")"
   ]
  },
  {
   "cell_type": "code",
   "execution_count": 13,
   "id": "a8455146",
   "metadata": {},
   "outputs": [
    {
     "name": "stdout",
     "output_type": "stream",
     "text": [
      "-rwxrwxrwx 1 root root 723 May 20 15:57 CONFIG_LIST\n"
     ]
    }
   ],
   "source": [
    "!ls CONFIG_LIST -lh"
   ]
  }
 ],
 "metadata": {
  "kernelspec": {
   "display_name": "Python 3.10 - SDK v2",
   "language": "python",
   "name": "python310-sdkv2"
  },
  "language_info": {
   "codemirror_mode": {
    "name": "ipython",
    "version": 3
   },
   "file_extension": ".py",
   "mimetype": "text/x-python",
   "name": "python",
   "nbconvert_exporter": "python",
   "pygments_lexer": "ipython3",
   "version": "3.10.14"
  },
  "varInspector": {
   "cols": {
    "lenName": 16,
    "lenType": 16,
    "lenVar": 40
   },
   "kernels_config": {
    "python": {
     "delete_cmd_postfix": "",
     "delete_cmd_prefix": "del ",
     "library": "var_list.py",
     "varRefreshCmd": "print(var_dic_list())"
    },
    "r": {
     "delete_cmd_postfix": ") ",
     "delete_cmd_prefix": "rm(",
     "library": "var_list.r",
     "varRefreshCmd": "cat(var_dic_list()) "
    }
   },
   "types_to_exclude": [
    "module",
    "function",
    "builtin_function_or_method",
    "instance",
    "_Feature"
   ],
   "window_display": false
  }
 },
 "nbformat": 4,
 "nbformat_minor": 5
}
