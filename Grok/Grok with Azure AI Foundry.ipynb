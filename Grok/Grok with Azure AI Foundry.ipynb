{
 "cells": [
  {
   "cell_type": "markdown",
   "id": "8049da40-4df2-498f-b73e-6b3bfae9747f",
   "metadata": {},
   "source": [
    "# Grok with Azure AI Foundry"
   ]
  },
  {
   "cell_type": "code",
   "execution_count": 1,
   "id": "7603b0fe-816e-47ed-a9f6-8f7057e6545c",
   "metadata": {},
   "outputs": [],
   "source": [
    "import datetime\n",
    "import os\n",
    "import requests\n",
    "import json\n",
    "import sys\n",
    "\n",
    "from dotenv import load_dotenv"
   ]
  },
  {
   "cell_type": "code",
   "execution_count": 2,
   "id": "5748a9cc-8702-4964-b2f5-a2fd798d1141",
   "metadata": {},
   "outputs": [
    {
     "data": {
      "text/plain": [
       "'3.10.14 (main, May  6 2024, 19:42:50) [GCC 11.2.0]'"
      ]
     },
     "execution_count": 2,
     "metadata": {},
     "output_type": "execute_result"
    }
   ],
   "source": [
    "sys.version"
   ]
  },
  {
   "cell_type": "code",
   "execution_count": 3,
   "id": "80cdaf40-64dd-4c06-97ee-c106d9ee7123",
   "metadata": {},
   "outputs": [
    {
     "name": "stdout",
     "output_type": "stream",
     "text": [
      "Today is 26-Jun-2025 09:23:48\n"
     ]
    }
   ],
   "source": [
    "print(f\"Today is {datetime.datetime.today().strftime('%d-%b-%Y %H:%M:%S')}\")"
   ]
  },
  {
   "cell_type": "code",
   "execution_count": 4,
   "id": "a58832b2-f5e2-4a6c-921f-b7c7deb78a2a",
   "metadata": {},
   "outputs": [],
   "source": [
    "load_dotenv(\"azure.env\")\n",
    "\n",
    "key = os.getenv(\"key\")\n",
    "endpoint = os.getenv(\"endpoint\")\n",
    "\n",
    "model = \"grok-3\""
   ]
  },
  {
   "cell_type": "markdown",
   "id": "1ee3ca2d-3ad9-4085-8326-f4598466fdc3",
   "metadata": {},
   "source": [
    "## Testing"
   ]
  },
  {
   "cell_type": "code",
   "execution_count": 5,
   "id": "bb9d0a54-f058-45b4-855f-b9f62ed4b8a9",
   "metadata": {},
   "outputs": [],
   "source": [
    "prompt = \"I am going to Paris, what should I see?\""
   ]
  },
  {
   "cell_type": "code",
   "execution_count": 6,
   "id": "4b330759-81a2-4c51-a91a-81f677699164",
   "metadata": {},
   "outputs": [],
   "source": [
    "headers = {\n",
    "    \"Content-Type\": \"application/json\",\n",
    "    \"Authorization\": f\"Bearer {key}\"\n",
    "}\n",
    "\n",
    "data = {\n",
    "    \"messages\": [\n",
    "        {\n",
    "            \"role\": \"user\",\n",
    "            \"content\": prompt,\n",
    "        }\n",
    "    ],\n",
    "    \"max_completion_tokens\": 2048,\n",
    "    \"temperature\": 0.7,\n",
    "    \"top_p\": 1,\n",
    "    \"frequency_penalty\": 0,\n",
    "    \"presence_penalty\": 0,\n",
    "    \"model\": model\n",
    "}\n",
    "\n",
    "response = requests.post(endpoint, headers=headers, json=data)"
   ]
  },
  {
   "cell_type": "code",
   "execution_count": 7,
   "id": "6931c231-718c-424b-a575-4ac77d664970",
   "metadata": {},
   "outputs": [
    {
     "name": "stdout",
     "output_type": "stream",
     "text": [
      "200\n"
     ]
    }
   ],
   "source": [
    "print(response.status_code)"
   ]
  },
  {
   "cell_type": "code",
   "execution_count": 8,
   "id": "481570fc-cf00-42df-b38c-f60b546d633c",
   "metadata": {},
   "outputs": [
    {
     "name": "stdout",
     "output_type": "stream",
     "text": [
      "{\n",
      "     \"choices\": [\n",
      "          {\n",
      "               \"content_filter_results\": {\n",
      "                    \"hate\": {\n",
      "                         \"filtered\": false,\n",
      "                         \"severity\": \"safe\"\n",
      "                    },\n",
      "                    \"self_harm\": {\n",
      "                         \"filtered\": false,\n",
      "                         \"severity\": \"safe\"\n",
      "                    },\n",
      "                    \"sexual\": {\n",
      "                         \"filtered\": false,\n",
      "                         \"severity\": \"safe\"\n",
      "                    },\n",
      "                    \"violence\": {\n",
      "                         \"filtered\": false,\n",
      "                         \"severity\": \"safe\"\n",
      "                    }\n",
      "               },\n",
      "               \"finish_reason\": \"stop\",\n",
      "               \"index\": 0,\n",
      "               \"message\": {\n",
      "                    \"content\": \"Paris is a city full of iconic landmarks, cultural treasures, and hidden gems. Depending on your interests and the length of your stay, here\\u2019s a curated list of must-see attractions and experiences to make the most of your trip:\\n\\n### Iconic Landmarks\\n1. **Eiffel Tower**  \\n   - The symbol of Paris! Visit during the day for panoramic views of the city from the top (book tickets in advance to skip long lines). At night, see it sparkle with a light show every hour after dark.\\n   - **Tip**: Have a picnic at Champ de Mars park nearby for a relaxing view of the tower.\\n\\n2. **Louvre Museum**  \\n   - Home to the Mona Lisa and countless masterpieces. It\\u2019s massive, so prioritize sections like Egyptian Antiquities, Renaissance art, or the glass pyramid itself.\\n   - **Tip**: Buy tickets online to avoid queues, and consider visiting on Wednesday or Friday evenings for a quieter experience (extended hours).\\n\\n3. **Notre-Dame Cathedral**  \\n   - Though still under restoration after the 2019 fire, you can admire its exterior and the ongoing reconstruction. Check nearby \\u00cele de la Cit\\u00e9 for charming streets and history.\\n   - **Tip**: Walk to the nearby Sainte-Chapelle for stunning stained glass windows.\\n\\n4. **Arc de Triomphe**  \\n   - Climb to the top for a breathtaking view of the Champs-\\u00c9lys\\u00e9es and the city\\u2019s layout. The monument honors Napoleon\\u2019s victories.\\n   - **Tip**: Use the underground passage to reach it\\u2014don\\u2019t try crossing the busy roundabout!\\n\\n5. **Sacr\\u00e9-C\\u0153ur Basilica** (Montmartre)  \\n   - Perched on the highest point in Paris, this basilica offers incredible views. Explore the bohemian Montmartre neighborhood with its artist-filled Place du Tertre.\\n   - **Tip**: Avoid the funicular if you\\u2019re up for a scenic (but steep) walk through cobblestone streets.\\n\\n### Cultural & Historical Experiences\\n6. **Mus\\u00e9e d\\u2019Orsay**  \\n   - A stunning museum in a former train station, showcasing Impressionist and Post-Impressionist art (Monet, Van Gogh, Degas). It\\u2019s less crowded than the Louvre.\\n   - **Tip**: The caf\\u00e9 on the top floor behind the giant clock face is a hidden gem for a break.\\n\\n7. **Palais Garnier (Op\\u00e9ra Garnier)**  \\n   - A breathtaking opera house with opulent interiors, even if you don\\u2019t see a show. Take a guided tour or just marvel at the grand staircase and Chagall-painted ceiling.\\n   - **Tip**: Check for affordable ballet or opera tickets if available.\\n\\n8. **Versailles Palace (Day Trip)**  \\n   - A short train ride from Paris, this extravagant palace and its gardens are a glimpse into royal excess. Highlights include the Hall of Mirrors and Marie Antoinette\\u2019s estate.\\n   - **Tip**: Rent a bike or golf cart to explore the massive gardens, and avoid weekends if possible for smaller crowds.\\n\\n### Neighborhoods & Hidden Gems\\n9. **Le Marais**  \\n   - A trendy, historic district with narrow streets, boutique shops, art galleries, and the Jewish Quarter. Don\\u2019t miss Place des Vosges, a beautiful square.\\n   - **Tip**: Grab a falafel at L\\u2019As du Fallafel for a quick, delicious bite.\\n\\n10. **Latin Quarter**  \\n    - A lively, student-filled area near the Sorbonne with bookstores, caf\\u00e9s, and history. Visit Shakespeare and Company, an iconic English-language bookstore.\\n    - **Tip**: Wander the winding streets for authentic Parisian bistros.\\n\\n11. **Canal Saint-Martin**  \\n    - A quieter, hip area with trendy caf\\u00e9s, boutiques, and scenic canal views. Perfect for a relaxing walk or a boat cruise.\\n    - **Tip**: Visit on weekends when locals picnic along the canal.\\n\\n### Scenic & Relaxing Spots\\n12. **Seine River Cruise**  \\n    - See Paris from the water, passing landmarks like the Eiffel Tower and Notre-Dame. Night cruises are especially romantic with the city lights.\\n    - **Tip**: Companies like Bateaux-Mouches or Bateaux Parisiens offer affordable options.\\n\\n13. **Jardin des Tuileries**  \\n    - A beautiful garden between the Louvre and Place de la Concorde, perfect for a leisurely stroll or people-watching.\\n    - **Tip**: Bring a book or snack and relax by the fountains.\\n\\n14. **Jardin du Luxembourg**  \\n    - A peaceful park with manicured lawns, statues, and a palace. Popular with locals for picnics or sailing toy boats in the pond.\\n    - **Tip**: Grab a chair and enjoy the Parisian art of doing nothing.\\n\\n### Food & Markets\\n15. **French Cuisine & Caf\\u00e9s**  \\n    - Indulge in croissants, baguettes, macarons (try Pierre Herm\\u00e9 or Ladur\\u00e9e), and classic dishes like coq au vin or escargots. Sip coffee at historic caf\\u00e9s like Caf\\u00e9 de Flore or Les Deux Magots in Saint-Germain-des-Pr\\u00e9s.\\n    - **Tip**: Avoid touristy spots near major landmarks; look for small bistros with handwritten menus.\\n\\n16. **Street Markets**  \\n    - Visit March\\u00e9 d\\u2019Aligre or Rue Mouffetard for fresh produce, cheese, and local vibes. Perfect for assembling a picnic.\\n    - **Tip**: Markets are usually open in the mornings, so plan accordingly.\\n\\n### Practical Tips\\n- **Timing**: Spring (March-May) and Fall (September-November) are ideal for pleasant weather and fewer crowds. Summer is busy, and winter can be chilly but magical with holiday decorations.\\n- **Transport**: Use the Paris M\\u00e9tro\\u2014it\\u2019s efficient and covers most attractions. Get a Paris Visite pass or Navigo card for unlimited rides.\\n- **Language**: Learn basic French phrases like \\u201cBonjour\\u201d (hello), \\u201cMerci\\u201d (thank you), and \\u201cParlez-vous anglais?\\u201d (Do you speak English?). Locals appreciate the effort.\\n- **Safety**: Watch for pickpockets in crowded areas like the M\\u00e9tro or near landmarks. Keep valuables secure.\\n- **Duration**: If you have 3-5 days, focus on the top landmarks and a couple of neighborhoods. With more time, add day trips like Versailles or Disneyland Paris.\\n\\n### Sample 3-Day Itinerary\\n- **Day 1**: Eiffel Tower, Seine Cruise, Champs-\\u00c9lys\\u00e9es, Arc de Triomphe\\n- **Day 2**: Louvre, Tuileries Garden, Notre-Dame, Latin Quarter\\n- **Day 3**: Montmartre, Sacr\\u00e9-C\\u0153ur, Le Marais, evening at a caf\\u00e9\\n\\nWhat are your interests (art, food, history, shopping, etc.), and how long will you be in Paris? I can tailor this further! Also, let me know if you\\u2019d like budget tips or off-the-beaten-path ideas. Bon voyage! \\ud83c\\uddeb\\ud83c\\uddf7\",\n",
      "                    \"refusal\": null,\n",
      "                    \"role\": \"assistant\",\n",
      "                    \"tool_calls\": null\n",
      "               }\n",
      "          }\n",
      "     ],\n",
      "     \"created\": 1750929828,\n",
      "     \"id\": \"6d362951-066b-4cdc-939a-3713948706df\",\n",
      "     \"model\": \"grok-3\",\n",
      "     \"object\": \"chat.completion\",\n",
      "     \"prompt_filter_results\": [\n",
      "          {\n",
      "               \"prompt_index\": 0,\n",
      "               \"content_filter_results\": {\n",
      "                    \"hate\": {\n",
      "                         \"filtered\": false,\n",
      "                         \"severity\": \"safe\"\n",
      "                    },\n",
      "                    \"self_harm\": {\n",
      "                         \"filtered\": false,\n",
      "                         \"severity\": \"safe\"\n",
      "                    },\n",
      "                    \"sexual\": {\n",
      "                         \"filtered\": false,\n",
      "                         \"severity\": \"safe\"\n",
      "                    },\n",
      "                    \"violence\": {\n",
      "                         \"filtered\": false,\n",
      "                         \"severity\": \"safe\"\n",
      "                    }\n",
      "               }\n",
      "          }\n",
      "     ],\n",
      "     \"usage\": {\n",
      "          \"completion_tokens\": 1422,\n",
      "          \"completion_tokens_details\": {\n",
      "               \"accepted_prediction_tokens\": 0,\n",
      "               \"audio_tokens\": 0,\n",
      "               \"reasoning_tokens\": 0,\n",
      "               \"rejected_prediction_tokens\": 0\n",
      "          },\n",
      "          \"prompt_tokens\": 17,\n",
      "          \"prompt_tokens_details\": {\n",
      "               \"audio_tokens\": 0,\n",
      "               \"cached_tokens\": 0,\n",
      "               \"image_tokens\": 0,\n",
      "               \"text_tokens\": 17\n",
      "          },\n",
      "          \"total_tokens\": 1439\n",
      "     }\n",
      "}\n"
     ]
    }
   ],
   "source": [
    "print(json.dumps(response.json(), indent=5))"
   ]
  },
  {
   "cell_type": "code",
   "execution_count": 9,
   "id": "cece2290-9ce2-48bb-aad8-49c68b4eb6ff",
   "metadata": {},
   "outputs": [
    {
     "name": "stdout",
     "output_type": "stream",
     "text": [
      "\u001b[1;31;34m\n",
      "Paris is a city full of iconic landmarks, cultural treasures, and hidden gems. Depending on your interests and the length of your stay, here’s a curated list of must-see attractions and experiences to make the most of your trip:\n",
      "\n",
      "### Iconic Landmarks\n",
      "1. **Eiffel Tower**  \n",
      "   - The symbol of Paris! Visit during the day for panoramic views of the city from the top (book tickets in advance to skip long lines). At night, see it sparkle with a light show every hour after dark.\n",
      "   - **Tip**: Have a picnic at Champ de Mars park nearby for a relaxing view of the tower.\n",
      "\n",
      "2. **Louvre Museum**  \n",
      "   - Home to the Mona Lisa and countless masterpieces. It’s massive, so prioritize sections like Egyptian Antiquities, Renaissance art, or the glass pyramid itself.\n",
      "   - **Tip**: Buy tickets online to avoid queues, and consider visiting on Wednesday or Friday evenings for a quieter experience (extended hours).\n",
      "\n",
      "3. **Notre-Dame Cathedral**  \n",
      "   - Though still under restoration after the 2019 fire, you can admire its exterior and the ongoing reconstruction. Check nearby Île de la Cité for charming streets and history.\n",
      "   - **Tip**: Walk to the nearby Sainte-Chapelle for stunning stained glass windows.\n",
      "\n",
      "4. **Arc de Triomphe**  \n",
      "   - Climb to the top for a breathtaking view of the Champs-Élysées and the city’s layout. The monument honors Napoleon’s victories.\n",
      "   - **Tip**: Use the underground passage to reach it—don’t try crossing the busy roundabout!\n",
      "\n",
      "5. **Sacré-Cœur Basilica** (Montmartre)  \n",
      "   - Perched on the highest point in Paris, this basilica offers incredible views. Explore the bohemian Montmartre neighborhood with its artist-filled Place du Tertre.\n",
      "   - **Tip**: Avoid the funicular if you’re up for a scenic (but steep) walk through cobblestone streets.\n",
      "\n",
      "### Cultural & Historical Experiences\n",
      "6. **Musée d’Orsay**  \n",
      "   - A stunning museum in a former train station, showcasing Impressionist and Post-Impressionist art (Monet, Van Gogh, Degas). It’s less crowded than the Louvre.\n",
      "   - **Tip**: The café on the top floor behind the giant clock face is a hidden gem for a break.\n",
      "\n",
      "7. **Palais Garnier (Opéra Garnier)**  \n",
      "   - A breathtaking opera house with opulent interiors, even if you don’t see a show. Take a guided tour or just marvel at the grand staircase and Chagall-painted ceiling.\n",
      "   - **Tip**: Check for affordable ballet or opera tickets if available.\n",
      "\n",
      "8. **Versailles Palace (Day Trip)**  \n",
      "   - A short train ride from Paris, this extravagant palace and its gardens are a glimpse into royal excess. Highlights include the Hall of Mirrors and Marie Antoinette’s estate.\n",
      "   - **Tip**: Rent a bike or golf cart to explore the massive gardens, and avoid weekends if possible for smaller crowds.\n",
      "\n",
      "### Neighborhoods & Hidden Gems\n",
      "9. **Le Marais**  \n",
      "   - A trendy, historic district with narrow streets, boutique shops, art galleries, and the Jewish Quarter. Don’t miss Place des Vosges, a beautiful square.\n",
      "   - **Tip**: Grab a falafel at L’As du Fallafel for a quick, delicious bite.\n",
      "\n",
      "10. **Latin Quarter**  \n",
      "    - A lively, student-filled area near the Sorbonne with bookstores, cafés, and history. Visit Shakespeare and Company, an iconic English-language bookstore.\n",
      "    - **Tip**: Wander the winding streets for authentic Parisian bistros.\n",
      "\n",
      "11. **Canal Saint-Martin**  \n",
      "    - A quieter, hip area with trendy cafés, boutiques, and scenic canal views. Perfect for a relaxing walk or a boat cruise.\n",
      "    - **Tip**: Visit on weekends when locals picnic along the canal.\n",
      "\n",
      "### Scenic & Relaxing Spots\n",
      "12. **Seine River Cruise**  \n",
      "    - See Paris from the water, passing landmarks like the Eiffel Tower and Notre-Dame. Night cruises are especially romantic with the city lights.\n",
      "    - **Tip**: Companies like Bateaux-Mouches or Bateaux Parisiens offer affordable options.\n",
      "\n",
      "13. **Jardin des Tuileries**  \n",
      "    - A beautiful garden between the Louvre and Place de la Concorde, perfect for a leisurely stroll or people-watching.\n",
      "    - **Tip**: Bring a book or snack and relax by the fountains.\n",
      "\n",
      "14. **Jardin du Luxembourg**  \n",
      "    - A peaceful park with manicured lawns, statues, and a palace. Popular with locals for picnics or sailing toy boats in the pond.\n",
      "    - **Tip**: Grab a chair and enjoy the Parisian art of doing nothing.\n",
      "\n",
      "### Food & Markets\n",
      "15. **French Cuisine & Cafés**  \n",
      "    - Indulge in croissants, baguettes, macarons (try Pierre Hermé or Ladurée), and classic dishes like coq au vin or escargots. Sip coffee at historic cafés like Café de Flore or Les Deux Magots in Saint-Germain-des-Prés.\n",
      "    - **Tip**: Avoid touristy spots near major landmarks; look for small bistros with handwritten menus.\n",
      "\n",
      "16. **Street Markets**  \n",
      "    - Visit Marché d’Aligre or Rue Mouffetard for fresh produce, cheese, and local vibes. Perfect for assembling a picnic.\n",
      "    - **Tip**: Markets are usually open in the mornings, so plan accordingly.\n",
      "\n",
      "### Practical Tips\n",
      "- **Timing**: Spring (March-May) and Fall (September-November) are ideal for pleasant weather and fewer crowds. Summer is busy, and winter can be chilly but magical with holiday decorations.\n",
      "- **Transport**: Use the Paris Métro—it’s efficient and covers most attractions. Get a Paris Visite pass or Navigo card for unlimited rides.\n",
      "- **Language**: Learn basic French phrases like “Bonjour” (hello), “Merci” (thank you), and “Parlez-vous anglais?” (Do you speak English?). Locals appreciate the effort.\n",
      "- **Safety**: Watch for pickpockets in crowded areas like the Métro or near landmarks. Keep valuables secure.\n",
      "- **Duration**: If you have 3-5 days, focus on the top landmarks and a couple of neighborhoods. With more time, add day trips like Versailles or Disneyland Paris.\n",
      "\n",
      "### Sample 3-Day Itinerary\n",
      "- **Day 1**: Eiffel Tower, Seine Cruise, Champs-Élysées, Arc de Triomphe\n",
      "- **Day 2**: Louvre, Tuileries Garden, Notre-Dame, Latin Quarter\n",
      "- **Day 3**: Montmartre, Sacré-Cœur, Le Marais, evening at a café\n",
      "\n",
      "What are your interests (art, food, history, shopping, etc.), and how long will you be in Paris? I can tailor this further! Also, let me know if you’d like budget tips or off-the-beaten-path ideas. Bon voyage! 🇫🇷\n"
     ]
    }
   ],
   "source": [
    "print(\"\\033[1;31;34m\")\n",
    "print(response.json()[\"choices\"][0][\"message\"][\"content\"])"
   ]
  },
  {
   "cell_type": "code",
   "execution_count": null,
   "id": "b58c6607-38db-451c-892e-2d249c9dcd67",
   "metadata": {},
   "outputs": [],
   "source": []
  },
  {
   "cell_type": "code",
   "execution_count": null,
   "id": "2f5b476f-9511-4486-a447-829df35d79c8",
   "metadata": {},
   "outputs": [],
   "source": []
  }
 ],
 "metadata": {
  "kernelspec": {
   "display_name": "Python 3.10 - SDK v2",
   "language": "python",
   "name": "python310-sdkv2"
  },
  "language_info": {
   "codemirror_mode": {
    "name": "ipython",
    "version": 3
   },
   "file_extension": ".py",
   "mimetype": "text/x-python",
   "name": "python",
   "nbconvert_exporter": "python",
   "pygments_lexer": "ipython3",
   "version": "3.10.14"
  }
 },
 "nbformat": 4,
 "nbformat_minor": 5
}
