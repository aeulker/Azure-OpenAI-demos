{
 "cells": [
  {
   "cell_type": "markdown",
   "id": "de69cdc1-399e-47e6-ae0c-b2fb7b80c78c",
   "metadata": {},
   "source": [
    "# Azure OpenAI o3-mini examples\n",
    "\n",
    "<img src=\"o3.jpg\" width=500>\n",
    "\n",
    "Azure OpenAI o-series models are designed to tackle reasoning and problem-solving tasks with increased focus and capability. These models spend more time processing and understanding the user's request, making them exceptionally strong in areas like science, coding, and math compared to previous iterations.\n",
    "\n",
    "### Key Capabilities of these models\n",
    "- o1 added advanced image analysis capabilities with the new version. Enhance your prompts and context with images for additional insights.\n",
    "- o3-mini follows o1 mini but adds the features supported by o1 like function calling and tools.\n",
    "- Complex Code Generation: Capable of generating algorithms and handling advanced coding tasks to support developers.\n",
    "- Advanced Problem Solving: Ideal for comprehensive brainstorming sessions and addressing multifaceted challenges.\n",
    "- Complex Document Comparison: Perfect for analyzing contracts, case files, or legal documents to identify subtle differences.\n",
    "- Instruction Following and Workflow Management: Particularly effective for managing workflows requiring shorter contexts.\n",
    "\n",
    "### Features and properties supported in o3-mini model\n",
    "- Supports both System message and the new Developer message to improve upgrade experience.\n",
    "- Reasoning effort as in high, medium, and low. It controls whether the model thinks \"less\" or \"more\" in terms of applying cognitive reasoning.\n",
    "- Structured outputs and functions/tools.\n",
    "- Context window: 200K, Max Completion Tokens: 100K\n",
    "\n",
    "### Model Variants\n",
    "- o3-mini: Now includes the o1 features with significant cost-efficiencies for scenarios requiring high performance.\n",
    "- o1: The most capable model in the o1 series, offering enhanced reasoning abilities. Now generally available.\n",
    "- o1-mini: A faster and more cost-efficient option in the o1 series, ideal for coding tasks requiring speed and lower resource consumption.\n",
    "\n",
    "### Documentation\n",
    "https://azure.microsoft.com/en-us/blog/announcing-the-availability-of-the-o3-mini-reasoning-model-in-microsoft-azure-openai-service/\n",
    "https://techcommunity.microsoft.com/discussions/marketplace-forum/o3-mini-reasoning-model-now-available-in-microsoft-azure-openai-service/4372800\n",
    "https://learn.microsoft.com/en-us/azure/ai-services/openai/how-to/reasoning?tabs=python-secure"
   ]
  },
  {
   "cell_type": "code",
   "execution_count": 1,
   "id": "57cd614d-8fcb-4bf9-887e-43faace8f6c5",
   "metadata": {},
   "outputs": [],
   "source": [
    "import datetime\n",
    "import openai\n",
    "import os\n",
    "import sys\n",
    "\n",
    "from dotenv import load_dotenv\n",
    "from openai import AzureOpenAI\n",
    "from IPython.display import display, Markdown"
   ]
  },
  {
   "cell_type": "code",
   "execution_count": 2,
   "id": "342ae966-b85f-454e-a666-ae8b107c3b8f",
   "metadata": {},
   "outputs": [
    {
     "name": "stdout",
     "output_type": "stream",
     "text": [
      "Today is 14-Feb-2025 09:27:32\n"
     ]
    }
   ],
   "source": [
    "print(f\"Today is {datetime.datetime.today().strftime('%d-%b-%Y %H:%M:%S')}\")"
   ]
  },
  {
   "cell_type": "code",
   "execution_count": 3,
   "id": "337ec4b6-9359-436f-b591-9d310ad61765",
   "metadata": {},
   "outputs": [
    {
     "name": "stdout",
     "output_type": "stream",
     "text": [
      "Python version: 3.10.14 (main, May  6 2024, 19:42:50) [GCC 11.2.0]\n",
      "OpenAI version: 1.61.1\n"
     ]
    }
   ],
   "source": [
    "print(f\"Python version: {sys.version}\")\n",
    "print(f\"OpenAI version: {openai.__version__}\")"
   ]
  },
  {
   "cell_type": "code",
   "execution_count": 4,
   "id": "023c321d-b6af-42eb-b17b-1155e8cc4a0f",
   "metadata": {},
   "outputs": [
    {
     "name": "stdout",
     "output_type": "stream",
     "text": [
      "OK\n"
     ]
    }
   ],
   "source": [
    "print('OK') if load_dotenv(\"azure.env\") else print('ERROR: Check file location or name.')"
   ]
  },
  {
   "cell_type": "markdown",
   "id": "24ab513d-fc74-4f1a-8d1e-63a701af2097",
   "metadata": {},
   "source": [
    "## Settings"
   ]
  },
  {
   "cell_type": "code",
   "execution_count": 5,
   "id": "ba0696b4-e372-4792-86b5-3b2e530c881c",
   "metadata": {},
   "outputs": [],
   "source": [
    "model = \"o3-mini\"  # As deployed in Azure AI Foundry\n",
    "\n",
    "api_version = \"2025-01-01-preview\"  # Subject to change"
   ]
  },
  {
   "cell_type": "code",
   "execution_count": 6,
   "id": "f4dc6641-7d2f-4dd2-ada2-0f31180e7dbf",
   "metadata": {},
   "outputs": [
    {
     "name": "stdout",
     "output_type": "stream",
     "text": [
      "We will use o3-mini from Azure AI Foundry\n"
     ]
    }
   ],
   "source": [
    "print(f\"We will use {model} from Azure AI Foundry\")"
   ]
  },
  {
   "cell_type": "code",
   "execution_count": 7,
   "id": "2489ccc8-8bdb-42b2-b4a1-ae261c597f4a",
   "metadata": {},
   "outputs": [],
   "source": [
    "def o3mini(prompt:str, reasoning_effort=\"medium\"):\n",
    "    \"\"\"\n",
    "    Sends a chat completion request to the Azure OpenAI API o3 mini model.\n",
    "    Args:\n",
    "        prompt (str): The input prompt to generate a response for.\n",
    "    Returns:\n",
    "        response (openai.Completion): The response object containing the generated completion.\n",
    "    \"\"\" \n",
    "    try:\n",
    "        # Azure OpenAI client\n",
    "        aoai_client = AzureOpenAI(\n",
    "            azure_endpoint=os.getenv(\"AZURE_OPENAI_ENDPOINT\"),\n",
    "            api_key=os.getenv(\"AZURE_OPENAI_API_KEY\"),\n",
    "            api_version=api_version,\n",
    "        )\n",
    "        # Calling the model\n",
    "        response = aoai_client.chat.completions.create(\n",
    "            model=model,\n",
    "            messages=[{\"role\": \"user\", \"content\": prompt}],\n",
    "            max_completion_tokens=100_000,\n",
    "            reasoning_effort = reasoning_effort,  # values are low, medium or high\n",
    "        )\n",
    "        return response\n",
    "\n",
    "    except Exception as e:\n",
    "        print(f\"[ERROR] {e}\")\n",
    "        return None"
   ]
  },
  {
   "cell_type": "markdown",
   "id": "c9fa3501-a7c5-4044-bcc4-069be4bc5313",
   "metadata": {},
   "source": [
    "## Quick test"
   ]
  },
  {
   "cell_type": "code",
   "execution_count": 8,
   "id": "398b5d87-04d9-4291-87f8-14149d2cb99a",
   "metadata": {},
   "outputs": [
    {
     "data": {
      "text/plain": [
       "ChatCompletion(id='chatcmpl-B0mGqAW3yQlzsc1hlHIVIo1hmdoEl', choices=[Choice(finish_reason='stop', index=0, logprobs=None, message=ChatCompletionMessage(content=\"I'm ChatGPT, an AI language model developed by OpenAI. I'm here to help answer your questions and engage in conversation based on the information I've been trained on. How can I assist you today?\", refusal=None, role='assistant', audio=None, function_call=None, tool_calls=None))], created=1739525252, model='o3-mini-2025-01-31', object='chat.completion', service_tier=None, system_fingerprint='fp_db33bdfc5e', usage=CompletionUsage(completion_tokens=50, prompt_tokens=10, total_tokens=60, completion_tokens_details=CompletionTokensDetails(accepted_prediction_tokens=0, audio_tokens=0, reasoning_tokens=0, rejected_prediction_tokens=0), prompt_tokens_details=PromptTokensDetails(audio_tokens=0, cached_tokens=0)))"
      ]
     },
     "execution_count": 8,
     "metadata": {},
     "output_type": "execute_result"
    }
   ],
   "source": [
    "prompt = \"Who are you?\"\n",
    "\n",
    "resp = o3mini(prompt, reasoning_effort=\"low\")\n",
    "resp"
   ]
  },
  {
   "cell_type": "code",
   "execution_count": 9,
   "id": "beeb2939-aea3-49b4-a6f8-a3296efc24a0",
   "metadata": {},
   "outputs": [
    {
     "data": {
      "text/plain": [
       "\"I'm ChatGPT, an AI language model developed by OpenAI. I'm here to help answer your questions and engage in conversation based on the information I've been trained on. How can I assist you today?\""
      ]
     },
     "execution_count": 9,
     "metadata": {},
     "output_type": "execute_result"
    }
   ],
   "source": [
    "resp.choices[0].message.content"
   ]
  },
  {
   "cell_type": "code",
   "execution_count": 10,
   "id": "c411399d-e451-4f11-a487-4d1d406d8116",
   "metadata": {},
   "outputs": [
    {
     "data": {
      "text/plain": [
       "'o3-mini-2025-01-31'"
      ]
     },
     "execution_count": 10,
     "metadata": {},
     "output_type": "execute_result"
    }
   ],
   "source": [
    "resp.model"
   ]
  },
  {
   "cell_type": "code",
   "execution_count": 11,
   "id": "8258b8af-930a-4ccb-9e36-f282827f903c",
   "metadata": {},
   "outputs": [
    {
     "name": "stdout",
     "output_type": "stream",
     "text": [
      "2025-02-14 09:27:32\n"
     ]
    }
   ],
   "source": [
    "print(datetime.datetime.fromtimestamp(resp.created).strftime(\"%Y-%m-%d %H:%M:%S\"))"
   ]
  },
  {
   "cell_type": "code",
   "execution_count": 12,
   "id": "ef169772-fd4b-415a-bb5b-35bea250b890",
   "metadata": {},
   "outputs": [
    {
     "data": {
      "text/plain": [
       "CompletionUsage(completion_tokens=50, prompt_tokens=10, total_tokens=60, completion_tokens_details=CompletionTokensDetails(accepted_prediction_tokens=0, audio_tokens=0, reasoning_tokens=0, rejected_prediction_tokens=0), prompt_tokens_details=PromptTokensDetails(audio_tokens=0, cached_tokens=0))"
      ]
     },
     "execution_count": 12,
     "metadata": {},
     "output_type": "execute_result"
    }
   ],
   "source": [
    "resp.usage"
   ]
  },
  {
   "cell_type": "code",
   "execution_count": 13,
   "id": "801003e4-56fc-44ba-b68e-e55e6bc875a1",
   "metadata": {},
   "outputs": [
    {
     "name": "stdout",
     "output_type": "stream",
     "text": [
      "\u001b[1;34m\n",
      "{\n",
      "    \"id\": \"chatcmpl-B0mGqAW3yQlzsc1hlHIVIo1hmdoEl\",\n",
      "    \"choices\": [\n",
      "        {\n",
      "            \"finish_reason\": \"stop\",\n",
      "            \"index\": 0,\n",
      "            \"logprobs\": null,\n",
      "            \"message\": {\n",
      "                \"content\": \"I'm ChatGPT, an AI language model developed by OpenAI. I'm here to help answer your questions and engage in conversation based on the information I've been trained on. How can I assist you today?\",\n",
      "                \"refusal\": null,\n",
      "                \"role\": \"assistant\",\n",
      "                \"audio\": null,\n",
      "                \"function_call\": null,\n",
      "                \"tool_calls\": null\n",
      "            }\n",
      "        }\n",
      "    ],\n",
      "    \"created\": 1739525252,\n",
      "    \"model\": \"o3-mini-2025-01-31\",\n",
      "    \"object\": \"chat.completion\",\n",
      "    \"service_tier\": null,\n",
      "    \"system_fingerprint\": \"fp_db33bdfc5e\",\n",
      "    \"usage\": {\n",
      "        \"completion_tokens\": 50,\n",
      "        \"prompt_tokens\": 10,\n",
      "        \"total_tokens\": 60,\n",
      "        \"completion_tokens_details\": {\n",
      "            \"accepted_prediction_tokens\": 0,\n",
      "            \"audio_tokens\": 0,\n",
      "            \"reasoning_tokens\": 0,\n",
      "            \"rejected_prediction_tokens\": 0\n",
      "        },\n",
      "        \"prompt_tokens_details\": {\n",
      "            \"audio_tokens\": 0,\n",
      "            \"cached_tokens\": 0\n",
      "        }\n",
      "    }\n",
      "}\n"
     ]
    }
   ],
   "source": [
    "print(\"\\033[1;34m\")\n",
    "print(resp.model_dump_json(indent=4))"
   ]
  },
  {
   "cell_type": "markdown",
   "id": "9aab26b7-217f-4b90-83c1-e30c20f1636f",
   "metadata": {},
   "source": [
    "## Basic example"
   ]
  },
  {
   "cell_type": "code",
   "execution_count": 14,
   "id": "502550bc-5e28-40ce-9176-92a1955bc12c",
   "metadata": {},
   "outputs": [
    {
     "name": "stdout",
     "output_type": "stream",
     "text": [
      "Below is a high‐level comparison of the three “o‑series” generative models—from the full‐sized o1 down to the more “mini” variants—in terms of their size and complexity, performance, typical use cases, and underlying architecture. (Keep in mind that exact numbers and design choices can evolve over time or depend on implementation details; the following is meant to capture the general trade‐offs and design philosophy that distinguishes each variant.)\n",
      "\n",
      "──────────────────────────────\n",
      "1. Size and Complexity\n",
      "\n",
      "• o1 (Full Model)\n",
      " – This is the largest member of the family. It packs the highest number of parameters and the deepest (and sometimes widest) stack of transformer layers.\n",
      " – Its design intentionally maximizes capacity so that it can capture detailed nuances in language, long‐range dependencies, and highly complex patterns.\n",
      " – As a result, it usually comes with a heavier computational footprint both during training and inference.\n",
      "\n",
      "• o1‑mini\n",
      " – The “mini” version of o1 reduces scale—fewer layers, smaller hidden dimensions, and thus a reduced overall parameter count.\n",
      " – While it largely preserves the same architectural blueprint as o1 (e.g. multi‐head self–attention, transformer blocks, etc.), the “mini” size is chosen to lower compute requirements.\n",
      " – This makes it faster and cheaper to run while still being “good enough” for many applications, though with some inevitable trade-offs in representational power and long–context handling.\n",
      "\n",
      "• o3‑mini\n",
      " – Also a “mini”–sized model, o3‑mini represents not only a reduction in size relative to the full o1 but also an evolution in design.\n",
      " – Although its parameter count is in the same ballpark as o1‑mini, the architecture benefits from newer efficiency‐driven choices (see below) that improve the performance–cost trade–off.\n",
      " – In effect, o3‑mini is designed to “punch above its weight,” delivering some of the quality you’d expect from larger models even while keeping a tight resource budget.\n",
      "\n",
      "──────────────────────────────\n",
      "2. Performance\n",
      "\n",
      "• o1\n",
      " – With a large parameter count and more elaborate internal representations, o1 tends to excel on high–complexity tasks: nuanced writing, in–depth reasoning, and handling extended context.\n",
      " – Its increased capacity generally yields richer, more coherent outputs but comes at the cost of slower inference and higher resource usage.\n",
      "\n",
      "• o1‑mini\n",
      " – The performance is slightly “downscaled”: for many everyday tasks (chat, summarization, light creative generation) o1‑mini can perform very well.\n",
      " – However, in situations that push the boundaries of context or need a very refined understanding, the reduced capacity of o1‑mini may be visible.\n",
      " – Its smaller size makes it significantly faster and easier to deploy in real–time or on resource–limited platforms.\n",
      "\n",
      "• o3‑mini\n",
      " – Although it is mini in size too, o3‑mini is often optimized through architectural refinements or training improvements (such as enhanced fine–tuning, better regularization, or more efficient attention mechanisms).\n",
      " – As a consequence, on many benchmarks it “closes the gap” toward the full model’s quality on a variety of tasks, even as it retains a small footprint.\n",
      " – This makes o3‑mini an attractive choice when you’d like a balance of quality and low latency.\n",
      "\n",
      "──────────────────────────────\n",
      "3. Use Cases\n",
      "\n",
      "• o1\n",
      " – Best suited for research or applications where output quality and deep language understanding are critical.\n",
      " – Typically deployed on powerful servers or cloud infrastructure where computational cost is less of an issue.\n",
      " – Ideal for high–stakes scenarios (advanced content generation, research–grade language tasks) where the best performance and nuance matter most.\n",
      "\n",
      "• o1‑mini\n",
      " – Suited for production environments where responsiveness and lower operational costs are needed.\n",
      " – Well–adapted for prototype applications, lightweight chatbots, or mobile/edge deployments where a full–scale model would be too resource–intensive.\n",
      " – A good “all–rounder” in situations that do not require the full depth of the o1 model.\n",
      "\n",
      "• o3‑mini\n",
      " – Targeted at even more resource–constrained settings where both speed and quality are prioritized.\n",
      " – Often chosen for real–time applications (e.g., interactive chat interfaces or embedded use cases in consumer devices) where millisecond response times are essential.\n",
      " – Its architectural tweaks mean that even if the application demands are challenging, you get performance that feels closer to that of much larger models.\n",
      "\n",
      "──────────────────────────────\n",
      "4. Architecture\n",
      "\n",
      "• o1 and o1‑mini\n",
      " – Both use a transformer–based architecture (multi–head self–attention, feed–forward layers, positional embeddings, etc.).\n",
      " – The main difference is scale: o1 is “deep and wide” with many attention heads and layers, while o1‑mini “downsizes” these same components (fewer layers, lower dimensionality in embeddings and hidden states) to operate more efficiently.\n",
      " – The mini variant is essentially a distilled version meant to reduce the computational burden without a wholesale change in the model’s design philosophy.\n",
      "\n",
      "• o3‑mini\n",
      " – While still based on the transformer paradigm, o3‑mini often incorporates more modern architectural innovations.\n",
      " – These may include updated attention variants (for example, more efficient or sparse–attention mechanisms), revised normalization or positional embedding strategies (such as rotary embeddings), or even parameter sharing techniques that improve generalization.\n",
      " – In short, o3‑mini is an attempt to “redesign” how a mini model works so that despite having a similar size to o1‑mini, its efficiency gains or training refinements allow it to perform comparably on more demanding tasks.\n",
      "\n",
      "──────────────────────────────\n",
      "In Summary\n",
      "\n",
      "• The full–sized o1 is all about maximum capacity and quality at the expense of computational and speed costs.\n",
      "• The o1‑mini is a scaled–down version of o1 that sacrifices some representational power for reduced latency and a smaller resource footprint.\n",
      "• The o3‑mini takes the mini–model concept a step further by incorporating newer architectural refinements and training optimizations so that, within a very lean design, it delivers performance closer to that of larger models.\n",
      "\n",
      "Each variant is optimized for a particular trade–off among quality, speed, and resource usage. Depending on your application’s priorities—whether that’s detailed reasoning and deep understanding (favoring o1) or efficient, real–time interaction in resource–limited environments (favoring the mini models, with o3‑mini often providing the best balance)—you can choose the model variant that best meets your needs.\n"
     ]
    }
   ],
   "source": [
    "prompt = \"What are the differences between o1, o1-mini and o3-mini genAI models in terms of size and complexity, performance, usecases and architecture?\"\n",
    "\n",
    "resp = o3mini(prompt, reasoning_effort=\"high\")\n",
    "print(resp.choices[0].message.content)"
   ]
  },
  {
   "cell_type": "markdown",
   "id": "39ce87ef-608a-45ba-88d9-dbf40aead0a6",
   "metadata": {},
   "source": [
    "## Developer role"
   ]
  },
  {
   "cell_type": "code",
   "execution_count": 15,
   "id": "7ec2ee54-b80d-4587-87e5-702a188b9b8e",
   "metadata": {},
   "outputs": [],
   "source": [
    "aoai_client = AzureOpenAI(\n",
    "            azure_endpoint=os.getenv(\"AZURE_OPENAI_ENDPOINT\"),\n",
    "            api_key=os.getenv(\"AZURE_OPENAI_API_KEY\"),\n",
    "            api_version=api_version,\n",
    ")\n",
    "\n",
    "resp = aoai_client.chat.completions.create(\n",
    "    model=model,\n",
    "    messages=[\n",
    "        {\"role\": \"developer\",\"content\": \"You are a helpful assistant.\"},\n",
    "        {\"role\": \"user\", \"content\": \"What steps should I think about when writing my first Python API?\"},\n",
    "    ],\n",
    "    reasoning_effort = 'medium',  # low or medium or high\n",
    "    max_completion_tokens = 10000\n",
    ")"
   ]
  },
  {
   "cell_type": "code",
   "execution_count": 16,
   "id": "3bbea6d7-1e5a-46cb-8e18-658199c2ad09",
   "metadata": {},
   "outputs": [
    {
     "data": {
      "text/plain": [
       "ChatCompletion(id='chatcmpl-B0mHUMGZDaGIvrfMcpmV2voiFhygk', choices=[Choice(finish_reason='stop', index=0, logprobs=None, message=ChatCompletionMessage(content=\"When building your first Python API, it’s useful to break the process into clear, manageable steps. Here are some key points and stages to consider:\\n\\n1. Define Your Objectives and Requirements  \\n\\u2003• Clarify what the API should do. What data or services will it provide?  \\n\\u2003• Identify your audience and usage scenarios.  \\n\\u2003• Decide on the API style (e.g., REST, GraphQL, etc.) and overall design philosophy.\\n\\n2. Plan Your Endpoints and Data Models  \\n\\u2003• List the resources you'll need (e.g., users, items, orders) and outline the endpoints (GET, POST, PUT, DELETE).  \\n\\u2003• Design the data models and determine how data will be structured and validated.  \\n\\u2003• Consider using OpenAPI/Swagger for planning and documentation from the start.\\n\\n3. Choose the Right Framework  \\n\\u2003• Evaluate popular Python frameworks like Flask, FastAPI, or Django REST Framework.  \\n\\u2003• FastAPI, for instance, provides automatic documentation and great performance, while Flask offers flexibility and simplicity.  \\n\\u2003• Base your decision on your project’s needs and your familiarity with the ecosystem.\\n\\n4. Set Up Your Development Environment  \\n\\u2003• Use virtual environments to manage dependencies.  \\n\\u2003• Organize your project structure with separate modules for routes, models, and configurations.  \\n\\u2003• Consider using tools like pipenv or poetry to manage packages and environments.\\n\\n5. Implement the Endpoints  \\n\\u2003• Define routes (endpoints) in your chosen framework and connect them to handler functions.  \\n\\u2003• Ensure each endpoint processes input data correctly and returns the right responses.  \\n\\u2003• Keep business logic separate from routing logic to promote modularity and ease testing.\\n\\n6. Validate Inputs and Handle Data  \\n\\u2003• Incorporate data validation either manually or by leveraging libraries (e.g., pydantic with FastAPI).  \\n\\u2003• Decide on serialization formats (JSON is common) for input and output.  \\n\\u2003• Implement error handling to gracefully manage invalid data or unexpected conditions.\\n\\n7. Secure Your API  \\n\\u2003• Plan for authentication (tokens, OAuth, API keys) and authorization to protect your endpoints.  \\n\\u2003• Consider implementing rate limiting if you expect high traffic or to prevent abuse.  \\n\\u2003• Use HTTPS for secure data transmissions.\\n\\n8. Write Tests  \\n\\u2003• Develop unit tests and integration tests to cover your API endpoints and business logic.  \\n\\u2003• Use testing frameworks like pytest to automate and manage your tests.  \\n\\u2003• Write tests early and often to ensure changes don’t break functionality.\\n\\n9. Document Your API  \\n\\u2003• Maintain clear documentation on how to use your API, including endpoint definitions, input/output formats, error codes, etc.  \\n\\u2003• Tools like Swagger or Redoc (often integrated automatically in frameworks like FastAPI) help keep documentation up to date.  \\n\\u2003• Consider writing a README or user guide explaining setup, endpoints, and development practices.\\n\\n10. Prepare for Deployment  \\n\\u2003• Choose a deployment method (e.g., deploying via gunicorn/uvicorn behind Nginx, containerizing with Docker, or using a cloud platform like AWS or Heroku).  \\n\\u2003• Set up environment variable configurations for different environments (development, testing, production).  \\n\\u2003• Implement logging and monitoring to track usage and errors once deployed.\\n\\n11. Plan for Versioning and Maintenance  \\n\\u2003• Think about how you’ll version your API to handle future changes without breaking existing clients.  \\n\\u2003• Use versioning in your endpoints (e.g., /api/v1/resource) or through header negotiation.  \\n\\u2003• Establish a process for maintaining and updating the API over time.\\n\\nBy following these steps, you ensure a solid foundation for your API project. This structured approach not only helps you cover the necessary technical aspects but also prepares you for future scaling and maintenance challenges. Happy coding!\", refusal=None, role='assistant', audio=None, function_call=None, tool_calls=None))], created=1739525292, model='o3-mini-2025-01-31', object='chat.completion', service_tier=None, system_fingerprint='fp_db33bdfc5e', usage=CompletionUsage(completion_tokens=1166, prompt_tokens=29, total_tokens=1195, completion_tokens_details=CompletionTokensDetails(accepted_prediction_tokens=0, audio_tokens=0, reasoning_tokens=384, rejected_prediction_tokens=0), prompt_tokens_details=PromptTokensDetails(audio_tokens=0, cached_tokens=0)))"
      ]
     },
     "execution_count": 16,
     "metadata": {},
     "output_type": "execute_result"
    }
   ],
   "source": [
    "resp"
   ]
  },
  {
   "cell_type": "code",
   "execution_count": 17,
   "id": "d7b912b4-7941-4efe-a33a-1ecfe9129fd8",
   "metadata": {},
   "outputs": [
    {
     "name": "stdout",
     "output_type": "stream",
     "text": [
      "When building your first Python API, it’s useful to break the process into clear, manageable steps. Here are some key points and stages to consider:\n",
      "\n",
      "1. Define Your Objectives and Requirements  \n",
      " • Clarify what the API should do. What data or services will it provide?  \n",
      " • Identify your audience and usage scenarios.  \n",
      " • Decide on the API style (e.g., REST, GraphQL, etc.) and overall design philosophy.\n",
      "\n",
      "2. Plan Your Endpoints and Data Models  \n",
      " • List the resources you'll need (e.g., users, items, orders) and outline the endpoints (GET, POST, PUT, DELETE).  \n",
      " • Design the data models and determine how data will be structured and validated.  \n",
      " • Consider using OpenAPI/Swagger for planning and documentation from the start.\n",
      "\n",
      "3. Choose the Right Framework  \n",
      " • Evaluate popular Python frameworks like Flask, FastAPI, or Django REST Framework.  \n",
      " • FastAPI, for instance, provides automatic documentation and great performance, while Flask offers flexibility and simplicity.  \n",
      " • Base your decision on your project’s needs and your familiarity with the ecosystem.\n",
      "\n",
      "4. Set Up Your Development Environment  \n",
      " • Use virtual environments to manage dependencies.  \n",
      " • Organize your project structure with separate modules for routes, models, and configurations.  \n",
      " • Consider using tools like pipenv or poetry to manage packages and environments.\n",
      "\n",
      "5. Implement the Endpoints  \n",
      " • Define routes (endpoints) in your chosen framework and connect them to handler functions.  \n",
      " • Ensure each endpoint processes input data correctly and returns the right responses.  \n",
      " • Keep business logic separate from routing logic to promote modularity and ease testing.\n",
      "\n",
      "6. Validate Inputs and Handle Data  \n",
      " • Incorporate data validation either manually or by leveraging libraries (e.g., pydantic with FastAPI).  \n",
      " • Decide on serialization formats (JSON is common) for input and output.  \n",
      " • Implement error handling to gracefully manage invalid data or unexpected conditions.\n",
      "\n",
      "7. Secure Your API  \n",
      " • Plan for authentication (tokens, OAuth, API keys) and authorization to protect your endpoints.  \n",
      " • Consider implementing rate limiting if you expect high traffic or to prevent abuse.  \n",
      " • Use HTTPS for secure data transmissions.\n",
      "\n",
      "8. Write Tests  \n",
      " • Develop unit tests and integration tests to cover your API endpoints and business logic.  \n",
      " • Use testing frameworks like pytest to automate and manage your tests.  \n",
      " • Write tests early and often to ensure changes don’t break functionality.\n",
      "\n",
      "9. Document Your API  \n",
      " • Maintain clear documentation on how to use your API, including endpoint definitions, input/output formats, error codes, etc.  \n",
      " • Tools like Swagger or Redoc (often integrated automatically in frameworks like FastAPI) help keep documentation up to date.  \n",
      " • Consider writing a README or user guide explaining setup, endpoints, and development practices.\n",
      "\n",
      "10. Prepare for Deployment  \n",
      " • Choose a deployment method (e.g., deploying via gunicorn/uvicorn behind Nginx, containerizing with Docker, or using a cloud platform like AWS or Heroku).  \n",
      " • Set up environment variable configurations for different environments (development, testing, production).  \n",
      " • Implement logging and monitoring to track usage and errors once deployed.\n",
      "\n",
      "11. Plan for Versioning and Maintenance  \n",
      " • Think about how you’ll version your API to handle future changes without breaking existing clients.  \n",
      " • Use versioning in your endpoints (e.g., /api/v1/resource) or through header negotiation.  \n",
      " • Establish a process for maintaining and updating the API over time.\n",
      "\n",
      "By following these steps, you ensure a solid foundation for your API project. This structured approach not only helps you cover the necessary technical aspects but also prepares you for future scaling and maintenance challenges. Happy coding!\n"
     ]
    }
   ],
   "source": [
    "print(resp.choices[0].message.content)"
   ]
  },
  {
   "cell_type": "markdown",
   "id": "3f92fea5-ac79-41b1-b221-6f6b36adc47c",
   "metadata": {},
   "source": [
    "## Markdown export"
   ]
  },
  {
   "cell_type": "code",
   "execution_count": 18,
   "id": "bb1fa8ad-cdac-4b9c-9832-d59ca828c875",
   "metadata": {},
   "outputs": [],
   "source": [
    "resp = aoai_client.chat.completions.create(\n",
    "    model=model,\n",
    "    messages=[\n",
    "        {\"role\": \"developer\",\"content\": \"Formatting re-enabled - please enclose code blocks with appropriate markdown tags. You are a helpful assistant.\"},\n",
    "        {\"role\": \"user\", \"content\": \"What steps should I think about when writing my first Python API?\"},\n",
    "    ],\n",
    "    reasoning_effort = 'low',  # low or medium or high\n",
    "    max_completion_tokens = 10000\n",
    ")"
   ]
  },
  {
   "cell_type": "code",
   "execution_count": 19,
   "id": "c9c7a128-5482-49ad-b577-9e678fabc442",
   "metadata": {},
   "outputs": [
    {
     "data": {
      "text/markdown": [
       "When planning your first Python API, it's important to break the process down into manageable steps. Here's a roadmap you can follow:\n",
       "\n",
       "---\n",
       "\n",
       "### 1. Define Your API’s Purpose and Requirements\n",
       "\n",
       "- **Identify the functionality:** What is the API supposed to do? Who is the target audience?\n",
       "- **Determine endpoints:** Map out the resources and actions (e.g., GET, POST, PUT, DELETE) your API will provide.\n",
       "- **Set clear goals:** Define performance, security, and scalability requirements.\n",
       "\n",
       "---\n",
       "\n",
       "### 2. Choose the Right Framework\n",
       "\n",
       "- **Popular choices include:**\n",
       "  - **Flask:** Lightweight and flexible.\n",
       "  - **Django (with Django REST Framework):** Provides a rich set of features if you’re already using Django.\n",
       "  - **FastAPI:** Offers excellent performance with modern Python typing features and built-in support for asynchronous endpoints.\n",
       "- **Consider your project scope:** Your framework choice can depend on complexity, community support, and performance needs.\n",
       "\n",
       "---\n",
       "\n",
       "### 3. Plan Your Data Model and Database\n",
       "\n",
       "- **Design your data structures:** Think about how you’ll represent the entities or resources.\n",
       "- **Choose a database:** Options include SQL (e.g., PostgreSQL, MySQL) or NoSQL (e.g., MongoDB) depending on your use case.\n",
       "- **ORMs:** Decide if you want to use an Object-Relational Mapping (ORM) like SQLAlchemy or Django’s ORM.\n",
       "\n",
       "---\n",
       "\n",
       "### 4. Design Your API Endpoints\n",
       "\n",
       "- **Follow REST principles** (if you’re building a RESTful API):\n",
       "  - Use proper HTTP methods.\n",
       "  - Avoid using verbs in URIs; use nouns (e.g., `/users` instead of `/getUsers`).\n",
       "- **Consider input validation:** Define what data your API accepts and validate it appropriately.\n",
       "- **Plan for versioning:** It’s a good idea to include versioning (e.g., `/api/v1/resource`), especially if you expect future changes.\n",
       "\n",
       "---\n",
       "\n",
       "### 5. Implement Authentication and Authorization\n",
       "\n",
       "- **Authentication:** Protect your endpoints using methods like JSON Web Tokens (JWT), OAuth2, or API keys.\n",
       "- **Authorization:** Define roles and permissions to control access to various resources and operations.\n",
       "\n",
       "---\n",
       "\n",
       "### 6. Error Handling and Response Formatting\n",
       "\n",
       "- **Standardize responses:** Define a consistent format for success and error messages (JSON is common).\n",
       "- **Error handling:** Capture exceptions and return meaningful HTTP status codes with descriptive error messages.\n",
       "- **Logging:** Implement logging to help with debugging and monitoring production issues.\n",
       "\n",
       "---\n",
       "\n",
       "### 7. Documentation\n",
       "\n",
       "- **Automated documentation tools:**\n",
       "  - **Swagger/OpenAPI:** Many frameworks (like Flask with Flask-Swagger or FastAPI with built-in docs) support automated API documentation.\n",
       "- **Write clear documentation:** Explain endpoint usage, expected input/output, authentication methods, and error response formats.\n",
       "- **Consider API testing tools:** Tools like Postman for manual and automated testing can be very helpful.\n",
       "\n",
       "---\n",
       "\n",
       "### 8. Testing\n",
       "\n",
       "- **Unit tests:** Write tests for your logic and endpoints.\n",
       "- **Integration tests:** Ensure your API works well with external services (like a database).\n",
       "- **Use frameworks/tools:** Libraries such as pytest or unittest in Python are useful for automation.\n",
       "\n",
       "---\n",
       "\n",
       "### 9. Deployment and Monitoring\n",
       "\n",
       "- **Decide on a hosting strategy:**\n",
       "  - Use a Platform-as-a-Service (PaaS) like Heroku, AWS Elastic Beanstalk, or containerize with Docker.\n",
       "- **CI/CD pipelines:** Automate your testing and deployment processes.\n",
       "- **Monitoring:** Integrate performance monitoring and logging (e.g., using tools like Prometheus, Grafana, or cloud provider solutions).\n",
       "\n",
       "---\n",
       "\n",
       "### 10. Iterate and Improve\n",
       "\n",
       "- **Collect feedback:** After deployment, collect and analyze metrics, errors, and user feedback.\n",
       "- **Update and maintain:** Plan on iteratively improving features, fixing issues, and expanding your API based on requirements.\n",
       "\n",
       "---\n",
       "\n",
       "### Example: A Simple Flask API\n",
       "\n",
       "Below is a small example of how you might structure an API using Flask:\n",
       "\n",
       "```python\n",
       "from flask import Flask, jsonify, request\n",
       "\n",
       "app = Flask(__name__)\n",
       "\n",
       "# In-memory \"database\"\n",
       "users = []\n",
       "\n",
       "@app.route('/api/v1/users', methods=['GET'])\n",
       "def get_users():\n",
       "    return jsonify(users), 200\n",
       "\n",
       "@app.route('/api/v1/users', methods=['POST'])\n",
       "def create_user():\n",
       "    data = request.get_json()\n",
       "    if not data or 'name' not in data:\n",
       "        return jsonify({\"error\": \"Invalid input\"}), 400\n",
       "    new_user = {'id': len(users) + 1, 'name': data['name']}\n",
       "    users.append(new_user)\n",
       "    return jsonify(new_user), 201\n",
       "\n",
       "@app.route('/api/v1/users/<int:user_id>', methods=['GET'])\n",
       "def get_user(user_id):\n",
       "    user = next((user for user in users if user['id'] == user_id), None)\n",
       "    if user:\n",
       "        return jsonify(user), 200\n",
       "    else:\n",
       "        return jsonify({\"error\": \"User not found\"}), 404\n",
       "\n",
       "if __name__ == '__main__':\n",
       "    app.run(debug=True)\n",
       "```\n",
       "\n",
       "This simple API demonstrates basic endpoint creation, input validation, and formatted responses.\n",
       "\n",
       "---\n",
       "\n",
       "By following these steps, you'll build a solid foundation for your first Python API. Tailor the approach to your project's needs, and remember that good planning and iterative development are key to success. Happy coding!"
      ],
      "text/plain": [
       "<IPython.core.display.Markdown object>"
      ]
     },
     "metadata": {},
     "output_type": "display_data"
    }
   ],
   "source": [
    "display(Markdown(resp.choices[0].message.content))"
   ]
  },
  {
   "cell_type": "markdown",
   "id": "ff4eb947-d7c3-4944-88c1-5f69ab95429c",
   "metadata": {},
   "source": [
    "### Legal example"
   ]
  },
  {
   "cell_type": "code",
   "execution_count": 20,
   "id": "7db16fdb-3bf2-47bc-ba6f-90fa659a02c9",
   "metadata": {},
   "outputs": [
    {
     "name": "stdout",
     "output_type": "stream",
     "text": [
      "Below is a sample draft of a Real Estate Purchase Agreement incorporating the essential points you provided. Of course, please review and modify any language as necessary for your jurisdiction, client needs, and any additional terms you wish to include. This draft is for discussion purposes only and should not be relied on as final without proper due diligence and any necessary local legal modifications.\n",
      "\n",
      "─────────────────────────────  \n",
      "REAL ESTATE PURCHASE AGREEMENT\n",
      "\n",
      "This Real Estate Purchase Agreement (“Agreement”) is entered into as of __________________ (“Effective Date”), by and between John Smith and Jane Smith (collectively “Seller”) and Sophie Martin (“Buyer”). Seller and Buyer are sometimes herein individually referred to as a “Party” and collectively as the “Parties.”\n",
      "\n",
      "WHEREAS, Seller is the owner of certain real property located at 1500 Diagonal Road, Contoso City, California (the “Property”); and\n",
      "\n",
      "WHEREAS, Buyer desires to purchase the Property from Seller upon the terms and conditions set forth herein, and Seller desires to sell the Property to Buyer;\n",
      "\n",
      "NOW, THEREFORE, in consideration of the mutual promises and covenants contained herein, the Parties agree as follows:\n",
      "\n",
      "1. Purchase Price and Payment Terms  \n",
      " 1.1 The total purchase price for the Property shall be Seven Hundred Ten Thousand Dollars ($710,000) (“Purchase Price”).  \n",
      " 1.2 Buyer shall deliver an earnest money deposit in the amount of Five Thousand Dollars ($5,000) (“Earnest Money”), which shall be held in escrow by an escrow agent mutually agreed upon by the Parties.  \n",
      " 1.3 The balance of the Purchase Price, in the amount of Seven Hundred Five Thousand Dollars ($705,000), shall be paid by Buyer at Closing (as defined below) in immediately available funds.\n",
      "\n",
      "2. Earnest Money  \n",
      " 2.1 Buyer shall deposit the Earnest Money with the escrow agent within __________ days of the Effective Date.  \n",
      " 2.2 The Earnest Money shall be applied toward the Purchase Price at Closing.  \n",
      " 2.3 In the event of Buyer’s default under this Agreement (except as provided in the Inspection Contingency below), the Earnest Money shall be forfeited to Seller as liquidated damages.\n",
      "\n",
      "3. Inspection Contingency  \n",
      " 3.1 Buyer shall have the right to conduct any and all inspections and due diligence reviews of the Property (“Inspection Period”), which shall commence on the Effective Date and continue for __________ days.  \n",
      " 3.2 If, during the Inspection Period, Buyer discovers any material defects or unsatisfactory conditions in the Property, Buyer may, at Buyer’s sole discretion, (a) request that Seller make repairs or otherwise cure such defects, or (b) terminate this Agreement by delivering written notice to Seller prior to expiration of the Inspection Period.  \n",
      " 3.3 In the event Buyer elects to terminate this Agreement pursuant to this Section, the Earnest Money shall be returned to Buyer, and neither Party shall have any further obligation hereunder.\n",
      "\n",
      "4. Closing  \n",
      " 4.1 The closing of the purchase and sale of the Property (“Closing”) shall occur on or before sixty (60) days from the Effective Date, at a time and location as mutually agreed upon by the Parties.  \n",
      " 4.2 At Closing, Seller shall deliver to Buyer a duly executed and acknowledged deed (in the form acceptable to Buyer) conveying fee simple title to the Property, free and clear of all liens and encumbrances except those expressly agreed to herein.  \n",
      " 4.3 Possession of the Property shall be delivered to Buyer at Closing.\n",
      "\n",
      "5. Title and Conveyance  \n",
      " 5.1 Seller shall furnish, at or prior to Closing, evidence of marketable title in a form reasonably acceptable to Buyer, together with any title policies and endorsements reasonably required by Buyer.  \n",
      " 5.2 The conveyance of the Property shall be by warranty deed (or other deed mutually acceptable to the Parties).\n",
      "\n",
      "6. No Financing Contingency  \n",
      " 6.1 Buyer acknowledges that this Agreement is not contingent upon Buyer obtaining any financing. Buyer shall secure all funds necessary to complete the purchase independently of this Agreement.\n",
      "\n",
      "7. Representations and Warranties  \n",
      " 7.1 Seller represents and warrants to Buyer that:  \n",
      "  (a) Seller is the lawful owner of the Property with full authority to convey title;  \n",
      "  (b) there are no undisclosed liens, encumbrances, or defects in title affecting the Property, except as disclosed in writing to Buyer; and  \n",
      "  (c) to Seller’s knowledge, the Property complies with all applicable laws and regulations.  \n",
      " 7.2 Buyer represents and warrants that Buyer has had an opportunity to conduct its own due diligence regarding the Property and is relying solely on Buyer’s independent investigation and judgment.\n",
      "\n",
      "8. Default and Remedies  \n",
      " 8.1 If Buyer fails to perform any of Buyer’s obligations under this Agreement (other than termination pursuant to Section 3), Seller may, at its option, declare Buyer in default and retain the Earnest Money as liquidated damages, without prejudice to any other rights or remedies available at law or in equity.  \n",
      " 8.2 If Seller defaults in the performance of any material obligation under this Agreement, Buyer may seek specific performance or any other remedy available at law or in equity.\n",
      "\n",
      "9. Miscellaneous Provisions  \n",
      " 9.1 Entire Agreement. This Agreement, including any exhibits or addenda attached hereto, constitutes the entire agreement between the Parties regarding the subject matter hereof and supersedes all prior discussions, negotiations, and agreements.  \n",
      " 9.2 Amendments. Any amendment or modification of this Agreement must be in writing and signed by both Parties.  \n",
      " 9.3 Governing Law. This Agreement shall be governed by and construed in accordance with the laws of the State of California.  \n",
      " 9.4 Binding Effect. This Agreement shall inure to the benefit of and be binding upon the Parties and their respective heirs, successors, and assigns.  \n",
      " 9.5 Notices. Any notice required or permitted under this Agreement shall be in writing and shall be deemed given when delivered personally or sent by certified mail, return receipt requested, to the addresses provided by the Parties.  \n",
      " 9.6 Counterparts. This Agreement may be executed in one or more counterparts, each of which shall be deemed an original and all of which together shall constitute one and the same instrument.\n",
      "\n",
      "IN WITNESS WHEREOF, the Parties have executed this Agreement as of the Effective Date first written above.\n",
      "\n",
      "  _____________________________________  \n",
      "  John Smith, Seller\n",
      "\n",
      "  _____________________________________  \n",
      "  Jane Smith, Seller\n",
      "\n",
      "  _____________________________________  \n",
      "  Sophie Martin, Buyer\n",
      "\n",
      "Date: ___________________________\n",
      "\n",
      "─────────────────────────────\n",
      "\n",
      "Note: It is recommended that both parties seek independent legal counsel to review and finalize this Agreement prior to execution.\n"
     ]
    }
   ],
   "source": [
    "prompt = \"\"\"\n",
    "You are an expert lawyer. So am I.\n",
    "We are working on a document that will allow Sophie Martin to purchase a property for $710,000.\n",
    "The property is located at 1500 Diagonal Road, Contoso City, California.\n",
    "The sellers are John and Jane Smith. Sophie Martin will pay $5,000 in earnest money, and wants the right to conduct an inspection.\n",
    "The parties should close within 60 days. This sale is not contingent on financing.\n",
    "\n",
    "Could you help me draft the document?\n",
    "\"\"\"\n",
    "\n",
    "resp = o3mini(prompt, reasoning_effort = 'high')\n",
    "print(resp.choices[0].message.content)"
   ]
  },
  {
   "cell_type": "markdown",
   "id": "5f0de25f-bbb1-41a9-8bde-a7cccaecdb4e",
   "metadata": {},
   "source": [
    "### Physic example"
   ]
  },
  {
   "cell_type": "code",
   "execution_count": 21,
   "id": "d8cdf507-2033-41e1-b6a1-dfbda6046c8e",
   "metadata": {},
   "outputs": [
    {
     "name": "stdout",
     "output_type": "stream",
     "text": [
      "Let the first ball (A) be thrown upward from y = 0 with initial speed v and let the second ball (B) be dropped from rest from y = 12.0 m. Assume the downward acceleration is g.\n",
      "\n",
      "The equations of motion for the balls are:\n",
      "\n",
      " Ball A: y_A(t) = v·t – ½·g·t²  \n",
      " Ball B: y_B(t) = 12.0 – ½·g·t²\n",
      "\n",
      "They will collide when y_A(t) = y_B(t):\n",
      "\n",
      " v·t – ½·g·t² = 12.0 – ½·g·t²\n",
      "\n",
      "Notice the –½·g·t² terms cancel, leaving\n",
      "\n",
      " v·t = 12.0  ⇒ t = 12.0/v\n",
      "\n",
      "Now, ball A returns to its starting height (y = 0) when\n",
      "\n",
      " v·t – ½·g·t² = 0  \n",
      " ⇒ t(v – ½·g·t) = 0\n",
      "\n",
      "Aside from the trivial t = 0, we have\n",
      "\n",
      " v – ½·g·t = 0  ⇒ t = 2v/g\n",
      "\n",
      "For the first ball not to hit the second ball before returning to its starting point, any collision must occur no earlier than the moment ball A returns to y = 0. That is, the collision time must satisfy\n",
      "\n",
      " 12.0/v ≥ 2v/g\n",
      "\n",
      "Rearrange the inequality:\n",
      "\n",
      " 12.0/v ≥ 2v/g  \n",
      " ⇒ 12.0·g ≥ 2v²  (multiplying both sides by v and then by g)  \n",
      " ⇒ v² ≤ (12.0·g)/2  \n",
      " ⇒ v² ≤ 6g  \n",
      " ⇒ v ≤ √(6g)\n",
      "\n",
      "Thus the maximum speed v_max at which ball A can be thrown is\n",
      "\n",
      " v_max = √(6g)\n",
      "\n",
      "Taking g ≈ 9.8 m/s²,\n",
      "\n",
      " v_max = √(6 × 9.8) ≈ √58.8 ≈ 7.67 m/s\n",
      "\n",
      "When v = √(6g), the collision time is exactly\n",
      "\n",
      " t = 12.0/v = 12.0/√(6g)\n",
      "\n",
      "and ball A returns to y = 0 at\n",
      "\n",
      " t = 2v/g = 2√(6g)/g\n",
      "\n",
      "A quick check shows these two times are equal (since 12/√(6g) = 2√(6)/√g = 2√(6g)/g), meaning that in the borderline case the balls would meet exactly when ball A reaches its starting height.\n",
      "\n",
      "Therefore, the maximum speed at which the first ball can be thrown in order to avoid colliding with the second ball before it returns to its starting height is about 7.67 m/s.\n"
     ]
    }
   ],
   "source": [
    "prompt = \"\"\" \n",
    "A ball is thrown vertically upward at the same instant that a second ball is dropped from rest directly above it.\n",
    "The two balls are 12.0 meters apart when they start their motion.\n",
    "\n",
    "Find the maximum speed at which the first ball can be throw such that it doesn't collide with the second ball before it returns to its starting height. Treat the balls as being very small (i.e. ignore their diameters).\n",
    "\"\"\"\n",
    "\n",
    "resp = o3mini(prompt, reasoning_effort = 'high')\n",
    "print(resp.choices[0].message.content)"
   ]
  },
  {
   "cell_type": "markdown",
   "id": "4ced357d-9d20-4684-b595-6d8dbe3ed4aa",
   "metadata": {},
   "source": [
    "### Math example"
   ]
  },
  {
   "cell_type": "code",
   "execution_count": 22,
   "id": "71206c76-cc69-40c3-aa06-7e75fc2f157b",
   "metadata": {},
   "outputs": [
    {
     "name": "stdout",
     "output_type": "stream",
     "text": [
      "We can prove the Pythagorean theorem—the statement that in a right-angled triangle with legs of lengths a and b and hypotenuse of length c the relation a² + b² = c² holds—using an elegant geometric construction. One of the classic proofs involves rearranging copies of the triangle inside a large square. Here’s the step‐by‐step geometric proof:\n",
      "\n",
      "1. Begin with a right triangle whose legs have lengths a and b and whose hypotenuse has length c.\n",
      "\n",
      "2. Construct a large square whose side length is (a + b). Thus, the area of this square is (a + b)².\n",
      "\n",
      "3. Inside this large square, arrange four identical copies of the right triangle in such a way that:\n",
      "  • The hypotenuses of the triangles form the boundary of a smaller, rotated square in the center.\n",
      "  • The legs a and b of each triangle are placed along the sides of the large square.\n",
      "\n",
      "  A diagram of the arrangement would show:\n",
      "   – The four triangles placed with their right angles at the corners of the large square.\n",
      "   – A smaller, central square whose sides are all the length of c (the hypotenuse of the triangles).\n",
      "\n",
      "4. Compute the area of the large square in two different ways:\n",
      "  a. Directly, the area is (a + b)².\n",
      "  b. Alternatively, the area can be thought of as the sum of the areas of the four triangles plus the area of the inner square. Each triangle has area ½·a·b, so four triangles have a combined area of 4 × (½·a·b) = 2ab. The small central square has area c². Therefore, the total area is:\n",
      "    Area = 2ab + c².\n",
      "\n",
      "5. Since both expressions represent the area of the same large square, set them equal:\n",
      "  (a + b)² = 2ab + c²\n",
      "\n",
      "6. Now, expand the left-hand side:\n",
      "  a² + 2ab + b² = 2ab + c²\n",
      "\n",
      "7. Subtract 2ab from both sides:\n",
      "  a² + b² = c²\n",
      "\n",
      "This completes the geometric proof of the Pythagorean theorem.\n",
      "\n",
      "An alternative geometric approach uses similar triangles by dropping an altitude from the right angle to the hypotenuse and establishing proportional relationships, but the rearrangement proof above is particularly visual and intuitive.\n"
     ]
    }
   ],
   "source": [
    "prompt = \"Prove the Pythagorean theorem using a geometric approach.\"\n",
    "\n",
    "resp = o3mini(prompt, reasoning_effort = 'high')\n",
    "print(resp.choices[0].message.content)"
   ]
  },
  {
   "cell_type": "markdown",
   "id": "81203eca-aa2b-46b3-8dfc-29668f4a14bb",
   "metadata": {},
   "source": [
    "### Programming example"
   ]
  },
  {
   "cell_type": "code",
   "execution_count": 23,
   "id": "ecd43581-b8b2-4ea1-a210-a41dc2f298a1",
   "metadata": {},
   "outputs": [
    {
     "data": {
      "text/markdown": [
       "Below is one complete solution. You can run this code (after installing pygame with pip install pygame) to see a little ball (a circle) bouncing inside a continuously rotating hexagon. In this example the ball is accelerated downward by “gravity” and its collisions with each moving hexagon wall use a restitution (bounciness) and friction coefficient so that the bounce is not perfectly elastic. (You may tweak the constants to change the “feel” of the simulation.)\n",
       "\n",
       "Note that this solution uses pygame’s Vector2 class to do 2D math easily and performs, at each frame, the following steps:\n",
       "  • Update the ball’s velocity and position (adding gravity).\n",
       "  • Update the hexagon’s rotation.\n",
       "  • Compute the hexagon’s vertices (as a regular hexagon rotating about its center).\n",
       "  • For each hexagon edge, check for collision with the ball (by finding the closest point on the edge to the ball center). If the ball overlaps the wall, compute the collision’s normal, determine the wall’s velocity (due to the hexagon’s rotation) at the collision point, and update the ball’s velocity using an impulse that reverses the relative normal component (multiplied by a “restitution” constant) and damps the tangential component (to simulate friction). The ball’s position is then repositioned to lie exactly on the inside of the wall.\n",
       "  • Finally, draw the hexagon and the ball.\n",
       "\n",
       "Copy and paste the following code into a Python file (for example bouncing_hexagon.py) and run it.\n",
       "\n",
       "────────────────────────────\n",
       "#!/usr/bin/env python3\n",
       "\"\"\"\n",
       "Bouncing ball inside a spinning hexagon.\n",
       "\n",
       "The ball is simulated with gravity and the collisions with the rotating hexagon\n",
       "walls use both restitution (bounciness) and friction (which damps the sliding speed)\n",
       "so that the ball bounces realistically off a wall that is moving due to the hexagon’s rotation.\n",
       "\"\"\"\n",
       "\n",
       "import sys, math, pygame\n",
       "from pygame.math import Vector2\n",
       "\n",
       "# Screen parameters\n",
       "SCREEN_WIDTH = 800\n",
       "SCREEN_HEIGHT = 600\n",
       "\n",
       "# Colors (RGB)\n",
       "BLACK   = (0, 0, 0)\n",
       "WHITE   = (255, 255, 255)\n",
       "RED     = (255, 0, 0)\n",
       "BLUE    = (50, 50, 255)\n",
       "\n",
       "# Physics constants\n",
       "GRAVITY = 800            # pixels per second^2\n",
       "AIR_FRICTION = 0.999     # slight air resistance (multiplies ball velocity each frame)\n",
       "RESTIUTION = 0.9         # how bouncy the collision is (0 = no bounce, 1 = perfectly elastic)\n",
       "WALL_FRICTION = 0.8      # friction factor on the tangential component at a collision\n",
       "\n",
       "# Ball properties\n",
       "BALL_RADIUS = 10\n",
       "# Start a little away from center so gravity immediately has an effect.\n",
       "ball_pos = Vector2(SCREEN_WIDTH/2, SCREEN_HEIGHT/2 - 150)\n",
       "ball_vel = Vector2(200, 0)   # initial velocity (in pixels/sec)\n",
       "\n",
       "# Hexagon (container) properties\n",
       "HEX_CENTER = Vector2(SCREEN_WIDTH/2, SCREEN_HEIGHT/2)\n",
       "HEX_RADIUS = 200\n",
       "hex_angle = 0              # current rotation angle (radians)\n",
       "HEX_ANGULAR_VELOCITY = math.radians(45)   # angular speed in radians per second\n",
       "\n",
       "def get_hexagon_vertices(center, radius, angle):\n",
       "    \"\"\"Return a list of 6 vertices for a regular hexagon rotated by the given angle.\n",
       "       ‘angle’ rotates the entire hexagon (in radians).\"\"\"\n",
       "    vertices = []\n",
       "    for i in range(6):\n",
       "        theta = angle + i * (2 * math.pi / 6)\n",
       "        vertex = center + Vector2(math.cos(theta), math.sin(theta)) * radius\n",
       "        vertices.append(vertex)\n",
       "    return vertices\n",
       "\n",
       "def closest_point_on_segment(A, B, P):\n",
       "    \"\"\"Return the point on line segment AB that is closest to P.\"\"\"\n",
       "    AB = B - A\n",
       "    if AB.length_squared() == 0:\n",
       "        return A\n",
       "    t = (P - A).dot(AB) / AB.length_squared()\n",
       "    t = max(0, min(1, t))\n",
       "    return A + AB * t\n",
       "\n",
       "def run():\n",
       "    pygame.init()\n",
       "    screen = pygame.display.set_mode((SCREEN_WIDTH, SCREEN_HEIGHT))\n",
       "    pygame.display.set_caption(\"Bouncing Ball in a Spinning Hexagon\")\n",
       "    clock = pygame.time.Clock()\n",
       "\n",
       "    global ball_pos, ball_vel, hex_angle\n",
       "\n",
       "    running = True\n",
       "    while running:\n",
       "        # Calculate the timestep (in seconds)\n",
       "        dt = clock.tick(60) / 1000\n",
       "        \n",
       "        # --- Event Handling ---\n",
       "        for event in pygame.event.get():\n",
       "            if event.type == pygame.QUIT:\n",
       "                running = False\n",
       "            # (Press ESC to quit as well)\n",
       "            if event.type == pygame.KEYDOWN and event.key == pygame.K_ESCAPE:\n",
       "                running = False\n",
       "\n",
       "        # --- Physics update for the ball ---\n",
       "        # Apply gravity\n",
       "        ball_vel.y += GRAVITY * dt\n",
       "        # Apply a tiny air friction\n",
       "        ball_vel *= AIR_FRICTION\n",
       "        # Update ball position\n",
       "        ball_pos += ball_vel * dt\n",
       "\n",
       "        # --- Update the hexagon ---\n",
       "        hex_angle += HEX_ANGULAR_VELOCITY * dt\n",
       "        vertices = get_hexagon_vertices(HEX_CENTER, HEX_RADIUS, hex_angle)\n",
       "        \n",
       "        # --- Collision Detection and Resolution ---\n",
       "        # For each edge of the hexagon:\n",
       "        for i in range(len(vertices)):\n",
       "            A = vertices[i]\n",
       "            B = vertices[(i+1) % len(vertices)]\n",
       "            # Find the closest point on edge AB to the ball center\n",
       "            closest = closest_point_on_segment(A, B, ball_pos)\n",
       "            # Distance from ball center to this closest point\n",
       "            distance = (ball_pos - closest).length()\n",
       "            if distance < BALL_RADIUS:\n",
       "                # There is penetration.\n",
       "                penetration = BALL_RADIUS - distance\n",
       "                # Compute the collision normal.\n",
       "                if distance != 0:\n",
       "                    normal = (ball_pos - closest).normalize()\n",
       "                else:\n",
       "                    # If ball center lies exactly on the edge, choose an arbitrary normal.\n",
       "                    normal = Vector2(1, 0)\n",
       "                \n",
       "                # Calculate the velocity at the wall.\n",
       "                # Since the hexagon rotates about HEX_CENTER, the velocity at any point Q on the edge is\n",
       "                # given by: v_wall = ω × (Q - center)\n",
       "                rel_vec = closest - HEX_CENTER\n",
       "                # In 2D, the cross product with scalar omega gives:\n",
       "                wall_velocity = HEX_ANGULAR_VELOCITY * Vector2(-rel_vec.y, rel_vec.x)\n",
       "                \n",
       "                # Compute the relative velocity (ball relative to the moving wall)\n",
       "                rel_velocity = ball_vel - wall_velocity\n",
       "                # Only resolve if the ball is heading toward the wall.\n",
       "                if rel_velocity.dot(normal) < 0:\n",
       "                    # Decompose the relative velocity into normal and tangential components.\n",
       "                    vel_normal = rel_velocity.dot(normal)\n",
       "                    tangent = rel_velocity - vel_normal * normal\n",
       "                    # Reverse the normal component (with restitution) and reduce the tangent component (friction) \n",
       "                    new_rel_velocity = (-RESTIUTION * vel_normal) * normal + WALL_FRICTION * tangent\n",
       "                    # Bring back the wall's velocity to get the ball’s new total velocity.\n",
       "                    ball_vel = new_rel_velocity + wall_velocity\n",
       "                \n",
       "                # Reposition the ball so that it is just in contact with the wall.\n",
       "                ball_pos = closest + normal * BALL_RADIUS\n",
       "        \n",
       "        # --- Drawing ---\n",
       "        screen.fill(BLACK)\n",
       "        # Draw hexagon (drawn with a white outline)\n",
       "        hex_points = [(v.x, v.y) for v in vertices]\n",
       "        pygame.draw.polygon(screen, WHITE, hex_points, width=2)\n",
       "        # Draw ball (as a blue circle with a red outline)\n",
       "        pygame.draw.circle(screen, BLUE, (int(ball_pos.x), int(ball_pos.y)), BALL_RADIUS)\n",
       "        pygame.draw.circle(screen, RED, (int(ball_pos.x), int(ball_pos.y)), BALL_RADIUS, width=1)\n",
       "        \n",
       "        pygame.display.flip()\n",
       "\n",
       "    pygame.quit()\n",
       "    sys.exit()\n",
       "\n",
       "if __name__ == '__main__':\n",
       "    run()\n",
       "\n",
       "────────────────────────────\n",
       "How the code works:\n",
       "\n",
       "1. The hexagon’s six vertices are computed using a helper function get_hexagon_vertices() based on a center, a fixed radius, and a rotation angle. The hexagon spins continuously by updating the angle each frame.\n",
       "\n",
       "2. For each edge (line segment) of the hexagon, we test if the ball (a circle) is overlapping that edge. The function closest_point_on_segment() computes the point on the edge nearest to the ball center. If the distance from that point to the ball center is less than the ball’s radius, we have a collision.\n",
       "\n",
       "3. In the event of a collision we determine:\n",
       "  – the collision normal (pointing from the wall into the ball),\n",
       "  – the wall’s velocity at the contact point (due to the rotation),\n",
       "  – the relative velocity of the ball with respect to the moving wall.\n",
       "Then if the ball is moving into the wall (relative velocity along the normal is negative) we “reflect” the normal component (scaled by a restitution coefficient) and damp the tangential component (with WALL_FRICTION).\n",
       "\n",
       "4. The ball is then repositioned so that it is set exactly at a distance equal to its radius from the wall. \n",
       "\n",
       "Run the program to observe a blue ball bouncing inside a spinning hexagon with gravity pulling it downward and collisions that look realistically affected by both bounce and friction. Enjoy tweaking the parameters and understanding the physics!\n",
       "\n",
       "Happy coding!"
      ],
      "text/plain": [
       "<IPython.core.display.Markdown object>"
      ]
     },
     "metadata": {},
     "output_type": "display_data"
    }
   ],
   "source": [
    "prompt = \"Write a Python program that shows a ball bouncing inside a spinning hexagon. The ball should be affected by gravity and friction, and it must bounce off the rotating walls realistically\"\n",
    "\n",
    "resp = o3mini(prompt, reasoning_effort = 'high')\n",
    "display(Markdown(resp.choices[0].message.content))"
   ]
  },
  {
   "cell_type": "markdown",
   "id": "6996bd0c-2a82-4b29-ae35-1a69d10b5a3c",
   "metadata": {},
   "source": [
    "### Others examples"
   ]
  },
  {
   "cell_type": "code",
   "execution_count": 24,
   "id": "4af580d3-a92f-4d99-be7a-0e400d950339",
   "metadata": {},
   "outputs": [
    {
     "name": "stdout",
     "output_type": "stream",
     "text": [
      "The French Revolution (1789–1799) was a watershed event in world history, marked by dramatic shifts in power, society, and ideas. Its causes and effects were multifaceted, involving long-standing structural weaknesses in the French state as well as sweeping intellectual and economic changes. Below is an analysis that examines its major causes and effects.\n",
      "\n",
      "──────────────────────────────\n",
      "1. Causes of the French Revolution\n",
      "\n",
      "A. Political Causes  \n",
      "• Absolute Monarchy and Centralized Power: For centuries, France had been governed by an absolute monarchy. Kings like Louis XVI ruled with little accountability, and the centralization of power bred discontent. As the government failed to meet the needs of its subjects, legitimacy began to wane.  \n",
      "• Institutional Inflexibility: The inability of the monarchy and its institutions to adapt to economic and social pressures contributed to a sense of political crisis. Reforms proposed by enlightened advisers were either half-hearted or blocked by entrenched interests, leaving the political structure brittle.\n",
      "\n",
      "B. Social Causes  \n",
      "• Estate System and Inequality: Society was sharply divided into three estates— the clergy (First Estate), the nobility (Second Estate), and everyone else (Third Estate). Although the Third Estate formed the vast majority of the population, it was heavily taxed and had little political influence. This inequality, with burdens placed unfairly on commoners, generated simmering resentment.  \n",
      "• Feudal Privileges: The remnants of feudal structures meant that certain classes enjoyed privileges passed down by tradition, while ordinary people suffered under outdated customs. The erosion of this system became a rallying cry for sweeping change.\n",
      "\n",
      "C. Economic Causes  \n",
      "• Financial Crisis and Debt: Years of war (including costly involvement in the American Revolution) and extravagant spending at court left France deeply in debt. With inefficient tax systems that largely exempted the privileged estates, the burden of taxation fell on the already struggling Third Estate.  \n",
      "• Poor Harvests and Rising Bread Prices: Economic hardship was compounded by several poor harvests in the 1780s that led to food shortages and skyrocketing bread prices. Hunger and poverty turned economic frustration into outright revolt.\n",
      "\n",
      "D. Intellectual and Ideological Causes  \n",
      "• Enlightenment Ideas: Enlightenment thinkers such as Voltaire, Rousseau, and Montesquieu criticized absolute authority and feudal privileges while promoting ideas of liberty, equality, and fraternity. These ideas resonated with many, undermining traditional structures of power and paving the way for demands for political reform.  \n",
      "• Demand for Representation: The call for a government that was more representative and accountable was also rooted in these intellectual currents. The convening of the Estates-General in 1789 eventually led to the formation of the National Assembly by the Third Estate, symbolizing a break from the old order.\n",
      "\n",
      "E. Immediate Triggers  \n",
      "• The Estates-General and National Assembly: In response to the financial crisis, King Louis XVI called the Estates-General in May 1789. However, disputes over voting procedures (by estate rather than by head) led to the Third Estate declaring itself the National Assembly, asserting that it represented the true voice of France.  \n",
      "• Symbolic Acts: Events like the Tennis Court Oath, in which members of the National Assembly vowed not to disband until a new constitution was established, and the storming of the Bastille on July 14, 1789, became potent symbols of rebellion and the fight against tyranny.\n",
      "\n",
      "──────────────────────────────\n",
      "2. Effects of the French Revolution\n",
      "\n",
      "A. Political Effects  \n",
      "• End of Absolute Monarchy and Rise of Republic Ideals: One of the most immediate consequences was the dismantling of the absolute monarchy. The revolution led first to a constitutional monarchy and later to the establishment of a republic. Although the early phases were marked by internal power struggles, the drive toward a government based on popular sovereignty was clear.  \n",
      "• Declaration of the Rights of Man and of the Citizen: This seminal document, adopted in 1789, proclaimed the universal rights of citizens and laid the groundwork for modern democratic ideals by asserting principles like equality, freedom, and the right to participation in government.  \n",
      "• Rise of Revolutionary Extremism and Napoleon: The internal divisions and intense political battles, exemplified during the Reign of Terror (1793–1794), highlighted the challenges of transitioning from old regimes. Political instability eventually paved the way for Napoleon Bonaparte to seize power in 1799, leading to a different kind of authoritarian rule that nonetheless spread many revolutionary reforms across Europe.\n",
      "\n",
      "B. Social Effects  \n",
      "• Abolition of Feudalism: The revolution dismantled many feudal practices and privileges. This not only leveled the social playing field but also allowed for more merit-based advancement, changing the nature of social mobility in France.  \n",
      "• Transformation of Church-State Relations: The revolution reduced the power and wealth of the Catholic Church by nationalizing church lands and reducing its influence over state affairs. A move toward secularism in governance and education was established.  \n",
      "• Redefinition of Citizenship and Community: The idea that all citizens were equal before the law reshaped social identities and contributed to a modern sense of nationhood. The revolutionary call for participation in civic life empowered previously marginalized groups, even if full equality was slow to materialize.\n",
      "\n",
      "C. Economic Effects  \n",
      "• Financial Reforms and Reorganization: In the wake of the revolution, traditional economic structures were overhauled. The nationalization of Church lands and a more equitable taxation system were steps toward modernizing the French economy.  \n",
      "• Short-term Disruption vs. Long-term Modernization: While the immediate aftermath saw bouts of economic chaos, hyperinflation, and warfare, the structural reforms helped pave the way for a more capitalist, dynamic economy in the 19th century.\n",
      "\n",
      "D. International Effects  \n",
      "• Inspiration for Global Movements: The French Revolution had a profound impact beyond France’s borders. Its ideas rapidly spread throughout Europe and the Americas, inspiring subsequent movements for reform, democracy, and national liberation.  \n",
      "• Redrawing of the European Political Map: The revolutionary wars and later Napoleonic campaigns led to significant geopolitical changes, challenging the old monarchical and feudal systems that had dominated Europe for centuries. Moreover, the revolution spurred debates about nationalism, liberalism, and conservatism that continued to influence European politics well into the modern era.\n",
      "\n",
      "──────────────────────────────\n",
      "Conclusion\n",
      "\n",
      "In summary, the French Revolution was not the result of a single event but rather a convergence of long-term structural issues and immediate crises. Political inflexibility, social inequality, economic hardship, and enlightenment ideas combined to create a situation ripe for dramatic change. The revolution dramatically altered the structure of French society by abolishing the old regimes of monarchy and feudal privilege, introducing ideals of liberty and equality, and reshaping both national and international political thought. Its legacy continues to influence modern democratic systems and the global discourse on human rights and social justice.\n"
     ]
    }
   ],
   "source": [
    "prompt = \"Analyze the causes and effects of the French Revolution.\"\n",
    "\n",
    "resp = o3mini(prompt, reasoning_effort = 'high')\n",
    "print(resp.choices[0].message.content)"
   ]
  },
  {
   "cell_type": "code",
   "execution_count": 25,
   "id": "7cfb0be9-2fc2-46b3-ba02-6d63e7cfe353",
   "metadata": {},
   "outputs": [
    {
     "name": "stdout",
     "output_type": "stream",
     "text": [
      "Below is a comprehensive integrated strategy that combines unified governance, robust security, multi-modal transit development, and sustainability to optimize urban transportation in a rapidly growing megacity.\n",
      "\n",
      "─────────────────────────────  \n",
      "1. OVERVIEW & OBJECTIVES\n",
      "\n",
      "The goal is to create a resilient, secure, and environmentally responsible transportation network that efficiently connects people across the megacity. The integrated strategy emphasizes:\n",
      "• A unified governance model that aligns the agendas of multiple agencies and stakeholders.  \n",
      "• State‑of‑the‑art security measures across physical and cyber domains.  \n",
      "• A seamless multi‑modal transit system that includes high‑capacity transit, last‑mile connectivity, and emerging mobility options.  \n",
      "• Sustainability through green technology, transportation electrification, and supportive land use planning.\n",
      "\n",
      "─────────────────────────────  \n",
      "2. UNIFIED GOVERNANCE & STAKEHOLDER ALIGNMENT\n",
      "\n",
      "A successful transformation requires centralized leadership paired with coordinated local and regional efforts:\n",
      "A. Establish a Megacity Transportation Authority (MTA)  \n",
      " • Create a statutory body responsible for overseeing planning, operations, and maintenance of all transportation modes.  \n",
      " • Empower the MTA with the authority to harmonize policies, budgets, and data across agencies (e.g., transit, law enforcement, emergency services, and cybersecurity units).  \n",
      "\n",
      "B. Form a Multi-Stakeholder Transportation Council  \n",
      " • Include representatives from city planners, law enforcement, IT security, public health, environmental agencies, private operators, and community organizations.  \n",
      " • Convene regular strategy sessions, stakeholder feedback forums, and cross‑agency task forces to ensure policies are integrated and dynamic.  \n",
      "\n",
      "C. Deploy a Centralized Command & Control Center  \n",
      " • Integrate real‑time data from traffic signals, surveillance cameras, transit vehicles, and environmental sensors into one platform.  \n",
      " • Use the center for incident management, adaptive transit operations, and coordinated security responses.\n",
      "\n",
      "─────────────────────────────  \n",
      "3. ROBUST SECURITY MEASURES\n",
      "\n",
      "Ensuring the security of both physical and digital infrastructure is critical to sustaining traveler confidence and preventing disruptions:\n",
      "A. Physical Security Enhancements  \n",
      " • Integrate smart surveillance systems (CCTV, sensors, and IoT devices) at transit hubs, stations, and critical corridors.  \n",
      " • Design infrastructure with built‑in safety features such as controlled access points, emergency communication systems, and resilient design standards.  \n",
      " • Train on‑site security personnel for proactive threat detection and rapid response.  \n",
      "\n",
      "B. Cybersecurity & Data Resilience  \n",
      " • Build a robust, encrypted, and redundantly designed IT backbone that connects all operational systems (tickets, schedule data, real‑time tracking, etc.).  \n",
      " • Use advanced intrusion detection systems and conduct regular risk assessments and penetration tests to protect against cyberattacks.  \n",
      " • Develop a cyber‑incident response plan with clear communication protocols between technology teams and operational leadership.  \n",
      "\n",
      "C. Emergency Preparedness Integration  \n",
      " • Run regular multi‑agency drills that simulate disruptions—from cyber intrusions to physical threats—ensuring coordinated, swift responses.  \n",
      " • Leverage the centralized command center to monitor threats and deploy resources rapidly during incidents.\n",
      "\n",
      "─────────────────────────────  \n",
      "4. MULTI‑MODAL TRANSIT NETWORK DESIGN\n",
      "\n",
      "A system that integrates various forms of transit encourages efficient travel, reduces congestion, and enhances the overall user experience:\n",
      "A. Seamless Integration of Multiple Transit Modes  \n",
      " • Develop high‑capacity transit corridors such as metro lines or light rail systems while integrating Bus Rapid Transit (BRT) lines to serve feeder routes.  \n",
      " • Establish dedicated cycling lanes, pedestrian zones, and micro‑mobility hubs to enhance last‑mile connectivity.  \n",
      " • Promote shared mobility services (car‑sharing, ride‑hailing, e‑scooters) by designing common access points at major transit interchanges.\n",
      "\n",
      "B. Unified Ticketing & Mobility as a Service (MaaS)  \n",
      " • Implement a unified payment system—via smartcards or mobile applications—that allows riders to seamlessly transfer between different transport modes.  \n",
      " • Provide multi‑modal journey planning tools that offer real‑time updates, integrated schedules, and route optimization based on current conditions.\n",
      "\n",
      "C. Transit‑Oriented Development (TOD)  \n",
      " • Encourage denser, mixed‑use developments near transit hubs to reduce travel distances and promote public transit usage.  \n",
      " • Create strategically placed hubs that incorporate retail, residential, and office spaces to ensure efficient land use and community accessibility.\n",
      "\n",
      "─────────────────────────────  \n",
      "5. SUSTAINABILITY & ENVIRONMENTAL RESPONSIBILITY\n",
      "\n",
      "The strategy integrates eco‑friendly practices to mitigate environmental impacts and enhance overall city livability:\n",
      "A. Electrification & Alternative Energy Adoption  \n",
      " • Convert transit fleets (buses, service vehicles) to electric or other low-emission alternatives, supported by strategically located renewable energy charging stations.  \n",
      " • Retrofit existing infrastructure with green technologies such as LED lighting, energy‑efficient HVAC systems in transit facilities, and solar panels where feasible.\n",
      "\n",
      "B. Green Infrastructure & Resource Management  \n",
      " • Integrate urban green spaces, tree‑lined corridors, and pedestrian zones in transit designs to enhance air quality and reduce urban heat island effects.  \n",
      " • Utilize smart grid technology and energy storage systems to efficiently manage energy flows and support renewable integration.\n",
      "\n",
      "C. Community & Environmental Impact Policies  \n",
      " • Incentivize developers and businesses to invest in green projects through tax credits or grants.  \n",
      " • Employ data analytics to monitor emissions, air quality, and traffic flows—supporting iterative adjustments to maintain environmental goals.\n",
      "\n",
      "─────────────────────────────  \n",
      "6. IMPLEMENTATION ROADMAP & MONITORING\n",
      "\n",
      "A phased, data‑driven approach ensures that the plan is adaptive and sustainable:\n",
      "A. Phase 1: Assessment & Pilot Projects  \n",
      " • Conduct a comprehensive audit of current urban mobility, infrastructure vulnerabilities, and environmental impact.  \n",
      " • Launch pilot projects (e.g., smart transit corridors, unified ticketing systems) to validate technical and operational concepts.  \n",
      "\n",
      "B. Phase 2: Scale-Up & Integration  \n",
      " • Expand successful pilots city‑wide while interlinking physical infrastructure upgrades with integrated IT platforms.  \n",
      " • Continue to refine physical and cybersecurity protocols based on pilot feedback and emerging threats.  \n",
      "\n",
      "C. Phase 3: Continuous Monitoring & Adaptive Management  \n",
      " • Use the centralized command and control center coupled with key performance indicators (KPIs) to continuously track system performance, security incidents, and environmental metrics.  \n",
      " • Implement agile review cycles to adjust policies, funding allocations, and operational tactics as needed.\n",
      "\n",
      "─────────────────────────────  \n",
      "7. CONCLUSION\n",
      "\n",
      "This integrated strategy creates a resilient urban transportation network that meets the challenges of rapid urban growth. By establishing unified governance, deploying robust security measures, creating an interconnected multi‑modal transit system, and embracing sustainability, the megacity can achieve efficient, safe, and environmentally friendly travel for all its residents. Cross‑sector collaboration, continuous technology upgrades, and community engagement will be essential in ensuring that the transportation network remains adaptive to future needs and emerging challenges.\n",
      "\n",
      "This plan can serve as a blueprint for transforming urban mobility, ensuring that the megacity not only meets today’s demands but is also poised for long‑term growth and sustainability.\n"
     ]
    }
   ],
   "source": [
    "prompt = \"\"\"\n",
    "Design an integrated strategy to optimize urban transportation in a rapidly growing megacity. \n",
    "Your plan should address the following aspects: security, unified governance, multi-modal transit, sustainability.\n",
    "\"\"\"\n",
    "\n",
    "resp = o3mini(prompt, reasoning_effort = 'high')\n",
    "print(resp.choices[0].message.content)"
   ]
  },
  {
   "cell_type": "code",
   "execution_count": null,
   "id": "f9ca9cd6-57cc-4187-941a-7c22c337241d",
   "metadata": {},
   "outputs": [],
   "source": []
  },
  {
   "cell_type": "code",
   "execution_count": null,
   "id": "28320457-60b5-4af0-bfcc-9aba939e2c22",
   "metadata": {},
   "outputs": [],
   "source": []
  }
 ],
 "metadata": {
  "kernelspec": {
   "display_name": "Python 3.10 - SDK v2",
   "language": "python",
   "name": "python310-sdkv2"
  },
  "language_info": {
   "codemirror_mode": {
    "name": "ipython",
    "version": 3
   },
   "file_extension": ".py",
   "mimetype": "text/x-python",
   "name": "python",
   "nbconvert_exporter": "python",
   "pygments_lexer": "ipython3",
   "version": "3.10.14"
  },
  "varInspector": {
   "cols": {
    "lenName": 16,
    "lenType": 16,
    "lenVar": 40
   },
   "kernels_config": {
    "python": {
     "delete_cmd_postfix": "",
     "delete_cmd_prefix": "del ",
     "library": "var_list.py",
     "varRefreshCmd": "print(var_dic_list())"
    },
    "r": {
     "delete_cmd_postfix": ") ",
     "delete_cmd_prefix": "rm(",
     "library": "var_list.r",
     "varRefreshCmd": "cat(var_dic_list()) "
    }
   },
   "types_to_exclude": [
    "module",
    "function",
    "builtin_function_or_method",
    "instance",
    "_Feature"
   ],
   "window_display": false
  }
 },
 "nbformat": 4,
 "nbformat_minor": 5
}
