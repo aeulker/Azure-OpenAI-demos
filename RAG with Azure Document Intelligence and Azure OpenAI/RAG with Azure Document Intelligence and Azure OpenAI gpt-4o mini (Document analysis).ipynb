{
 "cells": [
  {
   "cell_type": "markdown",
   "id": "c006b536",
   "metadata": {},
   "source": [
    "# RAG with Azure Document Intelligence and Azure OpenAI gpt-4o mini (document analysis)\n",
    "\n",
    "## Architecture\n",
    "<img src=\"https://learn.microsoft.com/en-us/azure/ai-services/document-intelligence/media/rag/azure-rag-processing.png\" width=800>\n",
    "\n",
    "\n",
    "## Note\n",
    "Document Intelligence public preview releases provide early access to features that are in active development. Features, approaches, and processes may change, prior to General Availability (GA), based on user feedback.<br>\n",
    "\n",
    "The public preview version of Document Intelligence client libraries default to REST API version 2024-07-31-preview.\n",
    "Public preview version 2024-07-31-preview is currently only available in the following Azure regions. Note that the custom generative (document field extraction) model in AI Studio is only available in North Central US region:\n",
    "- East US\n",
    "- West US2\n",
    "- West Europe\n",
    "- North Central US\n",
    "\n",
    "## Documentation\n",
    "\n",
    "https://learn.microsoft.com/en-us/azure/ai-services/document-intelligence/concept-layout?view=doc-intel-4.0.0&tabs=sample-code\n"
   ]
  },
  {
   "cell_type": "code",
   "execution_count": 1,
   "id": "5522de9f",
   "metadata": {},
   "outputs": [],
   "source": [
    "import gradio as gr\n",
    "import json\n",
    "import langchain\n",
    "import matplotlib.pyplot as plt\n",
    "import openai\n",
    "import os\n",
    "import pytz\n",
    "import requests\n",
    "import sys\n",
    "import time\n",
    "\n",
    "from azure.core.credentials import AzureKeyCredential\n",
    "from azure.search.documents.indexes import SearchIndexClient\n",
    "from dotenv import load_dotenv\n",
    "from datetime import datetime\n",
    "from langchain import hub\n",
    "from langchain.schema import StrOutputParser\n",
    "from langchain.schema.runnable import RunnableMap\n",
    "from langchain.schema.runnable import RunnablePassthrough\n",
    "from langchain.text_splitter import MarkdownHeaderTextSplitter\n",
    "from langchain.vectorstores.azuresearch import AzureSearch\n",
    "from langchain_community.document_loaders import AzureAIDocumentIntelligenceLoader\n",
    "from langchain_openai import AzureChatOpenAI\n",
    "from langchain_openai import AzureOpenAIEmbeddings\n",
    "from operator import itemgetter"
   ]
  },
  {
   "cell_type": "code",
   "execution_count": 2,
   "id": "80632fc3",
   "metadata": {},
   "outputs": [
    {
     "name": "stdout",
     "output_type": "stream",
     "text": [
      "Python version: 3.10.11 (main, May 16 2023, 00:28:57) [GCC 11.2.0]\n",
      "OpenAI version: 1.43.0\n",
      "Langchain version: 0.2.11\n"
     ]
    }
   ],
   "source": [
    "print(f\"Python version: {sys.version}\")\n",
    "print(f\"OpenAI version: {openai.__version__}\")\n",
    "print(f\"Langchain version: {langchain.__version__}\")"
   ]
  },
  {
   "cell_type": "code",
   "execution_count": 3,
   "id": "33da29fd",
   "metadata": {},
   "outputs": [
    {
     "name": "stdout",
     "output_type": "stream",
     "text": [
      "Local time in Europe/Amsterdam: 06-Sep-2024 10:46:25\n"
     ]
    }
   ],
   "source": [
    "# Local timezone datetime\n",
    "local_tz = pytz.timezone(requests.get(\"https://ipinfo.io\").json()[\"timezone\"])\n",
    "now = datetime.now(local_tz).strftime(\"%d-%b-%Y %H:%M:%S\")\n",
    "print(f\"Local time in {local_tz}: {now}\")"
   ]
  },
  {
   "cell_type": "markdown",
   "id": "f9fb9cc9",
   "metadata": {},
   "source": [
    "## 1. Settings"
   ]
  },
  {
   "cell_type": "code",
   "execution_count": 4,
   "id": "7e0e0cec",
   "metadata": {},
   "outputs": [],
   "source": [
    "load_dotenv(\"azure.env\")\n",
    "\n",
    "# Azure Document Intelligence\n",
    "AZURE_DOCUMENT_INTELLIGENCE_ENDPOINT: str = os.getenv(\"AZURE_DOCUMENT_INTELLIGENCE_ENDPOINT\")\n",
    "AZURE_DOCUMENT_INTELLIGENCE_KEY: str = os.getenv(\"AZURE_DOCUMENT_INTELLIGENCE_KEY\")\n",
    "\n",
    "# Azure OpenAI   \n",
    "AOAI_API_ENDPOINT: str  = os.getenv(\"AZURE_OPENAI_API_ENDPOINT\")\n",
    "AOAI_API_KEY: str  = os.getenv(\"AZURE_OPENAI_API_KEY\")\n",
    "\n",
    "# Azure AI Search\n",
    "AZURE_AISEARCH_ENDPOINT: str = os.getenv(\"AZURE_SEARCH_ENDPOINT\")\n",
    "AZURE_AISEARCH_KEY: str = os.getenv(\"AZURE_SEARCH_KEY\")"
   ]
  },
  {
   "cell_type": "code",
   "execution_count": 5,
   "id": "9b1cf7af",
   "metadata": {},
   "outputs": [],
   "source": [
    "# Azure OpenAI embeddings model\n",
    "AOAI_EMBEDDINGS_MODEL: str = \"text-embedding-ada-002\"\n",
    "\n",
    "# GPT model\n",
    "AOAI_DEPLOYMENT_NAME: str = \"gpt-4o-mini\"\n",
    "# API Version\n",
    "AOAI_API_VERSION: str = \"2024-07-01-preview\"\n",
    "# Type\n",
    "AOAI_API_TYPE: str = \"azure\""
   ]
  },
  {
   "cell_type": "code",
   "execution_count": 6,
   "id": "826297cc",
   "metadata": {},
   "outputs": [],
   "source": [
    "# Azure AI Search Index to create\n",
    "azure_aisearch_index_name: str = \"index_\" + datetime.now(local_tz).strftime(\"%d%b%Y_%H%M%S\").lower()"
   ]
  },
  {
   "cell_type": "markdown",
   "id": "2db69e37",
   "metadata": {},
   "source": [
    "## 2. File to analyse with Azure Document Intelligence"
   ]
  },
  {
   "cell_type": "code",
   "execution_count": 7,
   "id": "ed2e4d1a",
   "metadata": {},
   "outputs": [],
   "source": [
    "DOCS_DIR = \"documents\"\n",
    "\n",
    "os.makedirs(DOCS_DIR, exist_ok=True)"
   ]
  },
  {
   "cell_type": "code",
   "execution_count": 8,
   "id": "a6ba706a",
   "metadata": {},
   "outputs": [
    {
     "name": "stdout",
     "output_type": "stream",
     "text": [
      "--2024-09-06 08:46:25--  https://github.com/retkowsky/Azure-OpenAI-demos/raw/main/documents/phi3.pdf\n",
      "Resolving github.com (github.com)... 140.82.121.4\n",
      "Connecting to github.com (github.com)|140.82.121.4|:443... connected.\n",
      "HTTP request sent, awaiting response... 302 Found\n",
      "Location: https://raw.githubusercontent.com/retkowsky/Azure-OpenAI-demos/main/documents/phi3.pdf [following]\n",
      "--2024-09-06 08:46:25--  https://raw.githubusercontent.com/retkowsky/Azure-OpenAI-demos/main/documents/phi3.pdf\n",
      "Resolving raw.githubusercontent.com (raw.githubusercontent.com)... 185.199.109.133, 185.199.108.133, 185.199.110.133, ...\n",
      "Connecting to raw.githubusercontent.com (raw.githubusercontent.com)|185.199.109.133|:443... connected.\n",
      "HTTP request sent, awaiting response... 200 OK\n",
      "Length: 3854167 (3.7M) [application/octet-stream]\n",
      "Saving to: ‘documents/phi3.pdf’\n",
      "\n",
      "documents/phi3.pdf  100%[===================>]   3.67M  --.-KB/s    in 0.01s   \n",
      "\n",
      "2024-09-06 08:46:25 (247 MB/s) - ‘documents/phi3.pdf’ saved [3854167/3854167]\n",
      "\n"
     ]
    }
   ],
   "source": [
    "document_file = os.path.join(DOCS_DIR, \"phi3.pdf\")\n",
    "\n",
    "!wget https://github.com/retkowsky/Azure-OpenAI-demos/raw/main/documents/phi3.pdf -O $document_file"
   ]
  },
  {
   "cell_type": "code",
   "execution_count": 9,
   "id": "161817cc",
   "metadata": {},
   "outputs": [
    {
     "name": "stdout",
     "output_type": "stream",
     "text": [
      "-rwxrwxrwx 1 root root 3.7M Sep  6 08:46 documents/phi3.pdf\r\n"
     ]
    }
   ],
   "source": [
    "!ls $document_file -lh"
   ]
  },
  {
   "cell_type": "markdown",
   "id": "2e1ba1c1",
   "metadata": {},
   "source": [
    "### Azure Document Intelligence layout example\n",
    "\n",
    "<img src=\"https://learn.microsoft.com/en-us/azure/ai-services/document-intelligence/media/rag/markdown-text-output.png?view=doc-intel-4.0.0\">\n"
   ]
  },
  {
   "cell_type": "markdown",
   "id": "db058b9d",
   "metadata": {},
   "source": [
    "- **Simplified processing.** You can parse different document types, such as digital and scanned PDFs, images, office files (docx, xlsx, pptx), and HTML, with just a single API call.\n",
    "\n",
    "- **Scalability and AI quality.** The Layout model is highly scalable in Optical Character Recognition (OCR), table extraction, and document structure analysis. It supports 309 printed and 12 handwritten languages, further ensuring high-quality results driven by AI capabilities.\n",
    "\n",
    "- **Large language model (LLM) compatibility.** The Layout model Markdown formatted output is LLM friendly and facilitates seamless integration into your workflows. You can turn any table in a document into Markdown format and avoid extensive effort parsing the documents for greater LLM understanding."
   ]
  },
  {
   "cell_type": "markdown",
   "id": "f2f8eb32",
   "metadata": {},
   "source": [
    "The task of recognizing small text from large-size documents, like engineering drawings, is a challenge. Often the text is mixed with other graphical elements and has varying fonts, sizes, and orientations. Moreover, the text can be broken into separate parts or connected with other symbols. Document Intelligence now supports extracting content from these types of documents with the **ocr.highResolution** capability."
   ]
  },
  {
   "cell_type": "code",
   "execution_count": 10,
   "id": "cb0620f7",
   "metadata": {},
   "outputs": [
    {
     "name": "stdout",
     "output_type": "stream",
     "text": [
      "Processing the document with Azure Document Intelligence...\n",
      "\n",
      "Done\n",
      "Elapsed time = 0 minutes and 14 seconds\n"
     ]
    }
   ],
   "source": [
    "start = time.time()\n",
    "\n",
    "loader = AzureAIDocumentIntelligenceLoader(\n",
    "    file_path=document_file,  # File to process\n",
    "    api_key=AZURE_DOCUMENT_INTELLIGENCE_KEY, # Key\n",
    "    api_endpoint=AZURE_DOCUMENT_INTELLIGENCE_ENDPOINT,  # Endpoint\n",
    "    api_model=\"prebuilt-layout\",  # Prebuilt layout of Azure Doc Intelligence\n",
    "    analysis_features=[\"ocrHighResolution\"],  # To get OCR High resolution\n",
    ")\n",
    "\n",
    "# Loading the document\n",
    "print(\"Processing the document with Azure Document Intelligence...\")\n",
    "documents = loader.load()\n",
    "\n",
    "elapsed = time.time() - start\n",
    "minutes, seconds = divmod(elapsed, 60)\n",
    "print(\"\\nDone\")\n",
    "print(f\"Elapsed time = {minutes:.0f} minutes and {seconds:.0f} seconds\")"
   ]
  },
  {
   "cell_type": "code",
   "execution_count": 11,
   "id": "105a926c",
   "metadata": {},
   "outputs": [
    {
     "data": {
      "text/plain": [
       "[Document(page_content='Phi-3 Technical Report: A Highly Capable Language Model Locally on Your Phone\\n===\\n\\nMicrosoft\\n\\n\\n# Abstract\\n\\nWe introduce phi-3-mini, a 3.8 billion parameter language model trained on 3.3 trillion tokens, whose overall performance, as measured by both academic benchmarks and internal testing, rivals that of models such as Mixtral 8x7B and GPT-3.5 (e.g., phi-3-mini achieves 69% on MMLU and 8.38 on MT-bench), despite being small enough to be deployed on a phone. The innovation lies entirely in our dataset for training, a scaled-up version of the one used for phi-2, composed of heavily filtered publicly available web data and synthetic data. The model is also further aligned for robustness, safety, and chat format. We also provide some initial parameter-scaling results with a 7B and 14B models trained for 4.8T tokens, called phi-3-small and phi-3-medium, both significantly more capable than phi-3-mini (e.g., respectively 75% and 78% on MMLU, and 8.7 and 8.9 on MT-bench). Moreover, we also introduce phi-3-vision, a 4.2 billion parameter model based on phi-3-mini with strong reasoning capabilities for image and text prompts.\\n\\n\\n# Introduction 1\\n\\nThe striking progress of AI in the last few years can be largely attributed to major efforts through- out the world towards scaling-up to ever-larger models and datasets. Large Language Models (LLMs) have steadily increased in size from a mere billion parameters just five years ago (GPT-2 had 1.5 bil- lion parameters [RWC+19]) to trillion parameters today. The impetus for this effort originates in the seemingly predictable improvement one obtains by training large models, the so-called scaling laws [KMH+20, HBM+22, MRB+23]. However these laws assume a \"fixed\" data source. This assumption is now significantly disrupted by the existence of frontier LLMs themselves, which allow us to interact with data in novel ways. In our previous works on the phi models [GZA+23, LBE+23, JBA+23] it was shown that a combination of LLM-based filtering of publicly available web data, and LLM-created synthetic data, enable performance in smaller language models that were typically seen only in much larger mod- els. For example our previous model trained on this data recipe, phi-2 (2.7B parameters), matched the performance of models 25 times larger trained on regular data. In this report we present a new model, phi-3-mini (3.8B parameters), trained for 3.3T tokens on larger and more advanced versions of the datasets used in phi-2. With its small size, phi-3-mini can easily be inferenced locally on a modern phone (see Figure 2), yet it achieves a quality that seems on-par with models such as Mixtral 8x7B [JSR+24] and GPT-3.5.\\n\\n<!-- PageNumber=\"1\" -->\\n\\n\\n## arXiv:2404.14219v3 [cs.CL] 23 May 2024\\n:selected: :unselected:\\nUser: Explain why it is surprising that one can build a language model small enough to fit on a phone, yet almost as powerful as ChatGPT. Just use one funny sentence.\\n\\nphi-3-mini: It\\'s like fitting a supercomputer in a flip phone, but instead of breaking the phone, it just breaks the internet with its tiny, yet mighty, linguistic prowess! User: Okay now more serious answer, and note that this was achieved solely by changing the training data.\\n\\nphi-3-mini: The development of a compact language model that rivals the capabilities of ChatGPT, while fitting on a phone, is a testament to the power of data-driven machine learning. By meticulously curating and optimizing the training dataset, researchers can significantly reduce the model\\'s size without compromising its performance. [ . . . ]\\n\\n\\n# 2 Technical Specifications\\n\\nThe phi-3-mini model is a transformer decoder architecture [VSP+17], with default context length 4K. We also introduce a long context version via LongRope [DZZ+24a] that extends the context length to 128K, called phi-3-mini-128K.\\n\\nTo best benefit the open source community, phi-3-mini is built upon a similar block structure as Llama-2 [TLI+23] and uses the same tokenizer with vocabulary size of 320641. This means that all packages developed for Llama-2 family of models can be directly adapted to phi-3-mini. The model uses 3072 hidden dimension, 32 heads and 32 layers. We trained using bfloat 16 for a total of 3.3T tokens. The model is already chat-finetuned, and the chat template is as follows:\\n\\n\\n# <|user | >\\\\\\\\n Question <|end|>\\\\\\\\n <|assistant | >\\n\\nThe phi-3-small model (7B parameters) leverages the tiktoken tokenizer (for better multilingual tokenization) with a vocabulary size of 1003522 and has default context length 8192. It follows the standard decoder architecture of a 7B model class, having 32 heads, 32 layers and a hidden size of 4096. We switched from GELU activation to GEGLU and used Maximal Update Parametrization (muP) [?] to tune hyperparameters on a small proxy model and transfer them to the target 7B model. Those helped ensure better performance and training stability. Also, the model leverages a grouped-query attention, with 4 queries sharing 1 key. To optimize the training and inference speed, we design a novel blocksparse attention module. For each attention head, the blocksparse attention enforces different sparsity patterns over KV cache. This ensures that all tokens are attended to on different heads for the given choice of sparsity. As illustrated in Figure 1, the context is then efficiently divided and conquered among attention heads, with significant KV cache reduction. To achieve actual deployment speed-up from the blocksparse design, we implemented highly efficient, yet flexible kernels for both training and inference. For training, we build a triton kernel based on Flash Attention [DFE+22]. For inference, we implemented a kernel for the prefilling phase and extended the paged attention kernel in vLLM for the decoding phase [KLZ+23]. Lastly, in phi-3-small architecture, we alternate dense attention layers and blocksparse attention layers to optimize KV cache savings while maintaining long context retrieval performance. An additional 10% multilingual data was also used for this model.\\n\\nHighly capable language model running locally on a cell-phone. Thanks to its small size, phi- 3-mini can be quantized to 4-bits so that it only occupies \\\\~ 1.8GB of memory. We tested the quantized model by deploying phi-3-mini on iPhone 14 with A16 Bionic chip running natively on-device and fully offline achieving more than 12 tokens per second.\\n\\n<!-- Footnote=\"1 We remove BoS tokens and add some additional tokens for chat template.\" -->\\n\\n<!-- Footnote=\"2We remove unused tokens from the vocabulary.\" -->\\n\\n<!-- PageNumber=\"2\" -->\\n\\n| | Block1 | Block2 | Block3 | Block4 | Block5 | Block6 | Block7 | Block8 |\\n| - | - | - | - | - | - | - | - | - |\\n| Head1 | | | | | | | | |\\n| Head2 | | | | | | | | |\\n| Head3 | | | | | | | | |\\n| Head4 | | | | | | | | |\\n\\nFigure 1: Toy illustration of the blocksparse attention in phi-3-small with 2 local blocks and vertical stride of 3. The table shows the Keys/values a query token in block 8 attended to. Blue=local blocks, orange=remote/vertical blocks, gray=blocks skipped.\\n\\nTraining Methodology. We follow the sequence of works initiated in \"Textbooks Are All You Need\" [GZA+23], which utilize high quality training data to improve the performance of small language models and deviate from the standard scaling-laws. In this work we show that such method allows to reach the level of highly capable models such as GPT-3.5 or Mixtral with only 3.8B total parameters (while Mixtral has 45B total parameters for example). Our training data of consists of heavily filtered publicly available web data (according to the \"educational level\") from various open internet sources, as well as synthetic LLM-generated data. Pre-training is performed in two disjoint and sequential phases; phase-1 comprises mostly of web sources aimed at teaching the model general knowledge and language understanding. Phase-2 merges even more heavily filtered webdata (a subset used in Phase-1) with some synthetic data that teach the model logical reasoning and various niche skills.\\n\\nData Optimal Regime. Unlike prior works that train language models in either \"compute optimal regime\" [HBM+22] or \"over-train regime\", we mainly focus on the quality of data for a given scale.3 We try to calibrate the training data to be closer to the \"data optimal\" regime for small models. In particular, we filter the publicly available web data to contain the correct level of \"knowledge\" and keep more web pages that could potentially improve the \"reasoning ability\" for the model. As an example, the result of a game in premier league in a particular day might be good training data for frontier models, but we need to remove such information to leave more model capacity for \"reasoning\" for the mini size models. We compare our approach with Llama-2 in Figure 3.\\n\\nTo test our data on larger size of models, we also trained phi-3-medium, a model with 14B pa- rameters using the same tokenizer and architecture of phi-3-mini, and trained on the same data for slightly more epochs (4.8T tokens total as for phi-3-small. The model has 40 heads and 40 layers, with embedding dimension 5120. We observe that some benchmarks improve much less from 7B to 14B than they do from 3.8B to 7B, perhaps indicating that our data mixture needs further work to be in the \"data optimal regime\" for 14B parameters model.\\n\\nPost-training. Post-training of phi-3-mini went through two stages, including supervised finetuning (SFT) and direct preference optimization (DPO). SFT leverages highly curated high-quality data across diverse domains, e.g., math, coding, reasoning, conversation, model identity, and safety. The SFT data mix starts with using English-only examples. DPO data covers chat format data, reasoning, and responsible AI (RAI) efforts. We use DPO to steer the model away from unwanted behavior, by using those outputs as \"rejected\" responses. Besides improvement in math, coding, reasoning, robustness, and safety, post-training transforms a language model to an AI assistant that users can efficiently and safely interact with.\\n\\n<!-- Footnote=\"3 Just like for \"compute optimal regime\", we use the term \"optimal\" in an aspirational sense for \"data optimal regime\". We are not implying that we actually found the provably \"optimal\" data mixture for a given scale.\" -->\\n\\n<!-- PageNumber=\"3\" -->\\n\\n<figure>\\n\\n![](figures/0)\\n\\n</figure>\\n\\n<figure>\\n\\n![](figures/1)\\n\\n<!-- FigureContent=\"Phi-3-mini-4k-instruct-q4 < < Phi-3-mini-4k-instruct-q4 < You You Phi-3-mini-4k-instruct-q4 Write a short poem that is hard to sing. What are some must do activities in Houston, TX area with 11 yr old kids? You LLM Write a title for the paper where each letter starts with P on very small language model that is more powerful than bigger ones. In whispers soft, a riddle\\'s dance, LLM Here are some must-do activities in the Houston, TX area that will be enjoyable for a 11-year old: Cryptic rhymes in convoluted stance. LLM A tongue twister\\'s treacherous lure, 1. Space Center Houston: This is an amazing space museum that offers numerous interactive exhibits and hands-on experiences related to astronautics, including moon rocks brought back from Apollo 17 mission, the International Space Station (ISS) simulator ride, and NASA\\'s shuttle program displays. Title: \"Pinnacle Potential: Powering Progressive Paradigms with Pristine Predictive Prowess\" Melodies tangled, hearts unsure. This title encapsulates the essence of a paper focused on an advanced, small-scale language model exhibiting extraordinary predictive capabilities. By using each letter to start successive words and highlighting its superior potential (\"Pinnacle Potential\"), it emphasizes the breakthrough nature of such technology compared to larger models (\"Powering Progressive Paradigms\"). The inclusion of \"with Pristine Predictive Prowess\" underscores the precise prediction ability that sets this language model apart. Through syllables that slyly tangle and knot, Echoing choruses of a labyrinthic thought, 2. Houston Zoo: The zoo has over 600 species of animals on display in a naturalistic environment. Take With pitches so high they baffle the ear, Type your message ... A sonnet\\'s challenge to vocal frontier. 1 The 10.66 ses, 12.47 t/s For in this poem where words entwine, Q WE RTYUIOP An enigmatic song that dares not align, A S D F G H J K L To sing may lead one down a perplexed trail, Z :selected: X In pursuit of rhythm, where melodies flail. CV B N M :selected: X 11.80 ses, 14.75 t/s 123 space return Type your message ... Type your message ... :)\" -->\\n\\n<figcaption>\\n\\nFigure 2: 4-bit quantized phi-3-mini running natively on an iPhone with A16 Bionic chip, generating over 12\\ntokens per second.\\n\\n</figcaption>\\n\\n</figure>\\n\\n\\n<figure>\\n\\n![](figures/2)\\n\\n<!-- FigureContent=\"Data Optimal Scaling Law versus Model families trained on the same data 66.69 Fitted line for Phi Fitted line for Llama2 54.60 MMLU error rate (percentage) 44.70 36.60 29.96 24.53 - 20.09 1.00 1.65 2.72 4.48 7.39 12.18 20.09 33.12 54.60 90.02 Model size (Billons)\" -->\\n\\n<figcaption>\\n\\nFigure 3: Scaling law close to the \"Data Optimal Regime\" (from left to right: phi-1.5, phi-2, phi-3-mini, phi-3-\\nsmall) versus Llama-2 family of models (7B, 13B, 34B, 70B) that were trained on the same fixed data. We plot\\nthe log of MMLU error versus the log of model size.\\n\\n</figcaption>\\n\\n</figure>\\n\\n\\n<!-- PageNumber=\"4\" -->\\n:unselected:\\nAs part of the post-training process, we developed a long context version of phi-3-mini with context length limit enlarged to 128K instead of 4K. Across the board, the 128K model quality is on par with the 4K length version, while being able to handle long context tasks. Long context extension has been done in two stages, including long context mid-training and long-short mixed post-training with both SFT and DPO.\\n\\n\\n# Academic benchmarks 3\\n\\nOn the next page we report the results for phi-3-mini on standard open-source benchmarks measuring the model\\'s reasoning ability (both common sense reasoning and logical reasoning). We compare to phi-2 [JBA+23], Mistral-7b-v0.1 [JSM+23], Mixtral-8x7b [JSR+24], Gemma 7B [TMH+24], Llama-3-instruct- 8b [AI], and GPT-3.5. All the reported numbers are produced with the exact same pipeline to ensure that the numbers are comparable. These numbers might differ from other published numbers due to slightly different choices in the evaluation. As is now standard, we use few-shot prompts to evaluate the models, at temperature 0. The prompts and number of shots are part of a Microsoft internal tool to evaluate language models, and in particular we did no optimization to the pipeline for the phi-3 models.4 The number of k-shot examples is listed per-benchmark. An example of a 2-shot prompt is described in Appendix A.\\n\\n<!-- Footnote=\"4For example, we found that using ## before the Question can lead to a noticeable improvement to phi-3-mini\\'s results across many benchmarks, but we did not do such changes in the prompts.\" -->\\n\\n<!-- PageNumber=\"5\" -->\\n\\n| ||| Phi-3-mini Phi-3-small Phi-3-medium 3.8b  7b  14b || Phi-2 Mistral 2.7b  7b | Gemma 7b || Llama-3-In Mixtral 8b  8x7b | GPT-3.5 version 1106 |\\n| - | - | - | - | - | - | - | - | - | - |\\n| MMLU (5-Shot) [HBK+21] | 68.8 | 75.7 | 78.0 | 56.3 | 61.7 | 63.6 | 66.5 | 70.5 | 71.4 |\\n| HellaSwag (5-Shot) [ZHB+19] | 76.7 | 77.0 | 82.4 | 53.6 | 58.5 | 49.8 | 71.1 | 70.4 | 78.8 |\\n| ANLI (7-Shot) [NWD+20] | 52.8 | 58.1 | 55.8 | 42.5 | 47.1 | 48.7 | 57.3 | 55.2 | 58.1 |\\n| GSM-8K (8-Shot; CoT) [CKB+21] | 82.5 | 89.6 | 91.0 | 61.1 | 46.4 | 59.8 | 77.4 | 64.7 | 78.1 |\\n| MedQA (2-Shot) [JPO+20] AGIEval | 53.8 | 65.4 | 69.9 | 40.9 | 50.0 | 49.6 | 60.5 | 62.2 | 63.4 |\\n||||||\\n|| | | | | | 37.5 | 45.1 | 50.2 | 29.8 | 35.1 | 42.1 | 42.0 | 45.2 | 48.4 |\\n| (0-Shot) [ZCG+23] TriviaQA (5-Shot) [JCWZ17] |\\n|| | | | | | | | || 64.0 | 58.1 | 73.9 | 45.2 | 75.2 | 72.3 | 67.7 | 82.2 | 85.8 |\\n| Arc-C (10-Shot) [CCE+18] | 84.9 | 90.7 | 91.6 | 75.9 | 78.6 | 78.3 | 82.8 | 87.3 | 87.4 |\\n| Arc-E (10-Shot) [CCE+18] | 94.6 | 97.0 | 97.7 | 88.5 | 90.6 | 91.4 | 93.4 | 95.6 | 96.3 |\\n| PIQA | 84.2 | 86.9 | 87.9 | 60.2 | 77.7 | 78.1 | 75.7 | 86.0 | 86.6 |\\n| (5-Shot) [BZGC19] ||||||||||\\n| SociQA (5-Shot) [BZGC19] | 76.6 | 79.2 | 80.2 | 68.3 | 74.6 | 65.5 | 73.9 | 75.9 | 68.3 |\\n| BigBench-Hard (3-Shot; CoT) [SRR+22, SSS+22] | 71.7 | 79.1 | 81.4 | 59.4 | 57.3 | 59.6 | 51.5 | 69.7 | 68.32 |\\n| WinoGrande (5-Shot) [SLBBC19] | 70.8 | 81.5 | 81.5 | 54.7 | 54.2 | 55.6 | 65.0 | 62.0 | 68.8 |\\n| Open BookQA (10-Shot) [MCKS18] | 83.2 | 88.0 | 87.4 | 73.6 | 79.8 | 78.6 | 82.6 | 85.8 | 86.0 |\\n| BoolQ (2-Shot) [CLC+19] | 77.2 | 84.8 | 86.5 | – :unselected: | 72.2 | 66.0 | 80.9 | 77.6 | 79.1 |\\n| CommonSenseQA (10-Shot) [THLB19] TruthfulQA (10-Shot; MC2) [LHE22] | 80.2 | 80.0 | 82.8 | 69.3 | 72.6 | 76.2 | 79.0 | 78.1 | 79.6 |\\n|| 65.0 | 70.2 | 75.1 | – | 53.0 | 52.1 | 63.2 | 60.1 | 85.8 |\\n| HumanEval (0-Shot) [CTJ+21] | 58.5 | 61.0 | 62.2 | 59.0 | 28.0 | 34.1 | 60.4 | 37.8 | 62.2 |\\n| MBPP (3-Shot) [AON+21] | 70.0 | 71.7 | 75.2 | 60.6 | 50.8 | 51.5 | 67.7 | 60.2 | 77.8 |\\n| Average | 71.2 | 75.7 | 78.5 | – :unselected: | 61.2 | 61.7 | 69.4 | 69.8 | 74.3 |\\n| GPQA (2-Shot; CoT) [RHS+23] | 32.8 | 34.3 | – | – :unselected: | – :unselected: | – :unselected: :unselected: :unselected: | – :unselected: | – :unselected: :unselected: | 29.0 |\\n| MT Bench (2 round ave.) [ZCS+23] | 8.38 | 8.70 | 8.91 | – :unselected: :unselected: | – :unselected: :unselected: | – :unselected: | – :unselected: :unselected: | – :unselected: :unselected: | 8.35 |\\n\\n\\n# 4 Safety\\n\\nPhi-3-mini was developed in accordance with Microsoft\\'s responsible AI principles. The overall ap- proach consisted of safety alignment in post-training, red-teaming, automated testing and evaluations across dozens of RAI harm categories. Helpfulness and harmlessness preference datasets [BJN+22, JLD+23] with modifications inspired by [BSA+24] and multiple in-house generated datasets were lever- aged to address the RAI harm categories in safety post-training. An independent red team at Microsoft iteratively examined phi-3-mini to further identify areas of improvement during the post-training pro- cess. Based on their feedback, we curated additional datasets tailored to address their insights, thereby refining the post-training dataset. This process resulted in significant decrease of harmful response rates, as shown in Figure 4.\\n\\n<!-- PageNumber=\"6\" -->\\n<figure>\\n\\n![](figures/3)\\n\\n<!-- FigureContent=\"Comparison of Content Generated by Phi Text Models Before and After Safety Post-Training model Percentage (%) of Harmful Responses 70- :selected: Phi Text (without post-training) Phi Text (with post-training + red teaming) 60 - 50 - 40- 30 - 20 - 10 - 0 current events cyber fairness\\\\_bias hate\\\\_speech model\\\\_identity political\\\\_misinfo sexual violence Harm area\" -->\\n\\n<figcaption>\\n\\nFigure 4: Comparison of harmful response percentages by Microsoft AI Red Team between phi-3-mini before\\nand after the safety alignment. Note that the harmful response percentages in this chart are inflated numbers as\\nthe red team tried to induce phi-3-mini in an adversarial way to generate harmful responses through multi-turn\\nconversations.\\n\\n</figcaption>\\n\\n</figure>\\n\\n\\n| |||||| Phi-3-mini Phi-3-small Phi-3-medium Phi-2 Mistral Gemma 3.8b  7b  14b  2.7b  7b  7b | Llama-3-In 8b |\\n| - | - | - | - | - | - | - | - |\\n| Ungroundedness | 0.603 | 0.299 | 0.213 | 1.481 | 0.935 | 0.679 | 0.328 |\\n| Third Party Harm (DR-1) | 0.240 | 0.253 | 0.251 | 0.240 | 0.562 | 0.383 | 0.373 |\\n| Harmful Content Continuation (DR-3) | 0.007 | 0.003 | 0.010 | 0.029 | 0.026 | 0.013 | 0.013 |\\n| Harmful Content Summarization (DR-3) | 0.100 | 0.110 | 0.112 | 0.144 | 0.223 | 0.103 | 0.082 |\\n| Jailbreak (DR-1) | 0.123 | 0.107 | 0.111 | 0.150 | 0.156 | 0.114 | 0.130 |\\n\\nTable 1: Comparison of Microsoft internal multi-turn conversation RAI benchmark results of phi-3 models and other models. Note that a lower value indicates a better performance for all metrics in the table.\\n\\nThe safety alignment of phi-3-small and phi-3-medium was conducted by undergoing the same red-teaming process, utilizing identical datasets, and incorporating a slightly larger number of samples. Table 1 shows the results of in-house RAI benchmarks [MHJ+23] for phi-3 models compared to phi-2 [JBA+23], Mistral-7b-v0.1 [JSM+23], Gemma 7b [TMH+24], and Llama-3-instruct-8b [AI]. This bench- mark utilized GPT-4 to simulate multi-turn conversations in five different categories and to evaluate the model responses. Ungroundedness between 0 (fully grounded) and 4 (not grounded) measures if the information in a response is based on a given prompt. In other categories, responses were evaluated in terms of the severity of harmfulness from 0 (no harm) to 7 (extreme harm) and the defect rates (DR-x) were computed as the percentage of samples with the severity score being greater than or equal to x.\\n\\n\\n## 5\\n\\n\\n# Weakness\\n\\nIn terms of LLM capabilities, while phi-3-mini model achieves similar level of language understanding and reasoning ability as much larger models, it is still fundamentally limited by its size for certain tasks.\\n\\n<!-- PageNumber=\"7\" -->\\n\\n<!-- PageHeader=\"Suggest an itinerary for a 3-day trip during the 2026 Winter Olympic games\" -->\\n\\n<!-- PageHeader=\"Suggest an itinerary for a 3-day trip during the 2026 Winter Olympic games\" -->\\n :selected:\\n<figure>\\n\\n![](figures/4)\\n\\n<!-- FigureContent=\"Day 1: Arrival and Surrounding Neighborhoods Web Search Completed Morning: . Arrive in Pyeongchang, South Korea, and check-in to your accommodations. Day 1: Arrival and Exploring Milan · Enjoy a light breakfast at your hotel. . Arrive in Milan on February 6, 2026, the day of the Opening Ceremony. Mid-morning: . Spend the day exploring Milan\\'s city center, including Piazza del Duomo, Galleria Vittorio Emanuele II, and the Sforza Castle. . Take a leisurely walk around the town and explore the local shops and cafes. . Enjoy the vibrant Milanese nightlife, with options like the city\\'s many trendy cafes and restaurants. Lunch: . Visit the new Fiera Milano expo center for a unique and inspiring experience. · Try local specialties such as kimbap (Korean rice rolls) or mandu (Korean dumplings) at a nearby restaurant. Day 2: Cortina d\\'Ampezzo and Outdoor Activities Afternoon: . Take the train from Milan to Cortina d\\'Ampezzo, arriving in the afternoon. . Visit Pyeongchang Olympic Cauldron Park, the site of the 2018 Winter Olympics, to take photos and admire the beautiful scenery. . Check into your hotel and spend the evening relaxing and enjoying the local cuisine, such as risotto and polenta, at traditional pizzerias or trattorias. . Rent a bike and explore the surrounding neighborhoods, such as Pyeongchang Village, where you can find souvenir shops, outdoor activities, and various dining options. . On Day 2, take part in various outdoor activities, such as skiing, snowboarding, or tubing. Many of these activities are available at nearby resorts like Madonna di Campiglio, Kronplatz, or Passo San Pellegrino. . In the evening, explore Cortina d\\'Ampezzo\\'s charming streets, visit the historic St. Felix Castle, and enjoy the beautiful mountain scenery. Evening: . Dine at a local restaurant and enjoy traditional Korean cuisine such as samgyeopsal (grilled pork belly) or bulgogi (marinated beef). Day 3: Paralympic Games and Departure . On Day 3, attend the Paralympic Games, held in Turin on March 6, 2026. Day 2: Olympic Sports and Cultural Activities . Take the train from Cortina d\\'Ampezzo to Turin, arriving in time for the Paralympic events. Morning: . Explore Turin\\'s attractions, such as the Mole Antonelliana, the Egyptian Museum, and Piazza Vittorio Veneto. . Visit the Alpensia Sports Park, where the majority of the 2026 Winter Olympic events will be held. . See the ski slopes, ice rinks, and indoor arenas, and watch a glimpse of the opening and closing ceremonies. . Return to Milan in the evening for your departure, concluding your 3-day itinerary during the Milano Cortina 2026 Winter Olympic Games. Throughout your trip, make sure to book your accommodations, transportation, and tickets in advance, as these events are highly popular and may sell out quickly. Enjoy your time in Italy and the exciting Winter Olympic Games! Mid-morning: . Participate in a guided tour to learn about the history of the 2026 Winter Olympics and the unique features of the Pyeongchang venues. Sources: olympics.com olympics.com milanocortina2026.olympics.com :selected: milanwintertravel.com olympics.com :unselected: Search web @ Search web 1 Ask anything Ask anything\" -->\\n\\n<figcaption>\\n\\nFigure 5: Left: phi-3-mini\\'s completion without search. Right: phi-3-mini\\'s completion with search, using the\\ndefault HuggingFace Chat-UI search ability. For reference, the 2026 Winter Olympic Games are scheduled to be\\nheld in Milano and Cortina in Italy, while the 2022 and 2018 Winter Olympic Games were held in Beijing, China\\nand PyeongChang, Korea, respectively. Without the search results, the response is incorrect, while with the web\\nsearch, not only does the response become accurate, but also gets more specific with suggestions.\\n\\n</figcaption>\\n\\n</figure>\\n\\n\\nThe model simply does not have the capacity to store too much \"factual knowledge\", which can be seen for example with low performance on TriviaQA. However, we believe such weakness can be resolved by augmentation with a search engine. We show an example using the HuggingFace default Chat-UI with phi-3-mini in Figure 5. Another weakness related to model\\'s capacity is that we mostly restricted the language to English. Exploring multilingual capabilities for Small Language Models is an important next step, with some initial promising results on phi-3-small by including more multilingual data.\\n\\nDespite our diligent RAI efforts, as with most LLMs, there remains challenges around factual inaccu- racies (or hallucinations), reproduction or amplification of biases, inappropriate content generation, and safety issues. The use of carefully curated training data, and targeted post-training, and improvements from red-teaming insights significantly mitigates these issues across all dimensions. However, there is significant work ahead to fully address these challenges, and downstream use of the models should be evaluated for the specific use cases and safety considerations for that context.\\n\\n<!-- PageNumber=\"8\" -->\\n\\nextract all displayed texts and keep original displayed format. For the left section, please\\n<figure>\\n\\n![](figures/5)\\n\\n<!-- FigureContent=\"use markdown table with column \"coffee\", \"small\", \"median\" and \"large\". Instead, for the right section, please use JSON format. COFFEE & TEA O OSMMEDLG Teas CUP! POT Certainly! Below is the markdown table converted from the image: Esspresso 1.50 ,4.00 1 30 1 60 2.00 Americana 1.40 1.75 | 2.10 Cappucino 2.25 2 90 3.25 GREEN Latte 2.35 3 00 3.25 BLACK Mocha 12 35 3.00 3.50 WHITE Chai 2.25 2.40 3.25 OOLONG Chai Bomb 2.75 3.25 3.75 HERBAL House Cafe 1.50 1.75 2 00 \\\\* ADD .50 FOR HONEY Café au Lait 1.75 2 50 3.25 \\\\*ADD 1.00 FORICE And here is the JSON representation of the teas offered: \"Teas\": { What is the price of a Cappuccino with large size? \"CUP\": { \"GREEN\": \"$1.50\", \"BLACK\": \"$1.50\", :selected: The price for a Cappuccino in large size is $3.25. \"WHITE\": \"$1.50\", \"OOLONG\": \"$1.50\", \"HERBAL\": \"$1.50\" How much does it cost to add ice to a tea? \"POT\": { \"GREEN\": \"$4.00\", \"BLACK\": \"$4.00\", :selected: . It costs an additional $1.00 to add ice to any tea. \"WHITE\": \"$4.00\", \"OOLONG\": \"$4.00\", \"HERBAL\": \"$4.00\" If someone wants to buy a pot of tea, how much would it cost? \"\\\\*ADD .50 FOR HONEY\\\\*\", \"\\\\*ADD $1.00 FORICE\\\\*\" . A pot of tea would cost $4.00. 7\" -->\\n\\n<figcaption>\\n\\nFigure 6: The demo case shows Phi-3-Vision\\'s capability in natural image understanding and reasoning.\\n\\n</figcaption>\\n\\n</figure>\\n\\n\\n\\n# 6 Phi-3-Vision\\n\\n\\n## 6.1 Technical Specifications\\n\\nArchitecture The Phi-3-Vision (4.2B parameters) is a multimodal model designed to process an image and a textual prompt as inputs, and subsequently generate textual outputs. This model is com- posed of two primary components: an image encoder, i.e., CLIP ViT-L/14 [RKH+21] and a transformer decoder, i.e., phi-3-mini-128K-instruct. The visual tokens, once extracted by the image encoder, are then combined with text tokens in an interleaved way (no particular order for image and text tokens). To ac- commodate high-resolution images and various aspect ratios, a dynamic cropping strategy [DZZ+24b] is utilized to split the input image into a 2d array of blocks, where the tokens of the blocks are concatenated to represent the whole image.\\n\\nPre-training The Phi-3-Vision model undergoes a pre-training phase using a diverse dataset, which consists of a combination of interleaved image-text documents (e.g., [LST+24]), image-text pairs from FLD-5B [XWX+24], synthetic data derived from Optical Character Recognition (OCR) of PDF files, datasets for chart/table comprehension, and text-only data. The objective of predicting the next token is employed specifically on text tokens, while any loss associated with image tokens is disregarded during this phase. The pre-training process involves a total of 0.5T tokens that encompass both visual and text elements. During the pre-training phase, the maximum image resolution is capped at 1344 x 1344 as the majority of the training images are smaller than this resolution.\\n\\n<!-- PageNumber=\"9\" -->\\n\\n| \\\\| Coffee 1 - ||| \\\\| Small \\\\| Medium \\\\| Large   |\\n| - | - | - | - |\\n| \\\\| Espresso | \\\\| 1.30| \\\\| 1.60  | 2.00 |\\n| \\\\| Americana | \\\\| 1.40 | \\\\| 1.75| \\\\| 2.10  |\\n| \\\\| Cappuccino | \\\\| 2.25 | \\\\| 2.90| \\\\| 3.25  |\\n| \\\\| Latte | \\\\| 2.35 | \\\\| 3.00| \\\\| 3.25  |\\n| \\\\| Mocha | \\\\| 2.35 | \\\\| 3.00| \\\\| 3.50  |\\n| \\\\| Chai | \\\\| 2.25 | \\\\| 2.40 | \\\\| 3.25 |\\n| \\\\| Chai Bomb | \\\\| 2.75 | \\\\| 3.25| \\\\| 3.75  |\\n| \\\\| House Cafe | \\\\| 1.50 | \\\\| 1.75| \\\\| 2.00  |\\n| \\\\| Cafe au Lait | \\\\| 1.75 | \\\\| 2.50| \\\\| 3.25  |\\n:selected:\\nPost-training. The Phi-3-Vision model contains two post-training stages: supervised finetuning (SFT) and direct preference optimization (DPO). For SFT, we leveraged text SFT dataset, public mul- timodal instruct tuning datasets along with large-scale multimodal instruct tuning datasets that we built ourselves, covering diverse domains and tasks such as general natural image understanding, chart/table/- diagram understanding/reasoning, PowerPoint understanding, and model safety. The multimodal SFT data has about a total of 15B tokens. For DPO we mainly use a text DPO dataset and a relatively smaller-scale multimodal DPO dataset. For these two stages, we jointly train multimodal tasks and text- only tasks so that the model can achieve multi-modal reasoning while maintaining language capabilities as much as possible.\\n\\n\\n## 6.2 Academic benchmarks\\n\\nWe report in Table 2 the evaluation results of Phi-3-Vision on nine open-source academic benchmarks. These benchmarks evaluate reasoning and perceptual capabilities on visual and text inputs and can be grouped in three categories: Science, Charts, and Generic knowledge. We compare Phi-3-Vision with the following baselines: MM1-3B-Chat [MGF+24], MM1-7B-Chat [MGF+24], Llava-1.6 Vicuna 7B [LLLL23], Llava-1.6 Llama3-8B [LLL+24], Qwen-VL-Chat [BBY+23], Claude 3 Haiku [Ant24], Gemini 1.0 Pro V [TAB+23], and GPT-4V-Turbo. Our performance quality assessment setup used the same evaluation pipeline for all the baselines to ensure a fair comparison, with the exception of MM1-3B-Chat. We just copied and pasted their published numbers since the model is not publicly available.\\n\\nOur evaluation setup aimed to mimic scenarios where regular users interact with a multi-modal model, i.e., users who are not experts in prompt engineering or know special techniques that can improve performance. For this reason, we adopted the evaluation setting used in Llava-1.5 [LLLL23]. In this setup, the prompts include instructions to select a single letter corresponding to an answer from a list of given options, or answer with a single word or phrase. In our prompts, we did not use specific tokens for multiple-choice questions. Moreover, we did not scale or pre-process any image in our benchmarking system. We placed the images as the first item in the prompts, except on the MMMU dataset where the prompts interleave the images anywhere in the question or the answers. Lastly, our evaluation setup only considered a 0-shot format. Because of these evaluation parameters, our reported numbers can differ from the published numbers of the considered baselines.\\n\\n\\n## 6.3 Safety\\n\\nTo ensure the integration of Phi-3-Vision aligns with Microsoft\\'s Responsible AI (RAI) principles, we involved safety post-training in both Supervised Fine-Tuning (SFT) stage and Direct Preference Optimization (DPO) stage. In creating the safety training datasets, we utilized not only the text- only RAI datasets, but also a variety of in-house Multi-Modal (MM) RAI datasets that cover various harm categories identified in both public and internal MM RAI benchmarks. For the purpose of RAI evaluation, we performed a rigorous quantitative assessment on both public and internal benchmarks, this was done in conjunction with a human evaluation conducted by Microsoft\\'s internal red team.\\n\\nIn Table 3, we present the evaluation outcomes of Phi-3-Vision on three MM RAI benchmarks: one internal and two public benchmarks (specifically, RTVLM [LLY+24] and VLGuard [ZBY+24]). We juxtapose these results with those of other open-source models such as Llava-1.5 [LLLL23], Llava-1.6 [LLL+24], Qwen-VL-Chat [BBY+23], and GPT4-V[Ope23]. The results clearly indicate that safety post- training notably enhances the RAI performance of Phi-3-Vision across all RAI benchmarks. In Figure 7, we further breakdown the performance across different RAI categories of the VLGuard and Internal benchmarks, demonstrating that safety post-training can aid Phi-3-Vision in improving RAI performance in nearly all categories.\\n\\n<!-- PageNumber=\"10\" -->\\n\\n| | 4.2b Phi-3-Vision | MM1-3B-Chat 3.6b [MGF+24] | 7.6b [MGF+24] MM1-7B-Chat | LLaVA-1.6 Vicuna-7b [LLLL23] | LLaVA-Next LLama3-8b [LLL+24] | 9.6b [BBY+23] Qwen-VL-Chat | [Ant24] Claude 3 haiku | [TAB+23] Gemini 1.0 Pro V | GPT-4V-Turbo turbo-2024-04-09 |\\n| - | - | - | - | - | - | - | - | - | - |\\n| MMMU (val) [YNZ+23] | 40.4 | 33.9 | 37.0 | 34.2 | 36.4 | 39.0 | 40.7 | 42.0 | 55.5 |\\n| ScienceQA (test) [LMX+22] | 90.8 | 69.4 | 72.6 | 70.6 | 73.7 | 67.2 | 72.0 | 79.7 | 75.7 |\\n| Math Vista (testmini) [LBX+24] Inter-GPS (test) [LGJ+21] | 44.5 | 32.0 | 35.9 | 31.5 | 34.8 | 29.4 | 33.2 | 35.0 | 47.5 |\\n|| 38.1 | - | - | 20.5 | 24.6 | 22.3 | 32.1 | 28.6 | 41.0 |\\n| MMBench (dev-en) [LDZ+24] POPE (test) [LDZ+23] | 80.5 | 75.9 | 79.0 | 76.3 | 79.4 | 75.8 | 62.4 | 80.0 | 86.1 |\\n|| 85.8 | 87.4 | 86.6 | 87.2 | 87.0 | 82.6 | 74.4 | 84.2 | 83.7 |\\n| AI2D (test) [KSK+16] ChartQA (test) [MLT+22] | 76.7 | - | - | 63.1 | 66.9 | 59.8 | 60.3 | 62.8 | 74.7 |\\n|| 81.4 | - | - | 55.0 | 65.8 | 50.9 | 59.3 | 58.0 | 62.3 |\\n| Text VQA (test) [SNS+19] | 70.9 | 71.9 | 72.8 | 64.6 | 55.7 | 59.4 | 62.7 | 64.7 | 68.1 |\\n\\nTable 2: Comparison results on public MLLM benchmarks. All the reported numbers are produced with the exact same pipeline to ensure that the numbers are comparable except for MM1-3B-Chat [MGF+24] and MM1-7B- Chat [MGF+24], which are not publicly available. We adopted the evaluation setting used in Llava-1.5 [LLLL23], without any specific prompt or pre-processing image for all results. These numbers might differ from other published numbers due to slightly different prompts.\\n\\n\\n## 6.4 Weakness\\n\\nRegarding the multi-modal LLM capabilities of our Phi-3-Vision, it performs admirably across various fields. However, we have identified certain limitations, particularly with questions necessitating high- level reasoning abilities. Additionally, the model has been observed to occasionally generate ungrounded outputs, making it potentially unreliable in sensitive areas, such as finance. To mitigate these issues, we will incorporate more reasoning-focused and hallucination-related DPO data into post-training in the future.\\n\\nFrom a responsible AI standpoint, whilst safety post-training has made significant strides, our Phi- 3-Vision occasionally fails to refrain from answering harmful or sensitive inquiries. Examples of such occasions include deciphering particular types of captcha and describing scam images containing disin- formation or hallucination. We find that this issue partly arises from the capabilities, such as OCR, acquired during the training process with normal instruct tuning datasets, which can be regarded as the trade-off between helpfulness and harmlessness. Moving forward, we need to further explore this area to achieve a better balance.\\n\\n<!-- PageNumber=\"11\" -->\\n\\n| |||| Phi-3-Vision Phi-3-Vision w/o safety Llava-1.6 Vicuna Qwen-VL-Chat 3.8b+0.3b  3.8b+0.3b  7b+0.3b  7.7b+1.9b | GPT4-V N/A |\\n| - | - | - | - | - | - |\\n| Internal (private) | 8.30 | 7.06 | 5.44 | 7.27 | 8.55 |\\n| RTVLM (public) | 4.64 | 3.56 | 3.86 | 4.78 | 6.81 |\\n| VLGuard (public) | 9.12 | 4.66 | 5.62 | 8.33 | 8.90 |\\n\\nTable 3: Comparison results on public and private multi-modal RAI benchmarks. Note that all metrics in the table are [0,10] and a higher value indicates a better performance.\\n\\n<figure>\\n\\n![](figures/6)\\n\\n<!-- FigureContent=\"Phi-3-Vision w/o safety Phi-3-Vision Phi-3-Vision w/o safety Phi-3-Vision 10 10 8 8 6 6 4 4 2 2 0 0 safeimg-safetxt deception discrimination privacy risk-behaviour safeimg-unsafetxt Total harmful jailbreak privacy grounding Total\" -->\\n\\n<figcaption>\\n\\nFigure 7: Comparison of categorized RAI performance of Phi-3-Vision with and without the safety post-training\\non the VLGuard (left) and Internal (right) benchmark, respectively. It clearly indicates that safety post-training\\ncan enhance the RAI performance across nearly all the RAI categories.\\n\\n</figcaption>\\n\\n</figure>\\n\\n\\n\\n# References\\n\\n[AI] Meta AI. Introducing meta llama 3: The most capable openly available llm to date.\\n\\n[Ant24] AI Anthropic. The claude 3 model family: Opus, sonnet, haiku. Claude-3 Model Card, 2024.\\n\\n[AON+21] Jacob Austin, Augustus Odena, Maxwell Nye, Maarten Bosma, Henryk Michalewski, David Dohan, Ellen Jiang, Carrie Cai, Michael Terry, Quoc Le, and Charles Sutton. Program synthesis with large language models. arXiv preprint ar Xiv:2108.07732, 2021.\\n\\n[BBY+23] Jinze Bai, Shuai Bai, Shusheng Yang, Shijie Wang, Sinan Tan, Peng Wang, Junyang Lin, Chang Zhou, and Jingren Zhou. Qwen-vl: A versatile vision-language model for understand- ing, localization, text reading, and beyond, 2023.\\n\\n[BJN+22] Yuntao Bai, Andy Jones, Kamal Ndousse, Amanda Askell, Anna Chen, Nova DasSarma, Dawn Drain, Stanislav Fort, Deep Ganguli, Tom Henighan, Nicholas Joseph, Saurav Kada- vath, Jackson Kernion, Tom Conerly, Sheer El-Showk, Nelson Elhage, Zac Hatfield-Dodds, Danny Hernandez, Tristan Hume, Scott Johnston, Shauna Kravec, Liane Lovitt, Neel Nanda, Catherine Olsson, Dario Amodei, Tom Brown, Jack Clark, Sam McCandlish, Chris Olah, Ben Mann, and Jared Kaplan. Training a helpful and harmless assistant with reinforcement learning from human feedback, 2022.\\n\\n<!-- PageNumber=\"12\" -->\\n\\n[BSA+24] Federico Bianchi, Mirac Suzgun, Giuseppe Attanasio, Paul Röttger, Dan Jurafsky, Tatsunori Hashimoto, and James Zou. Safety-tuned llamas: Lessons from improving the safety of large language models that follow instructions, 2024.\\n\\n[BZGC19] Yonatan Bisk, Rowan Zellers, Jianfeng Gao, and Yejin Choi. Piqa: Reasoning about physical commonsense in natural language. arXiv preprint arXiv:1911.11641, 2019.\\n\\n[CCE+18] Peter Clark, Isaac Cowhey, Oren Etzioni, Tushar Khot, Ashish Sabharwal, Carissa Schoenick, and Oyvind Tafjord. Think you have solved question answering? try arc, the ai2 reasoning challenge, 2018.\\n\\n[CKB+21] Karl Cobbe, Vineet Kosaraju, Mohammad Bavarian, Mark Chen, Heewoo Jun, Lukasz Kaiser, Matthias Plappert, Jerry Tworek, Jacob Hilton, Reiichiro Nakano, Christopher Hesse, and John Schulman. Training verifiers to solve math word problems. ar Xiv preprint ar Xiv:2110.14168, 2021.\\n\\n[CLC+19] Christopher Clark, Kenton Lee, Ming-Wei Chang, Tom Kwiatkowski, Michael Collins, and Kristina Toutanova. Boolq: Exploring the surprising difficulty of natural yes/no questions. In Proceedings of the 2019 Conference of the North American Chapter of the Association for Computational Linguistics: Human Language Technologies, Volume 1 (Long and Short Papers), pages 2924-2936, 2019.\\n\\n[CTJ+21] Mark Chen, Jerry Tworek, Heewoo Jun, Qiming Yuan, Henrique Ponde de Oliveira Pinto, Jared Kaplan, Harri Edwards, Yuri Burda, Nicholas Joseph, Greg Brockman, Alex Ray, Raul Puri, Gretchen Krueger, Michael Petrov, Heidy Khlaaf, Girish Sastry, Pamela Mishkin, Brooke Chan, Scott Gray, Nick Ryder, Mikhail Pavlov, Alethea Power, Lukasz Kaiser, Mo- hammad Bavarian, Clemens Winter, Philippe Tillet, Felipe Petroski Such, Dave Cummings, Matthias Plappert, Fotios Chantzis, Elizabeth Barnes, Ariel Herbert-Voss, William Hebgen Guss, Alex Nichol, Alex Paino, Nikolas Tezak, Jie Tang, Igor Babuschkin, Suchir Balaji, Shantanu Jain, William Saunders, Christopher Hesse, Andrew N. Carr, Jan Leike, Josh Achiam, Vedant Misra, Evan Morikawa, Alec Radford, Matthew Knight, Miles Brundage, Mira Murati, Katie Mayer, Peter Welinder, Bob McGrew, Dario Amodei, Sam McCandlish, Ilya Sutskever, and Wojciech Zaremba. Evaluating large language models trained on code, 2021.\\n\\n[DFE+22] Tri Dao, Dan Fu, Stefano Ermon, Atri Rudra, and Christopher Re. Flashattention: Fast and memory-efficient exact attention with io-awareness. Advances in Neural Information Processing Systems, 35:16344-16359, 2022.\\n\\n[DZZ+24a] Yiran Ding, Li Lyna Zhang, Chengruidong Zhang, Yuanyuan Xu, Ning Shang, Jiahang Xu, Fan Yang, and Mao Yang. Longrope: Extending llm context window beyond 2 million tokens, 2024.\\n\\n[DZZ+24b] Xiaoyi Dong, Pan Zhang, Yuhang Zang, Yuhang Cao, Bin Wang, Linke Ouyang, Songyang Zhang, Haodong Duan, Wenwei Zhang, Yining Li, et al. Internlm-xcomposer2-4khd: A pioneering large vision-language model handling resolutions from 336 pixels to 4k hd. arXiv preprint ar Xiv:2404.06512, 2024.\\n\\n[GZA+23] Suriya Gunasekar, Yi Zhang, Jyoti Aneja, Caio César Teodoro Mendes, Allie Del Giorno, Sivakanth Gopi, Mojan Javaheripi, Gustavo de Rosa Piero Kauffmann, Olli Saarikivia,\\n\\n<!-- PageNumber=\"13\" -->\\n\\nAdil Salim, Shital Shah, Harkirat Singh Behl, Xin Wang, Sébastien Bubeck, Ronen El- dan, Adam Tauman Kalai, Yin Tat Lee, and Yuanzhi Li. Textbooks are all you need. arXiv preprint ar Xiv:2306.11644, 2023.\\n\\n[HBK+21] Dan Hendrycks, Collin Burns, Saurav Kadavath, Akul Arora, Steven Basart, Eric Tang, Dawn Song, and Jacob Steinhardt. Measuring mathematical problem solving with the MATH dataset, 2021.\\n\\n[HBM+22] Jordan Hoffmann, Sebastian Borgeaud, Arthur Mensch, Elena Buchatskaya, Eliza Ruther- ford Trevor Cai, Diego de Las Casas, Lisa Anne Hendricks, Johannes Welbl, Aidan Clark, Tom Hennigan, Eric Noland, Katie Millican, George van den Driessche, Bogdan Damoc, Au- relia Guy, Simon Osindero, Karen Simonyan, Erich Elsen, Jack W. Rae, Oriol Vinyals, and Laurent Sifre. Training compute-optimal large language models. arXiv preprint ar Xiv:2203.15556, 2022.\\n\\n[JBA+23] Mojan Javaheripi, Sebastien Bubeck, Marah Abdin, Jyoti Aneja, Caio Cesar Teodoro Mendes, Weizhu Chen, Allie Del Giorno, Ronen Eldan, Sivakanth Gopi, Suriya Gunasekar, Piero Kauffmann, Yin Tat Lee, Yuanzhi Li, Anh Nguyen, Gustavo de Rosa, Olli Saarikivi, Adil Salim, Shital Shah, Michael Santacroce, Harkirat Singh Behl, Adam Tau- mann Kalai, Xin Wang, Rachel Ward, Philipp Witte, Cyril Zhang, and Yi Zhang. Phi-2: The surprising power of small language models. Microsoft Research Blog, 2023.\\n\\n[JCWZ17] Mandar Joshi, Eunsol Choi, Daniel S. Weld, and Luke Zettlemoyer. Triviaqa: A large scale distantly supervised challenge dataset for reading comprehension, 2017.\\n\\n[JLD+23] Jiaming Ji, Mickel Liu, Juntao Dai, Xuehai Pan, Chi Zhang, Ce Bian, Chi Zhang, Ruiyang Sun, Yizhou Wang, and Yaodong Yang. Beavertails: Towards improved safety alignment of llm via a human-preference dataset, 2023.\\n\\n[JPO+20] Di Jin, Eileen Pan, Nassim Oufattole, Wei-Hung Weng, Hanyi Fang, and Peter Szolovits. What disease does this patient have? a large-scale open domain question answering dataset from medical exams, 2020.\\n\\n[JSM+23] Albert Q. Jiang, Alexandre Sablayrolles, Arthur Mensch, Chris Bamford, Devendra Singh Chaplot, Diego de las Casas, Florian Bressand, Gianna Lengyel, Guillaume Lample, Lucile Saulnier, Lélio Renard Lavaud, Marie-Anne Lachaux, Pierre Stock, Teven Le Scao, Thibaut Lavril, Thomas Wang, Timothée Lacroix, and William El Sayed. Mistral 7b, 2023.\\n\\n[JSR+24] Albert Q. Jiang, Alexandre Sablayrolles, Antoine Roux, Arthur Mensch, Blanche Savary, Chris Bamford, Devendra Singh Chaplot, Diego de las Casas, Emma Bou Hanna, Florian Bressand, Gianna Lengyel, Guillaume Bour, Guillaume Lample, Lélio Renard Lavaud, Lu- cile Saulnier, Marie-Anne Lachaux, Pierre Stock, Sandeep Subramanian, Sophia Yang, Szy- mon Antoniak, Teven Le Scao, Théophile Gervet, Thibaut Lavril, Thomas Wang, Timothée Lacroix, and William El Sayed. Mixtral of experts, 2024.\\n\\n[KLZ+23] Woosuk Kwon, Zhuohan Li, Siyuan Zhuang, Ying Sheng, Lianmin Zheng, Cody Hao Yu, Joseph E. Gonzalez, Hao Zhang, and Ion Stoica. Efficient memory management for large language model serving with pagedattention. In Proceedings of the ACM SIGOPS 29th Symposium on Operating Systems Principles, 2023.\\n\\n<!-- PageNumber=\"14\" -->\\n\\n[KMH+20] Jared Kaplan, Sam McCandlish, Tom Henighan, Tom B Brown, Benjamin Chess, Rewon Child, Scott Gray, Alec Radford, Jeffrey Wu, and Dario Amodei. Scaling laws for neural language models. arXiv preprint ar Xiv:2001.08361, 2020.\\n\\n[KSK+16] Aniruddha Kembhavi, Mike Salvato, Eric Kolve, Minjoon Seo, Hannaneh Hajishirzi, and Ali Farhadi. A diagram is worth a dozen images, 2016.\\n\\n[LBE+23] Yuanzhi Li, Sébastien Bubeck, Ronen Eldan, Allie Del Giorno, Suriya Gunasekar, and Yin Tat Lee. Textbooks are all you need ii: phi-1.5 technical report. arXiv preprint ar Xiv:2309.05463, 2023.\\n\\n[LBX+24] Pan Lu, Hritik Bansal, Tony Xia, Jiacheng Liu, Chunyuan Li, Hannaneh Hajishirzi, Hao Cheng, Kai-Wei Chang, Michel Galley, and Jianfeng Gao. Mathvista: Evaluating mathe- matical reasoning of foundation models in visual contexts, 2024.\\n\\n[LDZ+23] Yifan Li, Yifan Du, Kun Zhou, Jinpeng Wang, Wayne Xin Zhao, and Ji-Rong Wen. Evalu- ating object hallucination in large vision-language models, 2023.\\n\\n[LDZ+24] Yuan Liu, Haodong Duan, Yuanhan Zhang, Bo Li, Songyang Zhang, Wangbo Zhao, Yike Yuan, Jiaqi Wang, Conghui He, Ziwei Liu, Kai Chen, and Dahua Lin. Mmbench: Is your multi-modal model an all-around player?, 2024.\\n\\n[LGJ+21] Pan Lu, Ran Gong, Shibiao Jiang, Liang Qiu, Siyuan Huang, Xiaodan Liang, and Song-Chun Zhu. Inter-gps: Interpretable geometry problem solving with formal language and symbolic reasoning, 2021.\\n\\n[LHE22] Stephanie Lin, Jacob Hilton, and Owain Evans. Truthfulqa: Measuring how models mimic human falsehoods, 2022.\\n\\n[LLL+24] Haotian Liu, Chunyuan Li, Yuheng Li, Bo Li, Yuanhan Zhang, Sheng Shen, and Yong Jae Lee. Llava-next: Improved reasoning, ocr, and world knowledge, January 2024.\\n\\n[LLLL23] Haotian Liu, Chunyuan Li, Yuheng Li, and Yong Jae Lee. Improved baselines with visual instruction tuning. arXiv preprint ar Xiv:2310.03744, 2023.\\n\\n[LLY+24] Mukai Li, Lei Li, Yuwei Yin, Masood Ahmed, Zhenguang Liu, and Qi Liu. Red teaming visual language models. ar Xiv preprint ar Xiv:2401.12915, 2024.\\n\\n[LMX+22] Pan Lu, Swaroop Mishra, Tony Xia, Liang Qiu, Kai-Wei Chang, Song-Chun Zhu, Oyvind Tafjord, Peter Clark, and Ashwin Kalyan. Learn to explain: Multimodal reasoning via thought chains for science question answering. In The 36th Conference on Neural Information Processing Systems (NeurIPS), 2022.\\n\\n[LST+24] Hugo Laurencon, Lucile Saulnier, Leo Tronchon, Stas Bekman, Amanpreet Singh, An- ton Lozhkov, Thomas Wang, Siddharth Karamcheti, Alexander Rush, Douwe Kiela, et al. Obelics: An open web-scale filtered dataset of interleaved image-text documents. Advances in Neural Information Processing Systems, 36, 2024.\\n\\n[MCKS18] Todor Mihaylov, Peter Clark, Tushar Khot, and Ashish Sabharwal. Can a suit of armor conduct electricity? a new dataset for open book question answering, 2018.\\n\\n<!-- PageNumber=\"15\" -->\\n\\n[MGF+24] Brandon McKinzie, Zhe Gan, Jean-Philippe Fauconnier, Sam Dodge, Bowen Zhang, Philipp Dufter, Dhruti Shah, Xianzhi Du, Futang Peng, Floris Weers, Anton Belyi, Haotian Zhang, Karanjeet Singh, Doug Kang, Ankur Jain, Hongyu Hè, Max Schwarzer, Tom Gunter, Xiang Kong, Aonan Zhang, Jianyu Wang, Chong Wang, Nan Du, Tao Lei, Sam Wiseman, Guoli Yin, Mark Lee, Zirui Wang, Ruoming Pang, Peter Grasch, Alexander Toshev, and Yinfei Yang. Mm1: Methods, analysis & insights from multimodal llm pre-training. ar Xiv preprint ar Xiv:2403.09611, 2024.\\n\\n[MHJ+23] Ahmed Magooda, Alec Helyar, Kyle Jackson, David Sullivan, Chad Atalla, Emily Sheng, Dan Vann, Richard Edgar, Hamid Palangi, Roman Lutz, Hongliang Kong, Vincent Yun, Eslam Kamal, Federico Zarfati, Hanna Wallach, Sarah Bird, and Mei Chen. A framework for automated measurement of responsible ai harms in generative ai applications, 2023.\\n\\n[MLT+22] Ahmed Masry, Do Long, Jia Qing Tan, Shafiq Joty, and Enamul Hoque. ChartQA: A benchmark for question answering about charts with visual and logical reasoning. In Findings of the Association for Computational Linguistics: ACL 2022, pages 2263-2279, Dublin, Ireland, May 2022. Association for Computational Linguistics.\\n\\n[MRB+23] Niklas Muennighoff, Alexander M Rush, Boaz Barak, Teven Le Scao, Aleksandra Piktus, Nouamane Tazi, Sampo Pyysalo, Thomas Wolf, and Colin Raffel. Scaling data-constrained language models. arXiv preprint arXiv:2305.16264, 2023.\\n\\n[NWD+20] Yixin Nie, Adina Williams, Emily Dinan, Mohit Bansal, Jason Weston, and Douwe Kiela. Adversarial nli: A new benchmark for natural language understanding, 2020.\\n\\n[Ope23] OpenAI. Gpt-4v(ision) system card, 2023. https://cdn.openai.com/papers/GPTV\\\\_ System\\\\_Card. pdf.\\n\\n[RHS+23] David Rein, Betty Li Hou, Asa Cooper Stickland, Jackson Petty, Richard Yuanzhe Pang, Julien Dirani, Julian Michael, and Samuel R. Bowman. Gpqa: A graduate-level google-proof q&a benchmark, 2023.\\n\\n[RKH+21] Alec Radford, Jong Wook Kim, Chris Hallacy, Aditya Ramesh, Gabriel Goh, Sandhini Agar- wal, Girish Sastry, Amanda Askell, Pamela Mishkin, Jack Clark, et al. Learning transferable visual models from natural language supervision. In International conference on machine learning, pages 8748-8763. PMLR, 2021.\\n\\n[RWC+19] Alec Radford, Jeffrey Wu, Rewon Child, David Luan, Dario Amodei, and Ilya Sutskever. Language models are unsupervised multitask learners. OpenAI blog, 1(8):9, 2019.\\n\\n[SLBBC19] Keisuke Sakaguchi, Ronan Le Bras, Chandra Bhagavatula, and Yejin Choi. Winogrande: An adversarial winograd schema challenge at scale. arXiv preprint arXiv:1907.10641, 2019.\\n\\n[SNS+19] Amanpreet Singh, Vivek Natarajan, Meet Shah, Yu Jiang, Xinlei Chen, Dhruv Batra, Devi Parikh, and Marcus Rohrbach. Towards vqa models that can read, 2019.\\n\\n[SRR+22] Aarohi Srivastava, Abhinav Rastogi, Abhishek Rao, Abu Awal Md Shoeb, Abubakar Abid, Adam Fisch, Adam R Brown, Adam Santoro, Aditya Gupta, Adrià Garriga-Alonso, et al. Beyond the imitation game: Quantifying and extrapolating the capabilities of language models. arXiv preprint ar Xiv:2206.04615, 2022.\\n\\n<!-- PageNumber=\"16\" -->\\n\\n[SSS+22] Mirac Suzgun, Nathan Scales, Nathanael Schärli, Sebastian Gehrmann, Yi Tay, Hyung Won Chung, Aakanksha Chowdhery, Quoc V. Le, Ed H. Chi, Denny Zhou, and Jason Wei. Chal- lenging big-bench tasks and whether chain-of-thought can solve them, 2022.\\n\\n[TAB+23] Gemini Team, Rohan Anil, Sebastian Borgeaud, Yonghui Wu, Jean-Baptiste Alayrac, Jiahui Yu, Radu Soricut, Johan Schalkwyk, Andrew M Dai, Anja Hauth, et al. Gemini: a family of highly capable multimodal models. arXiv preprint ar Xiv:2312.11805, 2023.\\n\\n[THLB19] Alon Talmor, Jonathan Herzig, Nicholas Lourie, and Jonathan Berant. Commonsenseqa: A question answering challenge targeting commonsense knowledge, 2019.\\n\\n[TLI+23] Hugo Touvron, Thibaut Lavril, Gautier Izacard, Xavier Martinet, Marie-Anne Lachaux, Timothée Lacroix, Baptiste Rozière, Naman Goyal, Eric Hambro, Faisal Azhar, Aurelien Rodriguez, Armand Joulin, Edouard Grave, and Guillaume Lample. Llama: Open and efficient foundation language models. arXiv preprint arXiv:2302.13971, 2023.\\n\\n[TMH+24] Gemma Team, Thomas Mesnard, Cassidy Hardin, Robert Dadashi, Surya Bhupatiraju, Shreya Pathak, Laurent Sifre, Morgane Rivière, Mihir Sanjay Kale, Juliette Love, et al. Gemma: Open models based on gemini research and technology, 2024.\\n\\n[VSP+17] Ashish Vaswani, Noam Shazeer, Niki Parmar, Jakob Uszkoreit, Llion Jones, Aidan N Gomez, L ukasz Kaiser, and Illia Polosukhin. Attention is all you need. In Advances in Neural Information Processing Systems, volume 30, 2017.\\n\\n[XWX+24] Bin Xiao, Haiping Wu, Weijian Xu, Xiyang Dai, Houdong Hu, Yumao Lu, Michael Zeng, Ce Liu, and Lu Yuan. Florence-2: Advancing a unified representation for a variety of vision tasks. 2024.\\n\\n[YNZ+23] Xiang Yue, Yuansheng Ni, Kai Zhang, Tianyu Zheng, Ruoqi Liu, Ge Zhang, Samuel Stevens, Dongfu Jiang, Weiming Ren, Yuxuan Sun, Cong Wei, Botao Yu, Ruibin Yuan, Renliang Sun, Ming Yin, Boyuan Zheng, Zhenzhu Yang, Yibo Liu, Wenhao Huang, Huan Sun, Yu Su, and Wenhu Chen. Mmmu: A massive multi-discipline multimodal understanding and reasoning benchmark for expert agi, 2023.\\n\\n[ZBY+24] Yongshuo Zong, Ondrej Bohdal, Tingyang Yu, Yongxin Yang, and Timothy Hospedales. Safety fine-tuning at (almost) no cost: A baseline for vision large language models. arXiv preprint ar Xiv:2402.02207, 2024.\\n\\n[ZCG+23] Wanjun Zhong, Ruixiang Cui, Yiduo Guo, Yaobo Liang, Shuai Lu, Yanlin Wang, Amin Saied, Weizhu Chen, and Nan Duan. Agieval: A human-centric benchmark for evaluating foundation models, 2023.\\n\\n[ZCS+23] Lianmin Zheng, Wei-Lin Chiang, Ying Sheng, Siyuan Zhuang, Zhanghao Wu, Yonghao Zhuang, Zi Lin, Zhuohan Li, Dacheng Li, Eric Xing, et al. Judging llm-as-a-judge with mt-bench and chatbot arena. arXiv preprint ar Xiv:2306.05685, 2023.\\n\\n[ZHB+19] Rowan Zellers, Ari Holtzman, Yonatan Bisk, Ali Farhadi, and Yejin Choi. Hellaswag: Can a machine really finish your sentence? In Proceedings of the 57th Annual Meeting of the Association for Computational Linguistics, pages 4791-4800, 2019.\\n\\n<!-- PageNumber=\"17\" -->\\n\\n# A Example prompt for benchmarks\\n\\nQuestion:\\n\\nSolve for x: (-3)(-4-3x)=2\\n\\nOptions :\\n\\nA. - 5 6\\n\\nB. 7\\n\\n6\\n\\nC. 5\\n\\n3\\n\\nD.\\n\\n1\\n\\nAnswer: A\\n\\nQuestion: Which of the following is the body cavity that contains the pituitary gland? Options :\\n\\nA. Abdominal\\n\\nB. Cranial\\n\\nC. Pleural\\n\\nD. Spinal\\n\\nAnswer: B\\n\\nQuestion: Where was the most famous site of the mystery cults in Greece? Options :\\n\\nA. Ephesus\\n\\nB. Corinth\\n\\nC. Athens\\n\\nD. Eleusis\\n\\nAnswer:\\n\\n<!-- PageNumber=\"18\" -->\\n\\n# B Authors (alphabetical)\\n\\n||||\\n| - | - | - |\\n| Marah Abdin | Jamie Huynh | Olli Saarikivi |\\n| Sam Ade Jacobs | Dan Iter | Amin Saied |\\n| Ammar Ahmad Awan | Russell J. Hewett | Adil Salim |\\n| Jyoti Aneja | Mojan Javaheripi | Michael Santacroce |\\n| Hany Awadalla | Xin Jin | Shital Shah |\\n| Ahmed Awadallah | Nikos Karampatziakis | Ning Shang |\\n| Nguyen Bach | Piero Kauffmann | Hiteshi Sharma |\\n| Amit Bahree | Mahoud Khademi | Swadheen Shukla |\\n| Arash Bakhtiari | Dongwoo Kim | Xia Song |\\n| Jianmin Bao | Lev Kurilenko | Yin Tat Lee |\\n| Harkirat Behl | Yuanzhi Li | Andrea Tupini |\\n| Alon Benhaim | Yunsheng Li | Xin Wang |\\n| Misha Bilenko | Chen Liang | Guanhua Wang |\\n| Johan Bjorck | Lars Liden | Lijuan Wang |\\n| Sébastien Bubeck | Eric Lin | Chunyu Wang :unselected: |\\n| Caio César Teodoro Mendes | Zeqi Lin | Yu Wang |\\n| Martin Cai | Weishung Liu | Rachel Ward |\\n| Qin Cai | Mengchen Liu | Wen Wen |\\n| Vishrav Chaudhary | Ce Liu | Philipp Witte |\\n| Weizhu Chen | Chong Luo :unselected: | Haiping Wu |\\n| Yi-Ling Chen | Li Lyna Zhang | Michael Wyatt |\\n| Yen-Chun Chen | Piyush Madan | Bin Xiao |\\n| Dongdong Chen | David Majercak | Jiahang Xu |\\n| Dong Chen | Matt Mazzola | Can Xu |\\n| Parul Chopra | Arindam Mitra | Weijian Xu |\\n| Xiyang Dai | Hardik Modi | Sonali Yadav |\\n| Gustavo de Rosa | Anh Nguyen | Fan Yang |\\n| Allie Del Giorno | Brandon Norick | Ziyi Yang |\\n| Matthew Dixon | Barun Patra | Jianwei Yang |\\n| Ronen Eldan | Daniel Perez-Becker | Yifan Yang |\\n| Victor Fragoso | Thomas Portet | Donghan Yu :unselected: |\\n| Mei Gao | Reid Pryzant | Lu Yuan |\\n| Min Gao | Heyang Qin | Chengruidong Zhang :unselected: |\\n| Jianfeng Gao | James R. Lee | Cyril Zhang :unselected: |\\n| Abhishek Goswami | Marko Radmilac | Jianwen Zhang |\\n| Suriya Gunasekar | Corby Rosset | Yi Zhang |\\n| Emman Haider | Sambudha Roy | Yunan Zhang |\\n| Junheng Hao | Olatunji Ruwase | Xiren Zhou |\\n\\n\\n# C Acknowledgements\\n\\nWe would like to thank Zhuohan Li, Simon Mo, and Kaichao You from UC Berkeley for sharing their insights on the vLLM kernel.\\n\\n<!-- PageNumber=\"19\" -->\\n:unselected:')]"
      ]
     },
     "execution_count": 11,
     "metadata": {},
     "output_type": "execute_result"
    }
   ],
   "source": [
    "documents"
   ]
  },
  {
   "cell_type": "markdown",
   "id": "0e2e2397",
   "metadata": {},
   "source": [
    "### Semantic chunking\n",
    "\n",
    "**Markdown** is a structured and formatted markup language and a popular input for enabling semantic chunking in RAG (Retrieval-Augmented Generation). You can use the Markdown content from the Layout model to split documents based on paragraph boundaries, create specific chunks for tables, and fine-tune your chunking strategy to improve the quality of the generated responses.\n",
    "\n",
    "This method divides the text into chunks based on **semantic understanding**. Division boundaries are focused on sentence subject and use significant computational algorithmically complex resources. However, it has the distinct advantage of maintaining semantic consistency within each chunk. It's useful for text summarization, sentiment analysis, and document classification tasks.\n",
    "\n",
    "https://learn.microsoft.com/en-us/azure/ai-services/document-intelligence/concept-retrieval-augmented-generation?view=doc-intel-4.0.0#semantic-chunking"
   ]
  },
  {
   "cell_type": "code",
   "execution_count": 12,
   "id": "d6a1e99e",
   "metadata": {},
   "outputs": [
    {
     "name": "stdout",
     "output_type": "stream",
     "text": [
      "Length of chunks = 17\n"
     ]
    }
   ],
   "source": [
    "headers_to_split_on = [\n",
    "    (\"#\", \"Header 1\"),\n",
    "    (\"##\", \"Header 2\"),\n",
    "    (\"###\", \"Header 3\"),\n",
    "    (\"####\", \"Header 4\"),\n",
    "]\n",
    "\n",
    "text_splitter = MarkdownHeaderTextSplitter(headers_to_split_on=headers_to_split_on)\n",
    "docs_string = documents[0].page_content\n",
    "chunks = text_splitter.split_text(docs_string)\n",
    "\n",
    "print(f\"Length of chunks = {len(chunks)}\")"
   ]
  },
  {
   "cell_type": "code",
   "execution_count": 13,
   "id": "3dde97d0",
   "metadata": {},
   "outputs": [
    {
     "name": "stdout",
     "output_type": "stream",
     "text": [
      "***** Chunk 1 *****\n",
      "Length of chunk = 93\n",
      "\n",
      "\u001b[1;34mPhi-3 Technical Report: A Highly Capable Language Model Locally on Your Phone\n",
      "===  \n",
      "Microsoft\u001b[0m\n",
      "\n",
      "***** Chunk 2 *****\n",
      "Length of chunk = 1028\n",
      "\n",
      "\u001b[1;34mWe introduce phi-3-mini, a 3.8 billion parameter language model trained on 3.3 trillion tokens, whose overall performance, as measured by both academic benchmarks and internal testing, rivals that of models such as Mixtral 8x7B and GPT-3.5 (e.g., phi-3-mini achieves 69% on MMLU and 8.38 on MT-bench), despite being small enough to be deployed on a phone. The innovation lies entirely in our dataset for training, a scaled-up version of the one used for phi-2, composed of heavily filtered publicly available web data and synthetic data. The model is also further aligned for robustness, safety, and chat format. We also provide some initial parameter-scaling results with a 7B and 14B models trained for 4.8T tokens, called phi-3-small and phi-3-medium, both significantly more capable than phi-3-mini (e.g., respectively 75% and 78% on MMLU, and 8.7 and 8.9 on MT-bench). Moreover, we also introduce phi-3-vision, a 4.2 billion parameter model based on phi-3-mini with strong reasoning capabilities for image and text prompts.\u001b[0m\n",
      "\n",
      "***** Chunk 3 *****\n",
      "Length of chunk = 1553\n",
      "\n",
      "\u001b[1;34mThe striking progress of AI in the last few years can be largely attributed to major efforts through- out the world towards scaling-up to ever-larger models and datasets. Large Language Models (LLMs) have steadily increased in size from a mere billion parameters just five years ago (GPT-2 had 1.5 bil- lion parameters [RWC+19]) to trillion parameters today. The impetus for this effort originates in the seemingly predictable improvement one obtains by training large models, the so-called scaling laws [KMH+20, HBM+22, MRB+23]. However these laws assume a \"fixed\" data source. This assumption is now significantly disrupted by the existence of frontier LLMs themselves, which allow us to interact with data in novel ways. In our previous works on the phi models [GZA+23, LBE+23, JBA+23] it was shown that a combination of LLM-based filtering of publicly available web data, and LLM-created synthetic data, enable performance in smaller language models that were typically seen only in much larger mod- els. For example our previous model trained on this data recipe, phi-2 (2.7B parameters), matched the performance of models 25 times larger trained on regular data. In this report we present a new model, phi-3-mini (3.8B parameters), trained for 3.3T tokens on larger and more advanced versions of the datasets used in phi-2. With its small size, phi-3-mini can easily be inferenced locally on a modern phone (see Figure 2), yet it achieves a quality that seems on-par with models such as Mixtral 8x7B [JSR+24] and GPT-3.5.  \n",
      "<!-- PageNumber=\"1\" -->\u001b[0m\n",
      "\n",
      "***** Chunk 4 *****\n",
      "Length of chunk = 821\n",
      "\n",
      "\u001b[1;34m:selected: :unselected:\n",
      "User: Explain why it is surprising that one can build a language model small enough to fit on a phone, yet almost as powerful as ChatGPT. Just use one funny sentence.  \n",
      "phi-3-mini: It's like fitting a supercomputer in a flip phone, but instead of breaking the phone, it just breaks the internet with its tiny, yet mighty, linguistic prowess! User: Okay now more serious answer, and note that this was achieved solely by changing the training data.  \n",
      "phi-3-mini: The development of a compact language model that rivals the capabilities of ChatGPT, while fitting on a phone, is a testament to the power of data-driven machine learning. By meticulously curating and optimizing the training dataset, researchers can significantly reduce the model's size without compromising its performance. [ . . . ]\u001b[0m\n",
      "\n",
      "***** Chunk 5 *****\n",
      "Length of chunk = 703\n",
      "\n",
      "\u001b[1;34mThe phi-3-mini model is a transformer decoder architecture [VSP+17], with default context length 4K. We also introduce a long context version via LongRope [DZZ+24a] that extends the context length to 128K, called phi-3-mini-128K.  \n",
      "To best benefit the open source community, phi-3-mini is built upon a similar block structure as Llama-2 [TLI+23] and uses the same tokenizer with vocabulary size of 320641. This means that all packages developed for Llama-2 family of models can be directly adapted to phi-3-mini. The model uses 3072 hidden dimension, 32 heads and 32 layers. We trained using bfloat 16 for a total of 3.3T tokens. The model is already chat-finetuned, and the chat template is as follows:\u001b[0m\n",
      "\n",
      "***** Chunk 6 *****\n",
      "Length of chunk = 9500\n",
      "\n",
      "\u001b[1;34mThe phi-3-small model (7B parameters) leverages the tiktoken tokenizer (for better multilingual tokenization) with a vocabulary size of 1003522 and has default context length 8192. It follows the standard decoder architecture of a 7B model class, having 32 heads, 32 layers and a hidden size of 4096. We switched from GELU activation to GEGLU and used Maximal Update Parametrization (muP) [?] to tune hyperparameters on a small proxy model and transfer them to the target 7B model. Those helped ensure better performance and training stability. Also, the model leverages a grouped-query attention, with 4 queries sharing 1 key. To optimize the training and inference speed, we design a novel blocksparse attention module. For each attention head, the blocksparse attention enforces different sparsity patterns over KV cache. This ensures that all tokens are attended to on different heads for the given choice of sparsity. As illustrated in Figure 1, the context is then efficiently divided and conquered among attention heads, with significant KV cache reduction. To achieve actual deployment speed-up from the blocksparse design, we implemented highly efficient, yet flexible kernels for both training and inference. For training, we build a triton kernel based on Flash Attention [DFE+22]. For inference, we implemented a kernel for the prefilling phase and extended the paged attention kernel in vLLM for the decoding phase [KLZ+23]. Lastly, in phi-3-small architecture, we alternate dense attention layers and blocksparse attention layers to optimize KV cache savings while maintaining long context retrieval performance. An additional 10% multilingual data was also used for this model.  \n",
      "Highly capable language model running locally on a cell-phone. Thanks to its small size, phi- 3-mini can be quantized to 4-bits so that it only occupies \\~ 1.8GB of memory. We tested the quantized model by deploying phi-3-mini on iPhone 14 with A16 Bionic chip running natively on-device and fully offline achieving more than 12 tokens per second.  \n",
      "<!-- Footnote=\"1 We remove BoS tokens and add some additional tokens for chat template.\" -->  \n",
      "<!-- Footnote=\"2We remove unused tokens from the vocabulary.\" -->  \n",
      "<!-- PageNumber=\"2\" -->  \n",
      "| | Block1 | Block2 | Block3 | Block4 | Block5 | Block6 | Block7 | Block8 |\n",
      "| - | - | - | - | - | - | - | - | - |\n",
      "| Head1 | | | | | | | | |\n",
      "| Head2 | | | | | | | | |\n",
      "| Head3 | | | | | | | | |\n",
      "| Head4 | | | | | | | | |  \n",
      "Figure 1: Toy illustration of the blocksparse attention in phi-3-small with 2 local blocks and vertical stride of 3. The table shows the Keys/values a query token in block 8 attended to. Blue=local blocks, orange=remote/vertical blocks, gray=blocks skipped.  \n",
      "Training Methodology. We follow the sequence of works initiated in \"Textbooks Are All You Need\" [GZA+23], which utilize high quality training data to improve the performance of small language models and deviate from the standard scaling-laws. In this work we show that such method allows to reach the level of highly capable models such as GPT-3.5 or Mixtral with only 3.8B total parameters (while Mixtral has 45B total parameters for example). Our training data of consists of heavily filtered publicly available web data (according to the \"educational level\") from various open internet sources, as well as synthetic LLM-generated data. Pre-training is performed in two disjoint and sequential phases; phase-1 comprises mostly of web sources aimed at teaching the model general knowledge and language understanding. Phase-2 merges even more heavily filtered webdata (a subset used in Phase-1) with some synthetic data that teach the model logical reasoning and various niche skills.  \n",
      "Data Optimal Regime. Unlike prior works that train language models in either \"compute optimal regime\" [HBM+22] or \"over-train regime\", we mainly focus on the quality of data for a given scale.3 We try to calibrate the training data to be closer to the \"data optimal\" regime for small models. In particular, we filter the publicly available web data to contain the correct level of \"knowledge\" and keep more web pages that could potentially improve the \"reasoning ability\" for the model. As an example, the result of a game in premier league in a particular day might be good training data for frontier models, but we need to remove such information to leave more model capacity for \"reasoning\" for the mini size models. We compare our approach with Llama-2 in Figure 3.  \n",
      "To test our data on larger size of models, we also trained phi-3-medium, a model with 14B pa- rameters using the same tokenizer and architecture of phi-3-mini, and trained on the same data for slightly more epochs (4.8T tokens total as for phi-3-small. The model has 40 heads and 40 layers, with embedding dimension 5120. We observe that some benchmarks improve much less from 7B to 14B than they do from 3.8B to 7B, perhaps indicating that our data mixture needs further work to be in the \"data optimal regime\" for 14B parameters model.  \n",
      "Post-training. Post-training of phi-3-mini went through two stages, including supervised finetuning (SFT) and direct preference optimization (DPO). SFT leverages highly curated high-quality data across diverse domains, e.g., math, coding, reasoning, conversation, model identity, and safety. The SFT data mix starts with using English-only examples. DPO data covers chat format data, reasoning, and responsible AI (RAI) efforts. We use DPO to steer the model away from unwanted behavior, by using those outputs as \"rejected\" responses. Besides improvement in math, coding, reasoning, robustness, and safety, post-training transforms a language model to an AI assistant that users can efficiently and safely interact with.  \n",
      "<!-- Footnote=\"3 Just like for \"compute optimal regime\", we use the term \"optimal\" in an aspirational sense for \"data optimal regime\". We are not implying that we actually found the provably \"optimal\" data mixture for a given scale.\" -->  \n",
      "<!-- PageNumber=\"3\" -->  \n",
      "<figure>  \n",
      "![](figures/0)  \n",
      "</figure>  \n",
      "<figure>  \n",
      "![](figures/1)  \n",
      "<!-- FigureContent=\"Phi-3-mini-4k-instruct-q4 < < Phi-3-mini-4k-instruct-q4 < You You Phi-3-mini-4k-instruct-q4 Write a short poem that is hard to sing. What are some must do activities in Houston, TX area with 11 yr old kids? You LLM Write a title for the paper where each letter starts with P on very small language model that is more powerful than bigger ones. In whispers soft, a riddle's dance, LLM Here are some must-do activities in the Houston, TX area that will be enjoyable for a 11-year old: Cryptic rhymes in convoluted stance. LLM A tongue twister's treacherous lure, 1. Space Center Houston: This is an amazing space museum that offers numerous interactive exhibits and hands-on experiences related to astronautics, including moon rocks brought back from Apollo 17 mission, the International Space Station (ISS) simulator ride, and NASA's shuttle program displays. Title: \"Pinnacle Potential: Powering Progressive Paradigms with Pristine Predictive Prowess\" Melodies tangled, hearts unsure. This title encapsulates the essence of a paper focused on an advanced, small-scale language model exhibiting extraordinary predictive capabilities. By using each letter to start successive words and highlighting its superior potential (\"Pinnacle Potential\"), it emphasizes the breakthrough nature of such technology compared to larger models (\"Powering Progressive Paradigms\"). The inclusion of \"with Pristine Predictive Prowess\" underscores the precise prediction ability that sets this language model apart. Through syllables that slyly tangle and knot, Echoing choruses of a labyrinthic thought, 2. Houston Zoo: The zoo has over 600 species of animals on display in a naturalistic environment. Take With pitches so high they baffle the ear, Type your message ... A sonnet's challenge to vocal frontier. 1 The 10.66 ses, 12.47 t/s For in this poem where words entwine, Q WE RTYUIOP An enigmatic song that dares not align, A S D F G H J K L To sing may lead one down a perplexed trail, Z :selected: X In pursuit of rhythm, where melodies flail. CV B N M :selected: X 11.80 ses, 14.75 t/s 123 space return Type your message ... Type your message ... :)\" -->  \n",
      "<figcaption>  \n",
      "Figure 2: 4-bit quantized phi-3-mini running natively on an iPhone with A16 Bionic chip, generating over 12\n",
      "tokens per second.  \n",
      "</figcaption>  \n",
      "</figure>  \n",
      "<figure>  \n",
      "![](figures/2)  \n",
      "<!-- FigureContent=\"Data Optimal Scaling Law versus Model families trained on the same data 66.69 Fitted line for Phi Fitted line for Llama2 54.60 MMLU error rate (percentage) 44.70 36.60 29.96 24.53 - 20.09 1.00 1.65 2.72 4.48 7.39 12.18 20.09 33.12 54.60 90.02 Model size (Billons)\" -->  \n",
      "<figcaption>  \n",
      "Figure 3: Scaling law close to the \"Data Optimal Regime\" (from left to right: phi-1.5, phi-2, phi-3-mini, phi-3-\n",
      "small) versus Llama-2 family of models (7B, 13B, 34B, 70B) that were trained on the same fixed data. We plot\n",
      "the log of MMLU error versus the log of model size.  \n",
      "</figcaption>  \n",
      "</figure>  \n",
      "<!-- PageNumber=\"4\" -->\n",
      ":unselected:\n",
      "As part of the post-training process, we developed a long context version of phi-3-mini with context length limit enlarged to 128K instead of 4K. Across the board, the 128K model quality is on par with the 4K length version, while being able to handle long context tasks. Long context extension has been done in two stages, including long context mid-training and long-short mixed post-training with both SFT and DPO.\u001b[0m\n",
      "\n",
      "***** Chunk 7 *****\n",
      "Length of chunk = 3670\n",
      "\n",
      "\u001b[1;34mOn the next page we report the results for phi-3-mini on standard open-source benchmarks measuring the model's reasoning ability (both common sense reasoning and logical reasoning). We compare to phi-2 [JBA+23], Mistral-7b-v0.1 [JSM+23], Mixtral-8x7b [JSR+24], Gemma 7B [TMH+24], Llama-3-instruct- 8b [AI], and GPT-3.5. All the reported numbers are produced with the exact same pipeline to ensure that the numbers are comparable. These numbers might differ from other published numbers due to slightly different choices in the evaluation. As is now standard, we use few-shot prompts to evaluate the models, at temperature 0. The prompts and number of shots are part of a Microsoft internal tool to evaluate language models, and in particular we did no optimization to the pipeline for the phi-3 models.4 The number of k-shot examples is listed per-benchmark. An example of a 2-shot prompt is described in Appendix A.  \n",
      "<!-- Footnote=\"4For example, we found that using ## before the Question can lead to a noticeable improvement to phi-3-mini's results across many benchmarks, but we did not do such changes in the prompts.\" -->  \n",
      "<!-- PageNumber=\"5\" -->  \n",
      "| ||| Phi-3-mini Phi-3-small Phi-3-medium 3.8b  7b  14b || Phi-2 Mistral 2.7b  7b | Gemma 7b || Llama-3-In Mixtral 8b  8x7b | GPT-3.5 version 1106 |\n",
      "| - | - | - | - | - | - | - | - | - | - |\n",
      "| MMLU (5-Shot) [HBK+21] | 68.8 | 75.7 | 78.0 | 56.3 | 61.7 | 63.6 | 66.5 | 70.5 | 71.4 |\n",
      "| HellaSwag (5-Shot) [ZHB+19] | 76.7 | 77.0 | 82.4 | 53.6 | 58.5 | 49.8 | 71.1 | 70.4 | 78.8 |\n",
      "| ANLI (7-Shot) [NWD+20] | 52.8 | 58.1 | 55.8 | 42.5 | 47.1 | 48.7 | 57.3 | 55.2 | 58.1 |\n",
      "| GSM-8K (8-Shot; CoT) [CKB+21] | 82.5 | 89.6 | 91.0 | 61.1 | 46.4 | 59.8 | 77.4 | 64.7 | 78.1 |\n",
      "| MedQA (2-Shot) [JPO+20] AGIEval | 53.8 | 65.4 | 69.9 | 40.9 | 50.0 | 49.6 | 60.5 | 62.2 | 63.4 |\n",
      "||||||\n",
      "|| | | | | | 37.5 | 45.1 | 50.2 | 29.8 | 35.1 | 42.1 | 42.0 | 45.2 | 48.4 |\n",
      "| (0-Shot) [ZCG+23] TriviaQA (5-Shot) [JCWZ17] |\n",
      "|| | | | | | | | || 64.0 | 58.1 | 73.9 | 45.2 | 75.2 | 72.3 | 67.7 | 82.2 | 85.8 |\n",
      "| Arc-C (10-Shot) [CCE+18] | 84.9 | 90.7 | 91.6 | 75.9 | 78.6 | 78.3 | 82.8 | 87.3 | 87.4 |\n",
      "| Arc-E (10-Shot) [CCE+18] | 94.6 | 97.0 | 97.7 | 88.5 | 90.6 | 91.4 | 93.4 | 95.6 | 96.3 |\n",
      "| PIQA | 84.2 | 86.9 | 87.9 | 60.2 | 77.7 | 78.1 | 75.7 | 86.0 | 86.6 |\n",
      "| (5-Shot) [BZGC19] ||||||||||\n",
      "| SociQA (5-Shot) [BZGC19] | 76.6 | 79.2 | 80.2 | 68.3 | 74.6 | 65.5 | 73.9 | 75.9 | 68.3 |\n",
      "| BigBench-Hard (3-Shot; CoT) [SRR+22, SSS+22] | 71.7 | 79.1 | 81.4 | 59.4 | 57.3 | 59.6 | 51.5 | 69.7 | 68.32 |\n",
      "| WinoGrande (5-Shot) [SLBBC19] | 70.8 | 81.5 | 81.5 | 54.7 | 54.2 | 55.6 | 65.0 | 62.0 | 68.8 |\n",
      "| Open BookQA (10-Shot) [MCKS18] | 83.2 | 88.0 | 87.4 | 73.6 | 79.8 | 78.6 | 82.6 | 85.8 | 86.0 |\n",
      "| BoolQ (2-Shot) [CLC+19] | 77.2 | 84.8 | 86.5 | – :unselected: | 72.2 | 66.0 | 80.9 | 77.6 | 79.1 |\n",
      "| CommonSenseQA (10-Shot) [THLB19] TruthfulQA (10-Shot; MC2) [LHE22] | 80.2 | 80.0 | 82.8 | 69.3 | 72.6 | 76.2 | 79.0 | 78.1 | 79.6 |\n",
      "|| 65.0 | 70.2 | 75.1 | – | 53.0 | 52.1 | 63.2 | 60.1 | 85.8 |\n",
      "| HumanEval (0-Shot) [CTJ+21] | 58.5 | 61.0 | 62.2 | 59.0 | 28.0 | 34.1 | 60.4 | 37.8 | 62.2 |\n",
      "| MBPP (3-Shot) [AON+21] | 70.0 | 71.7 | 75.2 | 60.6 | 50.8 | 51.5 | 67.7 | 60.2 | 77.8 |\n",
      "| Average | 71.2 | 75.7 | 78.5 | – :unselected: | 61.2 | 61.7 | 69.4 | 69.8 | 74.3 |\n",
      "| GPQA (2-Shot; CoT) [RHS+23] | 32.8 | 34.3 | – | – :unselected: | – :unselected: | – :unselected: :unselected: :unselected: | – :unselected: | – :unselected: :unselected: | 29.0 |\n",
      "| MT Bench (2 round ave.) [ZCS+23] | 8.38 | 8.70 | 8.91 | – :unselected: :unselected: | – :unselected: :unselected: | – :unselected: | – :unselected: :unselected: | – :unselected: :unselected: | 8.35 |\u001b[0m\n",
      "\n",
      "***** Chunk 8 *****\n",
      "Length of chunk = 3355\n",
      "\n",
      "\u001b[1;34mPhi-3-mini was developed in accordance with Microsoft's responsible AI principles. The overall ap- proach consisted of safety alignment in post-training, red-teaming, automated testing and evaluations across dozens of RAI harm categories. Helpfulness and harmlessness preference datasets [BJN+22, JLD+23] with modifications inspired by [BSA+24] and multiple in-house generated datasets were lever- aged to address the RAI harm categories in safety post-training. An independent red team at Microsoft iteratively examined phi-3-mini to further identify areas of improvement during the post-training pro- cess. Based on their feedback, we curated additional datasets tailored to address their insights, thereby refining the post-training dataset. This process resulted in significant decrease of harmful response rates, as shown in Figure 4.  \n",
      "<!-- PageNumber=\"6\" -->\n",
      "<figure>  \n",
      "![](figures/3)  \n",
      "<!-- FigureContent=\"Comparison of Content Generated by Phi Text Models Before and After Safety Post-Training model Percentage (%) of Harmful Responses 70- :selected: Phi Text (without post-training) Phi Text (with post-training + red teaming) 60 - 50 - 40- 30 - 20 - 10 - 0 current events cyber fairness\\_bias hate\\_speech model\\_identity political\\_misinfo sexual violence Harm area\" -->  \n",
      "<figcaption>  \n",
      "Figure 4: Comparison of harmful response percentages by Microsoft AI Red Team between phi-3-mini before\n",
      "and after the safety alignment. Note that the harmful response percentages in this chart are inflated numbers as\n",
      "the red team tried to induce phi-3-mini in an adversarial way to generate harmful responses through multi-turn\n",
      "conversations.  \n",
      "</figcaption>  \n",
      "</figure>  \n",
      "| |||||| Phi-3-mini Phi-3-small Phi-3-medium Phi-2 Mistral Gemma 3.8b  7b  14b  2.7b  7b  7b | Llama-3-In 8b |\n",
      "| - | - | - | - | - | - | - | - |\n",
      "| Ungroundedness | 0.603 | 0.299 | 0.213 | 1.481 | 0.935 | 0.679 | 0.328 |\n",
      "| Third Party Harm (DR-1) | 0.240 | 0.253 | 0.251 | 0.240 | 0.562 | 0.383 | 0.373 |\n",
      "| Harmful Content Continuation (DR-3) | 0.007 | 0.003 | 0.010 | 0.029 | 0.026 | 0.013 | 0.013 |\n",
      "| Harmful Content Summarization (DR-3) | 0.100 | 0.110 | 0.112 | 0.144 | 0.223 | 0.103 | 0.082 |\n",
      "| Jailbreak (DR-1) | 0.123 | 0.107 | 0.111 | 0.150 | 0.156 | 0.114 | 0.130 |  \n",
      "Table 1: Comparison of Microsoft internal multi-turn conversation RAI benchmark results of phi-3 models and other models. Note that a lower value indicates a better performance for all metrics in the table.  \n",
      "The safety alignment of phi-3-small and phi-3-medium was conducted by undergoing the same red-teaming process, utilizing identical datasets, and incorporating a slightly larger number of samples. Table 1 shows the results of in-house RAI benchmarks [MHJ+23] for phi-3 models compared to phi-2 [JBA+23], Mistral-7b-v0.1 [JSM+23], Gemma 7b [TMH+24], and Llama-3-instruct-8b [AI]. This bench- mark utilized GPT-4 to simulate multi-turn conversations in five different categories and to evaluate the model responses. Ungroundedness between 0 (fully grounded) and 4 (not grounded) measures if the information in a response is based on a given prompt. In other categories, responses were evaluated in terms of the severity of harmfulness from 0 (no harm) to 7 (extreme harm) and the defect rates (DR-x) were computed as the percentage of samples with the severity score being greater than or equal to x.\u001b[0m\n",
      "\n",
      "***** Chunk 9 *****\n",
      "Length of chunk = 6956\n",
      "\n",
      "\u001b[1;34mIn terms of LLM capabilities, while phi-3-mini model achieves similar level of language understanding and reasoning ability as much larger models, it is still fundamentally limited by its size for certain tasks.  \n",
      "<!-- PageNumber=\"7\" -->  \n",
      "<!-- PageHeader=\"Suggest an itinerary for a 3-day trip during the 2026 Winter Olympic games\" -->  \n",
      "<!-- PageHeader=\"Suggest an itinerary for a 3-day trip during the 2026 Winter Olympic games\" -->\n",
      ":selected:\n",
      "<figure>  \n",
      "![](figures/4)  \n",
      "<!-- FigureContent=\"Day 1: Arrival and Surrounding Neighborhoods Web Search Completed Morning: . Arrive in Pyeongchang, South Korea, and check-in to your accommodations. Day 1: Arrival and Exploring Milan · Enjoy a light breakfast at your hotel. . Arrive in Milan on February 6, 2026, the day of the Opening Ceremony. Mid-morning: . Spend the day exploring Milan's city center, including Piazza del Duomo, Galleria Vittorio Emanuele II, and the Sforza Castle. . Take a leisurely walk around the town and explore the local shops and cafes. . Enjoy the vibrant Milanese nightlife, with options like the city's many trendy cafes and restaurants. Lunch: . Visit the new Fiera Milano expo center for a unique and inspiring experience. · Try local specialties such as kimbap (Korean rice rolls) or mandu (Korean dumplings) at a nearby restaurant. Day 2: Cortina d'Ampezzo and Outdoor Activities Afternoon: . Take the train from Milan to Cortina d'Ampezzo, arriving in the afternoon. . Visit Pyeongchang Olympic Cauldron Park, the site of the 2018 Winter Olympics, to take photos and admire the beautiful scenery. . Check into your hotel and spend the evening relaxing and enjoying the local cuisine, such as risotto and polenta, at traditional pizzerias or trattorias. . Rent a bike and explore the surrounding neighborhoods, such as Pyeongchang Village, where you can find souvenir shops, outdoor activities, and various dining options. . On Day 2, take part in various outdoor activities, such as skiing, snowboarding, or tubing. Many of these activities are available at nearby resorts like Madonna di Campiglio, Kronplatz, or Passo San Pellegrino. . In the evening, explore Cortina d'Ampezzo's charming streets, visit the historic St. Felix Castle, and enjoy the beautiful mountain scenery. Evening: . Dine at a local restaurant and enjoy traditional Korean cuisine such as samgyeopsal (grilled pork belly) or bulgogi (marinated beef). Day 3: Paralympic Games and Departure . On Day 3, attend the Paralympic Games, held in Turin on March 6, 2026. Day 2: Olympic Sports and Cultural Activities . Take the train from Cortina d'Ampezzo to Turin, arriving in time for the Paralympic events. Morning: . Explore Turin's attractions, such as the Mole Antonelliana, the Egyptian Museum, and Piazza Vittorio Veneto. . Visit the Alpensia Sports Park, where the majority of the 2026 Winter Olympic events will be held. . See the ski slopes, ice rinks, and indoor arenas, and watch a glimpse of the opening and closing ceremonies. . Return to Milan in the evening for your departure, concluding your 3-day itinerary during the Milano Cortina 2026 Winter Olympic Games. Throughout your trip, make sure to book your accommodations, transportation, and tickets in advance, as these events are highly popular and may sell out quickly. Enjoy your time in Italy and the exciting Winter Olympic Games! Mid-morning: . Participate in a guided tour to learn about the history of the 2026 Winter Olympics and the unique features of the Pyeongchang venues. Sources: olympics.com olympics.com milanocortina2026.olympics.com :selected: milanwintertravel.com olympics.com :unselected: Search web @ Search web 1 Ask anything Ask anything\" -->  \n",
      "<figcaption>  \n",
      "Figure 5: Left: phi-3-mini's completion without search. Right: phi-3-mini's completion with search, using the\n",
      "default HuggingFace Chat-UI search ability. For reference, the 2026 Winter Olympic Games are scheduled to be\n",
      "held in Milano and Cortina in Italy, while the 2022 and 2018 Winter Olympic Games were held in Beijing, China\n",
      "and PyeongChang, Korea, respectively. Without the search results, the response is incorrect, while with the web\n",
      "search, not only does the response become accurate, but also gets more specific with suggestions.  \n",
      "</figcaption>  \n",
      "</figure>  \n",
      "The model simply does not have the capacity to store too much \"factual knowledge\", which can be seen for example with low performance on TriviaQA. However, we believe such weakness can be resolved by augmentation with a search engine. We show an example using the HuggingFace default Chat-UI with phi-3-mini in Figure 5. Another weakness related to model's capacity is that we mostly restricted the language to English. Exploring multilingual capabilities for Small Language Models is an important next step, with some initial promising results on phi-3-small by including more multilingual data.  \n",
      "Despite our diligent RAI efforts, as with most LLMs, there remains challenges around factual inaccu- racies (or hallucinations), reproduction or amplification of biases, inappropriate content generation, and safety issues. The use of carefully curated training data, and targeted post-training, and improvements from red-teaming insights significantly mitigates these issues across all dimensions. However, there is significant work ahead to fully address these challenges, and downstream use of the models should be evaluated for the specific use cases and safety considerations for that context.  \n",
      "<!-- PageNumber=\"8\" -->  \n",
      "extract all displayed texts and keep original displayed format. For the left section, please\n",
      "<figure>  \n",
      "![](figures/5)  \n",
      "<!-- FigureContent=\"use markdown table with column \"coffee\", \"small\", \"median\" and \"large\". Instead, for the right section, please use JSON format. COFFEE & TEA O OSMMEDLG Teas CUP! POT Certainly! Below is the markdown table converted from the image: Esspresso 1.50 ,4.00 1 30 1 60 2.00 Americana 1.40 1.75 | 2.10 Cappucino 2.25 2 90 3.25 GREEN Latte 2.35 3 00 3.25 BLACK Mocha 12 35 3.00 3.50 WHITE Chai 2.25 2.40 3.25 OOLONG Chai Bomb 2.75 3.25 3.75 HERBAL House Cafe 1.50 1.75 2 00 \\* ADD .50 FOR HONEY Café au Lait 1.75 2 50 3.25 \\*ADD 1.00 FORICE And here is the JSON representation of the teas offered: \"Teas\": { What is the price of a Cappuccino with large size? \"CUP\": { \"GREEN\": \"$1.50\", \"BLACK\": \"$1.50\", :selected: The price for a Cappuccino in large size is $3.25. \"WHITE\": \"$1.50\", \"OOLONG\": \"$1.50\", \"HERBAL\": \"$1.50\" How much does it cost to add ice to a tea? \"POT\": { \"GREEN\": \"$4.00\", \"BLACK\": \"$4.00\", :selected: . It costs an additional $1.00 to add ice to any tea. \"WHITE\": \"$4.00\", \"OOLONG\": \"$4.00\", \"HERBAL\": \"$4.00\" If someone wants to buy a pot of tea, how much would it cost? \"\\*ADD .50 FOR HONEY\\*\", \"\\*ADD $1.00 FORICE\\*\" . A pot of tea would cost $4.00. 7\" -->  \n",
      "<figcaption>  \n",
      "Figure 6: The demo case shows Phi-3-Vision's capability in natural image understanding and reasoning.  \n",
      "</figcaption>  \n",
      "</figure>\u001b[0m\n",
      "\n",
      "***** Chunk 10 *****\n",
      "Length of chunk = 2866\n",
      "\n",
      "\u001b[1;34mArchitecture The Phi-3-Vision (4.2B parameters) is a multimodal model designed to process an image and a textual prompt as inputs, and subsequently generate textual outputs. This model is com- posed of two primary components: an image encoder, i.e., CLIP ViT-L/14 [RKH+21] and a transformer decoder, i.e., phi-3-mini-128K-instruct. The visual tokens, once extracted by the image encoder, are then combined with text tokens in an interleaved way (no particular order for image and text tokens). To ac- commodate high-resolution images and various aspect ratios, a dynamic cropping strategy [DZZ+24b] is utilized to split the input image into a 2d array of blocks, where the tokens of the blocks are concatenated to represent the whole image.  \n",
      "Pre-training The Phi-3-Vision model undergoes a pre-training phase using a diverse dataset, which consists of a combination of interleaved image-text documents (e.g., [LST+24]), image-text pairs from FLD-5B [XWX+24], synthetic data derived from Optical Character Recognition (OCR) of PDF files, datasets for chart/table comprehension, and text-only data. The objective of predicting the next token is employed specifically on text tokens, while any loss associated with image tokens is disregarded during this phase. The pre-training process involves a total of 0.5T tokens that encompass both visual and text elements. During the pre-training phase, the maximum image resolution is capped at 1344 x 1344 as the majority of the training images are smaller than this resolution.  \n",
      "<!-- PageNumber=\"9\" -->  \n",
      "| \\| Coffee 1 - ||| \\| Small \\| Medium \\| Large   |\n",
      "| - | - | - | - |\n",
      "| \\| Espresso | \\| 1.30| \\| 1.60  | 2.00 |\n",
      "| \\| Americana | \\| 1.40 | \\| 1.75| \\| 2.10  |\n",
      "| \\| Cappuccino | \\| 2.25 | \\| 2.90| \\| 3.25  |\n",
      "| \\| Latte | \\| 2.35 | \\| 3.00| \\| 3.25  |\n",
      "| \\| Mocha | \\| 2.35 | \\| 3.00| \\| 3.50  |\n",
      "| \\| Chai | \\| 2.25 | \\| 2.40 | \\| 3.25 |\n",
      "| \\| Chai Bomb | \\| 2.75 | \\| 3.25| \\| 3.75  |\n",
      "| \\| House Cafe | \\| 1.50 | \\| 1.75| \\| 2.00  |\n",
      "| \\| Cafe au Lait | \\| 1.75 | \\| 2.50| \\| 3.25  |\n",
      ":selected:\n",
      "Post-training. The Phi-3-Vision model contains two post-training stages: supervised finetuning (SFT) and direct preference optimization (DPO). For SFT, we leveraged text SFT dataset, public mul- timodal instruct tuning datasets along with large-scale multimodal instruct tuning datasets that we built ourselves, covering diverse domains and tasks such as general natural image understanding, chart/table/- diagram understanding/reasoning, PowerPoint understanding, and model safety. The multimodal SFT data has about a total of 15B tokens. For DPO we mainly use a text DPO dataset and a relatively smaller-scale multimodal DPO dataset. For these two stages, we jointly train multimodal tasks and text- only tasks so that the model can achieve multi-modal reasoning while maintaining language capabilities as much as possible.\u001b[0m\n",
      "\n",
      "***** Chunk 11 *****\n",
      "Length of chunk = 1749\n",
      "\n",
      "\u001b[1;34mWe report in Table 2 the evaluation results of Phi-3-Vision on nine open-source academic benchmarks. These benchmarks evaluate reasoning and perceptual capabilities on visual and text inputs and can be grouped in three categories: Science, Charts, and Generic knowledge. We compare Phi-3-Vision with the following baselines: MM1-3B-Chat [MGF+24], MM1-7B-Chat [MGF+24], Llava-1.6 Vicuna 7B [LLLL23], Llava-1.6 Llama3-8B [LLL+24], Qwen-VL-Chat [BBY+23], Claude 3 Haiku [Ant24], Gemini 1.0 Pro V [TAB+23], and GPT-4V-Turbo. Our performance quality assessment setup used the same evaluation pipeline for all the baselines to ensure a fair comparison, with the exception of MM1-3B-Chat. We just copied and pasted their published numbers since the model is not publicly available.  \n",
      "Our evaluation setup aimed to mimic scenarios where regular users interact with a multi-modal model, i.e., users who are not experts in prompt engineering or know special techniques that can improve performance. For this reason, we adopted the evaluation setting used in Llava-1.5 [LLLL23]. In this setup, the prompts include instructions to select a single letter corresponding to an answer from a list of given options, or answer with a single word or phrase. In our prompts, we did not use specific tokens for multiple-choice questions. Moreover, we did not scale or pre-process any image in our benchmarking system. We placed the images as the first item in the prompts, except on the MMMU dataset where the prompts interleave the images anywhere in the question or the answers. Lastly, our evaluation setup only considered a 0-shot format. Because of these evaluation parameters, our reported numbers can differ from the published numbers of the considered baselines.\u001b[0m\n",
      "\n",
      "***** Chunk 12 *****\n",
      "Length of chunk = 3014\n",
      "\n",
      "\u001b[1;34mTo ensure the integration of Phi-3-Vision aligns with Microsoft's Responsible AI (RAI) principles, we involved safety post-training in both Supervised Fine-Tuning (SFT) stage and Direct Preference Optimization (DPO) stage. In creating the safety training datasets, we utilized not only the text- only RAI datasets, but also a variety of in-house Multi-Modal (MM) RAI datasets that cover various harm categories identified in both public and internal MM RAI benchmarks. For the purpose of RAI evaluation, we performed a rigorous quantitative assessment on both public and internal benchmarks, this was done in conjunction with a human evaluation conducted by Microsoft's internal red team.  \n",
      "In Table 3, we present the evaluation outcomes of Phi-3-Vision on three MM RAI benchmarks: one internal and two public benchmarks (specifically, RTVLM [LLY+24] and VLGuard [ZBY+24]). We juxtapose these results with those of other open-source models such as Llava-1.5 [LLLL23], Llava-1.6 [LLL+24], Qwen-VL-Chat [BBY+23], and GPT4-V[Ope23]. The results clearly indicate that safety post- training notably enhances the RAI performance of Phi-3-Vision across all RAI benchmarks. In Figure 7, we further breakdown the performance across different RAI categories of the VLGuard and Internal benchmarks, demonstrating that safety post-training can aid Phi-3-Vision in improving RAI performance in nearly all categories.  \n",
      "<!-- PageNumber=\"10\" -->  \n",
      "| | 4.2b Phi-3-Vision | MM1-3B-Chat 3.6b [MGF+24] | 7.6b [MGF+24] MM1-7B-Chat | LLaVA-1.6 Vicuna-7b [LLLL23] | LLaVA-Next LLama3-8b [LLL+24] | 9.6b [BBY+23] Qwen-VL-Chat | [Ant24] Claude 3 haiku | [TAB+23] Gemini 1.0 Pro V | GPT-4V-Turbo turbo-2024-04-09 |\n",
      "| - | - | - | - | - | - | - | - | - | - |\n",
      "| MMMU (val) [YNZ+23] | 40.4 | 33.9 | 37.0 | 34.2 | 36.4 | 39.0 | 40.7 | 42.0 | 55.5 |\n",
      "| ScienceQA (test) [LMX+22] | 90.8 | 69.4 | 72.6 | 70.6 | 73.7 | 67.2 | 72.0 | 79.7 | 75.7 |\n",
      "| Math Vista (testmini) [LBX+24] Inter-GPS (test) [LGJ+21] | 44.5 | 32.0 | 35.9 | 31.5 | 34.8 | 29.4 | 33.2 | 35.0 | 47.5 |\n",
      "|| 38.1 | - | - | 20.5 | 24.6 | 22.3 | 32.1 | 28.6 | 41.0 |\n",
      "| MMBench (dev-en) [LDZ+24] POPE (test) [LDZ+23] | 80.5 | 75.9 | 79.0 | 76.3 | 79.4 | 75.8 | 62.4 | 80.0 | 86.1 |\n",
      "|| 85.8 | 87.4 | 86.6 | 87.2 | 87.0 | 82.6 | 74.4 | 84.2 | 83.7 |\n",
      "| AI2D (test) [KSK+16] ChartQA (test) [MLT+22] | 76.7 | - | - | 63.1 | 66.9 | 59.8 | 60.3 | 62.8 | 74.7 |\n",
      "|| 81.4 | - | - | 55.0 | 65.8 | 50.9 | 59.3 | 58.0 | 62.3 |\n",
      "| Text VQA (test) [SNS+19] | 70.9 | 71.9 | 72.8 | 64.6 | 55.7 | 59.4 | 62.7 | 64.7 | 68.1 |  \n",
      "Table 2: Comparison results on public MLLM benchmarks. All the reported numbers are produced with the exact same pipeline to ensure that the numbers are comparable except for MM1-3B-Chat [MGF+24] and MM1-7B- Chat [MGF+24], which are not publicly available. We adopted the evaluation setting used in Llava-1.5 [LLLL23], without any specific prompt or pre-processing image for all results. These numbers might differ from other published numbers due to slightly different prompts.\u001b[0m\n",
      "\n",
      "***** Chunk 13 *****\n",
      "Length of chunk = 2327\n",
      "\n",
      "\u001b[1;34mRegarding the multi-modal LLM capabilities of our Phi-3-Vision, it performs admirably across various fields. However, we have identified certain limitations, particularly with questions necessitating high- level reasoning abilities. Additionally, the model has been observed to occasionally generate ungrounded outputs, making it potentially unreliable in sensitive areas, such as finance. To mitigate these issues, we will incorporate more reasoning-focused and hallucination-related DPO data into post-training in the future.  \n",
      "From a responsible AI standpoint, whilst safety post-training has made significant strides, our Phi- 3-Vision occasionally fails to refrain from answering harmful or sensitive inquiries. Examples of such occasions include deciphering particular types of captcha and describing scam images containing disin- formation or hallucination. We find that this issue partly arises from the capabilities, such as OCR, acquired during the training process with normal instruct tuning datasets, which can be regarded as the trade-off between helpfulness and harmlessness. Moving forward, we need to further explore this area to achieve a better balance.  \n",
      "<!-- PageNumber=\"11\" -->  \n",
      "| |||| Phi-3-Vision Phi-3-Vision w/o safety Llava-1.6 Vicuna Qwen-VL-Chat 3.8b+0.3b  3.8b+0.3b  7b+0.3b  7.7b+1.9b | GPT4-V N/A |\n",
      "| - | - | - | - | - | - |\n",
      "| Internal (private) | 8.30 | 7.06 | 5.44 | 7.27 | 8.55 |\n",
      "| RTVLM (public) | 4.64 | 3.56 | 3.86 | 4.78 | 6.81 |\n",
      "| VLGuard (public) | 9.12 | 4.66 | 5.62 | 8.33 | 8.90 |  \n",
      "Table 3: Comparison results on public and private multi-modal RAI benchmarks. Note that all metrics in the table are [0,10] and a higher value indicates a better performance.  \n",
      "<figure>  \n",
      "![](figures/6)  \n",
      "<!-- FigureContent=\"Phi-3-Vision w/o safety Phi-3-Vision Phi-3-Vision w/o safety Phi-3-Vision 10 10 8 8 6 6 4 4 2 2 0 0 safeimg-safetxt deception discrimination privacy risk-behaviour safeimg-unsafetxt Total harmful jailbreak privacy grounding Total\" -->  \n",
      "<figcaption>  \n",
      "Figure 7: Comparison of categorized RAI performance of Phi-3-Vision with and without the safety post-training\n",
      "on the VLGuard (left) and Internal (right) benchmark, respectively. It clearly indicates that safety post-training\n",
      "can enhance the RAI performance across nearly all the RAI categories.  \n",
      "</figcaption>  \n",
      "</figure>\u001b[0m\n",
      "\n",
      "***** Chunk 14 *****\n",
      "Length of chunk = 16600\n",
      "\n",
      "\u001b[1;34m[AI] Meta AI. Introducing meta llama 3: The most capable openly available llm to date.  \n",
      "[Ant24] AI Anthropic. The claude 3 model family: Opus, sonnet, haiku. Claude-3 Model Card, 2024.  \n",
      "[AON+21] Jacob Austin, Augustus Odena, Maxwell Nye, Maarten Bosma, Henryk Michalewski, David Dohan, Ellen Jiang, Carrie Cai, Michael Terry, Quoc Le, and Charles Sutton. Program synthesis with large language models. arXiv preprint ar Xiv:2108.07732, 2021.  \n",
      "[BBY+23] Jinze Bai, Shuai Bai, Shusheng Yang, Shijie Wang, Sinan Tan, Peng Wang, Junyang Lin, Chang Zhou, and Jingren Zhou. Qwen-vl: A versatile vision-language model for understand- ing, localization, text reading, and beyond, 2023.  \n",
      "[BJN+22] Yuntao Bai, Andy Jones, Kamal Ndousse, Amanda Askell, Anna Chen, Nova DasSarma, Dawn Drain, Stanislav Fort, Deep Ganguli, Tom Henighan, Nicholas Joseph, Saurav Kada- vath, Jackson Kernion, Tom Conerly, Sheer El-Showk, Nelson Elhage, Zac Hatfield-Dodds, Danny Hernandez, Tristan Hume, Scott Johnston, Shauna Kravec, Liane Lovitt, Neel Nanda, Catherine Olsson, Dario Amodei, Tom Brown, Jack Clark, Sam McCandlish, Chris Olah, Ben Mann, and Jared Kaplan. Training a helpful and harmless assistant with reinforcement learning from human feedback, 2022.  \n",
      "<!-- PageNumber=\"12\" -->  \n",
      "[BSA+24] Federico Bianchi, Mirac Suzgun, Giuseppe Attanasio, Paul Röttger, Dan Jurafsky, Tatsunori Hashimoto, and James Zou. Safety-tuned llamas: Lessons from improving the safety of large language models that follow instructions, 2024.  \n",
      "[BZGC19] Yonatan Bisk, Rowan Zellers, Jianfeng Gao, and Yejin Choi. Piqa: Reasoning about physical commonsense in natural language. arXiv preprint arXiv:1911.11641, 2019.  \n",
      "[CCE+18] Peter Clark, Isaac Cowhey, Oren Etzioni, Tushar Khot, Ashish Sabharwal, Carissa Schoenick, and Oyvind Tafjord. Think you have solved question answering? try arc, the ai2 reasoning challenge, 2018.  \n",
      "[CKB+21] Karl Cobbe, Vineet Kosaraju, Mohammad Bavarian, Mark Chen, Heewoo Jun, Lukasz Kaiser, Matthias Plappert, Jerry Tworek, Jacob Hilton, Reiichiro Nakano, Christopher Hesse, and John Schulman. Training verifiers to solve math word problems. ar Xiv preprint ar Xiv:2110.14168, 2021.  \n",
      "[CLC+19] Christopher Clark, Kenton Lee, Ming-Wei Chang, Tom Kwiatkowski, Michael Collins, and Kristina Toutanova. Boolq: Exploring the surprising difficulty of natural yes/no questions. In Proceedings of the 2019 Conference of the North American Chapter of the Association for Computational Linguistics: Human Language Technologies, Volume 1 (Long and Short Papers), pages 2924-2936, 2019.  \n",
      "[CTJ+21] Mark Chen, Jerry Tworek, Heewoo Jun, Qiming Yuan, Henrique Ponde de Oliveira Pinto, Jared Kaplan, Harri Edwards, Yuri Burda, Nicholas Joseph, Greg Brockman, Alex Ray, Raul Puri, Gretchen Krueger, Michael Petrov, Heidy Khlaaf, Girish Sastry, Pamela Mishkin, Brooke Chan, Scott Gray, Nick Ryder, Mikhail Pavlov, Alethea Power, Lukasz Kaiser, Mo- hammad Bavarian, Clemens Winter, Philippe Tillet, Felipe Petroski Such, Dave Cummings, Matthias Plappert, Fotios Chantzis, Elizabeth Barnes, Ariel Herbert-Voss, William Hebgen Guss, Alex Nichol, Alex Paino, Nikolas Tezak, Jie Tang, Igor Babuschkin, Suchir Balaji, Shantanu Jain, William Saunders, Christopher Hesse, Andrew N. Carr, Jan Leike, Josh Achiam, Vedant Misra, Evan Morikawa, Alec Radford, Matthew Knight, Miles Brundage, Mira Murati, Katie Mayer, Peter Welinder, Bob McGrew, Dario Amodei, Sam McCandlish, Ilya Sutskever, and Wojciech Zaremba. Evaluating large language models trained on code, 2021.  \n",
      "[DFE+22] Tri Dao, Dan Fu, Stefano Ermon, Atri Rudra, and Christopher Re. Flashattention: Fast and memory-efficient exact attention with io-awareness. Advances in Neural Information Processing Systems, 35:16344-16359, 2022.  \n",
      "[DZZ+24a] Yiran Ding, Li Lyna Zhang, Chengruidong Zhang, Yuanyuan Xu, Ning Shang, Jiahang Xu, Fan Yang, and Mao Yang. Longrope: Extending llm context window beyond 2 million tokens, 2024.  \n",
      "[DZZ+24b] Xiaoyi Dong, Pan Zhang, Yuhang Zang, Yuhang Cao, Bin Wang, Linke Ouyang, Songyang Zhang, Haodong Duan, Wenwei Zhang, Yining Li, et al. Internlm-xcomposer2-4khd: A pioneering large vision-language model handling resolutions from 336 pixels to 4k hd. arXiv preprint ar Xiv:2404.06512, 2024.  \n",
      "[GZA+23] Suriya Gunasekar, Yi Zhang, Jyoti Aneja, Caio César Teodoro Mendes, Allie Del Giorno, Sivakanth Gopi, Mojan Javaheripi, Gustavo de Rosa Piero Kauffmann, Olli Saarikivia,  \n",
      "<!-- PageNumber=\"13\" -->  \n",
      "Adil Salim, Shital Shah, Harkirat Singh Behl, Xin Wang, Sébastien Bubeck, Ronen El- dan, Adam Tauman Kalai, Yin Tat Lee, and Yuanzhi Li. Textbooks are all you need. arXiv preprint ar Xiv:2306.11644, 2023.  \n",
      "[HBK+21] Dan Hendrycks, Collin Burns, Saurav Kadavath, Akul Arora, Steven Basart, Eric Tang, Dawn Song, and Jacob Steinhardt. Measuring mathematical problem solving with the MATH dataset, 2021.  \n",
      "[HBM+22] Jordan Hoffmann, Sebastian Borgeaud, Arthur Mensch, Elena Buchatskaya, Eliza Ruther- ford Trevor Cai, Diego de Las Casas, Lisa Anne Hendricks, Johannes Welbl, Aidan Clark, Tom Hennigan, Eric Noland, Katie Millican, George van den Driessche, Bogdan Damoc, Au- relia Guy, Simon Osindero, Karen Simonyan, Erich Elsen, Jack W. Rae, Oriol Vinyals, and Laurent Sifre. Training compute-optimal large language models. arXiv preprint ar Xiv:2203.15556, 2022.  \n",
      "[JBA+23] Mojan Javaheripi, Sebastien Bubeck, Marah Abdin, Jyoti Aneja, Caio Cesar Teodoro Mendes, Weizhu Chen, Allie Del Giorno, Ronen Eldan, Sivakanth Gopi, Suriya Gunasekar, Piero Kauffmann, Yin Tat Lee, Yuanzhi Li, Anh Nguyen, Gustavo de Rosa, Olli Saarikivi, Adil Salim, Shital Shah, Michael Santacroce, Harkirat Singh Behl, Adam Tau- mann Kalai, Xin Wang, Rachel Ward, Philipp Witte, Cyril Zhang, and Yi Zhang. Phi-2: The surprising power of small language models. Microsoft Research Blog, 2023.  \n",
      "[JCWZ17] Mandar Joshi, Eunsol Choi, Daniel S. Weld, and Luke Zettlemoyer. Triviaqa: A large scale distantly supervised challenge dataset for reading comprehension, 2017.  \n",
      "[JLD+23] Jiaming Ji, Mickel Liu, Juntao Dai, Xuehai Pan, Chi Zhang, Ce Bian, Chi Zhang, Ruiyang Sun, Yizhou Wang, and Yaodong Yang. Beavertails: Towards improved safety alignment of llm via a human-preference dataset, 2023.  \n",
      "[JPO+20] Di Jin, Eileen Pan, Nassim Oufattole, Wei-Hung Weng, Hanyi Fang, and Peter Szolovits. What disease does this patient have? a large-scale open domain question answering dataset from medical exams, 2020.  \n",
      "[JSM+23] Albert Q. Jiang, Alexandre Sablayrolles, Arthur Mensch, Chris Bamford, Devendra Singh Chaplot, Diego de las Casas, Florian Bressand, Gianna Lengyel, Guillaume Lample, Lucile Saulnier, Lélio Renard Lavaud, Marie-Anne Lachaux, Pierre Stock, Teven Le Scao, Thibaut Lavril, Thomas Wang, Timothée Lacroix, and William El Sayed. Mistral 7b, 2023.  \n",
      "[JSR+24] Albert Q. Jiang, Alexandre Sablayrolles, Antoine Roux, Arthur Mensch, Blanche Savary, Chris Bamford, Devendra Singh Chaplot, Diego de las Casas, Emma Bou Hanna, Florian Bressand, Gianna Lengyel, Guillaume Bour, Guillaume Lample, Lélio Renard Lavaud, Lu- cile Saulnier, Marie-Anne Lachaux, Pierre Stock, Sandeep Subramanian, Sophia Yang, Szy- mon Antoniak, Teven Le Scao, Théophile Gervet, Thibaut Lavril, Thomas Wang, Timothée Lacroix, and William El Sayed. Mixtral of experts, 2024.  \n",
      "[KLZ+23] Woosuk Kwon, Zhuohan Li, Siyuan Zhuang, Ying Sheng, Lianmin Zheng, Cody Hao Yu, Joseph E. Gonzalez, Hao Zhang, and Ion Stoica. Efficient memory management for large language model serving with pagedattention. In Proceedings of the ACM SIGOPS 29th Symposium on Operating Systems Principles, 2023.  \n",
      "<!-- PageNumber=\"14\" -->  \n",
      "[KMH+20] Jared Kaplan, Sam McCandlish, Tom Henighan, Tom B Brown, Benjamin Chess, Rewon Child, Scott Gray, Alec Radford, Jeffrey Wu, and Dario Amodei. Scaling laws for neural language models. arXiv preprint ar Xiv:2001.08361, 2020.  \n",
      "[KSK+16] Aniruddha Kembhavi, Mike Salvato, Eric Kolve, Minjoon Seo, Hannaneh Hajishirzi, and Ali Farhadi. A diagram is worth a dozen images, 2016.  \n",
      "[LBE+23] Yuanzhi Li, Sébastien Bubeck, Ronen Eldan, Allie Del Giorno, Suriya Gunasekar, and Yin Tat Lee. Textbooks are all you need ii: phi-1.5 technical report. arXiv preprint ar Xiv:2309.05463, 2023.  \n",
      "[LBX+24] Pan Lu, Hritik Bansal, Tony Xia, Jiacheng Liu, Chunyuan Li, Hannaneh Hajishirzi, Hao Cheng, Kai-Wei Chang, Michel Galley, and Jianfeng Gao. Mathvista: Evaluating mathe- matical reasoning of foundation models in visual contexts, 2024.  \n",
      "[LDZ+23] Yifan Li, Yifan Du, Kun Zhou, Jinpeng Wang, Wayne Xin Zhao, and Ji-Rong Wen. Evalu- ating object hallucination in large vision-language models, 2023.  \n",
      "[LDZ+24] Yuan Liu, Haodong Duan, Yuanhan Zhang, Bo Li, Songyang Zhang, Wangbo Zhao, Yike Yuan, Jiaqi Wang, Conghui He, Ziwei Liu, Kai Chen, and Dahua Lin. Mmbench: Is your multi-modal model an all-around player?, 2024.  \n",
      "[LGJ+21] Pan Lu, Ran Gong, Shibiao Jiang, Liang Qiu, Siyuan Huang, Xiaodan Liang, and Song-Chun Zhu. Inter-gps: Interpretable geometry problem solving with formal language and symbolic reasoning, 2021.  \n",
      "[LHE22] Stephanie Lin, Jacob Hilton, and Owain Evans. Truthfulqa: Measuring how models mimic human falsehoods, 2022.  \n",
      "[LLL+24] Haotian Liu, Chunyuan Li, Yuheng Li, Bo Li, Yuanhan Zhang, Sheng Shen, and Yong Jae Lee. Llava-next: Improved reasoning, ocr, and world knowledge, January 2024.  \n",
      "[LLLL23] Haotian Liu, Chunyuan Li, Yuheng Li, and Yong Jae Lee. Improved baselines with visual instruction tuning. arXiv preprint ar Xiv:2310.03744, 2023.  \n",
      "[LLY+24] Mukai Li, Lei Li, Yuwei Yin, Masood Ahmed, Zhenguang Liu, and Qi Liu. Red teaming visual language models. ar Xiv preprint ar Xiv:2401.12915, 2024.  \n",
      "[LMX+22] Pan Lu, Swaroop Mishra, Tony Xia, Liang Qiu, Kai-Wei Chang, Song-Chun Zhu, Oyvind Tafjord, Peter Clark, and Ashwin Kalyan. Learn to explain: Multimodal reasoning via thought chains for science question answering. In The 36th Conference on Neural Information Processing Systems (NeurIPS), 2022.  \n",
      "[LST+24] Hugo Laurencon, Lucile Saulnier, Leo Tronchon, Stas Bekman, Amanpreet Singh, An- ton Lozhkov, Thomas Wang, Siddharth Karamcheti, Alexander Rush, Douwe Kiela, et al. Obelics: An open web-scale filtered dataset of interleaved image-text documents. Advances in Neural Information Processing Systems, 36, 2024.  \n",
      "[MCKS18] Todor Mihaylov, Peter Clark, Tushar Khot, and Ashish Sabharwal. Can a suit of armor conduct electricity? a new dataset for open book question answering, 2018.  \n",
      "<!-- PageNumber=\"15\" -->  \n",
      "[MGF+24] Brandon McKinzie, Zhe Gan, Jean-Philippe Fauconnier, Sam Dodge, Bowen Zhang, Philipp Dufter, Dhruti Shah, Xianzhi Du, Futang Peng, Floris Weers, Anton Belyi, Haotian Zhang, Karanjeet Singh, Doug Kang, Ankur Jain, Hongyu Hè, Max Schwarzer, Tom Gunter, Xiang Kong, Aonan Zhang, Jianyu Wang, Chong Wang, Nan Du, Tao Lei, Sam Wiseman, Guoli Yin, Mark Lee, Zirui Wang, Ruoming Pang, Peter Grasch, Alexander Toshev, and Yinfei Yang. Mm1: Methods, analysis & insights from multimodal llm pre-training. ar Xiv preprint ar Xiv:2403.09611, 2024.  \n",
      "[MHJ+23] Ahmed Magooda, Alec Helyar, Kyle Jackson, David Sullivan, Chad Atalla, Emily Sheng, Dan Vann, Richard Edgar, Hamid Palangi, Roman Lutz, Hongliang Kong, Vincent Yun, Eslam Kamal, Federico Zarfati, Hanna Wallach, Sarah Bird, and Mei Chen. A framework for automated measurement of responsible ai harms in generative ai applications, 2023.  \n",
      "[MLT+22] Ahmed Masry, Do Long, Jia Qing Tan, Shafiq Joty, and Enamul Hoque. ChartQA: A benchmark for question answering about charts with visual and logical reasoning. In Findings of the Association for Computational Linguistics: ACL 2022, pages 2263-2279, Dublin, Ireland, May 2022. Association for Computational Linguistics.  \n",
      "[MRB+23] Niklas Muennighoff, Alexander M Rush, Boaz Barak, Teven Le Scao, Aleksandra Piktus, Nouamane Tazi, Sampo Pyysalo, Thomas Wolf, and Colin Raffel. Scaling data-constrained language models. arXiv preprint arXiv:2305.16264, 2023.  \n",
      "[NWD+20] Yixin Nie, Adina Williams, Emily Dinan, Mohit Bansal, Jason Weston, and Douwe Kiela. Adversarial nli: A new benchmark for natural language understanding, 2020.  \n",
      "[Ope23] OpenAI. Gpt-4v(ision) system card, 2023. https://cdn.openai.com/papers/GPTV\\_ System\\_Card. pdf.  \n",
      "[RHS+23] David Rein, Betty Li Hou, Asa Cooper Stickland, Jackson Petty, Richard Yuanzhe Pang, Julien Dirani, Julian Michael, and Samuel R. Bowman. Gpqa: A graduate-level google-proof q&a benchmark, 2023.  \n",
      "[RKH+21] Alec Radford, Jong Wook Kim, Chris Hallacy, Aditya Ramesh, Gabriel Goh, Sandhini Agar- wal, Girish Sastry, Amanda Askell, Pamela Mishkin, Jack Clark, et al. Learning transferable visual models from natural language supervision. In International conference on machine learning, pages 8748-8763. PMLR, 2021.  \n",
      "[RWC+19] Alec Radford, Jeffrey Wu, Rewon Child, David Luan, Dario Amodei, and Ilya Sutskever. Language models are unsupervised multitask learners. OpenAI blog, 1(8):9, 2019.  \n",
      "[SLBBC19] Keisuke Sakaguchi, Ronan Le Bras, Chandra Bhagavatula, and Yejin Choi. Winogrande: An adversarial winograd schema challenge at scale. arXiv preprint arXiv:1907.10641, 2019.  \n",
      "[SNS+19] Amanpreet Singh, Vivek Natarajan, Meet Shah, Yu Jiang, Xinlei Chen, Dhruv Batra, Devi Parikh, and Marcus Rohrbach. Towards vqa models that can read, 2019.  \n",
      "[SRR+22] Aarohi Srivastava, Abhinav Rastogi, Abhishek Rao, Abu Awal Md Shoeb, Abubakar Abid, Adam Fisch, Adam R Brown, Adam Santoro, Aditya Gupta, Adrià Garriga-Alonso, et al. Beyond the imitation game: Quantifying and extrapolating the capabilities of language models. arXiv preprint ar Xiv:2206.04615, 2022.  \n",
      "<!-- PageNumber=\"16\" -->  \n",
      "[SSS+22] Mirac Suzgun, Nathan Scales, Nathanael Schärli, Sebastian Gehrmann, Yi Tay, Hyung Won Chung, Aakanksha Chowdhery, Quoc V. Le, Ed H. Chi, Denny Zhou, and Jason Wei. Chal- lenging big-bench tasks and whether chain-of-thought can solve them, 2022.  \n",
      "[TAB+23] Gemini Team, Rohan Anil, Sebastian Borgeaud, Yonghui Wu, Jean-Baptiste Alayrac, Jiahui Yu, Radu Soricut, Johan Schalkwyk, Andrew M Dai, Anja Hauth, et al. Gemini: a family of highly capable multimodal models. arXiv preprint ar Xiv:2312.11805, 2023.  \n",
      "[THLB19] Alon Talmor, Jonathan Herzig, Nicholas Lourie, and Jonathan Berant. Commonsenseqa: A question answering challenge targeting commonsense knowledge, 2019.  \n",
      "[TLI+23] Hugo Touvron, Thibaut Lavril, Gautier Izacard, Xavier Martinet, Marie-Anne Lachaux, Timothée Lacroix, Baptiste Rozière, Naman Goyal, Eric Hambro, Faisal Azhar, Aurelien Rodriguez, Armand Joulin, Edouard Grave, and Guillaume Lample. Llama: Open and efficient foundation language models. arXiv preprint arXiv:2302.13971, 2023.  \n",
      "[TMH+24] Gemma Team, Thomas Mesnard, Cassidy Hardin, Robert Dadashi, Surya Bhupatiraju, Shreya Pathak, Laurent Sifre, Morgane Rivière, Mihir Sanjay Kale, Juliette Love, et al. Gemma: Open models based on gemini research and technology, 2024.  \n",
      "[VSP+17] Ashish Vaswani, Noam Shazeer, Niki Parmar, Jakob Uszkoreit, Llion Jones, Aidan N Gomez, L ukasz Kaiser, and Illia Polosukhin. Attention is all you need. In Advances in Neural Information Processing Systems, volume 30, 2017.  \n",
      "[XWX+24] Bin Xiao, Haiping Wu, Weijian Xu, Xiyang Dai, Houdong Hu, Yumao Lu, Michael Zeng, Ce Liu, and Lu Yuan. Florence-2: Advancing a unified representation for a variety of vision tasks. 2024.  \n",
      "[YNZ+23] Xiang Yue, Yuansheng Ni, Kai Zhang, Tianyu Zheng, Ruoqi Liu, Ge Zhang, Samuel Stevens, Dongfu Jiang, Weiming Ren, Yuxuan Sun, Cong Wei, Botao Yu, Ruibin Yuan, Renliang Sun, Ming Yin, Boyuan Zheng, Zhenzhu Yang, Yibo Liu, Wenhao Huang, Huan Sun, Yu Su, and Wenhu Chen. Mmmu: A massive multi-discipline multimodal understanding and reasoning benchmark for expert agi, 2023.  \n",
      "[ZBY+24] Yongshuo Zong, Ondrej Bohdal, Tingyang Yu, Yongxin Yang, and Timothy Hospedales. Safety fine-tuning at (almost) no cost: A baseline for vision large language models. arXiv preprint ar Xiv:2402.02207, 2024.  \n",
      "[ZCG+23] Wanjun Zhong, Ruixiang Cui, Yiduo Guo, Yaobo Liang, Shuai Lu, Yanlin Wang, Amin Saied, Weizhu Chen, and Nan Duan. Agieval: A human-centric benchmark for evaluating foundation models, 2023.  \n",
      "[ZCS+23] Lianmin Zheng, Wei-Lin Chiang, Ying Sheng, Siyuan Zhuang, Zhanghao Wu, Yonghao Zhuang, Zi Lin, Zhuohan Li, Dacheng Li, Eric Xing, et al. Judging llm-as-a-judge with mt-bench and chatbot arena. arXiv preprint ar Xiv:2306.05685, 2023.  \n",
      "[ZHB+19] Rowan Zellers, Ari Holtzman, Yonatan Bisk, Ali Farhadi, and Yejin Choi. Hellaswag: Can a machine really finish your sentence? In Proceedings of the 57th Annual Meeting of the Association for Computational Linguistics, pages 4791-4800, 2019.  \n",
      "<!-- PageNumber=\"17\" -->\u001b[0m\n",
      "\n",
      "***** Chunk 15 *****\n",
      "Length of chunk = 441\n",
      "\n",
      "\u001b[1;34mQuestion:  \n",
      "Solve for x: (-3)(-4-3x)=2  \n",
      "Options :  \n",
      "A. - 5 6  \n",
      "B. 7  \n",
      "6  \n",
      "C. 5  \n",
      "3  \n",
      "D.  \n",
      "1  \n",
      "Answer: A  \n",
      "Question: Which of the following is the body cavity that contains the pituitary gland? Options :  \n",
      "A. Abdominal  \n",
      "B. Cranial  \n",
      "C. Pleural  \n",
      "D. Spinal  \n",
      "Answer: B  \n",
      "Question: Where was the most famous site of the mystery cults in Greece? Options :  \n",
      "A. Ephesus  \n",
      "B. Corinth  \n",
      "C. Athens  \n",
      "D. Eleusis  \n",
      "Answer:  \n",
      "<!-- PageNumber=\"18\" -->\u001b[0m\n",
      "\n",
      "***** Chunk 16 *****\n",
      "Length of chunk = 1851\n",
      "\n",
      "\u001b[1;34m||||\n",
      "| - | - | - |\n",
      "| Marah Abdin | Jamie Huynh | Olli Saarikivi |\n",
      "| Sam Ade Jacobs | Dan Iter | Amin Saied |\n",
      "| Ammar Ahmad Awan | Russell J. Hewett | Adil Salim |\n",
      "| Jyoti Aneja | Mojan Javaheripi | Michael Santacroce |\n",
      "| Hany Awadalla | Xin Jin | Shital Shah |\n",
      "| Ahmed Awadallah | Nikos Karampatziakis | Ning Shang |\n",
      "| Nguyen Bach | Piero Kauffmann | Hiteshi Sharma |\n",
      "| Amit Bahree | Mahoud Khademi | Swadheen Shukla |\n",
      "| Arash Bakhtiari | Dongwoo Kim | Xia Song |\n",
      "| Jianmin Bao | Lev Kurilenko | Yin Tat Lee |\n",
      "| Harkirat Behl | Yuanzhi Li | Andrea Tupini |\n",
      "| Alon Benhaim | Yunsheng Li | Xin Wang |\n",
      "| Misha Bilenko | Chen Liang | Guanhua Wang |\n",
      "| Johan Bjorck | Lars Liden | Lijuan Wang |\n",
      "| Sébastien Bubeck | Eric Lin | Chunyu Wang :unselected: |\n",
      "| Caio César Teodoro Mendes | Zeqi Lin | Yu Wang |\n",
      "| Martin Cai | Weishung Liu | Rachel Ward |\n",
      "| Qin Cai | Mengchen Liu | Wen Wen |\n",
      "| Vishrav Chaudhary | Ce Liu | Philipp Witte |\n",
      "| Weizhu Chen | Chong Luo :unselected: | Haiping Wu |\n",
      "| Yi-Ling Chen | Li Lyna Zhang | Michael Wyatt |\n",
      "| Yen-Chun Chen | Piyush Madan | Bin Xiao |\n",
      "| Dongdong Chen | David Majercak | Jiahang Xu |\n",
      "| Dong Chen | Matt Mazzola | Can Xu |\n",
      "| Parul Chopra | Arindam Mitra | Weijian Xu |\n",
      "| Xiyang Dai | Hardik Modi | Sonali Yadav |\n",
      "| Gustavo de Rosa | Anh Nguyen | Fan Yang |\n",
      "| Allie Del Giorno | Brandon Norick | Ziyi Yang |\n",
      "| Matthew Dixon | Barun Patra | Jianwei Yang |\n",
      "| Ronen Eldan | Daniel Perez-Becker | Yifan Yang |\n",
      "| Victor Fragoso | Thomas Portet | Donghan Yu :unselected: |\n",
      "| Mei Gao | Reid Pryzant | Lu Yuan |\n",
      "| Min Gao | Heyang Qin | Chengruidong Zhang :unselected: |\n",
      "| Jianfeng Gao | James R. Lee | Cyril Zhang :unselected: |\n",
      "| Abhishek Goswami | Marko Radmilac | Jianwen Zhang |\n",
      "| Suriya Gunasekar | Corby Rosset | Yi Zhang |\n",
      "| Emman Haider | Sambudha Roy | Yunan Zhang |\n",
      "| Junheng Hao | Olatunji Ruwase | Xiren Zhou |\u001b[0m\n",
      "\n",
      "***** Chunk 17 *****\n",
      "Length of chunk = 164\n",
      "\n",
      "\u001b[1;34mWe would like to thank Zhuohan Li, Simon Mo, and Kaichao You from UC Berkeley for sharing their insights on the vLLM kernel.  \n",
      "<!-- PageNumber=\"19\" -->\n",
      ":unselected:\u001b[0m\n",
      "\n"
     ]
    }
   ],
   "source": [
    "chunk_size_list = []\n",
    "\n",
    "for idx, chunk in enumerate(chunks, start=1):\n",
    "    print(f\"***** Chunk {idx} *****\\nLength of chunk = {len(chunk.page_content)}\\n\")\n",
    "    print(f\"\\033[1;34m{chunk.page_content}\\033[0m\\n\")\n",
    "    chunk_size_list.append(len(chunk.page_content))"
   ]
  },
  {
   "cell_type": "code",
   "execution_count": 14,
   "id": "9c954316",
   "metadata": {},
   "outputs": [
    {
     "data": {
      "image/png": "[encoded data removed]",
      "text/plain": [
       "<Figure size 1500x700 with 1 Axes>"
      ]
     },
     "metadata": {},
     "output_type": "display_data"
    }
   ],
   "source": [
    "x = range(len(chunk_size_list))\n",
    "bar_color = 'purple'\n",
    "\n",
    "plt.figure(figsize=(15, 7))\n",
    "plt.bar(x, chunk_size_list, color=bar_color)\n",
    "plt.xlabel('Chunk id')\n",
    "plt.ylabel('Size')\n",
    "plt.title('Size of Semantic chunks')\n",
    "plt.xticks(x)\n",
    "plt.grid(True, which='both', axis='both', linestyle='--', linewidth=0.5)\n",
    "\n",
    "plt.show()"
   ]
  },
  {
   "cell_type": "markdown",
   "id": "8da96cab",
   "metadata": {},
   "source": [
    "## 3. Azure AI Search"
   ]
  },
  {
   "cell_type": "code",
   "execution_count": 15,
   "id": "21a75cf8",
   "metadata": {},
   "outputs": [],
   "source": [
    "azure_openai_embeddings = AzureOpenAIEmbeddings(\n",
    "    azure_deployment=AOAI_EMBEDDINGS_MODEL,\n",
    "    openai_api_version=AOAI_API_VERSION,\n",
    "    azure_endpoint=AOAI_API_ENDPOINT,\n",
    "    openai_api_type=AOAI_API_TYPE,\n",
    ")"
   ]
  },
  {
   "cell_type": "code",
   "execution_count": 16,
   "id": "4bc784ed",
   "metadata": {},
   "outputs": [
    {
     "data": {
      "text/plain": [
       "AzureOpenAIEmbeddings(client=<openai.resources.embeddings.Embeddings object at 0x7fc08d611d80>, async_client=<openai.resources.embeddings.AsyncEmbeddings object at 0x7fc08dc41cc0>, model='text-embedding-ada-002', dimensions=None, deployment='text-embedding-ada-002', openai_api_version='2024-07-01-preview', openai_api_base=None, openai_api_type='azure', openai_proxy='', embedding_ctx_length=8191, openai_api_key=SecretStr('**********'), openai_organization=None, allowed_special=None, disallowed_special=None, chunk_size=2048, max_retries=2, request_timeout=None, headers=None, tiktoken_enabled=True, tiktoken_model_name=None, show_progress_bar=False, model_kwargs={}, skip_empty=False, default_headers=None, default_query=None, retry_min_seconds=4, retry_max_seconds=20, http_client=None, http_async_client=None, check_embedding_ctx_length=True, azure_endpoint='https://azureopenai-eastus-sr.openai.azure.com/', azure_ad_token=None, azure_ad_token_provider=None, validate_base_url=True)"
      ]
     },
     "execution_count": 16,
     "metadata": {},
     "output_type": "execute_result"
    }
   ],
   "source": [
    "azure_openai_embeddings"
   ]
  },
  {
   "cell_type": "code",
   "execution_count": 17,
   "id": "6e8df8ca",
   "metadata": {},
   "outputs": [],
   "source": [
    "vector_store: AzureSearch = AzureSearch(\n",
    "    azure_search_endpoint=AZURE_AISEARCH_ENDPOINT,\n",
    "    azure_search_key=AZURE_AISEARCH_KEY,\n",
    "    index_name=azure_aisearch_index_name,\n",
    "    embedding_function=azure_openai_embeddings.embed_query,\n",
    ")"
   ]
  },
  {
   "cell_type": "code",
   "execution_count": 18,
   "id": "f0986fcb",
   "metadata": {},
   "outputs": [
    {
     "name": "stdout",
     "output_type": "stream",
     "text": [
      "Adding the documents into Azure AI Search index: index_06sep2024_104625\n",
      "\n",
      "Done\n",
      "Elapsed time = 0 minutes and 4 seconds\n"
     ]
    }
   ],
   "source": [
    "start = time.time()\n",
    "\n",
    "print(f\"Adding the documents into Azure AI Search index: {azure_aisearch_index_name}\")\n",
    "vector_store.add_documents(documents=chunks)\n",
    "\n",
    "elapsed = time.time() - start\n",
    "minutes, seconds = divmod(elapsed, 60)\n",
    "print(\"\\nDone\")\n",
    "print(f\"Elapsed time = {minutes:.0f} minutes and {seconds:.0f} seconds\")"
   ]
  },
  {
   "cell_type": "markdown",
   "id": "368252ae",
   "metadata": {},
   "source": [
    "### Index status"
   ]
  },
  {
   "cell_type": "code",
   "execution_count": 19,
   "id": "9d6884f9",
   "metadata": {},
   "outputs": [
    {
     "name": "stdout",
     "output_type": "stream",
     "text": [
      "\u001b[1;34m{\n",
      "     \"@odata.context\": \"https://azureaisearch-sr.search.windows.net/$metadata#indexes/$entity\",\n",
      "     \"@odata.etag\": \"\\\"0x8DCCE506E4AFCFB\\\"\",\n",
      "     \"name\": \"index_06sep2024_104625\",\n",
      "     \"defaultScoringProfile\": null,\n",
      "     \"fields\": [\n",
      "          {\n",
      "               \"name\": \"id\",\n",
      "               \"type\": \"Edm.String\",\n",
      "               \"searchable\": false,\n",
      "               \"filterable\": true,\n",
      "               \"retrievable\": true,\n",
      "               \"stored\": true,\n",
      "               \"sortable\": false,\n",
      "               \"facetable\": false,\n",
      "               \"key\": true,\n",
      "               \"indexAnalyzer\": null,\n",
      "               \"searchAnalyzer\": null,\n",
      "               \"analyzer\": null,\n",
      "               \"dimensions\": null,\n",
      "               \"vectorSearchProfile\": null,\n",
      "               \"vectorEncoding\": null,\n",
      "               \"synonymMaps\": []\n",
      "          },\n",
      "          {\n",
      "               \"name\": \"content\",\n",
      "               \"type\": \"Edm.String\",\n",
      "               \"searchable\": true,\n",
      "               \"filterable\": false,\n",
      "               \"retrievable\": true,\n",
      "               \"stored\": true,\n",
      "               \"sortable\": false,\n",
      "               \"facetable\": false,\n",
      "               \"key\": false,\n",
      "               \"indexAnalyzer\": null,\n",
      "               \"searchAnalyzer\": null,\n",
      "               \"analyzer\": null,\n",
      "               \"dimensions\": null,\n",
      "               \"vectorSearchProfile\": null,\n",
      "               \"vectorEncoding\": null,\n",
      "               \"synonymMaps\": []\n",
      "          },\n",
      "          {\n",
      "               \"name\": \"content_vector\",\n",
      "               \"type\": \"Collection(Edm.Single)\",\n",
      "               \"searchable\": true,\n",
      "               \"filterable\": false,\n",
      "               \"retrievable\": true,\n",
      "               \"stored\": true,\n",
      "               \"sortable\": false,\n",
      "               \"facetable\": false,\n",
      "               \"key\": false,\n",
      "               \"indexAnalyzer\": null,\n",
      "               \"searchAnalyzer\": null,\n",
      "               \"analyzer\": null,\n",
      "               \"dimensions\": 1536,\n",
      "               \"vectorSearchProfile\": \"myHnswProfile\",\n",
      "               \"vectorEncoding\": null,\n",
      "               \"synonymMaps\": []\n",
      "          },\n",
      "          {\n",
      "               \"name\": \"metadata\",\n",
      "               \"type\": \"Edm.String\",\n",
      "               \"searchable\": true,\n",
      "               \"filterable\": false,\n",
      "               \"retrievable\": true,\n",
      "               \"stored\": true,\n",
      "               \"sortable\": false,\n",
      "               \"facetable\": false,\n",
      "               \"key\": false,\n",
      "               \"indexAnalyzer\": null,\n",
      "               \"searchAnalyzer\": null,\n",
      "               \"analyzer\": null,\n",
      "               \"dimensions\": null,\n",
      "               \"vectorSearchProfile\": null,\n",
      "               \"vectorEncoding\": null,\n",
      "               \"synonymMaps\": []\n",
      "          }\n",
      "     ],\n",
      "     \"scoringProfiles\": [],\n",
      "     \"corsOptions\": null,\n",
      "     \"suggesters\": [],\n",
      "     \"analyzers\": [],\n",
      "     \"tokenizers\": [],\n",
      "     \"tokenFilters\": [],\n",
      "     \"charFilters\": [],\n",
      "     \"encryptionKey\": null,\n",
      "     \"similarity\": {\n",
      "          \"@odata.type\": \"#Microsoft.Azure.Search.BM25Similarity\",\n",
      "          \"k1\": null,\n",
      "          \"b\": null\n",
      "     },\n",
      "     \"semantic\": null,\n",
      "     \"vectorSearch\": {\n",
      "          \"algorithms\": [\n",
      "               {\n",
      "                    \"name\": \"default\",\n",
      "                    \"kind\": \"hnsw\",\n",
      "                    \"hnswParameters\": {\n",
      "                         \"metric\": \"cosine\",\n",
      "                         \"m\": 4,\n",
      "                         \"efConstruction\": 400,\n",
      "                         \"efSearch\": 500\n",
      "                    },\n",
      "                    \"exhaustiveKnnParameters\": null\n",
      "               },\n",
      "               {\n",
      "                    \"name\": \"default_exhaustive_knn\",\n",
      "                    \"kind\": \"exhaustiveKnn\",\n",
      "                    \"hnswParameters\": null,\n",
      "                    \"exhaustiveKnnParameters\": {\n",
      "                         \"metric\": \"cosine\"\n",
      "                    }\n",
      "               }\n",
      "          ],\n",
      "          \"profiles\": [\n",
      "               {\n",
      "                    \"name\": \"myHnswProfile\",\n",
      "                    \"algorithm\": \"default\",\n",
      "                    \"vectorizer\": null,\n",
      "                    \"compression\": null\n",
      "               },\n",
      "               {\n",
      "                    \"name\": \"myExhaustiveKnnProfile\",\n",
      "                    \"algorithm\": \"default_exhaustive_knn\",\n",
      "                    \"vectorizer\": null,\n",
      "                    \"compression\": null\n",
      "               }\n",
      "          ],\n",
      "          \"vectorizers\": [],\n",
      "          \"compressions\": []\n",
      "     }\n",
      "}\n"
     ]
    }
   ],
   "source": [
    "headers = {\"Content-Type\": \"application/json\", \"api-key\": AZURE_AISEARCH_KEY}\n",
    "params = {\"api-version\": \"2024-07-01\"}\n",
    "\n",
    "index_status = requests.get(\n",
    "    f\"{AZURE_AISEARCH_ENDPOINT}/indexes/{azure_aisearch_index_name}\", headers=headers, params=params\n",
    ")\n",
    "\n",
    "print(\"\\033[1;34m\", end=\"\")\n",
    "print(json.dumps(index_status.json(), indent=5))"
   ]
  },
  {
   "cell_type": "markdown",
   "id": "d2beb8a0",
   "metadata": {},
   "source": [
    "## 4. Azure OpenAI LLM"
   ]
  },
  {
   "cell_type": "code",
   "execution_count": 20,
   "id": "ffe7605c",
   "metadata": {},
   "outputs": [],
   "source": [
    "llm = AzureChatOpenAI(\n",
    "    openai_api_version=AOAI_API_VERSION,\n",
    "    azure_deployment=AOAI_DEPLOYMENT_NAME,\n",
    "    azure_endpoint=AOAI_API_ENDPOINT,\n",
    "    openai_api_type=AOAI_API_TYPE,\n",
    "    temperature=0,\n",
    ")"
   ]
  },
  {
   "cell_type": "code",
   "execution_count": 21,
   "id": "03df054d",
   "metadata": {},
   "outputs": [
    {
     "data": {
      "text/plain": [
       "AzureChatOpenAI(client=<openai.resources.chat.completions.Completions object at 0x7fc08d7b8c10>, async_client=<openai.resources.chat.completions.AsyncCompletions object at 0x7fc08d7bbbe0>, temperature=0.0, openai_api_key=SecretStr('**********'), openai_proxy='', azure_endpoint='https://azureopenai-eastus-sr.openai.azure.com/', deployment_name='gpt-4o-mini', openai_api_version='2024-07-01-preview', openai_api_type='azure')"
      ]
     },
     "execution_count": 21,
     "metadata": {},
     "output_type": "execute_result"
    }
   ],
   "source": [
    "llm"
   ]
  },
  {
   "cell_type": "markdown",
   "id": "04ed8293",
   "metadata": {},
   "source": [
    "## 5. Q&A"
   ]
  },
  {
   "cell_type": "code",
   "execution_count": 22,
   "id": "8a322a1a",
   "metadata": {},
   "outputs": [],
   "source": [
    "retriever = vector_store.as_retriever(\n",
    "    search_type=\"similarity\",\n",
    "    search_kwargs={\"k\": 3},\n",
    ")"
   ]
  },
  {
   "cell_type": "code",
   "execution_count": 23,
   "id": "6ec4b46c",
   "metadata": {},
   "outputs": [
    {
     "data": {
      "text/plain": [
       "ChatPromptTemplate(input_variables=['context', 'question'], metadata={'lc_hub_owner': 'rlm', 'lc_hub_repo': 'rag-prompt', 'lc_hub_commit_hash': '50442af133e61576e74536c6556cefe1fac147cad032f4377b60c436e6cdcb6e'}, messages=[HumanMessagePromptTemplate(prompt=PromptTemplate(input_variables=['context', 'question'], template=\"You are an assistant for question-answering tasks. Use the following pieces of retrieved context to answer the question. If you don't know the answer, just say that you don't know. Use three sentences maximum and keep the answer concise.\\nQuestion: {question} \\nContext: {context} \\nAnswer:\"))])"
      ]
     },
     "execution_count": 23,
     "metadata": {},
     "output_type": "execute_result"
    }
   ],
   "source": [
    "# Getting a prompt template\n",
    "prompt = hub.pull(\"rlm/rag-prompt\")\n",
    "prompt"
   ]
  },
  {
   "cell_type": "code",
   "execution_count": 24,
   "id": "1b5c1b58",
   "metadata": {},
   "outputs": [],
   "source": [
    "def format_docs(docs):\n",
    "    \"\"\"\n",
    "    Format docs\n",
    "    \"\"\"\n",
    "    return \"\\n\\n\".join(doc.page_content for doc in docs)"
   ]
  },
  {
   "cell_type": "code",
   "execution_count": 25,
   "id": "4e21ff49",
   "metadata": {},
   "outputs": [],
   "source": [
    "rag_chain = ({\n",
    "    \"context\": retriever | format_docs,\n",
    "    \"question\": RunnablePassthrough()\n",
    "}\n",
    "             | prompt\n",
    "             | llm\n",
    "             | StrOutputParser())"
   ]
  },
  {
   "cell_type": "code",
   "execution_count": 26,
   "id": "be910668",
   "metadata": {},
   "outputs": [],
   "source": [
    "def qna(question):\n",
    "    \"\"\"\n",
    "    QnA function to get a response for a given question.\n",
    "\n",
    "    This function takes a question as input and uses a response generation system\n",
    "    to produce an answer. It handles exceptions and displays the response in \n",
    "    colored output for better readability.\n",
    "\n",
    "    Parameters:\n",
    "    question (str): The question to be answered.\n",
    "    \"\"\"\n",
    "    print(\"\\033[1;34m\", end=\"\")\n",
    "\n",
    "    try:\n",
    "        response = rag_chain.invoke(question)\n",
    "        print(response)\n",
    "        print(\"\\033[1;32m\")\n",
    "        print(f\"Powered by Azure AI\")\n",
    "    except Exception as e:\n",
    "        print(\"\\033[1;31m\")\n",
    "        print(f\"[Error] {e}\")"
   ]
  },
  {
   "cell_type": "code",
   "execution_count": 27,
   "id": "4e3f618b",
   "metadata": {},
   "outputs": [
    {
     "name": "stdout",
     "output_type": "stream",
     "text": [
      "\u001b[1;34mThe language in the document is primarily English. It discusses the capabilities and performance of the phi-3 language model and its training data. Additionally, it mentions the model's limitations and future directions for multilingual capabilities.\n",
      "\u001b[1;32m\n",
      "Powered by Azure AI\n"
     ]
    }
   ],
   "source": [
    "question = \"What is the language in this document?\"\n",
    "\n",
    "qna(question)"
   ]
  },
  {
   "cell_type": "code",
   "execution_count": 28,
   "id": "cf9fc53a",
   "metadata": {},
   "outputs": [
    {
     "name": "stdout",
     "output_type": "stream",
     "text": [
      "\u001b[1;34mThe companies mentioned in the document are Microsoft and UC Berkeley. Additionally, various models and baselines are referenced, including Claude 3 Haiku and GPT-4V-Turbo.\n",
      "\u001b[1;32m\n",
      "Powered by Azure AI\n"
     ]
    }
   ],
   "source": [
    "question = \"What are the companies mentionned in this document?\"\n",
    "\n",
    "qna(question)"
   ]
  },
  {
   "cell_type": "code",
   "execution_count": 29,
   "id": "d5b17ca0",
   "metadata": {},
   "outputs": [
    {
     "name": "stdout",
     "output_type": "stream",
     "text": [
      "\u001b[1;34mThe technologies mentioned in the document include the Phi-3-Vision model, which is a multimodal model combining an image encoder (CLIP ViT-L/14) and a transformer decoder (phi-3-mini-128K-instruct). It utilizes a dynamic cropping strategy for high-resolution images and employs a pre-training phase with diverse datasets, including image-text pairs and synthetic data from OCR. Additionally, the model undergoes supervised finetuning and direct preference optimization for enhanced performance.\n",
      "\u001b[1;32m\n",
      "Powered by Azure AI\n"
     ]
    }
   ],
   "source": [
    "question = \"What are the technologies in this document?\"\n",
    "qna(question)"
   ]
  },
  {
   "cell_type": "code",
   "execution_count": 30,
   "id": "04a8aa0d",
   "metadata": {},
   "outputs": [
    {
     "name": "stdout",
     "output_type": "stream",
     "text": [
      "\u001b[1;34mPhi-3 refers to a series of language models developed by Microsoft, including phi-3-mini, phi-3-small, and phi-3-medium, with parameters ranging from 3.8 billion to 14 billion. These models are trained on extensive datasets and are designed for various applications, including chat and multimodal tasks. Phi-3-mini, in particular, is notable for its performance and safety alignment, making it suitable for deployment on devices like phones.\n",
      "\u001b[1;32m\n",
      "Powered by Azure AI\n"
     ]
    }
   ],
   "source": [
    "question = \"What is phi3?\"\n",
    "\n",
    "qna(question)"
   ]
  },
  {
   "cell_type": "code",
   "execution_count": 31,
   "id": "16198856",
   "metadata": {},
   "outputs": [
    {
     "name": "stdout",
     "output_type": "stream",
     "text": [
      "\u001b[1;34mThe phi-3-mini model has 3.8 billion parameters and is designed for deployment on mobile devices, while the phi-3-small model has 7 billion parameters and offers improved performance. The phi-3-small model features a larger vocabulary size, a longer default context length, and utilizes advanced attention mechanisms for better efficiency. Overall, phi-3-small is significantly more capable than phi-3-mini in terms of language understanding and reasoning.\n",
      "\u001b[1;32m\n",
      "Powered by Azure AI\n"
     ]
    }
   ],
   "source": [
    "question = \"What are the differences between phi3 mini and phi3 small?\"\n",
    "\n",
    "qna(question)"
   ]
  },
  {
   "cell_type": "code",
   "execution_count": 32,
   "id": "47b5776b",
   "metadata": {},
   "outputs": [
    {
     "name": "stdout",
     "output_type": "stream",
     "text": [
      "\u001b[1;34mThe phi-3-mini model has 3.8 billion parameters and achieves 68.8% on the MMLU benchmark and 8.38 on MT-bench. In contrast, the phi-3-small model, with 7 billion parameters, performs better, scoring 75.7% on MMLU and 8.70 on MT-bench. Both models utilize a high-quality training dataset, but phi-3-small is designed for enhanced performance and efficiency.\n",
      "\u001b[1;32m\n",
      "Powered by Azure AI\n"
     ]
    }
   ],
   "source": [
    "question = \"What can you tell about the benchmarks for phi3 mini and phi3 small?\"\n",
    "\n",
    "qna(question)"
   ]
  },
  {
   "cell_type": "code",
   "execution_count": 33,
   "id": "415010c7",
   "metadata": {},
   "outputs": [
    {
     "name": "stdout",
     "output_type": "stream",
     "text": [
      "\u001b[1;34mPhi3 Vision is a multimodal model with 4.2 billion parameters that processes images and textual prompts to generate textual outputs. It consists of an image encoder and a transformer decoder, utilizing a dynamic cropping strategy for high-resolution images. The model is pre-trained on a diverse dataset of image-text pairs and undergoes supervised fine-tuning and direct preference optimization for enhanced performance.\n",
      "\u001b[1;32m\n",
      "Powered by Azure AI\n"
     ]
    }
   ],
   "source": [
    "question = \"What is phi3 vision?\"\n",
    "\n",
    "qna(question)"
   ]
  },
  {
   "cell_type": "code",
   "execution_count": 34,
   "id": "55e7e9e8",
   "metadata": {},
   "outputs": [
    {
     "name": "stdout",
     "output_type": "stream",
     "text": [
      "\u001b[1;34mThe weaknesses of these models include limited capacity for storing factual knowledge, which can lead to low performance on tasks like TriviaQA. Additionally, they may struggle with multilingual capabilities and are prone to issues such as factual inaccuracies, biases, and inappropriate content generation. While efforts are being made to mitigate these challenges, significant work remains to fully address them.\n",
      "\u001b[1;32m\n",
      "Powered by Azure AI\n"
     ]
    }
   ],
   "source": [
    "question = \"How about the weakness of these models?\"\n",
    "\n",
    "qna(question)"
   ]
  },
  {
   "cell_type": "code",
   "execution_count": 35,
   "id": "4f9b6287",
   "metadata": {},
   "outputs": [
    {
     "name": "stdout",
     "output_type": "stream",
     "text": [
      "\u001b[1;34mThe comparison results on public and private multi-modal RAI benchmarks show that Phi-3-Vision outperforms other models, achieving higher scores in both internal and public benchmarks like RTVLM and VLGuard. Specifically, Phi-3-Vision scored 8.30 on the internal benchmark and 4.64 on RTVLM, while its performance on VLGuard was 9.12. The results indicate that safety post-training significantly enhances RAI performance across nearly all categories.\n",
      "\u001b[1;32m\n",
      "Powered by Azure AI\n"
     ]
    }
   ],
   "source": [
    "question = \"How about the comparison results on public and private multi-modal RAI benchmarks?\"\n",
    "\n",
    "qna(question)"
   ]
  },
  {
   "cell_type": "markdown",
   "id": "ad147157",
   "metadata": {},
   "source": [
    "### With references"
   ]
  },
  {
   "cell_type": "code",
   "execution_count": 36,
   "id": "980dd1d7",
   "metadata": {},
   "outputs": [
    {
     "name": "stdout",
     "output_type": "stream",
     "text": [
      "\u001b[1;34mThe vision model, Phi-3-Vision, has 4.2 billion parameters. It is designed to process both images and textual prompts. This model combines an image encoder and a transformer decoder for multimodal tasks.\n",
      "\u001b[1;32m\n",
      "Powered by Azure AI\n"
     ]
    }
   ],
   "source": [
    "question = \"What is the number of parameters of the vision model?\"\n",
    "\n",
    "qna(question)"
   ]
  },
  {
   "cell_type": "code",
   "execution_count": 37,
   "id": "0482b405",
   "metadata": {},
   "outputs": [
    {
     "name": "stdout",
     "output_type": "stream",
     "text": [
      "\u001b[1;34m"
     ]
    },
    {
     "data": {
      "text/plain": [
       "{'documents': [{'Header 1': '6 Phi-3-Vision',\n",
       "   'Header 2': '6.1 Technical Specifications'},\n",
       "  {'Header 1': '6 Phi-3-Vision', 'Header 2': '6.2 Academic benchmarks'},\n",
       "  {'Header 1': 'Abstract'},\n",
       "  {'Header 1': 'Introduction 1'}],\n",
       " 'answer': 'The vision model, Phi-3-Vision, has 4.2 billion parameters. It is designed to process both images and textual prompts. This model combines an image encoder and a transformer decoder for multimodal tasks.'}"
      ]
     },
     "execution_count": 37,
     "metadata": {},
     "output_type": "execute_result"
    }
   ],
   "source": [
    "rag_chain_from_docs = (\n",
    "    {\n",
    "        \"context\": lambda input: format_docs(input[\"documents\"]),\n",
    "        \"question\": itemgetter(\"question\"),\n",
    "    }\n",
    "    | prompt\n",
    "    | llm\n",
    "    | StrOutputParser()\n",
    ")\n",
    "\n",
    "rag_chain_with_source = RunnableMap(\n",
    "    {\"documents\": retriever, \"question\": RunnablePassthrough()}\n",
    ") | {\n",
    "    \"documents\": lambda input: [doc.metadata for doc in input[\"documents\"]],\n",
    "    \"answer\": rag_chain_from_docs,\n",
    "}\n",
    "\n",
    "print(\"\\033[1;34m\", end=\"\")\n",
    "rag_chain_with_source.invoke(question)"
   ]
  },
  {
   "cell_type": "markdown",
   "id": "1e1bf3bb",
   "metadata": {},
   "source": [
    "## 6. Webapp"
   ]
  },
  {
   "cell_type": "code",
   "execution_count": 38,
   "id": "282fb51d",
   "metadata": {},
   "outputs": [],
   "source": [
    "def webapp_function(prompt):\n",
    "    \"\"\"\n",
    "    Webapp function\n",
    "    \"\"\"\n",
    "    return rag_chain.invoke(prompt)"
   ]
  },
  {
   "cell_type": "code",
   "execution_count": 39,
   "id": "43091a53",
   "metadata": {},
   "outputs": [
    {
     "name": "stdout",
     "output_type": "stream",
     "text": [
      "Running on local URL:  http://127.0.0.1:7862\n",
      "Running on public URL: https://b40c74b8af7536d1b4.gradio.live\n",
      "\n",
      "This share link expires in 72 hours. For free permanent hosting and GPU upgrades, run `gradio deploy` from Terminal to deploy to Spaces (https://huggingface.co/spaces)\n"
     ]
    },
    {
     "data": {
      "text/html": [
       "<div><iframe src=\"https://b40c74b8af7536d1b4.gradio.live\" width=\"100%\" height=\"500\" allow=\"autoplay; camera; microphone; clipboard-read; clipboard-write;\" frameborder=\"0\" allowfullscreen></iframe></div>"
      ],
      "text/plain": [
       "<IPython.core.display.HTML object>"
      ]
     },
     "metadata": {},
     "output_type": "display_data"
    },
    {
     "data": {
      "text/plain": []
     },
     "execution_count": 39,
     "metadata": {},
     "output_type": "execute_result"
    }
   ],
   "source": [
    "questions_list = [\n",
    "    \"What is the language in this document?\",\n",
    "    \"Classify this document into one of these categories: ART, MUSIC, AI, POLITICS\",\n",
    "    \"What are the technologies in this document?\",\n",
    "    \"What is phi3?\",\n",
    "    \"What are the differences between phi3 mini and phi3 small?\",\n",
    "    \"What can you tell about the benchmarks for phi3 mini and phi3 small?\",\n",
    "    \"How about the comparison results on public and private multi-modal RAI benchmarks?\",\n",
    "]\n",
    "\n",
    "footnote = \"Powered by Azure AI services\"\n",
    "logo = \"https://github.com/retkowsky/images/blob/master/adi_logo.jpg?raw=true\"\n",
    "image = \"<center> <img src= {} width=150px></center>\".format(logo)\n",
    "title = \"RAG with Azure Document Intelligence and Azure OpenAI GPT-4o mini\"\n",
    "theme = \"snehilsanyal/scikit-learn\"  # Themes: https://huggingface.co/spaces/gradio/theme-gallery\n",
    "\n",
    "webapp = gr.Interface(\n",
    "    fn=webapp_function,\n",
    "    inputs=gr.Textbox(label=\"Enter your prompt:\"),\n",
    "    outputs=gr.Textbox(label=\"Azure AI answer:\"),\n",
    "    title=title,\n",
    "    description=image,\n",
    "    article=footnote,\n",
    "    examples=questions_list,\n",
    "    theme=theme,\n",
    ")\n",
    "\n",
    "\n",
    "# Launch the web app\n",
    "webapp.launch(share=True)"
   ]
  },
  {
   "cell_type": "markdown",
   "id": "3332db8d",
   "metadata": {},
   "source": [
    "## 7. Deleting the index"
   ]
  },
  {
   "cell_type": "markdown",
   "id": "084305ca",
   "metadata": {},
   "source": [
    "### Index status & size"
   ]
  },
  {
   "cell_type": "code",
   "execution_count": 47,
   "id": "712f5f89",
   "metadata": {},
   "outputs": [
    {
     "name": "stdout",
     "output_type": "stream",
     "text": [
      "Azure Cognitive Search index status for: index_06sep2024_104625\n",
      "\n",
      "\u001b[1;34m{\n",
      "  \"@odata.context\": \"https://azureaisearch-sr.search.windows.net/$metadata#Microsoft.Azure.Search.V2024_07_01.IndexStatistics\",\n",
      "  \"documentCount\": 17,\n",
      "  \"storageSize\": 609003,\n",
      "  \"vectorIndexSize\": 106464\n",
      "}\n"
     ]
    }
   ],
   "source": [
    "# Construct the request URL\n",
    "url = f\"{AZURE_AISEARCH_ENDPOINT}/indexes/{azure_aisearch_index_name}/stats?api-version=2024-07-01\"\n",
    "\n",
    "# Set the request headers\n",
    "headers = {\n",
    "    \"Content-Type\": \"application/json\",\n",
    "    \"api-key\": AZURE_AISEARCH_KEY,\n",
    "}\n",
    "\n",
    "# Make the GET request\n",
    "response = requests.get(url, headers=headers)\n",
    "print(f\"Azure Cognitive Search index status for: {azure_aisearch_index_name}\\n\")\n",
    "\n",
    "# Check the response status code\n",
    "if response.status_code == 200:\n",
    "    print(\"\\033[1;34m\", end=\"\")\n",
    "    data = response.json()\n",
    "    print(json.dumps(data, indent=2))\n",
    "\n",
    "else:\n",
    "    print(f\"Request failed with status code: {response.status_code}\")"
   ]
  },
  {
   "cell_type": "code",
   "execution_count": 48,
   "id": "6bc8cab1",
   "metadata": {},
   "outputs": [
    {
     "name": "stdout",
     "output_type": "stream",
     "text": [
      "\u001b[1;34mNumber of documents = 17\n",
      "Total storage of the index = 594.73 Kb\n"
     ]
    }
   ],
   "source": [
    "print(\"\\033[1;34m\", end=\"\")\n",
    "document_count = data['documentCount']\n",
    "storage_size = data['storageSize'] / 1024\n",
    "print(f\"Number of documents = {document_count}\\nTotal storage of the index = {storage_size:.2f} Kb\")"
   ]
  },
  {
   "cell_type": "markdown",
   "id": "59d69459",
   "metadata": {},
   "source": [
    "### Post Processing"
   ]
  },
  {
   "cell_type": "code",
   "execution_count": 42,
   "id": "bbf8280d",
   "metadata": {},
   "outputs": [],
   "source": [
    "search_client = SearchIndexClient(\n",
    "    endpoint=AZURE_AISEARCH_ENDPOINT,\n",
    "    credential=AzureKeyCredential(AZURE_AISEARCH_KEY),\n",
    ")"
   ]
  },
  {
   "cell_type": "code",
   "execution_count": 49,
   "id": "62be51f0",
   "metadata": {},
   "outputs": [],
   "source": [
    "# Deleting the index\n",
    "search_client.delete_index(azure_aisearch_index_name)"
   ]
  },
  {
   "cell_type": "code",
   "execution_count": null,
   "id": "6e5e9df0",
   "metadata": {},
   "outputs": [],
   "source": []
  }
 ],
 "metadata": {
  "kernelspec": {
   "display_name": "Python 3.10 - SDK v2",
   "language": "python",
   "name": "python310-sdkv2"
  },
  "language_info": {
   "codemirror_mode": {
    "name": "ipython",
    "version": 3
   },
   "file_extension": ".py",
   "mimetype": "text/x-python",
   "name": "python",
   "nbconvert_exporter": "python",
   "pygments_lexer": "ipython3",
   "version": "3.10.11"
  }
 },
 "nbformat": 4,
 "nbformat_minor": 5
}
