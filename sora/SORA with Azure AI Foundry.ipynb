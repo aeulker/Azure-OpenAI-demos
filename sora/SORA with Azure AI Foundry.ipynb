{
 "cells": [
  {
   "cell_type": "markdown",
   "id": "f292f216-448c-4304-8224-0cbf9a2022c9",
   "metadata": {},
   "source": [
    "# SORA with Azure AI Foundry\n",
    "> https://learn.microsoft.com/en-us/azure/ai-services/openai/concepts/video-generation"
   ]
  },
  {
   "cell_type": "code",
   "execution_count": 1,
   "id": "efafceee-6fbf-401d-bae8-824767771471",
   "metadata": {},
   "outputs": [],
   "source": [
    "import base64\n",
    "import datetime\n",
    "import os\n",
    "import requests\n",
    "import sys\n",
    "import time\n",
    "\n",
    "from dotenv import load_dotenv\n",
    "from IPython.display import Video, HTML\n",
    "from moviepy import *"
   ]
  },
  {
   "cell_type": "code",
   "execution_count": 2,
   "id": "029dd448-1591-4548-9e75-281d717a3062",
   "metadata": {},
   "outputs": [
    {
     "data": {
      "text/plain": [
       "'3.10.14 (main, May  6 2024, 19:42:50) [GCC 11.2.0]'"
      ]
     },
     "execution_count": 2,
     "metadata": {},
     "output_type": "execute_result"
    }
   ],
   "source": [
    "sys.version"
   ]
  },
  {
   "cell_type": "code",
   "execution_count": 3,
   "id": "cd844f89-064a-4146-97b0-8bff137f02f0",
   "metadata": {},
   "outputs": [
    {
     "name": "stdout",
     "output_type": "stream",
     "text": [
      "Today is 30-May-2025 14:22:23\n"
     ]
    }
   ],
   "source": [
    "print(f\"Today is {datetime.datetime.today().strftime('%d-%b-%Y %H:%M:%S')}\")"
   ]
  },
  {
   "cell_type": "code",
   "execution_count": 4,
   "id": "57c18b14-9a8a-4c60-87e6-1b557a964a01",
   "metadata": {},
   "outputs": [],
   "source": [
    "SORA_DIR = \"videos\"\n",
    "\n",
    "os.makedirs(SORA_DIR, exist_ok=True)"
   ]
  },
  {
   "cell_type": "code",
   "execution_count": 5,
   "id": "5143ddfb-603d-4cef-ad78-fefa7ed70c6a",
   "metadata": {},
   "outputs": [],
   "source": [
    "load_dotenv(\"azure.env\")\n",
    "\n",
    "endpoint = os.environ['AZURE_OPENAI_ENDPOINT']\n",
    "api_key = os.environ['AZURE_OPENAI_API_KEY']\n",
    "\n",
    "model = \"sora\""
   ]
  },
  {
   "cell_type": "markdown",
   "id": "e20797e2-8ca9-4f63-954f-2bfa1723b3be",
   "metadata": {},
   "source": [
    "# Function"
   ]
  },
  {
   "cell_type": "code",
   "execution_count": 6,
   "id": "e9688580-4ed4-4e58-b162-ca62613b5e8b",
   "metadata": {},
   "outputs": [],
   "source": [
    "def sora(prompt, width=480, height=480, n_seconds=5, n_variants=1):\n",
    "    \"\"\"\n",
    "    Generates a video based on the given prompt using the SORA model.\n",
    "\n",
    "    Parameters:\n",
    "    prompt (str): The text prompt to generate the video.\n",
    "    width (int): The width of the video. Supported values are 480, 854, 720, 1080, and 1920.\n",
    "    height (int): The height of the video. Supported values are 480, 854, 720, 1080, and 1920.\n",
    "    n_seconds (int): The duration of the video in seconds. Must be between 1 and 20 seconds.\n",
    "    n_variants (int): The number of video variants to generate.\n",
    "    \n",
    "    Returns:\n",
    "    str: The filename of the generated video.\n",
    "\n",
    "    Raises:\n",
    "    Exception: If the video generation job fails or no generations are found.\n",
    "    \"\"\"\n",
    "    start = time.time()\n",
    "\n",
    "    api_version = 'preview'\n",
    "    headers = {\"api-key\": api_key, \"Content-Type\": \"application/json\"}\n",
    "\n",
    "    idx = datetime.datetime.today().strftime('%d%b%Y_%H%M%S')\n",
    "    output_filename = os.path.join(SORA_DIR, f\"sora_{idx}.mp4\")\n",
    "\n",
    "    # 1. Create a video generation job\n",
    "    create_url = f\"{endpoint}/openai/v1/video/generations/jobs?api-version={api_version}\"\n",
    "    body = {\n",
    "        \"prompt\": prompt,\n",
    "        \"width\": width,  # 480x480, 480x854, 854x480, 720x720, 720x1280, 1280x720, 1080x1080, 1080x1920, 1920x1080.\n",
    "        \"height\": height,  # 480x480, 480x854, 854x480, 720x720, 720x1280, 1280x720, 1080x1080, 1080x1920, 1920x1080.\n",
    "        \"n_seconds\": n_seconds,  # between 1 and 20 seconds\n",
    "        \"n_variants\": n_variants,\n",
    "        \"model\": model,  # SORA model\n",
    "    }\n",
    "    response = requests.post(create_url, headers=headers, json=body)\n",
    "    response.raise_for_status()\n",
    "\n",
    "    now = datetime.datetime.today().strftime('%d-%b-%Y %H:%M:%S')\n",
    "    print(f\"{now} Full response JSON:\", response.json())\n",
    "    print()\n",
    "    \n",
    "    job_id = response.json()[\"id\"]\n",
    "    now = datetime.datetime.today().strftime('%d-%b-%Y %H:%M:%S')\n",
    "    print(f\"{now} Job created: {job_id}\")\n",
    "\n",
    "    # 2. Poll for job status\n",
    "    status_url = f\"{endpoint}/openai/v1/video/generations/jobs/{job_id}?api-version={api_version}\"\n",
    "    status = None\n",
    "\n",
    "    while status not in (\"succeeded\", \"failed\", \"cancelled\"):\n",
    "        time.sleep(5)  # Wait before polling again\n",
    "        status_response = requests.get(status_url, headers=headers).json()\n",
    "        status = status_response.get(\"status\")\n",
    "        now = datetime.datetime.today().strftime('%d-%b-%Y %H:%M:%S')\n",
    "        print(f\"{now} Job status: {status}\")\n",
    "\n",
    "    # 3. Retrieve generated video\n",
    "    if status == \"succeeded\":\n",
    "        generations = status_response.get(\"generations\", [])\n",
    "        \n",
    "        if generations:\n",
    "            now = datetime.datetime.today().strftime('%d-%b-%Y %H:%M:%S')\n",
    "            print(f\"\\n{now} ✅ Done. Video generation succeeded.\")\n",
    "            generation_id = generations[0].get(\"id\")\n",
    "            video_url = f\"{endpoint}/openai/v1/video/generations/{generation_id}/content/video?api-version={api_version}\"\n",
    "            video_response = requests.get(video_url, headers=headers)\n",
    "            \n",
    "            if video_response.ok:\n",
    "                # Downloading the video\n",
    "                with open(output_filename, \"wb\") as file:\n",
    "                    file.write(video_response.content)\n",
    "                    print(f\"\\nSORA Generated video saved: '{output_filename}'\")\n",
    "\n",
    "                elapsed = time.time() - start\n",
    "                minutes, seconds = divmod(elapsed, 60)\n",
    "                print(f\"Done in {minutes:.0f} minutes and {seconds:.0f} seconds\")\n",
    "                \n",
    "                return output_filename\n",
    "        else:\n",
    "            raise Exception(\"Error. No generations found in job result.\")\n",
    "    else:\n",
    "        raise Exception(f\"Error. Job did not succeed. Status: {status}\")"
   ]
  },
  {
   "cell_type": "markdown",
   "id": "b865643f-526e-409c-8ba8-9d8ee7a8ea46",
   "metadata": {},
   "source": [
    "## Examples"
   ]
  },
  {
   "cell_type": "code",
   "execution_count": 7,
   "id": "950e76ca-3c62-45cb-bfbe-de46f8acf1fd",
   "metadata": {},
   "outputs": [
    {
     "name": "stdout",
     "output_type": "stream",
     "text": [
      "30-May-2025 14:22:26 Full response JSON: {'object': 'video.generation.job', 'id': 'task_01jwgs57tyegk8s2648ywpjfcs', 'status': 'queued', 'created_at': 1748614946, 'finished_at': None, 'expires_at': None, 'generations': [], 'prompt': 'Young boy and his father playing together in the ocean on the beach', 'model': 'sora', 'n_variants': 1, 'n_seconds': 10, 'height': 480, 'width': 480, 'failure_reason': None}\n",
      "\n",
      "30-May-2025 14:22:26 Job created: task_01jwgs57tyegk8s2648ywpjfcs\n",
      "30-May-2025 14:22:32 Job status: queued\n",
      "30-May-2025 14:22:37 Job status: running\n",
      "30-May-2025 14:22:42 Job status: processing\n",
      "30-May-2025 14:22:48 Job status: processing\n",
      "30-May-2025 14:22:53 Job status: succeeded\n",
      "\n",
      "30-May-2025 14:22:53 ✅ Done. Video generation succeeded.\n",
      "\n",
      "SORA Generated video saved: 'videos/sora_30May2025_142226.mp4'\n",
      "Done in 0 minutes and 32 seconds\n"
     ]
    }
   ],
   "source": [
    "prompt = \"Young boy and his father playing together in the ocean on the beach\"\n",
    "\n",
    "generated_video = sora(prompt, width=480, height=480, n_seconds=10, n_variants=1)"
   ]
  },
  {
   "cell_type": "code",
   "execution_count": 9,
   "id": "5dd7d05f-5314-4bee-aab2-209d60adab1b",
   "metadata": {},
   "outputs": [
    {
     "data": {
      "text/html": [
       "\n",
       "<video controls>\n",
       "  <source src=\"videos/sora_30May2025_142226.mp4\" type=\"video/mp4\">\n",
       "</video>\n"
      ],
      "text/plain": [
       "<IPython.core.display.HTML object>"
      ]
     },
     "execution_count": 9,
     "metadata": {},
     "output_type": "execute_result"
    }
   ],
   "source": [
    "HTML(f\"\"\"\n",
    "<video controls>\n",
    "  <source src=\"{generated_video}\" type=\"video/mp4\">\n",
    "</video>\n",
    "\"\"\")"
   ]
  },
  {
   "cell_type": "code",
   "execution_count": 10,
   "id": "16a869c9-2a21-4141-9167-b504e28f9c3d",
   "metadata": {},
   "outputs": [
    {
     "name": "stdout",
     "output_type": "stream",
     "text": [
      "30-May-2025 14:24:31 Full response JSON: {'object': 'video.generation.job', 'id': 'task_01jwgs91njfb284aebdzabbfyd', 'status': 'queued', 'created_at': 1748615071, 'finished_at': None, 'expires_at': None, 'generations': [], 'prompt': \"An image of a realistic cloud that spells 'SORA with birds around'\", 'model': 'sora', 'n_variants': 1, 'n_seconds': 5, 'height': 480, 'width': 480, 'failure_reason': None}\n",
      "\n",
      "30-May-2025 14:24:31 Job created: task_01jwgs91njfb284aebdzabbfyd\n",
      "30-May-2025 14:24:36 Job status: running\n",
      "30-May-2025 14:24:42 Job status: running\n",
      "30-May-2025 14:24:47 Job status: succeeded\n",
      "\n",
      "30-May-2025 14:24:47 ✅ Done. Video generation succeeded.\n",
      "\n",
      "SORA Generated video saved: 'videos/sora_30May2025_142430.mp4'\n",
      "Done in 0 minutes and 19 seconds\n"
     ]
    }
   ],
   "source": [
    "prompt = \"An image of a realistic cloud that spells 'SORA with birds around'\"\n",
    "\n",
    "generated_video = sora(prompt, width=480, height=480, n_seconds=5, n_variants=1)"
   ]
  },
  {
   "cell_type": "code",
   "execution_count": 11,
   "id": "fd8a2d32-1a32-45f4-86e4-41379c79e6a2",
   "metadata": {},
   "outputs": [
    {
     "data": {
      "text/html": [
       "\n",
       "<video controls>\n",
       "  <source src=\"videos/sora_30May2025_142430.mp4\" type=\"video/mp4\">\n",
       "</video>\n"
      ],
      "text/plain": [
       "<IPython.core.display.HTML object>"
      ]
     },
     "execution_count": 11,
     "metadata": {},
     "output_type": "execute_result"
    }
   ],
   "source": [
    "HTML(f\"\"\"\n",
    "<video controls>\n",
    "  <source src=\"{generated_video}\" type=\"video/mp4\">\n",
    "</video>\n",
    "\"\"\")"
   ]
  },
  {
   "cell_type": "code",
   "execution_count": 12,
   "id": "5d6fdc78-666a-48f1-bc34-6d205853557f",
   "metadata": {},
   "outputs": [
    {
     "name": "stdout",
     "output_type": "stream",
     "text": [
      "30-May-2025 14:24:50 Full response JSON: {'object': 'video.generation.job', 'id': 'task_01jwgs9kz5fph9z9mggdzav227', 'status': 'queued', 'created_at': 1748615090, 'finished_at': None, 'expires_at': None, 'generations': [], 'prompt': 'Several giant wooly mammoths approach treading through a snowy meadow, their long wooly fur lightly blows in the wind as they walk, snow covered trees and dramatic snow capped mountains in the distance, mid afternoon light with wispy clouds and a sun high in the distance creates a warm glow, the low camera view is stunning capturing the large furry mammal with beautiful photography, depth of field.', 'model': 'sora', 'n_variants': 1, 'n_seconds': 10, 'height': 480, 'width': 480, 'failure_reason': None}\n",
      "\n",
      "30-May-2025 14:24:50 Job created: task_01jwgs9kz5fph9z9mggdzav227\n",
      "30-May-2025 14:24:55 Job status: preprocessing\n",
      "30-May-2025 14:25:01 Job status: running\n",
      "30-May-2025 14:25:06 Job status: running\n",
      "30-May-2025 14:25:12 Job status: processing\n",
      "30-May-2025 14:25:17 Job status: succeeded\n",
      "\n",
      "30-May-2025 14:25:17 ✅ Done. Video generation succeeded.\n",
      "\n",
      "SORA Generated video saved: 'videos/sora_30May2025_142449.mp4'\n",
      "Done in 0 minutes and 32 seconds\n"
     ]
    }
   ],
   "source": [
    "prompt = \"Several giant wooly mammoths approach treading through a snowy meadow, their long wooly fur lightly blows in the wind as they walk, snow covered trees and dramatic snow capped mountains in the distance, mid afternoon light with wispy clouds and a sun high in the distance creates a warm glow, the low camera view is stunning capturing the large furry mammal with beautiful photography, depth of field.\"\n",
    "\n",
    "generated_video = sora(prompt, width=480, height=480, n_seconds=10, n_variants=1)"
   ]
  },
  {
   "cell_type": "code",
   "execution_count": 13,
   "id": "7ee2ddc6-e664-49d5-93e3-388ba3febbd2",
   "metadata": {},
   "outputs": [
    {
     "data": {
      "text/html": [
       "\n",
       "<video controls>\n",
       "  <source src=\"videos/sora_30May2025_142449.mp4\" type=\"video/mp4\">\n",
       "</video>\n"
      ],
      "text/plain": [
       "<IPython.core.display.HTML object>"
      ]
     },
     "execution_count": 13,
     "metadata": {},
     "output_type": "execute_result"
    }
   ],
   "source": [
    "HTML(f\"\"\"\n",
    "<video controls>\n",
    "  <source src=\"{generated_video}\" type=\"video/mp4\">\n",
    "</video>\n",
    "\"\"\")"
   ]
  },
  {
   "cell_type": "code",
   "execution_count": 14,
   "id": "206e58c4-cd79-4181-82d3-b5bf770036e8",
   "metadata": {},
   "outputs": [
    {
     "name": "stdout",
     "output_type": "stream",
     "text": [
      "30-May-2025 14:25:21 Full response JSON: {'object': 'video.generation.job', 'id': 'task_01jwgsajy3e6nbrc6fb9f68qtv', 'status': 'queued', 'created_at': 1748615121, 'finished_at': None, 'expires_at': None, 'generations': [], 'prompt': 'A instructional cooking session for homemade gnocchi hosted by a grandmother social media influencer set in a rustic Tuscan country kitchen with cinematic lighting.', 'model': 'sora', 'n_variants': 1, 'n_seconds': 5, 'height': 480, 'width': 480, 'failure_reason': None}\n",
      "\n",
      "30-May-2025 14:25:21 Job created: task_01jwgsajy3e6nbrc6fb9f68qtv\n",
      "30-May-2025 14:25:27 Job status: queued\n",
      "30-May-2025 14:25:37 Job status: succeeded\n",
      "\n",
      "30-May-2025 14:25:37 ✅ Done. Video generation succeeded.\n",
      "\n",
      "SORA Generated video saved: 'videos/sora_30May2025_142521.mp4'\n",
      "Done in 0 minutes and 18 seconds\n"
     ]
    }
   ],
   "source": [
    "prompt = \"A instructional cooking session for homemade gnocchi hosted by a grandmother social media influencer set in a rustic Tuscan country kitchen with cinematic lighting.\"\n",
    "\n",
    "generated_video = sora(prompt, width=480, height=480, n_seconds=5, n_variants=1)"
   ]
  },
  {
   "cell_type": "code",
   "execution_count": 15,
   "id": "4484f16c-f315-4818-b5ae-9edf70a490e9",
   "metadata": {},
   "outputs": [
    {
     "data": {
      "text/html": [
       "\n",
       "<video controls>\n",
       "  <source src=\"videos/sora_30May2025_142521.mp4\" type=\"video/mp4\">\n",
       "</video>\n"
      ],
      "text/plain": [
       "<IPython.core.display.HTML object>"
      ]
     },
     "execution_count": 15,
     "metadata": {},
     "output_type": "execute_result"
    }
   ],
   "source": [
    "HTML(f\"\"\"\n",
    "<video controls>\n",
    "  <source src=\"{generated_video}\" type=\"video/mp4\">\n",
    "</video>\n",
    "\"\"\")"
   ]
  },
  {
   "cell_type": "code",
   "execution_count": 16,
   "id": "1cecc171-a9af-4959-944f-22ee65afa102",
   "metadata": {},
   "outputs": [
    {
     "name": "stdout",
     "output_type": "stream",
     "text": [
      "30-May-2025 14:25:40 Full response JSON: {'object': 'video.generation.job', 'id': 'task_01jwgsb4spfez8zbbw7fzpkrrr', 'status': 'queued', 'created_at': 1748615140, 'finished_at': None, 'expires_at': None, 'generations': [], 'prompt': 'A futuristic soldier stands on the deck of a massive starship, gazing out at a galaxy filled with colorful nebulae and distant stars. She wears sleek metallic armor with glowing blue accents. In her hand, she holds a plasma rifle. The background features a bustling crew and holographic displays. The atmosphere is tense yet awe-inspiring, capturing the grandeur of space exploration. Shot in high contrast, with vivid colors and a wide-angle lens.', 'model': 'sora', 'n_variants': 1, 'n_seconds': 15, 'height': 480, 'width': 480, 'failure_reason': None}\n",
      "\n",
      "30-May-2025 14:25:40 Job created: task_01jwgsb4spfez8zbbw7fzpkrrr\n",
      "30-May-2025 14:25:45 Job status: preprocessing\n",
      "30-May-2025 14:25:51 Job status: preprocessing\n",
      "30-May-2025 14:25:56 Job status: running\n",
      "30-May-2025 14:26:01 Job status: running\n",
      "30-May-2025 14:26:07 Job status: processing\n",
      "30-May-2025 14:26:12 Job status: succeeded\n",
      "\n",
      "30-May-2025 14:26:12 ✅ Done. Video generation succeeded.\n",
      "\n",
      "SORA Generated video saved: 'videos/sora_30May2025_142539.mp4'\n",
      "Done in 0 minutes and 38 seconds\n"
     ]
    }
   ],
   "source": [
    "prompt = \"A futuristic soldier stands on the deck of a massive starship, gazing out at a galaxy filled with colorful nebulae and distant stars. She wears sleek metallic armor with glowing blue accents. In her hand, she holds a plasma rifle. The background features a bustling crew and holographic displays. The atmosphere is tense yet awe-inspiring, capturing the grandeur of space exploration. Shot in high contrast, with vivid colors and a wide-angle lens.\"\n",
    "\n",
    "generated_video = sora(prompt, width=480, height=480, n_seconds=15, n_variants=1)"
   ]
  },
  {
   "cell_type": "code",
   "execution_count": 17,
   "id": "1323ee6b-b101-479b-8f7c-dd5786f83316",
   "metadata": {},
   "outputs": [
    {
     "data": {
      "text/html": [
       "\n",
       "<video controls>\n",
       "  <source src=\"videos/sora_30May2025_142539.mp4\" type=\"video/mp4\">\n",
       "</video>\n"
      ],
      "text/plain": [
       "<IPython.core.display.HTML object>"
      ]
     },
     "execution_count": 17,
     "metadata": {},
     "output_type": "execute_result"
    }
   ],
   "source": [
    "HTML(f\"\"\"\n",
    "<video controls>\n",
    "  <source src=\"{generated_video}\" type=\"video/mp4\">\n",
    "</video>\n",
    "\"\"\")"
   ]
  },
  {
   "cell_type": "code",
   "execution_count": 18,
   "id": "7afe41db-1f50-4d56-a365-bacf5796dd24",
   "metadata": {},
   "outputs": [
    {
     "name": "stdout",
     "output_type": "stream",
     "text": [
      "30-May-2025 14:26:18 Full response JSON: {'object': 'video.generation.job', 'id': 'task_01jwgsc9v5ex5vx8jf4fb5bnge', 'status': 'queued', 'created_at': 1748615178, 'finished_at': None, 'expires_at': None, 'generations': [], 'prompt': 'A young wizard with a pointy hat and a glowing wand stands in a magical forest. His robes are embroidered with golden stars, and his round glasses reflect the soft glow of fireflies. In the background, a sparkling waterfall cascades into a crystal-clear pond surrounded by glowing mushrooms. The atmosphere is enchanting and playful, evoking a sense of wonder. Shot in warm, vibrant tones, with a shallow depth of field.', 'model': 'sora', 'n_variants': 1, 'n_seconds': 5, 'height': 480, 'width': 480, 'failure_reason': None}\n",
      "\n",
      "30-May-2025 14:26:18 Job created: task_01jwgsc9v5ex5vx8jf4fb5bnge\n",
      "30-May-2025 14:26:23 Job status: preprocessing\n",
      "30-May-2025 14:26:28 Job status: preprocessing\n",
      "30-May-2025 14:26:34 Job status: running\n",
      "30-May-2025 14:26:39 Job status: processing\n",
      "30-May-2025 14:26:45 Job status: succeeded\n",
      "\n",
      "30-May-2025 14:26:45 ✅ Done. Video generation succeeded.\n",
      "\n",
      "SORA Generated video saved: 'videos/sora_30May2025_142617.mp4'\n",
      "Done in 0 minutes and 30 seconds\n"
     ]
    }
   ],
   "source": [
    "prompt = \"A young wizard with a pointy hat and a glowing wand stands in a magical forest. His robes are embroidered with golden stars, and his round glasses reflect the soft glow of fireflies. In the background, a sparkling waterfall cascades into a crystal-clear pond surrounded by glowing mushrooms. The atmosphere is enchanting and playful, evoking a sense of wonder. Shot in warm, vibrant tones, with a shallow depth of field.\"\n",
    "\n",
    "generated_video = sora(prompt, width=480, height=480, n_seconds=5, n_variants=1)"
   ]
  },
  {
   "cell_type": "code",
   "execution_count": 19,
   "id": "c3c03961-ed3e-4a3c-9193-581c145fac0a",
   "metadata": {},
   "outputs": [
    {
     "data": {
      "text/html": [
       "\n",
       "<video controls>\n",
       "  <source src=\"videos/sora_30May2025_142617.mp4\" type=\"video/mp4\">\n",
       "</video>\n"
      ],
      "text/plain": [
       "<IPython.core.display.HTML object>"
      ]
     },
     "execution_count": 19,
     "metadata": {},
     "output_type": "execute_result"
    }
   ],
   "source": [
    "HTML(f\"\"\"\n",
    "<video controls>\n",
    "  <source src=\"{generated_video}\" type=\"video/mp4\">\n",
    "</video>\n",
    "\"\"\")"
   ]
  },
  {
   "cell_type": "code",
   "execution_count": 20,
   "id": "2598dd4e-db78-4ef1-9e7c-e9d6c6ad5386",
   "metadata": {},
   "outputs": [
    {
     "name": "stdout",
     "output_type": "stream",
     "text": [
      "30-May-2025 14:26:47 Full response JSON: {'object': 'video.generation.job', 'id': 'task_01jwgsd6znf4abbaaq81jdd33e', 'status': 'queued', 'created_at': 1748615207, 'finished_at': None, 'expires_at': None, 'generations': [], 'prompt': 'Drone view of waves crashing against the rugged cliffs along Big Sur’s garay point beach. The crashing blue waters create white-tipped waves, while the golden light of the setting sun illuminates the rocky shore. A small island with a lighthouse sits in the distance, and green shrubbery covers the cliff’s edge. The steep drop from the road down to the beach is a dramatic feat, with the cliff’s edges jutting out over the sea. This is a view that captures the raw beauty of the coast and the rugged landscape of the Pacific Coast Highway.', 'model': 'sora', 'n_variants': 1, 'n_seconds': 20, 'height': 480, 'width': 480, 'failure_reason': None}\n",
      "\n",
      "30-May-2025 14:26:47 Job created: task_01jwgsd6znf4abbaaq81jdd33e\n",
      "30-May-2025 14:26:53 Job status: preprocessing\n",
      "30-May-2025 14:26:58 Job status: running\n",
      "30-May-2025 14:27:04 Job status: running\n",
      "30-May-2025 14:27:09 Job status: running\n",
      "30-May-2025 14:27:15 Job status: processing\n",
      "30-May-2025 14:27:20 Job status: succeeded\n",
      "\n",
      "30-May-2025 14:27:20 ✅ Done. Video generation succeeded.\n",
      "\n",
      "SORA Generated video saved: 'videos/sora_30May2025_142647.mp4'\n",
      "Done in 0 minutes and 40 seconds\n"
     ]
    }
   ],
   "source": [
    "prompt = \"Drone view of waves crashing against the rugged cliffs along Big Sur’s garay point beach. The crashing blue waters create white-tipped waves, while the golden light of the setting sun illuminates the rocky shore. A small island with a lighthouse sits in the distance, and green shrubbery covers the cliff’s edge. The steep drop from the road down to the beach is a dramatic feat, with the cliff’s edges jutting out over the sea. This is a view that captures the raw beauty of the coast and the rugged landscape of the Pacific Coast Highway.\"\n",
    "\n",
    "generated_video = sora(prompt, width=480, height=480, n_seconds=20, n_variants=1)"
   ]
  },
  {
   "cell_type": "code",
   "execution_count": 21,
   "id": "771bb959-f85d-4fd3-a647-83fc31e6ad40",
   "metadata": {},
   "outputs": [
    {
     "data": {
      "text/html": [
       "\n",
       "<video controls>\n",
       "  <source src=\"videos/sora_30May2025_142647.mp4\" type=\"video/mp4\">\n",
       "</video>\n"
      ],
      "text/plain": [
       "<IPython.core.display.HTML object>"
      ]
     },
     "execution_count": 21,
     "metadata": {},
     "output_type": "execute_result"
    }
   ],
   "source": [
    "HTML(f\"\"\"\n",
    "<video controls>\n",
    "  <source src=\"{generated_video}\" type=\"video/mp4\">\n",
    "</video>\n",
    "\"\"\")"
   ]
  },
  {
   "cell_type": "code",
   "execution_count": 22,
   "id": "3d03dc68-833b-47e2-ab0f-8a57c33c9550",
   "metadata": {},
   "outputs": [
    {
     "name": "stdout",
     "output_type": "stream",
     "text": [
      "30-May-2025 14:27:28 Full response JSON: {'object': 'video.generation.job', 'id': 'task_01jwgsee3gefmar8vsdcdje3z9', 'status': 'queued', 'created_at': 1748615247, 'finished_at': None, 'expires_at': None, 'generations': [], 'prompt': 'An extreme close-up of an gray-haired man with a beard in his 60s, he is deep in thought pondering the history of the universe as he sits at a cafe in Paris, his eyes focus on people offscreen as they walk as he sits mostly motionless, he is dressed in a wool coat suit coat with a button-down shirt , he wears a brown beret and glasses and has a very professorial appearance, and the end he offers a subtle closed-mouth smile as if he found the answer to the mystery of life, the lighting is very cinematic with the golden light and the Parisian streets and city in the background, depth of field, cinematic 35mm film.', 'model': 'sora', 'n_variants': 1, 'n_seconds': 10, 'height': 480, 'width': 480, 'failure_reason': None}\n",
      "\n",
      "30-May-2025 14:27:28 Job created: task_01jwgsee3gefmar8vsdcdje3z9\n",
      "30-May-2025 14:27:33 Job status: queued\n",
      "30-May-2025 14:27:38 Job status: running\n",
      "30-May-2025 14:27:44 Job status: processing\n",
      "30-May-2025 14:27:49 Job status: succeeded\n",
      "\n",
      "30-May-2025 14:27:49 ✅ Done. Video generation succeeded.\n",
      "\n",
      "SORA Generated video saved: 'videos/sora_30May2025_142727.mp4'\n",
      "Done in 0 minutes and 25 seconds\n"
     ]
    }
   ],
   "source": [
    "prompt = \"An extreme close-up of an gray-haired man with a beard in his 60s, he is deep in thought pondering the history of the universe as he sits at a cafe in Paris, his eyes focus on people offscreen as they walk as he sits mostly motionless, he is dressed in a wool coat suit coat with a button-down shirt , he wears a brown beret and glasses and has a very professorial appearance, and the end he offers a subtle closed-mouth smile as if he found the answer to the mystery of life, the lighting is very cinematic with the golden light and the Parisian streets and city in the background, depth of field, cinematic 35mm film.\"\n",
    "\n",
    "generated_video = sora(prompt, width=480, height=480, n_seconds=10, n_variants=1)"
   ]
  },
  {
   "cell_type": "code",
   "execution_count": 23,
   "id": "8b34bd19-1227-4fbd-a7dc-255a91bfa674",
   "metadata": {},
   "outputs": [
    {
     "data": {
      "text/html": [
       "\n",
       "<video controls>\n",
       "  <source src=\"videos/sora_30May2025_142727.mp4\" type=\"video/mp4\">\n",
       "</video>\n"
      ],
      "text/plain": [
       "<IPython.core.display.HTML object>"
      ]
     },
     "execution_count": 23,
     "metadata": {},
     "output_type": "execute_result"
    }
   ],
   "source": [
    "HTML(f\"\"\"\n",
    "<video controls>\n",
    "  <source src=\"{generated_video}\" type=\"video/mp4\">\n",
    "</video>\n",
    "\"\"\")"
   ]
  },
  {
   "cell_type": "markdown",
   "id": "57ac98e4-b5db-4a29-9e16-05361a01c6f2",
   "metadata": {},
   "source": [
    "## All SORA videos"
   ]
  },
  {
   "cell_type": "code",
   "execution_count": 24,
   "id": "c48bde55-aabd-4af4-96b6-0eacf3a76571",
   "metadata": {},
   "outputs": [
    {
     "name": "stdout",
     "output_type": "stream",
     "text": [
      "total 40M\n",
      "-rwxrwxrwx 1 root root 6.6M May 30 14:22 sora_30May2025_142226.mp4\n",
      "-rwxrwxrwx 1 root root 2.1M May 30 14:24 sora_30May2025_142430.mp4\n",
      "-rwxrwxrwx 1 root root 4.8M May 30 14:25 sora_30May2025_142449.mp4\n",
      "-rwxrwxrwx 1 root root 2.0M May 30 14:25 sora_30May2025_142521.mp4\n",
      "-rwxrwxrwx 1 root root 7.5M May 30 14:26 sora_30May2025_142539.mp4\n",
      "-rwxrwxrwx 1 root root 1.9M May 30 14:26 sora_30May2025_142617.mp4\n",
      "-rwxrwxrwx 1 root root  11M May 30 14:27 sora_30May2025_142647.mp4\n",
      "-rwxrwxrwx 1 root root 4.2M May 30 14:27 sora_30May2025_142727.mp4\n"
     ]
    }
   ],
   "source": [
    "!ls $SORA_DIR -lh"
   ]
  },
  {
   "cell_type": "code",
   "execution_count": 25,
   "id": "3d6b414f-39bb-4569-b0c5-6b1fe148f9e8",
   "metadata": {},
   "outputs": [
    {
     "name": "stdout",
     "output_type": "stream",
     "text": [
      "{'video_found': True, 'audio_found': False, 'metadata': {'major_brand': 'isom', 'minor_version': '512', 'compatible_brands': 'isomiso2avc1mp41', 'encoder': 'Lavf60.16.100'}, 'inputs': [{'streams': [{'input_number': 0, 'stream_number': 0, 'stream_type': 'video', 'language': None, 'default': True, 'size': [480, 480], 'bitrate': 5523, 'fps': 30.0, 'codec_name': 'h264', 'profile': '(High)', 'metadata': {'Metadata': '', 'handler_name': 'VideoHandler', 'vendor_id': '[0][0][0][0]', 'encoder': 'Lavc60.31.102 libx264'}}], 'input_number': 0}], 'duration': 10.0, 'bitrate': 5532, 'start': 0.0, 'default_video_input_number': 0, 'default_video_stream_number': 0, 'video_codec_name': 'h264', 'video_profile': '(High)', 'video_size': [480, 480], 'video_bitrate': 5523, 'video_fps': 30.0, 'video_duration': 10.0, 'video_n_frames': 300}\n",
      "/anaconda/envs/azureml_py310_sdkv2/lib/python3.10/site-packages/imageio_ffmpeg/binaries/ffmpeg-linux-x86_64-v7.0.2 -i videos/sora_30May2025_142226.mp4 -loglevel error -f image2pipe -vf scale=480:480 -sws_flags bicubic -pix_fmt rgb24 -vcodec rawvideo -\n",
      "{'video_found': True, 'audio_found': False, 'metadata': {'major_brand': 'isom', 'minor_version': '512', 'compatible_brands': 'isomiso2avc1mp41', 'encoder': 'Lavf60.16.100'}, 'inputs': [{'streams': [{'input_number': 0, 'stream_number': 0, 'stream_type': 'video', 'language': None, 'default': True, 'size': [480, 480], 'bitrate': 3430, 'fps': 30.0, 'codec_name': 'h264', 'profile': '(High)', 'metadata': {'Metadata': '', 'handler_name': 'VideoHandler', 'vendor_id': '[0][0][0][0]', 'encoder': 'Lavc60.31.102 libx264'}}], 'input_number': 0}], 'duration': 5.0, 'bitrate': 3444, 'start': 0.0, 'default_video_input_number': 0, 'default_video_stream_number': 0, 'video_codec_name': 'h264', 'video_profile': '(High)', 'video_size': [480, 480], 'video_bitrate': 3430, 'video_fps': 30.0, 'video_duration': 5.0, 'video_n_frames': 150}\n",
      "/anaconda/envs/azureml_py310_sdkv2/lib/python3.10/site-packages/imageio_ffmpeg/binaries/ffmpeg-linux-x86_64-v7.0.2 -i videos/sora_30May2025_142430.mp4 -loglevel error -f image2pipe -vf scale=480:480 -sws_flags bicubic -pix_fmt rgb24 -vcodec rawvideo -\n",
      "{'video_found': True, 'audio_found': False, 'metadata': {'major_brand': 'isom', 'minor_version': '512', 'compatible_brands': 'isomiso2avc1mp41', 'encoder': 'Lavf60.16.100'}, 'inputs': [{'streams': [{'input_number': 0, 'stream_number': 0, 'stream_type': 'video', 'language': None, 'default': True, 'size': [480, 480], 'bitrate': 3936, 'fps': 30.0, 'codec_name': 'h264', 'profile': '(High)', 'metadata': {'Metadata': '', 'handler_name': 'VideoHandler', 'vendor_id': '[0][0][0][0]', 'encoder': 'Lavc60.31.102 libx264'}}], 'input_number': 0}], 'duration': 10.0, 'bitrate': 3944, 'start': 0.0, 'default_video_input_number': 0, 'default_video_stream_number': 0, 'video_codec_name': 'h264', 'video_profile': '(High)', 'video_size': [480, 480], 'video_bitrate': 3936, 'video_fps': 30.0, 'video_duration': 10.0, 'video_n_frames': 300}\n",
      "/anaconda/envs/azureml_py310_sdkv2/lib/python3.10/site-packages/imageio_ffmpeg/binaries/ffmpeg-linux-x86_64-v7.0.2 -i videos/sora_30May2025_142449.mp4 -loglevel error -f image2pipe -vf scale=480:480 -sws_flags bicubic -pix_fmt rgb24 -vcodec rawvideo -\n",
      "{'video_found': True, 'audio_found': False, 'metadata': {'major_brand': 'isom', 'minor_version': '512', 'compatible_brands': 'isomiso2avc1mp41', 'encoder': 'Lavf60.16.100'}, 'inputs': [{'streams': [{'input_number': 0, 'stream_number': 0, 'stream_type': 'video', 'language': None, 'default': True, 'size': [480, 480], 'bitrate': 3290, 'fps': 30.0, 'codec_name': 'h264', 'profile': '(High)', 'metadata': {'Metadata': '', 'handler_name': 'VideoHandler', 'vendor_id': '[0][0][0][0]', 'encoder': 'Lavc60.31.102 libx264'}}], 'input_number': 0}], 'duration': 5.0, 'bitrate': 3305, 'start': 0.0, 'default_video_input_number': 0, 'default_video_stream_number': 0, 'video_codec_name': 'h264', 'video_profile': '(High)', 'video_size': [480, 480], 'video_bitrate': 3290, 'video_fps': 30.0, 'video_duration': 5.0, 'video_n_frames': 150}\n",
      "/anaconda/envs/azureml_py310_sdkv2/lib/python3.10/site-packages/imageio_ffmpeg/binaries/ffmpeg-linux-x86_64-v7.0.2 -i videos/sora_30May2025_142521.mp4 -loglevel error -f image2pipe -vf scale=480:480 -sws_flags bicubic -pix_fmt rgb24 -vcodec rawvideo -\n",
      "{'video_found': True, 'audio_found': False, 'metadata': {'major_brand': 'isom', 'minor_version': '512', 'compatible_brands': 'isomiso2avc1mp41', 'encoder': 'Lavf60.16.100'}, 'inputs': [{'streams': [{'input_number': 0, 'stream_number': 0, 'stream_type': 'video', 'language': None, 'default': True, 'size': [480, 480], 'bitrate': 4137, 'fps': 30.0, 'codec_name': 'h264', 'profile': '(High)', 'metadata': {'Metadata': '', 'handler_name': 'VideoHandler', 'vendor_id': '[0][0][0][0]', 'encoder': 'Lavc60.31.102 libx264'}}], 'input_number': 0}], 'duration': 15.0, 'bitrate': 4144, 'start': 0.0, 'default_video_input_number': 0, 'default_video_stream_number': 0, 'video_codec_name': 'h264', 'video_profile': '(High)', 'video_size': [480, 480], 'video_bitrate': 4137, 'video_fps': 30.0, 'video_duration': 15.0, 'video_n_frames': 450}\n",
      "/anaconda/envs/azureml_py310_sdkv2/lib/python3.10/site-packages/imageio_ffmpeg/binaries/ffmpeg-linux-x86_64-v7.0.2 -i videos/sora_30May2025_142539.mp4 -loglevel error -f image2pipe -vf scale=480:480 -sws_flags bicubic -pix_fmt rgb24 -vcodec rawvideo -\n",
      "{'video_found': True, 'audio_found': False, 'metadata': {'major_brand': 'isom', 'minor_version': '512', 'compatible_brands': 'isomiso2avc1mp41', 'encoder': 'Lavf60.16.100'}, 'inputs': [{'streams': [{'input_number': 0, 'stream_number': 0, 'stream_type': 'video', 'language': None, 'default': True, 'size': [480, 480], 'bitrate': 3131, 'fps': 30.0, 'codec_name': 'h264', 'profile': '(High)', 'metadata': {'Metadata': '', 'handler_name': 'VideoHandler', 'vendor_id': '[0][0][0][0]', 'encoder': 'Lavc60.31.102 libx264'}}], 'input_number': 0}], 'duration': 5.0, 'bitrate': 3145, 'start': 0.0, 'default_video_input_number': 0, 'default_video_stream_number': 0, 'video_codec_name': 'h264', 'video_profile': '(High)', 'video_size': [480, 480], 'video_bitrate': 3131, 'video_fps': 30.0, 'video_duration': 5.0, 'video_n_frames': 150}\n",
      "/anaconda/envs/azureml_py310_sdkv2/lib/python3.10/site-packages/imageio_ffmpeg/binaries/ffmpeg-linux-x86_64-v7.0.2 -i videos/sora_30May2025_142617.mp4 -loglevel error -f image2pipe -vf scale=480:480 -sws_flags bicubic -pix_fmt rgb24 -vcodec rawvideo -\n",
      "{'video_found': True, 'audio_found': False, 'metadata': {'major_brand': 'isom', 'minor_version': '512', 'compatible_brands': 'isomiso2avc1mp41', 'encoder': 'Lavf60.16.100'}, 'inputs': [{'streams': [{'input_number': 0, 'stream_number': 0, 'stream_type': 'video', 'language': None, 'default': True, 'size': [480, 480], 'bitrate': 4461, 'fps': 30.0, 'codec_name': 'h264', 'profile': '(High)', 'metadata': {'Metadata': '', 'handler_name': 'VideoHandler', 'vendor_id': '[0][0][0][0]', 'encoder': 'Lavc60.31.102 libx264'}}], 'input_number': 0}], 'duration': 20.0, 'bitrate': 4466, 'start': 0.0, 'default_video_input_number': 0, 'default_video_stream_number': 0, 'video_codec_name': 'h264', 'video_profile': '(High)', 'video_size': [480, 480], 'video_bitrate': 4461, 'video_fps': 30.0, 'video_duration': 20.0, 'video_n_frames': 600}\n",
      "/anaconda/envs/azureml_py310_sdkv2/lib/python3.10/site-packages/imageio_ffmpeg/binaries/ffmpeg-linux-x86_64-v7.0.2 -i videos/sora_30May2025_142647.mp4 -loglevel error -f image2pipe -vf scale=480:480 -sws_flags bicubic -pix_fmt rgb24 -vcodec rawvideo -\n",
      "{'video_found': True, 'audio_found': False, 'metadata': {'major_brand': 'isom', 'minor_version': '512', 'compatible_brands': 'isomiso2avc1mp41', 'encoder': 'Lavf60.16.100'}, 'inputs': [{'streams': [{'input_number': 0, 'stream_number': 0, 'stream_type': 'video', 'language': None, 'default': True, 'size': [480, 480], 'bitrate': 3462, 'fps': 30.0, 'codec_name': 'h264', 'profile': '(High)', 'metadata': {'Metadata': '', 'handler_name': 'VideoHandler', 'vendor_id': '[0][0][0][0]', 'encoder': 'Lavc60.31.102 libx264'}}], 'input_number': 0}], 'duration': 10.0, 'bitrate': 3471, 'start': 0.0, 'default_video_input_number': 0, 'default_video_stream_number': 0, 'video_codec_name': 'h264', 'video_profile': '(High)', 'video_size': [480, 480], 'video_bitrate': 3462, 'video_fps': 30.0, 'video_duration': 10.0, 'video_n_frames': 300}\n",
      "/anaconda/envs/azureml_py310_sdkv2/lib/python3.10/site-packages/imageio_ffmpeg/binaries/ffmpeg-linux-x86_64-v7.0.2 -i videos/sora_30May2025_142727.mp4 -loglevel error -f image2pipe -vf scale=480:480 -sws_flags bicubic -pix_fmt rgb24 -vcodec rawvideo -\n",
      "MoviePy - Building video all_sora_videos.mp4.\n",
      "MoviePy - Writing video all_sora_videos.mp4\n",
      "\n"
     ]
    },
    {
     "name": "stderr",
     "output_type": "stream",
     "text": [
      "                                                                          \r"
     ]
    },
    {
     "name": "stdout",
     "output_type": "stream",
     "text": [
      "MoviePy - Done !\n",
      "MoviePy - video ready all_sora_videos.mp4\n"
     ]
    }
   ],
   "source": [
    "sora_video_files = [os.path.join(SORA_DIR, f)\n",
    "               for f in sorted(os.listdir(SORA_DIR))\n",
    "               if f.lower().endswith(('.mp4'))]\n",
    "\n",
    "clips = [VideoFileClip(f) for f in sora_video_files]\n",
    "final_clip = concatenate_videoclips(clips, method=\"compose\")\n",
    "\n",
    "final_clip.write_videofile(\"all_sora_videos.mp4\", codec=\"libx264\", audio_codec=\"aac\")"
   ]
  },
  {
   "cell_type": "code",
   "execution_count": 26,
   "id": "1c77296f-051d-4d0e-89cb-22f60bbf1830",
   "metadata": {},
   "outputs": [
    {
     "data": {
      "text/html": [
       "\n",
       "<video controls>\n",
       "  <source src=\"all_sora_videos.mp4\" type=\"video/mp4\">\n",
       "</video>\n"
      ],
      "text/plain": [
       "<IPython.core.display.HTML object>"
      ]
     },
     "execution_count": 26,
     "metadata": {},
     "output_type": "execute_result"
    }
   ],
   "source": [
    "HTML(f\"\"\"\n",
    "<video controls>\n",
    "  <source src=\"all_sora_videos.mp4\" type=\"video/mp4\">\n",
    "</video>\n",
    "\"\"\")"
   ]
  },
  {
   "cell_type": "code",
   "execution_count": null,
   "id": "fa5db654-610a-4e82-8d08-63f2774b10d5",
   "metadata": {},
   "outputs": [],
   "source": []
  },
  {
   "cell_type": "code",
   "execution_count": null,
   "id": "21876621-5cce-49f8-9f67-5579ecf12a2f",
   "metadata": {},
   "outputs": [],
   "source": []
  }
 ],
 "metadata": {
  "kernelspec": {
   "display_name": "Python 3.10 - SDK v2",
   "language": "python",
   "name": "python310-sdkv2"
  },
  "language_info": {
   "codemirror_mode": {
    "name": "ipython",
    "version": 3
   },
   "file_extension": ".py",
   "mimetype": "text/x-python",
   "name": "python",
   "nbconvert_exporter": "python",
   "pygments_lexer": "ipython3",
   "version": "3.10.14"
  },
  "varInspector": {
   "cols": {
    "lenName": 16,
    "lenType": 16,
    "lenVar": 40
   },
   "kernels_config": {
    "python": {
     "delete_cmd_postfix": "",
     "delete_cmd_prefix": "del ",
     "library": "var_list.py",
     "varRefreshCmd": "print(var_dic_list())"
    },
    "r": {
     "delete_cmd_postfix": ") ",
     "delete_cmd_prefix": "rm(",
     "library": "var_list.r",
     "varRefreshCmd": "cat(var_dic_list()) "
    }
   },
   "types_to_exclude": [
    "module",
    "function",
    "builtin_function_or_method",
    "instance",
    "_Feature"
   ],
   "window_display": false
  }
 },
 "nbformat": 4,
 "nbformat_minor": 5
}
